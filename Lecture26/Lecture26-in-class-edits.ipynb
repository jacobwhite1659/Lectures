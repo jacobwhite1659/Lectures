{
 "cells": [
  {
   "cell_type": "markdown",
   "metadata": {
    "slideshow": {
     "slide_type": "slide"
    }
   },
   "source": [
    "# Lecture 26 \n",
    "- System of Linear Equations\n",
    "- Row Echelon Form\n",
    "- Gauss-Jordan Elimination"
   ]
  },
  {
   "cell_type": "markdown",
   "metadata": {},
   "source": [
    "--------"
   ]
  },
  {
   "cell_type": "markdown",
   "metadata": {
    "slideshow": {
     "slide_type": "slide"
    }
   },
   "source": [
    "# Recap: Matrices and Linear Equations"
   ]
  },
  {
   "cell_type": "markdown",
   "metadata": {
    "slideshow": {
     "slide_type": "subslide"
    }
   },
   "source": [
    "We can use matrices and vectors to concisely express systems of linear equations **and to efficiently solve them**.\n",
    "\n",
    "We begin by defining **vector-vector functions**.\n",
    "\n",
    "The notation \n",
    "\n",
    "\\begin{align*}\n",
    "\\mathbf{f}: \\mathbb{R}^n \\rightarrow \\mathbb{R}^m\n",
    "\\end{align*}\n",
    "\n",
    "means that $\\mathbf{f}$ is a function that takes a $n$-vector as input and produces an $m$-vector as output.\n",
    "\n",
    "One special case is the matrix-vector multiplication function:\n",
    "\n",
    "\\begin{align*}\n",
    "\\mathbf{f}(\\mathbf{x}) = \\mathbf{Ax},\n",
    "\\end{align*}\n",
    "\n",
    "where $\\mathbf{A}$ is a $m \\times n$ matrix."
   ]
  },
  {
   "cell_type": "markdown",
   "metadata": {
    "slideshow": {
     "slide_type": "subslide"
    }
   },
   "source": [
    "<div class=\"alert alert-info\">\n",
    "    \n",
    "As usual, the vector-vector function $\\mathbf{f}(\\mathbf{x})$ is **linear** if it satisfies the **superposition property**:\n",
    "\n",
    "\\begin{align*}\n",
    "\\mathbf{f} \\left( \\alpha \\mathbf{x} + \\beta \\mathbf{y} \\right) = \\alpha \\mathbf{f} \\left(  \\mathbf{x}\\right) \n",
    "+ \\beta\\mathbf{f} \\left( \\mathbf{y} \\right)\n",
    "\\end{align*}\n",
    "</div>"
   ]
  },
  {
   "cell_type": "markdown",
   "metadata": {
    "slideshow": {
     "slide_type": "subslide"
    }
   },
   "source": [
    "<div class=\"alert alert-info\">\n",
    "In fact, if $\\mathbf{f}: \\mathbb{R}^n \\rightarrow \\mathbb{R}^m$ is linear, then $\\mathbf{f}$ can be written as $\\mathbf{f}(\\mathbf{x}) = \\mathbf{Ax}$, where $\\mathbf{A}$ is unique. \n",
    "</div>"
   ]
  },
  {
   "cell_type": "markdown",
   "metadata": {
    "slideshow": {
     "slide_type": "slide"
    }
   },
   "source": [
    "### Affine Functions"
   ]
  },
  {
   "cell_type": "markdown",
   "metadata": {
    "slideshow": {
     "slide_type": "subslide"
    }
   },
   "source": [
    "<div class=\"alert alert-info\">\n",
    "    <b>Affine Function</b>\n",
    "            \n",
    "A vector-function is **affine** if $\\mathbf{f}(\\mathbf{x}) = \\mathbf{Ax} + \\mathbf{b}$, where $\\mathbf{A}$ is a $m \\times n$ matrix and $b$ is an $m$-vector.\n",
    "    \n",
    "We define this linear matrix-vector multiplication function as \n",
    "\n",
    "\\begin{align*}\n",
    "\\mathbf{f}: \\mathbb{R}^n &\\longrightarrow \\mathbb{R}^m \\\\\n",
    "\\mathbf{x} &\\longmapsto \\mathbf{A}\\mathbf{x} +\\mathbf{b}\n",
    "\\end{align*}\n",
    "</div>"
   ]
  },
  {
   "cell_type": "markdown",
   "metadata": {
    "slideshow": {
     "slide_type": "fragment"
    }
   },
   "source": [
    "Affine functions are often casually referred to as linear, but they are not linear unless $\\mathbf{b} = \\mathbf{0}$ because superposition does not hold in general."
   ]
  },
  {
   "cell_type": "markdown",
   "metadata": {},
   "source": [
    "--------"
   ]
  },
  {
   "cell_type": "markdown",
   "metadata": {},
   "source": [
    "# Systems of Linear Equations"
   ]
  },
  {
   "cell_type": "markdown",
   "metadata": {},
   "source": [
    "Define a linear matrix-vector multiplication function as \n",
    "\n",
    "\\begin{align*}\n",
    "\\mathbf{f}: \\mathbb{R}^n &\\longrightarrow \\mathbb{R}^m \\\\\n",
    "\\mathbf{x} &\\longmapsto \\mathbf{A}\\mathbf{x}\n",
    "\\end{align*}\n",
    "\n",
    "That is $\\mathbf{f}(\\mathbf{x}) = \\mathbf{A}\\mathbf{x}$ where $\\mathbf{A}$ is a $m \\times n$ matrix.\n",
    "\n",
    "One of the most important applications of linear vector functions is to solve linear systems of equations.\n",
    "\n",
    "Consider a system of $m$ equations in $n$ variables $x_0, x_1, \\ldots, x_{n-1}$:\n",
    "\\begin{align*}\n",
    "A_{00}x_0 +A_{01}x_1 +···+A_{0,n-1}x_{n-1} &=b_0 \\\\\n",
    "A_{10}x_0 +A_{11}x_1 +···+A_{0,n-1}x_{n-1} &=b_1 \\\\\n",
    "\\vdots\\\\\n",
    "A_{m-1,0}x_0 +A_{m-1,1}x_1 +···+A_{m-1,n-1}x_{n-1} &=b_{m-1}, \\\\\n",
    "\\end{align*}\n",
    "where\n",
    "* $A_{ij}$ are numbers and are called *coefficients*, and \n",
    "* $b_j$ are numbers called *right-hand sides*"
   ]
  },
  {
   "cell_type": "markdown",
   "metadata": {},
   "source": [
    "Then the system of linear equations can be written concisely in matrix notation as\n",
    "\n",
    "\\begin{align*}\n",
    "\\mathbf{Ax} = \\mathbf{b},\n",
    "\\end{align*}\n",
    "\n",
    "where $\\mathbf{x}= [x_0, x_1, x_{n-1}]^T$ is the vector of variables (unknowns)."
   ]
  },
  {
   "cell_type": "markdown",
   "metadata": {},
   "source": [
    "An $n$-vector of values $\\mathbf{x}$ is a solution to the system of linear equations if $\\mathbf{Ax}=\\mathbf{b}$ holds.\n",
    "\n",
    "A system of linear equations may have:\n",
    "* no solutions\n",
    "* a unique solution\n",
    "* many solutions"
   ]
  },
  {
   "cell_type": "markdown",
   "metadata": {},
   "source": [
    "* The set of linear equations is called **over-determined** if $m > n$. In this case, the coefficient matrix $\\mathbf{A}$ is *tall*, that is, we have more equations than variables or unknowns.\n",
    "\n",
    "* The set of linear equations is called **under-determined** if $m < n$. In this case, the coefficient matrix $\\mathbf{A}$ is *wide*, that is, there are more unknowns than equations.\n",
    "\n",
    "* The set of linear equations is called **square** if $m=n$. In this case, the coefficient matrix $\\mathbf{A}$ is *square*, that is, the numbers of unknowns and equations is the same.\n",
    "\n",
    "A set of equations with zero right-hand side, $\\mathbf{A}{\\mathbf{x}} = \\mathbf{0}$, is called a **homogeneous** set of equations. **Any homogeneous set of equations has $\\mathbf{x}=\\mathbf{0}$ as a solution.**"
   ]
  },
  {
   "cell_type": "markdown",
   "metadata": {},
   "source": [
    "Consider the set of equations\n",
    "\n",
    "\\begin{align*}\n",
    "\\begin{cases} 3x_1 &= 30\\\\ x_1+2x_2&=18\\\\ x_2 - x_3 &= 2 \\end{cases} \\iff \n",
    "\\begin{cases} 3x_1 + 0x_2 + 0x_3 &= 30\\\\ 1x_1 + 2x_2 + 0x_3 &= 18\\\\ 0x_1 + 1x_2 - 1x_3 &= 2 \\end{cases}\n",
    "\\end{align*}\n",
    "\n",
    "In matrix form, we would write\n",
    "\n",
    "\\begin{align*}\n",
    "\\begin{bmatrix} 3 & 0 & 0 \\\\ 1 & 2 & 0\\\\ 0 & 1 & -1\\\\ \\end{bmatrix} \\begin{bmatrix} x_1\\\\ x_2\\\\ x_3 \\end{bmatrix} =  \\begin{bmatrix} 30\\\\ 18\\\\ 2\\\\ \\end{bmatrix}\n",
    "\\end{align*}"
   ]
  },
  {
   "cell_type": "markdown",
   "metadata": {},
   "source": [
    "--------"
   ]
  },
  {
   "cell_type": "markdown",
   "metadata": {},
   "source": [
    "## Augmented Matrix\n",
    "\n",
    "Each system of linear equations can be represented by an **augmented matrix**. From the example above, we have the following augmented matrix:\n",
    "\n",
    "\\begin{align*}\n",
    "\\left[\\begin{array}{ccc|c} 3 & 0 & 0 & 30\\\\ 1 & 2 & 0 & 18 \\\\ 0 & 1 & -1 & 2 \\end{array}\\right]\n",
    "\\end{align*}"
   ]
  },
  {
   "cell_type": "markdown",
   "metadata": {},
   "source": [
    "### Operations on Augmented Matrices\n",
    "\n",
    "There are three elementary row operations we can do on augmented matrices:\n",
    "\n",
    "<div class=\"alert alert-info\">\n",
    "    <b>Augmented Matrices Operations</b>\n",
    "    \n",
    "1. **Swap**: exchange any two rows of the augmented matrix (example: swap row 2 with row 3, $R2 \\leftarrow R3$)\n",
    "\n",
    "2. **Scale**: multiply any row by a non-zero constant (example: scale row 1 by $\\frac{1}{3}$, $R1 \\leftarrow \\frac{1}{3}R1$)\n",
    "\n",
    "3. **Pivot**: add a multiple of a row to another row (example: $R1 \\leftarrow R1 -3R2$)\n",
    "</div>"
   ]
  },
  {
   "cell_type": "markdown",
   "metadata": {},
   "source": [
    "--------"
   ]
  },
  {
   "cell_type": "markdown",
   "metadata": {},
   "source": [
    "## Row Echelon Form\n",
    "\n",
    "A matrix is said to be in **row echelon form** if:\n",
    "\n",
    "1. Each leading entry is equal to 1\n",
    "2. Each leading entry lies to the right of the leading entry above it (upper-diagonal matrices for square matrices)\n",
    "3. Rows containing zeros are at the bottom of the matrix\n",
    "\n",
    "For example,\n",
    "\n",
    "\\begin{align*}\n",
    "\\left[\\begin{array}{ccc}1 & -4 & 0 \\\\ 0 & 1 & 5 \\\\ 0 & 0 & 1\\end{array}\\right]\n",
    "\\end{align*}\n",
    "\n",
    "is a matrix in **row echelon form**."
   ]
  },
  {
   "cell_type": "markdown",
   "metadata": {},
   "source": [
    "The linear transformation $\\mathbf{A}$ for our affine function does not have to be a square matrix. The following examples represent matrices is row echelon form:\n",
    "\n",
    "over-determined\n",
    "\\begin{align*}\n",
    "\\left[\\begin{array}{cccc}1 & -4 & 0 & 2\\\\ 0 & 1 & 5 & 7 \\\\ 0 & 0 & 0 & 1\\end{array}\\right]\n",
    "\\end{align*}\n",
    "\n",
    "under-determined\n",
    "\\begin{align*}\n",
    "\\left[\\begin{array}{cc}1 & -4 \\\\ 0& 1 \\\\ 0 & 0 \\\\ 0& 0\\end{array}\\right]\n",
    "\\end{align*}"
   ]
  },
  {
   "cell_type": "markdown",
   "metadata": {},
   "source": [
    "We will use the **gaussian elimination** algorithm to reduce the augmented matrix into a row echelon form matrix."
   ]
  },
  {
   "cell_type": "markdown",
   "metadata": {},
   "source": [
    "Once a matrix is in row echelon form, in order to solve the system of linear equations, we can:\n",
    "\n",
    "1. Use back substitution\n",
    "2. Gauss-Jordan elimination"
   ]
  },
  {
   "cell_type": "markdown",
   "metadata": {},
   "source": [
    "--------"
   ]
  },
  {
   "cell_type": "markdown",
   "metadata": {},
   "source": [
    "# Gauss-Jordan Elimination\n",
    "\n",
    "In the Gauss-Jordan Elimination algorithm, the augmented matrix is put in **reduced row echelon form (rref)**.\n",
    "\n",
    "A matrix is said to be in reduced row echelon form if leading row elements equal to 1 and the elements above and below it are equal to 0. For example:\n",
    "\n",
    "\\begin{align*}\n",
    "\\left[\\begin{array}{ccc|c} 1 & 0 & 0 & 10\\\\ 0 & 1 & 0 & 2 \\\\ 0 & 0 & 1 & 2 \\end{array}\\right]\n",
    "\\end{align*}\n",
    "\n",
    "\\begin{align*}\n",
    "\\left[\\begin{array}{cc|c} 1 & 0 & 10\\\\ 0 & 1 & 2 \\\\ 0 & 0 & 2 \\end{array}\\right]\n",
    "\\end{align*}\n",
    "\n",
    "\\begin{align*}\n",
    "\\left[\\begin{array}{cccc|c} 1 & 0 & 0 & 0 & 10\\\\ 0 & 1 & 0 & 0 & 2\\\\ 0 & 0 & 0 & 1 & 2\\end{array}\\right]\n",
    "\\end{align*}\n",
    "\n",
    "\\begin{align*}\n",
    "\\left[\\begin{array}{ccc|c} 1 & 0 & -\\frac{1}{2} & -1\\\\ 0 & 1 & -\\frac{1}{4} & \\frac{3}{2} \\\\ 0 & 0 & 0 & 0\\end{array}\\right]\n",
    "\\end{align*}"
   ]
  },
  {
   "cell_type": "markdown",
   "metadata": {},
   "source": [
    "Transforming a row echelon form to a reduced row echelon form can be accomplished with only *pivot* operations."
   ]
  },
  {
   "cell_type": "markdown",
   "metadata": {},
   "source": [
    "Observations:\n",
    "\n",
    "* Row echelon form is typically not unique\n",
    "* Reduced echelon form is unique\n",
    "* Both echelon and reduced echelon forms describe the original system"
   ]
  },
  {
   "cell_type": "markdown",
   "metadata": {},
   "source": [
    "### Geometric Interpretation\n",
    "\n",
    "Example:\n",
    "\n",
    "\\begin{align*}\n",
    "\\begin{cases} x+y=6\\\\ x-y=-2 \\end{cases}\n",
    "\\end{align*}\n",
    "\n",
    "\\begin{align*}\n",
    "\\begin{cases} x-y=-2\\\\ x-y=-6 \\end{cases}\n",
    "\\end{align*}"
   ]
  },
  {
   "cell_type": "markdown",
   "metadata": {},
   "source": [
    "A system of equations has a *unique* solution if all the lines (or hyperplanes, for higher-dimensions) intersect at a common point.\n",
    "\n",
    "A system of equations has an *infinite* number of solutions if the lines are: (1) parallel or (2) identical."
   ]
  },
  {
   "cell_type": "markdown",
   "metadata": {},
   "source": [
    "--------"
   ]
  },
  {
   "cell_type": "markdown",
   "metadata": {},
   "source": [
    "## Consistent vs Dependent Systems\n",
    "\n",
    "A system of linear equations can have one solution, an infinite number of solutions, or no solution. Systems of equations can be classified by the number of solutions.\n",
    "\n",
    "* If a system has *at least one solution*, it is said to be **consistent**.\n",
    "\n",
    "* If a consistent system has *exactly one solution*, it is **independent**.\n",
    "\n",
    "* If a consistent system has an *infinite number of solutions*, it is **dependent**. When you graph the equations, both equations represent the same line.\n",
    "\n",
    "* If a system has *no solution*, it is said to be **inconsistent**. The graphs of the lines do not intersect, so the graphs are parallel and there is no solution.\n",
    "\n",
    "A system is said to be **independent** if the correspondent augmented matrix has a *unique* solution. This means that the matrix $\\mathbf{A}$ in our affine equation, $\\mathbf{\\mathbf{y}} = \\mathbf{A}\\mathbf{x}$ has **independent columns** (or rows) which correspond to independent or **informative features**.\n",
    "\n",
    "* Example: basis vectors\n",
    "\n",
    "A system is said to be **dependent** if the correspondent augmented matrix has *infinite* solutions. This means that the matrix $\\mathbf{A}$ in our affine equation, $\\mathbf{\\mathbf{y}} = \\mathbf{A}\\mathbf{x}$ has **dependent columns** (or rows). One or more columns are a **linear combination** of other columns. We can think of features to be **correlated**."
   ]
  },
  {
   "cell_type": "markdown",
   "metadata": {},
   "source": [
    "<div class=\"alert alert-info\">\n",
    "\n",
    "The Gaussian-Jordan elimination algorithm will allow us to determine whether our system is **independent** or **dependent**.\n",
    "</div>"
   ]
  },
  {
   "cell_type": "markdown",
   "metadata": {},
   "source": [
    "--------"
   ]
  },
  {
   "cell_type": "markdown",
   "metadata": {},
   "source": [
    "### Types of Systems\n",
    "\n",
    "A system can have:\n",
    "\n",
    "* Infinite number of solutions\n",
    "    * Example: \n",
    "    \n",
    "    \\begin{align*}\n",
    "    \\begin{cases} x-y=-2\\\\ 2x-2y=-4 \\end{cases}\n",
    "    \\end{align*}\n",
    "    \n",
    "* Single unique solution\n",
    "    * Example: \n",
    "    \\begin{align*}\n",
    "    \\begin{cases} x-y=-2\\\\ 2x-2y=-4 \\\\ x+y=6 \\end{cases}\n",
    "    \\end{align*}\n",
    "\n",
    "* No solutions\n",
    "    * Example: \n",
    "    \\begin{align*}\n",
    "    \\begin{cases} x-y=-2\\\\ x-y=0 \\end{cases}\n",
    "    \\end{align*}"
   ]
  },
  {
   "cell_type": "markdown",
   "metadata": {},
   "source": [
    "--------"
   ]
  },
  {
   "cell_type": "markdown",
   "metadata": {
    "slideshow": {
     "slide_type": "slide"
    }
   },
   "source": [
    "#### Example 1\n",
    "\n",
    "Solve the following system of linear equations using Gauss-Jordan elimination:\n",
    "\n",
    "\\begin{align*}\n",
    "\\begin{cases} x + 2y = 1 \\\\ 2x-y = 7 \\end{cases}\n",
    "\\end{align*}"
   ]
  },
  {
   "cell_type": "markdown",
   "metadata": {},
   "source": [
    "--> (x,y) = (3, -1)"
   ]
  },
  {
   "cell_type": "markdown",
   "metadata": {
    "slideshow": {
     "slide_type": "slide"
    }
   },
   "source": [
    "#### Example 2\n",
    "\n",
    "Solve the following system of linear equations using Gauss-Jordan elimination:\n",
    "\n",
    "\\begin{align*}\n",
    "\\begin{cases} \n",
    "3𝑥 + 4𝑦 = 4 \\\\\n",
    "6𝑥 − 2𝑦 = 3\n",
    "\\end{cases}\n",
    "\\end{align*}"
   ]
  },
  {
   "cell_type": "markdown",
   "metadata": {},
   "source": [
    "--> (x, y) = (2/3,1/2)"
   ]
  },
  {
   "cell_type": "markdown",
   "metadata": {
    "slideshow": {
     "slide_type": "slide"
    }
   },
   "source": [
    "#### Example 3\n",
    "\n",
    "Solve the following system of linear equations using Gauss-Jordan elimination:\n",
    "\n",
    "\\begin{align*}\n",
    "\\begin{cases} \n",
    "−𝑥 + 𝑦 = −1 \\\\\n",
    "𝑦 − 𝑧 = 6 \\\\\n",
    "𝑥 + 𝑧 = −1\n",
    "\\end{cases}\n",
    "\\end{align*}"
   ]
  },
  {
   "cell_type": "markdown",
   "metadata": {},
   "source": [
    "--> (x, y, z) =  (3, 2, -4) "
   ]
  },
  {
   "cell_type": "markdown",
   "metadata": {
    "slideshow": {
     "slide_type": "slide"
    }
   },
   "source": [
    "#### Example 4\n",
    "\n",
    "Solve the following system of linear equations using Gauss-Jordan elimination:\n",
    "\n",
    "\\begin{align*}\n",
    "\\begin{cases} \n",
    "𝑥 + 2𝑦 − 𝑧 = 9 \\\\\n",
    "2𝑥 − 𝑦 + 3𝑧 = −2 \\\\\n",
    "3𝑥 − 3𝑦 − 4𝑧 = 1\n",
    "\\end{cases}\n",
    "\\end{align*}"
   ]
  },
  {
   "cell_type": "markdown",
   "metadata": {},
   "source": [
    "--> (x, y, z) = (2, 3, -1)"
   ]
  },
  {
   "cell_type": "markdown",
   "metadata": {
    "slideshow": {
     "slide_type": "slide"
    }
   },
   "source": [
    "#### Example 5\n",
    "\n",
    "Solve the following system of linear equations using Gauss-Jordan elimination:\n",
    "\n",
    "\\begin{align*}\n",
    "\\begin{cases} \n",
    "3𝑥 + 𝑦 + 3𝑧 = 1 \\\\\n",
    "𝑥 + 2𝑦 − 𝑧 = 2 \\\\\n",
    "2𝑥 − 𝑦 + 4𝑧 = 4\n",
    "\\end{cases}\n",
    "\\end{align*}"
   ]
  },
  {
   "cell_type": "markdown",
   "metadata": {},
   "source": [
    "--> no solution"
   ]
  },
  {
   "cell_type": "markdown",
   "metadata": {
    "slideshow": {
     "slide_type": "slide"
    }
   },
   "source": [
    "#### Example 6\n",
    "\n",
    "The following matrices represent systems of 3 equations with 3 variables. Gauss-Jordan\n",
    "elimination was used to arrive at the given matrices. Express the solution indicated by\n",
    "each matrix in the form (x, y, z) or state that an infinite number or no solution exists.\n",
    "\n",
    "a.\n",
    "\\begin{align*}\n",
    "\\left[\\begin{array}{ccc|c} 1 & 0 & 0 & 4\\\\ 0 & 1 & 0 & -1 \\\\ 0 & 0 & 1 & 0 \\end{array}\\right]\n",
    "\\end{align*}\n",
    "\n",
    "b. \n",
    "\\begin{align*}\n",
    "\\left[\\begin{array}{ccc|c} 1 & 0 & 0 & 3\\\\ 0 & 1 & 2 & 0 \\\\ 0 & 0 & 0 & 1 \\end{array}\\right]\n",
    "\\end{align*}\n",
    "\n",
    "c. \n",
    "\\begin{align*}\n",
    "\\left[\\begin{array}{ccc|c} 1 & 0 & 2 & 3\\\\ 0 & 1 & -1 & 5 \\\\ 0 & 0 & 0 & 0 \\end{array}\\right]\n",
    "\\end{align*}\n",
    "\n",
    "d. \n",
    "\\begin{align*}\n",
    "\\left[\\begin{array}{ccc|c} 1 & 2 & 3 & 4\\\\ 0 & 0 & 0 & 0 \\\\ 0 & 0 & 0 & 0 \\end{array}\\right]\n",
    "\\end{align*}\n",
    "\n",
    "e. \n",
    "\\begin{align*}\n",
    "\\left[\\begin{array}{ccc|c} 1 & 0 & 0 & 2\\\\ 0 & 1 & 0 & 3 \\\\ 0 & 0 & 0 & 1 \\end{array}\\right]\n",
    "\\end{align*}\n",
    "\n",
    "f. \n",
    "\\begin{align*}\n",
    "\\left[\\begin{array}{ccc|c} 1 & 0 & 0 & 2\\\\ 0 & 1 & 0 & 3 \\\\ 0 & 0 & 0 & 0 \\end{array}\\right]\n",
    "\\end{align*}"
   ]
  },
  {
   "cell_type": "markdown",
   "metadata": {},
   "source": [
    "-->\n",
    "\n",
    "a. (4, -1, 0) \n",
    "\n",
    "b. no solution \n",
    "\n",
    "c. infinite solutions (3-2t, t+5, t)\n",
    "\n",
    "d. infinite solutions (4-2s-3t, s, t)\n",
    "\n",
    "e. no solution\n",
    "\n",
    "f. infinite solutions (2, 3, t)"
   ]
  },
  {
   "cell_type": "markdown",
   "metadata": {},
   "source": [
    "#### Example 7\n",
    "\n",
    "In a physics lab experiment, students are told that a particle moving in a straight line (but not a constant speed!) moves according to the formula $𝑠 = 𝑎𝑡^2 + 𝑏𝑡 + 𝑐$ where $s$ is the\n",
    "particle’s distance in feet from a fixed point at time $t$ seconds after launch. Students gather\n",
    "the following data:\n",
    "\n",
    "| t | s |\n",
    "| --- | --- |\n",
    "| 0 | 5 | \n",
    "| 1 | 23 | \n",
    "| 2 | 37 | \n",
    "\n",
    "Find the values for $a$, $b$, and $c$ in the above equation for $s$. Then use your answer to find\n",
    "how far the particle is from the fixed point $8$ seconds after launch."
   ]
  },
  {
   "cell_type": "markdown",
   "metadata": {},
   "source": [
    "--> (a,b,c) = (-2, 20, 5), so $s=-2t^2 + 20t + 5$. When $t=8$, $s = 37$ feet."
   ]
  },
  {
   "cell_type": "markdown",
   "metadata": {
    "slideshow": {
     "slide_type": "slide"
    }
   },
   "source": [
    "#### Example 8\n",
    "\n",
    "Consider the following system of linear equations:\n",
    "\n",
    "\\begin{align*}\n",
    "\\begin{cases} 3x = 30 \\\\ x + 2y = 18 \\\\ y - z = 2\\end{cases}\n",
    "\\end{align*}"
   ]
  },
  {
   "cell_type": "code",
   "execution_count": null,
   "metadata": {},
   "outputs": [],
   "source": [
    "import numpy as np\n",
    "import numpy.linalg as la"
   ]
  },
  {
   "cell_type": "code",
   "execution_count": null,
   "metadata": {
    "slideshow": {
     "slide_type": "subslide"
    }
   },
   "outputs": [],
   "source": []
  },
  {
   "cell_type": "code",
   "execution_count": null,
   "metadata": {
    "slideshow": {
     "slide_type": "subslide"
    }
   },
   "outputs": [],
   "source": []
  },
  {
   "cell_type": "code",
   "execution_count": null,
   "metadata": {},
   "outputs": [],
   "source": []
  },
  {
   "cell_type": "code",
   "execution_count": null,
   "metadata": {
    "slideshow": {
     "slide_type": "subslide"
    }
   },
   "outputs": [],
   "source": []
  },
  {
   "cell_type": "code",
   "execution_count": null,
   "metadata": {
    "slideshow": {
     "slide_type": "subslide"
    }
   },
   "outputs": [],
   "source": []
  },
  {
   "cell_type": "code",
   "execution_count": null,
   "metadata": {
    "slideshow": {
     "slide_type": "subslide"
    }
   },
   "outputs": [],
   "source": []
  },
  {
   "cell_type": "markdown",
   "metadata": {
    "slideshow": {
     "slide_type": "subslide"
    }
   },
   "source": [
    "**Observation:** All columns (and rows) of the reduced row echelon form (rref) matrix are independent (the inner product is 0, which means they are orthogonal). We have a unique solution."
   ]
  },
  {
   "cell_type": "markdown",
   "metadata": {
    "slideshow": {
     "slide_type": "subslide"
    }
   },
   "source": [
    "We are interested in finding out whether the linear transformation $\\mathbf{A}$ will *preserve* all dimensions $\\iff$ linearly independent columns $\\iff$ the system has a unique solution.\n",
    "\n",
    "In fact, we know that intersections between two lines (or hyperplanes) can happen in any of three different ways:\n",
    "1. the lines intersect at a unique point (i.e., solution exists and is unique),\n",
    "2. the lines are coincident (that is, the equations represent the same line and there are infinitely many points of intersection; in this case a solution exists, but is not unique), or\n",
    "3. the lines are parallel but not coincident (so that no solution exists)."
   ]
  }
 ],
 "metadata": {
  "kernelspec": {
   "display_name": "Python 3",
   "language": "python",
   "name": "python3"
  },
  "language_info": {
   "codemirror_mode": {
    "name": "ipython",
    "version": 3
   },
   "file_extension": ".py",
   "mimetype": "text/x-python",
   "name": "python",
   "nbconvert_exporter": "python",
   "pygments_lexer": "ipython3",
   "version": "3.8.8"
  },
  "latex_envs": {
   "LaTeX_envs_menu_present": true,
   "autoclose": true,
   "autocomplete": true,
   "bibliofile": "biblio.bib",
   "cite_by": "apalike",
   "current_citInitial": 1,
   "eqLabelWithNumbers": true,
   "eqNumInitial": 1,
   "hotkeys": {
    "equation": "Ctrl-E",
    "itemize": "Ctrl-I"
   },
   "labels_anchors": false,
   "latex_user_defs": false,
   "report_style_numbering": false,
   "user_envs_cfg": false
  },
  "varInspector": {
   "cols": {
    "lenName": 16,
    "lenType": 16,
    "lenVar": 40
   },
   "kernels_config": {
    "python": {
     "delete_cmd_postfix": "",
     "delete_cmd_prefix": "del ",
     "library": "var_list.py",
     "varRefreshCmd": "print(var_dic_list())"
    },
    "r": {
     "delete_cmd_postfix": ") ",
     "delete_cmd_prefix": "rm(",
     "library": "var_list.r",
     "varRefreshCmd": "cat(var_dic_list()) "
    }
   },
   "types_to_exclude": [
    "module",
    "function",
    "builtin_function_or_method",
    "instance",
    "_Feature"
   ],
   "window_display": false
  }
 },
 "nbformat": 4,
 "nbformat_minor": 2
}
