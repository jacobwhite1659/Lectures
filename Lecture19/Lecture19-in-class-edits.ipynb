{
 "cells": [
  {
   "cell_type": "markdown",
   "metadata": {},
   "source": [
    "# **<h1 align=\"center\"><font color=blue> Linear Algebra</font></h1>**"
   ]
  },
  {
   "cell_type": "markdown",
   "metadata": {
    "slideshow": {
     "slide_type": "slide"
    }
   },
   "source": [
    "# Lecture 19\n",
    "- Introduction to Vectors & Vector Operations"
   ]
  },
  {
   "cell_type": "code",
   "execution_count": 1,
   "metadata": {
    "slideshow": {
     "slide_type": "subslide"
    }
   },
   "outputs": [],
   "source": [
    "import pandas as pd\n",
    "import scipy.stats as stats\n",
    "import numpy as np\n",
    "import numpy.random as npr\n",
    "import matplotlib.pyplot as plt\n",
    "%matplotlib inline\n",
    "plt.style.use('bmh')"
   ]
  },
  {
   "cell_type": "markdown",
   "metadata": {
    "slideshow": {
     "slide_type": "slide"
    }
   },
   "source": [
    "# Working with Multidimensional Data"
   ]
  },
  {
   "cell_type": "markdown",
   "metadata": {
    "slideshow": {
     "slide_type": "subslide"
    }
   },
   "source": [
    "All of the tests we have done so far have worked on one-dimensional data. I.e., we look at some statistics from samples of a single feature, but we tried to determine whether that feature was influenced by some other binary event.\n",
    "\n",
    "For example, we looked at firearms mortality rates before and after the federal assault weapons ban."
   ]
  },
  {
   "cell_type": "markdown",
   "metadata": {
    "slideshow": {
     "slide_type": "subslide"
    }
   },
   "source": [
    "However, many times we want to investigate the relation between multiple features. We saw an example of this with the firearms mortality rate data: what if we look at the relation between the number of laws regulating guns and the firearms mortality in each state:"
   ]
  },
  {
   "cell_type": "code",
   "execution_count": 2,
   "metadata": {
    "slideshow": {
     "slide_type": "subslide"
    }
   },
   "outputs": [],
   "source": [
    "df=pd.read_csv('firearms-combined.csv')"
   ]
  },
  {
   "cell_type": "code",
   "execution_count": 3,
   "metadata": {
    "slideshow": {
     "slide_type": "fragment"
    }
   },
   "outputs": [
    {
     "data": {
      "image/png": "[encoded data removed]",
      "text/plain": [
       "<Figure size 432x288 with 1 Axes>"
      ]
     },
     "metadata": {
      "needs_background": "light"
     },
     "output_type": "display_data"
    }
   ],
   "source": [
    "plt.scatter(df['Total Laws 2014'],df['RATE-2014'])\n",
    "plt.xlabel('Total Gun Laws in a State in 2014',size=15)\n",
    "plt.ylabel('Firearms Mortality Rate in 2014',size=15);"
   ]
  },
  {
   "cell_type": "markdown",
   "metadata": {
    "slideshow": {
     "slide_type": "subslide"
    }
   },
   "source": [
    "There seems to be a relation between these two features: as the number of total gun laws in a state in 2014 increases, the firearms mortality rate decreases. \n",
    "\n",
    "But until now, we only knew how to evaluate this relation by looking at a single feature (firearms mortality rate) and clustering that data into two groups based on the number of total gun laws."
   ]
  },
  {
   "cell_type": "markdown",
   "metadata": {
    "slideshow": {
     "slide_type": "subslide"
    }
   },
   "source": [
    "We are ready to apply more sophisticated approaches to study how multiple features are related, but we need some new tools:"
   ]
  },
  {
   "cell_type": "markdown",
   "metadata": {
    "slideshow": {
     "slide_type": "slide"
    }
   },
   "source": [
    "## Vectors\n"
   ]
  },
  {
   "cell_type": "markdown",
   "metadata": {
    "slideshow": {
     "slide_type": "subslide"
    }
   },
   "source": [
    "<div class=\"alert alert-info\">\n",
    "  <strong>Vectors</strong>\n",
    "\n",
    "*Vectors* are ordered lists of numbers. \n",
    "\n",
    "</div>"
   ]
  },
  {
   "cell_type": "markdown",
   "metadata": {
    "slideshow": {
     "slide_type": "fragment"
    }
   },
   "source": [
    "Vectors are very similar to lists or tuples in Python.\n",
    "\n",
    "Usually, the numbers come from the set of real numbers, which we denote by $\\mathbb{R}$."
   ]
  },
  {
   "cell_type": "markdown",
   "metadata": {
    "slideshow": {
     "slide_type": "subslide"
    }
   },
   "source": [
    "<div class=\"alert alert-info\">\n",
    "      <strong>Scalars</strong>\n",
    "\n",
    "Single numerical values are called *scalars*.\n",
    "</div>"
   ]
  },
  {
   "cell_type": "markdown",
   "metadata": {
    "slideshow": {
     "slide_type": "subslide"
    }
   },
   "source": [
    "<div class=\"alert alert-warning\">\n",
    "\n",
    "We use various conventions in writing vectors. To distinguish a vector variable from a scalar, we will write it in **bold** when typed:\n",
    "\n",
    "$~~~~~$A vector $\\mathbf{x}$ and a scalar $\\alpha$.\n",
    "\n",
    "For convenience, we will often write them in the same way as Python tuples: $~~~~~\\mathbf{x} = (0.5,3,0.7, -1.0)$\n",
    "\n",
    "Vectors are often written as a special type of array or numerical table that is only 1 number wide. In this case, we usually use square brackets to deliminate the vector:\n",
    "\\begin{align}\n",
    "\\mathbf{x} = \\begin{bmatrix}\n",
    "           0.5 \\\\\n",
    "           3 \\\\\n",
    "           0.7 \\\\\n",
    "           -1.0\n",
    "         \\end{bmatrix}\n",
    "\\end{align}\n",
    "Sometimes, such a vector is called a *column vector*.\n",
    "\n",
    "To save space, we can also write a column vector like\n",
    "$~~~~~\\mathbf{x} = \\left[0.5,3,0.7, -1.0\\right]^T$,\n",
    "\n",
    "where the superscript $~^T$ denotes that the vector is turned $90^\\circ$\n",
    "    \n",
    "</div>"
   ]
  },
  {
   "cell_type": "markdown",
   "metadata": {
    "slideshow": {
     "slide_type": "subslide"
    }
   },
   "source": [
    "<div class=\"alert alert-info\">\n",
    "      <strong>Vector Elements</strong>\n",
    "\n",
    "The *elements* (or *entries*, *coefficients*, *components*) of a vector are the values within that vector.\n",
    "</div>"
   ]
  },
  {
   "cell_type": "markdown",
   "metadata": {
    "slideshow": {
     "slide_type": "fragment"
    }
   },
   "source": [
    "<div class=\"alert alert-warning\">\n",
    "\n",
    "If $\\mathbf{a}$ is a vector, then $a_i$ denotes the $i$th element of the vector. \n",
    "\n",
    "<font color='red'>Unlike Python, the convention in mathematics is to index from 1.</font>\n",
    "</div>\n",
    "\n",
    "\n",
    "$~~~~~$For the example $\\mathbf{x}= \\left[0.5,3,0.7, -1.0\\right]^T$, $x_3=0.7$"
   ]
  },
  {
   "cell_type": "markdown",
   "metadata": {
    "slideshow": {
     "slide_type": "subslide"
    }
   },
   "source": [
    "<div class=\"alert alert-info\">\n",
    "  <strong>Dimension</strong>\n",
    "    \n",
    "The **dimension** (or **size**) of a vector is the number of elements it contains.\n",
    "</div>\n",
    "\n",
    "$~~~~~$ For the example $x$ above, the dimension is $4$.\n",
    "\n",
    "A vector of size $n$ is called an $n$-dimensional vector, or simply a $n$-vector.\n",
    "\n",
    "The set of all $n$-vectors over the real line is denoted by $\\mathbb{R}^n$. \n",
    "\n",
    "<font color=\"red\"> Although Boyd and Vandenberghe say that another name for dimension is *length*, we will reserve that term for a different property of vectors.</font>"
   ]
  },
  {
   "cell_type": "markdown",
   "metadata": {
    "slideshow": {
     "slide_type": "slide"
    }
   },
   "source": [
    "## Special vectors\n",
    "\n",
    "**<font color=\"blue\">Zero Vectors</font>** A *zero vector* is a vector with all elements equal to zero. We will denote the $n$-dimensional zero vector by $\\mathbf{0}_n$.\n",
    "\n",
    "$~~~~~$ For example, \n",
    "\\begin{align}\n",
    "\\mathbf{0}_5 = \n",
    "\\begin{bmatrix}\n",
    "0\\\\0\\\\0\\\\0\\\\ 0\n",
    "\\end{bmatrix}\n",
    "\\end{align}"
   ]
  },
  {
   "cell_type": "code",
   "execution_count": 4,
   "metadata": {},
   "outputs": [
    {
     "data": {
      "text/plain": [
       "array([[0.],\n",
       "       [0.],\n",
       "       [0.],\n",
       "       [0.],\n",
       "       [0.],\n",
       "       [0.],\n",
       "       [0.],\n",
       "       [0.],\n",
       "       [0.],\n",
       "       [0.]])"
      ]
     },
     "execution_count": 4,
     "metadata": {},
     "output_type": "execute_result"
    }
   ],
   "source": [
    "np.zeros((10,1))"
   ]
  },
  {
   "cell_type": "code",
   "execution_count": 5,
   "metadata": {},
   "outputs": [
    {
     "data": {
      "text/plain": [
       "(10, 1)"
      ]
     },
     "execution_count": 5,
     "metadata": {},
     "output_type": "execute_result"
    }
   ],
   "source": [
    "np.zeros((10,1)).shape"
   ]
  },
  {
   "cell_type": "markdown",
   "metadata": {
    "slideshow": {
     "slide_type": "subslide"
    }
   },
   "source": [
    "**<font color=\"blue\">Ones vectors</font>** A *ones vector* is a vector with all elements equal to one. We will denote the $n$-dimensional ones vector by $\\mathbf{1}_n$."
   ]
  },
  {
   "cell_type": "code",
   "execution_count": 6,
   "metadata": {},
   "outputs": [
    {
     "data": {
      "text/plain": [
       "array([[1.],\n",
       "       [1.],\n",
       "       [1.],\n",
       "       [1.],\n",
       "       [1.]])"
      ]
     },
     "execution_count": 6,
     "metadata": {},
     "output_type": "execute_result"
    }
   ],
   "source": [
    "np.ones((5,1))"
   ]
  },
  {
   "cell_type": "code",
   "execution_count": 7,
   "metadata": {},
   "outputs": [
    {
     "data": {
      "text/plain": [
       "(5, 1)"
      ]
     },
     "execution_count": 7,
     "metadata": {},
     "output_type": "execute_result"
    }
   ],
   "source": [
    "np.ones((5,1)).shape"
   ]
  },
  {
   "cell_type": "markdown",
   "metadata": {
    "slideshow": {
     "slide_type": "subslide"
    }
   },
   "source": [
    "**<font color=\"blue\">Standard Unit Vectors</font>** A *standard unit vector* is a vector with all elements equal to zero, except one element which is equal to one. \n",
    "\n",
    "For a given dimension $n$, we denote the stanard unit vector with element $i$ equal to 1 by $e_i$. \n",
    "\n",
    "For example, the three standard unit vectors of dimension 3 are:\n",
    "\n",
    "\\begin{align}\n",
    "e_1=\n",
    "\\begin{bmatrix}\n",
    "1\\\\ 0\\\\ 0\n",
    "\\end{bmatrix}, ~~~~~\n",
    "e_2=\n",
    "\\begin{bmatrix}\n",
    "0\\\\ 1\\\\ 0\n",
    "\\end{bmatrix}, ~~~~~\n",
    "e_3=\n",
    "\\begin{bmatrix}\n",
    "0\\\\ 0\\\\ 1\n",
    "\\end{bmatrix}\n",
    "\\end{align}"
   ]
  },
  {
   "cell_type": "markdown",
   "metadata": {
    "slideshow": {
     "slide_type": "slide"
    }
   },
   "source": [
    "### Uses\n",
    "\n",
    "Vectors are typically used to represent:\n",
    "* Any $n$-dimensional data\n",
    "* Points in a plane\n",
    "* Displacements between data values or points in a plane"
   ]
  },
  {
   "cell_type": "markdown",
   "metadata": {
    "slideshow": {
     "slide_type": "subslide"
    }
   },
   "source": [
    "Some examples (from Section 1.1 in the Boyd book) include:\n",
    "* **Colors**: represented as intensities of Red, Green, and Blue (RGB) or Chrome, Magenta, Yellow, and Black (CMYK), etc.\n",
    "* **Portfolio allocations**: $(10,25,75)$ may denote 10 shares of stock $A$, 25 shares of stock $B$, and 75 shares of stock $C$\n",
    "* **Proportions**: A vector with values adding to 1 indicating whta proportion is associated with various choices, outcomes, or options. For example, $(0.25, 0.3, 0.45)$ may denote 25% associated with one source, 30% associated with a second source, and 45% associated with a third source\n",
    "* **Time series**: the value of some quantity at different times"
   ]
  },
  {
   "cell_type": "code",
   "execution_count": 8,
   "metadata": {
    "slideshow": {
     "slide_type": "subslide"
    }
   },
   "outputs": [
    {
     "data": {
      "image/png": "[encoded data removed]",
      "text/plain": [
       "<Figure size 432x288 with 1 Axes>"
      ]
     },
     "metadata": {
      "needs_background": "light"
     },
     "output_type": "display_data"
    }
   ],
   "source": [
    "predicted_temps=[36, 35, 34, 32, 31, 30, 29, 29, 32, 36, 41, 45, \n",
    "                 49, 51, 54, 56, 57, 55, 53, 50, 47, 45, 43, 42]\n",
    "time=list(range(0,24))\n",
    "\n",
    "plt.scatter(time, predicted_temps)\n",
    "plt.ylabel('Predicted Temp (F)',size=15)\n",
    "plt.xlabel('Time (24 Hr)',size=15)\n",
    "plt.title('Predicted daily temperature in Gainesville FL starting 03/13/2022',size=15);"
   ]
  },
  {
   "cell_type": "markdown",
   "metadata": {
    "slideshow": {
     "slide_type": "slide"
    }
   },
   "source": [
    "## Visualizing Vectors\n",
    "\n",
    "Vectors are most often visualized as displacements from a point. If no starting point is given, then the vector is the displacement from the origin.\n",
    "\n",
    "We are only going to plot $2$-vectors here. For 2-vectors, the components the vectors are taken to represent $x$ and $y$ displacement:\n",
    "$$\n",
    "\\mathbf{a} = \n",
    "\\begin{bmatrix}\n",
    "a_x\\\\ a_y\n",
    "\\end{bmatrix}\n",
    "$$"
   ]
  },
  {
   "cell_type": "markdown",
   "metadata": {
    "slideshow": {
     "slide_type": "subslide"
    }
   },
   "source": [
    "To make life easier, here is a simple function to plot multiple vectors on the same axes and automatically choose the $x$- and $y$-limits for plotting:"
   ]
  },
  {
   "cell_type": "code",
   "execution_count": 9,
   "metadata": {
    "slideshow": {
     "slide_type": "subslide"
    }
   },
   "outputs": [],
   "source": [
    "def plotvec(*argv):\n",
    "    colors=['b','k','r','g','c','m']\n",
    "    xmin=0\n",
    "    xmax=-1000000\n",
    "    ymin=0\n",
    "    ymax=-1000000\n",
    "    origin=[0,0]\n",
    "    plt.figure()\n",
    "    for e in enumerate(argv):\n",
    "        i=e[0]\n",
    "        arg=e[1]\n",
    "        plt.quiver(*origin,*arg,angles='xy',scale_units='xy',scale=1,\n",
    "                   color=colors[i%len(colors)])\n",
    "        xmin=min(xmin,arg[0])\n",
    "        xmax=max(xmax,arg[0])\n",
    "        ymin=min(ymin,arg[1])\n",
    "        ymax=max(ymax,arg[1])\n",
    "    plt.xlim(min(-1, xmin-1), max(1,xmax+1))\n",
    "    plt.ylim(min(-1,ymin-1),max(1,ymax+1))"
   ]
  },
  {
   "cell_type": "markdown",
   "metadata": {
    "slideshow": {
     "slide_type": "subslide"
    }
   },
   "source": [
    "Consider the vector $\\mathbf{a}=[2,3]^T$. In two-dimensional space, this means start at the origin and move 2 in the $x$ direction (to the right) and 3 in the $y$ direction (up). \n",
    "\n",
    "We draw an arrow from (0,0) to (2,3) to represent this vector."
   ]
  },
  {
   "cell_type": "code",
   "execution_count": 10,
   "metadata": {
    "slideshow": {
     "slide_type": "subslide"
    }
   },
   "outputs": [
    {
     "data": {
      "image/png": "[encoded data removed]",
      "text/plain": [
       "<Figure size 432x288 with 1 Axes>"
      ]
     },
     "metadata": {
      "needs_background": "light"
     },
     "output_type": "display_data"
    }
   ],
   "source": [
    "a = [2,3]\n",
    "\n",
    "plotvec(a)"
   ]
  },
  {
   "cell_type": "markdown",
   "metadata": {
    "slideshow": {
     "slide_type": "subslide"
    }
   },
   "source": [
    "Let's create a second vector. We can plot both:"
   ]
  },
  {
   "cell_type": "code",
   "execution_count": 11,
   "metadata": {
    "slideshow": {
     "slide_type": "subslide"
    }
   },
   "outputs": [
    {
     "data": {
      "image/png": "[encoded data removed]",
      "text/plain": [
       "<Figure size 432x288 with 1 Axes>"
      ]
     },
     "metadata": {
      "needs_background": "light"
     },
     "output_type": "display_data"
    }
   ],
   "source": [
    "b = [1,-2]\n",
    "\n",
    "plotvec(a,b)"
   ]
  },
  {
   "cell_type": "markdown",
   "metadata": {},
   "source": [
    "Create another vector and plot it with $a$ and $b$:"
   ]
  },
  {
   "cell_type": "code",
   "execution_count": 12,
   "metadata": {
    "slideshow": {
     "slide_type": "subslide"
    }
   },
   "outputs": [
    {
     "data": {
      "image/png": "[encoded data removed]",
      "text/plain": [
       "<Figure size 432x288 with 1 Axes>"
      ]
     },
     "metadata": {
      "needs_background": "light"
     },
     "output_type": "display_data"
    }
   ],
   "source": [
    "c = [-1, 1]\n",
    "\n",
    "plotvec(a,b,c)"
   ]
  },
  {
   "cell_type": "markdown",
   "metadata": {
    "slideshow": {
     "slide_type": "subslide"
    }
   },
   "source": [
    "If vectors represent displacements, then we can consider a sequence of vectors as a set of instructions for how to move, starting at the origin. In this case, the starting point for $b$ should be $a$."
   ]
  },
  {
   "cell_type": "code",
   "execution_count": 13,
   "metadata": {
    "slideshow": {
     "slide_type": "subslide"
    }
   },
   "outputs": [],
   "source": [
    "def plotvec2(*argv):\n",
    "    colors=['b','k','r','g','c','m']\n",
    "    xmin=0\n",
    "    xmax=-1000000\n",
    "    ymin=0\n",
    "    ymax=-1000000\n",
    "    origin=[0,0]\n",
    "    plt.figure()\n",
    "    for e in enumerate(argv):\n",
    "        i=e[0]\n",
    "        arg=e[1]\n",
    "        plt.quiver(*origin,*arg,angles='xy',scale_units='xy',scale=1,color=colors[i%len(colors)])\n",
    "        xmin=min(xmin,origin[0]+arg[0])\n",
    "        xmax=max(xmax,origin[0]+arg[0])\n",
    "        ymin=min(ymin,origin[1]+arg[1])\n",
    "        ymax=max(ymax,origin[1]+arg[1])\n",
    "        origin=arg\n",
    "    plt.xlim(min(-1, xmin-1), max(1,xmax+1))\n",
    "    plt.ylim(min(-1,ymin-1),max(1,ymax+1))"
   ]
  },
  {
   "cell_type": "code",
   "execution_count": 14,
   "metadata": {
    "slideshow": {
     "slide_type": "subslide"
    }
   },
   "outputs": [
    {
     "data": {
      "image/png": "[encoded data removed]",
      "text/plain": [
       "<Figure size 432x288 with 1 Axes>"
      ]
     },
     "metadata": {
      "needs_background": "light"
     },
     "output_type": "display_data"
    }
   ],
   "source": [
    "plotvec2(a,b)"
   ]
  },
  {
   "cell_type": "markdown",
   "metadata": {
    "slideshow": {
     "slide_type": "slide"
    }
   },
   "source": [
    "### Vector Addition\n",
    "\n",
    "The sum of two displacements results in a single overall displacement:\n"
   ]
  },
  {
   "cell_type": "code",
   "execution_count": 16,
   "metadata": {
    "slideshow": {
     "slide_type": "subslide"
    }
   },
   "outputs": [],
   "source": [
    "def plotvecsum(*argv):\n",
    "    colors=['k','b','r','g','c','m']\n",
    "    xmin=0\n",
    "    xmax=-1000000\n",
    "    ymin=0\n",
    "    ymax=-1000000\n",
    "    origin=[0,0]\n",
    "    plt.figure()\n",
    "    for e in enumerate(argv):\n",
    "        i=e[0]\n",
    "        arg=e[1]\n",
    "        plt.quiver(*origin,*arg,angles='xy',scale_units='xy',\n",
    "                   scale=1,color=colors[i%len(colors)])\n",
    "        xmin=min(xmin,origin[0]+arg[0])\n",
    "        xmax=max(xmax,origin[0]+arg[0])\n",
    "        ymin=min(ymin,origin[1]+arg[1])\n",
    "        ymax=max(ymax,origin[1]+arg[1])\n",
    "        result=[origin[0]+arg[0],origin[1]+arg[1]]\n",
    "        origin=arg\n",
    "    plt.xlim(xmin-1,xmax+1)\n",
    "    plt.ylim(ymin-1,ymax+1)\n",
    "    plt.quiver(*[0,0],*result,angles='xy',scale_units='xy',\n",
    "               scale=1,color='r')"
   ]
  },
  {
   "cell_type": "code",
   "execution_count": 17,
   "metadata": {
    "slideshow": {
     "slide_type": "subslide"
    }
   },
   "outputs": [
    {
     "data": {
      "image/png": "[encoded data removed]",
      "text/plain": [
       "<Figure size 432x288 with 1 Axes>"
      ]
     },
     "metadata": {
      "needs_background": "light"
     },
     "output_type": "display_data"
    }
   ],
   "source": [
    "plotvecsum(a,b)"
   ]
  },
  {
   "cell_type": "markdown",
   "metadata": {
    "slideshow": {
     "slide_type": "fragment"
    }
   },
   "source": [
    "**What is the rule to calculate the overall displacement?**"
   ]
  },
  {
   "cell_type": "markdown",
   "metadata": {
    "slideshow": {
     "slide_type": "subslide"
    }
   },
   "source": [
    "If $\\mathbf{c}= \\mathbf{a} + \\mathbf{b}$, then $c_i = a_i+b_i$ for all $i=1,2,\\ldots,n$"
   ]
  },
  {
   "cell_type": "markdown",
   "metadata": {
    "slideshow": {
     "slide_type": "subslide"
    }
   },
   "source": [
    "Implement a function to perform vector addition on any two lists:"
   ]
  },
  {
   "cell_type": "code",
   "execution_count": 28,
   "metadata": {
    "slideshow": {
     "slide_type": "fragment"
    }
   },
   "outputs": [],
   "source": [
    "def add(a,b):\n",
    "    if len(a) != len(b):\n",
    "        raise ValueError('The dimensions must be the same!')\n",
    "        \n",
    "    c=[]\n",
    "    for i in range(len(a)):\n",
    "        c += [a[i] + b[i]]\n",
    "    return c"
   ]
  },
  {
   "cell_type": "code",
   "execution_count": 29,
   "metadata": {},
   "outputs": [
    {
     "data": {
      "image/png": "[encoded data removed]",
      "text/plain": [
       "<Figure size 432x288 with 1 Axes>"
      ]
     },
     "metadata": {
      "needs_background": "light"
     },
     "output_type": "display_data"
    }
   ],
   "source": [
    "c = add(a,b)\n",
    "\n",
    "plotvec(a,b,c)"
   ]
  },
  {
   "cell_type": "code",
   "execution_count": 30,
   "metadata": {},
   "outputs": [
    {
     "ename": "ValueError",
     "evalue": "The dimensions must be the same!",
     "output_type": "error",
     "traceback": [
      "\u001b[0;31m---------------------------------------------------------------------------\u001b[0m",
      "\u001b[0;31mValueError\u001b[0m                                Traceback (most recent call last)",
      "\u001b[0;32m<ipython-input-30-93ee02beb459>\u001b[0m in \u001b[0;36m<module>\u001b[0;34m\u001b[0m\n\u001b[0;32m----> 1\u001b[0;31m \u001b[0madd\u001b[0m\u001b[0;34m(\u001b[0m\u001b[0;34m[\u001b[0m\u001b[0;36m1\u001b[0m\u001b[0;34m,\u001b[0m\u001b[0;36m2\u001b[0m\u001b[0;34m]\u001b[0m\u001b[0;34m,\u001b[0m\u001b[0;34m[\u001b[0m\u001b[0;36m1\u001b[0m\u001b[0;34m,\u001b[0m\u001b[0;36m2\u001b[0m\u001b[0;34m,\u001b[0m\u001b[0;36m2\u001b[0m\u001b[0;34m]\u001b[0m\u001b[0;34m)\u001b[0m\u001b[0;34m\u001b[0m\u001b[0;34m\u001b[0m\u001b[0m\n\u001b[0m",
      "\u001b[0;32m<ipython-input-28-a48385267771>\u001b[0m in \u001b[0;36madd\u001b[0;34m(a, b)\u001b[0m\n\u001b[1;32m      1\u001b[0m \u001b[0;32mdef\u001b[0m \u001b[0madd\u001b[0m\u001b[0;34m(\u001b[0m\u001b[0ma\u001b[0m\u001b[0;34m,\u001b[0m\u001b[0mb\u001b[0m\u001b[0;34m)\u001b[0m\u001b[0;34m:\u001b[0m\u001b[0;34m\u001b[0m\u001b[0;34m\u001b[0m\u001b[0m\n\u001b[1;32m      2\u001b[0m     \u001b[0;32mif\u001b[0m \u001b[0mlen\u001b[0m\u001b[0;34m(\u001b[0m\u001b[0ma\u001b[0m\u001b[0;34m)\u001b[0m \u001b[0;34m!=\u001b[0m \u001b[0mlen\u001b[0m\u001b[0;34m(\u001b[0m\u001b[0mb\u001b[0m\u001b[0;34m)\u001b[0m\u001b[0;34m:\u001b[0m\u001b[0;34m\u001b[0m\u001b[0;34m\u001b[0m\u001b[0m\n\u001b[0;32m----> 3\u001b[0;31m         \u001b[0;32mraise\u001b[0m \u001b[0mValueError\u001b[0m\u001b[0;34m(\u001b[0m\u001b[0;34m'The dimensions must be the same!'\u001b[0m\u001b[0;34m)\u001b[0m\u001b[0;34m\u001b[0m\u001b[0;34m\u001b[0m\u001b[0m\n\u001b[0m\u001b[1;32m      4\u001b[0m \u001b[0;34m\u001b[0m\u001b[0m\n\u001b[1;32m      5\u001b[0m     \u001b[0mc\u001b[0m\u001b[0;34m=\u001b[0m\u001b[0;34m[\u001b[0m\u001b[0;34m]\u001b[0m\u001b[0;34m\u001b[0m\u001b[0;34m\u001b[0m\u001b[0m\n",
      "\u001b[0;31mValueError\u001b[0m: The dimensions must be the same!"
     ]
    }
   ],
   "source": [
    "add([1,2],[1,2,2])"
   ]
  },
  {
   "cell_type": "markdown",
   "metadata": {
    "slideshow": {
     "slide_type": "subslide"
    }
   },
   "source": [
    "### Properties of Vector Addition\n",
    "\n",
    "Because vector addition is component-wise scalar addition, it inherits many of its properties from scalar addition.\n",
    "<div class=\"alert alert-info\">\n",
    "    \n",
    "* *Commutative*: $\\mathbf{a}+\\mathbf{b} = \\mathbf{b} + \\mathbf{a}$\n",
    "* *Associative*: $(\\mathbf{a}+\\mathbf{b}) +\\mathbf{c} = \\mathbf{a}+(\\mathbf{b} +\\mathbf{c})$\n",
    "* *Identity*: The zero-vector is the identity for vector addition: $\\mathbf{a} + \\mathbf{0}  = \\mathbf{a}$\n",
    "    \n",
    "</div>"
   ]
  },
  {
   "cell_type": "markdown",
   "metadata": {
    "slideshow": {
     "slide_type": "slide"
    }
   },
   "source": [
    "## Scalar-Vector Multiplication (Scaling)\n",
    "\n",
    "In scalar-vector multiplcation, a vector is  multiplied by a scalar (a number). This is achieved by multiplying every element of the vector by the scalar:\n",
    "\n",
    "$$ \\alpha \\begin{bmatrix} x_1 \\\\ x_2\\\\ \\vdots \\\\ x_n \\end{bmatrix} = \\begin{bmatrix} \\alpha x_1 \\\\ \\alpha x_2\\\\ \\vdots \\\\ \\alpha x_n \\end{bmatrix}$$"
   ]
  },
  {
   "cell_type": "markdown",
   "metadata": {
    "slideshow": {
     "slide_type": "subslide"
    }
   },
   "source": [
    "Implement a function to perform scalar-vector multiplication. \n",
    "\n",
    "1. Plot $\\mathbf{a}$ and $0.5\\mathbf{a}$. \n",
    "2. Plot $\\mathbf{b}$ and $2.5\\mathbf{b}$."
   ]
  },
  {
   "cell_type": "code",
   "execution_count": 31,
   "metadata": {
    "slideshow": {
     "slide_type": "fragment"
    }
   },
   "outputs": [],
   "source": [
    "def multiply(alpha,x):\n",
    "    # multiply alpha and x: c = alpha*x\n",
    "    c = []\n",
    "    for i in range(len(x)):\n",
    "        c += [alpha*x[i]]\n",
    "    return c    "
   ]
  },
  {
   "cell_type": "code",
   "execution_count": 32,
   "metadata": {
    "slideshow": {
     "slide_type": "subslide"
    }
   },
   "outputs": [
    {
     "data": {
      "image/png": "[encoded data removed]",
      "text/plain": [
       "<Figure size 432x288 with 1 Axes>"
      ]
     },
     "metadata": {
      "needs_background": "light"
     },
     "output_type": "display_data"
    }
   ],
   "source": [
    "plotvec(a, multiply(0.5,a))"
   ]
  },
  {
   "cell_type": "code",
   "execution_count": 33,
   "metadata": {
    "slideshow": {
     "slide_type": "subslide"
    }
   },
   "outputs": [
    {
     "data": {
      "image/png": "[encoded data removed]",
      "text/plain": [
       "<Figure size 432x288 with 1 Axes>"
      ]
     },
     "metadata": {
      "needs_background": "light"
     },
     "output_type": "display_data"
    }
   ],
   "source": [
    "plotvec(b, multiply(2,b))"
   ]
  },
  {
   "cell_type": "code",
   "execution_count": 34,
   "metadata": {},
   "outputs": [
    {
     "data": {
      "image/png": "[encoded data removed]",
      "text/plain": [
       "<Figure size 432x288 with 1 Axes>"
      ]
     },
     "metadata": {
      "needs_background": "light"
     },
     "output_type": "display_data"
    }
   ],
   "source": [
    "plotvec(b, multiply(-2.5,b))"
   ]
  },
  {
   "cell_type": "markdown",
   "metadata": {
    "slideshow": {
     "slide_type": "subslide"
    }
   },
   "source": [
    "**What do you observe?**"
   ]
  },
  {
   "cell_type": "markdown",
   "metadata": {
    "slideshow": {
     "slide_type": "fragment"
    }
   },
   "source": [
    "Resulting vector is in same direction as original vector, but it's length has been scaled."
   ]
  },
  {
   "cell_type": "markdown",
   "metadata": {
    "slideshow": {
     "slide_type": "subslide"
    }
   },
   "source": [
    "### Properties of Scaling\n",
    "\n",
    "<div class=\"alert alert-info\">\n",
    "\n",
    "\n",
    "* *Commutative*: $\\alpha \\mathbf{x} = \\mathbf{x} \\alpha$\n",
    "* *Associative*: If $\\alpha$ and $\\beta$ are scalars, then $(\\alpha  \\beta) \\mathbf{x} = \\alpha (\\beta \\mathbf{x})$\n",
    "* *Distributive over scalar addition*: $(\\alpha+\\beta) \\mathbf{x} = \\alpha \\mathbf{x} + \\beta \\mathbf{x}$ and $\\mathbf{x} (\\alpha+\\beta)  = \\mathbf{x}\\alpha  + \\mathbf{x} \\beta $ \n",
    "* *Distributive over vector addition*: $\\alpha ( \\mathbf{x} +\\mathbf{y}) = \\alpha \\mathbf{x} + \\alpha \\mathbf{y}$\n",
    "\n",
    "</div>"
   ]
  }
 ],
 "metadata": {
  "kernelspec": {
   "display_name": "Python 3",
   "language": "python",
   "name": "python3"
  },
  "language_info": {
   "codemirror_mode": {
    "name": "ipython",
    "version": 3
   },
   "file_extension": ".py",
   "mimetype": "text/x-python",
   "name": "python",
   "nbconvert_exporter": "python",
   "pygments_lexer": "ipython3",
   "version": "3.8.8"
  },
  "latex_envs": {
   "LaTeX_envs_menu_present": true,
   "autoclose": true,
   "autocomplete": true,
   "bibliofile": "biblio.bib",
   "cite_by": "apalike",
   "current_citInitial": 1,
   "eqLabelWithNumbers": true,
   "eqNumInitial": 1,
   "hotkeys": {
    "equation": "Ctrl-E",
    "itemize": "Ctrl-I"
   },
   "labels_anchors": false,
   "latex_user_defs": false,
   "report_style_numbering": false,
   "user_envs_cfg": false
  },
  "varInspector": {
   "cols": {
    "lenName": 16,
    "lenType": 16,
    "lenVar": 40
   },
   "kernels_config": {
    "python": {
     "delete_cmd_postfix": "",
     "delete_cmd_prefix": "del ",
     "library": "var_list.py",
     "varRefreshCmd": "print(var_dic_list())"
    },
    "r": {
     "delete_cmd_postfix": ") ",
     "delete_cmd_prefix": "rm(",
     "library": "var_list.r",
     "varRefreshCmd": "cat(var_dic_list()) "
    }
   },
   "position": {
    "height": "511px",
    "left": "1555px",
    "right": "20px",
    "top": "117px",
    "width": "334px"
   },
   "types_to_exclude": [
    "module",
    "function",
    "builtin_function_or_method",
    "instance",
    "_Feature"
   ],
   "window_display": false
  }
 },
 "nbformat": 4,
 "nbformat_minor": 2
}
