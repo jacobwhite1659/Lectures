{
 "cells": [
  {
   "cell_type": "markdown",
   "metadata": {},
   "source": [
    "# **<h1 align=\"center\"><font color=blue> Linear Algebra</font></h1>**"
   ]
  },
  {
   "cell_type": "markdown",
   "metadata": {
    "slideshow": {
     "slide_type": "slide"
    }
   },
   "source": [
    "# Lecture 19\n",
    "- Introduction to Vectors & Vector Operations"
   ]
  },
  {
   "cell_type": "code",
   "execution_count": null,
   "metadata": {
    "slideshow": {
     "slide_type": "subslide"
    }
   },
   "outputs": [],
   "source": [
    "import pandas as pd\n",
    "import scipy.stats as stats\n",
    "import numpy as np\n",
    "import numpy.random as npr\n",
    "import matplotlib.pyplot as plt\n",
    "%matplotlib inline\n",
    "plt.style.use('bmh')"
   ]
  },
  {
   "cell_type": "markdown",
   "metadata": {
    "slideshow": {
     "slide_type": "slide"
    }
   },
   "source": [
    "# Working with Multidimensional Data"
   ]
  },
  {
   "cell_type": "markdown",
   "metadata": {
    "slideshow": {
     "slide_type": "subslide"
    }
   },
   "source": [
    "All of the tests we have done so far have worked on one-dimensional data. I.e., we look at some statistics from samples of a single feature, but we tried to determine whether that feature was influenced by some other binary event.\n",
    "\n",
    "For example, we looked at firearms mortality rates before and after the federal assault weapons ban."
   ]
  },
  {
   "cell_type": "markdown",
   "metadata": {
    "slideshow": {
     "slide_type": "subslide"
    }
   },
   "source": [
    "However, many times we want to investigate the relation between multiple features. We saw an example of this with the firearms mortality rate data: what if we look at the relation between the number of laws regulating guns and the firearms mortality in each state:"
   ]
  },
  {
   "cell_type": "code",
   "execution_count": null,
   "metadata": {
    "slideshow": {
     "slide_type": "subslide"
    }
   },
   "outputs": [],
   "source": [
    "df=pd.read_csv('firearms-combined.csv')"
   ]
  },
  {
   "cell_type": "code",
   "execution_count": null,
   "metadata": {
    "slideshow": {
     "slide_type": "fragment"
    }
   },
   "outputs": [],
   "source": [
    "plt.scatter(df['Total Laws 2014'],df['RATE-2014'])\n",
    "plt.xlabel('Total Gun Laws in a State in 2014',size=15)\n",
    "plt.ylabel('Firearms Mortality Rate in 2014',size=15);"
   ]
  },
  {
   "cell_type": "markdown",
   "metadata": {
    "slideshow": {
     "slide_type": "subslide"
    }
   },
   "source": [
    "There seems to be a relation between these two features: as the number of total gun laws in a state in 2014 increases, the firearms mortality rate decreases. \n",
    "\n",
    "But until now, we only knew how to evaluate this relation by looking at a single feature (firearms mortality rate) and clustering that data into two groups based on the number of total gun laws."
   ]
  },
  {
   "cell_type": "markdown",
   "metadata": {
    "slideshow": {
     "slide_type": "subslide"
    }
   },
   "source": [
    "We are ready to apply more sophisticated approaches to study how multiple features are related, but we need some new tools:"
   ]
  },
  {
   "cell_type": "markdown",
   "metadata": {
    "slideshow": {
     "slide_type": "slide"
    }
   },
   "source": [
    "## Vectors\n"
   ]
  },
  {
   "cell_type": "markdown",
   "metadata": {
    "slideshow": {
     "slide_type": "subslide"
    }
   },
   "source": [
    "<div class=\"alert alert-info\">\n",
    "  <strong>Vectors</strong>\n",
    "\n",
    "*Vectors* are ordered lists of numbers. \n",
    "\n",
    "</div>"
   ]
  },
  {
   "cell_type": "markdown",
   "metadata": {
    "slideshow": {
     "slide_type": "fragment"
    }
   },
   "source": [
    "Vectors are very similar to lists or tuples in Python.\n",
    "\n",
    "Usually, the numbers come from the set of real numbers, which we denote by $\\mathbb{R}$."
   ]
  },
  {
   "cell_type": "markdown",
   "metadata": {
    "slideshow": {
     "slide_type": "subslide"
    }
   },
   "source": [
    "<div class=\"alert alert-info\">\n",
    "      <strong>Scalars</strong>\n",
    "\n",
    "Single numerical values are called *scalars*.\n",
    "</div>"
   ]
  },
  {
   "cell_type": "markdown",
   "metadata": {
    "slideshow": {
     "slide_type": "subslide"
    }
   },
   "source": [
    "<div class=\"alert alert-warning\">\n",
    "\n",
    "We use various conventions in writing vectors. To distinguish a vector variable from a scalar, we will write it in **bold** when typed:\n",
    "\n",
    "$~~~~~$A vector $\\mathbf{x}$ and a scalar $\\alpha$.\n",
    "\n",
    "For convenience, we will often write them in the same way as Python tuples: $~~~~~\\mathbf{x} = (0.5,3,0.7, -1.0)$\n",
    "\n",
    "Vectors are often written as a special type of array or numerical table that is only 1 number wide. In this case, we usually use square brackets to deliminate the vector:\n",
    "\\begin{align}\n",
    "\\mathbf{x} = \\begin{bmatrix}\n",
    "           0.5 \\\\\n",
    "           3 \\\\\n",
    "           0.7 \\\\\n",
    "           -1.0\n",
    "         \\end{bmatrix}\n",
    "\\end{align}\n",
    "Sometimes, such a vector is called a *column vector*.\n",
    "\n",
    "To save space, we can also write a column vector like\n",
    "$~~~~~\\mathbf{x} = \\left[0.5,3,0.7, -1.0\\right]^T$,\n",
    "\n",
    "where the superscript $~^T$ denotes that the vector is turned $90^\\circ$\n",
    "    \n",
    "</div>"
   ]
  },
  {
   "cell_type": "markdown",
   "metadata": {
    "slideshow": {
     "slide_type": "subslide"
    }
   },
   "source": [
    "<div class=\"alert alert-info\">\n",
    "      <strong>Vector Elements</strong>\n",
    "\n",
    "The *elements* (or *entries*, *coefficients*, *components*) of a vector are the values within that vector.\n",
    "</div>"
   ]
  },
  {
   "cell_type": "markdown",
   "metadata": {
    "slideshow": {
     "slide_type": "fragment"
    }
   },
   "source": [
    "<div class=\"alert alert-warning\">\n",
    "\n",
    "If $\\mathbf{a}$ is a vector, then $a_i$ denotes the $i$th element of the vector. \n",
    "\n",
    "<font color='red'>Unlike Python, the convention in mathematics is to index from 1.</font>\n",
    "</div>\n",
    "\n",
    "\n",
    "$~~~~~$For the example $\\mathbf{x}= \\left[0.5,3,0.7, -1.0\\right]^T$, $x_3=0.7$"
   ]
  },
  {
   "cell_type": "markdown",
   "metadata": {
    "slideshow": {
     "slide_type": "subslide"
    }
   },
   "source": [
    "<div class=\"alert alert-info\">\n",
    "  <strong>Dimension</strong>\n",
    "    \n",
    "The **dimension** (or **size**) of a vector is the number of elements it contains.\n",
    "</div>\n",
    "\n",
    "$~~~~~$ For the example $x$ above, the dimension is $4$.\n",
    "\n",
    "A vector of size $n$ is called an $n$-dimensional vector, or simply a $n$-vector.\n",
    "\n",
    "The set of all $n$-vectors over the real line is denoted by $\\mathbb{R}^n$. \n",
    "\n",
    "<font color=\"red\"> Although Boyd and Vandenberghe say that another name for dimension is *length*, we will reserve that term for a different property of vectors.</font>"
   ]
  },
  {
   "cell_type": "markdown",
   "metadata": {
    "slideshow": {
     "slide_type": "slide"
    }
   },
   "source": [
    "## Special vectors\n",
    "\n",
    "**<font color=\"blue\">Zero Vectors</font>** A *zero vector* is a vector with all elements equal to zero. We will denote the $n$-dimensional zero vector by $\\mathbf{0}_n$.\n",
    "\n",
    "$~~~~~$ For example, \n",
    "\\begin{align}\n",
    "\\mathbf{0}_5 = \n",
    "\\begin{bmatrix}\n",
    "0\\\\0\\\\0\\\\0\\\\ 0\n",
    "\\end{bmatrix}\n",
    "\\end{align}"
   ]
  },
  {
   "cell_type": "code",
   "execution_count": null,
   "metadata": {},
   "outputs": [],
   "source": []
  },
  {
   "cell_type": "code",
   "execution_count": null,
   "metadata": {},
   "outputs": [],
   "source": []
  },
  {
   "cell_type": "markdown",
   "metadata": {
    "slideshow": {
     "slide_type": "subslide"
    }
   },
   "source": [
    "**<font color=\"blue\">Ones vectors</font>** A *ones vector* is a vector with all elements equal to one. We will denote the $n$-dimensional ones vector by $\\mathbf{1}_n$."
   ]
  },
  {
   "cell_type": "code",
   "execution_count": null,
   "metadata": {},
   "outputs": [],
   "source": []
  },
  {
   "cell_type": "code",
   "execution_count": null,
   "metadata": {},
   "outputs": [],
   "source": []
  },
  {
   "cell_type": "markdown",
   "metadata": {
    "slideshow": {
     "slide_type": "subslide"
    }
   },
   "source": [
    "**<font color=\"blue\">Standard Unit Vectors</font>** A *standard unit vector* is a vector with all elements equal to zero, except one element which is equal to one. \n",
    "\n",
    "For a given dimension $n$, we denote the stanard unit vector with element $i$ equal to 1 by $e_i$. \n",
    "\n",
    "For example, the three standard unit vectors of dimension 3 are:\n",
    "\n",
    "\\begin{align}\n",
    "e_1=\n",
    "\\begin{bmatrix}\n",
    "1\\\\ 0\\\\ 0\n",
    "\\end{bmatrix}, ~~~~~\n",
    "e_2=\n",
    "\\begin{bmatrix}\n",
    "0\\\\ 1\\\\ 0\n",
    "\\end{bmatrix}, ~~~~~\n",
    "e_3=\n",
    "\\begin{bmatrix}\n",
    "0\\\\ 0\\\\ 1\n",
    "\\end{bmatrix}\n",
    "\\end{align}"
   ]
  },
  {
   "cell_type": "markdown",
   "metadata": {
    "slideshow": {
     "slide_type": "slide"
    }
   },
   "source": [
    "### Uses\n",
    "\n",
    "Vectors are typically used to represent:\n",
    "* Any $n$-dimensional data\n",
    "* Points in a plane\n",
    "* Displacements between data values or points in a plane"
   ]
  },
  {
   "cell_type": "markdown",
   "metadata": {
    "slideshow": {
     "slide_type": "subslide"
    }
   },
   "source": [
    "Some examples (from Section 1.1 in the Boyd book) include:\n",
    "* **Colors**: represented as intensities of Red, Green, and Blue (RGB) or Chrome, Magenta, Yellow, and Black (CMYK), etc.\n",
    "* **Portfolio allocations**: $(10,25,75)$ may denote 10 shares of stock $A$, 25 shares of stock $B$, and 75 shares of stock $C$\n",
    "* **Proportions**: A vector with values adding to 1 indicating whta proportion is associated with various choices, outcomes, or options. For example, $(0.25, 0.3, 0.45)$ may denote 25% associated with one source, 30% associated with a second source, and 45% associated with a third source\n",
    "* **Time series**: the value of some quantity at different times"
   ]
  },
  {
   "cell_type": "code",
   "execution_count": null,
   "metadata": {
    "slideshow": {
     "slide_type": "subslide"
    }
   },
   "outputs": [],
   "source": [
    "predicted_temps=[36, 35, 34, 32, 31, 30, 29, 29, 32, 36, 41, 45, \n",
    "                 49, 51, 54, 56, 57, 55, 53, 50, 47, 45, 43, 42]\n",
    "time=list(range(0,24))\n",
    "\n",
    "plt.scatter(time, predicted_temps)\n",
    "plt.ylabel('Predicted Temp (F)',size=15)\n",
    "plt.xlabel('Time (24 Hr)',size=15)\n",
    "plt.title('Predicted daily temperature in Gainesville FL starting 03/13/2022',size=15);"
   ]
  },
  {
   "cell_type": "markdown",
   "metadata": {
    "slideshow": {
     "slide_type": "slide"
    }
   },
   "source": [
    "## Visualizing Vectors\n",
    "\n",
    "Vectors are most often visualized as displacements from a point. If no starting point is given, then the vector is the displacement from the origin.\n",
    "\n",
    "We are only going to plot $2$-vectors here. For 2-vectors, the components the vectors are taken to represent $x$ and $y$ displacement:\n",
    "$$\n",
    "\\mathbf{a} = \n",
    "\\begin{bmatrix}\n",
    "a_x\\\\ a_y\n",
    "\\end{bmatrix}\n",
    "$$"
   ]
  },
  {
   "cell_type": "markdown",
   "metadata": {
    "slideshow": {
     "slide_type": "subslide"
    }
   },
   "source": [
    "To make life easier, here is a simple function to plot multiple vectors on the same axes and automatically choose the $x$- and $y$-limits for plotting:"
   ]
  },
  {
   "cell_type": "code",
   "execution_count": null,
   "metadata": {
    "slideshow": {
     "slide_type": "subslide"
    }
   },
   "outputs": [],
   "source": [
    "def plotvec(*argv):\n",
    "    colors=['b','k','r','g','c','m']\n",
    "    xmin=0\n",
    "    xmax=-1000000\n",
    "    ymin=0\n",
    "    ymax=-1000000\n",
    "    origin=[0,0]\n",
    "    plt.figure()\n",
    "    for e in enumerate(argv):\n",
    "        i=e[0]\n",
    "        arg=e[1]\n",
    "        plt.quiver(*origin,*arg,angles='xy',scale_units='xy',scale=1,\n",
    "                   color=colors[i%len(colors)])\n",
    "        xmin=min(xmin,arg[0])\n",
    "        xmax=max(xmax,arg[0])\n",
    "        ymin=min(ymin,arg[1])\n",
    "        ymax=max(ymax,arg[1])\n",
    "    plt.xlim(min(-1, xmin-1), max(1,xmax+1))\n",
    "    plt.ylim(min(-1,ymin-1),max(1,ymax+1))"
   ]
  },
  {
   "cell_type": "markdown",
   "metadata": {
    "slideshow": {
     "slide_type": "subslide"
    }
   },
   "source": [
    "Consider the vector $\\mathbf{a}=[2,3]^T$. In two-dimensional space, this means start at the origin and move 2 in the $x$ direction (to the right) and 3 in the $y$ direction (up). \n",
    "\n",
    "We draw an arrow from (0,0) to (2,3) to represent this vector."
   ]
  },
  {
   "cell_type": "code",
   "execution_count": null,
   "metadata": {
    "slideshow": {
     "slide_type": "subslide"
    }
   },
   "outputs": [],
   "source": []
  },
  {
   "cell_type": "markdown",
   "metadata": {
    "slideshow": {
     "slide_type": "subslide"
    }
   },
   "source": [
    "Let's create a second vector. We can plot both:"
   ]
  },
  {
   "cell_type": "code",
   "execution_count": null,
   "metadata": {
    "slideshow": {
     "slide_type": "subslide"
    }
   },
   "outputs": [],
   "source": []
  },
  {
   "cell_type": "markdown",
   "metadata": {},
   "source": [
    "Create another vector and plot it with $a$ and $b$:"
   ]
  },
  {
   "cell_type": "code",
   "execution_count": null,
   "metadata": {
    "slideshow": {
     "slide_type": "subslide"
    }
   },
   "outputs": [],
   "source": []
  },
  {
   "cell_type": "markdown",
   "metadata": {
    "slideshow": {
     "slide_type": "subslide"
    }
   },
   "source": [
    "If vectors represent displacements, then we can consider a sequence of vectors as a set of instructions for how to move, starting at the origin. In this case, the starting point for $b$ should be $a$."
   ]
  },
  {
   "cell_type": "code",
   "execution_count": null,
   "metadata": {
    "slideshow": {
     "slide_type": "subslide"
    }
   },
   "outputs": [],
   "source": [
    "def plotvec2(*argv):\n",
    "    colors=['b','k','r','g','c','m']\n",
    "    xmin=0\n",
    "    xmax=-1000000\n",
    "    ymin=0\n",
    "    ymax=-1000000\n",
    "    origin=[0,0]\n",
    "    plt.figure()\n",
    "    for e in enumerate(argv):\n",
    "        i=e[0]\n",
    "        arg=e[1]\n",
    "        plt.quiver(*origin,*arg,angles='xy',scale_units='xy',scale=1,color=colors[i%len(colors)])\n",
    "        xmin=min(xmin,origin[0]+arg[0])\n",
    "        xmax=max(xmax,origin[0]+arg[0])\n",
    "        ymin=min(ymin,origin[1]+arg[1])\n",
    "        ymax=max(ymax,origin[1]+arg[1])\n",
    "        origin=arg\n",
    "    plt.xlim(min(-1, xmin-1), max(1,xmax+1))\n",
    "    plt.ylim(min(-1,ymin-1),max(1,ymax+1))"
   ]
  },
  {
   "cell_type": "code",
   "execution_count": null,
   "metadata": {
    "slideshow": {
     "slide_type": "subslide"
    }
   },
   "outputs": [],
   "source": []
  },
  {
   "cell_type": "markdown",
   "metadata": {
    "slideshow": {
     "slide_type": "slide"
    }
   },
   "source": [
    "### Vector Addition\n",
    "\n",
    "The sum of two displacements results in a single overall displacement:\n"
   ]
  },
  {
   "cell_type": "code",
   "execution_count": null,
   "metadata": {
    "slideshow": {
     "slide_type": "subslide"
    }
   },
   "outputs": [],
   "source": [
    "def plotvecsum(*argv):\n",
    "    colors=['k','b','r','g','c','m']\n",
    "    xmin=0\n",
    "    xmax=-1000000\n",
    "    ymin=0\n",
    "    ymax=-1000000\n",
    "    origin=[0,0]\n",
    "    plt.figure()\n",
    "    for e in enumerate(argv):\n",
    "        i=e[0]\n",
    "        arg=e[1]\n",
    "        plt.quiver(*origin,*arg,angles='xy',scale_units='xy',\n",
    "                   scale=1,color=colors[i%len(colors)])\n",
    "        xmin=min(xmin,origin[0]+arg[0])\n",
    "        xmax=max(xmax,origin[0]+arg[0])\n",
    "        ymin=min(ymin,origin[1]+arg[1])\n",
    "        ymax=max(ymax,origin[1]+arg[1])\n",
    "        result=[origin[0]+arg[0],origin[1]+arg[1]]\n",
    "        origin=arg\n",
    "    plt.xlim(xmin-1,xmax+1)\n",
    "    plt.ylim(ymin-1,ymax+1)\n",
    "    plt.quiver(*[0,0],*result,angles='xy',scale_units='xy',\n",
    "               scale=1,color='r')"
   ]
  },
  {
   "cell_type": "code",
   "execution_count": null,
   "metadata": {
    "slideshow": {
     "slide_type": "subslide"
    }
   },
   "outputs": [],
   "source": []
  },
  {
   "cell_type": "markdown",
   "metadata": {
    "slideshow": {
     "slide_type": "fragment"
    }
   },
   "source": [
    "**What is the rule to calculate the overall displacement?**"
   ]
  },
  {
   "cell_type": "markdown",
   "metadata": {
    "slideshow": {
     "slide_type": "subslide"
    }
   },
   "source": [
    "If $\\mathbf{c}= \\mathbf{a} + \\mathbf{b}$, then $c_i = a_i+b_i$ for all $i=1,2,\\ldots,n$"
   ]
  },
  {
   "cell_type": "markdown",
   "metadata": {
    "slideshow": {
     "slide_type": "subslide"
    }
   },
   "source": [
    "Implement a function to perform vector addition on any two lists:"
   ]
  },
  {
   "cell_type": "code",
   "execution_count": null,
   "metadata": {
    "slideshow": {
     "slide_type": "fragment"
    }
   },
   "outputs": [],
   "source": [
    "def add(a,b):\n",
    "    \n",
    "    \n",
    "    \n",
    "    return c"
   ]
  },
  {
   "cell_type": "code",
   "execution_count": null,
   "metadata": {},
   "outputs": [],
   "source": []
  },
  {
   "cell_type": "markdown",
   "metadata": {
    "slideshow": {
     "slide_type": "subslide"
    }
   },
   "source": [
    "### Properties of Vector Addition\n",
    "\n",
    "Because vector addition is component-wise scalar addition, it inherits many of its properties from scalar addition.\n",
    "<div class=\"alert alert-info\">\n",
    "    \n",
    "* *Commutative*: $\\mathbf{a}+\\mathbf{b} = \\mathbf{b} + \\mathbf{a}$\n",
    "* *Associative*: $(\\mathbf{a}+\\mathbf{b}) +\\mathbf{c} = \\mathbf{a}+(\\mathbf{b} +\\mathbf{c})$\n",
    "* *Identity*: The zero-vector is the identity for vector addition: $\\mathbf{a} + \\mathbf{0}  = \\mathbf{a}$\n",
    "    \n",
    "</div>"
   ]
  },
  {
   "cell_type": "markdown",
   "metadata": {
    "slideshow": {
     "slide_type": "slide"
    }
   },
   "source": [
    "## Scalar-Vector Multiplication (Scaling)\n",
    "\n",
    "In scalar-vector multiplcation, a vector is  multiplied by a scalar (a number). This is achieved by multiplying every element of the vector by the scalar:\n",
    "\n",
    "$$ \\alpha \\begin{bmatrix} x_1 \\\\ x_2\\\\ \\vdots \\\\ x_n \\end{bmatrix} = \\begin{bmatrix} \\alpha x_1 \\\\ \\alpha x_2\\\\ \\vdots \\\\ \\alpha x_n \\end{bmatrix}$$"
   ]
  },
  {
   "cell_type": "markdown",
   "metadata": {
    "slideshow": {
     "slide_type": "subslide"
    }
   },
   "source": [
    "Implement a function to perform scalar-vector multiplication. \n",
    "\n",
    "1. Plot $\\mathbf{a}$ and $0.5\\mathbf{a}$. \n",
    "2. Plot $\\mathbf{b}$ and $2.5\\mathbf{b}$."
   ]
  },
  {
   "cell_type": "code",
   "execution_count": null,
   "metadata": {
    "slideshow": {
     "slide_type": "fragment"
    }
   },
   "outputs": [],
   "source": [
    "def multiply(alpha,x):\n",
    "    \n",
    "    \n",
    "    \n",
    "    return c    "
   ]
  },
  {
   "cell_type": "code",
   "execution_count": null,
   "metadata": {
    "slideshow": {
     "slide_type": "subslide"
    }
   },
   "outputs": [],
   "source": []
  },
  {
   "cell_type": "code",
   "execution_count": null,
   "metadata": {
    "slideshow": {
     "slide_type": "subslide"
    }
   },
   "outputs": [],
   "source": []
  },
  {
   "cell_type": "code",
   "execution_count": null,
   "metadata": {},
   "outputs": [],
   "source": []
  },
  {
   "cell_type": "markdown",
   "metadata": {
    "slideshow": {
     "slide_type": "subslide"
    }
   },
   "source": [
    "**What do you observe?**"
   ]
  },
  {
   "cell_type": "markdown",
   "metadata": {
    "slideshow": {
     "slide_type": "fragment"
    }
   },
   "source": [
    "Resulting vector is in same direction as original vector, but it's length has been scaled."
   ]
  },
  {
   "cell_type": "markdown",
   "metadata": {
    "slideshow": {
     "slide_type": "subslide"
    }
   },
   "source": [
    "### Properties of Scaling\n",
    "\n",
    "<div class=\"alert alert-info\">\n",
    "\n",
    "\n",
    "* *Commutative*: $\\alpha \\mathbf{x} = \\mathbf{x} \\alpha$\n",
    "* *Associative*: If $\\alpha$ and $\\beta$ are scalars, then $(\\alpha  \\beta) \\mathbf{x} = \\alpha (\\beta \\mathbf{x})$\n",
    "* *Distributive over scalar addition*: $(\\alpha+\\beta) \\mathbf{x} = \\alpha \\mathbf{x} + \\beta \\mathbf{x}$ and $\\mathbf{x} (\\alpha+\\beta)  = \\mathbf{x}\\alpha  + \\mathbf{x} \\beta $ \n",
    "* *Distributive over vector addition*: $\\alpha ( \\mathbf{x} +\\mathbf{y}) = \\alpha \\mathbf{x} + \\alpha \\mathbf{y}$\n",
    "\n",
    "</div>"
   ]
  },
  {
   "cell_type": "markdown",
   "metadata": {
    "slideshow": {
     "slide_type": "slide"
    }
   },
   "source": [
    "## Vector-Vector Multiplication: Inner Product"
   ]
  },
  {
   "cell_type": "markdown",
   "metadata": {
    "slideshow": {
     "slide_type": "subslide"
    }
   },
   "source": [
    "We also can define multiplication between vectors, but that can be done in different ways. Let's start with the easiest and most common:\n",
    "\n",
    "<div class=\"alert alert-info\">\n",
    "  <strong>Inner Product</strong>\n",
    "\n",
    "The *inner product* or *dot product* between two $n$-vectors $a$ and $b$ is the **scalar value** given by\n",
    "\n",
    "$$ \\mathbf{a} \\cdot \\mathbf{b} = \\mathbf{a}^T \\mathbf{b} = a_1 b_1 + a_2 b_2 + \\ldots + a_n b_n $$\n",
    "</div>\n",
    "\n",
    "I.e., multiplication is carried out elementwise, and then the resulting values are added.\n",
    "\n",
    "Inner product can also be denoted using other notation, such as $\\langle a, b\\rangle$ or $(a,b)$."
   ]
  },
  {
   "cell_type": "markdown",
   "metadata": {
    "slideshow": {
     "slide_type": "subslide"
    }
   },
   "source": [
    "Write a function to compute the inner product of two vectors. Here is a \"Pythonic\" way to iterate over the corresponding elements of two vectors:"
   ]
  },
  {
   "cell_type": "code",
   "execution_count": null,
   "metadata": {
    "slideshow": {
     "slide_type": "subslide"
    }
   },
   "outputs": [],
   "source": []
  },
  {
   "cell_type": "code",
   "execution_count": null,
   "metadata": {
    "slideshow": {
     "slide_type": "subslide"
    }
   },
   "outputs": [],
   "source": [
    "def inner(a,b):\n",
    "    \n",
    "    \n",
    "    \n",
    "    return total"
   ]
  },
  {
   "cell_type": "markdown",
   "metadata": {
    "slideshow": {
     "slide_type": "subslide"
    }
   },
   "source": [
    "Use your function to compute the inner product of $\\mathbf{a}$ and $\\mathbf{b}$"
   ]
  },
  {
   "cell_type": "code",
   "execution_count": null,
   "metadata": {
    "slideshow": {
     "slide_type": "fragment"
    }
   },
   "outputs": [],
   "source": []
  },
  {
   "cell_type": "markdown",
   "metadata": {
    "slideshow": {
     "slide_type": "subslide"
    }
   },
   "source": [
    "Use your function to compute the inner product of $[-1,2,2]^T$ and $[1,0,-3]^T$"
   ]
  },
  {
   "cell_type": "code",
   "execution_count": null,
   "metadata": {
    "slideshow": {
     "slide_type": "fragment"
    }
   },
   "outputs": [],
   "source": []
  },
  {
   "cell_type": "markdown",
   "metadata": {},
   "source": [
    "What happens if we switch the order of the arguments in the inner product?\n",
    "\n",
    "Use your function to verify:"
   ]
  },
  {
   "cell_type": "code",
   "execution_count": null,
   "metadata": {
    "slideshow": {
     "slide_type": "fragment"
    }
   },
   "outputs": [],
   "source": []
  },
  {
   "cell_type": "code",
   "execution_count": null,
   "metadata": {
    "slideshow": {
     "slide_type": "fragment"
    }
   },
   "outputs": [],
   "source": []
  },
  {
   "cell_type": "markdown",
   "metadata": {
    "slideshow": {
     "slide_type": "subslide"
    }
   },
   "source": [
    "### Properties of Inner Product"
   ]
  },
  {
   "cell_type": "markdown",
   "metadata": {
    "slideshow": {
     "slide_type": "fragment"
    }
   },
   "source": [
    "<div class=\"alert alert-info\">\n",
    "\n",
    "* *Commutative*: $\\mathbf{a}^T \\mathbf{b} = \\mathbf{b}^T \\mathbf{a}$\n",
    "* *Associative with scalar multiplication*: $(\\gamma \\mathbf{a})^T \\mathbf{b} = \\gamma (\\mathbf{a}^T \\mathbf{b} )$\n",
    "* *Distributive across vector addition*: $(\\mathbf{a} +\\mathbf{b})^T \\mathbf{c} = \\mathbf{a}^T \\mathbf{c} +\\mathbf{b}^T \\mathbf{c}$\n",
    "</div>"
   ]
  },
  {
   "cell_type": "markdown",
   "metadata": {
    "slideshow": {
     "slide_type": "subslide"
    }
   },
   "source": [
    "### Special examples:"
   ]
  },
  {
   "cell_type": "markdown",
   "metadata": {
    "slideshow": {
     "slide_type": "subslide"
    }
   },
   "source": [
    "**Inner product with Standard Unit Vector**\n",
    "\n",
    "$\\mathbf{e}_i^T \\mathbf{a} = a_i$"
   ]
  },
  {
   "cell_type": "code",
   "execution_count": null,
   "metadata": {
    "slideshow": {
     "slide_type": "fragment"
    }
   },
   "outputs": [],
   "source": []
  },
  {
   "cell_type": "markdown",
   "metadata": {
    "slideshow": {
     "slide_type": "fragment"
    }
   },
   "source": [
    "Computing the inner product with the $i$th standard unit vector returns the $i$th element"
   ]
  },
  {
   "cell_type": "markdown",
   "metadata": {
    "slideshow": {
     "slide_type": "subslide"
    }
   },
   "source": [
    "**Inner product with 1s vector: Summation**\n",
    "\n",
    "$\\mathbf{1}^T \\mathbf{a} = a_1 + a_2 + \\ldots + a_n$"
   ]
  },
  {
   "cell_type": "code",
   "execution_count": null,
   "metadata": {
    "slideshow": {
     "slide_type": "fragment"
    }
   },
   "outputs": [],
   "source": []
  },
  {
   "cell_type": "markdown",
   "metadata": {
    "slideshow": {
     "slide_type": "subslide"
    }
   },
   "source": [
    "**Averaging** \n",
    "\n",
    "$\\frac{1}{n} \\mathbf{1}^T \\mathbf{a} = [1/n, 1/n, \\ldots, 1/n]^T \\mathbf{a} $"
   ]
  },
  {
   "cell_type": "code",
   "execution_count": null,
   "metadata": {
    "slideshow": {
     "slide_type": "fragment"
    }
   },
   "outputs": [],
   "source": []
  },
  {
   "cell_type": "code",
   "execution_count": null,
   "metadata": {
    "slideshow": {
     "slide_type": "subslide"
    }
   },
   "outputs": [],
   "source": []
  },
  {
   "cell_type": "code",
   "execution_count": null,
   "metadata": {
    "slideshow": {
     "slide_type": "fragment"
    }
   },
   "outputs": [],
   "source": []
  },
  {
   "cell_type": "code",
   "execution_count": null,
   "metadata": {},
   "outputs": [],
   "source": []
  },
  {
   "cell_type": "markdown",
   "metadata": {
    "slideshow": {
     "slide_type": "subslide"
    }
   },
   "source": [
    "**Sum of Squares**\n",
    "\n",
    "$ \\mathbf{a}^T\\mathbf{a} = a_1^2 + a_2^2 + \\cdots + a_n^2$"
   ]
  },
  {
   "cell_type": "code",
   "execution_count": null,
   "metadata": {
    "slideshow": {
     "slide_type": "fragment"
    }
   },
   "outputs": [],
   "source": []
  },
  {
   "cell_type": "markdown",
   "metadata": {
    "slideshow": {
     "slide_type": "subslide"
    }
   },
   "source": [
    "**Lengths of Vectors**\n",
    "\n",
    "For vectors $a$ and $b$, what are their lengths?"
   ]
  },
  {
   "cell_type": "code",
   "execution_count": null,
   "metadata": {
    "slideshow": {
     "slide_type": "subslide"
    }
   },
   "outputs": [],
   "source": []
  },
  {
   "cell_type": "code",
   "execution_count": null,
   "metadata": {
    "slideshow": {
     "slide_type": "subslide"
    }
   },
   "outputs": [],
   "source": []
  },
  {
   "cell_type": "markdown",
   "metadata": {
    "slideshow": {
     "slide_type": "subslide"
    }
   },
   "source": [
    "We denote the length of a vector $\\mathbf{a}$ by $\\| \\mathbf{a}\\|$, which is read **norm** of $ \\mathbf{a}$. Thus,\n",
    "\n",
    "$$ \\|\\mathbf{a}\\|^2 = \\mathbf{a}^T\\mathbf{a} $$\n",
    "\n",
    "The inner-product of a vector with itself is its norm-squared."
   ]
  },
  {
   "cell_type": "markdown",
   "metadata": {},
   "source": [
    "**Orthogonal vectors**\n",
    "\n",
    "Consider the two standard unit vectors and their inner product:"
   ]
  },
  {
   "cell_type": "code",
   "execution_count": null,
   "metadata": {},
   "outputs": [],
   "source": []
  },
  {
   "cell_type": "code",
   "execution_count": null,
   "metadata": {},
   "outputs": [],
   "source": []
  },
  {
   "cell_type": "markdown",
   "metadata": {},
   "source": [
    "Now consider, $a=[2,1]$ and $b=[-1, 2]$:"
   ]
  },
  {
   "cell_type": "code",
   "execution_count": null,
   "metadata": {},
   "outputs": [],
   "source": []
  },
  {
   "cell_type": "code",
   "execution_count": null,
   "metadata": {},
   "outputs": [],
   "source": []
  },
  {
   "cell_type": "markdown",
   "metadata": {},
   "source": [
    "So if the inner product of two vectors is zero, then the vector are perpendicular, that is, they have an 45$^\\circ$ angle between them. This is a sufficient and necessary condition, that is:\n",
    "\n",
    "$$\\mathbf{x}^T\\mathbf{y} = 0 \\iff \\mathbf{x} \\perp \\mathbf{y}$$"
   ]
  },
  {
   "cell_type": "markdown",
   "metadata": {},
   "source": [
    "# Vectors in ```NumPy```"
   ]
  },
  {
   "cell_type": "markdown",
   "metadata": {},
   "source": [
    "We saw how to implement operations like vector addition, scalar-vector multiplication, and vector inner product.\n",
    "\n",
    "```NumPy``` can do all these operations on vectors:"
   ]
  },
  {
   "cell_type": "code",
   "execution_count": null,
   "metadata": {},
   "outputs": [],
   "source": [
    "a=[2,3]\n",
    "b=[1,-2]"
   ]
  },
  {
   "cell_type": "code",
   "execution_count": null,
   "metadata": {},
   "outputs": [],
   "source": [
    "# As a reminder, Python doesn't know you are treating these lists\n",
    "# as vectors:\n",
    "\n"
   ]
  },
  {
   "cell_type": "code",
   "execution_count": null,
   "metadata": {},
   "outputs": [],
   "source": [
    "# Cast these to numpy arrays:\n",
    "\n"
   ]
  },
  {
   "cell_type": "markdown",
   "metadata": {},
   "source": [
    "Note that these are row vectors! That is okay for most operations:"
   ]
  },
  {
   "cell_type": "code",
   "execution_count": null,
   "metadata": {},
   "outputs": [],
   "source": [
    "#Vector addition\n",
    "\n"
   ]
  },
  {
   "cell_type": "code",
   "execution_count": null,
   "metadata": {},
   "outputs": [],
   "source": [
    "#Scalar multiplication\n",
    "\n"
   ]
  },
  {
   "cell_type": "code",
   "execution_count": null,
   "metadata": {},
   "outputs": [],
   "source": [
    "#But be careful:\n",
    "\n"
   ]
  },
  {
   "cell_type": "markdown",
   "metadata": {},
   "source": [
    "In general, operations assume elementwise operation unless you use special operators. \n",
    "\n",
    "There are 2 common ways to do the inner/dot product in numpy:"
   ]
  },
  {
   "cell_type": "code",
   "execution_count": null,
   "metadata": {},
   "outputs": [],
   "source": []
  },
  {
   "cell_type": "code",
   "execution_count": null,
   "metadata": {},
   "outputs": [],
   "source": []
  },
  {
   "cell_type": "markdown",
   "metadata": {},
   "source": [
    "In the second approach, the \"@\" symbol is a general symbol indicating matrix multiplication. Note that the second approach matches the inner product notation favored by Boyd:\n",
    "\n",
    "$\\mathbf{a}^T \\mathbf{b} = \\mathbf{a} \\cdot \\mathbf{b}$,\n",
    "\n",
    "whereas the first approach is the dot product notation usually used in engineering and physics."
   ]
  },
  {
   "cell_type": "markdown",
   "metadata": {},
   "source": [
    "### Special Vectors\n",
    "\n",
    "```NumPy``` knows how to make several special vectors that we discussed in class:"
   ]
  },
  {
   "cell_type": "code",
   "execution_count": null,
   "metadata": {},
   "outputs": [],
   "source": [
    "# Zeros vector\n",
    "\n"
   ]
  },
  {
   "cell_type": "code",
   "execution_count": null,
   "metadata": {},
   "outputs": [],
   "source": [
    "# Ones vector\n",
    "\n"
   ]
  },
  {
   "cell_type": "code",
   "execution_count": null,
   "metadata": {},
   "outputs": [],
   "source": [
    "# Standard indicator vector with 1 in first place\n",
    "\n",
    "\n"
   ]
  },
  {
   "cell_type": "code",
   "execution_count": null,
   "metadata": {},
   "outputs": [],
   "source": [
    "#Standard indicator vector with 1 in kth place. Ex: k=3\n",
    "\n"
   ]
  },
  {
   "cell_type": "markdown",
   "metadata": {},
   "source": [
    "The latter function arguments are confusing, but we aren't ready to explain them yet!"
   ]
  },
  {
   "cell_type": "markdown",
   "metadata": {},
   "source": [
    "# A First Glimpse at Matrices: Stacking Vectors Horizontally"
   ]
  },
  {
   "cell_type": "code",
   "execution_count": null,
   "metadata": {},
   "outputs": [],
   "source": []
  },
  {
   "cell_type": "markdown",
   "metadata": {},
   "source": [
    "```NumPy``` knows how to stack vectors horizontally:"
   ]
  },
  {
   "cell_type": "code",
   "execution_count": null,
   "metadata": {},
   "outputs": [],
   "source": [
    "# CAREFUL: hstack takes a tuple of vectors\n",
    "\n"
   ]
  },
  {
   "cell_type": "code",
   "execution_count": null,
   "metadata": {},
   "outputs": [],
   "source": []
  },
  {
   "cell_type": "markdown",
   "metadata": {},
   "source": [
    "What happened? Remember that we made **row** vectors. To make column vectors, we need to enter the values like this:"
   ]
  },
  {
   "cell_type": "code",
   "execution_count": null,
   "metadata": {},
   "outputs": [],
   "source": []
  },
  {
   "cell_type": "code",
   "execution_count": null,
   "metadata": {},
   "outputs": [],
   "source": []
  },
  {
   "cell_type": "markdown",
   "metadata": {},
   "source": [
    "Turning a ```NumPy``` 1-D vector into a column vector is a little tricky because a 1-D vector only has one axis! We can do it by adding a new axis and then move it 90 degrees:"
   ]
  },
  {
   "cell_type": "code",
   "execution_count": null,
   "metadata": {},
   "outputs": [],
   "source": []
  },
  {
   "cell_type": "code",
   "execution_count": null,
   "metadata": {},
   "outputs": [],
   "source": []
  },
  {
   "cell_type": "code",
   "execution_count": null,
   "metadata": {},
   "outputs": [],
   "source": []
  },
  {
   "cell_type": "markdown",
   "metadata": {},
   "source": [
    "We call this type of 2-D table a **matrix**. "
   ]
  },
  {
   "cell_type": "markdown",
   "metadata": {},
   "source": [
    "## Matrix indexing\n",
    "\n",
    "We can get the values out of the array by **indexing**. Matrices are indexed like:\n",
    "\n",
    "**M**[row, column]"
   ]
  },
  {
   "cell_type": "code",
   "execution_count": null,
   "metadata": {},
   "outputs": [],
   "source": [
    "# 0, 0 element (1st row, 1st col)\n",
    "\n"
   ]
  },
  {
   "cell_type": "code",
   "execution_count": null,
   "metadata": {},
   "outputs": [],
   "source": [
    "# 1, 0 element: (2nd row, 1st column)\n",
    "\n"
   ]
  },
  {
   "cell_type": "code",
   "execution_count": null,
   "metadata": {},
   "outputs": [],
   "source": [
    "# 1,1 element:\n",
    "\n"
   ]
  },
  {
   "cell_type": "markdown",
   "metadata": {},
   "source": [
    "We can also pull out whole rows or columns by putting \":\" for the other index. In particular, to pull out the two vectors:"
   ]
  },
  {
   "cell_type": "code",
   "execution_count": null,
   "metadata": {},
   "outputs": [],
   "source": [
    "# First column:\n",
    "\n"
   ]
  },
  {
   "cell_type": "code",
   "execution_count": null,
   "metadata": {},
   "outputs": [],
   "source": [
    "# Second column:\n",
    "\n"
   ]
  },
  {
   "cell_type": "code",
   "execution_count": null,
   "metadata": {},
   "outputs": [],
   "source": [
    "# First row:\n",
    "\n"
   ]
  }
 ],
 "metadata": {
  "kernelspec": {
   "display_name": "Python 3",
   "language": "python",
   "name": "python3"
  },
  "language_info": {
   "codemirror_mode": {
    "name": "ipython",
    "version": 3
   },
   "file_extension": ".py",
   "mimetype": "text/x-python",
   "name": "python",
   "nbconvert_exporter": "python",
   "pygments_lexer": "ipython3",
   "version": "3.8.8"
  },
  "latex_envs": {
   "LaTeX_envs_menu_present": true,
   "autoclose": true,
   "autocomplete": true,
   "bibliofile": "biblio.bib",
   "cite_by": "apalike",
   "current_citInitial": 1,
   "eqLabelWithNumbers": true,
   "eqNumInitial": 1,
   "hotkeys": {
    "equation": "Ctrl-E",
    "itemize": "Ctrl-I"
   },
   "labels_anchors": false,
   "latex_user_defs": false,
   "report_style_numbering": false,
   "user_envs_cfg": false
  },
  "varInspector": {
   "cols": {
    "lenName": 16,
    "lenType": 16,
    "lenVar": 40
   },
   "kernels_config": {
    "python": {
     "delete_cmd_postfix": "",
     "delete_cmd_prefix": "del ",
     "library": "var_list.py",
     "varRefreshCmd": "print(var_dic_list())"
    },
    "r": {
     "delete_cmd_postfix": ") ",
     "delete_cmd_prefix": "rm(",
     "library": "var_list.r",
     "varRefreshCmd": "cat(var_dic_list()) "
    }
   },
   "position": {
    "height": "511px",
    "left": "1555px",
    "right": "20px",
    "top": "117px",
    "width": "334px"
   },
   "types_to_exclude": [
    "module",
    "function",
    "builtin_function_or_method",
    "instance",
    "_Feature"
   ],
   "window_display": false
  }
 },
 "nbformat": 4,
 "nbformat_minor": 2
}
