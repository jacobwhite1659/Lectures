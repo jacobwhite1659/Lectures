{
 "cells": [
  {
   "cell_type": "markdown",
   "metadata": {},
   "source": [
    "# Lecture 5 \n",
    "- Statistical Independence\n",
    "- Combinatorics\n",
    "- Bayes' Theorem and Applications"
   ]
  },
  {
   "cell_type": "markdown",
   "metadata": {},
   "source": [
    "These are some of the theorems and corollaries that we have learned so far:\n",
    "\n",
    "* $\\forall E\\in\\mathcal{F}, 0 \\leq P(E)\\leq 1$\n",
    "* $P(\\Omega)=1$ and $P(\\emptyset) = 0 $\n",
    "* $P(A^c) = P(\\overline{A}) = 1 - P(A)$\n",
    "* If $A\\subset B$, then $P(A)\\leq P(B)$\n",
    "* **DeMorgan's Law 1**: $\\overline{A\\cap B} = \\overline{A}\\cup\\overline{B}$  \n",
    "* **DeMorgan's Law 2**: $\\overline{A\\cup B} = \\overline{A}\\cap\\overline{B}$\n",
    "* $P(A\\cap B) = P(A) + P(B) - P(A\\cup B)$\n",
    "* If $A$ and $B$ are M.E. then $A\\cap B=\\emptyset \\Rightarrow P(A\\cap B) = 0$\n",
    "* **Conditional Probability**: $P(A|B) = \\frac{P(A\\cap B)}{P(B)}$, for $P(B)>0$\n",
    "* **Chain Rules**: $P(A\\cap B) = P(A|B)P(B)$ and $P(A\\cap B) = P(B|A)P(A)$\n",
    "* **Multiplication Rule**: $P(\\bigcap_{i=1}^n A_i) = P(A_1)P(A_2|A_1)P(A_3|A_1\\cap A_2)\\dots P\\left(A_n|A_1\\cap\\dots \\cap A_{n-1}\\right)$\n",
    "* **Total Probability**: if a set of events $\\{C_i\\}_{i=1}^n$ are partitions of the sample space $\\Omega$, then $P(A) = \\sum_{i=1}^n P(A|C_i)P(C_i)$"
   ]
  },
  {
   "cell_type": "code",
   "execution_count": 4,
   "metadata": {},
   "outputs": [],
   "source": [
    "import random\n",
    "import numpy as np\n",
    "import numpy.random as npr\n",
    "import matplotlib.pyplot as plt\n",
    "%matplotlib inline\n",
    "plt.style.use('bmh')"
   ]
  },
  {
   "cell_type": "markdown",
   "metadata": {},
   "source": [
    "### Review of the Law of Total Probability"
   ]
  },
  {
   "cell_type": "markdown",
   "metadata": {},
   "source": [
    "**<font color=blue>Example 1:</font> A magician has two coins, one fair and one 2-headed coin. Consider the experiment where she picks one coin at random and flips it $i$ times. Let $H_i$ denote the event that the outcome of flip i is heads. Using the Total Probability Law, find the following:**"
   ]
  },
  {
   "cell_type": "markdown",
   "metadata": {},
   "source": [
    "1. $P(H_1)$\n",
    "\n",
    "\\begin{align*}\n",
    "P(H_1) &= P(H_1|F)P(F) + P(H_1|\\overline{F})P(\\overline{F})\\\\\n",
    "&= \\frac{1}{2}\\times\\frac{1}{2} + 1\\times\\frac{1}{2}\\\\\n",
    "&=\\frac{3}{4}\n",
    "\\end{align*}"
   ]
  },
  {
   "cell_type": "markdown",
   "metadata": {},
   "source": [
    "# Statistical Independence"
   ]
  },
  {
   "cell_type": "markdown",
   "metadata": {},
   "source": [
    "Suppose that a magician has **3 fair coins**, she chooses one at random and flips $i$ times. What is the probability $P(H_2|H_1)$?"
   ]
  },
  {
   "cell_type": "markdown",
   "metadata": {},
   "source": [
    "Because she only has fair coins, whichever coin she chooses, the possible outcomes are H and T. So, knowing the result of the 1st flip **will not affect** the result of the 2nd flip, that is,\n",
    "\n",
    "$$P(H_2|H_1) = P(H_2) = \\frac{1}{2}$$"
   ]
  },
  {
   "cell_type": "markdown",
   "metadata": {},
   "source": [
    "In general, for two events $A$ and $B$, when $P(A|B) = P(A)$, we say that $A$ is **statistically independent (s.i.)** of B, since the probabilities are not affected by knowledge of $B$ having occurred."
   ]
  },
  {
   "cell_type": "markdown",
   "metadata": {},
   "source": [
    "* By the chain rule, if $A$ is independent of B: $P(A\\cap B) = P(A|B)P(B) = P(A)P(B)$."
   ]
  },
  {
   "cell_type": "markdown",
   "metadata": {},
   "source": [
    "Furthermore, if $P(A)>0$, $P(B)>0$, and $P(A|B)=P(A)$, then\n",
    "\n",
    "\\begin{align*}\n",
    "P(B|A) &= \\frac{P(A\\cap B)}{P(A)}\\\\\n",
    "&= \\frac{P(A|B)P(B)}{P(A)}\\\\\n",
    "&= \\frac{P(A)P(B)}{P(A)}\\\\\n",
    "&= P(B)\n",
    "\\end{align*}"
   ]
  },
  {
   "cell_type": "markdown",
   "metadata": {},
   "source": [
    "<div class=\"alert alert-success\">\n",
    "\n",
    "So, if $A$ is statistically independent of $B$, then $B$ is statistically independent of $A$!\n",
    "</div>"
   ]
  },
  {
   "cell_type": "markdown",
   "metadata": {},
   "source": [
    "Thus, we can write $P(A\\cap B) = P(A)P(B)$, and we use this for our definition of statistical independence because it works even when one of $P(A) = 0$ or $P(B) = 0$."
   ]
  },
  {
   "cell_type": "markdown",
   "metadata": {},
   "source": [
    "<div class=\"alert alert-info\" role=\"alert\">\n",
    "  <strong>Statistical Independence</strong>\n",
    "    \n",
    "Events $A$ and $B$ are **statistically independent (s.i.)** if and only if (iff)\n",
    "    \n",
    "$$P(A\\cap B) = P(A)P(B)$$\n",
    "</div>"
   ]
  },
  {
   "cell_type": "markdown",
   "metadata": {},
   "source": [
    "* Events that arise from completely separate random phenomena are statistically independent."
   ]
  },
  {
   "cell_type": "markdown",
   "metadata": {},
   "source": [
    "If $A$ and $B$ are s.i. events, then the following pairs of events are also s.i.:\n",
    "\n",
    "* $A$ and $\\overline{B}$\n",
    "\n",
    "* $\\overline{A}$ and $B$\n",
    "\n",
    "* $\\overline{A}$ and $\\overline{B}$\n",
    "\n",
    "(*I recommend you to prove these statements.*)"
   ]
  },
  {
   "cell_type": "markdown",
   "metadata": {},
   "source": [
    "**<font color=blue>Example 2:</font> A fair six-sided die is rolled twice. What is the probability of observing a 1 or a 2 on the top face on either roll of the die?**"
   ]
  },
  {
   "cell_type": "markdown",
   "metadata": {},
   "source": [
    "Let $E_i$ denote the event observing face $i$ on the top face on either roll.\n",
    "\n",
    "\\begin{align*}\n",
    "P(E_1\\cup E_2) &= P(E_1) + P(E_2) - P(E_1\\cap E_2), E_1\\text{ and }E_2\\text{ are s.i.}\\\\\n",
    "&= P(E_1) + P(E_2) - P(E_1)P(E_2)\\\\\n",
    "&= \\frac{2}{6}\\times\\frac{2}{6} - \\frac{2}{6}\\times\\frac{2}{6}\\\\\n",
    "&= \\frac{5}{9}\n",
    "\\end{align*}"
   ]
  },
  {
   "cell_type": "markdown",
   "metadata": {},
   "source": [
    "**<font color=blue>Example 2:</font> (Take 2) - A fair six-sided die is rolled twice. What is the probability of observing a 1 or a 2 on the top face on either roll of the die?**"
   ]
  },
  {
   "cell_type": "markdown",
   "metadata": {},
   "source": [
    "\\begin{align*}\n",
    "P(E_1 \\cup E_2) &= 1 - P(\\overline{E_1\\cup E_2}),\\text{using DeMorgan's Law 2} \\\\\n",
    "&= 1 - P(\\overline{E_1}\\cap \\overline{E_2}),E_1\\text{ and }E_2\\text{ are s.i., then }\\overline{E_1}\\text{ and }\\overline{E_2}\\text{ are also s.i.}\\\\\n",
    "&= 1 -P(\\overline{E_1})P(\\overline{E_2}) \\\\\n",
    "&=1 - (1-P(E_1))(1-P(E_2))\\\\\n",
    "&= 1 - \\left(1-\\frac{1}{3}\\right)\\left(1-\\frac{1}{3}\\right)\\\\\n",
    "&= \\frac{5}{9}\n",
    "\\end{align*}"
   ]
  },
  {
   "cell_type": "markdown",
   "metadata": {},
   "source": [
    "## Conditionally Independent Events: Statistical Independence and Conditional Probability"
   ]
  },
  {
   "cell_type": "markdown",
   "metadata": {},
   "source": [
    "We noted earlier that the conditional probabilities of events, conditioned on a particular event form a legitimate probability law. We can thus talk about independence of various events with respect to this conditional law. \n",
    "\n",
    "In particular, given an event $C$, the events $A$ and $B$ are called **<font color=orange>conditionally independent</font>** if\n",
    "\n",
    "$$P(A\\cap B|C) = P(A|C)P(B|C)$$"
   ]
  },
  {
   "cell_type": "markdown",
   "metadata": {},
   "source": [
    "**<font color=blue>Example 3:</font> A magician has two coins coins, one fair and one 2-headed coin. Consider the experiment where she picks one coin at random and flips it $i$ times. Let $H_i$ denote the event that the outcome of flip i is heads. Using the Total Probability Law, find the following:**"
   ]
  },
  {
   "cell_type": "markdown",
   "metadata": {},
   "source": [
    "1. $P(H_1\\cap H_2)$\n",
    "\n",
    "\\begin{align*}\n",
    "P(H_1\\cap H_2) &= P(H_1\\cap H_2|F)P(F) + P(H_1\\cap H_2|\\overline{F}), H_1\\text{ and }H_2\\text{ are conditionally s.i. in both cases}\\\\\n",
    "&= P(H_1|F)P(H_2|F)P(F) + P(H_1|\\overline{F})P(H_2|\\overline{F})P(\\overline{F})\\\\\n",
    "&= \\frac{1}{2}\\times\\frac{1}{2}\\times\\frac{1}{2} + 1\\times 1\\times\\frac{1}{2}\\\\\n",
    "&= \\frac{5}{8}\n",
    "\\end{align*}"
   ]
  },
  {
   "cell_type": "markdown",
   "metadata": {},
   "source": [
    "2. Are $H_1$ and $H_2$ s.i.?\n",
    "\n",
    "\\begin{align*}\n",
    "P(H_1) &= P(H_2) = \\frac{3}{4}\\\\\n",
    "P(H_1)P(H_2) &= \\frac{3}{4}\\times\\frac{3}{4} \\neq \\frac{5}{8} = P(H_1 \\cap H_2)\n",
    "\\end{align*}\n",
    "\n",
    "No! They are not s.i."
   ]
  },
  {
   "cell_type": "markdown",
   "metadata": {},
   "source": [
    "3. $P(H_1\\cap H_2\\cap H_3)$\n",
    "\n",
    "\\begin{align*}\n",
    "P(H_1\\cap H_2\\cap H_3) &= P(H_1\\cap H_2\\cap H_3|F)P(F) + P(H_1\\cap H_2\\cap H_3|\\overline{F})P(\\overline{F})\\\\\n",
    "&= \\left(\\frac{1}{2}\\right)^3\\times\\frac{1}{2} + (1)^3\\times\\frac{1}{2}\\\\\n",
    "&= \\frac{9}{16}\n",
    "\\end{align*}"
   ]
  },
  {
   "cell_type": "markdown",
   "metadata": {},
   "source": [
    "4. $P(H_3|H_1\\cap H_2)$\n",
    "\n",
    "\\begin{align*}\n",
    "P(H_3|H_1\\cap H_2) &= \\frac{P(H_1\\cap H_2\\cap H_3)}{P(H_1\\cap H_2)}\\\\\n",
    "&= \\frac{9/16}{5/8}\\\\\n",
    "&= \\frac{9}{10}\n",
    "\\end{align*}"
   ]
  },
  {
   "cell_type": "markdown",
   "metadata": {},
   "source": [
    "5. Implement a simulation to solve $P(H_3|H_1\\cap H_2)$."
   ]
  },
  {
   "cell_type": "code",
   "execution_count": 11,
   "metadata": {},
   "outputs": [],
   "source": [
    "def probH3givenH12(num_sims=100_000):\n",
    "    heads12_count=0\n",
    "    heads123_count=0\n",
    "    coins =['fair','2-headed'] # pocket of coins\n",
    "    for sim in range(num_sims): # for each simulation\n",
    "        coin = random.choice(coins) # select a coin at random\n",
    "        if coin=='fair': # if fair coin selected\n",
    "            S=[1,0] # define its sample space (1-Heads, 0-Tails)\n",
    "        else:           # if 2-headed coin selected\n",
    "            S=[1,1] #define its sample space  (1-Heads, 0-Tails)\n",
    "        values=random.choices(S, k=3) # flip the selected coin 3 times\n",
    "        if (np.sum(values[:2]))==2: # if the first two flips are Heads\n",
    "            heads12_count+=1\n",
    "            if values[2]==1: #if the last flip is also Heads\n",
    "                heads123_count+=1\n",
    "                \n",
    "    print('Probability of obs. Heads in the 3rd flip \\\n",
    "    given Heads in the 1st flip and 2nd flip is ', heads123_count/heads12_count)"
   ]
  },
  {
   "cell_type": "code",
   "execution_count": 12,
   "metadata": {},
   "outputs": [
    {
     "name": "stdout",
     "output_type": "stream",
     "text": [
      "Probability of obs. Heads in the 3rd flip     given Heads in the 1st flip and 2nd flip is  0.9014721631687473\n"
     ]
    }
   ],
   "source": [
    "probH3givenH12()"
   ]
  },
  {
   "cell_type": "markdown",
   "metadata": {},
   "source": [
    "**<font color=blue>Example 4:</font> Monty Hall Problem**\n",
    "\n",
    "***Slightly paraphrased from the Ask Marilyn column of Parade magazine:* Suppose you're on a game show, and you're given\n",
    "the choice of three doors:**\n",
    "\n",
    "* **behind one door is a car**\n",
    "* **behind the other doors are goats**\n",
    "\n",
    "**You pick a door, and the host, who knows what's behind the doors, opens another door, which he knows has a goat. The host then offers you the option to switch doors. Does it matter if you switch?**"
   ]
  },
  {
   "cell_type": "code",
   "execution_count": 1,
   "metadata": {},
   "outputs": [
    {
     "data": {
      "image/png": "[encoded data removed]",
      "text/plain": [
       "<IPython.core.display.Image object>"
      ]
     },
     "execution_count": 1,
     "metadata": {
      "image/png": {
       "width": 700
      }
     },
     "output_type": "execute_result"
    }
   ],
   "source": [
    "from IPython.display import Image\n",
    "Image('https://imgs.xkcd.com/comics/monty_hall.png',width=700)"
   ]
  },
  {
   "cell_type": "markdown",
   "metadata": {},
   "source": [
    "**Let's compute the probabilities of winning for the following three strategies:**"
   ]
  },
  {
   "cell_type": "markdown",
   "metadata": {},
   "source": [
    "1. **Never switch**\n",
    "\n",
    "Let $W_i$ be the event winning on choice $i$.\n",
    "\n",
    "\\begin{align*}\n",
    "P(W_2) = P(W_1) = \\frac{1}{3} = \\frac{\\text{1 car}}{\\text{3 doors}}\n",
    "\\end{align*}"
   ]
  },
  {
   "cell_type": "markdown",
   "metadata": {},
   "source": [
    "2. **Always switch**\n",
    "\n",
    "Note that: $$P(W_2 | W_1) = 0$$\n",
    "\n",
    "So $P(W_2|\\overline{W_1}) = 1$. Then:\n",
    "\n",
    "\\begin{align*}\n",
    "P(W_2) &= P(W_2|W_1)P(W_1) + P(W_2|\\overline{W_1})P(\\overline{W_1})\\\\\n",
    "&= 0\\times\\frac{1}{3} + 1\\times\\frac{2}{3}\\\\\n",
    "&= \\frac{2}{3}\n",
    "\\end{align*}"
   ]
  },
  {
   "cell_type": "markdown",
   "metadata": {},
   "source": [
    "3. **Flip a fair coin, and switch if it comes up heads.**\n",
    "\n",
    "Let $H$ be the event coin flips heads.\n",
    "\n",
    "\\begin{align*}\n",
    "P(W_2) &= P(W_2|H)P(H) + P(W_2|\\overline{H})P(\\overline{H})\\\\\n",
    "&=\\frac{2}{3}\\times\\frac{1}{2} + \\frac{1}{3}\\times\\frac{1}{2}\\\\\n",
    "&= \\frac{1}{2}\n",
    "\\end{align*}"
   ]
  },
  {
   "cell_type": "markdown",
   "metadata": {},
   "source": [
    "___"
   ]
  },
  {
   "cell_type": "markdown",
   "metadata": {},
   "source": [
    "# Combinatorics\n",
    "\n",
    "In many of the examples I have presented in class, I have provided you with a numerical probability value, but these quantities are computed based on relative frequencies.\n",
    "\n",
    "* **Counting** events is in principle straightforward, but it is frequently challenging.\n",
    "\n",
    "* The art of counting constitutes a large portion of the field of **combinatorics**."
   ]
  },
  {
   "cell_type": "markdown",
   "metadata": {},
   "source": [
    "<div class=\"alert alert-info\">\n",
    "  \n",
    "**Combinatorics** is the mathematics of counting. It can be used to find probabilities involving combinations of fair experiments.\n",
    "</div>\n",
    "\n",
    "<div class=\"alert alert-info\">\n",
    "    \n",
    "A **combined experiment** is one in which the outcome is a tuple that takes one outcome from each of a sequence of subexperiments.\n",
    "</div>"
   ]
  },
  {
   "cell_type": "markdown",
   "metadata": {},
   "source": [
    "## Cartesian Product\n",
    "\n",
    "<div class=\"alert alert-info\">\n",
    "    <b>Cartesian Product</b>\n",
    "    \n",
    "The **cartesian product** of two sets $A$ and $B$ is denoted $A \\times B$ and is defined by \n",
    "\n",
    "$$ A \\times B = \\{ (a,b) | a \\in A \\mbox{ and } b \\in B\\}$$\n",
    "\n",
    "That is, it is the set of all two-tuples with the first element from set $A$ and the second element from set $B$.\n",
    "</div>"
   ]
  },
  {
   "cell_type": "markdown",
   "metadata": {},
   "source": [
    "**<font color=blue>Example 8:</font> Consider the experiment where we first flip a fair coin and then roll a fair 6-sided die.**"
   ]
  },
  {
   "cell_type": "code",
   "execution_count": 1,
   "metadata": {},
   "outputs": [],
   "source": [
    "import itertools"
   ]
  },
  {
   "cell_type": "code",
   "execution_count": 2,
   "metadata": {},
   "outputs": [],
   "source": [
    "A = ['H','T']\n",
    "B = list(range(1,7))"
   ]
  },
  {
   "cell_type": "code",
   "execution_count": 3,
   "metadata": {
    "scrolled": true
   },
   "outputs": [
    {
     "data": {
      "text/plain": [
       "[('H', 1),\n",
       " ('H', 2),\n",
       " ('H', 3),\n",
       " ('H', 4),\n",
       " ('H', 5),\n",
       " ('H', 6),\n",
       " ('T', 1),\n",
       " ('T', 2),\n",
       " ('T', 3),\n",
       " ('T', 4),\n",
       " ('T', 5),\n",
       " ('T', 6)]"
      ]
     },
     "execution_count": 3,
     "metadata": {},
     "output_type": "execute_result"
    }
   ],
   "source": [
    "AtimesB = list(itertools.product(A,B))\n",
    "AtimesB"
   ]
  },
  {
   "cell_type": "markdown",
   "metadata": {},
   "source": [
    "## The Principle of Counting\n",
    "\n",
    "Consider a combined experiment that consists of $r$ stages. Suppose that:\n",
    "1. There are $n_1$ possible results at the first stage\n",
    "2. For every possible result at first stage, there are $n_2$ possible results at the second stage\n",
    "3. More generally, for any sequence of possible results at the first $i-1$ stages, there are $n_i$ possible results at the $i$th stage. Then, the total number of possible results of the $r$-stage process is $n_1\\times n_2\\times\\dots\\times n_r$\n",
    "\n",
    "In the previous example, we have $2\\times 6 = 12$ outcomes."
   ]
  },
  {
   "cell_type": "markdown",
   "metadata": {},
   "source": [
    "## 1. Sampling with Replacement and with Ordering"
   ]
  },
  {
   "cell_type": "markdown",
   "metadata": {},
   "source": [
    "**<font color=blue>Example 9:</font> Consider the combined experiment of flipping a fair coin 20 times.**"
   ]
  },
  {
   "cell_type": "code",
   "execution_count": null,
   "metadata": {
    "scrolled": true
   },
   "outputs": [],
   "source": [
    "A = ['H','T']\n",
    "Coinflips = list(itertools.product(A,repeat=20))\n",
    "Coinflips"
   ]
  },
  {
   "cell_type": "code",
   "execution_count": 5,
   "metadata": {},
   "outputs": [
    {
     "data": {
      "text/plain": [
       "1048576"
      ]
     },
     "execution_count": 5,
     "metadata": {},
     "output_type": "execute_result"
    }
   ],
   "source": [
    "len(Coinflips)"
   ]
  },
  {
   "cell_type": "code",
   "execution_count": 6,
   "metadata": {},
   "outputs": [
    {
     "data": {
      "text/plain": [
       "1048576"
      ]
     },
     "execution_count": 6,
     "metadata": {},
     "output_type": "execute_result"
    }
   ],
   "source": [
    "2**20"
   ]
  },
  {
   "cell_type": "markdown",
   "metadata": {},
   "source": [
    "How can we determine the **observed relative frequencies** *analytically* for this combined experiment? Let's put together what we know so far:\n",
    "\n",
    "1. The experiment of flipping a fair coin is a fair experiment with 2 outcomes:\n",
    "$$S= \\{H,T\\}$$\n",
    "Let $P(H)$ and $P(T)$ denote the probability of getting heads and tails, respectively. Then\n",
    "$$P(H)=P(T)= \\frac{1}{|S|}=\\frac 1 2$$\n",
    "2. The combined experiment of flipping a fair coin 20 times has the sample space \n",
    "$$S_C=\\{H,T\\} \\times \\{H,T\\} \\times \\ldots \\times \\{H,T\\}~~~~\\mbox{(Cartesian product of 20 sets)}$$\n",
    "\n",
    "\n",
    "* An outcome of this combined experiment is a sequence of 20 heads and tails values; for instance, $(H,T,T,H,H,H,T,H,T,H,H,T,T,T,T,H,H,T,H,H)~$ is an outcome of the combined experiment."
   ]
  },
  {
   "cell_type": "markdown",
   "metadata": {},
   "source": [
    "This is an example of **Sampling with Replacement and with Ordering**. We are choosing 20 ordered values from the set $\\{H,T\\}$, and after we choose a value, that value still remains in the set.\n",
    "\n",
    "Each outcome is a 20-tuple, and each element of the 20-tuple may take 1 of 2 values. Thus, the number of outcomes is\n",
    "\n",
    "\\begin{align*}\n",
    "\\left|S_C\\right| &= 2 \\times 2 \\times \\cdots \\times 2\\text{ (multiplied 20 times)}\\\\\n",
    "& = 2^{20}\\\\\n",
    "& = 1,048,576\n",
    "\\end{align*}"
   ]
  },
  {
   "cell_type": "markdown",
   "metadata": {},
   "source": [
    "<div class=\"alert alert-info\">\n",
    "    <b>Sampling with replacement and with ordering</b>\n",
    "    \n",
    "Consider choosing $k$ values from a set of $n$ values. The result is a $k$-tuple: $(x_1, x_2, \\ldots, x_k)$, \n",
    "where $x_i \\in A, \\forall i=1,2,\\ldots, k$. \n",
    "\n",
    "Thus, this is a combined experiment with $|S_1|=|S_2|=\\ldots=|S_k|=|A|\\equiv n$.\\\\\n",
    "\n",
    "Therefore the number of distinct ordered $k$-tuple outcomes is $n^k$.\n",
    "</div>"
   ]
  },
  {
   "cell_type": "markdown",
   "metadata": {},
   "source": [
    "## 2. Sampling without Replacement and with Ordering"
   ]
  },
  {
   "cell_type": "markdown",
   "metadata": {},
   "source": [
    "**<font color=blue>Example 10:</font> Consider the combined experiment of flipping a fair coin 20 times and counting the number of heads.**"
   ]
  },
  {
   "cell_type": "markdown",
   "metadata": {},
   "source": [
    "Let $H_i$ be the event that $i$ heads occur on 20 flips of a fair coin.\n",
    "\n",
    "* Thus, there are 20 outcomes in the event $H_1$. Since this is a fair experiment,\n",
    "\n",
    "$$P(H_1) = \\frac{20}{1048576} \\approx 2 \\times 10^{-5}$$\n",
    "\n",
    "* There are also 20 outcomes for the event \"number of Tails = 1\", which is the same as $H_{19}$, so \n",
    "\n",
    "$$ P(H_{19}) = \\frac{20}{1048576} \\approx 2 \\times 10^{-5}$$\n",
    "\n",
    "* It is also easy to see that there is 1 outcome for the event $H_0$ and 1 outcome for the event $H_{20}$, so\n",
    "\n",
    "$$P(H_0) = P(H_{20}) = \\frac{1}{1048576} \\approx 1 \\times 10^{-6}$$\n",
    "\n",
    "* Consider the problem of counting the number of outcomes in the event $H_2$:\n",
    "    * An outcome in $H_2$ looks like $(T,T,T,T,T,T,T,H,T,T,T,T,T,T,H,T,T,T,T,T)$\n",
    "Note that we can express this in compressed notation by just recording where the 2 Heads are: (7,14)"
   ]
  },
  {
   "cell_type": "markdown",
   "metadata": {},
   "source": [
    "So, determining the number of ways there are to have 2 heads out of 20 is  the same as determining the number of ways there are to specify a 2-tuple  $(h_1,h_2)$ such that:\n",
    "* $h_i \\in \\{0,1,\\ldots 19\\}$\n",
    "\n",
    "* $h_1 \\ne h_2$\n",
    "\n",
    "* How many ways are there to choose $(h_1,h_2)$ according to the restrictions above?"
   ]
  },
  {
   "cell_type": "markdown",
   "metadata": {},
   "source": [
    "<div class=\"alert alert-info\">\n",
    "    <b>Sampling without replacement and with ordering ($k$-permutations)</b>\n",
    "    \n",
    "In general, the number of ways to choose $k$ items from $n$ items **without replacement** and **with ordering** is\n",
    "$$ n \\times (n-1) \\times \\ldots \\times (n-k+1) = \\frac{n!}{(n-k)!}$$\n",
    "</div>"
   ]
  },
  {
   "cell_type": "markdown",
   "metadata": {
    "slideshow": {
     "slide_type": "slide"
    }
   },
   "source": [
    "Here, with ordering means that outcomes like $(7,14)$ and $(14,7)$ are both allowed and considered distinct."
   ]
  },
  {
   "cell_type": "markdown",
   "metadata": {},
   "source": [
    "**<font color=blue>Example 1:</font> Consider the combined experiment of flipping a fair coin 20 times and counting the number of heads. How many ways are there to observe a count of 2 heads in 20 coin flips?**"
   ]
  },
  {
   "cell_type": "markdown",
   "metadata": {},
   "source": [
    "**PYTHON technique** To compute the factorial of an integer in Python, you can use the ```scipy``` library:"
   ]
  },
  {
   "cell_type": "code",
   "execution_count": 2,
   "metadata": {},
   "outputs": [],
   "source": [
    "from scipy.special import factorial"
   ]
  },
  {
   "cell_type": "code",
   "execution_count": 3,
   "metadata": {},
   "outputs": [
    {
     "name": "stdout",
     "output_type": "stream",
     "text": [
      "380.0\n"
     ]
    }
   ],
   "source": [
    "print(factorial(20)/factorial(20-2))"
   ]
  },
  {
   "cell_type": "code",
   "execution_count": 5,
   "metadata": {},
   "outputs": [
    {
     "name": "stdout",
     "output_type": "stream",
     "text": [
      "Probability of H2 =  0.000362396240234375\n"
     ]
    }
   ],
   "source": [
    "print('Probability of H2 = ', 380/(2**20))"
   ]
  },
  {
   "cell_type": "markdown",
   "metadata": {},
   "source": [
    "Note that in counting the number of ways that 2 Heads can occur in 20 flips, (7,14) represents the same thing as (14,7). \n",
    "\n",
    "So, if we determine the number of **ordered** ways to choose 2 unique values out of 20, we have **overcounted** by a factor of 2.\n",
    "\n",
    "Thus, the correct number of outcomes in $H_2$ is\n",
    "$$ \\left|H_2 \\right| = \\frac{20 \\cdot 19}{2} = 190 $$ \n",
    "\n",
    "Now, let's try to count $|H_3|$. We know the number of ways to choose 3 **ordered** values from 20 without replacement is\n",
    "$$\\frac{20!}{(20-3)!} = 20 \\cdot 19 \\cdot 18$$\n",
    "\n",
    "But how many repeats are there if we want to know the number of unordered sets? Let's consider how many ways we can arrange (1,2,3):\n",
    "\n",
    "(1,2,3)\n",
    "(1,3,2)\n",
    "(2,1,3)\n",
    "(2,3,1)\n",
    "(3,1,2)\n",
    "(3,2,1)\n",
    "\n",
    "So, there are 6.\n",
    "\n",
    "Note that the number of ways to order 3 things is the same as the number of order ways to choose 3 items from a set of 3.\n",
    "\n",
    "<div class=\"alert alert-info\">\n",
    "    <b>Permutations</b>\n",
    "    \n",
    "The number of *permutations* of $k$ objects is the number of orderings of those $k$ objects, and can be calculated as\n",
    "$$ k \\times (k-1) \\times (k-2) \\times \\ldots \\times 2 \\times 1 \\\\ = k! $$\n",
    "</div>"
   ]
  },
  {
   "cell_type": "markdown",
   "metadata": {},
   "source": [
    "## 3. Sampling without Replacement and without Ordering\n",
    "\n",
    "Finally, we are ready to determine $|H_3|$, which is $20 \\times 19 \\times 18$ divided by the number of orderings of 3 items, which is $3!=6$, so\n",
    "\n",
    "\\begin{align*}\n",
    "\\left|H_3\\right| &= \\frac{20!}{(20-3)!}\\frac{1}{3!} \\\\\n",
    "&=\\frac{20 \\times 19 \\times 18}{6} \\\\\n",
    "&= 1140\n",
    "\\end{align*}\n",
    "\n",
    "Moreover, the formula for general $H_k$ follows directly.\n",
    "\n",
    "<div class=\"alert alert-info\">\n",
    "    <b>Sampling without Replacement and without Ordering (Combinations)</b>\n",
    "    \n",
    "The number of ways to choose $k$ items from a set of $n$ items **without replacement** and **without ordering** is\n",
    "$$  \\frac{n!}{(n-k)!k!} $$\n",
    "\n",
    "The value of the equation can also be expressed as\n",
    "$$ \\binom{n}{k} = C^{n}_{k} $$\n",
    "and is know as the **binomial coefficient**.\n",
    "</div>\n",
    "\n",
    "**PYTHON technique** To determine $\\binom{n}{k}$ in Python, you can also use the ```scipy``` library:"
   ]
  },
  {
   "cell_type": "code",
   "execution_count": 6,
   "metadata": {},
   "outputs": [],
   "source": [
    "from scipy.special import binom"
   ]
  },
  {
   "cell_type": "code",
   "execution_count": 7,
   "metadata": {},
   "outputs": [
    {
     "name": "stdout",
     "output_type": "stream",
     "text": [
      "190.0 190.0\n"
     ]
    }
   ],
   "source": [
    "print(binom(20,2), 20*19/2)"
   ]
  },
  {
   "cell_type": "code",
   "execution_count": 8,
   "metadata": {},
   "outputs": [
    {
     "name": "stdout",
     "output_type": "stream",
     "text": [
      "1140.0 1140.0\n"
     ]
    }
   ],
   "source": [
    "print(binom(20,3), 20*19*18/6)"
   ]
  },
  {
   "cell_type": "markdown",
   "metadata": {},
   "source": [
    "Thus, the probability of any event $H_k \\subset \\Omega$ is \n",
    "\n",
    "$$ P(H_k) = \\frac{|H_k|}{|\\Omega|} = \\frac{\\binom{20}{k}}{2^{20}}$$\n",
    "\n",
    "Let's put it all together and compare with our simulation:"
   ]
  },
  {
   "cell_type": "code",
   "execution_count": 15,
   "metadata": {},
   "outputs": [],
   "source": [
    "# Simulation parameters\n",
    "num_sims=100\n",
    "flips=20 # flips of fair coin\n",
    "\n",
    "# Conducting experiment\n",
    "results=npr.randint(2, size=(num_sims, flips)) # this will be an array of size num_sims-by-flips\n",
    "num_heads = np.sum(results, axis=1) # sums the \"1\"s along the columns (number of flips)\n",
    "\n",
    "# Analytical Probability\n",
    "analytic=[]\n",
    "for k in range(flips+1):\n",
    "    analytic+=[binom(flips,k)/(2**flips)]"
   ]
  },
  {
   "cell_type": "code",
   "execution_count": 16,
   "metadata": {},
   "outputs": [
    {
     "data": {
      "image/png": "[encoded data removed]",
      "text/plain": [
       "<Figure size 1440x360 with 3 Axes>"
      ]
     },
     "metadata": {
      "needs_background": "light"
     },
     "output_type": "display_data"
    },
    {
     "name": "stdout",
     "output_type": "stream",
     "text": [
      "No. Heads | Relative Freq. | Analytic Probability\n",
      "5 \t 0.02 \t 9.5367431640625e-07\n",
      "6 \t 0.03 \t 1.9073486328125e-05\n",
      "7 \t 0.12 \t 0.0001811981201171875\n",
      "8 \t 0.12 \t 0.001087188720703125\n",
      "9 \t 0.1 \t 0.004620552062988281\n",
      "10 \t 0.25 \t 0.0147857666015625\n",
      "11 \t 0.2 \t 0.03696441650390625\n",
      "12 \t 0.09 \t 0.0739288330078125\n",
      "13 \t 0.02 \t 0.12013435363769531\n",
      "14 \t 0.02 \t 0.16017913818359375\n",
      "15 \t 0.03 \t 0.17619705200195312\n"
     ]
    }
   ],
   "source": [
    "fig = plt.figure(figsize=(20,5))\n",
    "\n",
    "# Counting - Observed Relative Frequencies\n",
    "vals, counts = np.unique(num_heads, return_counts=True)\n",
    "plt.subplot(1,3,1)\n",
    "plt.bar(vals, counts/num_sims)\n",
    "plt.xlabel('Number of Heads')\n",
    "plt.ylabel('Relative Frequency')\n",
    "\n",
    "\n",
    "# Analytical probability\n",
    "plt.subplot(1,3,2)\n",
    "plt.stem(range(flips+1), analytic, 'm')\n",
    "plt.xlabel('Number of Heads')\n",
    "plt.ylabel('Analytical Probability')\n",
    "\n",
    "\n",
    "# Relative Frequencies vs Analytical Probability\n",
    "plt.subplot(1,3,3)\n",
    "plt.bar(vals, counts/num_sims)\n",
    "plt.stem(range(flips+1), analytic, 'm')\n",
    "plt.xlabel('Number of Heads')\n",
    "plt.ylabel('Relative Frequency vs Analytical Probability')\n",
    "plt.show() # forces the plot to be displayed at this stage\n",
    "\n",
    "print(\"No. Heads | Relative Freq. | Analytic Probability\")\n",
    "for i in range(len(vals)):\n",
    "    print(vals[i], '\\t', counts[i]/num_sims,'\\t',analytic[i])"
   ]
  },
  {
   "cell_type": "markdown",
   "metadata": {},
   "source": [
    "## 4. Sampling with Replacement and without Ordering\n",
    "\n",
    "Suppose that we want to sample from the set $A=\\{a_1,a_2,\\dots,a_n\\}$ $k$ times such that repetition is allowed and ordering does not matter. For example, if $A=\\{1,2,3,4,5,6\\}$ is the sample space of rolling a 6-sided fair die and $k=2$, then there are 21 differet ways of doing this\n",
    "\n",
    "\\begin{equation*}\n",
    "\\{(1,1), (1,2), (1,3), (1,4), (1,5), (1,6), (2,2), (2,3), (2,4), (2,5), (2,6), (3,3), (3,4), (3,5), (3,6), (4,4), (4,5), (4,6), (5,5), (5,6), (6,6)\\}\n",
    "\\end{equation*}\n",
    "\n",
    "* How can we get the number 21 without actually listing all the possibilities? "
   ]
  },
  {
   "cell_type": "markdown",
   "metadata": {},
   "source": [
    "One way to think about this is to note that any of the pairs in the above list can be represented by the number of 1's, 2's, 3's, 4's, 5's and 6's it contains. That is, if $x_i$ is the number of face $i$, we can equivalently represent each pair by a vector $(x_1,x_2,x_3,x_4,x_5,x_6)$, for example,\n",
    "\n",
    "\\begin{align*}\n",
    "(1,5) &\\rightarrow (x_1,x_2,x_3,x_4,x_5,x_6) = (1,0,0,0,1,0)\\\\\n",
    "(2,2) &\\rightarrow (x_1,x_2,x_3,x_4,x_5,x_6) = (0,2,0,0,0,0)\\\\\n",
    "(3,4) &\\rightarrow (x_1,x_2,x_3,x_4,x_5,x_6) = (0,0,1,1,0,0)\\\\\n",
    "(5,5) &\\rightarrow (x_1,x_2,x_3,x_4,x_5,x_6) = (0,0,0,0,2,0)\n",
    "\\end{align*}"
   ]
  },
  {
   "cell_type": "markdown",
   "metadata": {},
   "source": [
    "Note that here $x_i \\geq 0$ are integers and $x_1+x_2+x_3+x_4+x_5+x_6 = k = 2$. Thus, we can claim that the number of ways we can sample two elements from the set $A=\\{1,2,3,4,5,6\\}$ such that ordering does not matter and repetition is allowed is the same as solutions to the following equation\n",
    "\n",
    "$$x_1+x_2+x_3+x_4+x_5+x_6 = 2\\text{, where } x_i\\in\\{0,1,2\\}$$\n",
    "\n",
    "This is an interesting observation and in fact using the same argument we can make the following statement for general $k$ and $n$."
   ]
  },
  {
   "cell_type": "markdown",
   "metadata": {},
   "source": [
    "<div class=\"alert alert-info\">\n",
    "    <b>Sampling with Replacement and without Ordering (Partitions)</b>\n",
    "    \n",
    "The number of $k$-multisets of an $n$-set $A=\\{a_1,a_2,\\cdots,a_n\\}$ **with replacement** and **without ordering** are binomial coefficients of the form:\n",
    "\n",
    "$$\\binom{n + k - 1}{k} = \\binom{k + n - 1}{n-1}$$\n",
    "</div>"
   ]
  },
  {
   "cell_type": "markdown",
   "metadata": {},
   "source": [
    "**Bonus Material:** https://www.youtube.com/watch?v=UTCScjoPymA"
   ]
  },
  {
   "cell_type": "markdown",
   "metadata": {},
   "source": [
    "**<font color=blue>Example 2:</font> What is the probability of a roll of 11 when rolling fair 6-sided dice twice?**"
   ]
  },
  {
   "cell_type": "code",
   "execution_count": 17,
   "metadata": {},
   "outputs": [
    {
     "data": {
      "text/plain": [
       "(21.0, 21.0)"
      ]
     },
     "execution_count": 17,
     "metadata": {},
     "output_type": "execute_result"
    }
   ],
   "source": [
    "binom(6+2-1,2), binom(2+6-1,6-1)"
   ]
  },
  {
   "cell_type": "code",
   "execution_count": 2,
   "metadata": {
    "scrolled": false
   },
   "outputs": [
    {
     "name": "stdout",
     "output_type": "stream",
     "text": [
      "Probability of a roll of 11 when rolling a 6-sided die twice is  0.05555555555555555\n"
     ]
    }
   ],
   "source": [
    "print('Probability of a roll of 11 when rolling a 6-sided die twice is ', 2/36)\n",
    "# This is corrected. "
   ]
  },
  {
   "cell_type": "code",
   "execution_count": null,
   "metadata": {},
   "outputs": [],
   "source": []
  },
  {
   "cell_type": "markdown",
   "metadata": {},
   "source": [
    "# The Bayes' Theorem (sometimes called Bayes' Rule)"
   ]
  },
  {
   "cell_type": "markdown",
   "metadata": {},
   "source": [
    "Consider two events $A$ and $B$, by the **chain rule** equations we know that: \n",
    "\n",
    "$$P(A\\cap B) = P(A|B)P(B)$$\n",
    "and\n",
    "$$P(B\\cap A) = P(B|A) P(A)$$\n",
    "\n",
    "Note that \n",
    "\n",
    "\\begin{align*}\n",
    "P(A\\cap B) &= P(B\\cap A)\\\\\n",
    "\\iff P(A|B)P(B) &= P(B|A) P(A)\\\\\n",
    "\\iff P(A|B) &= \\frac{P(B|A) P(A)}{P(B)}\n",
    "\\end{align*}"
   ]
  },
  {
   "cell_type": "markdown",
   "metadata": {},
   "source": [
    "<div class=\"alert alert-info\" role=\"alert\">\n",
    "  <strong>Bayes's Theorem</strong>\n",
    "    \n",
    "If the set of events $\\{A_i\\}_{i=1}^n$ partitions the sample space $\\Omega$, and assuming $P(A_i)>0$, for all $i$. Then, for any event $B$ such that $P(B)>0$, we have\n",
    "\n",
    "\\begin{align*}\n",
    "P(A_i|B) &= \\frac{P(B|A_i)P(A_i)}{P(B)}\n",
    "\\end{align*}\n",
    "\n",
    "where $P(B)$ can be computed using the Law of Total Probability,\n",
    "  \n",
    "\\begin{align*}\n",
    "P(B) &= P(B|A_1)P(A_1) + \\cdots +P(B|A_n)P(A_n)\n",
    "\\end{align*}\n",
    "\n",
    "</div>\n",
    "\n",
    "* **Add that to the set of formulas!**"
   ]
  },
  {
   "cell_type": "markdown",
   "metadata": {},
   "source": [
    "**<font color=blue>Example 5:</font> Consider the experiment where we select between a fair 6-sided die and a fair 12-sided die at random and flip it once. What is the probability that the die selected was the 12-sided die if face on top was a 5?**"
   ]
  },
  {
   "cell_type": "markdown",
   "metadata": {},
   "source": [
    "<!-- Let $S$ be the event that the fair 6-sided die was selected, $T$ the event that the fair 12-sided die was selected, and $D_i$ the event that the face $i$ was rolled.\n",
    "\n",
    "$$P(T|D_5) = \\frac{P(T\\cap D_5)}{P(D_5)} = \\frac{P(D_5|T)P(T)}{P(D_5)}$$\n",
    "\n",
    "and\n",
    "\n",
    "$$P(D_5) = P(D_5|S)P(S) + P(D_5|T)P(T) = \\frac{1}{6}\\times\\frac{1}{2} + \\frac{1}{12}\\times\\frac{1}{2} = 0.125$$\n",
    "\n",
    "Putting it together,\n",
    "\n",
    "$$P(T|D_5) = \\frac{P(D_5|T)P(T)}{P(D_5|S)P(S) + P(D_5|T)P(T)} = \\frac{\\frac{1}{12}\\times\\frac{1}{2}}{\\frac{1}{6}\\times\\frac{1}{2} + \\frac{1}{12}\\times\\frac{1}{2}}=\\frac{1}{3}$$ -->"
   ]
  },
  {
   "cell_type": "code",
   "execution_count": 10,
   "metadata": {},
   "outputs": [
    {
     "name": "stdout",
     "output_type": "stream",
     "text": [
      "Probability that die is 12-sided if observed result is 5 is  0.3355907895785196\n"
     ]
    }
   ],
   "source": [
    "num_sims=100_000\n",
    "dice = ['6-sided','12-sided']\n",
    "face5_count = 0\n",
    "die12_count = 0\n",
    "for sim in range(num_sims):\n",
    "    coin = random.choice(dice) # choose die at random\n",
    "    if coin=='6-sided':\n",
    "        S=list(range(1,7))\n",
    "    else:\n",
    "        S=list(range(1,13))\n",
    "    flip = random.choice(S) # roll the die\n",
    "    if flip==5: \n",
    "        face5_count+=1\n",
    "        if coin == '12-sided':\n",
    "            die12_count+=1\n",
    "print('Probability that die is 12-sided if observed result is 5 is ',\n",
    "      die12_count/face5_count)"
   ]
  },
  {
   "cell_type": "markdown",
   "metadata": {},
   "source": [
    "* Bayes's rule is an extremely useful theorem and is often used for **statistical inference**.\n",
    "\n",
    "There are a number of *causes* that may result in a certain *effect*. We observe the effect, and we wish to infer the cause.\n",
    "\n",
    "* The events $A_1, A_2,\\dots,A_n$ can be characterized as a set of possible causes, and\n",
    "* The event $B$ represents the effect\n",
    "\n",
    "The probability $P(B|A_i)$ computes the probability that the effect $B$ will be observed when the cause $A_i$ is present. This amounts to a probabilistic model for a cause-effect relationship.\n",
    "\n",
    "Given that the effect $B$ has occurred, we want to evaluate the probability $P(B|A_i)$ that the cause $A_i$ is present."
   ]
  },
  {
   "cell_type": "markdown",
   "metadata": {},
   "source": [
    "* We refer to $P(A_i|B)$ as the **<font color=green>posterior probability</font>** of event $A_i$ given the information\n",
    "\n",
    "* We refer to $P(A_i)$ as the **<font color=orange>prior probability</font>**\n",
    "\n",
    "* We refer to $P(B|A_i)$ as the **<font color=blue>likelihood</font>**\n",
    "\n",
    "* We refer to $P(B)$ as the **<font color=brown>evidence/effect probability</font>**"
   ]
  },
  {
   "cell_type": "markdown",
   "metadata": {},
   "source": [
    "**<font color=blue>Example 2:</font> A test for a certain rare disease is assumed to be correct 95% of the time: if a person has the disease, the test results are positive with probability 0.95, and if the person does not have the disease, the test results are negative with probability 0.95. A random person drawn from a certain *population* has probability 0.001 of having the disease. Given that the person just tested positive, what is the probability that the person has the disease?**"
   ]
  },
  {
   "cell_type": "markdown",
   "metadata": {},
   "source": [
    "<!-- Let $A$ be the event that the person has the disease, $B$ the event that the test results are positive. We are given that $P(B|A) = 0.95$ and $P(A) = 0.001$. We want to compute $P(A|B)$.\n",
    "\n",
    "\\begin{align*}\n",
    "P(A|B) &= \\frac{P(B|A)P(A)}{P(B)}\\\\\n",
    "&= \\frac{P(B|A)P(A)}{P(B|A)P(A) + P(B|\\overline{A})P(\\overline{A})}\\\\\n",
    "&= \\frac{0.95 \\times 0.001}{0.95\\times 0.001 + 0.05\\times 0.999}\\\\\n",
    "&\\approx 0.0187\n",
    "\\end{align*} -->"
   ]
  },
  {
   "cell_type": "markdown",
   "metadata": {},
   "source": [
    "# Bayesian Statistics vs Classic Statistics"
   ]
  },
  {
   "cell_type": "markdown",
   "metadata": {
    "cell_style": "split"
   },
   "source": [
    "The Bayes' theorem is an *extremely* useful result, formulated by Thomas Bayes in the 18th century and later published by Richard Price.\n",
    "\n",
    "This result originated the term **Bayesian statistics** or **Bayesian inference**, giving a different interpretation of probability when compared to **classic statistics** or **Frequentist inference**.\n",
    "\n",
    "* **Frequentist statistics**: refers to the field of statistics that draws conclusions from data by computing relative frequency of events in the data.\n",
    "\n",
    "* **Bayesian statistics**: refers to the field of statistics that draws conclusions from data by testing out the hypothesis and computing their observed probability from data.\n",
    "\n",
    "In **inference**, Bayes' rule makes use of a **prior** which is an assumption made about some underlying phenomenon. Bayes' equation makes use of this prior probability to compute the probability of such cause given some observational data.\n",
    "\n",
    "Whereas in classical inference, no assumption are made about the underlying nature of the system that generated the observational data. It's inference is purely based on how the frequency of outcomes."
   ]
  },
  {
   "cell_type": "markdown",
   "metadata": {
    "cell_style": "split"
   },
   "source": [
    "![ThomasBayes](https://upload.wikimedia.org/wikipedia/commons/d/d4/Thomas_Bayes.gif)\n",
    "Thomas Bayes (1701-1761), [Wikipedia page](https://en.wikipedia.org/wiki/Thomas_Bayes)"
   ]
  },
  {
   "cell_type": "markdown",
   "metadata": {},
   "source": [
    "**Which statistical approach should I use to draw conclusions from my data?** We will see that it *depends* on\n",
    "1. the problem\n",
    "2. the actual quantity (and quality) of the observational data that you have\n",
    "3. whether or not you have prior beliefs\n",
    "4. other factors"
   ]
  },
  {
   "cell_type": "code",
   "execution_count": 2,
   "metadata": {},
   "outputs": [
    {
     "data": {
      "image/png": "[encoded data removed]",
      "text/plain": [
       "<IPython.core.display.Image object>"
      ]
     },
     "execution_count": 2,
     "metadata": {
      "image/png": {
       "width": 500
      }
     },
     "output_type": "execute_result"
    }
   ],
   "source": [
    "from IPython.display import Image\n",
    "Image('https://imgs.xkcd.com/comics/frequentists_vs_bayesians_2x.png',width=500)"
   ]
  },
  {
   "cell_type": "markdown",
   "metadata": {},
   "source": [
    "**<font color=blue>Example 7:</font> Suppose that I flipped a coin 5 times and observe the event $E=\\{H,H,H,H,H\\}$. Without telling you anything else, what is the probability of heads? What would your answer be?**"
   ]
  },
  {
   "cell_type": "markdown",
   "metadata": {},
   "source": [
    "The **hidden state** of this problem is: what coin was used for this experiment?"
   ]
  },
  {
   "cell_type": "markdown",
   "metadata": {},
   "source": [
    "* Frequentist statistics: $P(H) = \\frac{|H|}{|E|} = \\frac{5}{5} = 1$. \n",
    "\n",
    "It does not use any prior beliefs."
   ]
  },
  {
   "cell_type": "markdown",
   "metadata": {},
   "source": [
    "* Bayesian statistics: you start by assuming that chances are e.g. I'm flipping a fair coin - this is your prior belief, that the coin is fair, then $P(H|\\text{fair})=\\frac{1}{2}$, furthermore you also compute a probability for that hypothesis:\n",
    "\n",
    "\\begin{align*}\n",
    "P(\\text{fair}| E) &= \\frac{P(E|\\text{fair})P(\\text{fair})}{P(E)}\\\\\n",
    "&= \\frac{P(E|\\text{fair})P(\\text{fair})}{P(E|\\text{fair})P(\\text{fair})+P(E|\\text{unfair})P(\\text{unfair})}\\\\\n",
    "&= \\frac{\\left(\\frac{1}{2}\\right)^5\\times\\frac{1}{2}}{\\left(\\frac{1}{2}\\right)^5\\times\\frac{1}{2}+(1)^5\\times\\frac{1}{2}}, \\text{ assuming you believe it to be 50/50 between fair and 2-headed}\\\\\n",
    "&\\approx 0.0303\n",
    "\\end{align*}"
   ]
  },
  {
   "cell_type": "markdown",
   "metadata": {},
   "source": [
    "If you thought I had 2 fair coin and 1 2-headed, then the probability for fair coin is $\\frac{2}{3}$ and probability for 2-headed was $\\frac{1}{3}$. With this, the probability of the hypothesis/cause \"coin is fair\" is:\n",
    "\n",
    "$$P(\\text{fair}| E) = \\frac{\\left(\\frac{1}{2}\\right)^5\\times\\frac{2}{3}}{\\left(\\frac{1}{2}\\right)^5\\times\\frac{2}{3}+(1)^5\\times\\frac{1}{3}} \\approx 0.0588$$\n",
    "\n",
    "Note that a **stronger (prior) belief** influenced the probability of your **hypothesis**."
   ]
  },
  {
   "cell_type": "markdown",
   "metadata": {},
   "source": [
    "**This is where the (healthy) \"rivalry\" between Frequentist vs Bayesian emerges:**\n",
    "\n",
    "* Frequentists say that we should never make assumptions (prior beliefs) because they will change the probability of the hypothesis. Frequestists support that the use of the observational data is the approach to take conclusions. Frequentist approach to probability is **data-driven**.\n",
    "\n",
    "* Bayesians say that in situations where we do not have enough data, it is prudent to make assumptions as the conclusions will become more \"realistic\".\n",
    "\n",
    "There are strategies to adjust the prior belief (correct its value to a *better* value) as we continue to collect more observations. We will study this."
   ]
  },
  {
   "cell_type": "markdown",
   "metadata": {},
   "source": [
    "## Applications of Bayesian Inference"
   ]
  },
  {
   "cell_type": "markdown",
   "metadata": {},
   "source": [
    "Applications of Bayesian inference are endless. These are some examples:\n",
    "\n",
    "1. Decision theory, e.g. communication system (example next lecture)\n",
    "\n",
    "2. Bioinformatics and healthcare, e.g. building a risk model from genetic profiles\n",
    "\n",
    "3. Recommender systems, e.g. Netflix\n",
    "\n",
    "4. Stock market prediction\n",
    "\n",
    "5. Email spam filter\n",
    "\n",
    "6. Financing, e.g. banks are using Bayesian inference to determine interest rates of a loan by using a risk model\n",
    "\n",
    "8. many, many others..."
   ]
  },
  {
   "cell_type": "code",
   "execution_count": null,
   "metadata": {},
   "outputs": [],
   "source": []
  }
 ],
 "metadata": {
  "kernelspec": {
   "display_name": "Python 3",
   "language": "python",
   "name": "python3"
  },
  "language_info": {
   "codemirror_mode": {
    "name": "ipython",
    "version": 3
   },
   "file_extension": ".py",
   "mimetype": "text/x-python",
   "name": "python",
   "nbconvert_exporter": "python",
   "pygments_lexer": "ipython3",
   "version": "3.8.8"
  },
  "latex_envs": {
   "LaTeX_envs_menu_present": true,
   "autoclose": false,
   "autocomplete": true,
   "bibliofile": "biblio.bib",
   "cite_by": "apalike",
   "current_citInitial": 1,
   "eqLabelWithNumbers": true,
   "eqNumInitial": 1,
   "hotkeys": {
    "equation": "Ctrl-E",
    "itemize": "Ctrl-I"
   },
   "labels_anchors": false,
   "latex_user_defs": false,
   "report_style_numbering": false,
   "user_envs_cfg": false
  },
  "varInspector": {
   "cols": {
    "lenName": 16,
    "lenType": 16,
    "lenVar": 40
   },
   "kernels_config": {
    "python": {
     "delete_cmd_postfix": "",
     "delete_cmd_prefix": "del ",
     "library": "var_list.py",
     "varRefreshCmd": "print(var_dic_list())"
    },
    "r": {
     "delete_cmd_postfix": ") ",
     "delete_cmd_prefix": "rm(",
     "library": "var_list.r",
     "varRefreshCmd": "cat(var_dic_list()) "
    }
   },
   "types_to_exclude": [
    "module",
    "function",
    "builtin_function_or_method",
    "instance",
    "_Feature"
   ],
   "window_display": false
  }
 },
 "nbformat": 4,
 "nbformat_minor": 4
}
