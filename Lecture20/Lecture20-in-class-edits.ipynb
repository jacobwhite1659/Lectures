{
 "cells": [
  {
   "cell_type": "markdown",
   "metadata": {
    "slideshow": {
     "slide_type": "slide"
    }
   },
   "source": [
    "# Lecture 20\n",
    "- Introduction to Vectors & Vector Operations\n",
    "- Introduction to Matrices\n",
    "- Correlations\n",
    "- Linear Regression"
   ]
  },
  {
   "cell_type": "code",
   "execution_count": 1,
   "metadata": {
    "slideshow": {
     "slide_type": "subslide"
    }
   },
   "outputs": [],
   "source": [
    "import pandas as pd\n",
    "import scipy.stats as stats\n",
    "import numpy as np\n",
    "import numpy.random as npr\n",
    "import matplotlib.pyplot as plt\n",
    "%matplotlib inline\n",
    "plt.style.use('bmh')"
   ]
  },
  {
   "cell_type": "markdown",
   "metadata": {},
   "source": [
    "# Last Lecture"
   ]
  },
  {
   "cell_type": "markdown",
   "metadata": {},
   "source": [
    "- Introduction to vectors\n",
    "- Vector addition\n",
    "- Vector scaling"
   ]
  },
  {
   "cell_type": "markdown",
   "metadata": {
    "slideshow": {
     "slide_type": "subslide"
    }
   },
   "source": [
    "<div class=\"alert alert-info\">\n",
    "  <strong>Dimension</strong>\n",
    "    \n",
    "The **dimension** (or **size**) of a vector is the number of elements it contains.\n",
    "</div>"
   ]
  },
  {
   "cell_type": "markdown",
   "metadata": {
    "slideshow": {
     "slide_type": "slide"
    }
   },
   "source": [
    "## Special vectors\n",
    "\n",
    "**<font color=\"blue\">Zero Vectors</font>** A *zero vector* is a vector with all elements equal to zero. We will denote the $n$-dimensional zero vector by $\\mathbf{0}_n$.\n",
    "\n",
    "$~~~~~$ For example, \n",
    "\\begin{align}\n",
    "\\mathbf{0}_5 = \n",
    "\\begin{bmatrix}\n",
    "0\\\\0\\\\0\\\\0\\\\ 0\n",
    "\\end{bmatrix}\n",
    "\\end{align}"
   ]
  },
  {
   "cell_type": "markdown",
   "metadata": {
    "slideshow": {
     "slide_type": "subslide"
    }
   },
   "source": [
    "**<font color=\"blue\">Ones vectors</font>** A *ones vector* is a vector with all elements equal to one. We will denote the $n$-dimensional ones vector by $\\mathbf{1}_n$."
   ]
  },
  {
   "cell_type": "markdown",
   "metadata": {
    "slideshow": {
     "slide_type": "subslide"
    }
   },
   "source": [
    "**<font color=\"blue\">Standard Unit Vectors</font>** A *standard unit vector* is a vector with all elements equal to zero, except one element which is equal to one. \n",
    "\n",
    "For a given dimension $n$, we denote the stanard unit vector with element $i$ equal to 1 by $e_i$. \n",
    "\n",
    "For example, the three standard unit vectors of dimension 3 are:\n",
    "\n",
    "\\begin{align}\n",
    "e_1=\n",
    "\\begin{bmatrix}\n",
    "1\\\\ 0\\\\ 0\n",
    "\\end{bmatrix}, ~~~~~\n",
    "e_2=\n",
    "\\begin{bmatrix}\n",
    "0\\\\ 1\\\\ 0\n",
    "\\end{bmatrix}, ~~~~~\n",
    "e_3=\n",
    "\\begin{bmatrix}\n",
    "0\\\\ 0\\\\ 1\n",
    "\\end{bmatrix}\n",
    "\\end{align}"
   ]
  },
  {
   "cell_type": "markdown",
   "metadata": {
    "slideshow": {
     "slide_type": "subslide"
    }
   },
   "source": [
    "### Properties of Vector Addition\n",
    "\n",
    "Because vector addition is component-wise scalar addition, it inherits many of its properties from scalar addition.\n",
    "<div class=\"alert alert-info\">\n",
    "    \n",
    "* *Commutative*: $\\mathbf{a}+\\mathbf{b} = \\mathbf{b} + \\mathbf{a}$\n",
    "* *Associative*: $(\\mathbf{a}+\\mathbf{b}) +\\mathbf{c} = \\mathbf{a}+(\\mathbf{b} +\\mathbf{c})$\n",
    "* *Identity*: The zero-vector is the identity for vector addition: $\\mathbf{a} + \\mathbf{0}  = \\mathbf{a}$\n",
    "    \n",
    "</div>"
   ]
  },
  {
   "cell_type": "markdown",
   "metadata": {
    "slideshow": {
     "slide_type": "subslide"
    }
   },
   "source": [
    "### Properties of Scaling\n",
    "\n",
    "<div class=\"alert alert-info\">\n",
    "\n",
    "\n",
    "* *Commutative*: $\\alpha \\mathbf{x} = \\mathbf{x} \\alpha$\n",
    "* *Associative*: If $\\alpha$ and $\\beta$ are scalars, then $(\\alpha  \\beta) \\mathbf{x} = \\alpha (\\beta \\mathbf{x})$\n",
    "* *Distributive over scalar addition*: $(\\alpha+\\beta) \\mathbf{x} = \\alpha \\mathbf{x} + \\beta \\mathbf{x}$ and $\\mathbf{x} (\\alpha+\\beta)  = \\mathbf{x}\\alpha  + \\mathbf{x} \\beta $ \n",
    "* *Distributive over vector addition*: $\\alpha ( \\mathbf{x} +\\mathbf{y}) = \\alpha \\mathbf{x} + \\alpha \\mathbf{y}$\n",
    "\n",
    "</div>"
   ]
  },
  {
   "cell_type": "markdown",
   "metadata": {},
   "source": [
    "# Today's Lecture"
   ]
  },
  {
   "cell_type": "markdown",
   "metadata": {},
   "source": [
    "- Inner Product of vectors\n",
    "- Introduction to Matrices\n",
    "- Moments of Matrices\n",
    "- Correlations\n",
    "- Linear Regression"
   ]
  },
  {
   "cell_type": "code",
   "execution_count": 2,
   "metadata": {
    "slideshow": {
     "slide_type": "subslide"
    }
   },
   "outputs": [],
   "source": [
    "def plotvec(*argv):\n",
    "    colors=['b','k','r','g','c','m']\n",
    "    xmin=0\n",
    "    xmax=-1000000\n",
    "    ymin=0\n",
    "    ymax=-1000000\n",
    "    origin=[0,0]\n",
    "    plt.figure()\n",
    "    for e in enumerate(argv):\n",
    "        i=e[0]\n",
    "        arg=e[1]\n",
    "        plt.quiver(*origin,*arg,angles='xy',scale_units='xy',scale=1,\n",
    "                   color=colors[i%len(colors)])\n",
    "        xmin=min(xmin,arg[0])\n",
    "        xmax=max(xmax,arg[0])\n",
    "        ymin=min(ymin,arg[1])\n",
    "        ymax=max(ymax,arg[1])\n",
    "    plt.xlim(min(-1, xmin-1), max(1,xmax+1))\n",
    "    plt.ylim(min(-1,ymin-1),max(1,ymax+1))"
   ]
  },
  {
   "cell_type": "code",
   "execution_count": 5,
   "metadata": {
    "scrolled": true,
    "slideshow": {
     "slide_type": "subslide"
    }
   },
   "outputs": [
    {
     "data": {
      "image/png": "[encoded data removed]",
      "text/plain": [
       "<Figure size 432x288 with 1 Axes>"
      ]
     },
     "metadata": {
      "needs_background": "light"
     },
     "output_type": "display_data"
    }
   ],
   "source": [
    "a=[2,3]\n",
    "b=[1,-2]\n",
    "c=[-1,1]\n",
    "plotvec(a,b,c)"
   ]
  },
  {
   "cell_type": "markdown",
   "metadata": {
    "slideshow": {
     "slide_type": "slide"
    }
   },
   "source": [
    "## Vector-Vector Multiplication: Inner Product"
   ]
  },
  {
   "cell_type": "markdown",
   "metadata": {
    "slideshow": {
     "slide_type": "subslide"
    }
   },
   "source": [
    "We also can define multiplication between vectors, but that can be done in different ways. Let's start with the easiest and most common:\n",
    "\n",
    "<div class=\"alert alert-info\">\n",
    "  <strong>Inner Product</strong>\n",
    "\n",
    "The *inner product* or *dot product* between two $n$-vectors $a$ and $b$ is the **scalar value** given by\n",
    "\n",
    "$$ \\mathbf{a} \\cdot \\mathbf{b} = \\mathbf{a}^T \\mathbf{b} = a_1 b_1 + a_2 b_2 + \\ldots + a_n b_n $$\n",
    "</div>\n",
    "\n",
    "I.e., multiplication is carried out elementwise, and then the resulting values are added.\n",
    "\n",
    "Inner product can also be denoted using other notation, such as $\\langle a, b\\rangle$ or $(a,b)$."
   ]
  },
  {
   "cell_type": "markdown",
   "metadata": {
    "slideshow": {
     "slide_type": "subslide"
    }
   },
   "source": [
    "Write a function to compute the inner product of two vectors. Here is a \"Pythonic\" way to iterate over the corresponding elements of two vectors:"
   ]
  },
  {
   "cell_type": "code",
   "execution_count": 10,
   "metadata": {
    "slideshow": {
     "slide_type": "subslide"
    }
   },
   "outputs": [
    {
     "name": "stdout",
     "output_type": "stream",
     "text": [
      "a: [2, 3]\n",
      "b: [1, -2]\n",
      "c: [-1, 1]\n",
      "(2, 1, -1)\n",
      "(3, -2, 1)\n"
     ]
    }
   ],
   "source": [
    "print('a:',a)\n",
    "print('b:',b)\n",
    "print('c:',c)\n",
    "\n",
    "for x in zip(a,b,c):\n",
    "    print(x)"
   ]
  },
  {
   "cell_type": "code",
   "execution_count": 8,
   "metadata": {},
   "outputs": [],
   "source": [
    "?zip"
   ]
  },
  {
   "cell_type": "code",
   "execution_count": 14,
   "metadata": {
    "slideshow": {
     "slide_type": "subslide"
    }
   },
   "outputs": [],
   "source": [
    "def inner(a,b):\n",
    "    if len(a) != len(b):\n",
    "        raise ValueError('The dimensions must be the same!')\n",
    "        \n",
    "    total=0\n",
    "    for x in zip(a,b):\n",
    "        total += x[0]*x[1]\n",
    "\n",
    "    return total"
   ]
  },
  {
   "cell_type": "markdown",
   "metadata": {
    "slideshow": {
     "slide_type": "subslide"
    }
   },
   "source": [
    "Use your function to compute the inner product of $\\mathbf{a}$ and $\\mathbf{b}$"
   ]
  },
  {
   "cell_type": "code",
   "execution_count": 15,
   "metadata": {
    "slideshow": {
     "slide_type": "fragment"
    }
   },
   "outputs": [
    {
     "data": {
      "text/plain": [
       "-4"
      ]
     },
     "execution_count": 15,
     "metadata": {},
     "output_type": "execute_result"
    }
   ],
   "source": [
    "inner(a,b)"
   ]
  },
  {
   "cell_type": "markdown",
   "metadata": {
    "slideshow": {
     "slide_type": "subslide"
    }
   },
   "source": [
    "Use your function to compute the inner product of $[-1,2,2]^T$ and $[1,0,-3]^T$"
   ]
  },
  {
   "cell_type": "code",
   "execution_count": 16,
   "metadata": {
    "slideshow": {
     "slide_type": "fragment"
    }
   },
   "outputs": [
    {
     "data": {
      "text/plain": [
       "-7"
      ]
     },
     "execution_count": 16,
     "metadata": {},
     "output_type": "execute_result"
    }
   ],
   "source": [
    "inner([-1,2,2],[1,0,-3])"
   ]
  },
  {
   "cell_type": "markdown",
   "metadata": {},
   "source": [
    "What happens if we switch the order of the arguments in the inner product?\n",
    "\n",
    "Use your function to verify:"
   ]
  },
  {
   "cell_type": "code",
   "execution_count": 17,
   "metadata": {
    "slideshow": {
     "slide_type": "fragment"
    }
   },
   "outputs": [
    {
     "data": {
      "text/plain": [
       "-4"
      ]
     },
     "execution_count": 17,
     "metadata": {},
     "output_type": "execute_result"
    }
   ],
   "source": [
    "inner(b,a)"
   ]
  },
  {
   "cell_type": "code",
   "execution_count": null,
   "metadata": {
    "slideshow": {
     "slide_type": "fragment"
    }
   },
   "outputs": [],
   "source": []
  },
  {
   "cell_type": "markdown",
   "metadata": {
    "slideshow": {
     "slide_type": "subslide"
    }
   },
   "source": [
    "### Properties of Inner Product"
   ]
  },
  {
   "cell_type": "markdown",
   "metadata": {
    "slideshow": {
     "slide_type": "fragment"
    }
   },
   "source": [
    "<div class=\"alert alert-info\">\n",
    "\n",
    "* *Commutative*: $\\mathbf{a}^T \\mathbf{b} = \\mathbf{b}^T \\mathbf{a}$\n",
    "* *Associative with scalar multiplication*: $(\\gamma \\mathbf{a})^T \\mathbf{b} = \\gamma (\\mathbf{a}^T \\mathbf{b} )$\n",
    "* *Distributive across vector addition*: $(\\mathbf{a} +\\mathbf{b})^T \\mathbf{c} = \\mathbf{a}^T \\mathbf{c} +\\mathbf{b}^T \\mathbf{c}$\n",
    "</div>"
   ]
  },
  {
   "cell_type": "markdown",
   "metadata": {
    "slideshow": {
     "slide_type": "subslide"
    }
   },
   "source": [
    "### Special examples:"
   ]
  },
  {
   "cell_type": "markdown",
   "metadata": {
    "slideshow": {
     "slide_type": "subslide"
    }
   },
   "source": [
    "**Inner product with Standard Unit Vector**\n",
    "\n",
    "$\\mathbf{e}_i^T \\mathbf{a} = a_i$"
   ]
  },
  {
   "cell_type": "code",
   "execution_count": 18,
   "metadata": {
    "slideshow": {
     "slide_type": "fragment"
    }
   },
   "outputs": [
    {
     "data": {
      "text/plain": [
       "7"
      ]
     },
     "execution_count": 18,
     "metadata": {},
     "output_type": "execute_result"
    }
   ],
   "source": [
    "x = [5,7,9]\n",
    "e2 = [0,1,0]\n",
    "inner(x,e2)"
   ]
  },
  {
   "cell_type": "markdown",
   "metadata": {
    "slideshow": {
     "slide_type": "fragment"
    }
   },
   "source": [
    "Computing the inner product with the $i$th standard unit vector returns the $i$th element"
   ]
  },
  {
   "cell_type": "markdown",
   "metadata": {
    "slideshow": {
     "slide_type": "subslide"
    }
   },
   "source": [
    "**Inner product with 1s vector: Summation**\n",
    "\n",
    "$\\mathbf{1}^T \\mathbf{a} = a_1 + a_2 + \\ldots + a_n$"
   ]
  },
  {
   "cell_type": "code",
   "execution_count": 19,
   "metadata": {
    "slideshow": {
     "slide_type": "fragment"
    }
   },
   "outputs": [
    {
     "data": {
      "text/plain": [
       "21"
      ]
     },
     "execution_count": 19,
     "metadata": {},
     "output_type": "execute_result"
    }
   ],
   "source": [
    "ones3 = [1,1,1]\n",
    "inner(x,ones3)"
   ]
  },
  {
   "cell_type": "markdown",
   "metadata": {
    "slideshow": {
     "slide_type": "subslide"
    }
   },
   "source": [
    "**Averaging** \n",
    "\n",
    "$\\frac{1}{n} \\mathbf{1}^T \\mathbf{a} = [1/n, 1/n, \\ldots, 1/n]^T \\mathbf{a} $"
   ]
  },
  {
   "cell_type": "code",
   "execution_count": 20,
   "metadata": {
    "slideshow": {
     "slide_type": "fragment"
    }
   },
   "outputs": [
    {
     "ename": "TypeError",
     "evalue": "unsupported operand type(s) for /: 'list' and 'int'",
     "output_type": "error",
     "traceback": [
      "\u001b[0;31m---------------------------------------------------------------------------\u001b[0m",
      "\u001b[0;31mTypeError\u001b[0m                                 Traceback (most recent call last)",
      "\u001b[0;32m<ipython-input-20-b13a7a794807>\u001b[0m in \u001b[0;36m<module>\u001b[0;34m\u001b[0m\n\u001b[0;32m----> 1\u001b[0;31m \u001b[0mones3\u001b[0m\u001b[0;34m/\u001b[0m\u001b[0;36m3\u001b[0m\u001b[0;34m\u001b[0m\u001b[0;34m\u001b[0m\u001b[0m\n\u001b[0m",
      "\u001b[0;31mTypeError\u001b[0m: unsupported operand type(s) for /: 'list' and 'int'"
     ]
    }
   ],
   "source": [
    "ones3/3"
   ]
  },
  {
   "cell_type": "code",
   "execution_count": 21,
   "metadata": {
    "slideshow": {
     "slide_type": "subslide"
    }
   },
   "outputs": [
    {
     "data": {
      "text/plain": [
       "[1, 1, 1, 1, 1, 1, 1, 1, 1]"
      ]
     },
     "execution_count": 21,
     "metadata": {},
     "output_type": "execute_result"
    }
   ],
   "source": [
    "ones3*3"
   ]
  },
  {
   "cell_type": "code",
   "execution_count": 23,
   "metadata": {
    "slideshow": {
     "slide_type": "fragment"
    }
   },
   "outputs": [
    {
     "data": {
      "text/plain": [
       "array([0.33333333, 0.33333333, 0.33333333])"
      ]
     },
     "execution_count": 23,
     "metadata": {},
     "output_type": "execute_result"
    }
   ],
   "source": [
    "z3 = np.array(ones3)/3\n",
    "\n",
    "z3"
   ]
  },
  {
   "cell_type": "code",
   "execution_count": 24,
   "metadata": {},
   "outputs": [
    {
     "data": {
      "text/plain": [
       "7.0"
      ]
     },
     "execution_count": 24,
     "metadata": {},
     "output_type": "execute_result"
    }
   ],
   "source": [
    "inner(x, z3)"
   ]
  },
  {
   "cell_type": "markdown",
   "metadata": {
    "slideshow": {
     "slide_type": "subslide"
    }
   },
   "source": [
    "**Sum of Squares**\n",
    "\n",
    "$ \\mathbf{a}^T\\mathbf{a} = a_1^2 + a_2^2 + \\cdots + a_n^2$"
   ]
  },
  {
   "cell_type": "code",
   "execution_count": 25,
   "metadata": {
    "slideshow": {
     "slide_type": "fragment"
    }
   },
   "outputs": [
    {
     "data": {
      "text/plain": [
       "5"
      ]
     },
     "execution_count": 25,
     "metadata": {},
     "output_type": "execute_result"
    }
   ],
   "source": [
    "a=[2,1]\n",
    "\n",
    "inner(a,a)"
   ]
  },
  {
   "cell_type": "markdown",
   "metadata": {
    "slideshow": {
     "slide_type": "subslide"
    }
   },
   "source": [
    "**Lengths of Vectors**\n",
    "\n",
    "For vectors $a$ and $b$, what are their lengths?"
   ]
  },
  {
   "cell_type": "code",
   "execution_count": 30,
   "metadata": {
    "slideshow": {
     "slide_type": "subslide"
    }
   },
   "outputs": [
    {
     "data": {
      "image/png": "[encoded data removed]",
      "text/plain": [
       "<Figure size 432x288 with 1 Axes>"
      ]
     },
     "metadata": {
      "needs_background": "light"
     },
     "output_type": "display_data"
    }
   ],
   "source": [
    "plotvec(a)\n",
    "plt.title(a);"
   ]
  },
  {
   "cell_type": "code",
   "execution_count": 29,
   "metadata": {
    "slideshow": {
     "slide_type": "subslide"
    }
   },
   "outputs": [
    {
     "data": {
      "image/png": "[encoded data removed]",
      "text/plain": [
       "<Figure size 432x288 with 1 Axes>"
      ]
     },
     "metadata": {
      "needs_background": "light"
     },
     "output_type": "display_data"
    }
   ],
   "source": [
    "plotvec(b)\n",
    "plt.title(b);"
   ]
  },
  {
   "cell_type": "markdown",
   "metadata": {
    "slideshow": {
     "slide_type": "subslide"
    }
   },
   "source": [
    "We denote the length of a vector $\\mathbf{a}$ by $\\| \\mathbf{a}\\|$, which is read **norm** of $ \\mathbf{a}$. Thus,\n",
    "\n",
    "$$ \\|\\mathbf{a}\\|^2 = \\mathbf{a}^T\\mathbf{a} $$\n",
    "\n",
    "The inner-product of a vector with itself is its norm-squared."
   ]
  },
  {
   "cell_type": "code",
   "execution_count": 36,
   "metadata": {},
   "outputs": [
    {
     "data": {
      "text/plain": [
       "2.23606797749979"
      ]
     },
     "execution_count": 36,
     "metadata": {},
     "output_type": "execute_result"
    }
   ],
   "source": [
    "np.sqrt(inner(a,a)) # norm or length"
   ]
  },
  {
   "cell_type": "code",
   "execution_count": 35,
   "metadata": {},
   "outputs": [
    {
     "data": {
      "text/plain": [
       "2.23606797749979"
      ]
     },
     "execution_count": 35,
     "metadata": {},
     "output_type": "execute_result"
    }
   ],
   "source": [
    "np.sqrt(inner(b,b))"
   ]
  },
  {
   "cell_type": "markdown",
   "metadata": {},
   "source": [
    "**Orthogonal vectors**\n",
    "\n",
    "Consider the two standard unit vectors and their inner product:"
   ]
  },
  {
   "cell_type": "code",
   "execution_count": 33,
   "metadata": {},
   "outputs": [],
   "source": [
    "e1 = [1,0]\n",
    "e2 = [0,1]"
   ]
  },
  {
   "cell_type": "code",
   "execution_count": 34,
   "metadata": {},
   "outputs": [
    {
     "data": {
      "image/png": "[encoded data removed]",
      "text/plain": [
       "<Figure size 432x288 with 1 Axes>"
      ]
     },
     "metadata": {
      "needs_background": "light"
     },
     "output_type": "display_data"
    }
   ],
   "source": [
    "plotvec(e1,e2)"
   ]
  },
  {
   "cell_type": "markdown",
   "metadata": {},
   "source": [
    "Now consider, $a=[2,1]$ and $b=[-1, 2]$:"
   ]
  },
  {
   "cell_type": "code",
   "execution_count": 37,
   "metadata": {},
   "outputs": [
    {
     "data": {
      "text/plain": [
       "0"
      ]
     },
     "execution_count": 37,
     "metadata": {},
     "output_type": "execute_result"
    }
   ],
   "source": [
    "inner(a,b)"
   ]
  },
  {
   "cell_type": "code",
   "execution_count": null,
   "metadata": {},
   "outputs": [],
   "source": []
  },
  {
   "cell_type": "markdown",
   "metadata": {},
   "source": [
    "So if the inner product of two vectors is zero, then the vector are perpendicular, that is, they have an 90$^\\circ$ angle between them. This is a sufficient and necessary condition, that is:\n",
    "\n",
    "$$\\mathbf{x}^T\\mathbf{y} = 0 \\iff \\mathbf{x} \\perp \\mathbf{y}$$"
   ]
  },
  {
   "cell_type": "markdown",
   "metadata": {},
   "source": [
    "### Vector Operations\n",
    "\n",
    "1. **Vector Summation**: if $\\mathbf{c}= \\mathbf{a} + \\mathbf{b}$, then \n",
    "\n",
    "\\begin{align*}\n",
    "c_i = a_i+b_i\n",
    "\\end{align*}\n",
    "\n",
    "for all $i=1,2,\\ldots,n$. \n",
    "\n",
    "2. **Scalar-Vector Multiplication** or **scaling**: in scalar-vector multiplcation, a vector is  multiplied by a scalar (a number). This is achieved by multiplying every element of the vector by the scalar: \n",
    "\n",
    "\\begin{align*}\n",
    "\\alpha [x_1,x_2,\\dots,x_n]^T = [\\alpha x_1,\\alpha x_2,\\dots,\\alpha x_n]^T\n",
    "\\end{align*}\n",
    "\n",
    "3. **Vector-Vector Product** or **Inner Product** or **Dot Product**: The *inner product* or *dot product* between two $n$-vectors $a$ and $b$ is the **scalar value** given by \n",
    "\n",
    "\\begin{align*}\n",
    "\\mathbf{a} \\cdot \\mathbf{b} = \\mathbf{a}^T \\mathbf{b} = a_1 b_1 + a_2 b_2 + \\ldots + a_n b_n\n",
    "\\end{align*}\n",
    "\n",
    "4. **Length of Vectors**: we denote the length of a vector $\\mathbf{a}$ by $\\| \\mathbf{a}\\|$, which is read **norm** of $ \\mathbf{a}$. The norm of a vector is the square-root of the inner product of a vector, that is, \n",
    "\n",
    "\\begin{align*}\n",
    "\\|\\mathbf{a}\\| = \\sqrt{\\mathbf{a}^T\\mathbf{a}}\n",
    "\\end{align*}\n",
    "\n",
    "5. **Orthogonal vectors** or **perpendicular vectors**: if the inner product of two vectors is zero, then the vectors are perpendicular, that is, they have an 90$^\\circ$ angle between them. This is a sufficient and necessary condition, that is:\n",
    "\n",
    "\\begin{align*}\n",
    "\\mathbf{x}^T\\mathbf{y} = 0 \\iff \\mathbf{x} \\perp \\mathbf{y}\n",
    "\\end{align*}"
   ]
  },
  {
   "cell_type": "markdown",
   "metadata": {},
   "source": [
    "# Vectors in ```NumPy```"
   ]
  },
  {
   "cell_type": "markdown",
   "metadata": {},
   "source": [
    "We saw how to implement operations like vector addition, scalar-vector multiplication, and vector inner product.\n",
    "\n",
    "```NumPy``` can do all these operations on vectors:"
   ]
  },
  {
   "cell_type": "code",
   "execution_count": 38,
   "metadata": {},
   "outputs": [],
   "source": [
    "a=[2,3]\n",
    "b=[1,-2]"
   ]
  },
  {
   "cell_type": "code",
   "execution_count": 39,
   "metadata": {},
   "outputs": [
    {
     "data": {
      "text/plain": [
       "[2, 3, 1, -2]"
      ]
     },
     "execution_count": 39,
     "metadata": {},
     "output_type": "execute_result"
    }
   ],
   "source": [
    "# As a reminder, Python doesn't know you are treating these lists\n",
    "# as vectors:\n",
    "\n",
    "a+b"
   ]
  },
  {
   "cell_type": "code",
   "execution_count": 40,
   "metadata": {},
   "outputs": [
    {
     "data": {
      "text/plain": [
       "(array([2, 3]), array([ 1, -2]))"
      ]
     },
     "execution_count": 40,
     "metadata": {},
     "output_type": "execute_result"
    }
   ],
   "source": [
    "# Cast these to numpy arrays:\n",
    "a = np.array(a)\n",
    "\n",
    "b = np.array(b)\n",
    "\n",
    "a,b\n"
   ]
  },
  {
   "cell_type": "code",
   "execution_count": 41,
   "metadata": {},
   "outputs": [
    {
     "data": {
      "text/plain": [
       "(2,)"
      ]
     },
     "execution_count": 41,
     "metadata": {},
     "output_type": "execute_result"
    }
   ],
   "source": [
    "a.shape"
   ]
  },
  {
   "cell_type": "code",
   "execution_count": 42,
   "metadata": {},
   "outputs": [],
   "source": [
    "a2 = a[:,np.newaxis]"
   ]
  },
  {
   "cell_type": "code",
   "execution_count": 43,
   "metadata": {},
   "outputs": [
    {
     "data": {
      "text/plain": [
       "array([[2],\n",
       "       [3]])"
      ]
     },
     "execution_count": 43,
     "metadata": {},
     "output_type": "execute_result"
    }
   ],
   "source": [
    "a2"
   ]
  },
  {
   "cell_type": "code",
   "execution_count": 44,
   "metadata": {},
   "outputs": [
    {
     "data": {
      "text/plain": [
       "(2, 1)"
      ]
     },
     "execution_count": 44,
     "metadata": {},
     "output_type": "execute_result"
    }
   ],
   "source": [
    "a2.shape"
   ]
  },
  {
   "cell_type": "markdown",
   "metadata": {},
   "source": [
    "Note that these are row vectors! That is okay for most operations:"
   ]
  },
  {
   "cell_type": "code",
   "execution_count": 45,
   "metadata": {},
   "outputs": [
    {
     "data": {
      "text/plain": [
       "array([3, 1])"
      ]
     },
     "execution_count": 45,
     "metadata": {},
     "output_type": "execute_result"
    }
   ],
   "source": [
    "#Vector addition\n",
    "\n",
    "a+b"
   ]
  },
  {
   "cell_type": "code",
   "execution_count": 46,
   "metadata": {},
   "outputs": [
    {
     "data": {
      "text/plain": [
       "(array([1. , 1.5]), array([ 2.5, -5. ]))"
      ]
     },
     "execution_count": 46,
     "metadata": {},
     "output_type": "execute_result"
    }
   ],
   "source": [
    "#Scalar multiplication\n",
    "\n",
    "0.5*a, 2.5*b"
   ]
  },
  {
   "cell_type": "code",
   "execution_count": 47,
   "metadata": {},
   "outputs": [
    {
     "data": {
      "text/plain": [
       "array([ 2, -6])"
      ]
     },
     "execution_count": 47,
     "metadata": {},
     "output_type": "execute_result"
    }
   ],
   "source": [
    "#But be careful:\n",
    "\n",
    "# the following is not the inner product of a with b!\n",
    "\n",
    "a*b"
   ]
  },
  {
   "cell_type": "markdown",
   "metadata": {},
   "source": [
    "**In general, operations assume elementwise operation unless you use special operators.**\n",
    "\n",
    "There are 2 common ways to do the inner/dot product in numpy:"
   ]
  },
  {
   "cell_type": "code",
   "execution_count": 48,
   "metadata": {},
   "outputs": [
    {
     "data": {
      "text/plain": [
       "((2, 1), (2, 1))"
      ]
     },
     "execution_count": 48,
     "metadata": {},
     "output_type": "execute_result"
    }
   ],
   "source": [
    "b2 = b[:,np.newaxis]\n",
    "\n",
    "a2.shape, b2.shape"
   ]
  },
  {
   "cell_type": "code",
   "execution_count": 49,
   "metadata": {},
   "outputs": [
    {
     "data": {
      "text/plain": [
       "array([[-4]])"
      ]
     },
     "execution_count": 49,
     "metadata": {},
     "output_type": "execute_result"
    }
   ],
   "source": [
    "a2.T@b2"
   ]
  },
  {
   "cell_type": "code",
   "execution_count": 50,
   "metadata": {},
   "outputs": [
    {
     "data": {
      "text/plain": [
       "-4"
      ]
     },
     "execution_count": 50,
     "metadata": {},
     "output_type": "execute_result"
    }
   ],
   "source": [
    "np.dot(a,b)"
   ]
  },
  {
   "cell_type": "markdown",
   "metadata": {},
   "source": [
    "In the second approach, the \"@\" symbol is a general symbol indicating matrix multiplication. Note that the second approach matches the inner product notation favored by Boyd:\n",
    "\n",
    "$\\mathbf{a}^T \\mathbf{b} = \\mathbf{a} \\cdot \\mathbf{b}$,\n",
    "\n",
    "whereas the first approach is the dot product notation usually used in engineering and physics."
   ]
  },
  {
   "cell_type": "markdown",
   "metadata": {},
   "source": [
    "### Special Vectors\n",
    "\n",
    "```NumPy``` knows how to make several special vectors that we discussed in class:"
   ]
  },
  {
   "cell_type": "code",
   "execution_count": 55,
   "metadata": {},
   "outputs": [
    {
     "data": {
      "text/plain": [
       "array([[0.],\n",
       "       [0.],\n",
       "       [0.],\n",
       "       [0.],\n",
       "       [0.]])"
      ]
     },
     "execution_count": 55,
     "metadata": {},
     "output_type": "execute_result"
    }
   ],
   "source": [
    "# Zeros vector\n",
    "\n",
    "np.zeros((5,1))"
   ]
  },
  {
   "cell_type": "code",
   "execution_count": 56,
   "metadata": {},
   "outputs": [
    {
     "data": {
      "text/plain": [
       "array([[1.],\n",
       "       [1.],\n",
       "       [1.],\n",
       "       [1.],\n",
       "       [1.]])"
      ]
     },
     "execution_count": 56,
     "metadata": {},
     "output_type": "execute_result"
    }
   ],
   "source": [
    "# Ones vector\n",
    "\n",
    "np.ones((5,1))"
   ]
  },
  {
   "cell_type": "code",
   "execution_count": 57,
   "metadata": {},
   "outputs": [
    {
     "data": {
      "text/plain": [
       "array([[1., 1., 1., 1., 1.]])"
      ]
     },
     "execution_count": 57,
     "metadata": {},
     "output_type": "execute_result"
    }
   ],
   "source": [
    "np.ones((1,5))"
   ]
  },
  {
   "cell_type": "code",
   "execution_count": 70,
   "metadata": {},
   "outputs": [
    {
     "data": {
      "text/plain": [
       "array([[1.],\n",
       "       [0.],\n",
       "       [0.],\n",
       "       [0.]])"
      ]
     },
     "execution_count": 70,
     "metadata": {},
     "output_type": "execute_result"
    }
   ],
   "source": [
    "# Standard indicator vector with 1 in first place\n",
    "np.eye(4,1)"
   ]
  },
  {
   "cell_type": "code",
   "execution_count": 69,
   "metadata": {},
   "outputs": [],
   "source": [
    "#Standard indicator vector with 1 in kth place. Ex: k=3\n",
    "\n",
    "k=2 # e2\n",
    "\n",
    "np.eye(4,1,1-k)"
   ]
  },
  {
   "cell_type": "markdown",
   "metadata": {},
   "source": [
    "The latter function arguments are confusing, but we aren't ready to explain them yet!"
   ]
  },
  {
   "cell_type": "markdown",
   "metadata": {},
   "source": [
    "# A First Glimpse at Matrices: Stacking Vectors Horizontally"
   ]
  },
  {
   "cell_type": "code",
   "execution_count": 71,
   "metadata": {},
   "outputs": [
    {
     "data": {
      "text/plain": [
       "(array([2, 3]), array([ 1, -2]))"
      ]
     },
     "execution_count": 71,
     "metadata": {},
     "output_type": "execute_result"
    }
   ],
   "source": [
    "a,b"
   ]
  },
  {
   "cell_type": "code",
   "execution_count": 72,
   "metadata": {},
   "outputs": [
    {
     "data": {
      "text/plain": [
       "((2,), (2,))"
      ]
     },
     "execution_count": 72,
     "metadata": {},
     "output_type": "execute_result"
    }
   ],
   "source": [
    "a.shape, b.shape"
   ]
  },
  {
   "cell_type": "markdown",
   "metadata": {},
   "source": [
    "```NumPy``` knows how to stack vectors horizontally:"
   ]
  },
  {
   "cell_type": "code",
   "execution_count": 73,
   "metadata": {},
   "outputs": [
    {
     "data": {
      "text/plain": [
       "array([ 2,  3,  1, -2])"
      ]
     },
     "execution_count": 73,
     "metadata": {},
     "output_type": "execute_result"
    }
   ],
   "source": [
    "# CAREFUL: hstack takes a tuple of vectors\n",
    "\n",
    "np.hstack((a,b))"
   ]
  },
  {
   "cell_type": "code",
   "execution_count": 78,
   "metadata": {},
   "outputs": [
    {
     "data": {
      "text/plain": [
       "array([[ 2,  3],\n",
       "       [ 1, -2]])"
      ]
     },
     "execution_count": 78,
     "metadata": {},
     "output_type": "execute_result"
    }
   ],
   "source": [
    "np.stack((a,b))"
   ]
  },
  {
   "cell_type": "code",
   "execution_count": 76,
   "metadata": {},
   "outputs": [
    {
     "data": {
      "text/plain": [
       "array([ 2,  3,  1, -2])"
      ]
     },
     "execution_count": 76,
     "metadata": {},
     "output_type": "execute_result"
    }
   ],
   "source": [
    "np.hstack((a.T,b.T))"
   ]
  },
  {
   "cell_type": "markdown",
   "metadata": {},
   "source": [
    "What happened? Remember that we made **row** vectors. To make column vectors, we need to enter the values like this:"
   ]
  },
  {
   "cell_type": "code",
   "execution_count": 84,
   "metadata": {},
   "outputs": [
    {
     "data": {
      "text/plain": [
       "((2, 1), (2, 1))"
      ]
     },
     "execution_count": 84,
     "metadata": {},
     "output_type": "execute_result"
    }
   ],
   "source": [
    "a2 = a[:,np.newaxis]\n",
    "\n",
    "b2 = b[:,np.newaxis]\n",
    "\n",
    "a2.shape, b2.shape"
   ]
  },
  {
   "cell_type": "markdown",
   "metadata": {},
   "source": [
    "Turning a ```NumPy``` 1-D vector into a column vector is a little tricky because a 1-D vector only has one axis! We can do it by adding a new axis and then move it 90 degrees:"
   ]
  },
  {
   "cell_type": "code",
   "execution_count": 87,
   "metadata": {},
   "outputs": [],
   "source": [
    "M = np.hstack((a2,b2))"
   ]
  },
  {
   "cell_type": "code",
   "execution_count": 88,
   "metadata": {},
   "outputs": [
    {
     "data": {
      "text/plain": [
       "array([[ 2,  1],\n",
       "       [ 3, -2]])"
      ]
     },
     "execution_count": 88,
     "metadata": {},
     "output_type": "execute_result"
    }
   ],
   "source": [
    "M"
   ]
  },
  {
   "cell_type": "code",
   "execution_count": null,
   "metadata": {},
   "outputs": [],
   "source": []
  },
  {
   "cell_type": "markdown",
   "metadata": {},
   "source": [
    "We call this type of 2-D table a **matrix**. "
   ]
  },
  {
   "cell_type": "markdown",
   "metadata": {},
   "source": [
    "## Matrix indexing\n",
    "\n",
    "We can get the values out of the array by **indexing**. Matrices are indexed like:\n",
    "\n",
    "**M**[row, column]"
   ]
  },
  {
   "cell_type": "code",
   "execution_count": 90,
   "metadata": {},
   "outputs": [
    {
     "data": {
      "text/plain": [
       "2"
      ]
     },
     "execution_count": 90,
     "metadata": {},
     "output_type": "execute_result"
    }
   ],
   "source": [
    "# 0, 0 element (1st row, 1st col)\n",
    "\n",
    "M[0,0]"
   ]
  },
  {
   "cell_type": "code",
   "execution_count": 91,
   "metadata": {},
   "outputs": [
    {
     "data": {
      "text/plain": [
       "3"
      ]
     },
     "execution_count": 91,
     "metadata": {},
     "output_type": "execute_result"
    }
   ],
   "source": [
    "# 1, 0 element: (2nd row, 1st column)\n",
    "\n",
    "M[1,0]"
   ]
  },
  {
   "cell_type": "code",
   "execution_count": 92,
   "metadata": {},
   "outputs": [
    {
     "data": {
      "text/plain": [
       "-2"
      ]
     },
     "execution_count": 92,
     "metadata": {},
     "output_type": "execute_result"
    }
   ],
   "source": [
    "# 1,1 element:\n",
    "M[1,1]\n"
   ]
  },
  {
   "cell_type": "markdown",
   "metadata": {},
   "source": [
    "We can also pull out whole rows or columns by putting \":\" for the other index. In particular, to pull out the two vectors:"
   ]
  },
  {
   "cell_type": "code",
   "execution_count": 93,
   "metadata": {},
   "outputs": [
    {
     "data": {
      "text/plain": [
       "array([2, 3])"
      ]
     },
     "execution_count": 93,
     "metadata": {},
     "output_type": "execute_result"
    }
   ],
   "source": [
    "# First column:\n",
    "\n",
    "M[:,0]"
   ]
  },
  {
   "cell_type": "code",
   "execution_count": 94,
   "metadata": {},
   "outputs": [
    {
     "data": {
      "text/plain": [
       "array([ 1, -2])"
      ]
     },
     "execution_count": 94,
     "metadata": {},
     "output_type": "execute_result"
    }
   ],
   "source": [
    "# Second column:\n",
    "\n",
    "M[:,1]"
   ]
  },
  {
   "cell_type": "code",
   "execution_count": 95,
   "metadata": {},
   "outputs": [
    {
     "data": {
      "text/plain": [
       "array([2, 1])"
      ]
     },
     "execution_count": 95,
     "metadata": {},
     "output_type": "execute_result"
    }
   ],
   "source": [
    "# First row:\n",
    "\n",
    "M[0,:]"
   ]
  },
  {
   "cell_type": "markdown",
   "metadata": {},
   "source": [
    "## General Vectors"
   ]
  },
  {
   "cell_type": "markdown",
   "metadata": {},
   "source": [
    "Note that vectors do not have to contain only fixed numerical values. \n",
    "\n",
    "A vector can consist of variables $\\mathbf{x}=[x_1,x_2]^T$. This is very useful to compactly represent linear equations:\n",
    "$$\\left[1,4,-2\\right]^T \\left[x,y,z\\right] = 3$$\n",
    "is equivalent to \n",
    "$$x +4y -2z =3$$\n",
    "\n",
    "Later, we will see that this notation is even **more** useful when we are representing **systems of linear equations**."
   ]
  },
  {
   "cell_type": "markdown",
   "metadata": {},
   "source": [
    "A vector can also have components that are random variables, such as $\\mathbf{X}=[X_1, X_2]^T$. In this case, the vector is called a **vector random variable** or **n-dimensional random variable**."
   ]
  },
  {
   "cell_type": "markdown",
   "metadata": {},
   "source": [
    "In this lecture we introduce summary statistics for vectors of data and moments for vector random variables."
   ]
  },
  {
   "cell_type": "markdown",
   "metadata": {},
   "source": [
    "## Averages and Means, Medians\n",
    "\n",
    "The average of set of $n$-vectors is vector of the averages of the components:\n",
    "\n",
    "$\\overline{\\mathbf{x}} = \\left[ \\overline{x_1}, \\overline{x_2}, \\ldots, \\overline{x_n} \\right]^T$\n",
    "\n",
    "Let's look at the vector average for the Firearms dataset on Number of State Gun Laws vs Firearms Mortality:"
   ]
  },
  {
   "cell_type": "code",
   "execution_count": 96,
   "metadata": {},
   "outputs": [],
   "source": [
    "df=pd.read_csv('firearms-combined.csv')"
   ]
  },
  {
   "cell_type": "code",
   "execution_count": 97,
   "metadata": {},
   "outputs": [
    {
     "data": {
      "image/png": "[encoded data removed]",
      "text/plain": [
       "<Figure size 432x288 with 1 Axes>"
      ]
     },
     "metadata": {
      "needs_background": "light"
     },
     "output_type": "display_data"
    }
   ],
   "source": [
    "plt.scatter(df['Total Laws 2014'], df['RATE-2014'])\n",
    "plt.xlabel('Total Gun Laws in a State in 2014')\n",
    "plt.ylabel('Firearms Mortality Rate in 2014');"
   ]
  },
  {
   "cell_type": "code",
   "execution_count": 99,
   "metadata": {},
   "outputs": [
    {
     "data": {
      "text/plain": [
       "(50, 2)"
      ]
     },
     "execution_count": 99,
     "metadata": {},
     "output_type": "execute_result"
    }
   ],
   "source": [
    "x = df[['Total Laws 2014', 'RATE-2014']].to_numpy()\n",
    "\n",
    "x.shape"
   ]
  },
  {
   "cell_type": "code",
   "execution_count": 100,
   "metadata": {},
   "outputs": [
    {
     "data": {
      "image/png": "[encoded data removed]",
      "text/plain": [
       "<Figure size 432x288 with 1 Axes>"
      ]
     },
     "metadata": {
      "needs_background": "light"
     },
     "output_type": "display_data"
    }
   ],
   "source": [
    "plt.scatter(x[:,0],x[:,1])\n",
    "plt.xlabel('Total Gun Laws in a State in 2014')\n",
    "plt.ylabel('Firearms Mortality Rate in 2014');"
   ]
  },
  {
   "cell_type": "markdown",
   "metadata": {},
   "source": [
    "So, we see that $\\mathbf{x}$ has our data. But what is $\\mathbf{x}$ like?"
   ]
  },
  {
   "cell_type": "code",
   "execution_count": 101,
   "metadata": {},
   "outputs": [
    {
     "data": {
      "text/plain": [
       "array([[ 10. ,  16.9],\n",
       "       [  3. ,  19.2],\n",
       "       [  8. ,  13.5],\n",
       "       [ 11. ,  16.6],\n",
       "       [100. ,   7.4],\n",
       "       [ 30. ,  12.2],\n",
       "       [ 85. ,   5. ],\n",
       "       [ 38. ,  11.1],\n",
       "       [ 21. ,  11.5],\n",
       "       [  6. ,  13.7],\n",
       "       [ 78. ,   2.6],\n",
       "       [  5. ,  13.2],\n",
       "       [ 65. ,   9. ],\n",
       "       [ 11. ,  12.4],\n",
       "       [ 25. ,   7.5],\n",
       "       [  8. ,  11.3],\n",
       "       [  7. ,  13.9],\n",
       "       [ 12. ,  19. ],\n",
       "       [ 11. ,   9.4],\n",
       "       [ 63. ,   9. ],\n",
       "       [101. ,   3.2],\n",
       "       [ 20. ,  11.1],\n",
       "       [ 39. ,   6.6],\n",
       "       [  5. ,  18.3],\n",
       "       [  8. ,  15.3],\n",
       "       [  4. ,  16.1],\n",
       "       [ 22. ,   9.5],\n",
       "       [ 11. ,  14.8],\n",
       "       [ 10. ,   8.7],\n",
       "       [ 67. ,   5.3],\n",
       "       [ 10. ,  16. ],\n",
       "       [ 76. ,   4.2],\n",
       "       [ 30. ,  11.8],\n",
       "       [ 14. ,  12.3],\n",
       "       [ 15. ,  10.3],\n",
       "       [  9. ,  15.7],\n",
       "       [ 24. ,  11.7],\n",
       "       [ 37. ,  10.5],\n",
       "       [ 43. ,   3. ],\n",
       "       [ 12. ,  15.5],\n",
       "       [  5. ,  10.3],\n",
       "       [ 24. ,  15.1],\n",
       "       [ 20. ,  10.7],\n",
       "       [ 11. ,  12.3],\n",
       "       [  3. ,  10.3],\n",
       "       [ 12. ,  10.3],\n",
       "       [ 41. ,   9.7],\n",
       "       [ 24. ,  14.6],\n",
       "       [ 24. ,   8.2],\n",
       "       [  6. ,  16.2]])"
      ]
     },
     "execution_count": 101,
     "metadata": {},
     "output_type": "execute_result"
    }
   ],
   "source": [
    "x"
   ]
  },
  {
   "cell_type": "code",
   "execution_count": 102,
   "metadata": {},
   "outputs": [
    {
     "data": {
      "text/plain": [
       "((50, 2), (50, 2))"
      ]
     },
     "execution_count": 102,
     "metadata": {},
     "output_type": "execute_result"
    }
   ],
   "source": [
    "x.shape, np.shape(x)"
   ]
  },
  {
   "cell_type": "markdown",
   "metadata": {},
   "source": [
    "Each row of $\\mathbf{x}$ corresponds to data from one state. For instance, let's look at row 8, which corresponds to FL: "
   ]
  },
  {
   "cell_type": "code",
   "execution_count": 103,
   "metadata": {},
   "outputs": [
    {
     "data": {
      "text/plain": [
       "(array([8]),)"
      ]
     },
     "execution_count": 103,
     "metadata": {},
     "output_type": "execute_result"
    }
   ],
   "source": [
    "np.where(df['STATE']=='FL')"
   ]
  },
  {
   "cell_type": "code",
   "execution_count": 104,
   "metadata": {},
   "outputs": [
    {
     "data": {
      "text/plain": [
       "array([21. , 11.5])"
      ]
     },
     "execution_count": 104,
     "metadata": {},
     "output_type": "execute_result"
    }
   ],
   "source": [
    "x[8,:]"
   ]
  },
  {
   "cell_type": "markdown",
   "metadata": {},
   "source": [
    "Again, this means 21 total laws and 11.5 firearms mortality rate."
   ]
  },
  {
   "cell_type": "markdown",
   "metadata": {
    "slideshow": {
     "slide_type": "slide"
    }
   },
   "source": [
    "If we are asked to find the average of this data, we are finding the average of each component: in other words, we are finding the average of each column:"
   ]
  },
  {
   "cell_type": "code",
   "execution_count": 110,
   "metadata": {},
   "outputs": [
    {
     "data": {
      "text/plain": [
       "26.48"
      ]
     },
     "execution_count": 110,
     "metadata": {},
     "output_type": "execute_result"
    }
   ],
   "source": [
    "np.average(x[:,0])"
   ]
  },
  {
   "cell_type": "code",
   "execution_count": 111,
   "metadata": {},
   "outputs": [
    {
     "data": {
      "text/plain": [
       "11.44"
      ]
     },
     "execution_count": 111,
     "metadata": {},
     "output_type": "execute_result"
    }
   ],
   "source": [
    "np.average(x[:,1])"
   ]
  },
  {
   "cell_type": "code",
   "execution_count": 109,
   "metadata": {},
   "outputs": [
    {
     "data": {
      "image/png": "[encoded data removed]",
      "text/plain": [
       "<Figure size 432x288 with 1 Axes>"
      ]
     },
     "metadata": {
      "needs_background": "light"
     },
     "output_type": "display_data"
    }
   ],
   "source": [
    "plt.scatter(x[:,0],x[:,1])\n",
    "plt.scatter(np.average(x[:,0]),np.average(x[:,1]),\n",
    "            color='red',\n",
    "            marker='X',\n",
    "           s=100)\n",
    "plt.xlabel('Total Gun Laws in a State in 2014')\n",
    "plt.ylabel('Firearms Mortality Rate in 2014');"
   ]
  },
  {
   "cell_type": "code",
   "execution_count": null,
   "metadata": {},
   "outputs": [],
   "source": []
  },
  {
   "cell_type": "markdown",
   "metadata": {},
   "source": [
    "Note that just calling average on $\\mathbf{x}$ doesn't do what we want:"
   ]
  },
  {
   "cell_type": "code",
   "execution_count": 112,
   "metadata": {},
   "outputs": [
    {
     "data": {
      "text/plain": [
       "18.959999999999997"
      ]
     },
     "execution_count": 112,
     "metadata": {},
     "output_type": "execute_result"
    }
   ],
   "source": [
    "np.average(x)"
   ]
  },
  {
   "cell_type": "markdown",
   "metadata": {},
   "source": [
    "But we can be more concise and get our desired result if we tell ```NumPy``` to average over the data in rows (axis=0):"
   ]
  },
  {
   "cell_type": "code",
   "execution_count": 113,
   "metadata": {},
   "outputs": [
    {
     "data": {
      "text/plain": [
       "array([26.48, 11.44])"
      ]
     },
     "execution_count": 113,
     "metadata": {},
     "output_type": "execute_result"
    }
   ],
   "source": [
    "np.average(x,axis=0)"
   ]
  },
  {
   "cell_type": "code",
   "execution_count": 114,
   "metadata": {},
   "outputs": [
    {
     "data": {
      "text/plain": [
       "array([26.48, 11.44])"
      ]
     },
     "execution_count": 114,
     "metadata": {},
     "output_type": "execute_result"
    }
   ],
   "source": [
    "np.mean(x,axis=0)"
   ]
  },
  {
   "cell_type": "markdown",
   "metadata": {},
   "source": [
    "Similarly, the median of a set of vectors is the vector of the medians of the components:"
   ]
  },
  {
   "cell_type": "code",
   "execution_count": 115,
   "metadata": {},
   "outputs": [
    {
     "data": {
      "text/plain": [
       "array([14.5, 11.4])"
      ]
     },
     "execution_count": 115,
     "metadata": {},
     "output_type": "execute_result"
    }
   ],
   "source": [
    "np.median(x,axis=0)"
   ]
  },
  {
   "cell_type": "code",
   "execution_count": null,
   "metadata": {},
   "outputs": [],
   "source": []
  },
  {
   "cell_type": "code",
   "execution_count": 117,
   "metadata": {},
   "outputs": [
    {
     "data": {
      "image/png": "[encoded data removed]",
      "text/plain": [
       "<Figure size 432x288 with 1 Axes>"
      ]
     },
     "metadata": {
      "needs_background": "light"
     },
     "output_type": "display_data"
    }
   ],
   "source": [
    "plt.scatter(df['Total Laws 2014'],df['RATE-2014'])\n",
    "plt.xlabel('Total Gun Laws in a State in 2014')\n",
    "plt.ylabel('Firearms Mortality Rate in 2014');\n",
    "\n",
    "mean = np.mean(x,axis=0)\n",
    "median = np.median(x,axis=0)\n",
    "plt.scatter(mean[0],mean[1], color='red', marker='X', s=100, label='Average')\n",
    "plt.scatter(median[0],median[1], color='green', marker='X', s=100, label='Median')\n",
    "plt.legend(fontsize=15);"
   ]
  },
  {
   "cell_type": "markdown",
   "metadata": {},
   "source": [
    "## Means of Random Vectors"
   ]
  },
  {
   "cell_type": "markdown",
   "metadata": {},
   "source": [
    "<div class=\"alert alert-info\">\n",
    "  <strong>Means of Random Vectors</strong>\n",
    "    \n",
    "For a vector random variable $\\mathbf{X}=[X_1, X_2]^T$, the **mean vector** is the vector of component means:\n",
    "\n",
    "\\begin{align} \n",
    "E[\\mathbf{X}] & = E\\bigl[\\left[X_1, X_2\\right]^T \\bigr]\\\\ \n",
    "& = \\bigl[E\\left[X_1\\right], E\\left[X_2\\right] \\bigr]^T\n",
    "\\end{align}\n",
    "    \n",
    "</div>"
   ]
  },
  {
   "cell_type": "markdown",
   "metadata": {},
   "source": [
    "## Higher-order Moments: Variances, Covariances, and Correlations"
   ]
  },
  {
   "cell_type": "markdown",
   "metadata": {},
   "source": [
    "Recall that the variance of a random variable is the 2nd central moment:\n",
    "$$\n",
    "\\operatorname{Var}(Y) = E \\left[ \\left(Y - \\mu_Y\\right)^2 \\right]\n",
    "$$\n",
    "\n",
    "It is a measure of the \"spread\" of probability density away from the mean."
   ]
  },
  {
   "cell_type": "markdown",
   "metadata": {},
   "source": [
    "We can use ```NumPy``` to compute the variance of a data set.\n",
    "\n",
    "* Remember that we should always use the **unbiased estimator** for the variance: $s^2_{n-1}=\\frac{1}{n-1} \\sum_{i=1}^{n} \\left(y_i - \\overline{y}\\right)^2$"
   ]
  },
  {
   "cell_type": "code",
   "execution_count": 120,
   "metadata": {},
   "outputs": [
    {
     "data": {
      "text/plain": [
       "17.220408163265308"
      ]
     },
     "execution_count": 120,
     "metadata": {},
     "output_type": "execute_result"
    }
   ],
   "source": [
    "np.var(x[:,1],ddof=1) # ddof = delta degrees of freedom"
   ]
  },
  {
   "cell_type": "code",
   "execution_count": 121,
   "metadata": {},
   "outputs": [
    {
     "data": {
      "text/plain": [
       "683.4383673469387"
      ]
     },
     "execution_count": 121,
     "metadata": {},
     "output_type": "execute_result"
    }
   ],
   "source": [
    "np.var(x[:,0],ddof=1)"
   ]
  },
  {
   "cell_type": "markdown",
   "metadata": {},
   "source": [
    "Once again, we need to specify which entries we want to compute the variance for:"
   ]
  },
  {
   "cell_type": "code",
   "execution_count": 122,
   "metadata": {},
   "outputs": [
    {
     "data": {
      "text/plain": [
       "array([683.43836735,  17.22040816])"
      ]
     },
     "execution_count": 122,
     "metadata": {},
     "output_type": "execute_result"
    }
   ],
   "source": [
    "np.var(x, ddof=1, axis=0)"
   ]
  },
  {
   "cell_type": "code",
   "execution_count": 123,
   "metadata": {},
   "outputs": [
    {
     "data": {
      "text/plain": [
       "array([2.380500e+01, 1.312200e+02, 1.512500e+01, 1.568000e+01,\n",
       "       4.287380e+03, 1.584200e+02, 3.200000e+03, 3.618050e+02,\n",
       "       4.512500e+01, 2.964500e+01, 2.842580e+03, 3.362000e+01,\n",
       "       1.568000e+03, 9.800000e-01, 1.531250e+02, 5.445000e+00,\n",
       "       2.380500e+01, 2.450000e+01, 1.280000e+00, 1.458000e+03,\n",
       "       4.782420e+03, 3.960500e+01, 5.248800e+02, 8.844500e+01,\n",
       "       2.664500e+01, 7.320500e+01, 7.812500e+01, 7.220000e+00,\n",
       "       8.450000e-01, 1.903445e+03, 1.800000e+01, 2.577620e+03,\n",
       "       1.656200e+02, 1.445000e+00, 1.104500e+01, 2.244500e+01,\n",
       "       7.564500e+01, 3.511250e+02, 8.000000e+02, 6.125000e+00,\n",
       "       1.404500e+01, 3.960500e+01, 4.324500e+01, 8.450000e-01,\n",
       "       2.664500e+01, 1.445000e+00, 4.898450e+02, 4.418000e+01,\n",
       "       1.248200e+02, 5.202000e+01])"
      ]
     },
     "execution_count": 123,
     "metadata": {},
     "output_type": "execute_result"
    }
   ],
   "source": [
    "np.var(x, ddof=1, axis=1) # what not to do"
   ]
  },
  {
   "cell_type": "markdown",
   "metadata": {},
   "source": [
    "<div class=\"alert alert-info\">\n",
    "  <strong>Variance of Random Vectors</strong>\n",
    "    \n",
    "The variance of a vector random variable is defined as the vector of variances of the components:\n",
    "\n",
    "$$ \\operatorname{Var}\\left(\\mathbf{X} \\right) = \\bigl[ \\operatorname{Var}\\left[X_1\\right], \\operatorname{Var}\\left[X_2\\right], \\ldots, \\operatorname{Var}\\left[X_n\\right] \\bigr]^T $$\n",
    "    \n",
    "</div>"
   ]
  },
  {
   "cell_type": "markdown",
   "metadata": {},
   "source": [
    "More commonly, we measure not only the spread of each individual random variable in a vector but also the way that the probability of the different random variables are spread with respect to each other:"
   ]
  },
  {
   "cell_type": "markdown",
   "metadata": {},
   "source": [
    "<div class=\"alert alert-info\">\n",
    "  <strong>Covariance</strong>\n",
    "\n",
    "The **covariance** of two random variables $X$ and $Y$, denoted by $\\text{cov}(X,Y)$, is defined by\n",
    "\n",
    "$$\\text{cov}(X,Y) = E\\bigl[\\left(X-E\\left[X\\right]\\right) \\left(Y-E\\left[Y\\right]\\right)\\bigr]$$\n",
    "    \n",
    "</div>\n",
    "\n",
    "Note that \n",
    "$$ \\operatorname{Var}(X)= \\operatorname{Cov}(X,X) $$"
   ]
  },
  {
   "cell_type": "markdown",
   "metadata": {},
   "source": [
    "* Roughly speaking, a positive or negative covariance indicates that the values of $X-E[X]$ and $Y-E[Y]$ obtained in a single experiment \"tend\" to have the same or opposite sign, respectively.\n",
    "\n",
    "* Thus, the sign of the covariance provides an important *qualitative* indicator of the relationship between $X$ and $Y$."
   ]
  },
  {
   "cell_type": "markdown",
   "metadata": {},
   "source": [
    "Computing covariance for random variables requires understanding *joint probability distributions* -- this topic is outside the scope of this class.\n",
    "\n",
    "However, we will compute the covariance when we are working with vectors of data\n",
    "\n",
    "If $\\{x_i\\}$ and $\\{y_i\\}$ are sample data from some random variables $X$ and $Y$, then the unbiased (sample) covariance is \n",
    "$$\n",
    "\\frac{1}{n-1} \\sum_{i=1}^{n} \\left(x_i - \\overline{x}\\right)\n",
    "\\left(y_i - \\overline{y}\\right) \n",
    "$$\n",
    "\n",
    "Fortunately (but somewhat inconsistently), ```NumPy``` uses the unbiased estimator for covariance by default."
   ]
  },
  {
   "cell_type": "markdown",
   "metadata": {},
   "source": [
    "* Let's check the variances of our gun-law data:"
   ]
  },
  {
   "cell_type": "code",
   "execution_count": 125,
   "metadata": {},
   "outputs": [
    {
     "data": {
      "text/plain": [
       "(array(683.43836735), array(17.22040816))"
      ]
     },
     "execution_count": 125,
     "metadata": {},
     "output_type": "execute_result"
    }
   ],
   "source": [
    "np.cov(x[:,0],ddof=1), np.cov(x[:,1],ddof=1)"
   ]
  },
  {
   "cell_type": "code",
   "execution_count": 126,
   "metadata": {},
   "outputs": [
    {
     "data": {
      "text/plain": [
       "(array(683.43836735), array(17.22040816))"
      ]
     },
     "execution_count": 126,
     "metadata": {},
     "output_type": "execute_result"
    }
   ],
   "source": [
    "np.cov(x[:,0]), np.cov(x[:,1])"
   ]
  },
  {
   "cell_type": "markdown",
   "metadata": {},
   "source": [
    "* We can get all the variances and covariances of our data as:"
   ]
  },
  {
   "cell_type": "code",
   "execution_count": 133,
   "metadata": {},
   "outputs": [
    {
     "data": {
      "text/plain": [
       "(50, 2)"
      ]
     },
     "execution_count": 133,
     "metadata": {},
     "output_type": "execute_result"
    }
   ],
   "source": [
    "x.shape"
   ]
  },
  {
   "cell_type": "code",
   "execution_count": 130,
   "metadata": {},
   "outputs": [
    {
     "data": {
      "text/plain": [
       "array([[683.43836735, -80.59102041],\n",
       "       [-80.59102041,  17.22040816]])"
      ]
     },
     "execution_count": 130,
     "metadata": {},
     "output_type": "execute_result"
    }
   ],
   "source": [
    "np.cov(x.T)"
   ]
  },
  {
   "cell_type": "markdown",
   "metadata": {},
   "source": [
    "Note that if our vectors are not already stacked into an array, we can still compute the covariances:"
   ]
  },
  {
   "cell_type": "code",
   "execution_count": 135,
   "metadata": {},
   "outputs": [
    {
     "data": {
      "text/plain": [
       "array([[683.43836735, -80.59102041],\n",
       "       [-80.59102041,  17.22040816]])"
      ]
     },
     "execution_count": 135,
     "metadata": {},
     "output_type": "execute_result"
    }
   ],
   "source": [
    "np.cov(x[:,0],x[:,1])"
   ]
  },
  {
   "cell_type": "code",
   "execution_count": 134,
   "metadata": {},
   "outputs": [
    {
     "data": {
      "text/plain": [
       "array([[683.43836735, -80.59102041],\n",
       "       [-80.59102041,  17.22040816]])"
      ]
     },
     "execution_count": 134,
     "metadata": {},
     "output_type": "execute_result"
    }
   ],
   "source": [
    "np.cov(df['Total Laws 2014'], df['RATE-2014'])"
   ]
  },
  {
   "cell_type": "markdown",
   "metadata": {},
   "source": [
    "This is called a **Covariance Matrix**. It is a table of the variances and covariances of the data in the following form \n",
    "\\begin{align}\n",
    "\\mathbf{K_X} &= \n",
    "\\begin{bmatrix}\n",
    "\\operatorname{Cov}(\\mathbf{X}_1, \\mathbf{X}_1) & \\operatorname{Cov}(\\mathbf{X}_1, \\mathbf{X}_2)  \\\\\n",
    "\\operatorname{Cov}(\\mathbf{X}_2, \\mathbf{X}_1) & \\operatorname{Cov}(\\mathbf{X}_2, \\mathbf{X}_2)  \\\\\n",
    "\\end{bmatrix} \\\\\n",
    "&\\\\\n",
    "&=\n",
    "\\begin{bmatrix}\n",
    "\\operatorname{Var}(\\mathbf{X}_1) & \\operatorname{Cov}(\\mathbf{X}_1, \\mathbf{X}_2)  \\\\\n",
    "\\operatorname{Cov}(\\mathbf{X}_1, \\mathbf{X}_2) & \\operatorname{Var}(\\mathbf{X}_2)  \\\\\n",
    "\\end{bmatrix} \n",
    "\\end{align}"
   ]
  },
  {
   "cell_type": "markdown",
   "metadata": {},
   "source": [
    "Note that the covariance is negative for these two data samples. This generally implies that when one goes up, the other goes down. Let's look at the data again to see whether this holds:"
   ]
  },
  {
   "cell_type": "code",
   "execution_count": 136,
   "metadata": {},
   "outputs": [
    {
     "data": {
      "image/png": "[encoded data removed]",
      "text/plain": [
       "<Figure size 432x288 with 1 Axes>"
      ]
     },
     "metadata": {
      "needs_background": "light"
     },
     "output_type": "display_data"
    }
   ],
   "source": [
    "plt.scatter(df['Total Laws 2014'],df['RATE-2014'])\n",
    "plt.xlabel('Total Gun Laws in a State in 2014')\n",
    "plt.ylabel('Firearms Mortality Rate in 2014');"
   ]
  },
  {
   "cell_type": "markdown",
   "metadata": {},
   "source": [
    "### **<font color=\"blue\">Another Example</font>**\n",
    "\n",
    "\"The **Behavioral Risk Factor Surveillance System (BRFSS)** is the nation's premier system of health-related telephone surveys that collect state data about U.S. residents regarding their health-related risk behaviors, chronic health conditions, and use of preventive services.\": https://www.cdc.gov/brfss/index.html"
   ]
  },
  {
   "cell_type": "markdown",
   "metadata": {},
   "source": [
    "The BRFSS contains 450015 records, with over 350 variables. It takes a LONG time to load and work with, so we have pulled out 2 variables and sampled 5000 records for us to work with\n",
    "\n",
    "The data we will use is\n",
    "\n",
    "* **HEIGHT**: a new computed variable as the height in inches\n",
    "\n",
    "* **WEIGHT2**: The reported weight in pounds\n",
    "\n",
    "We dropped those entries that did not have valid values or were reported in metric units (a small percentage of the total)\n",
    "\n",
    "The resulting dataframe is stored in the pickle file ```brfss17.pickle```."
   ]
  },
  {
   "cell_type": "code",
   "execution_count": 137,
   "metadata": {},
   "outputs": [],
   "source": [
    "import pickle\n",
    "\n",
    "file=open('brfss17.pickle','rb')\n",
    "df2=pickle.load(file)\n",
    "file.close()"
   ]
  },
  {
   "cell_type": "code",
   "execution_count": 138,
   "metadata": {},
   "outputs": [
    {
     "data": {
      "text/html": [
       "<div>\n",
       "<style scoped>\n",
       "    .dataframe tbody tr th:only-of-type {\n",
       "        vertical-align: middle;\n",
       "    }\n",
       "\n",
       "    .dataframe tbody tr th {\n",
       "        vertical-align: top;\n",
       "    }\n",
       "\n",
       "    .dataframe thead th {\n",
       "        text-align: right;\n",
       "    }\n",
       "</style>\n",
       "<table border=\"1\" class=\"dataframe\">\n",
       "  <thead>\n",
       "    <tr style=\"text-align: right;\">\n",
       "      <th></th>\n",
       "      <th>HEIGHT</th>\n",
       "      <th>WEIGHT2</th>\n",
       "    </tr>\n",
       "  </thead>\n",
       "  <tbody>\n",
       "    <tr>\n",
       "      <th>435546</th>\n",
       "      <td>64.0</td>\n",
       "      <td>180.0</td>\n",
       "    </tr>\n",
       "    <tr>\n",
       "      <th>191440</th>\n",
       "      <td>64.0</td>\n",
       "      <td>160.0</td>\n",
       "    </tr>\n",
       "    <tr>\n",
       "      <th>236807</th>\n",
       "      <td>64.0</td>\n",
       "      <td>210.0</td>\n",
       "    </tr>\n",
       "    <tr>\n",
       "      <th>2422</th>\n",
       "      <td>64.0</td>\n",
       "      <td>155.0</td>\n",
       "    </tr>\n",
       "    <tr>\n",
       "      <th>166257</th>\n",
       "      <td>73.0</td>\n",
       "      <td>220.0</td>\n",
       "    </tr>\n",
       "    <tr>\n",
       "      <th>...</th>\n",
       "      <td>...</td>\n",
       "      <td>...</td>\n",
       "    </tr>\n",
       "    <tr>\n",
       "      <th>378399</th>\n",
       "      <td>63.0</td>\n",
       "      <td>194.0</td>\n",
       "    </tr>\n",
       "    <tr>\n",
       "      <th>327432</th>\n",
       "      <td>63.0</td>\n",
       "      <td>150.0</td>\n",
       "    </tr>\n",
       "    <tr>\n",
       "      <th>297029</th>\n",
       "      <td>61.0</td>\n",
       "      <td>108.0</td>\n",
       "    </tr>\n",
       "    <tr>\n",
       "      <th>384245</th>\n",
       "      <td>61.0</td>\n",
       "      <td>200.0</td>\n",
       "    </tr>\n",
       "    <tr>\n",
       "      <th>284159</th>\n",
       "      <td>73.0</td>\n",
       "      <td>275.0</td>\n",
       "    </tr>\n",
       "  </tbody>\n",
       "</table>\n",
       "<p>5000 rows × 2 columns</p>\n",
       "</div>"
      ],
      "text/plain": [
       "        HEIGHT  WEIGHT2\n",
       "435546    64.0    180.0\n",
       "191440    64.0    160.0\n",
       "236807    64.0    210.0\n",
       "2422      64.0    155.0\n",
       "166257    73.0    220.0\n",
       "...        ...      ...\n",
       "378399    63.0    194.0\n",
       "327432    63.0    150.0\n",
       "297029    61.0    108.0\n",
       "384245    61.0    200.0\n",
       "284159    73.0    275.0\n",
       "\n",
       "[5000 rows x 2 columns]"
      ]
     },
     "execution_count": 138,
     "metadata": {},
     "output_type": "execute_result"
    }
   ],
   "source": [
    "df2"
   ]
  },
  {
   "cell_type": "code",
   "execution_count": 139,
   "metadata": {},
   "outputs": [
    {
     "data": {
      "image/png": "[encoded data removed]",
      "text/plain": [
       "<Figure size 432x288 with 1 Axes>"
      ]
     },
     "metadata": {
      "needs_background": "light"
     },
     "output_type": "display_data"
    }
   ],
   "source": [
    "plt.scatter(df2['HEIGHT'],df2['WEIGHT2'])\n",
    "plt.xlabel('Height in inches')\n",
    "plt.ylabel('Weight in pounds');"
   ]
  },
  {
   "cell_type": "markdown",
   "metadata": {},
   "source": [
    "What should the sign of the covariance be?\n"
   ]
  },
  {
   "cell_type": "markdown",
   "metadata": {},
   "source": [
    "Positive!"
   ]
  },
  {
   "cell_type": "code",
   "execution_count": 140,
   "metadata": {},
   "outputs": [
    {
     "data": {
      "text/plain": [
       "array([[  17.7146933 ,   89.38995679],\n",
       "       [  89.38995679, 2131.30006401]])"
      ]
     },
     "execution_count": 140,
     "metadata": {},
     "output_type": "execute_result"
    }
   ],
   "source": [
    "np.cov(df2['HEIGHT'],df2['WEIGHT2'])"
   ]
  },
  {
   "cell_type": "markdown",
   "metadata": {},
   "source": [
    "Finally, let's look at what happens for some independent data:"
   ]
  },
  {
   "cell_type": "code",
   "execution_count": 147,
   "metadata": {},
   "outputs": [
    {
     "data": {
      "image/png": "[encoded data removed]",
      "text/plain": [
       "<Figure size 432x288 with 1 Axes>"
      ]
     },
     "metadata": {
      "needs_background": "light"
     },
     "output_type": "display_data"
    }
   ],
   "source": [
    "Y=stats.norm() # G(0,1)\n",
    "Z=stats.norm() #G(0,1)\n",
    "y=Y.rvs(size=10_000)\n",
    "z=Z.rvs(size=10_000)\n",
    "plt.scatter(y,z);"
   ]
  },
  {
   "cell_type": "code",
   "execution_count": 148,
   "metadata": {},
   "outputs": [
    {
     "data": {
      "text/plain": [
       "array([[1.01447852, 0.0037399 ],\n",
       "       [0.0037399 , 1.02198324]])"
      ]
     },
     "execution_count": 148,
     "metadata": {},
     "output_type": "execute_result"
    }
   ],
   "source": [
    "np.cov(y,z)"
   ]
  },
  {
   "cell_type": "markdown",
   "metadata": {},
   "source": [
    "Note the very small sample covariance. When random variables are independent, their covariance is zero."
   ]
  },
  {
   "cell_type": "markdown",
   "metadata": {},
   "source": [
    "Let $\\{x_i\\}$ refer to the first feature (or dimension) and $\\{y_i\\}$ refer to the second feature (or dimension). Then:\n",
    "\n",
    "* If $y_i$ generally increases with $x_i$ (and vice versa), then $\\operatorname{Cov}(\\mathbf{x},\\mathbf{y}) >0$\n",
    "\n",
    "* If $y_i$ generally decreases with $x_i$ (and vice versa), then  $\\operatorname{Cov}(\\mathbf{x},\\mathbf{y}) <0$\n",
    "\n",
    "* If $x_i$ and $y_i$ are independent, then $\\operatorname{Cov}(\\mathbf{x},\\mathbf{y}) =0$\n",
    "\n",
    "So, covariance is useful in giving us some idea of how two features co-vary."
   ]
  },
  {
   "cell_type": "markdown",
   "metadata": {},
   "source": [
    "However, it does not tell us two important things:\n",
    "1. If we want to draw through the data showing the linear dependence, what is the slope of that line? I.e., what is the general (linear) relation between the features?\n",
    "2. If we drew such a line, it does not tell us whether the data is very close to that line (meaning that we can compute one feature almost exactly from an observation of the other feature) or if the data is scattered far from that line (meaning that if we know one feature, the other feature is still pretty random)\n",
    "\n",
    "We can overcome both of these problems. We start with an observation:"
   ]
  },
  {
   "cell_type": "markdown",
   "metadata": {
    "slideshow": {
     "slide_type": "subslide"
    }
   },
   "source": [
    "Suppose $X$ and $Y$ are random variables with $\\operatorname{Cov}(X,Y) \\neq 0$.\n",
    "\n",
    "* What is $\\operatorname{Cov}(aX,bY)$?"
   ]
  },
  {
   "cell_type": "markdown",
   "metadata": {
    "slideshow": {
     "slide_type": "subslide"
    }
   },
   "source": [
    "By linearity, $E[aX] = aE[X]$ and $E[bY]=bE[Y]$. \n",
    "\n",
    "Then \n",
    "\\begin{align*}\n",
    "\\operatorname{Cov}(aX,bY) &= E \\biggl[ \\bigl( aX - E\\left[aX\\right] \\bigr) \\bigl( bY - E\\left[bY\\right] \\bigr) \\biggr]\\\\\n",
    " &= E \\biggl[ a \\bigl( X - E\\left[X\\right] \\bigr) b \\bigl( Y - E\\left[Y\\right] \\bigr) \\biggr] \\\\\n",
    " &=ab E \\biggl[  \\bigl( X - E\\left[X\\right] \\bigr)  \\bigl( Y - E\\left[Y\\right] \\bigr) \\biggr]\\\\\n",
    " &=ab \\operatorname{Cov}(X,Y)\n",
    "\\end{align*}\n",
    "\n",
    "But if $a=b$, the relationship between the data (in terms of the slope) is really unchanged:"
   ]
  },
  {
   "cell_type": "code",
   "execution_count": 149,
   "metadata": {
    "slideshow": {
     "slide_type": "subslide"
    }
   },
   "outputs": [
    {
     "data": {
      "image/png": "[encoded data removed]",
      "text/plain": [
       "<Figure size 432x288 with 1 Axes>"
      ]
     },
     "metadata": {
      "needs_background": "light"
     },
     "output_type": "display_data"
    }
   ],
   "source": [
    "plt.scatter(df2['HEIGHT'], df2['WEIGHT2'])\n",
    "plt.xlabel('Height in inches')\n",
    "plt.ylabel('Weight in pounds');"
   ]
  },
  {
   "cell_type": "code",
   "execution_count": 150,
   "metadata": {
    "slideshow": {
     "slide_type": "subslide"
    }
   },
   "outputs": [
    {
     "data": {
      "image/png": "[encoded data removed]",
      "text/plain": [
       "<Figure size 432x288 with 1 Axes>"
      ]
     },
     "metadata": {
      "needs_background": "light"
     },
     "output_type": "display_data"
    }
   ],
   "source": [
    "plt.scatter(3*df2['HEIGHT'], 5*df2['WEIGHT2'])\n",
    "plt.xlabel('Height in inches')\n",
    "plt.ylabel('Weight in pounds');"
   ]
  },
  {
   "cell_type": "markdown",
   "metadata": {
    "slideshow": {
     "slide_type": "subslide"
    }
   },
   "source": [
    "Let's study what values $\\operatorname{cov}(\\mathbf{x},\\mathbf{y})$ can take on. \n",
    "\n",
    "Recall that the inner product of some vector $\\mathbf{a}$ with itself\n",
    "$$ \\mathbf{a}^T \\mathbf{a} = a_{1}^{2} + a_{2}^{2} + \\cdots +  a_{n}^{2} $$\n",
    "\n",
    "computes the sum of the squares of the elements. This is the square of the **length** of the vector.\n",
    "\n",
    "We can also denote the length of a vector $\\mathbf{a}$ as $\\|\\mathbf{a}\\|$, which is also read **norm of a**, and\n",
    "$$ \\text{length of }\\mathbf{a} = \\| \\mathbf{a} \\|  = \\sqrt{\\mathbf{a}^T\\mathbf{a}} $$"
   ]
  },
  {
   "cell_type": "markdown",
   "metadata": {
    "slideshow": {
     "slide_type": "subslide"
    }
   },
   "source": [
    "## Cauchy-Schwarz Inequality\n",
    "\n",
    "<div class=\"alert alert-info\">\n",
    "  <strong>Cauchy-Schwarz Inequality</strong>\n",
    "\n",
    "The **Cauchy-Schwarz Inequality** provides a bound on the maximum absolute value of an inner product in terms of the norms of the vectors:\n",
    "    \n",
    "$$\\left| \\langle \\mathbf{a}, \\mathbf{b} \\rangle \\right| \\le \\left\\|\\mathbf{a} \\right\\| \\left\\| \\mathbf{b}\\right\\|$$\n",
    "    \n",
    "with equality if and only if $\\mathbf{a}= c\\mathbf{b}$ for some constant $c$. \n",
    "    \n",
    "Note that $ \\langle \\mathbf{a}, \\mathbf{b} \\rangle = \\mathbf{a}^T\\mathbf{b}$ is the inner product of $\\mathbf{a}$ with $\\mathbf{b}$.\n",
    "\n",
    "*(See Boyd book, section 3.4, for proof)*\n",
    "</div>\n",
    "    \n",
    "Here, I purposefully used the general inner product notation $\\langle \\rangle$ because the Cauchy-Schwarz Inequality applies to all inner products, not just those involving vectors (e.g. inner product of matrices)."
   ]
  },
  {
   "cell_type": "markdown",
   "metadata": {
    "slideshow": {
     "slide_type": "subslide"
    }
   },
   "source": [
    "Noting our computation of covariance using inner product above, we can get\n",
    "\n",
    "\\begin{align*}\n",
    "\\left|\\operatorname{cov}(\\mathbf{x}, \\mathbf{y})  \\right|\n",
    "&= \\big\\langle \\left(\\mathbf{x} - \\boldsymbol \\mu_x \\right), \n",
    "    \\left(\\mathbf{y} - \\boldsymbol \\mu_y \\right) \\big\\rangle \\\\\n",
    "&\\le \\left\\| \\mathbf{x} - \\boldsymbol \\mu_x  \\right\\|\n",
    "    \\left\\| \\mathbf{y} - \\boldsymbol \\mu_y  \\right\\| \\\\\n",
    "&= \\sqrt{\\big\\langle \\left(\\mathbf{x} - \\boldsymbol \\mu_x \\right),\n",
    "    \\left(\\mathbf{x} - \\boldsymbol \\mu_x \\right) \\big\\rangle}\n",
    "    \\sqrt{\\big\\langle \\left(\\mathbf{y} - \\boldsymbol \\mu_y \\right),\n",
    "    \\left(\\mathbf{y} - \\boldsymbol \\mu_y \\right) \\big\\rangle} \\\\\n",
    "&= \\sqrt{\\operatorname{cov}(\\mathbf{x}, \\mathbf{x}) } \\sqrt{\\operatorname{cov}(\\mathbf{y}, \\mathbf{y}) }\\\\\n",
    "&= \\sigma_x \\sigma_y\n",
    "\\end{align*}\n",
    "\n",
    "So \n",
    "$$\\left|\\operatorname{cov}(\\mathbf{x}, \\mathbf{y})  \\right| \\leq \\sigma_x \\sigma_y$$"
   ]
  },
  {
   "cell_type": "markdown",
   "metadata": {},
   "source": [
    "### Observations:\n",
    "\n",
    "1. The covariance is bounded by (and depends on) the standard deviations of the data\n",
    "\n",
    "2. Equality is obtained in the bound above if and only if $\\mathbf{x} = c \\mathbf{y}$ for some $c$. The maximum possible covariance is if the features are linearly dependent; knowing one feature completely determines the other feature"
   ]
  },
  {
   "cell_type": "markdown",
   "metadata": {
    "slideshow": {
     "slide_type": "subslide"
    }
   },
   "source": [
    "We can use the bound to get a dependence measure that does not depend on the standard deviations of the data:\n",
    "\n",
    "\\begin{align*}\n",
    "\\left|\\operatorname{cov}(\\mathbf{x}, \\mathbf{y})\\right| &\\leq\\sigma_x \\sigma_y\\\\\n",
    "&\\\\\n",
    "\\Rightarrow \\frac{\\left|\\operatorname{cov}(\\mathbf{x}, \\mathbf{y})\\right|}{\\sigma_x \\sigma_y} &\\le 1\n",
    "\\end{align*}\n",
    "\n",
    "with equality iff $\\mathbf{x}=c\\mathbf{y}$."
   ]
  },
  {
   "cell_type": "markdown",
   "metadata": {
    "slideshow": {
     "slide_type": "slide"
    }
   },
   "source": [
    "# (Pearson's) Correlation Coefficient, $r$\n",
    "\n",
    "<div class=\"alert alert-info\">\n",
    "  <strong>Pearson's Correlation Coefficient</strong>\n",
    "\n",
    "For random variables $X$ and $Y$, the **Pearson's correlation coefficient** (or simply the **correlation coefficient**) is\n",
    "\n",
    "\\begin{align*}\n",
    "\\rho_{XY} = \\frac{\\operatorname{cov}(X,Y)}{\\sqrt{\\text{var}(X)}\\sqrt{\\text{var}(Y)}} = \\frac{\\text{cov}(X,Y)}{\\sigma_X \\sigma_Y}\n",
    "\\end{align*}\n",
    "\n",
    "For vectors of feature data $\\mathbf{x}$ and $\\mathbf{y}$ (samples), the **(Pearson's) correlation coefficient** is \n",
    "\n",
    "\\begin{align*}\n",
    "r_{xy} = \\frac{\\hat{\\operatorname{cov}}(\\mathbf{x},\\mathbf{y})}{\\hat{\\sigma}_x \\hat{\\sigma}_y}\n",
    "\\end{align*}\n",
    "\n",
    "where $\\hat{\\operatorname{cov}}(\\mathbf{x},\\mathbf{y})$ is the sample covariance and $\\hat{\\sigma}_x$ and $\\hat{\\sigma}_y$ are the square-roots of the corresponding sample variances.    \n",
    "</div>"
   ]
  },
  {
   "cell_type": "code",
   "execution_count": 151,
   "metadata": {},
   "outputs": [
    {
     "data": {
      "image/png": "[encoded data removed]",
      "text/plain": [
       "<Figure size 432x288 with 1 Axes>"
      ]
     },
     "metadata": {
      "needs_background": "light"
     },
     "output_type": "display_data"
    }
   ],
   "source": [
    "plt.scatter(df['Total Laws 2014'],df['RATE-2014'])\n",
    "plt.xlabel('Total Gun Laws in a State in 2014')\n",
    "plt.ylabel('Firearms Mortality Rate in 2014');"
   ]
  },
  {
   "cell_type": "code",
   "execution_count": 152,
   "metadata": {},
   "outputs": [
    {
     "data": {
      "text/plain": [
       "(50, 2)"
      ]
     },
     "execution_count": 152,
     "metadata": {},
     "output_type": "execute_result"
    }
   ],
   "source": [
    "x = df[['Total Laws 2014','RATE-2014']].to_numpy()\n",
    "\n",
    "x.shape # NxD"
   ]
  },
  {
   "cell_type": "code",
   "execution_count": 153,
   "metadata": {},
   "outputs": [
    {
     "data": {
      "text/plain": [
       "((2,), (2,))"
      ]
     },
     "execution_count": 153,
     "metadata": {},
     "output_type": "execute_result"
    }
   ],
   "source": [
    "x_mean = np.mean(x,axis=0) #mean is a 2x1 vector\n",
    "\n",
    "x_median = np.median(x,axis=0) # median is also 2x1 vector\n",
    "\n",
    "x_mean.shape, x_median.shape"
   ]
  },
  {
   "cell_type": "code",
   "execution_count": 154,
   "metadata": {},
   "outputs": [
    {
     "data": {
      "image/png": "[encoded data removed]",
      "text/plain": [
       "<Figure size 432x288 with 1 Axes>"
      ]
     },
     "metadata": {
      "needs_background": "light"
     },
     "output_type": "display_data"
    }
   ],
   "source": [
    "plt.scatter(df['Total Laws 2014'],df['RATE-2014'])\n",
    "plt.xlabel('Total Gun Laws in a State in 2014')\n",
    "plt.ylabel('Firearms Mortality Rate in 2014')\n",
    "plt.scatter(x_mean[0], x_mean[1], color='red', marker='X', s=100, label='Average')\n",
    "plt.scatter(x_median[0], x_median[1], color='green', marker='X', s=100, label='Median')\n",
    "plt.legend(fontsize=15);"
   ]
  },
  {
   "cell_type": "code",
   "execution_count": 155,
   "metadata": {},
   "outputs": [
    {
     "data": {
      "text/plain": [
       "array([[683.43836735, -80.59102041],\n",
       "       [-80.59102041,  17.22040816]])"
      ]
     },
     "execution_count": 155,
     "metadata": {},
     "output_type": "execute_result"
    }
   ],
   "source": [
    "np.cov(x.T) \n",
    "# np.cov expects the matrix to be of size DxN, D is dimensionality or no. of RVs\n"
   ]
  },
  {
   "cell_type": "code",
   "execution_count": 158,
   "metadata": {
    "slideshow": {
     "slide_type": "subslide"
    }
   },
   "outputs": [
    {
     "data": {
      "text/plain": [
       "array([[ 6.29981734, -0.74287417],\n",
       "       [-0.74287417,  0.15873476]])"
      ]
     },
     "execution_count": 158,
     "metadata": {},
     "output_type": "execute_result"
    }
   ],
   "source": [
    "np.cov(x.T)/(np.std(x[:,0],ddof=1)*(np.std(x[:,1],ddof=1)))"
   ]
  },
  {
   "cell_type": "code",
   "execution_count": 159,
   "metadata": {},
   "outputs": [
    {
     "data": {
      "text/plain": [
       "array([[ 6.29981734, -0.74287417],\n",
       "       [-0.74287417,  0.15873476]])"
      ]
     },
     "execution_count": 159,
     "metadata": {},
     "output_type": "execute_result"
    }
   ],
   "source": [
    "np.cov(3*x.T)/(np.std(3*x[:,0],ddof=1)*(np.std(3*x[:,1],ddof=1)))"
   ]
  },
  {
   "cell_type": "markdown",
   "metadata": {},
   "source": [
    "___"
   ]
  },
  {
   "cell_type": "markdown",
   "metadata": {
    "slideshow": {
     "slide_type": "subslide"
    }
   },
   "source": [
    "## Correlation Examples\n",
    "\n",
    "![Correlation Examples](https://upload.wikimedia.org/wikipedia/commons/thumb/d/d4/Correlation_examples2.svg/1920px-Correlation_examples2.svg.png)"
   ]
  },
  {
   "cell_type": "markdown",
   "metadata": {
    "slideshow": {
     "slide_type": "fragment"
    }
   },
   "source": [
    "Looking at these examples, correlation gives a measure of:\n",
    "* how closely the data fits a straight line\n",
    "* how much an observation of one data feature can be used to predict the other data feature\n",
    "* the correlation coefficient is only able to characterize **linear relationships** only"
   ]
  },
  {
   "cell_type": "markdown",
   "metadata": {},
   "source": [
    "___"
   ]
  }
 ],
 "metadata": {
  "kernelspec": {
   "display_name": "Python 3",
   "language": "python",
   "name": "python3"
  },
  "language_info": {
   "codemirror_mode": {
    "name": "ipython",
    "version": 3
   },
   "file_extension": ".py",
   "mimetype": "text/x-python",
   "name": "python",
   "nbconvert_exporter": "python",
   "pygments_lexer": "ipython3",
   "version": "3.8.8"
  },
  "latex_envs": {
   "LaTeX_envs_menu_present": true,
   "autoclose": true,
   "autocomplete": true,
   "bibliofile": "biblio.bib",
   "cite_by": "apalike",
   "current_citInitial": 1,
   "eqLabelWithNumbers": true,
   "eqNumInitial": 1,
   "hotkeys": {
    "equation": "Ctrl-E",
    "itemize": "Ctrl-I"
   },
   "labels_anchors": false,
   "latex_user_defs": false,
   "report_style_numbering": false,
   "user_envs_cfg": false
  },
  "varInspector": {
   "cols": {
    "lenName": 16,
    "lenType": 16,
    "lenVar": 40
   },
   "kernels_config": {
    "python": {
     "delete_cmd_postfix": "",
     "delete_cmd_prefix": "del ",
     "library": "var_list.py",
     "varRefreshCmd": "print(var_dic_list())"
    },
    "r": {
     "delete_cmd_postfix": ") ",
     "delete_cmd_prefix": "rm(",
     "library": "var_list.r",
     "varRefreshCmd": "cat(var_dic_list()) "
    }
   },
   "position": {
    "height": "511px",
    "left": "1555px",
    "right": "20px",
    "top": "117px",
    "width": "334px"
   },
   "types_to_exclude": [
    "module",
    "function",
    "builtin_function_or_method",
    "instance",
    "_Feature"
   ],
   "window_display": false
  }
 },
 "nbformat": 4,
 "nbformat_minor": 2
}
