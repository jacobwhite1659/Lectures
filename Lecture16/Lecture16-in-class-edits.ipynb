{
 "cells": [
  {
   "cell_type": "markdown",
   "metadata": {},
   "source": [
    "# Lecture 16\n",
    "\n",
    "- Trade-offs in hypothesis testing\n",
    "- Goodness-of-fit measures"
   ]
  },
  {
   "cell_type": "markdown",
   "metadata": {},
   "source": [
    "## Exam 1 Graded\n",
    "\n",
    "Mean: 68%\n",
    "\n",
    "The final grade will also be curved."
   ]
  },
  {
   "cell_type": "markdown",
   "metadata": {},
   "source": [
    "## Feedback form\n",
    "\n",
    "- Will figure out a better way to do iPad and Zoom so both are visible.\n",
    "- Will provide a second practice exam.\n",
    "- Will try to have more recitations.\n",
    "- Will take more breaks."
   ]
  },
  {
   "cell_type": "markdown",
   "metadata": {},
   "source": [
    "## Last class"
   ]
  },
  {
   "cell_type": "markdown",
   "metadata": {},
   "source": [
    "* We saw the **Z-test** (known variance)\n",
    "* We saw the **T-test** (unknown variance)"
   ]
  },
  {
   "cell_type": "markdown",
   "metadata": {},
   "source": [
    "<div class=\"alert alert-info\">\n",
    "    <b>Z-Test</b>\n",
    "    \n",
    "A Z-test is any statistical test for which the distribution of the test statistic under the null hypothesis can be approximated by a normal distribution. Z-tests test the mean of a distribution.\n",
    "\n",
    "* Let $\\hat{\\mu}_X$ and $\\hat{\\mu}_Y$ be the sample means of random samples of sizes $M$ and $N$ from two RVs $X$ and $Y$, respectively, with common variance $\\sigma^2$. We can build the statistic:\n",
    "\n",
    "\\begin{align*}\n",
    "T = \\hat{\\mu}_X - \\hat{\\mu}_Y\n",
    "\\end{align*}\n",
    "\n",
    "where $E[T] = 0$, $\\operatorname{Var}[X] = \\sigma^2\\left(\\frac{1}{N} + \\frac{1}{M}\\right)$ and \n",
    "\n",
    "\\begin{align*}\n",
    "T \\sim G\\left(0, \\sigma^2\\left(\\frac{1}{N} + \\frac{1}{M}\\right)\\right)\n",
    "\\end{align*}\n",
    "\n",
    "</div>"
   ]
  },
  {
   "cell_type": "markdown",
   "metadata": {},
   "source": [
    "## T-test\n",
    "\n",
    "Unknown variance: we have to approximate the variance.\n",
    "\n",
    "If we use our *unbiased* estimator for the variance, then the distribution of\n",
    "\n",
    "\\begin{align*}\n",
    "\\frac{\\hat{\\mu}-\\mu}{S_{N-1}/\\sqrt{N}}\n",
    "\\end{align*}\n",
    "\n",
    "has a **Student’s $t$-distribution with $N-1$ degrees of freedom (dof)**.\n",
    "\n",
    "* The density and distribution functions for the **Student's $t$-distribution** are shown on its [Wikipedia page](https://en.wikipedia.org/wiki/Student's_t-distribution).\n",
    "\n",
    "* Unlike the Gaussian distribution, the distribution function for Student’s t-distribution is in closed form for several values of $\\nu$ (degrees of freedom or dof)."
   ]
  },
  {
   "cell_type": "code",
   "execution_count": null,
   "metadata": {},
   "outputs": [],
   "source": []
  },
  {
   "cell_type": "code",
   "execution_count": 1,
   "metadata": {},
   "outputs": [],
   "source": [
    "import numpy as np\n",
    "import numpy.random as npr\n",
    "import scipy.stats as stats\n",
    "import pandas as pd\n",
    "import matplotlib.pyplot as plt\n",
    "%matplotlib inline\n",
    "plt.style.use('bmh')"
   ]
  },
  {
   "cell_type": "markdown",
   "metadata": {},
   "source": [
    "## Today\n",
    "* We will visualize **trade-offs in hypothesis testing**\n",
    "* We will look at some **goodness-of-fit measures**"
   ]
  },
  {
   "cell_type": "code",
   "execution_count": 2,
   "metadata": {},
   "outputs": [],
   "source": [
    "norm = stats.norm() #G(0,1)\n",
    "\n",
    "t1 = stats.t(1) # student's t-distribution with dof=1\n",
    "t2 = stats.t(2) # student's t-distribution with dof=2\n",
    "t5 = stats.t(5)\n",
    "tnf = stats.t(100_000)"
   ]
  },
  {
   "cell_type": "code",
   "execution_count": 3,
   "metadata": {},
   "outputs": [
    {
     "data": {
      "text/plain": [
       "(array(0.), array(1.), array(0.), array(0.))"
      ]
     },
     "execution_count": 3,
     "metadata": {},
     "output_type": "execute_result"
    }
   ],
   "source": [
    "norm.stats('mvsk')"
   ]
  },
  {
   "cell_type": "code",
   "execution_count": 4,
   "metadata": {},
   "outputs": [
    {
     "data": {
      "text/plain": [
       "(array(inf), array(nan), array(nan), array(nan))"
      ]
     },
     "execution_count": 4,
     "metadata": {},
     "output_type": "execute_result"
    }
   ],
   "source": [
    "t1.stats('mvsk')"
   ]
  },
  {
   "cell_type": "code",
   "execution_count": 5,
   "metadata": {},
   "outputs": [
    {
     "data": {
      "text/plain": [
       "(array(0.), array(inf), array(nan), array(nan))"
      ]
     },
     "execution_count": 5,
     "metadata": {},
     "output_type": "execute_result"
    }
   ],
   "source": [
    "t2.stats('mvsk')"
   ]
  },
  {
   "cell_type": "code",
   "execution_count": 6,
   "metadata": {},
   "outputs": [
    {
     "data": {
      "text/plain": [
       "(array(0.), array(1.66666667), array(0.), array(6.))"
      ]
     },
     "execution_count": 6,
     "metadata": {},
     "output_type": "execute_result"
    }
   ],
   "source": [
    "t5.stats('mvsk')"
   ]
  },
  {
   "cell_type": "code",
   "execution_count": 7,
   "metadata": {},
   "outputs": [
    {
     "data": {
      "text/plain": [
       "(array(0.), array(1.00002), array(0.), array(6.00024001e-05))"
      ]
     },
     "execution_count": 7,
     "metadata": {},
     "output_type": "execute_result"
    }
   ],
   "source": [
    "tnf.stats('mvsk')"
   ]
  },
  {
   "cell_type": "code",
   "execution_count": 8,
   "metadata": {},
   "outputs": [
    {
     "data": {
      "image/png": "[encoded data removed]",
      "text/plain": [
       "<Figure size 432x288 with 1 Axes>"
      ]
     },
     "metadata": {
      "needs_background": "light"
     },
     "output_type": "display_data"
    }
   ],
   "source": [
    "x = np.linspace(-4,4,1000)\n",
    "plt.plot(x, t1.pdf(x),label='t(dof=1)')\n",
    "plt.plot(x, t2.pdf(x),label='t(dof=2)')\n",
    "plt.plot(x, t5.pdf(x),label='t(dof=5)')\n",
    "plt.plot(x, tnf.pdf(x),label='t(dof=$\\infty$)')\n",
    "plt.plot(x,norm.pdf(x),label='G(0,1)')\n",
    "plt.legend();"
   ]
  },
  {
   "cell_type": "code",
   "execution_count": null,
   "metadata": {},
   "outputs": [],
   "source": []
  },
  {
   "cell_type": "markdown",
   "metadata": {},
   "source": [
    "**<font color=blue>Example 1</font> Analytical Test on Difference of Means (T-Test)**\n",
    "\n",
    "Conduct an **analytical** binary hypothesis test on whether urban and rural populations have different firearms mortality rates."
   ]
  },
  {
   "cell_type": "code",
   "execution_count": 9,
   "metadata": {
    "scrolled": true
   },
   "outputs": [
    {
     "data": {
      "text/html": [
       "<div>\n",
       "<style scoped>\n",
       "    .dataframe tbody tr th:only-of-type {\n",
       "        vertical-align: middle;\n",
       "    }\n",
       "\n",
       "    .dataframe tbody tr th {\n",
       "        vertical-align: top;\n",
       "    }\n",
       "\n",
       "    .dataframe thead th {\n",
       "        text-align: right;\n",
       "    }\n",
       "</style>\n",
       "<table border=\"1\" class=\"dataframe\">\n",
       "  <thead>\n",
       "    <tr style=\"text-align: right;\">\n",
       "      <th></th>\n",
       "      <th>STATE</th>\n",
       "      <th>RATE-2014</th>\n",
       "      <th>Percent Urban</th>\n",
       "    </tr>\n",
       "  </thead>\n",
       "  <tbody>\n",
       "    <tr>\n",
       "      <th>0</th>\n",
       "      <td>AL</td>\n",
       "      <td>16.9</td>\n",
       "      <td>59.0</td>\n",
       "    </tr>\n",
       "    <tr>\n",
       "      <th>1</th>\n",
       "      <td>AK</td>\n",
       "      <td>19.2</td>\n",
       "      <td>66.0</td>\n",
       "    </tr>\n",
       "    <tr>\n",
       "      <th>2</th>\n",
       "      <td>AZ</td>\n",
       "      <td>13.5</td>\n",
       "      <td>89.8</td>\n",
       "    </tr>\n",
       "    <tr>\n",
       "      <th>3</th>\n",
       "      <td>AR</td>\n",
       "      <td>16.6</td>\n",
       "      <td>56.2</td>\n",
       "    </tr>\n",
       "    <tr>\n",
       "      <th>4</th>\n",
       "      <td>CA</td>\n",
       "      <td>7.4</td>\n",
       "      <td>95.0</td>\n",
       "    </tr>\n",
       "    <tr>\n",
       "      <th>5</th>\n",
       "      <td>CO</td>\n",
       "      <td>12.2</td>\n",
       "      <td>86.2</td>\n",
       "    </tr>\n",
       "    <tr>\n",
       "      <th>6</th>\n",
       "      <td>CT</td>\n",
       "      <td>5.0</td>\n",
       "      <td>88.0</td>\n",
       "    </tr>\n",
       "    <tr>\n",
       "      <th>7</th>\n",
       "      <td>DE</td>\n",
       "      <td>11.1</td>\n",
       "      <td>83.3</td>\n",
       "    </tr>\n",
       "    <tr>\n",
       "      <th>8</th>\n",
       "      <td>FL</td>\n",
       "      <td>11.5</td>\n",
       "      <td>91.2</td>\n",
       "    </tr>\n",
       "    <tr>\n",
       "      <th>9</th>\n",
       "      <td>GA</td>\n",
       "      <td>13.7</td>\n",
       "      <td>75.1</td>\n",
       "    </tr>\n",
       "    <tr>\n",
       "      <th>10</th>\n",
       "      <td>HI</td>\n",
       "      <td>2.6</td>\n",
       "      <td>91.9</td>\n",
       "    </tr>\n",
       "    <tr>\n",
       "      <th>11</th>\n",
       "      <td>ID</td>\n",
       "      <td>13.2</td>\n",
       "      <td>70.6</td>\n",
       "    </tr>\n",
       "    <tr>\n",
       "      <th>12</th>\n",
       "      <td>IL</td>\n",
       "      <td>9.0</td>\n",
       "      <td>88.5</td>\n",
       "    </tr>\n",
       "    <tr>\n",
       "      <th>13</th>\n",
       "      <td>IN</td>\n",
       "      <td>12.4</td>\n",
       "      <td>72.4</td>\n",
       "    </tr>\n",
       "    <tr>\n",
       "      <th>14</th>\n",
       "      <td>IA</td>\n",
       "      <td>7.5</td>\n",
       "      <td>64.0</td>\n",
       "    </tr>\n",
       "    <tr>\n",
       "      <th>15</th>\n",
       "      <td>KS</td>\n",
       "      <td>11.3</td>\n",
       "      <td>74.2</td>\n",
       "    </tr>\n",
       "    <tr>\n",
       "      <th>16</th>\n",
       "      <td>KY</td>\n",
       "      <td>13.9</td>\n",
       "      <td>58.4</td>\n",
       "    </tr>\n",
       "    <tr>\n",
       "      <th>17</th>\n",
       "      <td>LA</td>\n",
       "      <td>19.0</td>\n",
       "      <td>73.2</td>\n",
       "    </tr>\n",
       "    <tr>\n",
       "      <th>18</th>\n",
       "      <td>ME</td>\n",
       "      <td>9.4</td>\n",
       "      <td>38.7</td>\n",
       "    </tr>\n",
       "    <tr>\n",
       "      <th>19</th>\n",
       "      <td>MD</td>\n",
       "      <td>9.0</td>\n",
       "      <td>87.2</td>\n",
       "    </tr>\n",
       "    <tr>\n",
       "      <th>20</th>\n",
       "      <td>MA</td>\n",
       "      <td>3.2</td>\n",
       "      <td>92.0</td>\n",
       "    </tr>\n",
       "    <tr>\n",
       "      <th>21</th>\n",
       "      <td>MI</td>\n",
       "      <td>11.1</td>\n",
       "      <td>74.6</td>\n",
       "    </tr>\n",
       "    <tr>\n",
       "      <th>22</th>\n",
       "      <td>MN</td>\n",
       "      <td>6.6</td>\n",
       "      <td>73.3</td>\n",
       "    </tr>\n",
       "    <tr>\n",
       "      <th>23</th>\n",
       "      <td>MS</td>\n",
       "      <td>18.3</td>\n",
       "      <td>49.4</td>\n",
       "    </tr>\n",
       "    <tr>\n",
       "      <th>24</th>\n",
       "      <td>MO</td>\n",
       "      <td>15.3</td>\n",
       "      <td>70.4</td>\n",
       "    </tr>\n",
       "    <tr>\n",
       "      <th>25</th>\n",
       "      <td>MT</td>\n",
       "      <td>16.1</td>\n",
       "      <td>55.9</td>\n",
       "    </tr>\n",
       "    <tr>\n",
       "      <th>26</th>\n",
       "      <td>NE</td>\n",
       "      <td>9.5</td>\n",
       "      <td>73.1</td>\n",
       "    </tr>\n",
       "    <tr>\n",
       "      <th>27</th>\n",
       "      <td>NV</td>\n",
       "      <td>14.8</td>\n",
       "      <td>94.2</td>\n",
       "    </tr>\n",
       "    <tr>\n",
       "      <th>28</th>\n",
       "      <td>NH</td>\n",
       "      <td>8.7</td>\n",
       "      <td>60.3</td>\n",
       "    </tr>\n",
       "    <tr>\n",
       "      <th>29</th>\n",
       "      <td>NJ</td>\n",
       "      <td>5.3</td>\n",
       "      <td>94.7</td>\n",
       "    </tr>\n",
       "    <tr>\n",
       "      <th>30</th>\n",
       "      <td>NM</td>\n",
       "      <td>16.0</td>\n",
       "      <td>77.4</td>\n",
       "    </tr>\n",
       "    <tr>\n",
       "      <th>31</th>\n",
       "      <td>NY</td>\n",
       "      <td>4.2</td>\n",
       "      <td>87.9</td>\n",
       "    </tr>\n",
       "    <tr>\n",
       "      <th>32</th>\n",
       "      <td>NC</td>\n",
       "      <td>11.8</td>\n",
       "      <td>66.1</td>\n",
       "    </tr>\n",
       "    <tr>\n",
       "      <th>33</th>\n",
       "      <td>ND</td>\n",
       "      <td>12.3</td>\n",
       "      <td>59.9</td>\n",
       "    </tr>\n",
       "    <tr>\n",
       "      <th>34</th>\n",
       "      <td>OH</td>\n",
       "      <td>10.3</td>\n",
       "      <td>77.9</td>\n",
       "    </tr>\n",
       "    <tr>\n",
       "      <th>35</th>\n",
       "      <td>OK</td>\n",
       "      <td>15.7</td>\n",
       "      <td>66.2</td>\n",
       "    </tr>\n",
       "    <tr>\n",
       "      <th>36</th>\n",
       "      <td>OR</td>\n",
       "      <td>11.7</td>\n",
       "      <td>81.0</td>\n",
       "    </tr>\n",
       "    <tr>\n",
       "      <th>37</th>\n",
       "      <td>PA</td>\n",
       "      <td>10.5</td>\n",
       "      <td>78.7</td>\n",
       "    </tr>\n",
       "    <tr>\n",
       "      <th>38</th>\n",
       "      <td>RI</td>\n",
       "      <td>3.0</td>\n",
       "      <td>90.7</td>\n",
       "    </tr>\n",
       "    <tr>\n",
       "      <th>39</th>\n",
       "      <td>SC</td>\n",
       "      <td>15.5</td>\n",
       "      <td>66.3</td>\n",
       "    </tr>\n",
       "    <tr>\n",
       "      <th>40</th>\n",
       "      <td>SD</td>\n",
       "      <td>10.3</td>\n",
       "      <td>56.7</td>\n",
       "    </tr>\n",
       "    <tr>\n",
       "      <th>41</th>\n",
       "      <td>TN</td>\n",
       "      <td>15.1</td>\n",
       "      <td>66.4</td>\n",
       "    </tr>\n",
       "    <tr>\n",
       "      <th>42</th>\n",
       "      <td>TX</td>\n",
       "      <td>10.7</td>\n",
       "      <td>84.7</td>\n",
       "    </tr>\n",
       "    <tr>\n",
       "      <th>43</th>\n",
       "      <td>UT</td>\n",
       "      <td>12.3</td>\n",
       "      <td>90.6</td>\n",
       "    </tr>\n",
       "    <tr>\n",
       "      <th>44</th>\n",
       "      <td>VT</td>\n",
       "      <td>10.3</td>\n",
       "      <td>38.9</td>\n",
       "    </tr>\n",
       "    <tr>\n",
       "      <th>45</th>\n",
       "      <td>VA</td>\n",
       "      <td>10.3</td>\n",
       "      <td>75.5</td>\n",
       "    </tr>\n",
       "    <tr>\n",
       "      <th>46</th>\n",
       "      <td>WA</td>\n",
       "      <td>9.7</td>\n",
       "      <td>84.1</td>\n",
       "    </tr>\n",
       "    <tr>\n",
       "      <th>47</th>\n",
       "      <td>WV</td>\n",
       "      <td>14.6</td>\n",
       "      <td>48.7</td>\n",
       "    </tr>\n",
       "    <tr>\n",
       "      <th>48</th>\n",
       "      <td>WI</td>\n",
       "      <td>8.2</td>\n",
       "      <td>70.2</td>\n",
       "    </tr>\n",
       "    <tr>\n",
       "      <th>49</th>\n",
       "      <td>WY</td>\n",
       "      <td>16.2</td>\n",
       "      <td>64.8</td>\n",
       "    </tr>\n",
       "  </tbody>\n",
       "</table>\n",
       "</div>"
      ],
      "text/plain": [
       "   STATE  RATE-2014  Percent Urban\n",
       "0     AL       16.9           59.0\n",
       "1     AK       19.2           66.0\n",
       "2     AZ       13.5           89.8\n",
       "3     AR       16.6           56.2\n",
       "4     CA        7.4           95.0\n",
       "5     CO       12.2           86.2\n",
       "6     CT        5.0           88.0\n",
       "7     DE       11.1           83.3\n",
       "8     FL       11.5           91.2\n",
       "9     GA       13.7           75.1\n",
       "10    HI        2.6           91.9\n",
       "11    ID       13.2           70.6\n",
       "12    IL        9.0           88.5\n",
       "13    IN       12.4           72.4\n",
       "14    IA        7.5           64.0\n",
       "15    KS       11.3           74.2\n",
       "16    KY       13.9           58.4\n",
       "17    LA       19.0           73.2\n",
       "18    ME        9.4           38.7\n",
       "19    MD        9.0           87.2\n",
       "20    MA        3.2           92.0\n",
       "21    MI       11.1           74.6\n",
       "22    MN        6.6           73.3\n",
       "23    MS       18.3           49.4\n",
       "24    MO       15.3           70.4\n",
       "25    MT       16.1           55.9\n",
       "26    NE        9.5           73.1\n",
       "27    NV       14.8           94.2\n",
       "28    NH        8.7           60.3\n",
       "29    NJ        5.3           94.7\n",
       "30    NM       16.0           77.4\n",
       "31    NY        4.2           87.9\n",
       "32    NC       11.8           66.1\n",
       "33    ND       12.3           59.9\n",
       "34    OH       10.3           77.9\n",
       "35    OK       15.7           66.2\n",
       "36    OR       11.7           81.0\n",
       "37    PA       10.5           78.7\n",
       "38    RI        3.0           90.7\n",
       "39    SC       15.5           66.3\n",
       "40    SD       10.3           56.7\n",
       "41    TN       15.1           66.4\n",
       "42    TX       10.7           84.7\n",
       "43    UT       12.3           90.6\n",
       "44    VT       10.3           38.9\n",
       "45    VA       10.3           75.5\n",
       "46    WA        9.7           84.1\n",
       "47    WV       14.6           48.7\n",
       "48    WI        8.2           70.2\n",
       "49    WY       16.2           64.8"
      ]
     },
     "execution_count": 9,
     "metadata": {},
     "output_type": "execute_result"
    }
   ],
   "source": [
    "df = pd.read_csv('firearms-urban.csv')\n",
    "df"
   ]
  },
  {
   "cell_type": "markdown",
   "metadata": {},
   "source": [
    "Recall the data \"firearms-urban.csv\" where the columns of interest for this investigation are:\n",
    "\n",
    "* **RATE-2014**: The firearms mortality rate by state from 2014. \n",
    "\n",
    "* **Percent Urban**: The percentage of the total population in urban areas, from https://www.icip.iastate.edu/tables/population/urban-pct-states. Although this data is 2010, it should be sufficiently accurate for our purposes."
   ]
  },
  {
   "cell_type": "code",
   "execution_count": 10,
   "metadata": {
    "scrolled": true
   },
   "outputs": [
    {
     "data": {
      "text/html": [
       "<div>\n",
       "<style scoped>\n",
       "    .dataframe tbody tr th:only-of-type {\n",
       "        vertical-align: middle;\n",
       "    }\n",
       "\n",
       "    .dataframe tbody tr th {\n",
       "        vertical-align: top;\n",
       "    }\n",
       "\n",
       "    .dataframe thead th {\n",
       "        text-align: right;\n",
       "    }\n",
       "</style>\n",
       "<table border=\"1\" class=\"dataframe\">\n",
       "  <thead>\n",
       "    <tr style=\"text-align: right;\">\n",
       "      <th></th>\n",
       "      <th>RATE-2014</th>\n",
       "      <th>Percent Urban</th>\n",
       "    </tr>\n",
       "    <tr>\n",
       "      <th>STATE</th>\n",
       "      <th></th>\n",
       "      <th></th>\n",
       "    </tr>\n",
       "  </thead>\n",
       "  <tbody>\n",
       "    <tr>\n",
       "      <th>AL</th>\n",
       "      <td>16.9</td>\n",
       "      <td>59.0</td>\n",
       "    </tr>\n",
       "    <tr>\n",
       "      <th>AK</th>\n",
       "      <td>19.2</td>\n",
       "      <td>66.0</td>\n",
       "    </tr>\n",
       "    <tr>\n",
       "      <th>AZ</th>\n",
       "      <td>13.5</td>\n",
       "      <td>89.8</td>\n",
       "    </tr>\n",
       "    <tr>\n",
       "      <th>AR</th>\n",
       "      <td>16.6</td>\n",
       "      <td>56.2</td>\n",
       "    </tr>\n",
       "    <tr>\n",
       "      <th>CA</th>\n",
       "      <td>7.4</td>\n",
       "      <td>95.0</td>\n",
       "    </tr>\n",
       "    <tr>\n",
       "      <th>CO</th>\n",
       "      <td>12.2</td>\n",
       "      <td>86.2</td>\n",
       "    </tr>\n",
       "    <tr>\n",
       "      <th>CT</th>\n",
       "      <td>5.0</td>\n",
       "      <td>88.0</td>\n",
       "    </tr>\n",
       "    <tr>\n",
       "      <th>DE</th>\n",
       "      <td>11.1</td>\n",
       "      <td>83.3</td>\n",
       "    </tr>\n",
       "    <tr>\n",
       "      <th>FL</th>\n",
       "      <td>11.5</td>\n",
       "      <td>91.2</td>\n",
       "    </tr>\n",
       "    <tr>\n",
       "      <th>GA</th>\n",
       "      <td>13.7</td>\n",
       "      <td>75.1</td>\n",
       "    </tr>\n",
       "    <tr>\n",
       "      <th>HI</th>\n",
       "      <td>2.6</td>\n",
       "      <td>91.9</td>\n",
       "    </tr>\n",
       "    <tr>\n",
       "      <th>ID</th>\n",
       "      <td>13.2</td>\n",
       "      <td>70.6</td>\n",
       "    </tr>\n",
       "    <tr>\n",
       "      <th>IL</th>\n",
       "      <td>9.0</td>\n",
       "      <td>88.5</td>\n",
       "    </tr>\n",
       "    <tr>\n",
       "      <th>IN</th>\n",
       "      <td>12.4</td>\n",
       "      <td>72.4</td>\n",
       "    </tr>\n",
       "    <tr>\n",
       "      <th>IA</th>\n",
       "      <td>7.5</td>\n",
       "      <td>64.0</td>\n",
       "    </tr>\n",
       "    <tr>\n",
       "      <th>KS</th>\n",
       "      <td>11.3</td>\n",
       "      <td>74.2</td>\n",
       "    </tr>\n",
       "    <tr>\n",
       "      <th>KY</th>\n",
       "      <td>13.9</td>\n",
       "      <td>58.4</td>\n",
       "    </tr>\n",
       "    <tr>\n",
       "      <th>LA</th>\n",
       "      <td>19.0</td>\n",
       "      <td>73.2</td>\n",
       "    </tr>\n",
       "    <tr>\n",
       "      <th>ME</th>\n",
       "      <td>9.4</td>\n",
       "      <td>38.7</td>\n",
       "    </tr>\n",
       "    <tr>\n",
       "      <th>MD</th>\n",
       "      <td>9.0</td>\n",
       "      <td>87.2</td>\n",
       "    </tr>\n",
       "    <tr>\n",
       "      <th>MA</th>\n",
       "      <td>3.2</td>\n",
       "      <td>92.0</td>\n",
       "    </tr>\n",
       "    <tr>\n",
       "      <th>MI</th>\n",
       "      <td>11.1</td>\n",
       "      <td>74.6</td>\n",
       "    </tr>\n",
       "    <tr>\n",
       "      <th>MN</th>\n",
       "      <td>6.6</td>\n",
       "      <td>73.3</td>\n",
       "    </tr>\n",
       "    <tr>\n",
       "      <th>MS</th>\n",
       "      <td>18.3</td>\n",
       "      <td>49.4</td>\n",
       "    </tr>\n",
       "    <tr>\n",
       "      <th>MO</th>\n",
       "      <td>15.3</td>\n",
       "      <td>70.4</td>\n",
       "    </tr>\n",
       "    <tr>\n",
       "      <th>MT</th>\n",
       "      <td>16.1</td>\n",
       "      <td>55.9</td>\n",
       "    </tr>\n",
       "    <tr>\n",
       "      <th>NE</th>\n",
       "      <td>9.5</td>\n",
       "      <td>73.1</td>\n",
       "    </tr>\n",
       "    <tr>\n",
       "      <th>NV</th>\n",
       "      <td>14.8</td>\n",
       "      <td>94.2</td>\n",
       "    </tr>\n",
       "    <tr>\n",
       "      <th>NH</th>\n",
       "      <td>8.7</td>\n",
       "      <td>60.3</td>\n",
       "    </tr>\n",
       "    <tr>\n",
       "      <th>NJ</th>\n",
       "      <td>5.3</td>\n",
       "      <td>94.7</td>\n",
       "    </tr>\n",
       "    <tr>\n",
       "      <th>NM</th>\n",
       "      <td>16.0</td>\n",
       "      <td>77.4</td>\n",
       "    </tr>\n",
       "    <tr>\n",
       "      <th>NY</th>\n",
       "      <td>4.2</td>\n",
       "      <td>87.9</td>\n",
       "    </tr>\n",
       "    <tr>\n",
       "      <th>NC</th>\n",
       "      <td>11.8</td>\n",
       "      <td>66.1</td>\n",
       "    </tr>\n",
       "    <tr>\n",
       "      <th>ND</th>\n",
       "      <td>12.3</td>\n",
       "      <td>59.9</td>\n",
       "    </tr>\n",
       "    <tr>\n",
       "      <th>OH</th>\n",
       "      <td>10.3</td>\n",
       "      <td>77.9</td>\n",
       "    </tr>\n",
       "    <tr>\n",
       "      <th>OK</th>\n",
       "      <td>15.7</td>\n",
       "      <td>66.2</td>\n",
       "    </tr>\n",
       "    <tr>\n",
       "      <th>OR</th>\n",
       "      <td>11.7</td>\n",
       "      <td>81.0</td>\n",
       "    </tr>\n",
       "    <tr>\n",
       "      <th>PA</th>\n",
       "      <td>10.5</td>\n",
       "      <td>78.7</td>\n",
       "    </tr>\n",
       "    <tr>\n",
       "      <th>RI</th>\n",
       "      <td>3.0</td>\n",
       "      <td>90.7</td>\n",
       "    </tr>\n",
       "    <tr>\n",
       "      <th>SC</th>\n",
       "      <td>15.5</td>\n",
       "      <td>66.3</td>\n",
       "    </tr>\n",
       "    <tr>\n",
       "      <th>SD</th>\n",
       "      <td>10.3</td>\n",
       "      <td>56.7</td>\n",
       "    </tr>\n",
       "    <tr>\n",
       "      <th>TN</th>\n",
       "      <td>15.1</td>\n",
       "      <td>66.4</td>\n",
       "    </tr>\n",
       "    <tr>\n",
       "      <th>TX</th>\n",
       "      <td>10.7</td>\n",
       "      <td>84.7</td>\n",
       "    </tr>\n",
       "    <tr>\n",
       "      <th>UT</th>\n",
       "      <td>12.3</td>\n",
       "      <td>90.6</td>\n",
       "    </tr>\n",
       "    <tr>\n",
       "      <th>VT</th>\n",
       "      <td>10.3</td>\n",
       "      <td>38.9</td>\n",
       "    </tr>\n",
       "    <tr>\n",
       "      <th>VA</th>\n",
       "      <td>10.3</td>\n",
       "      <td>75.5</td>\n",
       "    </tr>\n",
       "    <tr>\n",
       "      <th>WA</th>\n",
       "      <td>9.7</td>\n",
       "      <td>84.1</td>\n",
       "    </tr>\n",
       "    <tr>\n",
       "      <th>WV</th>\n",
       "      <td>14.6</td>\n",
       "      <td>48.7</td>\n",
       "    </tr>\n",
       "    <tr>\n",
       "      <th>WI</th>\n",
       "      <td>8.2</td>\n",
       "      <td>70.2</td>\n",
       "    </tr>\n",
       "    <tr>\n",
       "      <th>WY</th>\n",
       "      <td>16.2</td>\n",
       "      <td>64.8</td>\n",
       "    </tr>\n",
       "  </tbody>\n",
       "</table>\n",
       "</div>"
      ],
      "text/plain": [
       "       RATE-2014  Percent Urban\n",
       "STATE                          \n",
       "AL          16.9           59.0\n",
       "AK          19.2           66.0\n",
       "AZ          13.5           89.8\n",
       "AR          16.6           56.2\n",
       "CA           7.4           95.0\n",
       "CO          12.2           86.2\n",
       "CT           5.0           88.0\n",
       "DE          11.1           83.3\n",
       "FL          11.5           91.2\n",
       "GA          13.7           75.1\n",
       "HI           2.6           91.9\n",
       "ID          13.2           70.6\n",
       "IL           9.0           88.5\n",
       "IN          12.4           72.4\n",
       "IA           7.5           64.0\n",
       "KS          11.3           74.2\n",
       "KY          13.9           58.4\n",
       "LA          19.0           73.2\n",
       "ME           9.4           38.7\n",
       "MD           9.0           87.2\n",
       "MA           3.2           92.0\n",
       "MI          11.1           74.6\n",
       "MN           6.6           73.3\n",
       "MS          18.3           49.4\n",
       "MO          15.3           70.4\n",
       "MT          16.1           55.9\n",
       "NE           9.5           73.1\n",
       "NV          14.8           94.2\n",
       "NH           8.7           60.3\n",
       "NJ           5.3           94.7\n",
       "NM          16.0           77.4\n",
       "NY           4.2           87.9\n",
       "NC          11.8           66.1\n",
       "ND          12.3           59.9\n",
       "OH          10.3           77.9\n",
       "OK          15.7           66.2\n",
       "OR          11.7           81.0\n",
       "PA          10.5           78.7\n",
       "RI           3.0           90.7\n",
       "SC          15.5           66.3\n",
       "SD          10.3           56.7\n",
       "TN          15.1           66.4\n",
       "TX          10.7           84.7\n",
       "UT          12.3           90.6\n",
       "VT          10.3           38.9\n",
       "VA          10.3           75.5\n",
       "WA           9.7           84.1\n",
       "WV          14.6           48.7\n",
       "WI           8.2           70.2\n",
       "WY          16.2           64.8"
      ]
     },
     "execution_count": 10,
     "metadata": {},
     "output_type": "execute_result"
    }
   ],
   "source": [
    "# Use the STATE column as the index\n",
    "\n",
    "df = df.set_index('STATE')\n",
    "df"
   ]
  },
  {
   "cell_type": "code",
   "execution_count": 11,
   "metadata": {},
   "outputs": [
    {
     "data": {
      "text/plain": [
       "RATE-2014        11.5\n",
       "Percent Urban    91.2\n",
       "Name: FL, dtype: float64"
      ]
     },
     "execution_count": 11,
     "metadata": {},
     "output_type": "execute_result"
    }
   ],
   "source": [
    "df.loc['FL']"
   ]
  },
  {
   "cell_type": "code",
   "execution_count": 12,
   "metadata": {
    "scrolled": true
   },
   "outputs": [
    {
     "data": {
      "image/png": "[encoded data removed]",
      "text/plain": [
       "<Figure size 432x288 with 1 Axes>"
      ]
     },
     "metadata": {
      "needs_background": "light"
     },
     "output_type": "display_data"
    }
   ],
   "source": [
    "# Plot the data\n",
    "# Highlight the point for Florida\n",
    "\n",
    "plt.scatter(df['Percent Urban'],df['RATE-2014'])\n",
    "plt.scatter(df.loc['FL']['Percent Urban'],df.loc['FL']['RATE-2014'],marker='*',c='r')\n",
    "plt.xlabel('Percent of population in urban areas',size=15)\n",
    "plt.ylabel('Firearms mortality rate',size=15);"
   ]
  },
  {
   "cell_type": "code",
   "execution_count": 13,
   "metadata": {},
   "outputs": [
    {
     "data": {
      "text/plain": [
       "(32,)"
      ]
     },
     "execution_count": 13,
     "metadata": {},
     "output_type": "execute_result"
    }
   ],
   "source": [
    "df['RATE-2014'][df['Percent Urban']<80].shape # rural"
   ]
  },
  {
   "cell_type": "code",
   "execution_count": 14,
   "metadata": {},
   "outputs": [
    {
     "data": {
      "image/png": "[encoded data removed]",
      "text/plain": [
       "<Figure size 576x360 with 1 Axes>"
      ]
     },
     "metadata": {
      "needs_background": "light"
     },
     "output_type": "display_data"
    }
   ],
   "source": [
    "# Let's consider:\n",
    "# Urban - states with \"Percent Urban\">=80%\n",
    "# Rural - states with \"Percent Urban\"<80%\n",
    "\n",
    "plt.figure(figsize=(8,5))\n",
    "\n",
    "plt.scatter(df['Percent Urban'][df['Percent Urban']<80].to_numpy(),df['RATE-2014'][df['Percent Urban']<80],c='b')\n",
    "plt.scatter(df['Percent Urban'][df['Percent Urban']>=80].to_numpy(),df['RATE-2014'][df['Percent Urban']>=80],c='r')\n",
    "\n",
    "plt.xlabel('Percent of population in urban areas',size=15)\n",
    "plt.ylabel('Firearms mortality rate',size=15);"
   ]
  },
  {
   "cell_type": "code",
   "execution_count": null,
   "metadata": {},
   "outputs": [],
   "source": []
  },
  {
   "cell_type": "code",
   "execution_count": 15,
   "metadata": {},
   "outputs": [],
   "source": [
    "# Let's the firearm mortality rate for 2014 where:\n",
    "# Urban - states with \"Percent Urban\">=80%\n",
    "# Rural - states with \"Percent Urban\"<80%\n",
    "\n",
    "# Extract data\n",
    "urban = df['RATE-2014'][df['Percent Urban']>=80].to_numpy()\n",
    "rural = df['RATE-2014'][df['Percent Urban']<80].to_numpy()\n",
    "\n",
    "# Estimate Density using KDE\n",
    "f_urban = stats.gaussian_kde(urban) # Kernel Density Estimation with Gaussian kernel\n",
    "f_rural = stats.gaussian_kde(rural)\n"
   ]
  },
  {
   "cell_type": "code",
   "execution_count": 16,
   "metadata": {},
   "outputs": [
    {
     "data": {
      "image/png": "[encoded data removed]",
      "text/plain": [
       "<Figure size 576x360 with 1 Axes>"
      ]
     },
     "metadata": {
      "needs_background": "light"
     },
     "output_type": "display_data"
    }
   ],
   "source": [
    "plt.figure(figsize=(8,5))\n",
    "x = np.linspace(0,22,1000)\n",
    "\n",
    "plt.hist(urban,alpha = 0.5, label = 'Urban', density = True)\n",
    "plt.hist(rural,alpha = 0.5, label = 'Rural', density = True)\n",
    "plt.plot(x,f_urban.pdf(x), 'b', label = 'Urban PDF')\n",
    "plt.plot(x,f_rural.pdf(x), 'r', label = 'Rural PDF')\n",
    "\n",
    "plt.legend()\n",
    "plt.xlabel('Firearms Mortality Rate');"
   ]
  },
  {
   "cell_type": "code",
   "execution_count": 17,
   "metadata": {},
   "outputs": [
    {
     "data": {
      "text/plain": [
       "(8.677777777777777, 12.99375)"
      ]
     },
     "execution_count": 17,
     "metadata": {},
     "output_type": "execute_result"
    }
   ],
   "source": [
    "# sample mean for each sample\n",
    "\n",
    "urban.mean(), rural.mean()"
   ]
  },
  {
   "cell_type": "code",
   "execution_count": 18,
   "metadata": {},
   "outputs": [
    {
     "data": {
      "text/plain": [
       "4.315972222222223"
      ]
     },
     "execution_count": 18,
     "metadata": {},
     "output_type": "execute_result"
    }
   ],
   "source": [
    "diff = rural.mean() - urban.mean()\n",
    "diff"
   ]
  },
  {
   "cell_type": "code",
   "execution_count": null,
   "metadata": {},
   "outputs": [],
   "source": []
  },
  {
   "cell_type": "markdown",
   "metadata": {},
   "source": [
    "* Let's construct a **two-sided binary hypothesis test** using analytical techniques and determine the probability of such a large difference in means under the null hypothesis.\n",
    "\n",
    "The data comes from a single distribution, which implies same means and same variances.\n",
    "\n",
    "So, we will use the **T-random variable** to model this. We know: mean of $T$ is 0, and we need to calculate the variance from the data."
   ]
  },
  {
   "cell_type": "code",
   "execution_count": 19,
   "metadata": {},
   "outputs": [
    {
     "data": {
      "text/plain": [
       "11.440000000000003"
      ]
     },
     "execution_count": 19,
     "metadata": {},
     "output_type": "execute_result"
    }
   ],
   "source": [
    "pooled = df['RATE-2014']\n",
    "\n",
    "pooled_mean = pooled.mean()\n",
    "pooled_mean"
   ]
  },
  {
   "cell_type": "code",
   "execution_count": 20,
   "metadata": {},
   "outputs": [
    {
     "data": {
      "text/plain": [
       "STATE\n",
       "AL    16.9\n",
       "AK    19.2\n",
       "AZ    13.5\n",
       "AR    16.6\n",
       "CA     7.4\n",
       "CO    12.2\n",
       "CT     5.0\n",
       "DE    11.1\n",
       "FL    11.5\n",
       "GA    13.7\n",
       "HI     2.6\n",
       "ID    13.2\n",
       "IL     9.0\n",
       "IN    12.4\n",
       "IA     7.5\n",
       "KS    11.3\n",
       "KY    13.9\n",
       "LA    19.0\n",
       "ME     9.4\n",
       "MD     9.0\n",
       "MA     3.2\n",
       "MI    11.1\n",
       "MN     6.6\n",
       "MS    18.3\n",
       "MO    15.3\n",
       "MT    16.1\n",
       "NE     9.5\n",
       "NV    14.8\n",
       "NH     8.7\n",
       "NJ     5.3\n",
       "NM    16.0\n",
       "NY     4.2\n",
       "NC    11.8\n",
       "ND    12.3\n",
       "OH    10.3\n",
       "OK    15.7\n",
       "OR    11.7\n",
       "PA    10.5\n",
       "RI     3.0\n",
       "SC    15.5\n",
       "SD    10.3\n",
       "TN    15.1\n",
       "TX    10.7\n",
       "UT    12.3\n",
       "VT    10.3\n",
       "VA    10.3\n",
       "WA     9.7\n",
       "WV    14.6\n",
       "WI     8.2\n",
       "WY    16.2\n",
       "Name: RATE-2014, dtype: float64"
      ]
     },
     "execution_count": 20,
     "metadata": {},
     "output_type": "execute_result"
    }
   ],
   "source": [
    "pooled"
   ]
  },
  {
   "cell_type": "code",
   "execution_count": 21,
   "metadata": {},
   "outputs": [
    {
     "data": {
      "text/plain": [
       "17.220408163265304"
      ]
     },
     "execution_count": 21,
     "metadata": {},
     "output_type": "execute_result"
    }
   ],
   "source": [
    "# Sample unbiased estimator for the variance\n",
    "np.sum((pooled-pooled_mean)**2)/(len(pooled)-1)\n"
   ]
  },
  {
   "cell_type": "code",
   "execution_count": 22,
   "metadata": {},
   "outputs": [
    {
     "data": {
      "text/plain": [
       "17.22040816326531"
      ]
     },
     "execution_count": 22,
     "metadata": {},
     "output_type": "execute_result"
    }
   ],
   "source": [
    "# Alternative\n",
    "pooled_var = np.var(pooled,ddof=1) # ddof = delta degrees of freedom\n",
    "\n",
    "pooled_var\n"
   ]
  },
  {
   "cell_type": "code",
   "execution_count": 23,
   "metadata": {},
   "outputs": [
    {
     "data": {
      "text/plain": [
       "1.4948270975056694"
      ]
     },
     "execution_count": 23,
     "metadata": {},
     "output_type": "execute_result"
    }
   ],
   "source": [
    "# We need to calculate the variance of the difference of sample mean estimators\n",
    "sm_var = pooled_var*(1/len(urban)+1/len(rural))\n",
    "sm_var"
   ]
  },
  {
   "cell_type": "code",
   "execution_count": 24,
   "metadata": {},
   "outputs": [
    {
     "data": {
      "text/plain": [
       "48"
      ]
     },
     "execution_count": 24,
     "metadata": {},
     "output_type": "execute_result"
    }
   ],
   "source": [
    "# Last parameter of T: degrees of freedom\n",
    "N = len(urban)+len(rural)-1\n",
    "dof = N -1\n",
    "dof\n"
   ]
  },
  {
   "cell_type": "markdown",
   "metadata": {},
   "source": [
    "Calculate the t-distribution and perform the test"
   ]
  },
  {
   "cell_type": "code",
   "execution_count": 25,
   "metadata": {},
   "outputs": [],
   "source": [
    "myt = stats.t(dof, scale=np.sqrt(sm_var))\n",
    "\n",
    "\n",
    "# We set the variance of the T random variable here"
   ]
  },
  {
   "cell_type": "code",
   "execution_count": 26,
   "metadata": {},
   "outputs": [
    {
     "data": {
      "image/png": "[encoded data removed]",
      "text/plain": [
       "<Figure size 432x288 with 1 Axes>"
      ]
     },
     "metadata": {
      "needs_background": "light"
     },
     "output_type": "display_data"
    }
   ],
   "source": [
    "t=np.linspace(-4,4,100)\n",
    "plt.plot(t,myt.pdf(t));"
   ]
  },
  {
   "cell_type": "code",
   "execution_count": 27,
   "metadata": {},
   "outputs": [
    {
     "data": {
      "text/plain": [
       "0.000463991896118919"
      ]
     },
     "execution_count": 27,
     "metadata": {},
     "output_type": "execute_result"
    }
   ],
   "source": [
    "# 1-sided test\n",
    "\n",
    "myt.sf(diff)\n"
   ]
  },
  {
   "cell_type": "code",
   "execution_count": 28,
   "metadata": {},
   "outputs": [
    {
     "data": {
      "text/plain": [
       "0.000927983792237838"
      ]
     },
     "execution_count": 28,
     "metadata": {},
     "output_type": "execute_result"
    }
   ],
   "source": [
    "# 2-sided test\n",
    "\n",
    "2*myt.sf(diff)\n"
   ]
  },
  {
   "cell_type": "code",
   "execution_count": 29,
   "metadata": {},
   "outputs": [
    {
     "data": {
      "text/plain": [
       "0.000463991896118919"
      ]
     },
     "execution_count": 29,
     "metadata": {},
     "output_type": "execute_result"
    }
   ],
   "source": [
    "# other 1-sided\n",
    "\n",
    "myt.cdf(-diff)\n"
   ]
  },
  {
   "cell_type": "markdown",
   "metadata": {},
   "source": [
    "**Conclusion:** \n",
    "\n",
    "The p-value is much smaller than $\\alpha=0.01$, therefore we REJECT the null hypothesis that the means of the populations for urban firearms mortality rate and rural firearms mortality rate are the same."
   ]
  },
  {
   "cell_type": "markdown",
   "metadata": {},
   "source": [
    "___"
   ]
  },
  {
   "cell_type": "markdown",
   "metadata": {},
   "source": [
    "**<font color=blue>Example 2</font>** Use the Student's $T$ random variable to determine a 95% confidence interval for the mean difference under the null hypothesis. Is the resulting confidence interval compatible with the observed difference of means?\n",
    "\n",
    "*Hint:* The inverse CDF function in ```scipy.stats``` is called the Percent point function (PPF) and is given by the ```ppf``` method of random variable objects."
   ]
  },
  {
   "cell_type": "markdown",
   "metadata": {},
   "source": [
    "<!-- The 95% confidence interval is the interval $[a,b]$ for which $P(T \\le a) =0.025$ and $P(T\\ge b) = 0.025$\n",
    "\n",
    "Thus\n",
    "$P(T \\le a) = F_T(a) =0.025$, which is satisfied if $a = F_{T}^{-1}(0.025)$\n",
    "\n",
    "Similarly,\n",
    "$P(T \\leq b) = 0.975$ and $P(T \\ge b) = 1 - F_T(b) +P(T=b) =1- F_T(b) =0.025$, which is satisfied if \n",
    "$b= F_{T}^{-1}(0.975)$\n",
    "\n",
    "Thus, the 95% confidence interval is: -->"
   ]
  },
  {
   "cell_type": "code",
   "execution_count": 30,
   "metadata": {},
   "outputs": [],
   "source": [
    "myt = stats.t(dof,scale = np.sqrt(sm_var))"
   ]
  },
  {
   "cell_type": "code",
   "execution_count": 31,
   "metadata": {},
   "outputs": [
    {
     "data": {
      "text/plain": [
       "-2.4582648209603426"
      ]
     },
     "execution_count": 31,
     "metadata": {},
     "output_type": "execute_result"
    }
   ],
   "source": [
    "myt.ppf(0.025) # a"
   ]
  },
  {
   "cell_type": "code",
   "execution_count": 32,
   "metadata": {},
   "outputs": [
    {
     "data": {
      "text/plain": [
       "2.4582648209603417"
      ]
     },
     "execution_count": 32,
     "metadata": {},
     "output_type": "execute_result"
    }
   ],
   "source": [
    "myt.ppf(0.975) # b"
   ]
  },
  {
   "cell_type": "code",
   "execution_count": 33,
   "metadata": {},
   "outputs": [
    {
     "data": {
      "text/plain": [
       "4.315972222222223"
      ]
     },
     "execution_count": 33,
     "metadata": {},
     "output_type": "execute_result"
    }
   ],
   "source": [
    "diff"
   ]
  },
  {
   "cell_type": "markdown",
   "metadata": {},
   "source": [
    "**Conclusion:**\n",
    "\n",
    "<!-- Since the 95% confidence interval does not contain the observed mean difference, we say it is not compatible with the assumption that this data comes from the same distribution (in particular, it is incompatible with even the means of the distributions being equal). Therefore this is a statistically significant event, therefore we reject the null hypothesis. -->"
   ]
  },
  {
   "cell_type": "markdown",
   "metadata": {},
   "source": [
    "Since 4.32 is not within the 95% confidence interval, we can reject our null hypothesis with a 95% confidence."
   ]
  },
  {
   "cell_type": "markdown",
   "metadata": {},
   "source": [
    "# Errors and Performance Tradeoffs in Hypothesis Testing\n",
    "\n",
    "* In binary hypothesis testing, there are two types of errors:\n",
    "\n",
    "    1. **False Alarm** (Type I Error, also called *False Positive*)\n",
    "        * occurs if we accept the alternate hypothesis ($H_1$), when it is not true; or reject the null hypothesis when it is in fact true.\n",
    "        * we will use the notation\n",
    "        \\begin{align*}\n",
    "        P_{fa} = P(\\text{false alarm})\n",
    "        \\end{align*}\n",
    "    \n",
    "    2. **Miss** (Type II Error, also called *False Negative*)\n",
    "        * occurs if we reject a hypothesis when it is actually true\n",
    "        * we will use the notation\n",
    "        \\begin{align*}\n",
    "        P_m = P(\\text{miss})\n",
    "        \\end{align*}\n",
    "\n",
    "* When performing a hypothesis test, there is always a tradeoff between these two types of errors\n",
    "\n",
    "* The tradeoff is controlled by choosing the significance level, $\\alpha$, to which the p-value is compared with\n",
    "    * the value $\\alpha$ is the probability that we will reject the null hypothesis, $H_0$ when it is in fact true\n",
    "    * equivalently, it is the probability of accepting the alternative hypothesis, $H_1$, when $H_1$ is false\n",
    "    \n",
    "* Even though the binary hypothesis test is usually conducted under the assumptions of $H_0$, we are usually conducting it to determine whether $H_1$ is the cause of the observed difference\n",
    "    * thus, we will consider the implications with respect to $H_1$ when labeling errors\n",
    "    * so for the case that we accept $H_1$ when it is false, we call that a **false alarm/Type I error**\n",
    "    * then $P_{fa} = \\alpha$\n",
    "    \n",
    "* Note that if we decrease $\\alpha$, then we decrease $P_{fa}$, but we also decide that the null hypothesis could be true when it is in fact false\n",
    "    * i.e., we increase the **Probability of Miss/Type II error**, $P_m$\n",
    "\n",
    "* The converse is also true."
   ]
  },
  {
   "cell_type": "markdown",
   "metadata": {},
   "source": [
    "# Binary Decisions from Continuous Data\n",
    "\n",
    "* We have many situations where we have a continuous measurement that depends on some underlying binary phenomena.\n",
    "\n",
    "* For example, we may wish to determine the presence of a disease based on the measurement of some chemical\n",
    "     * Then the distribution of the data depends on whether the disease is present or not.\n",
    "     \n",
    "* More generally, we assume the data comes from one of two continuous densities, $f_0(x|H_0)$ or $f_1(x|H_1)$, and we wish to make a decision between $H_0$ and $H_1$ based on an observed value $x$\n",
    "\n",
    "* We will choose $H_i$ if $x\\in R_i$, where $R_0$, $R_1$ are partitions of the real line\n",
    "\n",
    "* The probability of false alarm and probability of miss then depend on the decision regions $R_0$ and $R_1$\n",
    "\n",
    "* In many cases, the decision regions are determined by a single threhold $\\gamma$, like $R_0 = x < \\gamma$ and $R_1 = x > \\gamma$"
   ]
  },
  {
   "cell_type": "markdown",
   "metadata": {},
   "source": [
    "___"
   ]
  },
  {
   "cell_type": "markdown",
   "metadata": {},
   "source": [
    "**<font color=blue>Example 1</font>**\n",
    "The PSA (Prostate-Specific Antigen) values for men in their 60s without cancer are approximately Gaussian(2,$\\sigma^2=1$). The PSA values for men in their 60s with cancer are approximately Gaussian(4,$\\sigma^2=2$)."
   ]
  },
  {
   "cell_type": "code",
   "execution_count": 34,
   "metadata": {},
   "outputs": [],
   "source": [
    "def drawMAP(p0): \n",
    "    # Setup RVs\n",
    "    \n",
    "    # p0 = prior probability of a man in his 60s to not have prostate cancer\n",
    "    \n",
    "    # Set up the RVs\n",
    "    G0 = stats.norm(loc = 2, scale = np.sqrt(1)) # Distribution under H0\n",
    "    G1 = stats.norm(loc = 4, scale = np.sqrt(2)) # Distribution under H1\n",
    "    \n",
    "    x=np.linspace(-1,8,1001)\n",
    "    p1=1-p0 # prior probability (p0 is given)\n",
    "        \n",
    "    # plot the weighted densities:\n",
    "    # these are proportional to the APPs\n",
    "    plt.plot(x,p0*G0.pdf(x),label='$f_X(x|H_0)P(H_0)$')\n",
    "    plt.plot(x,p1*G1.pdf(x),label='$f_X(x|H_1)P(H_1)$')\n",
    "    \n",
    "    # Determine the regions where the APP for 0 is \n",
    "    # bigger and the APP for 1 is bigger\n",
    "    R0=x[np.where(p0*G0.pdf(x)>= p1*G1.pdf(x))]\n",
    "    R1=x[np.where(p0*G0.pdf(x)< p1*G1.pdf(x))]\n",
    "\n",
    "    # Fill under the regions found above\n",
    "    plt.fill_between(R0,p0*G0.pdf(R0),alpha=0.3,label='Decide $H_0$')\n",
    "    plt.fill_between(R1,p1*G1.pdf(R1),alpha=0.3,label='Decide $H_1$')\n",
    "    plt.legend()\n",
    "    \n",
    "    # Print the MAP threshold\n",
    "    print('Reject the Null Hypothesis H0 if PSA is >',round(R1[0],2))"
   ]
  },
  {
   "cell_type": "code",
   "execution_count": 35,
   "metadata": {},
   "outputs": [
    {
     "name": "stdout",
     "output_type": "stream",
     "text": [
      "Reject the Null Hypothesis H0 if PSA is > 3.07\n"
     ]
    },
    {
     "data": {
      "image/png": "[encoded data removed]",
      "text/plain": [
       "<Figure size 432x288 with 1 Axes>"
      ]
     },
     "metadata": {
      "needs_background": "light"
     },
     "output_type": "display_data"
    }
   ],
   "source": [
    "drawMAP(0.5)"
   ]
  },
  {
   "cell_type": "code",
   "execution_count": 36,
   "metadata": {},
   "outputs": [
    {
     "name": "stdout",
     "output_type": "stream",
     "text": [
      "Reject the Null Hypothesis H0 if PSA is > 3.58\n"
     ]
    },
    {
     "data": {
      "image/png": "[encoded data removed]",
      "text/plain": [
       "<Figure size 432x288 with 1 Axes>"
      ]
     },
     "metadata": {
      "needs_background": "light"
     },
     "output_type": "display_data"
    }
   ],
   "source": [
    "drawMAP(0.7)"
   ]
  },
  {
   "cell_type": "markdown",
   "metadata": {},
   "source": [
    "1. For $P_{fa} = 10$%, find $P_m$\n",
    "    \n",
    "<!-- \\begin{align*}\n",
    "P_{fa} &= 0.1 \\\\\n",
    "Q\\left(\\frac{\\gamma-2}{\\sqrt{\\sigma^2}}\\right) &= 0.1 \\\\\n",
    "Q\\left(\\frac{\\gamma-2}{\\sqrt{1}}\\right) &= 0.1 \\\\\n",
    "\\gamma - 2 &= Q^{-1}(0.1) \\\\\n",
    "\\gamma - 2 &= 1.28 \\\\\n",
    "\\gamma &\\approx 3.28\n",
    "\\end{align*}\n",
    "\n",
    "\\begin{align*}\n",
    "P_m = Q\\left(\\frac{4 - 3.28}{\\sqrt{2}}\\right) \\approx 0.305\n",
    "\\end{align*} -->"
   ]
  },
  {
   "cell_type": "markdown",
   "metadata": {},
   "source": [
    "2. For $P_m = 10$%, find $P_{fa}$\n",
    "\n",
    "<!-- \\begin{align*}\n",
    "P_m &= 0.1 \\\\\n",
    "Q\\left(\\frac{4 - \\gamma}{\\sqrt{2}}\\right) &= 0.1 \\\\\n",
    "\\frac{4-\\gamma}{\\sqrt{2}} &\\approx 1.28\\\\\n",
    "\\gamma &\\approx 2.19\n",
    "\\end{align*}\n",
    "\n",
    "\\begin{align*}\n",
    "P_{fa} = Q\\left(\\frac{2 - 2.19}{1}\\right) \\approx 0.425\n",
    "\\end{align*} -->"
   ]
  },
  {
   "cell_type": "markdown",
   "metadata": {},
   "source": [
    "___"
   ]
  },
  {
   "cell_type": "markdown",
   "metadata": {},
   "source": [
    "# Visualizing Tradeoffs in Hypothesis Testing: ROC Curves\n",
    "\n",
    "* We can visualize the relation between these types of errors using a ROC curve\n",
    "    * ROC stands for *receiver operating characteristic*\n",
    "    * ROC curves were developed for RADAR systems but are widely used in fields of statistical tests, such as biomedicine\n",
    "\n",
    "* In ROC curves, we do not plot $P_{fa}$ vs $P_m$\n",
    "\n",
    "* Instead:\n",
    "    * the x-axis is **FPR (false positive rate)**\n",
    "    \\begin{align*}\n",
    "    \\text{FPR}=P_{fa}\n",
    "    \\end{align*}\n",
    "    \n",
    "    * the y-axis is **TPR (true positive rate)**\n",
    "    \\begin{align*}\n",
    "    \\text{TPR}=1-P_m\n",
    "    \\end{align*}"
   ]
  },
  {
   "cell_type": "code",
   "execution_count": 37,
   "metadata": {},
   "outputs": [],
   "source": [
    "def q(x):\n",
    "    return stats.norm.sf(x)"
   ]
  },
  {
   "cell_type": "code",
   "execution_count": 49,
   "metadata": {},
   "outputs": [],
   "source": [
    "fpr = []\n",
    "tpr = []\n",
    "\n",
    "for gamma in np.linspace(0,6,100):\n",
    "    fpr += [q((gamma - 2)/np.sqrt(1))]\n",
    "    tpr += [1-q((4-gamma)/np.sqrt(2))]"
   ]
  },
  {
   "cell_type": "code",
   "execution_count": 50,
   "metadata": {},
   "outputs": [
    {
     "data": {
      "image/png": "[encoded data removed]",
      "text/plain": [
       "<Figure size 432x288 with 1 Axes>"
      ]
     },
     "metadata": {
      "needs_background": "light"
     },
     "output_type": "display_data"
    }
   ],
   "source": [
    "plt.plot(fpr, tpr)\n",
    "plt.xlabel('FPR',size = 15)\n",
    "plt.ylabel('TPR',size = 15)\n",
    "plt.title('ROC Curve', size = 15);"
   ]
  },
  {
   "cell_type": "code",
   "execution_count": 51,
   "metadata": {},
   "outputs": [
    {
     "data": {
      "image/png": "[encoded data removed]",
      "text/plain": [
       "<Figure size 432x288 with 1 Axes>"
      ]
     },
     "metadata": {
      "needs_background": "light"
     },
     "output_type": "display_data"
    }
   ],
   "source": [
    "ref = np.linspace(0,1,50)\n",
    "plt.plot(fpr, tpr)\n",
    "plt.plot(ref,ref,'--r')\n",
    "plt.xlabel('FPR',size = 15)\n",
    "plt.ylabel('TPR',size = 15)\n",
    "plt.title('ROC Curve', size = 15);"
   ]
  },
  {
   "cell_type": "code",
   "execution_count": null,
   "metadata": {},
   "outputs": [],
   "source": []
  },
  {
   "cell_type": "markdown",
   "metadata": {},
   "source": [
    "## Area Under the Curve (AUC)\n",
    "\n",
    "*Area Under Curve (AUC)* is a common measure of how good a test is. It is simply the area under the ROC curve. Random guessing can achieve the diagonal line, so the minimum AUC is 1/2. The maximum AUC is 1, which is achieved by a test that is always right; the ROC curve is along the left and top axes."
   ]
  },
  {
   "cell_type": "code",
   "execution_count": 52,
   "metadata": {},
   "outputs": [],
   "source": [
    "from sklearn.metrics import auc"
   ]
  },
  {
   "cell_type": "code",
   "execution_count": 53,
   "metadata": {},
   "outputs": [
    {
     "data": {
      "text/plain": [
       "0.8531211502972987"
      ]
     },
     "execution_count": 53,
     "metadata": {},
     "output_type": "execute_result"
    }
   ],
   "source": [
    "auc(fpr,tpr)"
   ]
  },
  {
   "cell_type": "markdown",
   "metadata": {},
   "source": [
    "**<font color=blue>Example 2</font>** Plot the performance if the variance of each PSA test is reduced by a factor of 4. What is the AUC?"
   ]
  },
  {
   "cell_type": "code",
   "execution_count": 54,
   "metadata": {},
   "outputs": [],
   "source": [
    "fpr_ex2 = []\n",
    "tpr_ex2 = []\n",
    "\n",
    "for gamma in np.linspace(0,6,100):\n",
    "    fpr_ex2 += [q((gamma - 2)/np.sqrt(1/4))]\n",
    "    tpr_ex2 += [1-q((4-gamma)/np.sqrt(2/4))]\n",
    "    "
   ]
  },
  {
   "cell_type": "code",
   "execution_count": 55,
   "metadata": {
    "scrolled": true
   },
   "outputs": [
    {
     "data": {
      "image/png": "[encoded data removed]",
      "text/plain": [
       "<Figure size 432x288 with 1 Axes>"
      ]
     },
     "metadata": {
      "needs_background": "light"
     },
     "output_type": "display_data"
    }
   ],
   "source": [
    "plt.plot(fpr,tpr, '-b'); \n",
    "plt.plot(fpr_ex2,tpr_ex2, '-r'); \n",
    "plt.plot(ref,ref,'--r')\n",
    "plt.xlabel('FPR',size = 15)\n",
    "plt.ylabel('TPR',size = 15)\n",
    "plt.title('ROC Curve', size = 15);"
   ]
  },
  {
   "cell_type": "code",
   "execution_count": 56,
   "metadata": {},
   "outputs": [
    {
     "data": {
      "text/plain": [
       "0.9894553783471083"
      ]
     },
     "execution_count": 56,
     "metadata": {},
     "output_type": "execute_result"
    }
   ],
   "source": [
    "auc(fpr_ex2,tpr_ex2)"
   ]
  },
  {
   "cell_type": "code",
   "execution_count": 61,
   "metadata": {},
   "outputs": [],
   "source": [
    "fpr_ex3 = []\n",
    "tpr_ex3 = []\n",
    "\n",
    "for gamma in np.linspace(0,6,100):\n",
    "    fpr_ex3 += [q((gamma - 1)/np.sqrt(1))]\n",
    "    tpr_ex3 += [1-q((6-gamma)/np.sqrt(2))]\n",
    "    "
   ]
  },
  {
   "cell_type": "code",
   "execution_count": 62,
   "metadata": {},
   "outputs": [
    {
     "data": {
      "image/png": "[encoded data removed]",
      "text/plain": [
       "<Figure size 432x288 with 1 Axes>"
      ]
     },
     "metadata": {
      "needs_background": "light"
     },
     "output_type": "display_data"
    }
   ],
   "source": [
    "plt.plot(fpr,tpr, '-b'); \n",
    "plt.plot(fpr_ex3,tpr_ex3, '-r'); \n",
    "plt.plot(ref,ref,'--r')\n",
    "plt.xlabel('FPR',size = 15)\n",
    "plt.ylabel('TPR',size = 15)\n",
    "plt.title('ROC Curve', size = 15);"
   ]
  },
  {
   "cell_type": "markdown",
   "metadata": {},
   "source": [
    "___"
   ]
  },
  {
   "cell_type": "markdown",
   "metadata": {},
   "source": [
    "# Testing Goodness-of-Fit\n",
    "\n",
    "The goodness of fit of a statistical model describes how well it fits a set of observations. Measures of goodness of fit typically summarize the discrepancy between observed values and the values expected under the model in question."
   ]
  },
  {
   "cell_type": "markdown",
   "metadata": {},
   "source": [
    "## Testing Whether Data Comes from a Distribution: Discrete Distributions\n",
    "\n",
    "* Given a set of random data and a proposed model, how could we determine if the data could have reasonably come from that model?\n",
    "\n",
    "* For example, given values from a six-sided die, how could you tell if the die is fair? "
   ]
  },
  {
   "cell_type": "markdown",
   "metadata": {},
   "source": [
    "#### <font color=blue>Example 3</font>"
   ]
  },
  {
   "cell_type": "code",
   "execution_count": 63,
   "metadata": {},
   "outputs": [
    {
     "data": {
      "text/plain": [
       "array([5, 4, 5, 5, 4, 1, 3, 5, 3, 1, 3, 3, 5, 2, 1, 5, 3, 6, 2, 1, 3, 3,\n",
       "       2, 1, 5, 5, 3, 4, 3, 1, 3, 6, 4, 3, 3, 3, 3, 6, 3, 6, 3, 4, 5, 4,\n",
       "       6, 2, 2, 4, 4, 3, 1, 1, 3, 1, 2, 6, 2, 1, 3, 1])"
      ]
     },
     "execution_count": 63,
     "metadata": {},
     "output_type": "execute_result"
    }
   ],
   "source": [
    "# Draw 60 values from a fair 6-sided die:\n",
    "dice = npr.randint(1,7,size = 60)\n",
    "\n",
    "dice\n"
   ]
  },
  {
   "cell_type": "code",
   "execution_count": 64,
   "metadata": {},
   "outputs": [],
   "source": [
    "vals, counts = np.unique(dice,return_counts = True)"
   ]
  },
  {
   "cell_type": "code",
   "execution_count": 66,
   "metadata": {},
   "outputs": [
    {
     "data": {
      "image/png": "[encoded data removed]",
      "text/plain": [
       "<Figure size 432x288 with 1 Axes>"
      ]
     },
     "metadata": {
      "needs_background": "light"
     },
     "output_type": "display_data"
    }
   ],
   "source": [
    "plt.bar(vals, counts/60);"
   ]
  },
  {
   "cell_type": "markdown",
   "metadata": {},
   "source": [
    "* Even after 60 rolls, the numbers still vary significantly\n",
    "\n",
    "* We could compare them to the expected values:"
   ]
  },
  {
   "cell_type": "code",
   "execution_count": 70,
   "metadata": {},
   "outputs": [
    {
     "data": {
      "image/png": "[encoded data removed]",
      "text/plain": [
       "<Figure size 432x288 with 1 Axes>"
      ]
     },
     "metadata": {
      "needs_background": "light"
     },
     "output_type": "display_data"
    }
   ],
   "source": [
    "plt.bar(vals-0.15, counts/60, width=0.2, label = 'Counts (Relative Frequency)');\n",
    "plt.bar(vals+0.15, [1/6], width=0.2, label = 'Expected Value');\n",
    "plt.legend(fontsize=15);"
   ]
  },
  {
   "cell_type": "markdown",
   "metadata": {},
   "source": [
    "#### <font color=blue>Example 4</font>\n",
    "\n",
    "The file \"baseball.pickle\" contains the birth months of major league baseball players."
   ]
  },
  {
   "cell_type": "markdown",
   "metadata": {},
   "source": [
    "> [```pickle```](https://docs.python.org/3/library/pickle.html) is a Python object serialization library."
   ]
  },
  {
   "cell_type": "code",
   "execution_count": 71,
   "metadata": {},
   "outputs": [],
   "source": [
    "import pickle"
   ]
  },
  {
   "cell_type": "code",
   "execution_count": 72,
   "metadata": {},
   "outputs": [],
   "source": [
    "pf = open('baseball.pickle','rb')"
   ]
  },
  {
   "cell_type": "code",
   "execution_count": 73,
   "metadata": {},
   "outputs": [],
   "source": [
    "df = pickle.load(pf)"
   ]
  },
  {
   "cell_type": "code",
   "execution_count": 74,
   "metadata": {},
   "outputs": [],
   "source": [
    "pf.close()"
   ]
  },
  {
   "cell_type": "code",
   "execution_count": 75,
   "metadata": {},
   "outputs": [
    {
     "data": {
      "text/html": [
       "<div>\n",
       "<style scoped>\n",
       "    .dataframe tbody tr th:only-of-type {\n",
       "        vertical-align: middle;\n",
       "    }\n",
       "\n",
       "    .dataframe tbody tr th {\n",
       "        vertical-align: top;\n",
       "    }\n",
       "\n",
       "    .dataframe thead th {\n",
       "        text-align: right;\n",
       "    }\n",
       "</style>\n",
       "<table border=\"1\" class=\"dataframe\">\n",
       "  <thead>\n",
       "    <tr style=\"text-align: right;\">\n",
       "      <th></th>\n",
       "      <th>Jan</th>\n",
       "      <th>Feb</th>\n",
       "      <th>Mar</th>\n",
       "      <th>Apr</th>\n",
       "      <th>May</th>\n",
       "      <th>Jun</th>\n",
       "      <th>Jul</th>\n",
       "      <th>Aug</th>\n",
       "      <th>Sep</th>\n",
       "      <th>Oct</th>\n",
       "      <th>Nov</th>\n",
       "      <th>Dec</th>\n",
       "    </tr>\n",
       "  </thead>\n",
       "  <tbody>\n",
       "    <tr>\n",
       "      <th>num_players</th>\n",
       "      <td>1398.0</td>\n",
       "      <td>1213.0</td>\n",
       "      <td>1350.0</td>\n",
       "      <td>1221.0</td>\n",
       "      <td>1229.0</td>\n",
       "      <td>1157.0</td>\n",
       "      <td>1317.0</td>\n",
       "      <td>1558.0</td>\n",
       "      <td>1382.0</td>\n",
       "      <td>1526.0</td>\n",
       "      <td>1406.0</td>\n",
       "      <td>1350.0</td>\n",
       "    </tr>\n",
       "  </tbody>\n",
       "</table>\n",
       "</div>"
      ],
      "text/plain": [
       "                Jan     Feb     Mar     Apr     May     Jun     Jul     Aug  \\\n",
       "num_players  1398.0  1213.0  1350.0  1221.0  1229.0  1157.0  1317.0  1558.0   \n",
       "\n",
       "                Sep     Oct     Nov     Dec  \n",
       "num_players  1382.0  1526.0  1406.0  1350.0  "
      ]
     },
     "execution_count": 75,
     "metadata": {},
     "output_type": "execute_result"
    }
   ],
   "source": [
    "df"
   ]
  },
  {
   "cell_type": "code",
   "execution_count": 76,
   "metadata": {},
   "outputs": [
    {
     "data": {
      "text/plain": [
       "array([1398., 1213., 1350., 1221., 1229., 1157., 1317., 1558., 1382.,\n",
       "       1526., 1406., 1350.])"
      ]
     },
     "execution_count": 76,
     "metadata": {},
     "output_type": "execute_result"
    }
   ],
   "source": [
    "baseball = df.loc['num_players'].to_numpy()\n",
    "baseball"
   ]
  },
  {
   "cell_type": "code",
   "execution_count": 78,
   "metadata": {},
   "outputs": [
    {
     "name": "stdout",
     "output_type": "stream",
     "text": [
      "['Jan' 'Feb' 'Mar' 'Apr' 'May' 'Jun' 'Jul' 'Aug' 'Sep' 'Oct' 'Nov' 'Dec']\n"
     ]
    }
   ],
   "source": [
    "months = df.columns.to_numpy()\n",
    "print(months)"
   ]
  },
  {
   "cell_type": "code",
   "execution_count": 80,
   "metadata": {},
   "outputs": [
    {
     "data": {
      "image/png": "[encoded data removed]",
      "text/plain": [
       "<Figure size 432x288 with 1 Axes>"
      ]
     },
     "metadata": {
      "needs_background": "light"
     },
     "output_type": "display_data"
    }
   ],
   "source": [
    "plt.bar(months, baseball);"
   ]
  },
  {
   "cell_type": "markdown",
   "metadata": {},
   "source": [
    "Observations and Comments:\n",
    "\n",
    "* Note that more MLB players are born in August than any other month\n",
    "\n",
    "* Some people claim that this is because in little league baseball through 2006, the cutoff for determing a player's age eligibility was July 31st\n",
    "\n",
    "* That is, a player who was turning 9 that year would not be eligible to play in the 8 & Under league if their birthday was before August 1st. \n",
    "\n",
    "* Thus, players with July birthdays were the youngest (and, on average, smallest) in their leagues, and player with August birthdays were the oldest (and, on average, largest)"
   ]
  }
 ],
 "metadata": {
  "kernelspec": {
   "display_name": "Python 3 (ipykernel)",
   "language": "python",
   "name": "python3"
  },
  "language_info": {
   "codemirror_mode": {
    "name": "ipython",
    "version": 3
   },
   "file_extension": ".py",
   "mimetype": "text/x-python",
   "name": "python",
   "nbconvert_exporter": "python",
   "pygments_lexer": "ipython3",
   "version": "3.8.13"
  },
  "latex_envs": {
   "LaTeX_envs_menu_present": true,
   "autoclose": false,
   "autocomplete": true,
   "bibliofile": "biblio.bib",
   "cite_by": "apalike",
   "current_citInitial": 1,
   "eqLabelWithNumbers": true,
   "eqNumInitial": 1,
   "hotkeys": {
    "equation": "Ctrl-E",
    "itemize": "Ctrl-I"
   },
   "labels_anchors": false,
   "latex_user_defs": false,
   "report_style_numbering": false,
   "user_envs_cfg": false
  },
  "varInspector": {
   "cols": {
    "lenName": 16,
    "lenType": 16,
    "lenVar": 40
   },
   "kernels_config": {
    "python": {
     "delete_cmd_postfix": "",
     "delete_cmd_prefix": "del ",
     "library": "var_list.py",
     "varRefreshCmd": "print(var_dic_list())"
    },
    "r": {
     "delete_cmd_postfix": ") ",
     "delete_cmd_prefix": "rm(",
     "library": "var_list.r",
     "varRefreshCmd": "cat(var_dic_list()) "
    }
   },
   "types_to_exclude": [
    "module",
    "function",
    "builtin_function_or_method",
    "instance",
    "_Feature"
   ],
   "window_display": false
  }
 },
 "nbformat": 4,
 "nbformat_minor": 4
}
