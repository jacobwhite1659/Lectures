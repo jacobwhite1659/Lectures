{
 "cells": [
  {
   "cell_type": "markdown",
   "metadata": {},
   "source": [
    "# Lecture 21 - supplementary\n",
    "- Norms of Vectors\n",
    "- Distances\n",
    "- Angles"
   ]
  },
  {
   "cell_type": "code",
   "execution_count": null,
   "metadata": {},
   "outputs": [],
   "source": [
    "import numpy as np\n",
    "import pandas as pd\n",
    "import scipy.stats as stats\n",
    "import matplotlib.pyplot as plt\n",
    "%matplotlib inline\n",
    "plt.style.use('bmh')"
   ]
  },
  {
   "cell_type": "markdown",
   "metadata": {},
   "source": [
    "# Norm of Vectors"
   ]
  },
  {
   "cell_type": "code",
   "execution_count": null,
   "metadata": {},
   "outputs": [],
   "source": [
    "def plotvec(*argv):\n",
    "    colors=['b','k','r','g','c','m']\n",
    "    xmin=0\n",
    "    xmax=-1000000\n",
    "    ymin=0\n",
    "    ymax=-1000000\n",
    "    origin=[0,0]\n",
    "    plt.figure()\n",
    "    for e in enumerate(argv):\n",
    "        i=e[0]\n",
    "        arg=e[1]\n",
    "        plt.quiver(*origin,*arg,angles='xy',scale_units='xy',scale=1,\n",
    "                   color=colors[i%len(colors)])\n",
    "        xmin=min(xmin,arg[0])\n",
    "        xmax=max(xmax,arg[0])\n",
    "        ymin=min(ymin,arg[1])\n",
    "        ymax=max(ymax,arg[1])\n",
    "    plt.xlim(min(-1, xmin-1), max(1,xmax+1))\n",
    "    plt.ylim(min(-1,ymin-1),max(1,ymax+1))"
   ]
  },
  {
   "cell_type": "markdown",
   "metadata": {
    "slideshow": {
     "slide_type": "subslide"
    }
   },
   "source": [
    "## Euclidean Norm\n",
    "\n",
    "<div class=\"alert alert-info\">\n",
    "  <strong>Euclidean Norm</strong>\n",
    "\n",
    "The **Euclidean norm** of an $n$-vector $\\mathbf{x}$, denoted $\\Vert \\mathbf{x}\\Vert$, is the square-root of the inner product of the vector with itself, i.e. \n",
    "\n",
    "\\begin{align*}\n",
    "\\Vert\\mathbf{x}\\Vert = \\sqrt{\\mathbf{x}^T\\mathbf{x}} = \\sqrt{x_1^2+x_2^2+\\cdots+x_n^2}=\\left(x_1^2+x_2^2+\\cdots+x_n^2\\right)^{1/2}\n",
    "\\end{align*}\n",
    "</div>"
   ]
  },
  {
   "cell_type": "markdown",
   "metadata": {
    "slideshow": {
     "slide_type": "subslide"
    }
   },
   "source": [
    "The Euclidean norm of the vector $\\mathbf{x}$ is sometimes written with a subscript 2, as $\\Vert\\mathbf{x}\\Vert_2$. (The subscript 2 indicates that the entries of $\\mathbf{x}$ are raised to the second power.)\n",
    "\n",
    "The Euclidean norm of the vector is also known as the **L2-norm**."
   ]
  },
  {
   "cell_type": "markdown",
   "metadata": {
    "slideshow": {
     "slide_type": "subslide"
    }
   },
   "source": [
    "Things we can do with Euclidean norm (or L2-norm):\n",
    "* Compute *length* of a vector: $\\text{length}(\\mathbf{x}) = \\Vert\\mathbf{x}\\Vert = \\sqrt{x_1^2 + \\cdots+x_n^2}$\n",
    "* Compute *distance* between vectors: $d(\\mathbf{x},\\mathbf{y}) = \\Vert\\mathbf{x}-\\mathbf{y}\\Vert$\n",
    "* Relate inner products to norm, **Cauchy-Schwarz inequality**: $|\\mathbf{x}^T\\mathbf{y}|\\leq \\Vert\\mathbf{x}\\Vert \\Vert\\mathbf{y}\\Vert$ "
   ]
  },
  {
   "cell_type": "markdown",
   "metadata": {
    "slideshow": {
     "slide_type": "subslide"
    }
   },
   "source": [
    "**Properties of Euclidean Norm.** Let $\\mathbf{x}$ and $\\mathbf{y}$ be two vectors and $\\beta$ a scalar\n",
    "\n",
    "1. Nonnegative Homogeneity: $\\Vert \\beta\\mathbf{x}\\Vert = |\\beta|\\times\\Vert\\mathbf{x}\\Vert$\n",
    "\n",
    "2. Nonnegativity: $\\Vert\\mathbf{x}\\Vert \\geq 0$\n",
    "\n",
    "3. Definiteness: $\\Vert\\mathbf{x}\\Vert = 0$ only if $\\mathbf{x}=\\mathbf{0}$"
   ]
  },
  {
   "cell_type": "markdown",
   "metadata": {
    "slideshow": {
     "slide_type": "subslide"
    }
   },
   "source": [
    "<div class=\"alert alert-info\">\n",
    "    \n",
    "**Triangle Inequality**: $\\Vert\\mathbf{x}+\\mathbf{y}\\Vert \\leq \\Vert\\mathbf{x}\\Vert + \\Vert\\mathbf{y}\\Vert$\n",
    "\n",
    "</div>\n",
    "\n",
    "where \n",
    "\\begin{align*}\n",
    "\\Vert\\mathbf{x}+\\mathbf{y}\\Vert^2 &= (\\mathbf{x}+\\mathbf{y})^T(\\mathbf{x}+\\mathbf{y})\\\\\n",
    "&= \\mathbf{x}^T\\mathbf{x} + \\mathbf{x}^T\\mathbf{y} + \\mathbf{y}^T\\mathbf{x}+\\mathbf{y}^T\\mathbf{y}\\\\\n",
    "&= \\Vert\\mathbf{x}\\Vert^2 + 2\\mathbf{x}^T\\mathbf{y} + \\Vert\\mathbf{y}\\Vert^2\n",
    "\\end{align*}"
   ]
  },
  {
   "cell_type": "markdown",
   "metadata": {
    "slideshow": {
     "slide_type": "subslide"
    }
   },
   "source": [
    "Let's understand this property (**Triangle Inequality**) better using the virtual whiteboard."
   ]
  },
  {
   "cell_type": "markdown",
   "metadata": {
    "slideshow": {
     "slide_type": "slide"
    }
   },
   "source": [
    "# Distances\n",
    "\n",
    "## Euclidean Distance\n",
    "\n",
    "<div class=\"alert alert-info\">\n",
    "  <strong>Euclidean Distance</strong>\n",
    "\n",
    "We already know how to compute **Euclidean distance** between vectors, $\\mathbf{x}$ and $\\mathbf{y}$, in an Euclidean geometry:\n",
    "\n",
    "$$d(\\mathbf{x},\\mathbf{y}) = \\Vert\\mathbf{x}-\\mathbf{y}\\Vert$$\n",
    "\n",
    "The Euclidean distance corresponds to the shortest line that connects the two vectors $\\mathbf{x}$ and $\\mathbf{y}$.\n",
    "</div>"
   ]
  },
  {
   "cell_type": "code",
   "execution_count": null,
   "metadata": {},
   "outputs": [],
   "source": [
    "from sklearn.datasets import make_blobs\n",
    "\n",
    "n_samples = 1500\n",
    "X, T = make_blobs(n_samples=n_samples,centers=1,cluster_std=1)\n",
    "\n",
    "plt.scatter(X[:,0],X[:,1],c=T)\n",
    "plt.xlabel('Variable/feature 1',size=15)\n",
    "plt.ylabel('Variable/feature 2',size=15);"
   ]
  },
  {
   "cell_type": "code",
   "execution_count": null,
   "metadata": {},
   "outputs": [],
   "source": []
  },
  {
   "cell_type": "code",
   "execution_count": null,
   "metadata": {},
   "outputs": [],
   "source": [
    "plt.scatter(X[:,0],X[:,1],c=T)\n",
    "plt.scatter(mu[0],mu[1],s=100,marker='x',c='r')\n",
    "plt.xlabel('Variable/feature 1',size=15)\n",
    "plt.ylabel('Variable/feature 2',size=15);"
   ]
  },
  {
   "cell_type": "code",
   "execution_count": null,
   "metadata": {},
   "outputs": [],
   "source": []
  },
  {
   "cell_type": "code",
   "execution_count": null,
   "metadata": {},
   "outputs": [],
   "source": []
  },
  {
   "cell_type": "code",
   "execution_count": null,
   "metadata": {},
   "outputs": [],
   "source": []
  },
  {
   "cell_type": "code",
   "execution_count": null,
   "metadata": {},
   "outputs": [],
   "source": []
  },
  {
   "cell_type": "code",
   "execution_count": null,
   "metadata": {},
   "outputs": [],
   "source": []
  },
  {
   "cell_type": "code",
   "execution_count": null,
   "metadata": {},
   "outputs": [],
   "source": []
  },
  {
   "cell_type": "code",
   "execution_count": null,
   "metadata": {},
   "outputs": [],
   "source": []
  },
  {
   "cell_type": "code",
   "execution_count": null,
   "metadata": {},
   "outputs": [],
   "source": []
  },
  {
   "cell_type": "code",
   "execution_count": null,
   "metadata": {},
   "outputs": [],
   "source": []
  },
  {
   "cell_type": "code",
   "execution_count": null,
   "metadata": {},
   "outputs": [],
   "source": []
  },
  {
   "cell_type": "markdown",
   "metadata": {},
   "source": [
    "## Mahalanobis Distance\n",
    "\n",
    "Suppose you have data that looks like this:"
   ]
  },
  {
   "cell_type": "code",
   "execution_count": null,
   "metadata": {},
   "outputs": [],
   "source": [
    "X = np.dot(X, [[0.60834549, -0.63667341], [-0.40887718, 0.85253229]]) \n",
    "\n",
    "plt.scatter(X[:,0],X[:,1],c=T)\n",
    "plt.xlabel('Variable/feature 1',size=15)\n",
    "plt.ylabel('Variable/feature 2',size=15);"
   ]
  },
  {
   "cell_type": "code",
   "execution_count": null,
   "metadata": {},
   "outputs": [],
   "source": [
    "mu = np.mean(X, axis=0)\n",
    "\n",
    "plt.scatter(X[:,0],X[:,1],c=T)\n",
    "plt.scatter(mu[0],mu[1],s=100,marker='x',c='r')\n",
    "plt.xlabel('Variable/feature 1',size=15)\n",
    "plt.ylabel('Variable/feature 2',size=15);"
   ]
  },
  {
   "cell_type": "markdown",
   "metadata": {},
   "source": [
    "We could use the information that the variables are linearly dependent, but using the covariance matrix!\n",
    "\n",
    "<div class=\"alert alert-info\">\n",
    "  <strong>Mahalanobis Distance</strong>\n",
    "\n",
    "The **Mahalanobis distance** between vectors, $\\mathbf{x}$ and $\\mathbf{y}$ is defined as:\n",
    "\n",
    "$$d(\\mathbf{x},\\mathbf{y}) = \\sqrt{(\\mathbf{x}-\\mathbf{y})^T\\mathbf{K}^{-1}(\\mathbf{x}-\\mathbf{y})}$$\n",
    "\n",
    "where $K=\\operatorname{cov}(\\mathbf{x},\\mathbf{y})$, and $K^{-1}$ is the inverse of the covariance matrix. **We will define inverse of matrices later**.\n",
    "</div>"
   ]
  },
  {
   "cell_type": "code",
   "execution_count": null,
   "metadata": {},
   "outputs": [],
   "source": []
  },
  {
   "cell_type": "code",
   "execution_count": null,
   "metadata": {},
   "outputs": [],
   "source": []
  },
  {
   "cell_type": "markdown",
   "metadata": {
    "slideshow": {
     "slide_type": "subslide"
    }
   },
   "source": [
    "## Spherical Distance\n",
    "\n",
    "Suppose you are computing the distance between two cities on Earth (e.g. Los Angeles and Gainesville), do you think the Euclidean distance would be an *appropriate* distance metric?\n",
    "\n",
    "The Earth has a spherical/elliptical geometry and so we cannot capture such a curvature with Euclidean distance. For this cases, we need to use **spherical distance**."
   ]
  },
  {
   "cell_type": "markdown",
   "metadata": {
    "slideshow": {
     "slide_type": "subslide"
    }
   },
   "source": [
    "## Angle between Vectors\n",
    "\n",
    "The angle between two nonzero vectors $\\mathbf{x}$ and $\\mathbf{y}$ is defined as\n",
    "\n",
    "$$\\theta = \\angle(\\mathbf{x},\\mathbf{y}) = \\arccos\\left(\\frac{\\mathbf{x}^T\\mathbf{y}}{\\Vert\\mathbf{x}\\Vert \\Vert\\mathbf{y}\\Vert}\\right)$$\n",
    "\n",
    "where $\\arccos$ denotes the inverse cosine, normalized to lie in the interval $[0,\\pi]$. (The default angle unit is radians; $360^{\\circ}$ is $2\\pi$ radians.)"
   ]
  },
  {
   "cell_type": "markdown",
   "metadata": {
    "slideshow": {
     "slide_type": "subslide"
    }
   },
   "source": [
    "In other words, we define $\\theta$ as the unique number between $0$ and $\\pi$ that satisfies\n",
    "\n",
    "$$\\mathbf{x}^T\\mathbf{y} = \\Vert\\mathbf{x}\\Vert \\Vert\\mathbf{y}\\Vert\\cos \\theta$$"
   ]
  },
  {
   "cell_type": "markdown",
   "metadata": {},
   "source": [
    "<div class=\"alert alert-info\">\n",
    "  <strong>Cosine Distance</strong>\n",
    "\n",
    "The **cosine distance** between vectors, $\\mathbf{x}$ and $\\mathbf{y}$ is defined as:\n",
    "\n",
    "$$d(\\mathbf{x},\\mathbf{y}) = 1 - \\cos(\\theta) = 1 - \\frac{\\mathbf{x}^T\\mathbf{y}}{\\Vert\\mathbf{x}\\Vert\\Vert\\mathbf{y}\\Vert}$$\n",
    "    \n",
    "where $\\theta=\\angle(\\mathbf{x},\\mathbf{y})$ is the angle between $\\mathbf{x}$ and $\\mathbf{y}$. \n",
    "    \n",
    "* If the two vectors have a small angle between them, the cosine of that angle will be close to 1, then they are said to be **similar**. Therefore their difference will approach 0.\n",
    "</div>"
   ]
  },
  {
   "cell_type": "markdown",
   "metadata": {
    "slideshow": {
     "slide_type": "subslide"
    }
   },
   "source": [
    "* The angle is a **symmetric**: $\\angle(\\mathbf{x},\\mathbf{y}) = \\angle(\\mathbf{y},\\mathbf{x})$. \n",
    "\n",
    "* The angle is not affected by scaling each of the vectors by a positive scalar: $\\angle(\\alpha\\mathbf{x},\\beta\\mathbf{y}) = \\angle(\\mathbf{x},\\mathbf{y})$"
   ]
  },
  {
   "cell_type": "markdown",
   "metadata": {
    "slideshow": {
     "slide_type": "subslide"
    }
   },
   "source": [
    "For example, the the angle between the vectors $\\mathbf{x} = [1,2,1]^T$ and $\\mathbf{y}=[2,0,3]^T$ is\n",
    "\n",
    "$$\\arccos\\left(\\frac{5}{\\sqrt{6}\\sqrt{13}}\\right) \\simeq \\arccos(0.5661) \\simeq 0.9689 \\simeq 55.52^{\\circ}$$"
   ]
  },
  {
   "cell_type": "code",
   "execution_count": null,
   "metadata": {
    "slideshow": {
     "slide_type": "subslide"
    }
   },
   "outputs": [],
   "source": []
  },
  {
   "cell_type": "code",
   "execution_count": null,
   "metadata": {},
   "outputs": [],
   "source": []
  },
  {
   "cell_type": "code",
   "execution_count": null,
   "metadata": {},
   "outputs": [],
   "source": []
  },
  {
   "cell_type": "code",
   "execution_count": null,
   "metadata": {},
   "outputs": [],
   "source": []
  },
  {
   "cell_type": "markdown",
   "metadata": {},
   "source": [
    "<div class=\"alert alert-info\">\n",
    "  <strong>Spherical Distance</strong>\n",
    "\n",
    "The **spherical distance** between vectors, $\\mathbf{x}$ and $\\mathbf{y}$ is defined as:\n",
    "\n",
    "$$d(\\mathbf{x},\\mathbf{y}) = r\\times\\theta$$\n",
    "    \n",
    "where $\\theta=\\angle(\\mathbf{x},\\mathbf{y})$ is the angle between $\\mathbf{x}$ and $\\mathbf{y}$, and $r$ is the radius of the sphere (or cicumference).\n",
    "</div>"
   ]
  },
  {
   "cell_type": "code",
   "execution_count": null,
   "metadata": {},
   "outputs": [],
   "source": []
  },
  {
   "cell_type": "markdown",
   "metadata": {
    "slideshow": {
     "slide_type": "subslide"
    }
   },
   "source": [
    "* If the angle is $\\pi/2 = 90^{\\circ}$, i.e., $\\mathbf{\\overrightarrow{x}}^T\\mathbf{\\overrightarrow{y}}=0$, the vectors are said to be **orthogonal**.\n",
    "\n",
    "We write $\\mathbf{\\overrightarrow{x}}\\perp \\mathbf{\\overrightarrow{y}}$ if $\\mathbf{\\overrightarrow{x}}$ and $\\mathbf{\\overrightarrow{y}}$ are orthogonal."
   ]
  },
  {
   "cell_type": "markdown",
   "metadata": {
    "slideshow": {
     "slide_type": "subslide"
    }
   },
   "source": [
    "As so, the **spherical distance** between two vectors $\\mathbf{\\overrightarrow{x}}$ and $\\mathbf{\\overrightarrow{y}}$ is given by $R\\times \\angle(\\mathbf{\\overrightarrow{x}},\\mathbf{\\overrightarrow{y}})$, where $R$ is the radius of the sphere."
   ]
  },
  {
   "cell_type": "markdown",
   "metadata": {
    "slideshow": {
     "slide_type": "subslide"
    }
   },
   "source": [
    "* If the angle is zero, which means $\\mathbf{\\overrightarrow{x}}^T\\mathbf{\\overrightarrow{y}} = \\Vert\\mathbf{\\overrightarrow{x}}\\Vert \\Vert\\mathbf{\\overrightarrow{y}}\\Vert$, the vectors are **aligned**. Each vector is a positive multiple of the other.\n",
    "\n",
    "* If the angle is $\\pi=180^{\\circ}$, which means $\\mathbf{\\overrightarrow{x}}^T\\mathbf{\\overrightarrow{y}} = -\\Vert\\mathbf{\\overrightarrow{x}}\\Vert \\Vert\\mathbf{\\overrightarrow{y}}\\Vert$, the vectors are **anti-aligned**. Each vector is a negative multiple of the other."
   ]
  },
  {
   "cell_type": "markdown",
   "metadata": {
    "slideshow": {
     "slide_type": "subslide"
    }
   },
   "source": [
    "* If $\\angle(\\mathbf{\\overrightarrow{x}},\\mathbf{\\overrightarrow{y}}) < \\pi/2 = 90^{\\circ}$, the vectors are said to make an **acute angle**. This is the same as $\\mathbf{\\overrightarrow{x}}^T\\mathbf{\\overrightarrow{y}}>0$, i.e., the vectors have positive inner product.\n",
    "\n",
    "* If  $\\angle(\\mathbf{\\overrightarrow{x}},\\mathbf{\\overrightarrow{y}}) > \\pi/2 = 90^{\\circ}$, the vectors are said to make an **obtuse angle**. This is the same as $\\mathbf{\\overrightarrow{x}}^T\\mathbf{\\overrightarrow{y}}<0$, i.e., the vectors have negative inner product."
   ]
  },
  {
   "cell_type": "markdown",
   "metadata": {
    "slideshow": {
     "slide_type": "subslide"
    }
   },
   "source": [
    "#### Other Applications of Angles between Vectors\n",
    "\n",
    "1. We have mentioned spherical distances. This type of distance is also commonly referred to as **geodesic distances** (shortest path on a curved surface).\n",
    "2. Document similarity via angles. If n-vectors $\\mathbf{\\overrightarrow{x}}$ and $\\mathbf{\\overrightarrow{y}}$ represent the word counts for two documents, their angle $\\angle(\\mathbf{\\overrightarrow{x}},\\mathbf{\\overrightarrow{y}})$ can be used as a measure of document dissimilarity. \n",
    "3. Clustering."
   ]
  },
  {
   "cell_type": "code",
   "execution_count": null,
   "metadata": {},
   "outputs": [],
   "source": [
    "a=np.array([[1,2]])\n",
    "b=np.array([[-2,3]])\n",
    "c=np.array([[-1,0]])\n",
    "\n",
    "plotvec(a[0,:],b[0,:], c[0,:])"
   ]
  },
  {
   "cell_type": "code",
   "execution_count": null,
   "metadata": {},
   "outputs": [],
   "source": [
    "print('Euclidean distance:', )\n",
    "print('Cosine distance:', )"
   ]
  },
  {
   "cell_type": "code",
   "execution_count": null,
   "metadata": {},
   "outputs": [],
   "source": [
    "print('Euclidean distance:', )\n",
    "print('Cosine distance:', )"
   ]
  }
 ],
 "metadata": {
  "kernelspec": {
   "display_name": "Python 3",
   "language": "python",
   "name": "python3"
  },
  "language_info": {
   "codemirror_mode": {
    "name": "ipython",
    "version": 3
   },
   "file_extension": ".py",
   "mimetype": "text/x-python",
   "name": "python",
   "nbconvert_exporter": "python",
   "pygments_lexer": "ipython3",
   "version": "3.8.8"
  },
  "latex_envs": {
   "LaTeX_envs_menu_present": true,
   "autoclose": true,
   "autocomplete": true,
   "bibliofile": "biblio.bib",
   "cite_by": "apalike",
   "current_citInitial": 1,
   "eqLabelWithNumbers": true,
   "eqNumInitial": 1,
   "hotkeys": {
    "equation": "Ctrl-E",
    "itemize": "Ctrl-I"
   },
   "labels_anchors": false,
   "latex_user_defs": false,
   "report_style_numbering": false,
   "user_envs_cfg": false
  },
  "varInspector": {
   "cols": {
    "lenName": 16,
    "lenType": 16,
    "lenVar": 40
   },
   "kernels_config": {
    "python": {
     "delete_cmd_postfix": "",
     "delete_cmd_prefix": "del ",
     "library": "var_list.py",
     "varRefreshCmd": "print(var_dic_list())"
    },
    "r": {
     "delete_cmd_postfix": ") ",
     "delete_cmd_prefix": "rm(",
     "library": "var_list.r",
     "varRefreshCmd": "cat(var_dic_list()) "
    }
   },
   "types_to_exclude": [
    "module",
    "function",
    "builtin_function_or_method",
    "instance",
    "_Feature"
   ],
   "window_display": false
  }
 },
 "nbformat": 4,
 "nbformat_minor": 2
}
