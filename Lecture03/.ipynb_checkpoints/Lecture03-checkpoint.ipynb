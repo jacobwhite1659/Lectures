{
 "cells": [
  {
   "cell_type": "markdown",
   "metadata": {},
   "source": [
    "# Lecture 3 - Conditional Probability, Total Probability"
   ]
  },
  {
   "cell_type": "markdown",
   "metadata": {},
   "source": [
    "Summary from last class:\n",
    "\n",
    "1. Defined a **probabilistic model**, a mathematical description to characterize *uncertainty*. A probabilistic model is the triple $(\\Omega,\\mathcal{F},P)$, where $\\Omega$ is the sample space, $\\mathcal{F}$ is the event class and $P$ is a real-valued function that maps all elements of $\\mathcal{F}$ onto $\\mathbb{R}$.\n",
    "\n",
    "2. Defined **axioms of probability**:\n",
    "    * $\\forall E\\in\\mathcal{F}, P(E)\\geq 0$\n",
    "    * $P(\\Omega)=1$\n",
    "    * $\\forall E, F \\in \\mathcal{F}, P(E\\cup F) = P(E) + P(F)$ if $E$ and $F$ are mutually exclusive, that is, $E\\cap F =\\emptyset$\n",
    "    * If $A_1,A_2,\\dots$ is a sequence of event such that $A_i\\cap A_j = \\emptyset, \\forall i\\neq j$, then\n",
    "\n",
    "$$P\\left(\\bigcup_{k=1}^{\\infty} A_k\\right) = \\sum_{k=1}^{\\infty} P(A_k)$$\n",
    "\n",
    "3. Derived **corollaries** from these axioms:\n",
    "    * $P(A^c) = 1 - P(A)$\n",
    "    * $P(A) \\leq 1$\n",
    "    * $P(\\emptyset) = 0 $\n",
    "    * $P(A\\cup B) = P(A) + P(B) - P(A\\cap B)$\n",
    "    * If $A\\subset B$, then $P(A)\\leq P(B)$\n",
    "    * If $A_1,A_2,\\dots,A_n$ are pairwise mutually exclusive, then $P\\left(\\bigcup_{k=1}^n A_k\\right) = \\sum_{k=1}^n P(A_k)$. Proof is by induction.\n",
    "    * $P\\left(\\bigcup_{k=1}^n A_k\\right) = \\sum_{k=1}^n P(A_j) - \\sum_{j<k} P(A_j\\cap A_k) + \\dots + (-1)^{(n+1)}P(A_1\\cap A_2 \\cap \\dots\\cap A_n)$\n",
    "    \n",
    "4. Learned that an experiment is **fair** if every outcome is equally likely.\n",
    "\n",
    "5. Defined probability as a measure of frequency of occurrence (**frequentist view**). When the sample space $\\Omega$ has a finite number of equally likely outcomes, the probability of an event $E\\subset \\Omega$, is given by \n",
    "$$P(E) = \\frac{|E|}{|\\Omega|} = \\frac{\\text{number of elements in }E}{\\text{number of elements in }\\Omega}$$"
   ]
  },
  {
   "cell_type": "markdown",
   "metadata": {},
   "source": [
    "___"
   ]
  },
  {
   "cell_type": "markdown",
   "metadata": {},
   "source": [
    "# Discrete and Continuous Probabilistic Models\n",
    "\n",
    "## Discrete Sequential Models\n",
    "\n",
    "A **sequential model** is a type of experiment that has an inherent sequential character. For example:\n",
    "\n",
    "* Flipping a coin 3 times\n",
    "* Receiving eight successive digits at a communication receiver\n",
    "* Observing the value of a stock on five successive days\n",
    "\n",
    "This type of models are also characterized by probabilistic model that must obey the set of axioms and derived corollaries.\n",
    "\n",
    "It is often useful to describe a sequential model experiment in a **tree-based sequential description**. \n",
    "\n",
    "**Let's use the virtual whiteboard to work through some examples to demonstrate the tree-based description of this type of experiments.**\n",
    "\n",
    "**<font color=blue>Example 1:</font>** Consider the experiment where we flip a fair coin 2 times.\n",
    "\n",
    "* What is the sample space? Remember that different elements of the sample space should be distinct and mutually exclusive.\n",
    "* What is the probability for each possible outcome?"
   ]
  },
  {
   "cell_type": "markdown",
   "metadata": {},
   "source": [
    "**<font color=blue>Example 2:</font>** Consider the experiment where we roll a 6-sided fair die 2 times and the event $E\\equiv$observing a 1 or 2 on either roll.\n",
    "\n",
    "* What is the sample space?\n",
    "* What are the outcomes of event $E$?\n",
    "* What is the probability of event $E$?"
   ]
  },
  {
   "cell_type": "code",
   "execution_count": 1,
   "metadata": {},
   "outputs": [],
   "source": [
    "import random\n",
    "import numpy as np\n",
    "import numpy.random as npr\n",
    "import matplotlib.pyplot as plt\n",
    "%matplotlib inline\n",
    "plt.style.use('ggplot')"
   ]
  },
  {
   "cell_type": "code",
   "execution_count": null,
   "metadata": {},
   "outputs": [],
   "source": [
    "\n",
    "\n",
    "\n",
    "\n",
    "    \n",
    "print(\"Probability of getting a 1 or 2 on either roll \\\n",
    "when rolling a fair 6-sided die twice= \", \n",
    "     event/num_sims)\n",
    "print('True probability is ', ##)"
   ]
  },
  {
   "cell_type": "code",
   "execution_count": null,
   "metadata": {},
   "outputs": [],
   "source": [
    "# Alternatively\n",
    "\n"
   ]
  },
  {
   "cell_type": "code",
   "execution_count": null,
   "metadata": {},
   "outputs": [],
   "source": []
  },
  {
   "cell_type": "code",
   "execution_count": null,
   "metadata": {},
   "outputs": [],
   "source": []
  },
  {
   "cell_type": "code",
   "execution_count": null,
   "metadata": {},
   "outputs": [],
   "source": []
  },
  {
   "cell_type": "code",
   "execution_count": null,
   "metadata": {},
   "outputs": [],
   "source": [
    "\n",
    "\n",
    "\n",
    "\n",
    "print(\"Probability of getting a 1 or 2 on either roll \\\n",
    "when rolling a fair 6-sided die twice= \", \n",
    "     event/num_sims)\n",
    "print('True probability is ', ##)"
   ]
  },
  {
   "cell_type": "markdown",
   "metadata": {},
   "source": [
    "**<font color=blue>Example 3:</font>** Consider the experiment where we roll a 6-sided fair die 2 times and the event $E\\equiv$at least one roll is 4.\n",
    "\n",
    "* What is the sample space?\n",
    "* What are the outcomes of event $E$?\n",
    "* What is the probability of event $E$?"
   ]
  },
  {
   "cell_type": "code",
   "execution_count": null,
   "metadata": {},
   "outputs": [],
   "source": []
  },
  {
   "cell_type": "code",
   "execution_count": null,
   "metadata": {},
   "outputs": [],
   "source": []
  },
  {
   "cell_type": "code",
   "execution_count": null,
   "metadata": {},
   "outputs": [],
   "source": []
  },
  {
   "cell_type": "code",
   "execution_count": null,
   "metadata": {},
   "outputs": [],
   "source": []
  },
  {
   "cell_type": "code",
   "execution_count": null,
   "metadata": {},
   "outputs": [],
   "source": [
    "\n",
    "\n",
    "\n",
    "\n",
    "print(\"Probability of getting at one roll as 4 when rolling a fair 6-sided die twice= \", \n",
    "     event/num_sims)\n",
    "print('True probability is ', ##)"
   ]
  },
  {
   "cell_type": "markdown",
   "metadata": {},
   "source": [
    "**<font color=blue>Example 4:</font>** Consider the experiment where we flip a fair coin 3 times and the event $E\\equiv$observing heads in the 2nd flip.\n",
    "\n",
    "* What is the sample space?\n",
    "* What are the outcomes of event $E$?\n",
    "* What is the probability of event $E$?"
   ]
  },
  {
   "cell_type": "code",
   "execution_count": null,
   "metadata": {},
   "outputs": [],
   "source": []
  },
  {
   "cell_type": "code",
   "execution_count": null,
   "metadata": {},
   "outputs": [],
   "source": [
    "\n",
    "\n",
    "\n",
    "\n",
    "print(\"Probability of flipping a fair coin 3 times and observing heads in the 2nd flip= \", \n",
    "     event/num_sims)\n",
    "print('True probability is ', ##)"
   ]
  },
  {
   "cell_type": "markdown",
   "metadata": {},
   "source": [
    "**<font color=blue>Example 5:</font>** Consider the experiment where we flip a fair coin 3 times, the sub-experiment of counting how many times is came up heads, and the event $E\\equiv$it came up heads 2 times.\n",
    "\n",
    "* What is the sample space of the experiment?\n",
    "* What is the sample space of the sub-experiment?\n",
    "* What are the outcomes of this sub-experiment?\n",
    "* What is the probability of event $E$?"
   ]
  },
  {
   "cell_type": "code",
   "execution_count": null,
   "metadata": {},
   "outputs": [],
   "source": []
  },
  {
   "cell_type": "code",
   "execution_count": null,
   "metadata": {},
   "outputs": [],
   "source": [
    "\n",
    "\n",
    "\n",
    "\n",
    "print(\"Probability of flipping a fair coin 3 times and observing 2 heads = \", \n",
    "     event/num_sims)\n",
    "print('True probability is ', ##)"
   ]
  },
  {
   "cell_type": "markdown",
   "metadata": {},
   "source": [
    "## Continuous Models"
   ]
  },
  {
   "cell_type": "markdown",
   "metadata": {},
   "source": [
    "The way that continuous models differ from discrete ones is that the probabilities of single-element events may not be sufficient to characterize the probability law.\n",
    "\n",
    "**For example:** a wheel of fortune is continuously calibrated from 0 to 1, so the possible outcomes of an experiment consisting of a single spin are the numbers in the interval $\\Omega=[0,1]$. \n",
    "* Assuming a fair wheel, it is appropriate to consider all outcomes equally likely, but what is the probability of the event consisting of a single element? say 0.472927028..?\n",
    "* If possible events are mutually exclusive, then using the 3rd axiom of probability (also called the **Additivity axiom**), it would follow that events with a sufficiently large number of elements would have probability larger than 1.\n",
    "* Therefore, the probability of any event that consists of a single element **must** be 0.\n",
    "* It makes sense then to assign a probability of $b-1$ to any sub-interval $[a,b]$ of $[0,1]$, and to calculate the probability of a more complicated set by evaluating its \"length\". This satisfies all axioms of probability and qualifies as a legitimate probability model."
   ]
  },
  {
   "cell_type": "markdown",
   "metadata": {},
   "source": [
    "___"
   ]
  },
  {
   "cell_type": "markdown",
   "metadata": {},
   "source": [
    "## Introduction to Conditional Probability"
   ]
  },
  {
   "cell_type": "markdown",
   "metadata": {},
   "source": [
    "Consider the following scenarios:\n",
    "\n",
    "**<font color=blue>Example 6:</font> A magician has in her pocket a fair coin and a two-headed coin. She chooses one at random and flips it. What is the probability that the result is heads?**"
   ]
  },
  {
   "cell_type": "markdown",
   "metadata": {},
   "source": [
    "* Is this experiment fair? <!-- No, because the probability of each outcome (H, T) are not equal. P(H)=3/4 and P(T)=1/4 -->"
   ]
  },
  {
   "cell_type": "markdown",
   "metadata": {},
   "source": [
    "Let's compute this probability on the virtual whiteboard."
   ]
  },
  {
   "cell_type": "markdown",
   "metadata": {},
   "source": [
    "Let's build a simulation to answer this:"
   ]
  },
  {
   "cell_type": "code",
   "execution_count": null,
   "metadata": {},
   "outputs": [],
   "source": []
  },
  {
   "cell_type": "code",
   "execution_count": null,
   "metadata": {},
   "outputs": [],
   "source": []
  },
  {
   "cell_type": "markdown",
   "metadata": {},
   "source": [
    "**<font color=blue>Example 7:</font> Suppose that she chooses a coin at random. Using that coin, she flips it once and observes heads. What is the probability of observing heads in the second flip (using the same coin) if we observed heads in the first flip?**"
   ]
  },
  {
   "cell_type": "markdown",
   "metadata": {},
   "source": [
    "* How can we visualize and compute the analytical probability of this event?"
   ]
  },
  {
   "cell_type": "markdown",
   "metadata": {},
   "source": [
    "Let's compute this probability on the virtual whiteboard."
   ]
  },
  {
   "cell_type": "markdown",
   "metadata": {},
   "source": [
    "Let's build a simulation to answer this:"
   ]
  },
  {
   "cell_type": "code",
   "execution_count": null,
   "metadata": {},
   "outputs": [],
   "source": []
  },
  {
   "cell_type": "code",
   "execution_count": null,
   "metadata": {},
   "outputs": [],
   "source": []
  },
  {
   "cell_type": "markdown",
   "metadata": {},
   "source": [
    "This probability is called **conditional probability** as it provides us a way to reason about the outcome of an experiment, based on **partial information**."
   ]
  },
  {
   "cell_type": "markdown",
   "metadata": {},
   "source": [
    "For example 7, consider the event $H_i=$heads on flip i. We are asking what is the **probability of $H_2$ given $H_1$ occurred**, that is,\n",
    "\n",
    "$$P(H_2 | H_1) = \\frac{5}{6}$$"
   ]
  },
  {
   "cell_type": "markdown",
   "metadata": {},
   "source": [
    "Consider the Venn diagram:"
   ]
  },
  {
   "cell_type": "code",
   "execution_count": null,
   "metadata": {},
   "outputs": [],
   "source": [
    "from IPython.display import Image\n",
    "Image(\"figures/condProb1.png\", width=500)"
   ]
  },
  {
   "cell_type": "markdown",
   "metadata": {},
   "source": [
    "If we **condition** on $B$ having occurred, then we can form the new Venn diagram:"
   ]
  },
  {
   "cell_type": "code",
   "execution_count": null,
   "metadata": {},
   "outputs": [],
   "source": [
    "Image(\"figures/condProb2.png\", width=300)"
   ]
  },
  {
   "cell_type": "markdown",
   "metadata": {},
   "source": [
    "This diagram suggests that if $A\\cap B=\\emptyset$ then if $B$ occurs, $A$ could not have occurred."
   ]
  },
  {
   "cell_type": "markdown",
   "metadata": {},
   "source": [
    "Similarly if $B\\subset A$, then if $B$ occurs, the diagram suggests that $A$ must have occurred."
   ]
  },
  {
   "cell_type": "markdown",
   "metadata": {},
   "source": [
    "A definition of conditional probability that agrees with these and other observations is:\n",
    "\n",
    "<div class=\"alert alert-info\" role=\"alert\">\n",
    "  <strong>Conditional Probability</strong>\n",
    "    \n",
    "For $A\\in\\mathcal{F}$, $B\\in\\mathcal{F}$, the **conditional probability** of event $A$ *given* event $B$ occurred is\n",
    "    \n",
    "$$P(A|B) = \\frac{P(A\\cap B)}{P(B)},\\text{ for }P(B)>0$$ \n",
    "</div>\n",
    "\n",
    "**Claim: If $P(B)>0$, the conditional probability $P(\\bullet|B)$ satisfies the axioms on the original sample space $(\\Omega,\\mathcal{F},P(\\bullet|B))$.**"
   ]
  },
  {
   "cell_type": "markdown",
   "metadata": {},
   "source": [
    "<div class=\"alert alert-info\" role=\"alert\">\n",
    "For a fixed event $B\\neq\\emptyset$, the conditional probabilities $P(A|B)$ form a legitimate probability law that satisfies the three axioms!\n",
    "</div>"
   ]
  },
  {
   "cell_type": "markdown",
   "metadata": {},
   "source": [
    "<div class=\"alert alert-warning\">\n",
    "    <b>Relating Conditional and Unconditional Probabilities</b>\n",
    "    \n",
    "Which of the following statement is true?\n",
    "\n",
    "1. $P(A|B) \\geq P(A)$\n",
    "2. $P(A|B) \\leq P(A)$\n",
    "3. Not necessarily 1 or 2\n",
    "</div>"
   ]
  },
  {
   "cell_type": "markdown",
   "metadata": {},
   "source": [
    "**<font color=blue>Example 8:</font> A computer lab contains**\n",
    "\n",
    "* **two computers from manufacturer A, one of which is defective**\n",
    "* **three computers from manufacturer B, two of which are defective**\n",
    "    \n",
    "**A user sits down at a computer at random. Let the properties of the computer she sits down at be denoted by a two letter code, where the first letter is the manufacturer and the second letter is D for a defective computer or N for a non-defective computer. (We add a subscript to differentiate computers with the same two-letter code.)**"
   ]
  },
  {
   "cell_type": "markdown",
   "metadata": {},
   "source": [
    "* What is the sample space?\n",
    "\n",
    "$$\\Omega = \\{AD, AN, BD_1, BD_2, BN\\}$$"
   ]
  },
  {
   "cell_type": "markdown",
   "metadata": {},
   "source": [
    "Let\n",
    "* $E_A$ be the event that the selected computer is from manufacturer A\n",
    "* $E_B$ be the event that the selected computer is from manufacturer B\n",
    "* $E_D$ be the event that the selected computer is defective\n",
    "\n",
    "Let's find\n",
    "\n",
    "$$P(E_A) = $$\n",
    "\n",
    "$$P(E_B) = $$\n",
    "\n",
    "$$P(E_D) = $$"
   ]
  },
  {
   "cell_type": "markdown",
   "metadata": {},
   "source": [
    "Now, suppose that I select a computer and tell you its manufacturer. Does that influence the probability that the computer is defective?\n",
    "\n",
    "* For example, I tell you the computer is from manufacturer A. Then what is the probability that it is defective?\n"
   ]
  },
  {
   "cell_type": "markdown",
   "metadata": {},
   "source": [
    "$$P(E_D|E_A) = $$"
   ]
  },
  {
   "cell_type": "markdown",
   "metadata": {},
   "source": [
    "* Let's find:\n",
    "\n",
    "$$P(E_D | E_B) = $$\n",
    "\n",
    "$$P(E_A | E_D) = $$\n",
    "\n",
    "$$P(E_B | E_D) = $$"
   ]
  },
  {
   "cell_type": "markdown",
   "metadata": {},
   "source": [
    "## Conditional Probability for Discrete Sample Spaces with Equal Probabilities"
   ]
  },
  {
   "cell_type": "markdown",
   "metadata": {},
   "source": [
    "Consider again our simulation of the magician's coins.\n",
    "\n",
    "We directly estimated of those outcomes where the first flip was heads what proportion was the second flip heads. I.e., we did not use the definition of conditional probability, which involves a ratio of probabilities.\n",
    "\n",
    "How does that work out?"
   ]
  },
  {
   "cell_type": "markdown",
   "metadata": {},
   "source": [
    "Let $H_i$ be the event that the outcome of the $i$th flip was heads. We were trying to estimate $P(H_2|H_1)$.\n",
    "\n",
    "If we were to use the definition of conditional probability, then we would find this as\n",
    "\n",
    "$$P(H_2|H_1) = \\frac{P(H_2\\cap H_1)}{P(H_1)}$$"
   ]
  },
  {
   "cell_type": "markdown",
   "metadata": {},
   "source": [
    "If we didn't know how to solve these analytically, we could estimate them by their relative frequencies. Let:\n",
    "\n",
    "* $N$ be the number of simulations,\n",
    "* $N_1$ be the number of simulations in which the first flip is heads, and\n",
    "* $N_{12}$ be the number of simulations in which both flips are heads.\n",
    "\n",
    "Then\n",
    "\n",
    "\\begin{align*}\n",
    "P(H_2|H_1) &= \\frac{N_{12}/N}{N_1/N} \\\\\n",
    "&= \\frac{N_{12}}{N_1}\n",
    "\\end{align*}"
   ]
  },
  {
   "cell_type": "markdown",
   "metadata": {},
   "source": [
    "**<font color=blue>Example 9:</font> XOR of two independent binary values.**\n",
    "\n",
    "**Flip a fair coin with sides labeled '0' and '1' two times.**\n",
    "* **Let $E_i$ denote a '1' on the top face on flip $i$.**\n",
    "* **Let $F_i$ denote a '0' on the top face on flip $i$.**\n",
    "* **Let $G$ denote the event that the XOR of the values observed on the top faces on the two flips is '1'.**\n",
    "\n",
    "Compute:\n",
    "\n",
    "$$P(E_1) = $$\n",
    "$$P(E_2) = $$\n",
    "$$P(F) = $$\n",
    "\n",
    "$$P(E_1|E_2) = $$\n",
    "$$P(E_2|E_1) = $$\n",
    "$$P(G|E_1) = $$\n",
    "\n",
    "and\n",
    "\n",
    "$$P(G|E_1\\cap E_2) = $$"
   ]
  },
  {
   "cell_type": "markdown",
   "metadata": {},
   "source": [
    "# Chain Rule - Using Conditional Probability to Decompose Events"
   ]
  },
  {
   "cell_type": "markdown",
   "metadata": {},
   "source": [
    "Let's use the **virtual whiteboard** to depict how we can decompose conditional probability using a tree-based sequential representation."
   ]
  },
  {
   "cell_type": "markdown",
   "metadata": {},
   "source": [
    "In general, note that:\n",
    "\n",
    "$$P(A|B) = \\frac{P(A\\cap B)}{P(B)}$$\n",
    "$$\\Rightarrow P(A\\cap B) = P(A|B)P(B)$$\n",
    "\n",
    "and\n",
    "\n",
    "$$P(B|A) = \\frac{P(A\\cap B)}{P(A)}$$\n",
    "$$\\Rightarrow P(A\\cap B) = P(B|A)P(A)$$\n",
    "\n",
    "These equations $P(A\\cap B) = P(A|B)P(B)$ and $P(A\\cap B) = P(B|A)P(A)$ are known as **chain rules** for expanding the probability of the intersection of two events. "
   ]
  },
  {
   "cell_type": "markdown",
   "metadata": {},
   "source": [
    "* The chain rule can be easily generalized to more than two events:\n",
    "\n",
    "\\begin{align}\n",
    "P(A\\cap B\\cap C) &= P(A)P(B|A)P(C|A\\cap B) \\\\\n",
    "&= P(A) \\cdot\\frac{P(A\\cap B)}{P(A)} \\cdot\\frac{P(A\\cap B\\cap C)}{P(A\\cap B)}\n",
    "\\end{align}\n",
    "\n",
    "Similarly,\n",
    "\n",
    "$$P(A\\cap B\\cap C) = P(A|B\\cap C)P(B|C)P(C)$$"
   ]
  },
  {
   "cell_type": "markdown",
   "metadata": {},
   "source": [
    "<div class=\"alert alert-info\" role=\"alert\">\n",
    "  <strong>Multiplication Rule</strong>\n",
    "    \n",
    "Assuming that all of the conditioning events have positive probability, we have\n",
    "    \n",
    "$$P\\left(\\bigcap_{i=1}^n A_i\\right) = P(A_1)P(A_2|A_1)P(A_3|A_1\\cap A_2)\\dots P\\left(A_n| \\cap_{i=1}^{n-1} A_i\\right)$$\n",
    "</div>"
   ]
  },
  {
   "cell_type": "markdown",
   "metadata": {},
   "source": [
    "# Total Probability Theorem (also known as the Law of Total Probability)"
   ]
  },
  {
   "cell_type": "markdown",
   "metadata": {},
   "source": [
    "A collection of events $A_1, A_2, \\dots$ **partitions** the sample space $\\Omega$ *if and only if*\n",
    "\n",
    "$$\\Omega = \\bigcup_i A_i$$\n",
    "\n",
    "and $A_i\\cap A_j = \\emptyset, i\\neq j$, i.e., they are disjoint events."
   ]
  },
  {
   "cell_type": "markdown",
   "metadata": {},
   "source": [
    "$\\{A_i\\}$ is also said to be a **partition** of $\\Omega$."
   ]
  },
  {
   "cell_type": "markdown",
   "metadata": {},
   "source": [
    "1. Let's visualize this partition using the Venn diagram. (**virtual whiteboard**)"
   ]
  },
  {
   "cell_type": "markdown",
   "metadata": {},
   "source": [
    "2. Let's also use a Venn diagram to express an arbitrary set using a partition of $\\Omega$ (**virtual whiteboard**)"
   ]
  },
  {
   "cell_type": "markdown",
   "metadata": {},
   "source": [
    "___\n",
    "\n",
    "**<font color=blue>Example 10:</font> Suppose you have an urn containing 7 red and 3 blue balls. You draw three balls at random. On each draw, if the ball is red you set it aside and if the ball is blue you put it back in the urn. What is the probability that the second draw is blue? (If you get a blue ball it counts as a draw even though you put it back in the urn.)**"
   ]
  },
  {
   "cell_type": "markdown",
   "metadata": {},
   "source": [
    "<!-- Let's first give names to possible events. Let $B_i$ be a blue ball in the $i^{th}$ draw. And, let $R_i$ be a red ball in the $i^{th}$ draw.\n",
    "\n",
    "We know that the cardinality of blue balls is $|B|=3$ and the cardinality of red balls is $|R| = 7$.\n",
    "\n",
    "Now, we want to compute $P(B_2)$. There are only 2 cases where we a blue ball is drawn in the 2nd draw: $B_1B_2$ and $R_1B_2$.\n",
    "\n",
    "So, the event $B_2 = (B_1\\cap B_2) \\cup (R_1\\cap B_2)$. And the events $B_1\\cap B_2$ and $B_1\\cap B_2$ are mutually exclusive! \n",
    "\n",
    "Then we can compute:\n",
    "\n",
    "\\begin{align*}\n",
    "P(B_2) &= P(B_1\\cap B_2) + P(R_1\\cap B_2) \\\\\n",
    "&= P(B_2|B_1)P(B_1) + P(B_2|R_1)P(R_1)\\text{, using the chain rule} \\\\\n",
    "&= \\frac{3}{10}\\times\\frac{3}{10} + \\frac{3}{9}\\times\\frac{7}{10}\\\\\n",
    "&\\approx 0.323\n",
    "\\end{align*} -->"
   ]
  },
  {
   "cell_type": "markdown",
   "metadata": {},
   "source": [
    "___"
   ]
  },
  {
   "cell_type": "markdown",
   "metadata": {},
   "source": [
    "<div class=\"alert alert-info\" role=\"alert\">\n",
    "  <strong>Total Probability Theorem</strong>\n",
    "    \n",
    "Also called **Total Probability Law**; if the set of events $\\{A_i\\}$ partitions $\\Omega$, then\n",
    "\n",
    "$$P(B) = \\sum_i P(B|A_i)P(A_i)$$\n",
    "</div>"
   ]
  },
  {
   "cell_type": "markdown",
   "metadata": {},
   "source": [
    "* Total probability is often used in problems where there is a **hidden state**.\n",
    "\n",
    "    * It is commonly used in Machine Learning when describing generative models."
   ]
  },
  {
   "cell_type": "markdown",
   "metadata": {},
   "source": [
    "* The problem with the magician with the two coins (fair and 2-headed) and computing the probability of heads is such a problem: what is the hidden state?\n"
   ]
  },
  {
   "cell_type": "markdown",
   "metadata": {},
   "source": [
    "* When applying chain rule in such problems, we are often conditioning on the different possibilities of the hidden state."
   ]
  },
  {
   "cell_type": "markdown",
   "metadata": {},
   "source": [
    "___\n",
    "**<font color=blue>Example 5:</font> A magician has two coins, one fair and one 2-headed coin. Consider the experiment where she picks one coin at random and flips it $i$ times. Let $H_i$ denote the event that the outcome of flip i is heads. Using the Total Probability Law, find the following:**"
   ]
  },
  {
   "cell_type": "markdown",
   "metadata": {},
   "source": [
    "1. $P(H_1)$\n",
    "\n",
    "<!-- \\begin{align*}\n",
    "P(H_1) &= P(H_1|F)P(F) + P(H_1|\\overline{F})P(\\overline{F})\\\\\n",
    "&= \\frac{1}{2}\\cdot\\frac{1}{2} + 1\\cdot\\frac{1}{2}\\\\\n",
    "&=\\frac{3}{4}\n",
    "\\end{align*} -->"
   ]
  },
  {
   "cell_type": "markdown",
   "metadata": {},
   "source": [
    "2. $P(H_1\\cap H_2)$\n",
    "\n",
    "<!-- \\begin{align*}\n",
    "P(H_1\\cap H_2) &= P(H_1\\cap H_2|F)P(F) + P(H_1\\cap H_2|\\overline{F})P(\\overline{F})\\\\\n",
    "&= \\frac{1}{4}\\cdot\\frac{1}{2} + 1\\cdot \\frac{1}{2}\\\\\n",
    "&= \\frac{5}{8}\n",
    "\\end{align*} -->"
   ]
  },
  {
   "cell_type": "code",
   "execution_count": null,
   "metadata": {},
   "outputs": [],
   "source": []
  }
 ],
 "metadata": {
  "kernelspec": {
   "display_name": "Python 3 (ipykernel)",
   "language": "python",
   "name": "python3"
  },
  "language_info": {
   "codemirror_mode": {
    "name": "ipython",
    "version": 3
   },
   "file_extension": ".py",
   "mimetype": "text/x-python",
   "name": "python",
   "nbconvert_exporter": "python",
   "pygments_lexer": "ipython3",
   "version": "3.8.13"
  },
  "latex_envs": {
   "LaTeX_envs_menu_present": true,
   "autoclose": false,
   "autocomplete": true,
   "bibliofile": "biblio.bib",
   "cite_by": "apalike",
   "current_citInitial": 1,
   "eqLabelWithNumbers": true,
   "eqNumInitial": 1,
   "hotkeys": {
    "equation": "Ctrl-E",
    "itemize": "Ctrl-I"
   },
   "labels_anchors": false,
   "latex_user_defs": false,
   "report_style_numbering": false,
   "user_envs_cfg": false
  },
  "varInspector": {
   "cols": {
    "lenName": 16,
    "lenType": 16,
    "lenVar": 40
   },
   "kernels_config": {
    "python": {
     "delete_cmd_postfix": "",
     "delete_cmd_prefix": "del ",
     "library": "var_list.py",
     "varRefreshCmd": "print(var_dic_list())"
    },
    "r": {
     "delete_cmd_postfix": ") ",
     "delete_cmd_prefix": "rm(",
     "library": "var_list.r",
     "varRefreshCmd": "cat(var_dic_list()) "
    }
   },
   "types_to_exclude": [
    "module",
    "function",
    "builtin_function_or_method",
    "instance",
    "_Feature"
   ],
   "window_display": false
  }
 },
 "nbformat": 4,
 "nbformat_minor": 4
}
