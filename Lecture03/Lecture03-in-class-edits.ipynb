{
 "cells": [
  {
   "cell_type": "markdown",
   "metadata": {},
   "source": [
    "# Lecture 3 - Conditional Probability, Total Probability"
   ]
  },
  {
   "cell_type": "markdown",
   "metadata": {},
   "source": [
    "Summary from last class:\n",
    "\n",
    "1. Defined a **probabilistic model**, a mathematical description to characterize *uncertainty*. A probabilistic model is the triple $(\\Omega,\\mathcal{F},P)$, where $\\Omega$ is the sample space, $\\mathcal{F}$ is the event class and $P$ is a real-valued function that maps all elements of $\\mathcal{F}$ onto $\\mathbb{R}$.\n",
    "\n",
    "2. Defined **axioms of probability**:\n",
    "    * $\\forall E\\in\\mathcal{F}, P(E)\\geq 0$\n",
    "    * $P(\\Omega)=1$\n",
    "    * $\\forall E, F \\in \\mathcal{F}, P(E\\cup F) = P(E) + P(F)$ if $E$ and $F$ are mutually exclusive, that is, $E\\cap F =\\emptyset$\n",
    "    * If $A_1,A_2,\\dots$ is a sequence of event such that $A_i\\cap A_j = \\emptyset, \\forall i\\neq j$, then\n",
    "\n",
    "$$P\\left(\\bigcup_{k=1}^{\\infty} A_k\\right) = \\sum_{k=1}^{\\infty} P(A_k)$$\n",
    "\n",
    "3. Derived **corollaries** from these axioms:\n",
    "    * $P(A^c) = 1 - P(A)$\n",
    "    * $P(A) \\leq 1$\n",
    "    * $P(\\emptyset) = 0 $\n",
    "    * $P(A\\cup B) = P(A) + P(B) - P(A\\cap B)$\n",
    "    * If $A\\subset B$, then $P(A)\\leq P(B)$\n",
    "    * If $A_1,A_2,\\dots,A_n$ are pairwise mutually exclusive, then $P\\left(\\bigcup_{k=1}^n A_k\\right) = \\sum_{k=1}^n P(A_k)$. Proof is by induction.\n",
    "    * $P\\left(\\bigcup_{k=1}^n A_k\\right) = \\sum_{k=1}^n P(A_j) - \\sum_{j<k} P(A_j\\cap A_k) + \\dots + (-1)^{(n+1)}P(A_1\\cap A_2 \\cap \\dots\\cap A_n)$\n",
    "    \n",
    "4. Learned that an experiment is **fair** if every outcome is equally likely.\n",
    "\n",
    "5. Defined probability as a measure of frequency of occurrence (**frequentist view**). When the sample space $\\Omega$ has a finite number of equally likely outcomes, the probability of an event $E\\subset \\Omega$, is given by \n",
    "$$P(E) = \\frac{|E|}{|\\Omega|} = \\frac{\\text{number of elements in }E}{\\text{number of elements in }\\Omega}$$"
   ]
  },
  {
   "cell_type": "markdown",
   "metadata": {},
   "source": [
    "___"
   ]
  },
  {
   "cell_type": "markdown",
   "metadata": {},
   "source": [
    "# Discrete and Continuous Probabilistic Models\n",
    "\n",
    "## Discrete Sequential Models\n",
    "\n",
    "A **sequential model** is a type of experiment that has an inherent sequential character. For example:\n",
    "\n",
    "* Flipping a coin 3 times\n",
    "* Receiving eight successive digits at a communication receiver\n",
    "* Observing the value of a stock on five successive days\n",
    "\n",
    "This type of models are also characterized by probabilistic model that must obey the set of axioms and derived corollaries.\n",
    "\n",
    "It is often useful to describe a sequential model experiment in a **tree-based sequential description**. \n",
    "\n",
    "**Let's use the virtual whiteboard to work through some examples to demonstrate the tree-based description of this type of experiments.**\n",
    "\n",
    "**<font color=blue>Example 1:</font>** Consider the experiment where we flip a fair coin 2 times.\n",
    "\n",
    "* What is the sample space? Remember that different elements of the sample space should be distinct and mutually exclusive.\n",
    "* What is the probability for each possible outcome?"
   ]
  },
  {
   "cell_type": "markdown",
   "metadata": {},
   "source": [
    "**<font color=blue>Example 2:</font>** Consider the experiment where we roll a 6-sided fair die 2 times and the event $E\\equiv$observing a 1 or 2 on either roll.\n",
    "\n",
    "* What is the sample space?\n",
    "* What are the outcomes of event $E$?\n",
    "* What is the probability of event $E$?"
   ]
  },
  {
   "cell_type": "code",
   "execution_count": 5,
   "metadata": {},
   "outputs": [],
   "source": [
    "import random\n",
    "import numpy as np\n",
    "import numpy.random as npr\n",
    "\n",
    "import matplotlib.pyplot as plt\n",
    "%matplotlib inline\n",
    "plt.style.use('ggplot')"
   ]
  },
  {
   "cell_type": "code",
   "execution_count": 6,
   "metadata": {},
   "outputs": [
    {
     "name": "stdout",
     "output_type": "stream",
     "text": [
      "Probability of getting a 1 or 2 on either roll when rolling a fair 6-sided die twice=  0.538\n",
      "True probability is  0.5555555555555556\n"
     ]
    }
   ],
   "source": [
    "num_sims = 1_000\n",
    "event_counter=0\n",
    "\n",
    "for i in range(num_sims):\n",
    "    die1 = random.choice(range(1,7))\n",
    "    die2 = random.choice(range(1,7))\n",
    "    if die1<=2:\n",
    "        event_counter += 1\n",
    "    if die2<=2:\n",
    "        event_counter += 1\n",
    "        if die1 <= 2:\n",
    "            event_counter -= 1\n",
    "    \n",
    "print(\"Probability of getting a 1 or 2 on either roll \\\n",
    "when rolling a fair 6-sided die twice= \", \n",
    "     event_counter/num_sims)\n",
    "print('True probability is ', 20/36)"
   ]
  },
  {
   "cell_type": "code",
   "execution_count": 11,
   "metadata": {},
   "outputs": [
    {
     "data": {
      "text/plain": [
       "array([[3, 5, 5, 3, 2, 2, 3, 3, 1, 4],\n",
       "       [1, 6, 3, 6, 3, 1, 1, 3, 6, 2]])"
      ]
     },
     "execution_count": 11,
     "metadata": {},
     "output_type": "execute_result"
    }
   ],
   "source": [
    "# Alternatively\n",
    "\n",
    "num_sims=10\n",
    "dice = npr.randint(1,7,size=(2,num_sims))\n",
    "dice"
   ]
  },
  {
   "cell_type": "code",
   "execution_count": 12,
   "metadata": {},
   "outputs": [
    {
     "data": {
      "text/plain": [
       "array([[False, False, False, False,  True,  True, False, False,  True,\n",
       "        False],\n",
       "       [ True, False, False, False, False,  True,  True, False, False,\n",
       "         True]])"
      ]
     },
     "execution_count": 12,
     "metadata": {},
     "output_type": "execute_result"
    }
   ],
   "source": [
    "dice<=2"
   ]
  },
  {
   "cell_type": "code",
   "execution_count": 13,
   "metadata": {},
   "outputs": [
    {
     "data": {
      "text/plain": [
       "array([1, 0, 0, 0, 1, 2, 1, 0, 1, 1])"
      ]
     },
     "execution_count": 13,
     "metadata": {},
     "output_type": "execute_result"
    }
   ],
   "source": [
    "np.sum(dice<=2,axis=0)"
   ]
  },
  {
   "cell_type": "code",
   "execution_count": 14,
   "metadata": {},
   "outputs": [
    {
     "data": {
      "text/plain": [
       "array([ True, False, False, False,  True,  True,  True, False,  True,\n",
       "        True])"
      ]
     },
     "execution_count": 14,
     "metadata": {},
     "output_type": "execute_result"
    }
   ],
   "source": [
    "np.sum(dice<=2,axis=0)>=1"
   ]
  },
  {
   "cell_type": "code",
   "execution_count": 15,
   "metadata": {},
   "outputs": [
    {
     "data": {
      "text/plain": [
       "6"
      ]
     },
     "execution_count": 15,
     "metadata": {},
     "output_type": "execute_result"
    }
   ],
   "source": [
    "np.sum(np.sum(dice<=2,axis=0)>=1)"
   ]
  },
  {
   "cell_type": "code",
   "execution_count": 17,
   "metadata": {},
   "outputs": [
    {
     "name": "stdout",
     "output_type": "stream",
     "text": [
      "Probability of getting a 1 or 2 on either roll when rolling a fair 6-sided die twice=  0.5606\n",
      "True probability is  0.5555555555555556\n"
     ]
    }
   ],
   "source": [
    "num_sims=10_000\n",
    "dice = npr.randint(1,7,size=(2, num_sims))\n",
    "event=np.sum(np.sum(dice<=2,axis=0)>=1)\n",
    "\n",
    "\n",
    "print(\"Probability of getting a 1 or 2 on either roll \\\n",
    "when rolling a fair 6-sided die twice= \", \n",
    "     event/num_sims)\n",
    "print('True probability is ', 20/36)"
   ]
  },
  {
   "cell_type": "markdown",
   "metadata": {},
   "source": [
    "**<font color=blue>Example 3:</font>** Consider the experiment where we roll a 6-sided fair die 2 times and the event $E\\equiv$at least one roll is 4. (Try by yourselves!)\n",
    "\n",
    "* What is the sample space?\n",
    "* What are the outcomes of event $E$?\n",
    "* What is the probability of event $E$?"
   ]
  },
  {
   "cell_type": "code",
   "execution_count": 18,
   "metadata": {},
   "outputs": [
    {
     "name": "stdout",
     "output_type": "stream",
     "text": [
      "Probability of getting at one roll as 4 when rolling a fair 6-sided die twice=  0.30616\n",
      "True probability is  0.3055555555555556\n"
     ]
    }
   ],
   "source": [
    "num_sims = 100000\n",
    "event = 0\n",
    "for i in range(num_sims):\n",
    "    die1 = random.choice(range(1,7))\n",
    "    die2 = random.choice(range(1,7))\n",
    "    if die1 == 4:\n",
    "        event+=1\n",
    "    if die2 ==4:\n",
    "        event +=1\n",
    "        if die1 == 4:\n",
    "            event -= 1\n",
    "            \n",
    "print(\"Probability of getting at one roll as 4 when rolling a fair 6-sided die twice= \", \n",
    "     event/num_sims)\n",
    "print('True probability is ', 11/36)"
   ]
  },
  {
   "cell_type": "code",
   "execution_count": 19,
   "metadata": {},
   "outputs": [
    {
     "data": {
      "text/plain": [
       "array([[2, 3, 1, 4, 3, 2, 1, 6, 6, 1],\n",
       "       [6, 2, 2, 3, 5, 1, 4, 3, 4, 5]])"
      ]
     },
     "execution_count": 19,
     "metadata": {},
     "output_type": "execute_result"
    }
   ],
   "source": [
    "# Alternatively\n",
    "\n",
    "num_sims=10\n",
    "\n",
    "dice = npr.randint(1,7, size=(2, num_sims))\n",
    "dice"
   ]
  },
  {
   "cell_type": "code",
   "execution_count": 20,
   "metadata": {},
   "outputs": [
    {
     "data": {
      "text/plain": [
       "array([[False, False, False,  True, False, False, False, False, False,\n",
       "        False],\n",
       "       [False, False, False, False, False, False,  True, False,  True,\n",
       "        False]])"
      ]
     },
     "execution_count": 20,
     "metadata": {},
     "output_type": "execute_result"
    }
   ],
   "source": [
    "dice==4"
   ]
  },
  {
   "cell_type": "code",
   "execution_count": 21,
   "metadata": {},
   "outputs": [
    {
     "data": {
      "text/plain": [
       "array([0, 0, 0, 1, 0, 0, 1, 0, 1, 0])"
      ]
     },
     "execution_count": 21,
     "metadata": {},
     "output_type": "execute_result"
    }
   ],
   "source": [
    "np.sum(dice==4, axis=0)"
   ]
  },
  {
   "cell_type": "code",
   "execution_count": 22,
   "metadata": {},
   "outputs": [
    {
     "data": {
      "text/plain": [
       "3"
      ]
     },
     "execution_count": 22,
     "metadata": {},
     "output_type": "execute_result"
    }
   ],
   "source": [
    "np.sum(np.sum(dice==4, axis=0)>=1)"
   ]
  },
  {
   "cell_type": "code",
   "execution_count": 23,
   "metadata": {},
   "outputs": [
    {
     "name": "stdout",
     "output_type": "stream",
     "text": [
      "Probability of getting at one roll as 4 when rolling a fair 6-sided die twice=  0.3052\n",
      "True probability is  0.3055555555555556\n"
     ]
    }
   ],
   "source": [
    "num_sims=10_000\n",
    "dice=npr.randint(1,7,size=(2,num_sims))\n",
    "event = np.sum(np.sum(dice==4, axis=0)>=1)\n",
    "\n",
    "print(\"Probability of getting at one roll as 4 when rolling a fair 6-sided die twice= \", \n",
    "     event/num_sims)\n",
    "print('True probability is ', 11/36)"
   ]
  },
  {
   "cell_type": "markdown",
   "metadata": {},
   "source": [
    "**<font color=blue>Example 4:</font>** Consider the experiment where we flip a fair coin 3 times and the event $E\\equiv$observing heads in the 2nd flip.\n",
    "\n",
    "* What is the sample space?\n",
    "* What are the outcomes of event $E$?\n",
    "* What is the probability of event $E$?"
   ]
  },
  {
   "cell_type": "code",
   "execution_count": 30,
   "metadata": {},
   "outputs": [
    {
     "data": {
      "text/plain": [
       "array([[1, 1, 0, ..., 0, 0, 0],\n",
       "       [1, 1, 0, ..., 1, 0, 0],\n",
       "       [0, 0, 0, ..., 1, 1, 0]])"
      ]
     },
     "execution_count": 30,
     "metadata": {},
     "output_type": "execute_result"
    }
   ],
   "source": [
    "num_sims=1_000\n",
    "coin=['H','T']\n",
    "event=0\n",
    "\n",
    "# 'H' - 1 and 'T' - 0\n",
    "\n",
    "coins = npr.randint(2,size=(3, num_sims))\n",
    "coins"
   ]
  },
  {
   "cell_type": "code",
   "execution_count": 31,
   "metadata": {},
   "outputs": [
    {
     "data": {
      "text/plain": [
       "array([1, 1, 0, 0, 0, 0, 1, 0, 0, 1, 0, 0, 1, 0, 0, 0, 0, 0, 1, 0, 0, 1,\n",
       "       1, 0, 1, 1, 0, 1, 1, 0, 0, 0, 0, 1, 0, 0, 1, 0, 1, 1, 1, 1, 0, 1,\n",
       "       0, 1, 1, 0, 1, 0, 0, 1, 1, 0, 0, 0, 1, 1, 1, 1, 1, 1, 0, 0, 1, 0,\n",
       "       1, 0, 0, 1, 1, 1, 1, 1, 1, 1, 0, 1, 0, 0, 0, 0, 0, 0, 1, 1, 0, 0,\n",
       "       1, 0, 1, 0, 0, 1, 0, 0, 0, 1, 1, 0, 1, 0, 0, 1, 1, 0, 1, 0, 1, 1,\n",
       "       1, 0, 1, 0, 0, 1, 1, 0, 1, 0, 1, 0, 0, 0, 1, 0, 0, 1, 0, 0, 1, 1,\n",
       "       0, 1, 0, 0, 0, 0, 0, 0, 0, 0, 0, 0, 1, 1, 0, 0, 0, 0, 0, 1, 1, 0,\n",
       "       0, 0, 1, 1, 1, 1, 0, 1, 0, 0, 1, 1, 0, 0, 1, 0, 0, 0, 0, 0, 0, 1,\n",
       "       0, 1, 0, 0, 0, 0, 1, 1, 0, 0, 0, 0, 1, 0, 1, 1, 0, 1, 0, 0, 1, 1,\n",
       "       1, 1, 0, 0, 0, 1, 1, 0, 0, 0, 1, 0, 1, 0, 0, 1, 0, 1, 0, 0, 1, 1,\n",
       "       0, 1, 0, 0, 1, 0, 1, 0, 0, 1, 1, 1, 0, 1, 0, 1, 1, 0, 1, 1, 1, 0,\n",
       "       0, 1, 1, 1, 1, 1, 1, 0, 1, 0, 1, 1, 1, 1, 1, 0, 1, 1, 0, 1, 0, 1,\n",
       "       1, 0, 0, 1, 0, 0, 1, 0, 1, 1, 0, 1, 0, 1, 1, 1, 0, 0, 0, 1, 1, 1,\n",
       "       1, 1, 0, 1, 1, 0, 1, 0, 0, 0, 0, 1, 1, 1, 0, 1, 1, 0, 0, 1, 0, 1,\n",
       "       0, 0, 1, 0, 0, 0, 1, 0, 0, 0, 0, 1, 1, 1, 1, 1, 1, 1, 0, 0, 0, 1,\n",
       "       0, 0, 0, 0, 0, 1, 0, 0, 0, 0, 0, 0, 1, 1, 1, 0, 1, 0, 0, 1, 0, 0,\n",
       "       1, 0, 1, 0, 1, 1, 1, 1, 0, 0, 0, 1, 0, 1, 0, 0, 0, 1, 0, 1, 0, 1,\n",
       "       1, 1, 0, 1, 1, 0, 1, 0, 1, 1, 0, 1, 0, 0, 1, 0, 1, 1, 1, 1, 1, 0,\n",
       "       0, 0, 0, 0, 1, 1, 1, 1, 1, 1, 0, 1, 0, 1, 0, 1, 1, 0, 1, 0, 0, 1,\n",
       "       0, 0, 1, 0, 1, 1, 1, 0, 1, 0, 0, 0, 0, 1, 1, 1, 0, 1, 0, 0, 0, 1,\n",
       "       0, 1, 1, 1, 0, 1, 1, 0, 0, 0, 0, 0, 1, 0, 0, 1, 1, 0, 1, 0, 0, 0,\n",
       "       0, 0, 1, 0, 0, 0, 1, 1, 0, 0, 1, 0, 0, 0, 0, 0, 1, 0, 0, 1, 0, 1,\n",
       "       0, 0, 0, 0, 0, 1, 0, 1, 0, 0, 1, 1, 1, 0, 0, 1, 0, 0, 1, 1, 1, 1,\n",
       "       0, 0, 1, 0, 0, 0, 1, 1, 1, 0, 1, 0, 0, 0, 0, 1, 0, 1, 0, 1, 1, 0,\n",
       "       0, 0, 0, 0, 1, 0, 1, 0, 0, 1, 0, 1, 0, 1, 1, 1, 1, 1, 0, 0, 0, 0,\n",
       "       1, 1, 1, 0, 0, 1, 1, 0, 1, 1, 0, 1, 1, 0, 0, 1, 1, 0, 0, 1, 1, 0,\n",
       "       1, 1, 1, 0, 0, 0, 0, 1, 1, 1, 1, 0, 0, 1, 0, 1, 0, 0, 0, 0, 1, 1,\n",
       "       0, 1, 1, 0, 0, 1, 0, 0, 0, 1, 1, 0, 0, 0, 0, 1, 1, 0, 1, 1, 0, 0,\n",
       "       1, 1, 0, 0, 1, 1, 0, 0, 1, 0, 0, 1, 0, 0, 1, 0, 1, 0, 1, 0, 0, 1,\n",
       "       1, 0, 1, 1, 1, 1, 0, 0, 1, 1, 1, 1, 0, 0, 1, 1, 0, 1, 1, 0, 0, 0,\n",
       "       1, 0, 0, 1, 1, 1, 1, 1, 1, 1, 1, 1, 1, 1, 1, 1, 1, 0, 0, 1, 0, 0,\n",
       "       1, 0, 1, 0, 0, 0, 0, 1, 1, 1, 0, 0, 0, 1, 0, 1, 0, 1, 1, 0, 1, 0,\n",
       "       1, 0, 0, 1, 1, 1, 1, 0, 1, 1, 1, 1, 1, 0, 0, 1, 1, 1, 1, 1, 0, 0,\n",
       "       1, 0, 1, 0, 1, 1, 1, 0, 0, 1, 0, 1, 0, 1, 0, 0, 0, 0, 0, 1, 1, 0,\n",
       "       0, 0, 0, 1, 1, 0, 0, 1, 1, 1, 1, 0, 0, 1, 0, 1, 0, 0, 0, 1, 1, 0,\n",
       "       0, 1, 1, 1, 0, 1, 0, 1, 0, 0, 0, 0, 1, 0, 1, 1, 1, 0, 1, 0, 0, 1,\n",
       "       1, 0, 1, 0, 1, 1, 0, 0, 1, 1, 1, 0, 1, 1, 0, 1, 1, 1, 0, 0, 0, 1,\n",
       "       0, 0, 1, 1, 0, 1, 0, 1, 1, 0, 0, 1, 0, 0, 0, 0, 1, 1, 1, 0, 1, 1,\n",
       "       0, 1, 1, 0, 1, 1, 1, 1, 0, 0, 1, 1, 1, 1, 0, 1, 0, 1, 1, 1, 0, 1,\n",
       "       1, 0, 0, 0, 1, 0, 0, 1, 0, 1, 0, 0, 1, 0, 1, 0, 1, 1, 0, 1, 1, 0,\n",
       "       1, 1, 1, 1, 1, 1, 1, 0, 1, 1, 1, 1, 0, 1, 0, 0, 0, 0, 0, 1, 1, 1,\n",
       "       1, 0, 1, 1, 1, 1, 1, 0, 0, 1, 1, 1, 1, 1, 1, 1, 1, 0, 0, 1, 1, 1,\n",
       "       0, 0, 0, 1, 1, 0, 1, 0, 0, 1, 1, 0, 0, 0, 0, 1, 1, 0, 1, 1, 0, 1,\n",
       "       1, 0, 1, 0, 1, 1, 0, 1, 0, 1, 1, 0, 0, 1, 1, 1, 1, 1, 1, 1, 0, 1,\n",
       "       0, 1, 0, 1, 1, 1, 0, 0, 1, 0, 0, 1, 1, 0, 0, 1, 1, 0, 0, 0, 0, 1,\n",
       "       0, 1, 1, 0, 1, 1, 0, 1, 0, 0])"
      ]
     },
     "execution_count": 31,
     "metadata": {},
     "output_type": "execute_result"
    }
   ],
   "source": [
    "coins[1,:]"
   ]
  },
  {
   "cell_type": "code",
   "execution_count": 32,
   "metadata": {},
   "outputs": [
    {
     "data": {
      "text/plain": [
       "504"
      ]
     },
     "execution_count": 32,
     "metadata": {},
     "output_type": "execute_result"
    }
   ],
   "source": [
    "np.sum(coins[1,:]==1)"
   ]
  },
  {
   "cell_type": "code",
   "execution_count": 33,
   "metadata": {},
   "outputs": [
    {
     "name": "stdout",
     "output_type": "stream",
     "text": [
      "Probability of flipping a fair coin 3 times and observing heads in the 2nd flip=  0.513\n",
      "True probability is  0.5\n"
     ]
    }
   ],
   "source": [
    "\n",
    "coins = npr.randint(2,size=(3,num_sims))\n",
    "event = np.sum(coins[1,:]==1)\n",
    "\n",
    "print(\"Probability of flipping a fair coin 3 times and observing heads in the 2nd flip= \", \n",
    "     event/num_sims)\n",
    "print('True probability is ', 4/8)"
   ]
  },
  {
   "cell_type": "markdown",
   "metadata": {},
   "source": [
    "**<font color=blue>Example 5:</font>** Consider the experiment where we flip a fair coin 3 times, the sub-experiment of counting how many times is came up heads, and the event $E\\equiv$it came up heads 2 times.\n",
    "\n",
    "* What is the sample space of the experiment?\n",
    "* What is the sample space of the sub-experiment?\n",
    "* What are the outcomes of this sub-experiment?\n",
    "* What is the probability of event $E$?"
   ]
  },
  {
   "cell_type": "code",
   "execution_count": 37,
   "metadata": {},
   "outputs": [
    {
     "data": {
      "image/png": "[encoded data removed]",
      "text/plain": [
       "<Figure size 432x288 with 1 Axes>"
      ]
     },
     "metadata": {},
     "output_type": "display_data"
    }
   ],
   "source": [
    "num_sims = 1_000\n",
    "\n",
    "coins = npr.randint(2,size=(3,num_sims))\n",
    "num_heads = np.sum(coins==1, axis=0)\n",
    "\n",
    "\n",
    "vals, counts = np.unique(num_heads, return_counts=True)\n",
    "\n",
    "plt.bar(vals, counts/num_sims)\n",
    "plt.xlabel('Number of Heads')\n",
    "plt.ylabel('Relative frequency');"
   ]
  },
  {
   "cell_type": "code",
   "execution_count": 38,
   "metadata": {},
   "outputs": [
    {
     "name": "stdout",
     "output_type": "stream",
     "text": [
      "Probability of flipping a fair coin 3 times and observing 2 heads =  0.389\n",
      "True probability is  0.375\n"
     ]
    }
   ],
   "source": [
    "num_sims=1_000\n",
    "\n",
    "coins = npr.randint(2, size=(3, num_sims))\n",
    "event= np.sum(np.sum(coins==1, axis=0)==2)\n",
    "\n",
    "print(\"Probability of flipping a fair coin 3 times and observing 2 heads = \", \n",
    "     event/num_sims)\n",
    "print('True probability is ', 3/8)"
   ]
  },
  {
   "cell_type": "markdown",
   "metadata": {},
   "source": [
    "## Continuous Models"
   ]
  },
  {
   "cell_type": "markdown",
   "metadata": {},
   "source": [
    "The way that continuous models differ from discrete ones is that the probabilities of single-element events may not be sufficient to characterize the probability law.\n",
    "\n",
    "**For example:** a wheel of fortune is continuously calibrated from 0 to 1, so the possible outcomes of an experiment consisting of a single spin are the numbers in the interval $\\Omega=[0,1]$. \n",
    "* Assuming a fair wheel, it is appropriate to consider all outcomes equally likely, but what is the probability of the event consisting of a single element? say 0.472927028..?\n",
    "* If possible events are mutually exclusive, then using the 3rd axiom of probability (also called the **Additivity axiom**), it would follow that events with a sufficiently large number of elements would have probability larger than 1.\n",
    "* Therefore, the probability of any event that consists of a single element **must** be 0.\n",
    "* It makes sense then to assign a probability of $b-1$ to any sub-interval $[a,b]$ of $[0,1]$, and to calculate the probability of a more complicated set by evaluating its \"length\". This satisfies all axioms of probability and qualifies as a legitimate probability model."
   ]
  },
  {
   "cell_type": "markdown",
   "metadata": {},
   "source": [
    "___"
   ]
  },
  {
   "cell_type": "markdown",
   "metadata": {},
   "source": [
    "## Introduction to Conditional Probability"
   ]
  },
  {
   "cell_type": "markdown",
   "metadata": {},
   "source": [
    "Consider the following scenarios:\n",
    "\n",
    "**<font color=blue>Example 6:</font> A magician has in her pocket a fair coin and a two-headed coin. She chooses one at random and flips it. What is the probability that the result is heads?**"
   ]
  },
  {
   "cell_type": "markdown",
   "metadata": {},
   "source": [
    "* Is this experiment fair? <!-- No, because the probability of each outcome (H, T) are not equal. P(H)=3/4 and P(T)=1/4 -->"
   ]
  },
  {
   "cell_type": "markdown",
   "metadata": {},
   "source": [
    "Let's compute this probability on the virtual whiteboard."
   ]
  },
  {
   "cell_type": "markdown",
   "metadata": {},
   "source": [
    "Let's build a simulation to answer this:"
   ]
  },
  {
   "cell_type": "code",
   "execution_count": 39,
   "metadata": {},
   "outputs": [],
   "source": [
    "def one_flip(num_sims=100_000):\n",
    "    coins = ['fair', '2-headed']\n",
    "    head_count = 0\n",
    "    for sim in range(num_sims):\n",
    "        coin = random.choice(coins) # select a coin at random\n",
    "        if coin=='fair':\n",
    "            S=['H','T']\n",
    "        else:\n",
    "            S=['H','H']\n",
    "        value = random.choice(S)\n",
    "        if value=='H':\n",
    "            head_count+=1\n",
    "    print('Probability of head is ', head_count/num_sims)"
   ]
  },
  {
   "cell_type": "code",
   "execution_count": 40,
   "metadata": {},
   "outputs": [
    {
     "name": "stdout",
     "output_type": "stream",
     "text": [
      "Probability of head is  0.74981\n"
     ]
    }
   ],
   "source": [
    "one_flip()"
   ]
  },
  {
   "cell_type": "markdown",
   "metadata": {},
   "source": [
    "**<font color=blue>Example 7:</font> Suppose that she chooses a coin at random. Using that coin, she flips it once and observes heads. What is the probability of observing heads in the second flip (using the same coin) if we observed heads in the first flip?**"
   ]
  },
  {
   "cell_type": "markdown",
   "metadata": {},
   "source": [
    "* How can we visualize and compute the analytical probability of this event?"
   ]
  },
  {
   "cell_type": "markdown",
   "metadata": {},
   "source": [
    "Let's compute this probability on the virtual whiteboard."
   ]
  },
  {
   "cell_type": "code",
   "execution_count": 2,
   "metadata": {},
   "outputs": [],
   "source": [
    "def double_flip(num_sims=100_000):\n",
    "    coins = ['fair', '2-headed']\n",
    "    heads1_count = 0\n",
    "    heads2_count = 0\n",
    "    for sim in range(num_sims):\n",
    "        coin = random.choice(coins)\n",
    "        if coin == 'fair':\n",
    "            S = ['H','T']\n",
    "        else:\n",
    "            S = ['H', 'H']\n",
    "        values = random.choices(S, k=2) \n",
    "        if values[0]=='H':\n",
    "            heads1_count+=1\n",
    "            if values[1] == 'H':\n",
    "                heads2_count+=1\n",
    "                \n",
    "    print('Probability of obs. heads in the 2nd flip \\\n",
    "    given heads in the 1st flip is ~', heads2_count/heads1_count)"
   ]
  },
  {
   "cell_type": "code",
   "execution_count": 3,
   "metadata": {},
   "outputs": [
    {
     "name": "stdout",
     "output_type": "stream",
     "text": [
      "Probability of obs. heads in the 2nd flip     given heads in the 1st flip is ~ 0.8339339139684862\n"
     ]
    }
   ],
   "source": [
    "double_flip()"
   ]
  },
  {
   "cell_type": "markdown",
   "metadata": {},
   "source": [
    "This probability is called **conditional probability** as it provides us a way to reason about the outcome of an experiment, based on **partial information**."
   ]
  },
  {
   "cell_type": "markdown",
   "metadata": {},
   "source": [
    "Consider the event $H_i=$heads on flip i. We are asking what is the **probability of $H_2$ given $H_1$ occurred**, that is,\n",
    "\n",
    "$$P(H_2 | H_1) = \\frac{5}{6}$$"
   ]
  },
  {
   "cell_type": "markdown",
   "metadata": {},
   "source": [
    "Consider the Venn diagram:"
   ]
  },
  {
   "cell_type": "code",
   "execution_count": 1,
   "metadata": {},
   "outputs": [
    {
     "data": {
      "image/png": "[encoded data removed]",
      "text/plain": [
       "<IPython.core.display.Image object>"
      ]
     },
     "execution_count": 1,
     "metadata": {
      "image/png": {
       "width": 500
      }
     },
     "output_type": "execute_result"
    }
   ],
   "source": [
    "from IPython.display import Image\n",
    "Image(\"figures/condProb1.png\", width=500)"
   ]
  },
  {
   "cell_type": "markdown",
   "metadata": {},
   "source": [
    "If we **condition** on $B$ having occurred, then we can form the new Venn diagram:"
   ]
  },
  {
   "cell_type": "code",
   "execution_count": 2,
   "metadata": {},
   "outputs": [
    {
     "data": {
      "image/png": "[encoded data removed]",
      "text/plain": [
       "<IPython.core.display.Image object>"
      ]
     },
     "execution_count": 2,
     "metadata": {
      "image/png": {
       "width": 300
      }
     },
     "output_type": "execute_result"
    }
   ],
   "source": [
    "Image(\"figures/condProb2.png\", width=300)"
   ]
  },
  {
   "cell_type": "markdown",
   "metadata": {},
   "source": [
    "This diagram suggests that if $A\\cap B=\\emptyset$ then if $B$ occurs, $A$ could not have occurred."
   ]
  },
  {
   "cell_type": "markdown",
   "metadata": {},
   "source": [
    "Similarly if $B\\subset A$, then if $B$ occurs, the diagram suggests that $A$ must have occurred."
   ]
  },
  {
   "cell_type": "markdown",
   "metadata": {},
   "source": [
    "A definition of conditional probability that agrees with these and other observations is:\n",
    "\n",
    "<div class=\"alert alert-info\" role=\"alert\">\n",
    "  <strong>Conditional Probability</strong>\n",
    "    \n",
    "For $A\\in\\mathcal{F}$, $B\\in\\mathcal{F}$, the **conditional probability** of event $A$ *given* event $B$ occurred is\n",
    "    \n",
    "$$P(A|B) = \\frac{P(A\\cap B)}{P(B)},\\text{ for }P(B)>0$$ \n",
    "</div>\n",
    "\n",
    "**Claim: If $P(B)>0$, the conditional probability $P(\\bullet|B)$ satisfies the axioms on the original sample space $(\\Omega,\\mathcal{F},P(\\bullet|B))$.**"
   ]
  },
  {
   "cell_type": "markdown",
   "metadata": {},
   "source": [
    "<div class=\"alert alert-info\" role=\"alert\">\n",
    "For a fixed event $B\\neq\\emptyset$, the conditional probabilities $P(A|B)$ form a legitimate probability law that satisfies the three axioms!\n",
    "</div>"
   ]
  },
  {
   "cell_type": "markdown",
   "metadata": {},
   "source": [
    "<div class=\"alert alert-warning\">\n",
    "    <b>Relating Conditional and Unconditional Probabilities</b>\n",
    "    \n",
    "Which of the following statement is true?\n",
    "\n",
    "1. $P(A|B) \\geq P(A)$\n",
    "2. $P(A|B) \\leq P(A)$\n",
    "3. Not necessarily 1 or 2\n",
    "</div>"
   ]
  },
  {
   "cell_type": "markdown",
   "metadata": {},
   "source": [
    "**<font color=blue>Example 8:</font> A computer lab contains**\n",
    "\n",
    "* **two computers from manufacturer A, one of which is defective**\n",
    "* **three computers from manufacturer B, two of which are defective**\n",
    "    \n",
    "**A user sits down at a computer at random. Let the properties of the computer she sits down at be denoted by a two letter code, where the first letter is the manufacturer and the second letter is D for a defective computer or N for a non-defective computer. (We add a subscript to differentiate computers with the same two-letter code.)**"
   ]
  },
  {
   "cell_type": "markdown",
   "metadata": {},
   "source": [
    "* What is the sample space?\n",
    "\n",
    "$$\\Omega = \\{AD, AN, BD_1, BD_2, BN\\}$$"
   ]
  },
  {
   "cell_type": "markdown",
   "metadata": {},
   "source": [
    "Let\n",
    "* $E_A$ be the event that the selected computer is from manufacturer A\n",
    "* $E_B$ be the event that the selected computer is from manufacturer B\n",
    "* $E_D$ be the event that the selected computer is defective\n",
    "\n",
    "Let's find\n",
    "\n",
    "$$P(E_A) = \\frac{2}{5}$$\n",
    "\n",
    "$$P(E_B) = \\frac{3}{5}$$\n",
    "\n",
    "$$P(E_D) = \\frac{3}{5}$$"
   ]
  },
  {
   "cell_type": "markdown",
   "metadata": {},
   "source": [
    "Now, suppose that I select a computer and tell you its manufacturer. Does that influence the probability that the computer is defective?\n",
    "\n",
    "* For example, I tell you the computer is from manufacturer A. Then what is the probability that it is defective?\n",
    "\n",
    "$$P(E_D | E_A) = \\frac{P(E_D \\cap E_A)}{P(E_A)} = \\frac{1}{2}$$"
   ]
  },
  {
   "cell_type": "markdown",
   "metadata": {},
   "source": [
    "* Let's find:\n",
    "\n",
    "$$P(E_D | E_B) = \\frac{2}{3}$$\n",
    "\n",
    "$$P(E_A | E_D) = \\frac{1}{3}$$\n",
    "\n",
    "$$P(E_B | E_D) = \\frac{2}{3}$$"
   ]
  },
  {
   "cell_type": "markdown",
   "metadata": {},
   "source": [
    "## Conditional Probability for Discrete Sample Spaces with Equal Probabilities"
   ]
  },
  {
   "cell_type": "markdown",
   "metadata": {},
   "source": [
    "Consider again our simulation of the magician's coins.\n",
    "\n",
    "We directly estimated of those outcomes where the first flip was heads what proportion was the second flip heads. I.e., we did not use the definition of conditional probability, which involves a ratio of probabilities.\n",
    "\n",
    "How does that work out?"
   ]
  },
  {
   "cell_type": "markdown",
   "metadata": {},
   "source": [
    "Let $H_i$ be the event that the outcome of the $i$th flip was heads. We were trying to estimate $P(H_2|H_1)$.\n",
    "\n",
    "If we were to use the definition of conditional probability, then we would find this as\n",
    "\n",
    "$$P(H_2|H_1) = \\frac{P(H_2\\cap H_1)}{P(H_1)}$$"
   ]
  },
  {
   "cell_type": "markdown",
   "metadata": {},
   "source": [
    "If we didn't know how to solve these analytically, we could estimate them by their relative frequencies. Let:\n",
    "\n",
    "* $N$ be the number of simulations,\n",
    "* $N_1$ be the number of simulations in which the first flip is heads, and\n",
    "* $N_{12}$ be the number of simulations in which both flips are heads.\n",
    "\n",
    "Then\n",
    "\n",
    "\\begin{align*}\n",
    "P(H_2|H_1) &= \\frac{N_{12}/N}{N_1/N} \\\\\n",
    "&= \\frac{N_{12}}{N_1}\n",
    "\\end{align*}"
   ]
  },
  {
   "cell_type": "markdown",
   "metadata": {},
   "source": [
    "**<font color=blue>Example 9:</font> XOR of two independent binary values.**\n",
    "\n",
    "**Flip a fair coin with sides labeled '0' and '1' two times.**\n",
    "* **Let $E_i$ denote a '1' on the top face on flip $i$.**\n",
    "* **Let $F_i$ denote a '0' on the top face on flip $i$.**\n",
    "* **Let $G$ denote the event that the XOR of the values observed on the top faces on the two flips is '1'.**\n",
    "\n",
    "Compute:\n",
    "\n",
    "$$P(E_1) = \\frac{1}{2}, P(E_2) = \\frac{1}{2}, P(F) = \\frac{1}{2}$$\n",
    "\n",
    "$$P(E_1|E_2) = \\frac{1}{2}$$\n",
    "$$P(E_2|E_1) = \\frac{1}{2}$$\n",
    "$$P(G|E_1) = \\frac{1}{2}$$\n",
    "\n",
    "and\n",
    "\n",
    "$$P(G|E_1\\cap E_2) = 0$$"
   ]
  },
  {
   "cell_type": "markdown",
   "metadata": {},
   "source": [
    "# Chain Rule - Using Conditional Probability to Decompose Events"
   ]
  },
  {
   "cell_type": "markdown",
   "metadata": {},
   "source": [
    "Let's use the **virtual whiteboard** to depict how we can decompose conditional probability using a tree-based sequential representation."
   ]
  },
  {
   "cell_type": "markdown",
   "metadata": {},
   "source": [
    "In general, note that:\n",
    "\n",
    "$$P(A|B) = \\frac{P(A\\cap B)}{P(B)}$$\n",
    "$$\\Rightarrow P(A\\cap B) = P(A|B)P(B)$$\n",
    "\n",
    "and\n",
    "\n",
    "$$P(B|A) = \\frac{P(A\\cap B)}{P(A)}$$\n",
    "$$\\Rightarrow P(A\\cap B) = P(B|A)P(A)$$\n",
    "\n",
    "These equations $P(A\\cap B) = P(A|B)P(B)$ and $P(A\\cap B) = P(B|A)P(A)$ are known as **chain rules** for expanding the probability of the intersection of two events. "
   ]
  },
  {
   "cell_type": "markdown",
   "metadata": {},
   "source": [
    "* The chain rule can be easily generalized to more than two events:\n",
    "\n",
    "\\begin{align}\n",
    "P(A\\cap B\\cap C) &= P(A)P(B|A)P(C|A\\cap B) \\\\\n",
    "&= P(A) \\cdot\\frac{P(A\\cap B)}{P(A)} \\cdot\\frac{P(A\\cap B\\cap C)}{P(A\\cap B)}\n",
    "\\end{align}\n",
    "\n",
    "Similarly,\n",
    "\n",
    "$$P(A\\cap B\\cap C) = P(A|B\\cap C)P(B|C)P(C)$$"
   ]
  },
  {
   "cell_type": "markdown",
   "metadata": {},
   "source": [
    "<div class=\"alert alert-info\" role=\"alert\">\n",
    "  <strong>Multiplication Rule</strong>\n",
    "    \n",
    "Assuming that all of the conditioning events have positive probability, we have\n",
    "    \n",
    "$$P\\left(\\bigcap_{i=1}^n A_i\\right) = P(A_1)P(A_2|A_1)P(A_3|A_1\\cap A_2)\\dots P\\left(A_n| \\cap_{i=1}^{n-1} A_i\\right)$$\n",
    "</div>"
   ]
  },
  {
   "cell_type": "markdown",
   "metadata": {},
   "source": [
    "# Total Probability Theorem (also known as the Law of Total Probability)"
   ]
  },
  {
   "cell_type": "markdown",
   "metadata": {},
   "source": [
    "A collection of events $A_1, A_2, \\dots$ **partitions** the sample space $\\Omega$ *if and only if*\n",
    "\n",
    "$$\\Omega = \\bigcup_i A_i$$\n",
    "\n",
    "and $A_i\\cap A_j = \\emptyset, i\\neq j$, i.e., they are disjoint events."
   ]
  },
  {
   "cell_type": "markdown",
   "metadata": {},
   "source": [
    "$\\{A_i\\}$ is also said to be a **partition** of $\\Omega$."
   ]
  },
  {
   "cell_type": "markdown",
   "metadata": {},
   "source": [
    "1. Let's visualize this partition using the Venn diagram. (**virtual whiteboard**)"
   ]
  },
  {
   "cell_type": "markdown",
   "metadata": {},
   "source": [
    "2. Let's also use a Venn diagram to express an arbitrary set using a partition of $\\Omega$ (**virtual whiteboard**)"
   ]
  },
  {
   "cell_type": "markdown",
   "metadata": {},
   "source": [
    "<div class=\"alert alert-info\" role=\"alert\">\n",
    "  <strong>Total Probability Theorem</strong>\n",
    "    \n",
    "Also called **Total Probability Law**; if the set of events $\\{A_i\\}$ partitions $\\Omega$, then\n",
    "\n",
    "$$P(B) = \\sum_i P(B|A_i)P(A_i)$$\n",
    "</div>"
   ]
  },
  {
   "cell_type": "markdown",
   "metadata": {},
   "source": [
    "* Total probability is often used in problems where there is a **hidden state**.\n",
    "\n",
    "    * It is commonly used in Machine Learning when describing generative models."
   ]
  },
  {
   "cell_type": "markdown",
   "metadata": {},
   "source": [
    "* The problem with the magician with the two coins (fair and 2-headed) and computing the probability of heads is such a problem: what is the hidden state?\n",
    "\n",
    "    * Answer: which coin was picked"
   ]
  },
  {
   "cell_type": "markdown",
   "metadata": {},
   "source": [
    "* When applying chain rule in such problems, we are often conditioning on the different possibilities of the hidden state."
   ]
  },
  {
   "cell_type": "markdown",
   "metadata": {},
   "source": [
    "___\n",
    "**<font color=blue>Example 10:</font> A magician has two coins, one fair and one 2-headed coin. Consider the experiment where she picks one coin at random and flips it $i$ times. Let $H_i$ denote the event that the outcome of flip i is heads. Using the Total Probability Law, find the following:**"
   ]
  },
  {
   "cell_type": "markdown",
   "metadata": {},
   "source": [
    "1. $P(H_1)$\n",
    "\n",
    "\\begin{align*}\n",
    "P(H_1) &= P(H_1|F)P(F) + P(H_1|\\overline{F})P(\\overline{F})\\\\\n",
    "&= \\frac{1}{2}\\cdot\\frac{1}{2} + 1\\cdot\\frac{1}{2}\\\\\n",
    "&=\\frac{3}{4}\n",
    "\\end{align*}"
   ]
  },
  {
   "cell_type": "markdown",
   "metadata": {},
   "source": [
    "2. $P(H_1\\cap H_2)$"
   ]
  },
  {
   "cell_type": "code",
   "execution_count": null,
   "metadata": {},
   "outputs": [],
   "source": []
  }
 ],
 "metadata": {
  "kernelspec": {
   "display_name": "Python 3 (ipykernel)",
   "language": "python",
   "name": "python3"
  },
  "language_info": {
   "codemirror_mode": {
    "name": "ipython",
    "version": 3
   },
   "file_extension": ".py",
   "mimetype": "text/x-python",
   "name": "python",
   "nbconvert_exporter": "python",
   "pygments_lexer": "ipython3",
   "version": "3.8.13"
  },
  "latex_envs": {
   "LaTeX_envs_menu_present": true,
   "autoclose": false,
   "autocomplete": true,
   "bibliofile": "biblio.bib",
   "cite_by": "apalike",
   "current_citInitial": 1,
   "eqLabelWithNumbers": true,
   "eqNumInitial": 1,
   "hotkeys": {
    "equation": "Ctrl-E",
    "itemize": "Ctrl-I"
   },
   "labels_anchors": false,
   "latex_user_defs": false,
   "report_style_numbering": false,
   "user_envs_cfg": false
  },
  "varInspector": {
   "cols": {
    "lenName": 16,
    "lenType": 16,
    "lenVar": 40
   },
   "kernels_config": {
    "python": {
     "delete_cmd_postfix": "",
     "delete_cmd_prefix": "del ",
     "library": "var_list.py",
     "varRefreshCmd": "print(var_dic_list())"
    },
    "r": {
     "delete_cmd_postfix": ") ",
     "delete_cmd_prefix": "rm(",
     "library": "var_list.r",
     "varRefreshCmd": "cat(var_dic_list()) "
    }
   },
   "types_to_exclude": [
    "module",
    "function",
    "builtin_function_or_method",
    "instance",
    "_Feature"
   ],
   "window_display": false
  }
 },
 "nbformat": 4,
 "nbformat_minor": 4
}
