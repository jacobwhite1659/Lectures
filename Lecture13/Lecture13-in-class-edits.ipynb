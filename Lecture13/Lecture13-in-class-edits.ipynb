{
 "cells": [
  {
   "cell_type": "markdown",
   "metadata": {},
   "source": [
    "# Lecture 13\n",
    "\n",
    "- Gaussian RVs continued\n",
    "- Q function continued \n",
    "- Expected Value\n",
    "- Moments"
   ]
  },
  {
   "cell_type": "markdown",
   "metadata": {},
   "source": [
    "## Feedback Evaluation Form\n",
    "\n",
    "[Fill this out!](https://forms.gle/ficQzQpWbfZzJVbb6)\n",
    "Note: you need to be signed into Chrome or web browser through your UF account. The form, however, is anonymous."
   ]
  },
  {
   "cell_type": "markdown",
   "metadata": {},
   "source": [
    "## Guest Lecture last Thursday: Clark Wood\n",
    "\n",
    "For more information, please email Clark Wood (clark.wood@protonmail.com)"
   ]
  },
  {
   "cell_type": "markdown",
   "metadata": {},
   "source": [
    "## Last class (watch the videos from Lecture 11!)"
   ]
  },
  {
   "cell_type": "markdown",
   "metadata": {},
   "source": [
    "We learned about different properties of PDFs:\n",
    "\n",
    "1. $F_X(x) = \\int_{-\\infty}^x f_X(t)~dt$\n",
    "\n",
    "2. $f_X(x) \\geq 0, -\\infty < x < \\infty$\n",
    "\n",
    "3. $\\int_{-\\infty}^{\\infty} f_X(t)dt = 1$\n",
    "\n",
    "4. $P(a < X \\leq b) = \\int_a^b f_X(x)~dx$ where $a\\leq b$\n",
    "\n",
    "5. If $g(x)$ is a nonnegative piecewise continuous function with finite integral $\\int_{-\\infty}^{\\infty} g(x)~dx = c$, then $f_X(x) = \\frac{g(x)}{c}$ is a valid pdf."
   ]
  },
  {
   "cell_type": "markdown",
   "metadata": {},
   "source": [
    "We also defined the CDF and survival function for the Standard Normal RV $X$ (Gaussian with $\\mu=0$ and $\\sigma^2=1$), that is, $X\\sim G(0,1)$:\n",
    "\n",
    "* **CDF of $G(0,1)$:**\n",
    "\\begin{align*}\n",
    "\\Phi(x) = P(X\\leq x) = \\int_{-\\infty}^x \\frac{1}{\\sqrt{2\\pi}}\\exp{\\left\\{-\\frac{t^2}{2}\\right\\}} dt\n",
    "\\end{align*}\n",
    "\n",
    "* **SF of $G(0,1)$:**\n",
    "\\begin{align*}\n",
    "Q(x) = P(X>x) = \\int_x^{\\infty} \\frac{1}{\\sqrt{2\\pi}}\\exp{\\left\\{-\\frac{t^2}{2}\\right\\}} dt\n",
    "\\end{align*}\n",
    "\n",
    "We saw that:\n",
    "\n",
    "\\begin{align*}\n",
    "\\Phi(x) + Q(x) = 1, \\forall x\n",
    "\\end{align*}"
   ]
  },
  {
   "cell_type": "markdown",
   "metadata": {},
   "source": [
    "The CDF and survival function for any RV $Y\\sim G(\\mu,\\sigma^2)$ are:\n",
    "\n",
    "\\begin{align*}\n",
    "F_X(x) = \\Phi \\left(\\frac{x-\\mu}{\\sigma} \\right)\n",
    "\\end{align*}\n",
    "\n",
    "and\n",
    "\n",
    "\\begin{align*}\n",
    "S_X(x) = \\operatorname{Q} \\left(\\frac{x-\\mu}{\\sigma} \\right)\n",
    "\\end{align*}"
   ]
  },
  {
   "cell_type": "markdown",
   "metadata": {},
   "source": [
    "<div class=\"alert alert-danger\">\n",
    "    Note that the denominator above is $\\sigma$, not $\\sigma^2$. Many students use the wrong value when solving problems!\n",
    "</div>"
   ]
  },
  {
   "cell_type": "markdown",
   "metadata": {},
   "source": [
    "* To find the probability of some interval using the $Q$-function, it is easiest to rewrite the probability:\n",
    "\n",
    "\\begin{align*}\n",
    "P(a < X \\leq b) &= P(X > a) - P(X > b) \\\\\n",
    "&= Q\\left(\\frac{a-\\mu}{\\sigma}\\right) - Q\\left(\\frac{b-\\mu}{\\sigma}\\right)\n",
    "\\end{align*}\n",
    "\n",
    "* In general, Gaussian probabilities can always be expressed in terms of \"tail\" probabilities"
   ]
  },
  {
   "cell_type": "markdown",
   "metadata": {},
   "source": [
    "### More on Computing Gaussian Tail Probabilities\n",
    "\n",
    "Any Gaussian probabilities can be decomposed in terms of Gaussian tail probabilities. There are 2 cases of the tail probabilities:\n",
    "\n",
    "* **Case 1:** $P(X \\geq a)$, where $a>\\mu$\n",
    "\n",
    "\\begin{align*}\n",
    "P(X \\geq a) = Q\\left(\\frac{a-\\mu}{\\sigma}\\right)\n",
    "\\end{align*}"
   ]
  },
  {
   "cell_type": "code",
   "execution_count": 1,
   "metadata": {},
   "outputs": [
    {
     "data": {
      "image/png": "[encoded data removed]",
      "text/plain": [
       "<IPython.core.display.Image object>"
      ]
     },
     "execution_count": 1,
     "metadata": {
      "image/png": {
       "width": 400
      }
     },
     "output_type": "execute_result"
    }
   ],
   "source": [
    "from IPython.display import Image\n",
    "Image('figures/probXlargerA.png', width=400)"
   ]
  },
  {
   "cell_type": "markdown",
   "metadata": {},
   "source": [
    "* **Case 2:** $P(X \\leq b)$, where $b<\\mu$\n",
    "\n",
    "By symmetry:\n",
    "\n",
    "\\begin{align*}\n",
    "P(X \\geq \\mu + (\\mu - b)) = P(X \\geq 2\\mu - b) = Q\\left(\\frac{2\\mu - b - \\mu}{\\sigma}\\right) = Q\\left(\\frac{\\mu-b}{\\sigma}\\right)\n",
    "\\end{align*}"
   ]
  },
  {
   "cell_type": "code",
   "execution_count": 2,
   "metadata": {},
   "outputs": [
    {
     "data": {
      "image/png": "[encoded data removed]",
      "text/plain": [
       "<IPython.core.display.Image object>"
      ]
     },
     "execution_count": 2,
     "metadata": {
      "image/png": {
       "width": 400
      }
     },
     "output_type": "execute_result"
    }
   ],
   "source": [
    "Image('figures/probXsmallerB.png', width=400)"
   ]
  },
  {
   "cell_type": "markdown",
   "metadata": {},
   "source": [
    "___"
   ]
  },
  {
   "cell_type": "code",
   "execution_count": 3,
   "metadata": {},
   "outputs": [],
   "source": [
    "import scipy.stats as stats\n",
    "import numpy as np\n",
    "import numpy.random as npr\n",
    "import matplotlib.pyplot as plt\n",
    "import pandas as pd\n",
    "\n",
    "%matplotlib inline\n",
    "plt.style.use('bmh')"
   ]
  },
  {
   "cell_type": "code",
   "execution_count": null,
   "metadata": {},
   "outputs": [],
   "source": []
  },
  {
   "cell_type": "markdown",
   "metadata": {},
   "source": [
    "# Example: Grading on a curve\n",
    "\n",
    "A professor's classroom requests that she \"grades on a curve\". The professor sees that the class grades can be modeled using a Gaussian distribution with parameters $\\mu$ and $\\sigma^2$.\n",
    "\n",
    "Let $X$ represent a randomly chosen student's grade."
   ]
  },
  {
   "cell_type": "markdown",
   "metadata": {},
   "source": [
    "**(a) What is the probability that the student's grade is above $\\mu$?**\n",
    "\n",
    "$P(X > \\mu) = Q\\left(\\frac{\\mu - \\mu}{\\sigma}\\right) = Q\\left(\\frac{0}{\\sigma}\\right) = \\frac{1}{2}$"
   ]
  },
  {
   "cell_type": "markdown",
   "metadata": {},
   "source": [
    "**(b) The professor decides to use the following grading strategy:**\n",
    "\n",
    "* If the grades are more than $\\sigma$ above the mean, assign an A\n",
    "\n",
    "* If the grades are within $\\sigma$ of the mean ($\\mu$), assign a B\n",
    "\n",
    "* If the grades are more than $\\sigma$ below the mean, but less than $2\\sigma$ below the mean, assign C\n",
    "\n",
    "* If the grades are more than $2\\sigma$ below the mean, but less than $3\\sigma$ below the mean, assign D\n",
    "\n",
    "* If the grades are more than $3\\sigma$ below the mean, assign E\n",
    "\n",
    "Determine the probability that a randomly chosen student gets each grade."
   ]
  },
  {
   "cell_type": "markdown",
   "metadata": {},
   "source": [
    "\\begin{align*}\n",
    "P(A) &= P(X \\geq \\mu + \\sigma) = Q\\left(\\frac{\\mu + \\sigma - \\mu}{\\sigma}\\right) = Q(1)\\\\\n",
    "P(B) &= P(\\mu -\\sigma < X < \\mu + \\sigma) = 1 - 2P(X > \\mu + \\sigma) = 1 - 2 Q\\left(\\frac{\\mu+\\sigma-\\mu}{\\sigma}\\right) = 1 - \n",
    "2 Q(1)\\\\\n",
    "P(C) &= P(\\mu - 2\\sigma < X < \\mu - \\sigma) = P(X \\geq \\mu - 2\\sigma) - P(X \\geq \\mu - \\sigma) = Q(1) - Q(2)\\\\\n",
    "P(D) &= P(\\mu - 3\\sigma < X < \\mu - 2\\sigma) = P(X \\geq \\mu - 3\\sigma) - P(X \\geq \\mu - 2\\sigma) = Q(2) - Q(3)\\\\\n",
    "P(E) &= P(X < \\mu - 3\\sigma) = P(X > \\mu + 3\\sigma) = Q(3)\n",
    "\\end{align*}"
   ]
  },
  {
   "cell_type": "markdown",
   "metadata": {},
   "source": [
    "<!-- \\begin{align*}\n",
    "P(A) &= P(X \\geq \\mu + \\sigma) = Q\\left(\\frac{\\mu + \\sigma - \\mu}{\\sigma}\\right) = Q(1)\\\\\n",
    "P(B) &= P(\\mu -\\sigma < X < \\mu + \\sigma) = 1 - 2P(X > \\mu + \\sigma) = 1 - 2 Q\\left(\\frac{\\mu+\\sigma-\\mu}{\\sigma}\\right) = 1 - \n",
    "2 Q(1)\\\\\n",
    "P(C) &= P(\\mu - 2\\sigma < X < \\mu - \\sigma) = P(X \\geq \\mu - 2\\sigma) - P(X \\geq \\mu - \\sigma) = Q(1) - Q(2)\\\\\n",
    "P(D) &= P(\\mu - 3\\sigma < X < \\mu - 2\\sigma) = P(X \\geq \\mu - 3\\sigma) - P(X \\geq \\mu - 2\\sigma) = Q(2) - Q(3)\\\\\n",
    "P(E) &= P(X < \\mu - 3\\sigma) = P(X > \\mu + 3\\sigma) = Q(3)\n",
    "\\end{align*} -->"
   ]
  },
  {
   "cell_type": "code",
   "execution_count": 4,
   "metadata": {},
   "outputs": [],
   "source": [
    "?stats.norm"
   ]
  },
  {
   "cell_type": "code",
   "execution_count": 5,
   "metadata": {},
   "outputs": [],
   "source": [
    "def q(x):\n",
    "    # by default stats.norm creates a Gaussian(0,1)\n",
    "    return stats.norm.sf(x)"
   ]
  },
  {
   "cell_type": "code",
   "execution_count": 6,
   "metadata": {},
   "outputs": [
    {
     "data": {
      "text/plain": [
       "0.15865525393145707"
      ]
     },
     "execution_count": 6,
     "metadata": {},
     "output_type": "execute_result"
    }
   ],
   "source": [
    "pA = q(1)\n",
    "pA"
   ]
  },
  {
   "cell_type": "code",
   "execution_count": 7,
   "metadata": {},
   "outputs": [
    {
     "data": {
      "text/plain": [
       "0.6826894921370859"
      ]
     },
     "execution_count": 7,
     "metadata": {},
     "output_type": "execute_result"
    }
   ],
   "source": [
    "pB = 1-2*q(1)\n",
    "pB"
   ]
  },
  {
   "cell_type": "code",
   "execution_count": 8,
   "metadata": {},
   "outputs": [
    {
     "data": {
      "text/plain": [
       "0.13590512198327787"
      ]
     },
     "execution_count": 8,
     "metadata": {},
     "output_type": "execute_result"
    }
   ],
   "source": [
    "pC = q(1) - q(2)\n",
    "\n",
    "pC"
   ]
  },
  {
   "cell_type": "code",
   "execution_count": 9,
   "metadata": {},
   "outputs": [
    {
     "data": {
      "text/plain": [
       "0.0214002339165491"
      ]
     },
     "execution_count": 9,
     "metadata": {},
     "output_type": "execute_result"
    }
   ],
   "source": [
    "pD = q(2) - q(3)\n",
    "\n",
    "pD"
   ]
  },
  {
   "cell_type": "code",
   "execution_count": 10,
   "metadata": {},
   "outputs": [
    {
     "data": {
      "text/plain": [
       "0.0013498980316300933"
      ]
     },
     "execution_count": 10,
     "metadata": {},
     "output_type": "execute_result"
    }
   ],
   "source": [
    "pE = q(3)\n",
    "\n",
    "pE"
   ]
  },
  {
   "cell_type": "markdown",
   "metadata": {},
   "source": [
    "Checking work:"
   ]
  },
  {
   "cell_type": "code",
   "execution_count": 11,
   "metadata": {},
   "outputs": [
    {
     "data": {
      "text/plain": [
       "1.0"
      ]
     },
     "execution_count": 11,
     "metadata": {},
     "output_type": "execute_result"
    }
   ],
   "source": [
    "pA + pB + pC + pD + pE"
   ]
  },
  {
   "cell_type": "markdown",
   "metadata": {},
   "source": [
    "**(c) Suppose the threshold to get an A is $k\\sigma$ above the mean, what value of $k$ is needed for 40% of the class to get an A?**"
   ]
  },
  {
   "cell_type": "markdown",
   "metadata": {},
   "source": [
    "\\begin{align*}\n",
    "P(X \\geq \\mu + k\\sigma) &= 0.4 \\\\\n",
    "Q\\left(\\frac{\\mu + k\\sigma - \\mu}{\\sigma}\\right) &= 0.4 \\\\\n",
    "Q(k) &= 0.4 \\\\\n",
    "k &= Q^{-1}(0.4) \\\\\n",
    "k &\\approx 0.25 \\text{ (using Q-function table)} \n",
    "\\end{align*}"
   ]
  },
  {
   "cell_type": "markdown",
   "metadata": {},
   "source": [
    "<!-- \\begin{align*}\n",
    "P(X \\geq \\mu + k\\sigma) &= 0.4 \\\\\n",
    "Q\\left(\\frac{\\mu + k\\sigma - \\mu}{\\sigma}\\right) &= 0.4 \\\\\n",
    "Q(k) &= 0.4 \\\\\n",
    "k &= Q^{-1}(0.4) \\\\\n",
    "k &\\approx 0.25 \\text{ (using Q-function table)} \n",
    "\\end{align*} -->"
   ]
  },
  {
   "cell_type": "code",
   "execution_count": 12,
   "metadata": {},
   "outputs": [],
   "source": [
    "?stats.norm"
   ]
  },
  {
   "cell_type": "code",
   "execution_count": 13,
   "metadata": {},
   "outputs": [],
   "source": [
    "def qinv(x):\n",
    "    return stats.norm.isf(x)"
   ]
  },
  {
   "cell_type": "code",
   "execution_count": 14,
   "metadata": {},
   "outputs": [
    {
     "data": {
      "text/plain": [
       "0.2533471031357997"
      ]
     },
     "execution_count": 14,
     "metadata": {},
     "output_type": "execute_result"
    }
   ],
   "source": [
    "qinv(0.4)"
   ]
  },
  {
   "cell_type": "markdown",
   "metadata": {},
   "source": [
    "___"
   ]
  },
  {
   "cell_type": "markdown",
   "metadata": {},
   "source": [
    "# Expected Value"
   ]
  },
  {
   "cell_type": "markdown",
   "metadata": {},
   "source": [
    "Consider again a set of observations $x_1, x_2, \\dots, x_N$.\n",
    "\n",
    "Then the **average** of the data is \n",
    "\n",
    "\\begin{align*}\n",
    "\\overline{x} = \\frac{1}{N} \\sum_{i=1}^N x_i\n",
    "\\end{align*}\n",
    "\n",
    "* We would like to define a similar notion for a random variable $X$, but take the average over the *ensemble* of potential values of $X$.\n",
    "\n",
    "* This value is the *expected value*, *ensemble mean*, or simply *mean* of $X$.\n",
    "\n",
    "* We can use *relative frequency* to connect the two."
   ]
  },
  {
   "cell_type": "markdown",
   "metadata": {},
   "source": [
    "Suppose that $X=\\{x_i\\}_{i=1}^n$ are random data that take values from $S_k=\\{a_1,a_2,\\dots,a_k\\}$, where $k<\\infty$.\n",
    "\n",
    "\\begin{align*}\n",
    "\\overline{X} = \\frac{1}{N} \\sum_{i=1}^N x_i\n",
    "\\end{align*}\n",
    "\n",
    "Let $n_j \\equiv$ \\# of times $a_i$ occurs, then \n",
    "\n",
    "\\begin{align*}\n",
    "\\overline{X} = \\frac{1}{N} \\sum_{j=1}^N a_j \\cdot n_j = \\sum_{j=1}^N a_j \\cdot \\frac{n_j}{N}\n",
    "\\end{align*}\n",
    "\n",
    "If our experiment possesses statistical regularity,\n",
    "\n",
    "\\begin{align*}\n",
    "\\lim_{n\\rightarrow\\infty} \\frac{n_j}{N} \\rightarrow p_j = P(a_j)\n",
    "\\end{align*}\n",
    "\n",
    "Therefore,\n",
    "\n",
    "\\begin{align*}\n",
    "\\lim_{n\\rightarrow\\infty} \\overline{X} = \\sum_{j=1}^N a_j \\cdot p_j \\triangleq E[X]\n",
    "\\end{align*}"
   ]
  },
  {
   "cell_type": "markdown",
   "metadata": {},
   "source": [
    "<div class=\"alert alert-info\">\n",
    "    <b>Expected Value</b>\n",
    "    \n",
    "The **expected value** or **mean** of a random variable $X$ is\n",
    "    \n",
    "\\begin{align*}\n",
    "\\mu_X= E[X] = \\sum_x x p_X(x),\n",
    "\\end{align*}\n",
    "    \n",
    "if $X$ is a **discrete random variable**, and is defined as\n",
    "    \n",
    "\\begin{align*}\n",
    "\\mu_X = E[X] = \\int_{-\\infty}^{\\infty} xf_X(x)~dx,\n",
    "\\end{align*}\n",
    "    \n",
    "if $X$ is a **continuous random variable**.\n",
    "\n",
    "**Note:** In some special cases, we would not define the expected value because it is of the form $-\\infty$, $+\\infty$. We won't cover those in this class.\n",
    "</div>"
   ]
  },
  {
   "cell_type": "markdown",
   "metadata": {},
   "source": [
    "## Why do we care about the mean?"
   ]
  },
  {
   "cell_type": "markdown",
   "metadata": {},
   "source": [
    "In a repeated experiment, the limit of the average value is the mean\n",
    "* In fact, we will show that we can determine a limit on the number of times the experiment must be repeated to ensure that the average is within a range around the mean with a specified probability (Chebyshev's inequality, covered later)\n",
    "    \n",
    "If we wish to use a constant value to estimate a random variable, then the mean is the value that minimizes the mean-square error.\n",
    "\n",
    "Note that $E[X]$ may be infinite."
   ]
  },
  {
   "cell_type": "markdown",
   "metadata": {},
   "source": [
    "**<font color=blue>Example 1:</font>** Rolling a fair 6-sided die."
   ]
  },
  {
   "cell_type": "markdown",
   "metadata": {},
   "source": [
    "Let $X$ be the number of top face of die.\n",
    "\n",
    "\\begin{align*}\n",
    "E[X] &= \\sum_{i=1}^6 i \\times P(X=i)\\\\\n",
    "&= \\sum_{i=1}^6 i \\times\\frac{1}{6}\\\\\n",
    "&= \\frac{21}{6}\\\\\n",
    "&= 3.5\n",
    "\\end{align*}"
   ]
  },
  {
   "cell_type": "markdown",
   "metadata": {},
   "source": [
    "<!-- Let $X$ be the number of top face of die.\n",
    "\n",
    "\\begin{align*}\n",
    "E[X] &= \\sum_{i=1}^6 i \\times P(X=i)\\\\\n",
    "&= \\sum_{i=1}^6 i \\times\\frac{1}{6}\\\\\n",
    "&= \\frac{21}{6}\\\\\n",
    "&= 3.5\n",
    "\\end{align*} -->"
   ]
  },
  {
   "cell_type": "markdown",
   "metadata": {},
   "source": [
    "**<font color=blue>Example 2:</font>** Bernoulli RV."
   ]
  },
  {
   "cell_type": "markdown",
   "metadata": {},
   "source": [
    "Let $X \\sim \\text{Bernoulli}(p)$, then $p_X(x) = \\begin{cases} p & x=1\\\\ 1-p & x=0 \\\\ 0 & \\text{o.w.}  \\end{cases}$\n",
    "\n",
    "\\begin{align*}\n",
    "E[X] = (0)(1-p) + (1)(p) = p\n",
    "\\end{align*}"
   ]
  },
  {
   "cell_type": "markdown",
   "metadata": {},
   "source": [
    "<!-- Let $X \\sim \\text{Bernoulli}(p)$, then $p_X(x) = \\begin{cases} p & x=1\\\\ 1-p & x=0 \\\\ 0 & \\text{o.w.}  \\end{cases}$\n",
    "\n",
    "\\begin{align*}\n",
    "E[X] = (0)(1-p) + (1)(p) = p\n",
    "\\end{align*} -->"
   ]
  },
  {
   "cell_type": "markdown",
   "metadata": {},
   "source": [
    "**<font color=blue>Example 3:</font>** What is the expected value of the random variable $X\\sim U(1,6)$?"
   ]
  },
  {
   "cell_type": "markdown",
   "metadata": {},
   "source": [
    "Let $X\\sim U(1,6)$, then $f_X(x) = \\begin{cases} \\frac{1}{6-1}, & x\\in [1,6]\\\\ 0, & \\text{o.w.} \\end{cases}= \\begin{cases} \\frac{1}{5}, & x\\in [1,6]\\\\ 0, & \\text{o.w.} \\end{cases}$\n",
    "\n",
    "\\begin{align*}\n",
    "E[X] &= \\int_{-\\infty}^{\\infty} xf_X(x)dx = \\int_1^6 x\\frac{1}{5}dx = \\frac{x^2}{10}\\Big|_1^6 = \\frac{6^2}{10} - \\frac{1^2}{10} = \\frac{35}{10} = 3.5\n",
    "\\end{align*}"
   ]
  },
  {
   "cell_type": "code",
   "execution_count": 15,
   "metadata": {},
   "outputs": [],
   "source": [
    "?stats.uniform"
   ]
  },
  {
   "cell_type": "code",
   "execution_count": 16,
   "metadata": {},
   "outputs": [],
   "source": [
    "U = stats.uniform(loc=1,scale=5) # U(1,6)"
   ]
  },
  {
   "cell_type": "code",
   "execution_count": 17,
   "metadata": {},
   "outputs": [
    {
     "data": {
      "text/plain": [
       "array([3.58791465, 3.7062179 , 1.81192176, 5.21158107, 4.80590236,\n",
       "       1.10147198, 3.41575431, 1.63224192, 4.70924999, 5.44852137])"
      ]
     },
     "execution_count": 17,
     "metadata": {},
     "output_type": "execute_result"
    }
   ],
   "source": [
    "# sample random values from this RV\n",
    "\n",
    "U.rvs(size=10)"
   ]
  },
  {
   "cell_type": "code",
   "execution_count": 18,
   "metadata": {},
   "outputs": [
    {
     "data": {
      "text/plain": [
       "3.5403000596360767"
      ]
     },
     "execution_count": 18,
     "metadata": {},
     "output_type": "execute_result"
    }
   ],
   "source": [
    "U.rvs(size=1000).mean()"
   ]
  },
  {
   "cell_type": "code",
   "execution_count": 19,
   "metadata": {},
   "outputs": [
    {
     "data": {
      "text/plain": [
       "3.5"
      ]
     },
     "execution_count": 19,
     "metadata": {},
     "output_type": "execute_result"
    }
   ],
   "source": [
    "# Expected Value\n",
    "\n",
    "U.mean()"
   ]
  },
  {
   "cell_type": "code",
   "execution_count": 20,
   "metadata": {},
   "outputs": [
    {
     "data": {
      "text/plain": [
       "array(3.5)"
      ]
     },
     "execution_count": 20,
     "metadata": {},
     "output_type": "execute_result"
    }
   ],
   "source": [
    "U.stats('m')"
   ]
  },
  {
   "cell_type": "markdown",
   "metadata": {},
   "source": [
    "<!-- Analytically, we have:\n",
    "\n",
    "\\begin{align*}\n",
    "E[X] = \\int_{-\\infty}^{\\infty} uf_U(u)~du = \\int_1^7 u\\frac{1}{7-1}~du = \\frac{1}{12}u^2 \\Big|_1^7 = 4\n",
    "\\end{align*} -->"
   ]
  },
  {
   "cell_type": "markdown",
   "metadata": {},
   "source": [
    "**<font color=blue>Example 4:</font>** What is the expected value of the random variable $X\\sim \\text{Exp}(\\lambda)$?"
   ]
  },
  {
   "cell_type": "markdown",
   "metadata": {},
   "source": [
    "Analytically:\n",
    "\n",
    "\\begin{align*}\n",
    "E[X] = \\int_0^{\\infty} x \\lambda e^{-\\lambda x}~dx =\\lambda \\int_0^{\\infty} x e^{-\\lambda x}~dx\n",
    "\\end{align*}\n",
    "\n",
    "Need to apply integral by parts."
   ]
  },
  {
   "cell_type": "code",
   "execution_count": 21,
   "metadata": {},
   "outputs": [
    {
     "data": {
      "text/plain": [
       "0.5"
      ]
     },
     "execution_count": 21,
     "metadata": {},
     "output_type": "execute_result"
    }
   ],
   "source": [
    "lam = 2\n",
    "\n",
    "E=stats.expon(scale=1/lam)\n",
    "\n",
    "E.mean()"
   ]
  },
  {
   "cell_type": "code",
   "execution_count": 22,
   "metadata": {},
   "outputs": [
    {
     "data": {
      "text/plain": [
       "array(0.5)"
      ]
     },
     "execution_count": 22,
     "metadata": {},
     "output_type": "execute_result"
    }
   ],
   "source": [
    "E.stats('m')"
   ]
  },
  {
   "cell_type": "markdown",
   "metadata": {},
   "source": [
    "<!-- Analytically:\n",
    "\n",
    "\\begin{align*}\n",
    "E[X] = \\int_0^{\\infty} x \\lambda \\exp^{-\\lambda x}~dx =\\lambda \\int_0^{\\infty} x \\exp^{-\\lambda x}~dx\n",
    "\\end{align*}\n",
    "\n",
    "Need to apply integral by parts. -->"
   ]
  },
  {
   "cell_type": "markdown",
   "metadata": {},
   "source": [
    "___"
   ]
  },
  {
   "cell_type": "markdown",
   "metadata": {},
   "source": [
    "# Important Properties of the Expected Value\n",
    "\n",
    "## Property 1 - Linearity\n",
    "\n",
    "Expected value is a **linear operator**. If $X$ and $Y$ are random variables, and $a$ and $b$ are arbitrary constants, then\n",
    "\n",
    "\\begin{align*}\n",
    "E[aX + bY] = aE[X] + bE[Y]\n",
    "\\end{align*}\n",
    "\n",
    "*Note that this does not required that $X$ and $Y$ be independent.*"
   ]
  },
  {
   "cell_type": "markdown",
   "metadata": {},
   "source": [
    "___"
   ]
  },
  {
   "cell_type": "markdown",
   "metadata": {},
   "source": [
    "**<font color=blue>Example 5:</font>** Expected Value of a Binomial RV."
   ]
  },
  {
   "cell_type": "markdown",
   "metadata": {},
   "source": [
    "Let $B_i$, $i=1,2,\\cdots, N$ be a sequence of independent Bernoulli random variables with common parameter $p$. Then\n",
    "\n",
    "\\begin{align*}\n",
    "X=\\sum_{i=1}^N B_i\n",
    "\\end{align*}\n",
    "\n",
    "is a $\\text{Binomial}(N,p)$ random variable."
   ]
  },
  {
   "cell_type": "markdown",
   "metadata": {},
   "source": [
    "Using the linearity property,\n",
    "\n",
    "\\begin{align*}\n",
    "E[X] &= E\\left[ \\sum_{i=1}^N B_i\\right]\\\\\n",
    "&= \\sum_{i=1}^N E[B_i]\\\\\n",
    "&= \\sum_{i=1}^N p\\\\\n",
    "&= Np\n",
    "\\end{align*}"
   ]
  },
  {
   "cell_type": "markdown",
   "metadata": {},
   "source": [
    "We can also derive the same result from the PMF of a Binomial RV, but it is *way* more complicated:\n",
    "\n",
    "\\begin{align*}\n",
    "E[X] = \\sum_{n=0}^N n\\binom{N}{n} p^n q^{N-n}\n",
    "\\end{align*}\n",
    "\n",
    "(Left as exercise.)"
   ]
  },
  {
   "cell_type": "markdown",
   "metadata": {},
   "source": [
    "___"
   ]
  },
  {
   "cell_type": "markdown",
   "metadata": {},
   "source": [
    "## Property 2 - Expected Value of a Function\n",
    "\n",
    "If $Y=g(X)$, it is not necessary to compute the PDF or CDF of $Y$ to find its expected value. We can find it using $X$:\n",
    "\n",
    "\\begin{align*}\n",
    "E[Y] = \\int_{-\\infty}^{\\infty} g(x) f_X(x)~dx\n",
    "\\end{align*}\n",
    "\n",
    "This is sometimes known as the **Law of the Unconscious Statistician (LOTUS)**."
   ]
  },
  {
   "cell_type": "markdown",
   "metadata": {},
   "source": [
    "## Property 3 - Expected Value of a Scalar\n",
    "\n",
    "The expected value of a scalar constant $c$ is $E[c] = c$.\n",
    "\n",
    "Let $g(x) = c$, then:\n",
    "\n",
    "\\begin{align*}\n",
    "E[c] &= \\int_{-\\infty}^{\\infty} c f_X(x)~dx\\\\\n",
    "&= c \\int_{-\\infty}^{\\infty} f_X(x)~dx\\\\\n",
    "&= c\n",
    "\\end{align*}"
   ]
  },
  {
   "cell_type": "markdown",
   "metadata": {},
   "source": [
    "* Note that $E[f(X)] \\neq f(E[X])$."
   ]
  },
  {
   "cell_type": "markdown",
   "metadata": {},
   "source": [
    "___"
   ]
  },
  {
   "cell_type": "markdown",
   "metadata": {},
   "source": [
    "**<font color=blue>Example 6:</font>** Recall that if $x_i$ are samples drawn from a random variable $X$, then\n",
    "\n",
    "\\begin{align*}\n",
    "\\lim_{N\\rightarrow\\infty} \\frac{1}{N} \\sum_{i=1}^N x_i = E[X]\n",
    "\\end{align*}\n",
    "\n",
    "This is the result from the **Central Limit Theorem (CLT)**.\n",
    "\n",
    "Let's create a Uniform random variable object using ```scipy.stats```. Draw 10,000 sample values from it, and use the sample values to estimate $(E[U])^2$ and $E[U^2]$."
   ]
  },
  {
   "cell_type": "code",
   "execution_count": 23,
   "metadata": {},
   "outputs": [],
   "source": [
    "U = stats.uniform() # U(0,1)"
   ]
  },
  {
   "cell_type": "code",
   "execution_count": 24,
   "metadata": {},
   "outputs": [],
   "source": [
    "N = 10_000\n",
    "\n",
    "samples = U.rvs(size=N)"
   ]
  },
  {
   "cell_type": "code",
   "execution_count": 25,
   "metadata": {},
   "outputs": [
    {
     "data": {
      "text/plain": [
       "0.5"
      ]
     },
     "execution_count": 25,
     "metadata": {},
     "output_type": "execute_result"
    }
   ],
   "source": [
    "U.mean()"
   ]
  },
  {
   "cell_type": "code",
   "execution_count": 26,
   "metadata": {},
   "outputs": [
    {
     "data": {
      "text/plain": [
       "0.49628760369586633"
      ]
     },
     "execution_count": 26,
     "metadata": {},
     "output_type": "execute_result"
    }
   ],
   "source": [
    "np.mean(samples)"
   ]
  },
  {
   "cell_type": "code",
   "execution_count": 27,
   "metadata": {},
   "outputs": [
    {
     "data": {
      "text/plain": [
       "0.24630138558218528"
      ]
     },
     "execution_count": 27,
     "metadata": {},
     "output_type": "execute_result"
    }
   ],
   "source": [
    "np.mean(samples)**2 # (E[U])^2"
   ]
  },
  {
   "cell_type": "code",
   "execution_count": 28,
   "metadata": {},
   "outputs": [
    {
     "data": {
      "text/plain": [
       "0.25"
      ]
     },
     "execution_count": 28,
     "metadata": {},
     "output_type": "execute_result"
    }
   ],
   "source": [
    "U.mean()**2"
   ]
  },
  {
   "cell_type": "code",
   "execution_count": 29,
   "metadata": {},
   "outputs": [
    {
     "data": {
      "text/plain": [
       "0.32996657891062375"
      ]
     },
     "execution_count": 29,
     "metadata": {},
     "output_type": "execute_result"
    }
   ],
   "source": [
    "np.mean(samples**2) # E[U^2] second moment!"
   ]
  },
  {
   "cell_type": "code",
   "execution_count": null,
   "metadata": {},
   "outputs": [],
   "source": []
  },
  {
   "cell_type": "code",
   "execution_count": null,
   "metadata": {},
   "outputs": [],
   "source": []
  },
  {
   "cell_type": "markdown",
   "metadata": {},
   "source": [
    "___"
   ]
  },
  {
   "cell_type": "markdown",
   "metadata": {},
   "source": [
    "# Moments of a Random Variable\n",
    "\n",
    "<div class=\"alert alert-info\">\n",
    "    <b>Moments</b>\n",
    "    \n",
    "The **moments** of a random variable (or of its distribution) are *expected values of powers* or related functions of the random variable.\n",
    "\n",
    "The $n$-th moment of a **continuous** RV $X$ is \n",
    "\n",
    "\\begin{align*}\n",
    "E[X^n] = \\int_x t^n f_X(t)~dt\n",
    "\\end{align*}\n",
    "\n",
    "The $n$-th moment of a **discrete** RV $X$ is \n",
    "    \n",
    "\\begin{align*}\n",
    "E[X^n] = \\sum_x x^n p_X(x)\n",
    "\\end{align*}\n",
    "\n",
    "* In particular, the first moment is the *mean*, $\\mu_X = E[X]$.\n",
    "</div>"
   ]
  },
  {
   "cell_type": "markdown",
   "metadata": {},
   "source": [
    "<div class=\"alert alert-info\">\n",
    "    <b>Central Moments</b>\n",
    "    \n",
    "The **central moments** of a random variable (or of its distribution) are *expected values of mean-centered powers* or related functions of the random variable.\n",
    "\n",
    "The $n$-th central moment of RV $X$ is $E[(X - \\mu_X)^n]$, in general, $E[(X - E[X])^n]$.\n",
    "    \n",
    "If $X$ is a **continuous** RV, the $n$-th central moment is\n",
    "    \n",
    "\\begin{align*}\n",
    "E[(X - \\mu_X)^n] = \\int_x (t-\\mu_X)^n f_X(t)~dt\n",
    "\\end{align*}\n",
    "    \n",
    "If $X$ is a **discrete** RV, the $n$-th central moment is\n",
    "    \n",
    "\\begin{align*}\n",
    "E[(X - \\mu_X)^n] = \\sum_x (x-\\mu_X)^n p_X(x)\n",
    "\\end{align*}\n",
    "</div>"
   ]
  },
  {
   "cell_type": "markdown",
   "metadata": {},
   "source": [
    "* Moments of a random variable are expected values of the random variable raised to some power.\n",
    "\n",
    "* For a *central moment*, the mean is subtracted from the random variable before it is raised to a power."
   ]
  },
  {
   "cell_type": "markdown",
   "metadata": {},
   "source": [
    "Because different powers spread the values of the random variable in different ways, **moments can provide additional information about a random variable other than the mean value**:\n",
    "\n",
    "In mathematics, a moment is a specific quantitative measure of the shape of a function. The most important ones are: \n",
    "\n",
    "1. **Mean**, the 1st moment\n",
    "\n",
    "2. **Variance**, the 2nd central moment \n",
    "\n",
    "3. **Skewness**, the 3rd central moment \n",
    "\n",
    "4. **kurtosis**, the 4th central moment"
   ]
  },
  {
   "cell_type": "markdown",
   "metadata": {},
   "source": [
    "**Variance is the second central moment** and provides a measure of how much the probability density or mass of random variable is spread away from the mean. We define it as:\n",
    "\n",
    "\\begin{align*}\n",
    "Var[X] &= E[(X-\\mu_X)^2]\\\\\n",
    "&= E[X^2 - 2\\mu_X X + \\mu_X^2] \\\\\n",
    "&= E[X^2] - 2\\mu_XE[X] + \\mu_X^2 \\\\\n",
    "&= E[X^2] - 2E[X]E[X] + (E[X])^2 \\\\\n",
    "&= E[X^2] - (E[X])^2\n",
    "\\end{align*}\n",
    "\n",
    "So,\n",
    "\n",
    "\\begin{align*}\n",
    "Var[X] = E[X^2] - (E[X])^2\n",
    "\\end{align*}\n",
    "\n",
    "This latter formula is usually a more convenient way to find the variance.\n",
    "\n",
    "* The variance of a Gaussian random variable is the parameter $\\sigma^2$ (you can get it through integration by parts or some clever manipulation)."
   ]
  },
  {
   "cell_type": "markdown",
   "metadata": {},
   "source": [
    "___"
   ]
  },
  {
   "cell_type": "markdown",
   "metadata": {},
   "source": [
    "## Properties of Variance\n",
    "\n",
    "Let $X$ be a random variable and $b$ and $c$ constant values.\n",
    "\n",
    "1. $Var[X] = E[X^2] - (E[X])^2 \\geq 0$"
   ]
  },
  {
   "cell_type": "markdown",
   "metadata": {},
   "source": [
    "2. $Var[c] = 0$"
   ]
  },
  {
   "cell_type": "markdown",
   "metadata": {},
   "source": [
    "3. $Var[X - c] = E[X^2] - (E[X])^2$"
   ]
  },
  {
   "cell_type": "markdown",
   "metadata": {},
   "source": [
    "4. $Var[cX] = c^2 Var[X]$"
   ]
  },
  {
   "cell_type": "markdown",
   "metadata": {},
   "source": [
    "5. $Var[cX + b] = c^2 Var[X]$"
   ]
  },
  {
   "cell_type": "markdown",
   "metadata": {},
   "source": [
    "___"
   ]
  },
  {
   "cell_type": "markdown",
   "metadata": {},
   "source": [
    "We can compute the most common moments of a random variable using the ```stats``` module:"
   ]
  },
  {
   "cell_type": "code",
   "execution_count": 30,
   "metadata": {},
   "outputs": [
    {
     "data": {
      "text/plain": [
       "(array(0.), array(1.), array(0.), array(0.))"
      ]
     },
     "execution_count": 30,
     "metadata": {},
     "output_type": "execute_result"
    }
   ],
   "source": [
    "# Moments of G(mu=0,var=1)\n",
    "\n",
    "G = stats.norm(loc=0,scale=1)\n",
    "\n",
    "G.stats('mvsk')\n"
   ]
  },
  {
   "cell_type": "code",
   "execution_count": 31,
   "metadata": {},
   "outputs": [
    {
     "data": {
      "image/png": "[encoded data removed]",
      "text/plain": [
       "<Figure size 432x288 with 1 Axes>"
      ]
     },
     "metadata": {
      "needs_background": "light"
     },
     "output_type": "display_data"
    }
   ],
   "source": [
    "x = np.linspace(-5,5,100)\n",
    "G = stats.norm(loc=0,scale=0.4) # G(0,1)\n",
    "\n",
    "plt.plot(x,G.pdf(x))\n",
    "plt.plot(G.stats('m'), G.pdf(G.stats('m')), '*r', markersize=10, label='Mean')\n",
    "plt.plot(G.median(), G.pdf(G.median()), '*g', markersize=10, label='Median')\n",
    "plt.legend(fontsize=15)\n",
    "plt.title('$X\\sim G(\\mu=0,\\sigma^2=0.4)$',size=15)\n",
    "plt.xlabel('x',size=15)\n",
    "plt.ylabel('$f_X(x)$',size=15);"
   ]
  },
  {
   "cell_type": "code",
   "execution_count": 32,
   "metadata": {},
   "outputs": [
    {
     "data": {
      "text/plain": [
       "(array(0.5), array(0.25), array(2.), array(6.))"
      ]
     },
     "execution_count": 32,
     "metadata": {},
     "output_type": "execute_result"
    }
   ],
   "source": [
    "# Moments of E(lambda=2)\n",
    "\n",
    "lam = 2\n",
    "\n",
    "E = stats.expon(scale = 1/lam)\n",
    "\n",
    "E.stats('mvsk')\n",
    "\n"
   ]
  },
  {
   "cell_type": "code",
   "execution_count": 33,
   "metadata": {},
   "outputs": [
    {
     "data": {
      "image/png": "[encoded data removed]",
      "text/plain": [
       "<Figure size 432x288 with 1 Axes>"
      ]
     },
     "metadata": {
      "needs_background": "light"
     },
     "output_type": "display_data"
    }
   ],
   "source": [
    "x = np.linspace(-1,12,100)\n",
    "plt.plot(x,E.pdf(x))\n",
    "plt.plot(E.stats('m'), E.pdf(E.stats('m')), '*r', markersize=10, label='Mean')\n",
    "plt.plot(E.median(), E.pdf(E.median()), '*g', markersize=10, label='Median')\n",
    "plt.legend(fontsize=15)\n",
    "plt.title('$X\\sim Exponential(\\lambda=1/2)$',size=15)\n",
    "plt.xlabel('x',size=15)\n",
    "plt.ylabel('$f_X(x)$',size=15);"
   ]
  },
  {
   "cell_type": "code",
   "execution_count": 34,
   "metadata": {},
   "outputs": [
    {
     "data": {
      "text/plain": [
       "(array(7.5), array(3.75), array(0.), array(-0.13333333))"
      ]
     },
     "execution_count": 34,
     "metadata": {},
     "output_type": "execute_result"
    }
   ],
   "source": [
    "# Moments of Binomial(15,0.5)\n",
    "\n",
    "Bn = stats.binom(15, 0.5)\n",
    "\n",
    "Bn.stats('mvsk')\n"
   ]
  },
  {
   "cell_type": "code",
   "execution_count": 35,
   "metadata": {},
   "outputs": [
    {
     "data": {
      "text/plain": [
       "8.0"
      ]
     },
     "execution_count": 35,
     "metadata": {},
     "output_type": "execute_result"
    }
   ],
   "source": [
    "Bn.median()"
   ]
  },
  {
   "cell_type": "code",
   "execution_count": 36,
   "metadata": {},
   "outputs": [
    {
     "data": {
      "image/png": "[encoded data removed]",
      "text/plain": [
       "<Figure size 432x288 with 1 Axes>"
      ]
     },
     "metadata": {
      "needs_background": "light"
     },
     "output_type": "display_data"
    }
   ],
   "source": [
    "x = range(19)\n",
    "plt.stem(x,Bn.pmf(x),'k',label='PMF')\n",
    "plt.plot(x, Bn.pmf(x))\n",
    "plt.plot(Bn.stats('m'), 0.3, '*r', markersize=10, label='Mean')\n",
    "plt.plot(Bn.median(), Bn.pmf(Bn.median()), '*g', markersize=10, label='Median')\n",
    "plt.legend(fontsize=15)\n",
    "plt.title('$X\\sim Binomial(N=15,p=0.5)$',size=15)\n",
    "plt.xlabel('x',size=15)\n",
    "plt.ylabel('$p_X(x)$',size=15);"
   ]
  },
  {
   "cell_type": "code",
   "execution_count": null,
   "metadata": {},
   "outputs": [],
   "source": []
  },
  {
   "cell_type": "markdown",
   "metadata": {},
   "source": [
    "___"
   ]
  },
  {
   "cell_type": "markdown",
   "metadata": {},
   "source": [
    "# Distribution of Binary Hypothesis"
   ]
  },
  {
   "cell_type": "markdown",
   "metadata": {},
   "source": [
    "In binary hypothesis testing, we built statistics that access a specific moment of the distribution (mean-difference, median-difference, etc.). We can also consider a full distribution for our hypotheses.\n",
    "\n",
    "That is, we will be conditioning random variables depending on which hypothesis is true: $f_X(x|H_0)$ or $f_X(x|H_1)$."
   ]
  },
  {
   "cell_type": "markdown",
   "metadata": {
    "slideshow": {
     "slide_type": "subslide"
    }
   },
   "source": [
    "In general, there are multiple ways in which random variables can depend on events or on other random variables.\n",
    "\n",
    "We consider the same type as above: there is dependence between a random variable and some event, such that the distribution of the random variable is known if the event is known."
   ]
  },
  {
   "cell_type": "markdown",
   "metadata": {
    "slideshow": {
     "slide_type": "slide"
    }
   },
   "source": [
    "### <font color=blue>Motivating Case Study: Binary Communications</font>\n",
    "\n",
    "In a binary communication system, the received signal is a noisy version of the transmitted signal. \n",
    "\n",
    "In the presence of thermal noise, the\n",
    "  received signal can be modeled as $X= s_i + N$, where: \n",
    "* $s_i \\in \\{-1, 1\\}$ depends on which signal is transmitted (-1 or 1), and\n",
    "* $N$ is a Gaussian random variable with mean 0 and variance $\\sigma^2 $, which determines the signal-to-noise ratio"
   ]
  },
  {
   "cell_type": "markdown",
   "metadata": {
    "slideshow": {
     "slide_type": "subslide"
    }
   },
   "source": [
    "Thus, the received signal has a conditional distribution, depending on which signal\n",
    "  is transmitted:\n",
    "\\begin{align*}\n",
    "  \\begin{cases}\n",
    "  X  \\sim \\mbox{Gaussian}(+1,\\sigma^2), & 1 \\mbox{ transmitted}\\\\\n",
    "  X  \\sim \\mbox{Gaussian}(-1,\\sigma^2), & -1 \\mbox{ transmitted}\n",
    "  \\end{cases}\n",
    "\\end{align*}\n",
    "\n",
    "(Here only the mean changes and not the variance, but this is an accurate\n",
    "  model of what happens in most binary communication systems.)"
   ]
  },
  {
   "cell_type": "markdown",
   "metadata": {
    "slideshow": {
     "slide_type": "subslide"
    }
   },
   "source": [
    "We can write the conditional density and distribution functions given that $i$ was transmitted as $f_X(x|i\\sim T_x)$ and $F_X(x|i\\sim T_x)$."
   ]
  },
  {
   "cell_type": "markdown",
   "metadata": {
    "slideshow": {
     "slide_type": "slide"
    }
   },
   "source": [
    "**<font color=blue>Example 7</font>** Let $T_i$ denote the event that $i$ is transmitted. Calculate the probability that $X>2$ if $P(T_{1})=0.25$, $P(T_{-1})=0.75$ and $\\sigma^2=4$."
   ]
  },
  {
   "cell_type": "markdown",
   "metadata": {
    "slideshow": {
     "slide_type": "fragment"
    }
   },
   "source": [
    "We can easily solve this problem using what we already know about conditional probability and Gaussian random variables:\n",
    "\n",
    "\\begin{align*}\n",
    "P(X>2) &= P(X>2|T_1)P(T_1) + P(X>2|T_{-1})P(T_{-1}) ~\\mbox{, by Total Probability}\\\\\n",
    "&= Q\\left(\\frac{2-1}{\\sigma} \\right)(0.25) +\n",
    "Q\\left(\\frac{2-(-1)}{\\sigma} \\right)(0.75) \\\\\n",
    "&= Q\\left(\\frac{1}{2} \\right)(0.25) +\n",
    "Q\\left(\\frac{3}{2} \\right)(0.75) \\\\\n",
    "&\\approx 0.127\n",
    "\\end{align*}"
   ]
  },
  {
   "cell_type": "markdown",
   "metadata": {
    "slideshow": {
     "slide_type": "fragment"
    }
   },
   "source": [
    "<!-- We can easily solve this problem using what we already know about conditional probability and Gaussian random variables:\n",
    "\n",
    "\\begin{align*}\n",
    "P(X>2) &= P(X>2|T_0)P(T_0) + P(X>2|T_1)P(T_1) ~\\mbox{, by Total Probability}\\\\\n",
    "&= Q\\left(\\frac{2-1}{\\sigma} \\right)(0.25) +\n",
    "Q\\left(\\frac{2-(-1)}{\\sigma} \\right)(0.75) \\\\\n",
    "&= Q\\left(\\frac{1}{2} \\right)(0.25) +\n",
    "Q\\left(\\frac{3}{2} \\right)(0.75) \\\\\n",
    "&\\approx 0.127\n",
    "\\end{align*} -->"
   ]
  },
  {
   "cell_type": "code",
   "execution_count": 37,
   "metadata": {
    "slideshow": {
     "slide_type": "fragment"
    }
   },
   "outputs": [
    {
     "data": {
      "text/plain": [
       "0.12723978563314026"
      ]
     },
     "execution_count": 37,
     "metadata": {},
     "output_type": "execute_result"
    }
   ],
   "source": [
    "stats.norm.sf(0.5)*0.25 + stats.norm.sf(3/2)*0.75"
   ]
  },
  {
   "cell_type": "markdown",
   "metadata": {
    "slideshow": {
     "slide_type": "slide"
    }
   },
   "source": [
    "**<font color=blue>Example 8</font>** Calculate the probability of error if the decision rule is:\n",
    "\n",
    "\\begin{align*}\n",
    "\\begin{cases} \\hat{T}_{1}, & X \\ge 0\\\\ \\hat{T}_{-1}, & X<0, \\end{cases}\n",
    "\\end{align*}\n",
    "\n",
    "where $\\hat{T}_i$ denotes deciding that $i$ was transmitted. Provide a numerical answer when $\\sigma^2=0.1$ and $P(T_{-1})=P(T_1)=\\frac{1}{2}$."
   ]
  },
  {
   "cell_type": "markdown",
   "metadata": {
    "slideshow": {
     "slide_type": "subslide"
    }
   },
   "source": [
    "<!-- \\begin{align*}\n",
    "P(E) &= P(X\\ge 0 \\cap T_1) + P(X<0 \\cap T_0) \\\\\n",
    "&= P(X \\ge 0 \\vert T_1)P(T_1) + P(X<0 \\vert T_0) P(T_0)\\\\\n",
    "&= Q\\left(\\frac{0-(-1)}{\\sigma}\\right) P(T_1) + Q\\left(\\frac{1-0}{\\sigma} \\right) P(T_0) \\\\\n",
    "&= Q\\left(\\frac{1}{\\sigma}\\right)\\\\\n",
    "&\\approx 0.00078\n",
    "\\end{align*} -->"
   ]
  },
  {
   "cell_type": "markdown",
   "metadata": {
    "slideshow": {
     "slide_type": "subslide"
    }
   },
   "source": [
    "\\begin{align*}\n",
    "P(E) &= P(X\\ge 0 \\cap T_{-1}) + P(X<0 \\cap T_{1}) \\\\\n",
    "&= P(X \\ge 0 \\vert T_{-1})P(T_1) + P(X<0 \\vert T_{1}) P(T_{1})\\\\\n",
    "&= Q\\left(\\frac{0-(-1)}{\\sigma}\\right) P(T_{-1}) + Q\\left(\\frac{1-0}{\\sigma} \\right) P(T_{1}) \\\\\n",
    "&= Q\\left(\\frac{1}{\\sigma}\\right)\\\\\n",
    "&\\approx 0.00078\n",
    "\\end{align*}"
   ]
  },
  {
   "cell_type": "code",
   "execution_count": 38,
   "metadata": {},
   "outputs": [
    {
     "data": {
      "text/plain": [
       "0.000782701129001274"
      ]
     },
     "execution_count": 38,
     "metadata": {},
     "output_type": "execute_result"
    }
   ],
   "source": [
    "stats.norm.sf(1/np.sqrt(0.1))"
   ]
  },
  {
   "cell_type": "markdown",
   "metadata": {
    "slideshow": {
     "slide_type": "fragment"
    }
   },
   "source": [
    "What if the variance of the Gaussian noise was larger?"
   ]
  },
  {
   "cell_type": "code",
   "execution_count": 39,
   "metadata": {},
   "outputs": [
    {
     "data": {
      "image/png": "[encoded data removed]",
      "text/plain": [
       "<Figure size 720x360 with 1 Axes>"
      ]
     },
     "metadata": {
      "needs_background": "light"
     },
     "output_type": "display_data"
    }
   ],
   "source": [
    "# Define sigma_sq\n",
    "sigma_sq = 0.5\n",
    "\n",
    "\n",
    "# Define normal distributions with variance sigma_sq\n",
    "G_Tminus1 = stats.norm(loc=1,scale=np.sqrt(sigma_sq))\n",
    "G_Tplus1 = stats.norm(loc=-1,scale=np.sqrt(sigma_sq))\n",
    "\n",
    "x = np.linspace(-5,5,1000)\n",
    "\n",
    "plt.figure(figsize=(10,5))\n",
    "plt.plot(x, G_Tplus1.pdf(x), label='$f_X(x|T_{1})\\sim G(1,'+str(sigma_sq)+')$')\n",
    "plt.plot(x, G_Tminus1.pdf(x), label='$f_X(x|T_{-1})\\sim G(-1,'+str(sigma_sq)+')$')\n",
    "plt.legend(fontsize=15)\n",
    "plt.title('$\\sigma^2=$'+str(sigma_sq), size=15);"
   ]
  },
  {
   "cell_type": "markdown",
   "metadata": {},
   "source": [
    "___"
   ]
  },
  {
   "cell_type": "markdown",
   "metadata": {
    "slideshow": {
     "slide_type": "slide"
    }
   },
   "source": [
    "# Optimal Decisions"
   ]
  },
  {
   "cell_type": "markdown",
   "metadata": {
    "slideshow": {
     "slide_type": "slide"
    }
   },
   "source": [
    "Now suppose that we want to make an optimal decision $\\hat{T}_i$ based on observing the value of $X$ at the output of the receiver. I.e., given that we have $X=x$ for some value $x$."
   ]
  },
  {
   "cell_type": "markdown",
   "metadata": {
    "slideshow": {
     "slide_type": "fragment"
    }
   },
   "source": [
    "The MAP rule is to choose the most probable value that was transmitted given the observation. So, that corresponds to:\n",
    "\n",
    "* If $P(T_0 \\vert X=x) \\ge P(T_1 \\vert X=x)$, decide 0\n",
    "* If $P(T_1 \\vert X=x) > P(T_0 \\vert X=x)$, decide 1"
   ]
  },
  {
   "cell_type": "markdown",
   "metadata": {
    "slideshow": {
     "slide_type": "fragment"
    }
   },
   "source": [
    "and by the definition of conditional probability\n",
    "\n",
    "\\begin{align*}\n",
    "P(T_0|X=x) = \\frac{P(T_0 \\cap X=x)}{P(X=x)}\n",
    "\\end{align*}\n",
    "\n",
    "<div class=\"alert alert-danger\">\n",
    "    But both the numerator and denominator are 0, because $X$ is a continuous random variable!\n",
    "</div>"
   ]
  },
  {
   "cell_type": "markdown",
   "metadata": {
    "slideshow": {
     "slide_type": "slide"
    }
   },
   "source": [
    "# Point Conditioning"
   ]
  },
  {
   "cell_type": "markdown",
   "metadata": {
    "slideshow": {
     "slide_type": "subslide"
    }
   },
   "source": [
    "Suppose we want to evaluate the probability of an event $A$ given\n",
    "that $\\!X=\\!x$, where $X$ is a continuous random variable.  \n",
    "\n",
    "* Then, if we use the definition of conditional probability\n",
    "\\begin{align*}\n",
    "P(A|X = x) &=  \\frac{P(A \\cap X\\!=\\!x)}{P(X\\!=\\!x)}  = \\frac{0}{0}       ,\n",
    "\\end{align*}"
   ]
  },
  {
   "cell_type": "markdown",
   "metadata": {
    "slideshow": {
     "slide_type": "subslide"
    }
   },
   "source": [
    "This case is called ***point conditioning***, and we treat it as a special case:\n",
    "\n",
    "\\begin{align*}\n",
    "P(A|X = x) &= \\underset{ \\Delta x \\rightarrow 0}{\\lim} P(A| x < X \\le x+ \\Delta x ) \\\\\n",
    "&= \\underset{ \\Delta x \\rightarrow 0}{\\lim}\\frac{F_X(x + \\Delta x |A)- F_X(x|A)}{F_X(x+\\Delta x)-F_X(x)}P(A)\\\\\n",
    "&= \\underset{ \\Delta x \\rightarrow 0}{\\lim}\\frac{\\frac{ F_X(x + \\Delta x |A)- F_X(x|A)}{ \\Delta x}}{\\frac {F_X(x+\\Delta x)-F_X(x)}{ \\Delta x}} P(A)\\\\\n",
    "&= \\frac{f_X(x|A)}{f_X(x)} P(A),\n",
    "\\end{align*}"
   ]
  },
  {
   "cell_type": "markdown",
   "metadata": {
    "slideshow": {
     "slide_type": "fragment"
    }
   },
   "source": [
    "if $f_X(x|A)$ and $f_X(x)$ exist, and $f_X(x) \\ne 0$.\n",
    "\n",
    "(The result looks like what you would do if you didn't know any better -- treat the densities as if they were probabilities, and everything works out!)\n",
    "\n",
    "\n"
   ]
  },
  {
   "cell_type": "markdown",
   "metadata": {},
   "source": [
    "<div class=\"alert alert-info\">\n",
    "    <b>Point Conditioning Form of Conditional Probability</b>\n",
    "    \n",
    "\\begin{align*}\n",
    "P(A|X = x) = \\frac{f_X(x|A)P(A)}{f_X(x)}\n",
    "\\end{align*}\n",
    "</div>"
   ]
  },
  {
   "cell_type": "markdown",
   "metadata": {
    "slideshow": {
     "slide_type": "slide"
    }
   },
   "source": [
    "## Implications of Point Conditioning"
   ]
  },
  {
   "cell_type": "markdown",
   "metadata": {
    "slideshow": {
     "slide_type": "subslide"
    }
   },
   "source": [
    "Note that the form above is almost a Bayes' rule form: If $A$ is some input event and $f_X(x|A)$ is the likelihood of $X$ given $A$, then $P(A|X=x)$ is the *a posteriori* probability of $A$ given that the output of the system is $X=x$.\n",
    "\n",
    "However, we don't know how to calculate $f_X(x)$ yet."
   ]
  },
  {
   "cell_type": "markdown",
   "metadata": {},
   "source": [
    "### Total Probability for Conditional Density Functions\n",
    "\n",
    "If  $\\left\\{A_i\\right\\}$ form a partition of $S$, then from our previous work on the Law of Total Probability, we have\n",
    "\\begin{align*}\n",
    "F_X(x) &= P(X \\le x) \\\\\n",
    "&= \\sum_i P(X \\le x| A_i) P(A_i) \\\\\n",
    "&= \\sum_i F_X(x|A_i) P(A_i)\n",
    "\\end{align*}\n",
    "    \n",
    "Since $ f_X(x) = \\frac{d}{dx} F_X(x)$ and $f_X(x|A_i) = \\frac{d}{dx} F_X(x|A_i)$,\n",
    "\\begin{align*}\n",
    "f_X(x) &= \\frac{d}{dx} F_X(x) \\\\\n",
    "&= \\frac{d}{dx}\\sum_i F_X(x|A_i) P(A_i) \\\\\n",
    "&= \\sum_i \\left[\\frac{d}{dx} F_X(x|A_i) \\right]P(A_i)  \\\\\n",
    "&= \\sum_i f_X(x|A_i) P(A_i) \n",
    "\\end{align*}"
   ]
  },
  {
   "cell_type": "markdown",
   "metadata": {
    "slideshow": {
     "slide_type": "subslide"
    }
   },
   "source": [
    "### Continuous Version of Law of Total Probability\n",
    "\n",
    "\\begin{align*}\n",
    "&P(A|X = x) = \\frac{f_X(x|A)}{f_X(x)} P(A) \\\\\n",
    "\\mbox{ } \\\\\n",
    "\\Rightarrow& P(A|X=x)f_X(x) = f_X(x|A)P(A) \\\\\n",
    "\\mbox{ } \\\\\n",
    "\\Rightarrow& \\int_{-\\infty}^{\\infty} P(A|X=x)f_X(x) dx \n",
    "=  \\int_{-\\infty}^{\\infty} f_X(x|A) dx P(A) \\\\\n",
    "\\Rightarrow& P(A) =\\int_{-\\infty}^{\\infty} P(A|X=x)f_X(x) dx \n",
    "\\end{align*}"
   ]
  },
  {
   "cell_type": "markdown",
   "metadata": {},
   "source": [
    "<div class=\"alert alert-info\">\n",
    "    <b>Point Conditioning Form of the Law of Total Probability</b>\n",
    "    \n",
    "If $\\{A_i, ~i=1,2,\\ldots, n\\}$ form a partition of $S$, then\n",
    "\n",
    "\\begin{align*}\n",
    "F_X(x) = \\sum_{i=1}^n F_X(x|A_i) P(A_i)\n",
    "\\end{align*}\n",
    "\n",
    "Since $ f_X(x) = \\frac{d}{dx} F_X(x)$ and $f_X(x|A_i) = \\frac{d}{dx} F_X(x|A_i)$, we also have\n",
    "    \n",
    "\\begin{align*}\n",
    "f_X(x) = \\sum_{i=1}^n f_X(x|A_i) P(A_i) \n",
    "\\end{align*}\n",
    "</div>"
   ]
  },
  {
   "cell_type": "markdown",
   "metadata": {
    "slideshow": {
     "slide_type": "subslide"
    }
   },
   "source": [
    "### Point Conditioning Form of Bayes' Rule\n",
    "\n",
    "If $\\{A_i, ~i=1,2,\\ldots, n\\}$ form a partition of $S$, then\n",
    "\n",
    "\\begin{align*}\n",
    "P(A_i|X = x) = \\frac{f_X(x|A_i) P(A_i)}{\\sum_{i=1}^n{f_X(x|A_i) P(A_i)}}\n",
    "\\end{align*}"
   ]
  },
  {
   "cell_type": "markdown",
   "metadata": {},
   "source": [
    "<div class=\"alert alert-info\">\n",
    "    <b>Point Conditioning Form of Bayes' Rule</b>\n",
    "    \n",
    "If $\\{A_i, ~i=1,2,\\ldots, n\\}$ form a partition of $S$, then\n",
    "\n",
    "\\begin{align*}\n",
    "P(A_i|X = x) = \\frac{f_X(x|A_i) P(A_i)}{f_X(x)}=\\frac{f_X(x|A_i) P(A_i)}{\\sum_{i=1}^n{f_X(x|A_i) P(A_i)}}\n",
    "\\end{align*}"
   ]
  },
  {
   "cell_type": "markdown",
   "metadata": {
    "slideshow": {
     "slide_type": "slide"
    }
   },
   "source": [
    "**<font color=blue>Example 9</font>** Find the MAP decision rules for the binary communication system."
   ]
  },
  {
   "cell_type": "markdown",
   "metadata": {
    "slideshow": {
     "slide_type": "fragment"
    }
   },
   "source": [
    "The MAP rule is to choose $\\hat{T}_{1}$ if $T_1$ maximizes\n",
    "\\begin{align*}\n",
    "P(T_1 \\vert X=x) & \\ge P(T_{-1} \\vert X=x) \\\\\n",
    "\\frac{f_X(x=x|T_1)P(T_1)}{f_X(x)} & \\ge \\frac{f_X(x=x|T_{-1})P(T_{-1})}{f_X(x)} \\\\\n",
    "f_X(x=x|T_1)P(T_1) & \\ge f_X(x=x|T_{-1})P(T_{-1})\n",
    "\\end{align*}\n",
    "\n",
    "and choose $\\hat{T}_{-1}$ otherwise."
   ]
  },
  {
   "cell_type": "markdown",
   "metadata": {
    "slideshow": {
     "slide_type": "fragment"
    }
   },
   "source": [
    "We could simplify this further by substituting in the conditional densities but plotting the weighted densities and the decision regions will give us much more insight:"
   ]
  },
  {
   "cell_type": "code",
   "execution_count": 57,
   "metadata": {},
   "outputs": [],
   "source": [
    "def drawMAP(p,sigma2=1):\n",
    "    ''' Draw the weighted densities for the binary communication system problem\n",
    "    and shade under them according to the MAP decision rule. \n",
    "    \n",
    "    Inputs:\n",
    "    p0= probability that 0 is transmitted \n",
    "    sigma2= variance of the Gaussian noise (default is 1)'''\n",
    "    \n",
    "    # Set up random variables \n",
    "    x = np.linspace(-4,4,1000)\n",
    "    Gplus1 = stats.norm(loc = 1, scale = np.sqrt(sigma2)) #data likelihood for T0\n",
    "    Gminus1 = stats.norm(loc = -1, scale = np.sqrt(sigma2)) # data likelihood for T1\n",
    "    \n",
    "    # Prior probabilities\n",
    "    # p is given, the probability of sending a 1\n",
    "    p_minus1 = 1-p\n",
    "    \n",
    "        \n",
    "    # plot the weighted densities:\n",
    "    # these are proportional to the APPs\n",
    "    plt.figure(figsize=(10,5))\n",
    "    plt.plot(x, p*Gplus1.pdf(x), label='$f_X(x|T_1)P(T_1)$')\n",
    "    plt.plot(x, p_minus1*Gminus1.pdf(x), label='$f_X(x|T_{-1})P(T_{-1})$')\n",
    "    \n",
    "    \n",
    "    # Determine the regions where the APP for 1 is \n",
    "    # bigger and the APP for -1 is bigger\n",
    "    Rplus1 = x[p*Gplus1.pdf(x)  >= p_minus1*Gminus1.pdf(x)] # region of x in which we decide T0\n",
    "    Rminus1 = x[p_minus1*Gminus1.pdf(x) > p*Gplus1.pdf(x)] # region of x in which we decide T1\n",
    "    \n",
    "\n",
    "    # Fill under the regions found above\n",
    "    plt.fill_between(Rplus1, p*Gplus1.pdf(Rplus1), alpha = 0.3, label='Decide $T_0$')\n",
    "    plt.fill_between(Rminus1, p_minus1*Gminus1.pdf(Rminus1), alpha = 0.3, label='Decide $T_1$')\n",
    "    \n",
    "    plt.xlabel('$x$',size=15); plt.ylabel('Weigthed PDF\\n$f_X(x|T_i)P(T_i)$',size=15)\n",
    "    plt.legend(fontsize=15)\n",
    "    \n",
    "    # Print the MAP threshold\n",
    "    print('MAP decision threshold to decide T1 is >', round(Rplus1[0],2))"
   ]
  },
  {
   "cell_type": "code",
   "execution_count": 58,
   "metadata": {
    "slideshow": {
     "slide_type": "subslide"
    }
   },
   "outputs": [
    {
     "name": "stdout",
     "output_type": "stream",
     "text": [
      "MAP decision threshold to decide T1 is > 0.0\n"
     ]
    },
    {
     "data": {
      "image/png": "[encoded data removed]",
      "text/plain": [
       "<Figure size 720x360 with 1 Axes>"
      ]
     },
     "metadata": {
      "needs_background": "light"
     },
     "output_type": "display_data"
    }
   ],
   "source": [
    "drawMAP(p=0.5)"
   ]
  },
  {
   "cell_type": "code",
   "execution_count": 60,
   "metadata": {
    "slideshow": {
     "slide_type": "subslide"
    }
   },
   "outputs": [
    {
     "name": "stdout",
     "output_type": "stream",
     "text": [
      "MAP decision threshold to decide T1 is > 0.56\n"
     ]
    },
    {
     "data": {
      "image/png": "[encoded data removed]",
      "text/plain": [
       "<Figure size 720x360 with 1 Axes>"
      ]
     },
     "metadata": {
      "needs_background": "light"
     },
     "output_type": "display_data"
    }
   ],
   "source": [
    "drawMAP(p=0.25)"
   ]
  },
  {
   "cell_type": "code",
   "execution_count": 61,
   "metadata": {
    "slideshow": {
     "slide_type": "subslide"
    }
   },
   "outputs": [
    {
     "name": "stdout",
     "output_type": "stream",
     "text": [
      "MAP decision threshold to decide T1 is > -1.09\n"
     ]
    },
    {
     "data": {
      "image/png": "[encoded data removed]",
      "text/plain": [
       "<Figure size 720x360 with 1 Axes>"
      ]
     },
     "metadata": {
      "needs_background": "light"
     },
     "output_type": "display_data"
    }
   ],
   "source": [
    "drawMAP(p=0.9)"
   ]
  },
  {
   "cell_type": "code",
   "execution_count": 62,
   "metadata": {
    "slideshow": {
     "slide_type": "subslide"
    }
   },
   "outputs": [
    {
     "name": "stdout",
     "output_type": "stream",
     "text": [
      "MAP decision threshold to decide T1 is > -2.29\n"
     ]
    },
    {
     "data": {
      "image/png": "[encoded data removed]",
      "text/plain": [
       "<Figure size 720x360 with 1 Axes>"
      ]
     },
     "metadata": {
      "needs_background": "light"
     },
     "output_type": "display_data"
    }
   ],
   "source": [
    "drawMAP(p=0.99)"
   ]
  },
  {
   "cell_type": "code",
   "execution_count": null,
   "metadata": {
    "slideshow": {
     "slide_type": "subslide"
    }
   },
   "outputs": [],
   "source": []
  },
  {
   "cell_type": "markdown",
   "metadata": {},
   "source": [
    "___"
   ]
  },
  {
   "cell_type": "markdown",
   "metadata": {},
   "source": [
    "# Kernel Density Estimation (KDE)\n",
    "\n",
    "**Kernel density estimation (KDE)** is a non-parametric estimator of the probability density function (PDF) of a random variable. It is a fundamental data smoothing problem where inferences about the population are made, based on a finite data sample. It uses a mixture consisting of a Kernel component centered at each data point.\n",
    "\n",
    "* A density estimator is an algorithm which seeks to model the probability distribution that generated a data set. For one dimensional data, you are already familiar with one simple density estimator: the histogram. A histogram divides the data into discrete bins, counts the number of points that fall in each bin, and then visualizes the results in an intuitive manner.\n",
    "\n",
    "* One of the issues with using a *histogram* as a density estimator is that the choice of bin size and location can lead to representations that have qualitatively different features. \n",
    "\n",
    "* In order to smooth them out, we might decide to replace the blocks at each location with a smooth function, like a Gaussian. \n",
    "\n",
    "* Look at Lecture13-supp.ipynb for more information on KDE!"
   ]
  },
  {
   "cell_type": "code",
   "execution_count": 45,
   "metadata": {},
   "outputs": [],
   "source": [
    "G=stats.norm()\n",
    "Gvals=G.rvs(size=100)\n",
    "G25=stats.norm.rvs(size=25)"
   ]
  },
  {
   "cell_type": "code",
   "execution_count": 46,
   "metadata": {},
   "outputs": [
    {
     "data": {
      "application/javascript": [
       "/* Put everything inside the global mpl namespace */\n",
       "/* global mpl */\n",
       "window.mpl = {};\n",
       "\n",
       "mpl.get_websocket_type = function () {\n",
       "    if (typeof WebSocket !== 'undefined') {\n",
       "        return WebSocket;\n",
       "    } else if (typeof MozWebSocket !== 'undefined') {\n",
       "        return MozWebSocket;\n",
       "    } else {\n",
       "        alert(\n",
       "            'Your browser does not have WebSocket support. ' +\n",
       "                'Please try Chrome, Safari or Firefox ≥ 6. ' +\n",
       "                'Firefox 4 and 5 are also supported but you ' +\n",
       "                'have to enable WebSockets in about:config.'\n",
       "        );\n",
       "    }\n",
       "};\n",
       "\n",
       "mpl.figure = function (figure_id, websocket, ondownload, parent_element) {\n",
       "    this.id = figure_id;\n",
       "\n",
       "    this.ws = websocket;\n",
       "\n",
       "    this.supports_binary = this.ws.binaryType !== undefined;\n",
       "\n",
       "    if (!this.supports_binary) {\n",
       "        var warnings = document.getElementById('mpl-warnings');\n",
       "        if (warnings) {\n",
       "            warnings.style.display = 'block';\n",
       "            warnings.textContent =\n",
       "                'This browser does not support binary websocket messages. ' +\n",
       "                'Performance may be slow.';\n",
       "        }\n",
       "    }\n",
       "\n",
       "    this.imageObj = new Image();\n",
       "\n",
       "    this.context = undefined;\n",
       "    this.message = undefined;\n",
       "    this.canvas = undefined;\n",
       "    this.rubberband_canvas = undefined;\n",
       "    this.rubberband_context = undefined;\n",
       "    this.format_dropdown = undefined;\n",
       "\n",
       "    this.image_mode = 'full';\n",
       "\n",
       "    this.root = document.createElement('div');\n",
       "    this.root.setAttribute('style', 'display: inline-block');\n",
       "    this._root_extra_style(this.root);\n",
       "\n",
       "    parent_element.appendChild(this.root);\n",
       "\n",
       "    this._init_header(this);\n",
       "    this._init_canvas(this);\n",
       "    this._init_toolbar(this);\n",
       "\n",
       "    var fig = this;\n",
       "\n",
       "    this.waiting = false;\n",
       "\n",
       "    this.ws.onopen = function () {\n",
       "        fig.send_message('supports_binary', { value: fig.supports_binary });\n",
       "        fig.send_message('send_image_mode', {});\n",
       "        if (fig.ratio !== 1) {\n",
       "            fig.send_message('set_dpi_ratio', { dpi_ratio: fig.ratio });\n",
       "        }\n",
       "        fig.send_message('refresh', {});\n",
       "    };\n",
       "\n",
       "    this.imageObj.onload = function () {\n",
       "        if (fig.image_mode === 'full') {\n",
       "            // Full images could contain transparency (where diff images\n",
       "            // almost always do), so we need to clear the canvas so that\n",
       "            // there is no ghosting.\n",
       "            fig.context.clearRect(0, 0, fig.canvas.width, fig.canvas.height);\n",
       "        }\n",
       "        fig.context.drawImage(fig.imageObj, 0, 0);\n",
       "    };\n",
       "\n",
       "    this.imageObj.onunload = function () {\n",
       "        fig.ws.close();\n",
       "    };\n",
       "\n",
       "    this.ws.onmessage = this._make_on_message_function(this);\n",
       "\n",
       "    this.ondownload = ondownload;\n",
       "};\n",
       "\n",
       "mpl.figure.prototype._init_header = function () {\n",
       "    var titlebar = document.createElement('div');\n",
       "    titlebar.classList =\n",
       "        'ui-dialog-titlebar ui-widget-header ui-corner-all ui-helper-clearfix';\n",
       "    var titletext = document.createElement('div');\n",
       "    titletext.classList = 'ui-dialog-title';\n",
       "    titletext.setAttribute(\n",
       "        'style',\n",
       "        'width: 100%; text-align: center; padding: 3px;'\n",
       "    );\n",
       "    titlebar.appendChild(titletext);\n",
       "    this.root.appendChild(titlebar);\n",
       "    this.header = titletext;\n",
       "};\n",
       "\n",
       "mpl.figure.prototype._canvas_extra_style = function (_canvas_div) {};\n",
       "\n",
       "mpl.figure.prototype._root_extra_style = function (_canvas_div) {};\n",
       "\n",
       "mpl.figure.prototype._init_canvas = function () {\n",
       "    var fig = this;\n",
       "\n",
       "    var canvas_div = (this.canvas_div = document.createElement('div'));\n",
       "    canvas_div.setAttribute(\n",
       "        'style',\n",
       "        'border: 1px solid #ddd;' +\n",
       "            'box-sizing: content-box;' +\n",
       "            'clear: both;' +\n",
       "            'min-height: 1px;' +\n",
       "            'min-width: 1px;' +\n",
       "            'outline: 0;' +\n",
       "            'overflow: hidden;' +\n",
       "            'position: relative;' +\n",
       "            'resize: both;'\n",
       "    );\n",
       "\n",
       "    function on_keyboard_event_closure(name) {\n",
       "        return function (event) {\n",
       "            return fig.key_event(event, name);\n",
       "        };\n",
       "    }\n",
       "\n",
       "    canvas_div.addEventListener(\n",
       "        'keydown',\n",
       "        on_keyboard_event_closure('key_press')\n",
       "    );\n",
       "    canvas_div.addEventListener(\n",
       "        'keyup',\n",
       "        on_keyboard_event_closure('key_release')\n",
       "    );\n",
       "\n",
       "    this._canvas_extra_style(canvas_div);\n",
       "    this.root.appendChild(canvas_div);\n",
       "\n",
       "    var canvas = (this.canvas = document.createElement('canvas'));\n",
       "    canvas.classList.add('mpl-canvas');\n",
       "    canvas.setAttribute('style', 'box-sizing: content-box;');\n",
       "\n",
       "    this.context = canvas.getContext('2d');\n",
       "\n",
       "    var backingStore =\n",
       "        this.context.backingStorePixelRatio ||\n",
       "        this.context.webkitBackingStorePixelRatio ||\n",
       "        this.context.mozBackingStorePixelRatio ||\n",
       "        this.context.msBackingStorePixelRatio ||\n",
       "        this.context.oBackingStorePixelRatio ||\n",
       "        this.context.backingStorePixelRatio ||\n",
       "        1;\n",
       "\n",
       "    this.ratio = (window.devicePixelRatio || 1) / backingStore;\n",
       "\n",
       "    var rubberband_canvas = (this.rubberband_canvas = document.createElement(\n",
       "        'canvas'\n",
       "    ));\n",
       "    rubberband_canvas.setAttribute(\n",
       "        'style',\n",
       "        'box-sizing: content-box; position: absolute; left: 0; top: 0; z-index: 1;'\n",
       "    );\n",
       "\n",
       "    // Apply a ponyfill if ResizeObserver is not implemented by browser.\n",
       "    if (this.ResizeObserver === undefined) {\n",
       "        if (window.ResizeObserver !== undefined) {\n",
       "            this.ResizeObserver = window.ResizeObserver;\n",
       "        } else {\n",
       "            var obs = _JSXTOOLS_RESIZE_OBSERVER({});\n",
       "            this.ResizeObserver = obs.ResizeObserver;\n",
       "        }\n",
       "    }\n",
       "\n",
       "    this.resizeObserverInstance = new this.ResizeObserver(function (entries) {\n",
       "        var nentries = entries.length;\n",
       "        for (var i = 0; i < nentries; i++) {\n",
       "            var entry = entries[i];\n",
       "            var width, height;\n",
       "            if (entry.contentBoxSize) {\n",
       "                if (entry.contentBoxSize instanceof Array) {\n",
       "                    // Chrome 84 implements new version of spec.\n",
       "                    width = entry.contentBoxSize[0].inlineSize;\n",
       "                    height = entry.contentBoxSize[0].blockSize;\n",
       "                } else {\n",
       "                    // Firefox implements old version of spec.\n",
       "                    width = entry.contentBoxSize.inlineSize;\n",
       "                    height = entry.contentBoxSize.blockSize;\n",
       "                }\n",
       "            } else {\n",
       "                // Chrome <84 implements even older version of spec.\n",
       "                width = entry.contentRect.width;\n",
       "                height = entry.contentRect.height;\n",
       "            }\n",
       "\n",
       "            // Keep the size of the canvas and rubber band canvas in sync with\n",
       "            // the canvas container.\n",
       "            if (entry.devicePixelContentBoxSize) {\n",
       "                // Chrome 84 implements new version of spec.\n",
       "                canvas.setAttribute(\n",
       "                    'width',\n",
       "                    entry.devicePixelContentBoxSize[0].inlineSize\n",
       "                );\n",
       "                canvas.setAttribute(\n",
       "                    'height',\n",
       "                    entry.devicePixelContentBoxSize[0].blockSize\n",
       "                );\n",
       "            } else {\n",
       "                canvas.setAttribute('width', width * fig.ratio);\n",
       "                canvas.setAttribute('height', height * fig.ratio);\n",
       "            }\n",
       "            canvas.setAttribute(\n",
       "                'style',\n",
       "                'width: ' + width + 'px; height: ' + height + 'px;'\n",
       "            );\n",
       "\n",
       "            rubberband_canvas.setAttribute('width', width);\n",
       "            rubberband_canvas.setAttribute('height', height);\n",
       "\n",
       "            // And update the size in Python. We ignore the initial 0/0 size\n",
       "            // that occurs as the element is placed into the DOM, which should\n",
       "            // otherwise not happen due to the minimum size styling.\n",
       "            if (fig.ws.readyState == 1 && width != 0 && height != 0) {\n",
       "                fig.request_resize(width, height);\n",
       "            }\n",
       "        }\n",
       "    });\n",
       "    this.resizeObserverInstance.observe(canvas_div);\n",
       "\n",
       "    function on_mouse_event_closure(name) {\n",
       "        return function (event) {\n",
       "            return fig.mouse_event(event, name);\n",
       "        };\n",
       "    }\n",
       "\n",
       "    rubberband_canvas.addEventListener(\n",
       "        'mousedown',\n",
       "        on_mouse_event_closure('button_press')\n",
       "    );\n",
       "    rubberband_canvas.addEventListener(\n",
       "        'mouseup',\n",
       "        on_mouse_event_closure('button_release')\n",
       "    );\n",
       "    // Throttle sequential mouse events to 1 every 20ms.\n",
       "    rubberband_canvas.addEventListener(\n",
       "        'mousemove',\n",
       "        on_mouse_event_closure('motion_notify')\n",
       "    );\n",
       "\n",
       "    rubberband_canvas.addEventListener(\n",
       "        'mouseenter',\n",
       "        on_mouse_event_closure('figure_enter')\n",
       "    );\n",
       "    rubberband_canvas.addEventListener(\n",
       "        'mouseleave',\n",
       "        on_mouse_event_closure('figure_leave')\n",
       "    );\n",
       "\n",
       "    canvas_div.addEventListener('wheel', function (event) {\n",
       "        if (event.deltaY < 0) {\n",
       "            event.step = 1;\n",
       "        } else {\n",
       "            event.step = -1;\n",
       "        }\n",
       "        on_mouse_event_closure('scroll')(event);\n",
       "    });\n",
       "\n",
       "    canvas_div.appendChild(canvas);\n",
       "    canvas_div.appendChild(rubberband_canvas);\n",
       "\n",
       "    this.rubberband_context = rubberband_canvas.getContext('2d');\n",
       "    this.rubberband_context.strokeStyle = '#000000';\n",
       "\n",
       "    this._resize_canvas = function (width, height, forward) {\n",
       "        if (forward) {\n",
       "            canvas_div.style.width = width + 'px';\n",
       "            canvas_div.style.height = height + 'px';\n",
       "        }\n",
       "    };\n",
       "\n",
       "    // Disable right mouse context menu.\n",
       "    this.rubberband_canvas.addEventListener('contextmenu', function (_e) {\n",
       "        event.preventDefault();\n",
       "        return false;\n",
       "    });\n",
       "\n",
       "    function set_focus() {\n",
       "        canvas.focus();\n",
       "        canvas_div.focus();\n",
       "    }\n",
       "\n",
       "    window.setTimeout(set_focus, 100);\n",
       "};\n",
       "\n",
       "mpl.figure.prototype._init_toolbar = function () {\n",
       "    var fig = this;\n",
       "\n",
       "    var toolbar = document.createElement('div');\n",
       "    toolbar.classList = 'mpl-toolbar';\n",
       "    this.root.appendChild(toolbar);\n",
       "\n",
       "    function on_click_closure(name) {\n",
       "        return function (_event) {\n",
       "            return fig.toolbar_button_onclick(name);\n",
       "        };\n",
       "    }\n",
       "\n",
       "    function on_mouseover_closure(tooltip) {\n",
       "        return function (event) {\n",
       "            if (!event.currentTarget.disabled) {\n",
       "                return fig.toolbar_button_onmouseover(tooltip);\n",
       "            }\n",
       "        };\n",
       "    }\n",
       "\n",
       "    fig.buttons = {};\n",
       "    var buttonGroup = document.createElement('div');\n",
       "    buttonGroup.classList = 'mpl-button-group';\n",
       "    for (var toolbar_ind in mpl.toolbar_items) {\n",
       "        var name = mpl.toolbar_items[toolbar_ind][0];\n",
       "        var tooltip = mpl.toolbar_items[toolbar_ind][1];\n",
       "        var image = mpl.toolbar_items[toolbar_ind][2];\n",
       "        var method_name = mpl.toolbar_items[toolbar_ind][3];\n",
       "\n",
       "        if (!name) {\n",
       "            /* Instead of a spacer, we start a new button group. */\n",
       "            if (buttonGroup.hasChildNodes()) {\n",
       "                toolbar.appendChild(buttonGroup);\n",
       "            }\n",
       "            buttonGroup = document.createElement('div');\n",
       "            buttonGroup.classList = 'mpl-button-group';\n",
       "            continue;\n",
       "        }\n",
       "\n",
       "        var button = (fig.buttons[name] = document.createElement('button'));\n",
       "        button.classList = 'mpl-widget';\n",
       "        button.setAttribute('role', 'button');\n",
       "        button.setAttribute('aria-disabled', 'false');\n",
       "        button.addEventListener('click', on_click_closure(method_name));\n",
       "        button.addEventListener('mouseover', on_mouseover_closure(tooltip));\n",
       "\n",
       "        var icon_img = document.createElement('img');\n",
       "        icon_img.src = '_images/' + image + '.png';\n",
       "        icon_img.srcset = '_images/' + image + '_large.png 2x';\n",
       "        icon_img.alt = tooltip;\n",
       "        button.appendChild(icon_img);\n",
       "\n",
       "        buttonGroup.appendChild(button);\n",
       "    }\n",
       "\n",
       "    if (buttonGroup.hasChildNodes()) {\n",
       "        toolbar.appendChild(buttonGroup);\n",
       "    }\n",
       "\n",
       "    var fmt_picker = document.createElement('select');\n",
       "    fmt_picker.classList = 'mpl-widget';\n",
       "    toolbar.appendChild(fmt_picker);\n",
       "    this.format_dropdown = fmt_picker;\n",
       "\n",
       "    for (var ind in mpl.extensions) {\n",
       "        var fmt = mpl.extensions[ind];\n",
       "        var option = document.createElement('option');\n",
       "        option.selected = fmt === mpl.default_extension;\n",
       "        option.innerHTML = fmt;\n",
       "        fmt_picker.appendChild(option);\n",
       "    }\n",
       "\n",
       "    var status_bar = document.createElement('span');\n",
       "    status_bar.classList = 'mpl-message';\n",
       "    toolbar.appendChild(status_bar);\n",
       "    this.message = status_bar;\n",
       "};\n",
       "\n",
       "mpl.figure.prototype.request_resize = function (x_pixels, y_pixels) {\n",
       "    // Request matplotlib to resize the figure. Matplotlib will then trigger a resize in the client,\n",
       "    // which will in turn request a refresh of the image.\n",
       "    this.send_message('resize', { width: x_pixels, height: y_pixels });\n",
       "};\n",
       "\n",
       "mpl.figure.prototype.send_message = function (type, properties) {\n",
       "    properties['type'] = type;\n",
       "    properties['figure_id'] = this.id;\n",
       "    this.ws.send(JSON.stringify(properties));\n",
       "};\n",
       "\n",
       "mpl.figure.prototype.send_draw_message = function () {\n",
       "    if (!this.waiting) {\n",
       "        this.waiting = true;\n",
       "        this.ws.send(JSON.stringify({ type: 'draw', figure_id: this.id }));\n",
       "    }\n",
       "};\n",
       "\n",
       "mpl.figure.prototype.handle_save = function (fig, _msg) {\n",
       "    var format_dropdown = fig.format_dropdown;\n",
       "    var format = format_dropdown.options[format_dropdown.selectedIndex].value;\n",
       "    fig.ondownload(fig, format);\n",
       "};\n",
       "\n",
       "mpl.figure.prototype.handle_resize = function (fig, msg) {\n",
       "    var size = msg['size'];\n",
       "    if (size[0] !== fig.canvas.width || size[1] !== fig.canvas.height) {\n",
       "        fig._resize_canvas(size[0], size[1], msg['forward']);\n",
       "        fig.send_message('refresh', {});\n",
       "    }\n",
       "};\n",
       "\n",
       "mpl.figure.prototype.handle_rubberband = function (fig, msg) {\n",
       "    var x0 = msg['x0'] / fig.ratio;\n",
       "    var y0 = (fig.canvas.height - msg['y0']) / fig.ratio;\n",
       "    var x1 = msg['x1'] / fig.ratio;\n",
       "    var y1 = (fig.canvas.height - msg['y1']) / fig.ratio;\n",
       "    x0 = Math.floor(x0) + 0.5;\n",
       "    y0 = Math.floor(y0) + 0.5;\n",
       "    x1 = Math.floor(x1) + 0.5;\n",
       "    y1 = Math.floor(y1) + 0.5;\n",
       "    var min_x = Math.min(x0, x1);\n",
       "    var min_y = Math.min(y0, y1);\n",
       "    var width = Math.abs(x1 - x0);\n",
       "    var height = Math.abs(y1 - y0);\n",
       "\n",
       "    fig.rubberband_context.clearRect(\n",
       "        0,\n",
       "        0,\n",
       "        fig.canvas.width / fig.ratio,\n",
       "        fig.canvas.height / fig.ratio\n",
       "    );\n",
       "\n",
       "    fig.rubberband_context.strokeRect(min_x, min_y, width, height);\n",
       "};\n",
       "\n",
       "mpl.figure.prototype.handle_figure_label = function (fig, msg) {\n",
       "    // Updates the figure title.\n",
       "    fig.header.textContent = msg['label'];\n",
       "};\n",
       "\n",
       "mpl.figure.prototype.handle_cursor = function (fig, msg) {\n",
       "    var cursor = msg['cursor'];\n",
       "    switch (cursor) {\n",
       "        case 0:\n",
       "            cursor = 'pointer';\n",
       "            break;\n",
       "        case 1:\n",
       "            cursor = 'default';\n",
       "            break;\n",
       "        case 2:\n",
       "            cursor = 'crosshair';\n",
       "            break;\n",
       "        case 3:\n",
       "            cursor = 'move';\n",
       "            break;\n",
       "    }\n",
       "    fig.rubberband_canvas.style.cursor = cursor;\n",
       "};\n",
       "\n",
       "mpl.figure.prototype.handle_message = function (fig, msg) {\n",
       "    fig.message.textContent = msg['message'];\n",
       "};\n",
       "\n",
       "mpl.figure.prototype.handle_draw = function (fig, _msg) {\n",
       "    // Request the server to send over a new figure.\n",
       "    fig.send_draw_message();\n",
       "};\n",
       "\n",
       "mpl.figure.prototype.handle_image_mode = function (fig, msg) {\n",
       "    fig.image_mode = msg['mode'];\n",
       "};\n",
       "\n",
       "mpl.figure.prototype.handle_history_buttons = function (fig, msg) {\n",
       "    for (var key in msg) {\n",
       "        if (!(key in fig.buttons)) {\n",
       "            continue;\n",
       "        }\n",
       "        fig.buttons[key].disabled = !msg[key];\n",
       "        fig.buttons[key].setAttribute('aria-disabled', !msg[key]);\n",
       "    }\n",
       "};\n",
       "\n",
       "mpl.figure.prototype.handle_navigate_mode = function (fig, msg) {\n",
       "    if (msg['mode'] === 'PAN') {\n",
       "        fig.buttons['Pan'].classList.add('active');\n",
       "        fig.buttons['Zoom'].classList.remove('active');\n",
       "    } else if (msg['mode'] === 'ZOOM') {\n",
       "        fig.buttons['Pan'].classList.remove('active');\n",
       "        fig.buttons['Zoom'].classList.add('active');\n",
       "    } else {\n",
       "        fig.buttons['Pan'].classList.remove('active');\n",
       "        fig.buttons['Zoom'].classList.remove('active');\n",
       "    }\n",
       "};\n",
       "\n",
       "mpl.figure.prototype.updated_canvas_event = function () {\n",
       "    // Called whenever the canvas gets updated.\n",
       "    this.send_message('ack', {});\n",
       "};\n",
       "\n",
       "// A function to construct a web socket function for onmessage handling.\n",
       "// Called in the figure constructor.\n",
       "mpl.figure.prototype._make_on_message_function = function (fig) {\n",
       "    return function socket_on_message(evt) {\n",
       "        if (evt.data instanceof Blob) {\n",
       "            /* FIXME: We get \"Resource interpreted as Image but\n",
       "             * transferred with MIME type text/plain:\" errors on\n",
       "             * Chrome.  But how to set the MIME type?  It doesn't seem\n",
       "             * to be part of the websocket stream */\n",
       "            evt.data.type = 'image/png';\n",
       "\n",
       "            /* Free the memory for the previous frames */\n",
       "            if (fig.imageObj.src) {\n",
       "                (window.URL || window.webkitURL).revokeObjectURL(\n",
       "                    fig.imageObj.src\n",
       "                );\n",
       "            }\n",
       "\n",
       "            fig.imageObj.src = (window.URL || window.webkitURL).createObjectURL(\n",
       "                evt.data\n",
       "            );\n",
       "            fig.updated_canvas_event();\n",
       "            fig.waiting = false;\n",
       "            return;\n",
       "        } else if (\n",
       "            typeof evt.data === 'string' &&\n",
       "            evt.data.slice(0, 21) === 'data:image/png;base64'\n",
       "        ) {\n",
       "            fig.imageObj.src = evt.data;\n",
       "            fig.updated_canvas_event();\n",
       "            fig.waiting = false;\n",
       "            return;\n",
       "        }\n",
       "\n",
       "        var msg = JSON.parse(evt.data);\n",
       "        var msg_type = msg['type'];\n",
       "\n",
       "        // Call the  \"handle_{type}\" callback, which takes\n",
       "        // the figure and JSON message as its only arguments.\n",
       "        try {\n",
       "            var callback = fig['handle_' + msg_type];\n",
       "        } catch (e) {\n",
       "            console.log(\n",
       "                \"No handler for the '\" + msg_type + \"' message type: \",\n",
       "                msg\n",
       "            );\n",
       "            return;\n",
       "        }\n",
       "\n",
       "        if (callback) {\n",
       "            try {\n",
       "                // console.log(\"Handling '\" + msg_type + \"' message: \", msg);\n",
       "                callback(fig, msg);\n",
       "            } catch (e) {\n",
       "                console.log(\n",
       "                    \"Exception inside the 'handler_\" + msg_type + \"' callback:\",\n",
       "                    e,\n",
       "                    e.stack,\n",
       "                    msg\n",
       "                );\n",
       "            }\n",
       "        }\n",
       "    };\n",
       "};\n",
       "\n",
       "// from http://stackoverflow.com/questions/1114465/getting-mouse-location-in-canvas\n",
       "mpl.findpos = function (e) {\n",
       "    //this section is from http://www.quirksmode.org/js/events_properties.html\n",
       "    var targ;\n",
       "    if (!e) {\n",
       "        e = window.event;\n",
       "    }\n",
       "    if (e.target) {\n",
       "        targ = e.target;\n",
       "    } else if (e.srcElement) {\n",
       "        targ = e.srcElement;\n",
       "    }\n",
       "    if (targ.nodeType === 3) {\n",
       "        // defeat Safari bug\n",
       "        targ = targ.parentNode;\n",
       "    }\n",
       "\n",
       "    // pageX,Y are the mouse positions relative to the document\n",
       "    var boundingRect = targ.getBoundingClientRect();\n",
       "    var x = e.pageX - (boundingRect.left + document.body.scrollLeft);\n",
       "    var y = e.pageY - (boundingRect.top + document.body.scrollTop);\n",
       "\n",
       "    return { x: x, y: y };\n",
       "};\n",
       "\n",
       "/*\n",
       " * return a copy of an object with only non-object keys\n",
       " * we need this to avoid circular references\n",
       " * http://stackoverflow.com/a/24161582/3208463\n",
       " */\n",
       "function simpleKeys(original) {\n",
       "    return Object.keys(original).reduce(function (obj, key) {\n",
       "        if (typeof original[key] !== 'object') {\n",
       "            obj[key] = original[key];\n",
       "        }\n",
       "        return obj;\n",
       "    }, {});\n",
       "}\n",
       "\n",
       "mpl.figure.prototype.mouse_event = function (event, name) {\n",
       "    var canvas_pos = mpl.findpos(event);\n",
       "\n",
       "    if (name === 'button_press') {\n",
       "        this.canvas.focus();\n",
       "        this.canvas_div.focus();\n",
       "    }\n",
       "\n",
       "    var x = canvas_pos.x * this.ratio;\n",
       "    var y = canvas_pos.y * this.ratio;\n",
       "\n",
       "    this.send_message(name, {\n",
       "        x: x,\n",
       "        y: y,\n",
       "        button: event.button,\n",
       "        step: event.step,\n",
       "        guiEvent: simpleKeys(event),\n",
       "    });\n",
       "\n",
       "    /* This prevents the web browser from automatically changing to\n",
       "     * the text insertion cursor when the button is pressed.  We want\n",
       "     * to control all of the cursor setting manually through the\n",
       "     * 'cursor' event from matplotlib */\n",
       "    event.preventDefault();\n",
       "    return false;\n",
       "};\n",
       "\n",
       "mpl.figure.prototype._key_event_extra = function (_event, _name) {\n",
       "    // Handle any extra behaviour associated with a key event\n",
       "};\n",
       "\n",
       "mpl.figure.prototype.key_event = function (event, name) {\n",
       "    // Prevent repeat events\n",
       "    if (name === 'key_press') {\n",
       "        if (event.which === this._key) {\n",
       "            return;\n",
       "        } else {\n",
       "            this._key = event.which;\n",
       "        }\n",
       "    }\n",
       "    if (name === 'key_release') {\n",
       "        this._key = null;\n",
       "    }\n",
       "\n",
       "    var value = '';\n",
       "    if (event.ctrlKey && event.which !== 17) {\n",
       "        value += 'ctrl+';\n",
       "    }\n",
       "    if (event.altKey && event.which !== 18) {\n",
       "        value += 'alt+';\n",
       "    }\n",
       "    if (event.shiftKey && event.which !== 16) {\n",
       "        value += 'shift+';\n",
       "    }\n",
       "\n",
       "    value += 'k';\n",
       "    value += event.which.toString();\n",
       "\n",
       "    this._key_event_extra(event, name);\n",
       "\n",
       "    this.send_message(name, { key: value, guiEvent: simpleKeys(event) });\n",
       "    return false;\n",
       "};\n",
       "\n",
       "mpl.figure.prototype.toolbar_button_onclick = function (name) {\n",
       "    if (name === 'download') {\n",
       "        this.handle_save(this, null);\n",
       "    } else {\n",
       "        this.send_message('toolbar_button', { name: name });\n",
       "    }\n",
       "};\n",
       "\n",
       "mpl.figure.prototype.toolbar_button_onmouseover = function (tooltip) {\n",
       "    this.message.textContent = tooltip;\n",
       "};\n",
       "\n",
       "///////////////// REMAINING CONTENT GENERATED BY embed_js.py /////////////////\n",
       "// prettier-ignore\n",
       "var _JSXTOOLS_RESIZE_OBSERVER=function(A){var t,i=new WeakMap,n=new WeakMap,a=new WeakMap,r=new WeakMap,o=new Set;function s(e){if(!(this instanceof s))throw new TypeError(\"Constructor requires 'new' operator\");i.set(this,e)}function h(){throw new TypeError(\"Function is not a constructor\")}function c(e,t,i,n){e=0 in arguments?Number(arguments[0]):0,t=1 in arguments?Number(arguments[1]):0,i=2 in arguments?Number(arguments[2]):0,n=3 in arguments?Number(arguments[3]):0,this.right=(this.x=this.left=e)+(this.width=i),this.bottom=(this.y=this.top=t)+(this.height=n),Object.freeze(this)}function d(){t=requestAnimationFrame(d);var s=new WeakMap,p=new Set;o.forEach((function(t){r.get(t).forEach((function(i){var r=t instanceof window.SVGElement,o=a.get(t),d=r?0:parseFloat(o.paddingTop),f=r?0:parseFloat(o.paddingRight),l=r?0:parseFloat(o.paddingBottom),u=r?0:parseFloat(o.paddingLeft),g=r?0:parseFloat(o.borderTopWidth),m=r?0:parseFloat(o.borderRightWidth),w=r?0:parseFloat(o.borderBottomWidth),b=u+f,F=d+l,v=(r?0:parseFloat(o.borderLeftWidth))+m,W=g+w,y=r?0:t.offsetHeight-W-t.clientHeight,E=r?0:t.offsetWidth-v-t.clientWidth,R=b+v,z=F+W,M=r?t.width:parseFloat(o.width)-R-E,O=r?t.height:parseFloat(o.height)-z-y;if(n.has(t)){var k=n.get(t);if(k[0]===M&&k[1]===O)return}n.set(t,[M,O]);var S=Object.create(h.prototype);S.target=t,S.contentRect=new c(u,d,M,O),s.has(i)||(s.set(i,[]),p.add(i)),s.get(i).push(S)}))})),p.forEach((function(e){i.get(e).call(e,s.get(e),e)}))}return s.prototype.observe=function(i){if(i instanceof window.Element){r.has(i)||(r.set(i,new Set),o.add(i),a.set(i,window.getComputedStyle(i)));var n=r.get(i);n.has(this)||n.add(this),cancelAnimationFrame(t),t=requestAnimationFrame(d)}},s.prototype.unobserve=function(i){if(i instanceof window.Element&&r.has(i)){var n=r.get(i);n.has(this)&&(n.delete(this),n.size||(r.delete(i),o.delete(i))),n.size||r.delete(i),o.size||cancelAnimationFrame(t)}},A.DOMRectReadOnly=c,A.ResizeObserver=s,A.ResizeObserverEntry=h,A}; // eslint-disable-line\n",
       "mpl.toolbar_items = [[\"Home\", \"Reset original view\", \"fa fa-home icon-home\", \"home\"], [\"Back\", \"Back to previous view\", \"fa fa-arrow-left icon-arrow-left\", \"back\"], [\"Forward\", \"Forward to next view\", \"fa fa-arrow-right icon-arrow-right\", \"forward\"], [\"\", \"\", \"\", \"\"], [\"Pan\", \"Left button pans, Right button zooms\\nx/y fixes axis, CTRL fixes aspect\", \"fa fa-arrows icon-move\", \"pan\"], [\"Zoom\", \"Zoom to rectangle\\nx/y fixes axis, CTRL fixes aspect\", \"fa fa-square-o icon-check-empty\", \"zoom\"], [\"\", \"\", \"\", \"\"], [\"Download\", \"Download plot\", \"fa fa-floppy-o icon-save\", \"download\"]];\n",
       "\n",
       "mpl.extensions = [\"eps\", \"jpeg\", \"pdf\", \"png\", \"ps\", \"raw\", \"svg\", \"tif\"];\n",
       "\n",
       "mpl.default_extension = \"png\";/* global mpl */\n",
       "\n",
       "var comm_websocket_adapter = function (comm) {\n",
       "    // Create a \"websocket\"-like object which calls the given IPython comm\n",
       "    // object with the appropriate methods. Currently this is a non binary\n",
       "    // socket, so there is still some room for performance tuning.\n",
       "    var ws = {};\n",
       "\n",
       "    ws.close = function () {\n",
       "        comm.close();\n",
       "    };\n",
       "    ws.send = function (m) {\n",
       "        //console.log('sending', m);\n",
       "        comm.send(m);\n",
       "    };\n",
       "    // Register the callback with on_msg.\n",
       "    comm.on_msg(function (msg) {\n",
       "        //console.log('receiving', msg['content']['data'], msg);\n",
       "        // Pass the mpl event to the overridden (by mpl) onmessage function.\n",
       "        ws.onmessage(msg['content']['data']);\n",
       "    });\n",
       "    return ws;\n",
       "};\n",
       "\n",
       "mpl.mpl_figure_comm = function (comm, msg) {\n",
       "    // This is the function which gets called when the mpl process\n",
       "    // starts-up an IPython Comm through the \"matplotlib\" channel.\n",
       "\n",
       "    var id = msg.content.data.id;\n",
       "    // Get hold of the div created by the display call when the Comm\n",
       "    // socket was opened in Python.\n",
       "    var element = document.getElementById(id);\n",
       "    var ws_proxy = comm_websocket_adapter(comm);\n",
       "\n",
       "    function ondownload(figure, _format) {\n",
       "        window.open(figure.canvas.toDataURL());\n",
       "    }\n",
       "\n",
       "    var fig = new mpl.figure(id, ws_proxy, ondownload, element);\n",
       "\n",
       "    // Call onopen now - mpl needs it, as it is assuming we've passed it a real\n",
       "    // web socket which is closed, not our websocket->open comm proxy.\n",
       "    ws_proxy.onopen();\n",
       "\n",
       "    fig.parent_element = element;\n",
       "    fig.cell_info = mpl.find_output_cell(\"<div id='\" + id + \"'></div>\");\n",
       "    if (!fig.cell_info) {\n",
       "        console.error('Failed to find cell for figure', id, fig);\n",
       "        return;\n",
       "    }\n",
       "    fig.cell_info[0].output_area.element.on(\n",
       "        'cleared',\n",
       "        { fig: fig },\n",
       "        fig._remove_fig_handler\n",
       "    );\n",
       "};\n",
       "\n",
       "mpl.figure.prototype.handle_close = function (fig, msg) {\n",
       "    var width = fig.canvas.width / fig.ratio;\n",
       "    fig.cell_info[0].output_area.element.off(\n",
       "        'cleared',\n",
       "        fig._remove_fig_handler\n",
       "    );\n",
       "    fig.resizeObserverInstance.unobserve(fig.canvas_div);\n",
       "\n",
       "    // Update the output cell to use the data from the current canvas.\n",
       "    fig.push_to_output();\n",
       "    var dataURL = fig.canvas.toDataURL();\n",
       "    // Re-enable the keyboard manager in IPython - without this line, in FF,\n",
       "    // the notebook keyboard shortcuts fail.\n",
       "    IPython.keyboard_manager.enable();\n",
       "    fig.parent_element.innerHTML =\n",
       "        '<img src=\"' + dataURL + '\" width=\"' + width + '\">';\n",
       "    fig.close_ws(fig, msg);\n",
       "};\n",
       "\n",
       "mpl.figure.prototype.close_ws = function (fig, msg) {\n",
       "    fig.send_message('closing', msg);\n",
       "    // fig.ws.close()\n",
       "};\n",
       "\n",
       "mpl.figure.prototype.push_to_output = function (_remove_interactive) {\n",
       "    // Turn the data on the canvas into data in the output cell.\n",
       "    var width = this.canvas.width / this.ratio;\n",
       "    var dataURL = this.canvas.toDataURL();\n",
       "    this.cell_info[1]['text/html'] =\n",
       "        '<img src=\"' + dataURL + '\" width=\"' + width + '\">';\n",
       "};\n",
       "\n",
       "mpl.figure.prototype.updated_canvas_event = function () {\n",
       "    // Tell IPython that the notebook contents must change.\n",
       "    IPython.notebook.set_dirty(true);\n",
       "    this.send_message('ack', {});\n",
       "    var fig = this;\n",
       "    // Wait a second, then push the new image to the DOM so\n",
       "    // that it is saved nicely (might be nice to debounce this).\n",
       "    setTimeout(function () {\n",
       "        fig.push_to_output();\n",
       "    }, 1000);\n",
       "};\n",
       "\n",
       "mpl.figure.prototype._init_toolbar = function () {\n",
       "    var fig = this;\n",
       "\n",
       "    var toolbar = document.createElement('div');\n",
       "    toolbar.classList = 'btn-toolbar';\n",
       "    this.root.appendChild(toolbar);\n",
       "\n",
       "    function on_click_closure(name) {\n",
       "        return function (_event) {\n",
       "            return fig.toolbar_button_onclick(name);\n",
       "        };\n",
       "    }\n",
       "\n",
       "    function on_mouseover_closure(tooltip) {\n",
       "        return function (event) {\n",
       "            if (!event.currentTarget.disabled) {\n",
       "                return fig.toolbar_button_onmouseover(tooltip);\n",
       "            }\n",
       "        };\n",
       "    }\n",
       "\n",
       "    fig.buttons = {};\n",
       "    var buttonGroup = document.createElement('div');\n",
       "    buttonGroup.classList = 'btn-group';\n",
       "    var button;\n",
       "    for (var toolbar_ind in mpl.toolbar_items) {\n",
       "        var name = mpl.toolbar_items[toolbar_ind][0];\n",
       "        var tooltip = mpl.toolbar_items[toolbar_ind][1];\n",
       "        var image = mpl.toolbar_items[toolbar_ind][2];\n",
       "        var method_name = mpl.toolbar_items[toolbar_ind][3];\n",
       "\n",
       "        if (!name) {\n",
       "            /* Instead of a spacer, we start a new button group. */\n",
       "            if (buttonGroup.hasChildNodes()) {\n",
       "                toolbar.appendChild(buttonGroup);\n",
       "            }\n",
       "            buttonGroup = document.createElement('div');\n",
       "            buttonGroup.classList = 'btn-group';\n",
       "            continue;\n",
       "        }\n",
       "\n",
       "        button = fig.buttons[name] = document.createElement('button');\n",
       "        button.classList = 'btn btn-default';\n",
       "        button.href = '#';\n",
       "        button.title = name;\n",
       "        button.innerHTML = '<i class=\"fa ' + image + ' fa-lg\"></i>';\n",
       "        button.addEventListener('click', on_click_closure(method_name));\n",
       "        button.addEventListener('mouseover', on_mouseover_closure(tooltip));\n",
       "        buttonGroup.appendChild(button);\n",
       "    }\n",
       "\n",
       "    if (buttonGroup.hasChildNodes()) {\n",
       "        toolbar.appendChild(buttonGroup);\n",
       "    }\n",
       "\n",
       "    // Add the status bar.\n",
       "    var status_bar = document.createElement('span');\n",
       "    status_bar.classList = 'mpl-message pull-right';\n",
       "    toolbar.appendChild(status_bar);\n",
       "    this.message = status_bar;\n",
       "\n",
       "    // Add the close button to the window.\n",
       "    var buttongrp = document.createElement('div');\n",
       "    buttongrp.classList = 'btn-group inline pull-right';\n",
       "    button = document.createElement('button');\n",
       "    button.classList = 'btn btn-mini btn-primary';\n",
       "    button.href = '#';\n",
       "    button.title = 'Stop Interaction';\n",
       "    button.innerHTML = '<i class=\"fa fa-power-off icon-remove icon-large\"></i>';\n",
       "    button.addEventListener('click', function (_evt) {\n",
       "        fig.handle_close(fig, {});\n",
       "    });\n",
       "    button.addEventListener(\n",
       "        'mouseover',\n",
       "        on_mouseover_closure('Stop Interaction')\n",
       "    );\n",
       "    buttongrp.appendChild(button);\n",
       "    var titlebar = this.root.querySelector('.ui-dialog-titlebar');\n",
       "    titlebar.insertBefore(buttongrp, titlebar.firstChild);\n",
       "};\n",
       "\n",
       "mpl.figure.prototype._remove_fig_handler = function (event) {\n",
       "    var fig = event.data.fig;\n",
       "    if (event.target !== this) {\n",
       "        // Ignore bubbled events from children.\n",
       "        return;\n",
       "    }\n",
       "    fig.close_ws(fig, {});\n",
       "};\n",
       "\n",
       "mpl.figure.prototype._root_extra_style = function (el) {\n",
       "    el.style.boxSizing = 'content-box'; // override notebook setting of border-box.\n",
       "};\n",
       "\n",
       "mpl.figure.prototype._canvas_extra_style = function (el) {\n",
       "    // this is important to make the div 'focusable\n",
       "    el.setAttribute('tabindex', 0);\n",
       "    // reach out to IPython and tell the keyboard manager to turn it's self\n",
       "    // off when our div gets focus\n",
       "\n",
       "    // location in version 3\n",
       "    if (IPython.notebook.keyboard_manager) {\n",
       "        IPython.notebook.keyboard_manager.register_events(el);\n",
       "    } else {\n",
       "        // location in version 2\n",
       "        IPython.keyboard_manager.register_events(el);\n",
       "    }\n",
       "};\n",
       "\n",
       "mpl.figure.prototype._key_event_extra = function (event, _name) {\n",
       "    var manager = IPython.notebook.keyboard_manager;\n",
       "    if (!manager) {\n",
       "        manager = IPython.keyboard_manager;\n",
       "    }\n",
       "\n",
       "    // Check for shift+enter\n",
       "    if (event.shiftKey && event.which === 13) {\n",
       "        this.canvas_div.blur();\n",
       "        // select the cell after this one\n",
       "        var index = IPython.notebook.find_cell_index(this.cell_info[0]);\n",
       "        IPython.notebook.select(index + 1);\n",
       "    }\n",
       "};\n",
       "\n",
       "mpl.figure.prototype.handle_save = function (fig, _msg) {\n",
       "    fig.ondownload(fig, null);\n",
       "};\n",
       "\n",
       "mpl.find_output_cell = function (html_output) {\n",
       "    // Return the cell and output element which can be found *uniquely* in the notebook.\n",
       "    // Note - this is a bit hacky, but it is done because the \"notebook_saving.Notebook\"\n",
       "    // IPython event is triggered only after the cells have been serialised, which for\n",
       "    // our purposes (turning an active figure into a static one), is too late.\n",
       "    var cells = IPython.notebook.get_cells();\n",
       "    var ncells = cells.length;\n",
       "    for (var i = 0; i < ncells; i++) {\n",
       "        var cell = cells[i];\n",
       "        if (cell.cell_type === 'code') {\n",
       "            for (var j = 0; j < cell.output_area.outputs.length; j++) {\n",
       "                var data = cell.output_area.outputs[j];\n",
       "                if (data.data) {\n",
       "                    // IPython >= 3 moved mimebundle to data attribute of output\n",
       "                    data = data.data;\n",
       "                }\n",
       "                if (data['text/html'] === html_output) {\n",
       "                    return [cell, data, j];\n",
       "                }\n",
       "            }\n",
       "        }\n",
       "    }\n",
       "};\n",
       "\n",
       "// Register the function which deals with the matplotlib target/channel.\n",
       "// The kernel may be null if the page has been refreshed.\n",
       "if (IPython.notebook.kernel !== null) {\n",
       "    IPython.notebook.kernel.comm_manager.register_target(\n",
       "        'matplotlib',\n",
       "        mpl.mpl_figure_comm\n",
       "    );\n",
       "}\n"
      ],
      "text/plain": [
       "<IPython.core.display.Javascript object>"
      ]
     },
     "metadata": {},
     "output_type": "display_data"
    },
    {
     "data": {
      "text/html": [
       "<img src=\"data:image/png;base64,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\" width=\"299.99999349767523\">"
      ],
      "text/plain": [
       "<IPython.core.display.HTML object>"
      ]
     },
     "metadata": {},
     "output_type": "display_data"
    }
   ],
   "source": [
    "from matplotlib import animation\n",
    "#This will do an animated histogram\n",
    "%matplotlib notebook\n",
    "\n",
    "fig = plt.figure()\n",
    "fig.set_dpi(100)\n",
    "fig.set_size_inches(5, 4)\n",
    "\n",
    "ax = plt.axes(xlim=(-5, 5), ylim=(0, 15))\n",
    "blocks={}\n",
    "floors={}\n",
    "patchesPerBlock=25\n",
    "\n",
    "def init():\n",
    "    blocks['activeBlock']=0\n",
    "    for num,var in enumerate(G25):\n",
    "        center=round(var,1)\n",
    "        blocks[num]=[]\n",
    "        for i in range(patchesPerBlock):\n",
    "            binedge=round(center+(i-patchesPerBlock//2)*0.1,1)\n",
    "            patch = plt.Rectangle((binedge, 16), 0.1,\n",
    "                                  stats.norm.pdf((i-patchesPerBlock//2)*0.1,scale=0.5)*1.5, fc='b')\n",
    "            ax.add_patch(patch)\n",
    "            blocks[num]+=[patch]\n",
    "            floors[binedge]=0.01\n",
    "        #print(num,var, patches)\n",
    "\n",
    "\n",
    "    return []\n",
    "\n",
    "def animatePatch(i, patch,update):\n",
    "    return patch,\n",
    "\n",
    "def animate(i, blocks):\n",
    "    activeBlock=blocks['activeBlock']\n",
    "    #print(activeBlock,blocks)\n",
    "    numFloored=0\n",
    "    for patch in blocks[activeBlock]:\n",
    "        x,y=patch.xy\n",
    "        if y<=floors[x]:\n",
    "            #floors[x]=floors[x]+0.6\n",
    "            #print(\"floors[\",x,\"]=\",floors[x])\n",
    "            patch.xy=(x,floors[x])\n",
    "            numFloored+=1\n",
    "        else:\n",
    "            patch.xy=(x,y-0.2)\n",
    "    if numFloored>=patchesPerBlock:\n",
    "        for patch in blocks[activeBlock]:\n",
    "            x,y=patch.xy\n",
    "            floors[x]=round(floors[x]+patch.get_height(),1)\n",
    "        blocks['activeBlock']=activeBlock+1\n",
    "        activeBlock+=1\n",
    "        if activeBlock not in blocks.keys():\n",
    "            return []\n",
    "        #print(patches[activePatch])\n",
    "    for i in blocks:\n",
    "        #print(patchnum)\n",
    "        if i!='activeBlock':\n",
    "            for patch in blocks[i]:\n",
    "                animatePatch(i, patch,activeBlock==i)\n",
    "\n",
    "    return[]\n",
    "\n",
    "anim = animation.FuncAnimation(fig, animate, \n",
    "                               init_func=init, \n",
    "                               frames=100*len(G25), \n",
    "                               fargs=(blocks,),\n",
    "                               interval=5,\n",
    "                               blit=True,repeat=False)\n",
    "anim\n",
    "plt.show()"
   ]
  },
  {
   "cell_type": "markdown",
   "metadata": {},
   "source": [
    "Here is the same type of graph created with a wider, more finely quantized Gaussian shape and 100 Gaussian random variables:"
   ]
  },
  {
   "cell_type": "code",
   "execution_count": 47,
   "metadata": {},
   "outputs": [
    {
     "data": {
      "image/png": "[encoded data removed]",
      "text/plain": [
       "<Figure size 432x288 with 1 Axes>"
      ]
     },
     "metadata": {
      "needs_background": "light"
     },
     "output_type": "display_data"
    }
   ],
   "source": [
    "%matplotlib inline\n",
    "x = np.linspace(-5,5, 1000)\n",
    "density=np.zeros(x.size)\n",
    "for xi in Gvals:\n",
    "    ## Create new Gaussian RVs centered on the observation\n",
    "    Gi=stats.norm(xi) \n",
    "    ## Use the density of the RV as the shape:\n",
    "    density+=Gi.pdf(x) \n",
    "    \n",
    "plt.fill_between(x, density);"
   ]
  },
  {
   "cell_type": "markdown",
   "metadata": {},
   "source": [
    "**Magic!** This looks a lot like our density, even though we only had 100 observations!\n",
    "\n",
    "The shape we use to build this new density estimate is called a **\"kernel\"**.\n",
    "\n",
    "This approach is called **kernel density estimation (KDE)**.\n",
    "\n"
   ]
  },
  {
   "cell_type": "markdown",
   "metadata": {},
   "source": [
    "* The free parameter of kernel density estimation is the **kernel** function, which specifies the shape of the distribution placed at each point, and the kernel **bandwidth**, which controls the size of the kernel at each point. In practice, there are many kernels you might use for a kernel density estimation: in particular, the Scikit-Learn KDE implementation supports six kernel functions, which you can read about in Scikit-Learn's [Density Estimation documentation](https://scikit-learn.org/stable/modules/density.html)."
   ]
  },
  {
   "cell_type": "markdown",
   "metadata": {},
   "source": [
    "## Applying KDE to a dataset"
   ]
  },
  {
   "cell_type": "code",
   "execution_count": 48,
   "metadata": {
    "scrolled": true
   },
   "outputs": [
    {
     "data": {
      "text/html": [
       "<div>\n",
       "<style scoped>\n",
       "    .dataframe tbody tr th:only-of-type {\n",
       "        vertical-align: middle;\n",
       "    }\n",
       "\n",
       "    .dataframe tbody tr th {\n",
       "        vertical-align: top;\n",
       "    }\n",
       "\n",
       "    .dataframe thead th {\n",
       "        text-align: right;\n",
       "    }\n",
       "</style>\n",
       "<table border=\"1\" class=\"dataframe\">\n",
       "  <thead>\n",
       "    <tr style=\"text-align: right;\">\n",
       "      <th></th>\n",
       "      <th>STATE</th>\n",
       "      <th>RATE-2014</th>\n",
       "      <th>Percent Urban</th>\n",
       "    </tr>\n",
       "  </thead>\n",
       "  <tbody>\n",
       "    <tr>\n",
       "      <th>0</th>\n",
       "      <td>AL</td>\n",
       "      <td>16.9</td>\n",
       "      <td>59.0</td>\n",
       "    </tr>\n",
       "    <tr>\n",
       "      <th>1</th>\n",
       "      <td>AK</td>\n",
       "      <td>19.2</td>\n",
       "      <td>66.0</td>\n",
       "    </tr>\n",
       "    <tr>\n",
       "      <th>2</th>\n",
       "      <td>AZ</td>\n",
       "      <td>13.5</td>\n",
       "      <td>89.8</td>\n",
       "    </tr>\n",
       "    <tr>\n",
       "      <th>3</th>\n",
       "      <td>AR</td>\n",
       "      <td>16.6</td>\n",
       "      <td>56.2</td>\n",
       "    </tr>\n",
       "    <tr>\n",
       "      <th>4</th>\n",
       "      <td>CA</td>\n",
       "      <td>7.4</td>\n",
       "      <td>95.0</td>\n",
       "    </tr>\n",
       "    <tr>\n",
       "      <th>5</th>\n",
       "      <td>CO</td>\n",
       "      <td>12.2</td>\n",
       "      <td>86.2</td>\n",
       "    </tr>\n",
       "    <tr>\n",
       "      <th>6</th>\n",
       "      <td>CT</td>\n",
       "      <td>5.0</td>\n",
       "      <td>88.0</td>\n",
       "    </tr>\n",
       "    <tr>\n",
       "      <th>7</th>\n",
       "      <td>DE</td>\n",
       "      <td>11.1</td>\n",
       "      <td>83.3</td>\n",
       "    </tr>\n",
       "    <tr>\n",
       "      <th>8</th>\n",
       "      <td>FL</td>\n",
       "      <td>11.5</td>\n",
       "      <td>91.2</td>\n",
       "    </tr>\n",
       "    <tr>\n",
       "      <th>9</th>\n",
       "      <td>GA</td>\n",
       "      <td>13.7</td>\n",
       "      <td>75.1</td>\n",
       "    </tr>\n",
       "    <tr>\n",
       "      <th>10</th>\n",
       "      <td>HI</td>\n",
       "      <td>2.6</td>\n",
       "      <td>91.9</td>\n",
       "    </tr>\n",
       "    <tr>\n",
       "      <th>11</th>\n",
       "      <td>ID</td>\n",
       "      <td>13.2</td>\n",
       "      <td>70.6</td>\n",
       "    </tr>\n",
       "    <tr>\n",
       "      <th>12</th>\n",
       "      <td>IL</td>\n",
       "      <td>9.0</td>\n",
       "      <td>88.5</td>\n",
       "    </tr>\n",
       "    <tr>\n",
       "      <th>13</th>\n",
       "      <td>IN</td>\n",
       "      <td>12.4</td>\n",
       "      <td>72.4</td>\n",
       "    </tr>\n",
       "    <tr>\n",
       "      <th>14</th>\n",
       "      <td>IA</td>\n",
       "      <td>7.5</td>\n",
       "      <td>64.0</td>\n",
       "    </tr>\n",
       "    <tr>\n",
       "      <th>15</th>\n",
       "      <td>KS</td>\n",
       "      <td>11.3</td>\n",
       "      <td>74.2</td>\n",
       "    </tr>\n",
       "    <tr>\n",
       "      <th>16</th>\n",
       "      <td>KY</td>\n",
       "      <td>13.9</td>\n",
       "      <td>58.4</td>\n",
       "    </tr>\n",
       "    <tr>\n",
       "      <th>17</th>\n",
       "      <td>LA</td>\n",
       "      <td>19.0</td>\n",
       "      <td>73.2</td>\n",
       "    </tr>\n",
       "    <tr>\n",
       "      <th>18</th>\n",
       "      <td>ME</td>\n",
       "      <td>9.4</td>\n",
       "      <td>38.7</td>\n",
       "    </tr>\n",
       "    <tr>\n",
       "      <th>19</th>\n",
       "      <td>MD</td>\n",
       "      <td>9.0</td>\n",
       "      <td>87.2</td>\n",
       "    </tr>\n",
       "    <tr>\n",
       "      <th>20</th>\n",
       "      <td>MA</td>\n",
       "      <td>3.2</td>\n",
       "      <td>92.0</td>\n",
       "    </tr>\n",
       "    <tr>\n",
       "      <th>21</th>\n",
       "      <td>MI</td>\n",
       "      <td>11.1</td>\n",
       "      <td>74.6</td>\n",
       "    </tr>\n",
       "    <tr>\n",
       "      <th>22</th>\n",
       "      <td>MN</td>\n",
       "      <td>6.6</td>\n",
       "      <td>73.3</td>\n",
       "    </tr>\n",
       "    <tr>\n",
       "      <th>23</th>\n",
       "      <td>MS</td>\n",
       "      <td>18.3</td>\n",
       "      <td>49.4</td>\n",
       "    </tr>\n",
       "    <tr>\n",
       "      <th>24</th>\n",
       "      <td>MO</td>\n",
       "      <td>15.3</td>\n",
       "      <td>70.4</td>\n",
       "    </tr>\n",
       "    <tr>\n",
       "      <th>25</th>\n",
       "      <td>MT</td>\n",
       "      <td>16.1</td>\n",
       "      <td>55.9</td>\n",
       "    </tr>\n",
       "    <tr>\n",
       "      <th>26</th>\n",
       "      <td>NE</td>\n",
       "      <td>9.5</td>\n",
       "      <td>73.1</td>\n",
       "    </tr>\n",
       "    <tr>\n",
       "      <th>27</th>\n",
       "      <td>NV</td>\n",
       "      <td>14.8</td>\n",
       "      <td>94.2</td>\n",
       "    </tr>\n",
       "    <tr>\n",
       "      <th>28</th>\n",
       "      <td>NH</td>\n",
       "      <td>8.7</td>\n",
       "      <td>60.3</td>\n",
       "    </tr>\n",
       "    <tr>\n",
       "      <th>29</th>\n",
       "      <td>NJ</td>\n",
       "      <td>5.3</td>\n",
       "      <td>94.7</td>\n",
       "    </tr>\n",
       "    <tr>\n",
       "      <th>30</th>\n",
       "      <td>NM</td>\n",
       "      <td>16.0</td>\n",
       "      <td>77.4</td>\n",
       "    </tr>\n",
       "    <tr>\n",
       "      <th>31</th>\n",
       "      <td>NY</td>\n",
       "      <td>4.2</td>\n",
       "      <td>87.9</td>\n",
       "    </tr>\n",
       "    <tr>\n",
       "      <th>32</th>\n",
       "      <td>NC</td>\n",
       "      <td>11.8</td>\n",
       "      <td>66.1</td>\n",
       "    </tr>\n",
       "    <tr>\n",
       "      <th>33</th>\n",
       "      <td>ND</td>\n",
       "      <td>12.3</td>\n",
       "      <td>59.9</td>\n",
       "    </tr>\n",
       "    <tr>\n",
       "      <th>34</th>\n",
       "      <td>OH</td>\n",
       "      <td>10.3</td>\n",
       "      <td>77.9</td>\n",
       "    </tr>\n",
       "    <tr>\n",
       "      <th>35</th>\n",
       "      <td>OK</td>\n",
       "      <td>15.7</td>\n",
       "      <td>66.2</td>\n",
       "    </tr>\n",
       "    <tr>\n",
       "      <th>36</th>\n",
       "      <td>OR</td>\n",
       "      <td>11.7</td>\n",
       "      <td>81.0</td>\n",
       "    </tr>\n",
       "    <tr>\n",
       "      <th>37</th>\n",
       "      <td>PA</td>\n",
       "      <td>10.5</td>\n",
       "      <td>78.7</td>\n",
       "    </tr>\n",
       "    <tr>\n",
       "      <th>38</th>\n",
       "      <td>RI</td>\n",
       "      <td>3.0</td>\n",
       "      <td>90.7</td>\n",
       "    </tr>\n",
       "    <tr>\n",
       "      <th>39</th>\n",
       "      <td>SC</td>\n",
       "      <td>15.5</td>\n",
       "      <td>66.3</td>\n",
       "    </tr>\n",
       "    <tr>\n",
       "      <th>40</th>\n",
       "      <td>SD</td>\n",
       "      <td>10.3</td>\n",
       "      <td>56.7</td>\n",
       "    </tr>\n",
       "    <tr>\n",
       "      <th>41</th>\n",
       "      <td>TN</td>\n",
       "      <td>15.1</td>\n",
       "      <td>66.4</td>\n",
       "    </tr>\n",
       "    <tr>\n",
       "      <th>42</th>\n",
       "      <td>TX</td>\n",
       "      <td>10.7</td>\n",
       "      <td>84.7</td>\n",
       "    </tr>\n",
       "    <tr>\n",
       "      <th>43</th>\n",
       "      <td>UT</td>\n",
       "      <td>12.3</td>\n",
       "      <td>90.6</td>\n",
       "    </tr>\n",
       "    <tr>\n",
       "      <th>44</th>\n",
       "      <td>VT</td>\n",
       "      <td>10.3</td>\n",
       "      <td>38.9</td>\n",
       "    </tr>\n",
       "    <tr>\n",
       "      <th>45</th>\n",
       "      <td>VA</td>\n",
       "      <td>10.3</td>\n",
       "      <td>75.5</td>\n",
       "    </tr>\n",
       "    <tr>\n",
       "      <th>46</th>\n",
       "      <td>WA</td>\n",
       "      <td>9.7</td>\n",
       "      <td>84.1</td>\n",
       "    </tr>\n",
       "    <tr>\n",
       "      <th>47</th>\n",
       "      <td>WV</td>\n",
       "      <td>14.6</td>\n",
       "      <td>48.7</td>\n",
       "    </tr>\n",
       "    <tr>\n",
       "      <th>48</th>\n",
       "      <td>WI</td>\n",
       "      <td>8.2</td>\n",
       "      <td>70.2</td>\n",
       "    </tr>\n",
       "    <tr>\n",
       "      <th>49</th>\n",
       "      <td>WY</td>\n",
       "      <td>16.2</td>\n",
       "      <td>64.8</td>\n",
       "    </tr>\n",
       "  </tbody>\n",
       "</table>\n",
       "</div>"
      ],
      "text/plain": [
       "   STATE  RATE-2014  Percent Urban\n",
       "0     AL       16.9           59.0\n",
       "1     AK       19.2           66.0\n",
       "2     AZ       13.5           89.8\n",
       "3     AR       16.6           56.2\n",
       "4     CA        7.4           95.0\n",
       "5     CO       12.2           86.2\n",
       "6     CT        5.0           88.0\n",
       "7     DE       11.1           83.3\n",
       "8     FL       11.5           91.2\n",
       "9     GA       13.7           75.1\n",
       "10    HI        2.6           91.9\n",
       "11    ID       13.2           70.6\n",
       "12    IL        9.0           88.5\n",
       "13    IN       12.4           72.4\n",
       "14    IA        7.5           64.0\n",
       "15    KS       11.3           74.2\n",
       "16    KY       13.9           58.4\n",
       "17    LA       19.0           73.2\n",
       "18    ME        9.4           38.7\n",
       "19    MD        9.0           87.2\n",
       "20    MA        3.2           92.0\n",
       "21    MI       11.1           74.6\n",
       "22    MN        6.6           73.3\n",
       "23    MS       18.3           49.4\n",
       "24    MO       15.3           70.4\n",
       "25    MT       16.1           55.9\n",
       "26    NE        9.5           73.1\n",
       "27    NV       14.8           94.2\n",
       "28    NH        8.7           60.3\n",
       "29    NJ        5.3           94.7\n",
       "30    NM       16.0           77.4\n",
       "31    NY        4.2           87.9\n",
       "32    NC       11.8           66.1\n",
       "33    ND       12.3           59.9\n",
       "34    OH       10.3           77.9\n",
       "35    OK       15.7           66.2\n",
       "36    OR       11.7           81.0\n",
       "37    PA       10.5           78.7\n",
       "38    RI        3.0           90.7\n",
       "39    SC       15.5           66.3\n",
       "40    SD       10.3           56.7\n",
       "41    TN       15.1           66.4\n",
       "42    TX       10.7           84.7\n",
       "43    UT       12.3           90.6\n",
       "44    VT       10.3           38.9\n",
       "45    VA       10.3           75.5\n",
       "46    WA        9.7           84.1\n",
       "47    WV       14.6           48.7\n",
       "48    WI        8.2           70.2\n",
       "49    WY       16.2           64.8"
      ]
     },
     "execution_count": 48,
     "metadata": {},
     "output_type": "execute_result"
    }
   ],
   "source": [
    "df = pd.read_csv('firearms-urban.csv')\n",
    "\n",
    "df"
   ]
  },
  {
   "cell_type": "code",
   "execution_count": null,
   "metadata": {},
   "outputs": [],
   "source": []
  },
  {
   "cell_type": "code",
   "execution_count": null,
   "metadata": {},
   "outputs": [],
   "source": []
  },
  {
   "cell_type": "code",
   "execution_count": null,
   "metadata": {},
   "outputs": [],
   "source": []
  },
  {
   "cell_type": "code",
   "execution_count": null,
   "metadata": {},
   "outputs": [],
   "source": []
  },
  {
   "cell_type": "code",
   "execution_count": null,
   "metadata": {},
   "outputs": [],
   "source": []
  },
  {
   "cell_type": "code",
   "execution_count": null,
   "metadata": {},
   "outputs": [],
   "source": []
  },
  {
   "cell_type": "code",
   "execution_count": 49,
   "metadata": {},
   "outputs": [
    {
     "name": "stderr",
     "output_type": "stream",
     "text": [
      "No handles with labels found to put in legend.\n"
     ]
    },
    {
     "data": {
      "image/png": "[encoded data removed]",
      "text/plain": [
       "<Figure size 432x288 with 1 Axes>"
      ]
     },
     "metadata": {
      "needs_background": "light"
     },
     "output_type": "display_data"
    }
   ],
   "source": [
    "N=50\n",
    "\n",
    "\n",
    "#COMPLETE IN CLASS\n",
    "\n",
    "plt.legend()\n",
    "plt.title(str(N)+' Random Samples \\nGenerated from the Gaussian KDE PDF');"
   ]
  },
  {
   "cell_type": "markdown",
   "metadata": {},
   "source": [
    "___"
   ]
  },
  {
   "cell_type": "markdown",
   "metadata": {},
   "source": [
    "# Statistical Inference\n",
    "\n",
    "We have developed the Bayesian approach to inference, where unknown parameters are modeled as random variables. In all cases we worked within a single, fully-specified probabilistic model, and we based most of our derivations and calculation on judicious application of Bayes's rule.\n",
    "\n",
    "By contrast, we can adopt a fundamentally different philosophy: we can view the unknown probabilistic parameter $\\theta$ of the probability function as a *deterministic* quantity (not random) but, nevertheless, unknown quantity.\n",
    "\n",
    "* The observational data $X=\\{x_i\\}_{i=1}^N$ is random and its distribution $p_X(x;\\theta)$ (if $X$ is discrete) or $f_X(x;\\theta)$ (if $X$ is continuous) depends on the value of $\\theta$ (the parameters of the distribution). \n",
    "\n",
    "* Thus, instead of working with a single probabilistic model, we will be dealing simultaneously with *multiple candidate (probabilistic) models*, one model for each possible value of $\\theta$.\n",
    "\n",
    "* In this context, a *good* hypothesis testing or estimation procedure will be one that possesses certain desirable properties *under every candidate model*."
   ]
  },
  {
   "cell_type": "markdown",
   "metadata": {},
   "source": [
    "## Classical Parameter Estimation\n",
    "\n",
    "Given observations $X=\\{x_1,x_2,\\dots,x_N\\}$, an **estimator** is a random variable of the form $\\hat{\\theta} = g(X)$, for some function $g$. Note that since the distribution of $X$ depends on $\\theta$, the same is true for the distribution of $\\hat{\\theta}$.\n",
    "\n",
    "### Some Terminology\n",
    "\n",
    "Let $\\hat{\\theta}$ be an **estimator** of an unknown parameter $\\theta$, that is, a function of $N$ observations $X=\\{x_i\\}_{i=1}^N$ whose distribution depends on $\\theta$.\n",
    "\n",
    "<div class=\"alert alert-info\">\n",
    "    <b>Error of Estimator</b>\n",
    "\n",
    "The **estimated error** is denoted by $\\epsilon_{\\theta}(\\hat{\\theta})$, is defined as\n",
    "    \n",
    "\\begin{align*}\n",
    "\\epsilon_{\\theta} = \\hat{\\theta} - \\theta\n",
    "\\end{align*}\n",
    "</div>\n",
    "\n",
    "<div class=\"alert alert-info\">\n",
    "    <b>Bias of Estimator</b>\n",
    "\n",
    "The **bias** of an estimator, denoted by $b_{\\theta}(\\hat{\\theta})$ is defined as\n",
    "    \n",
    "\\begin{align*}\n",
    "b_{\\theta}(\\hat{\\theta}) = E[\\hat{\\theta}] - \\theta\n",
    "\\end{align*}\n",
    "</div>\n",
    "\n",
    "<div class=\"alert alert-info\">\n",
    "    <b>Variance of Estimator</b>\n",
    "\n",
    "The **variance** of an estimator, denoted by $\\operatorname{Var}_{\\theta}[\\hat{\\theta}]$ is defined as\n",
    "    \n",
    "\\begin{align*}\n",
    "\\operatorname{Var}_{\\theta}[\\hat{\\theta}] = E\\left[\\left(\\hat{\\theta} -E[\\hat{\\theta}]\\right)^2\\right]\n",
    "\\end{align*}\n",
    "</div>\n",
    "\n",
    "<div class=\"alert alert-info\">\n",
    "    <b>Mean-Square Error of Estimator</b>\n",
    "\n",
    "The **Mean-Square Error** of an estimator, denoted by $E\\left[(\\hat{\\theta}-\\theta)^2\\right]$ is defined as\n",
    "    \n",
    "\\begin{align*}\n",
    "E\\left[(\\hat{\\theta}-\\theta)^2\\right] = b^2_{\\theta}\\left[\\hat{\\theta}\\right] + \\operatorname{Var}_{\\theta}[\\hat{\\theta}]\n",
    "\\end{align*}\n",
    "</div>\n",
    "\n",
    "The expected value, the variance, and the bias of $\\hat{\\theta}$ depend on $\\theta$, while the estimation error depends in addition on the observations $x_1,\\cdots, x_N$."
   ]
  },
  {
   "cell_type": "markdown",
   "metadata": {},
   "source": [
    "<div class=\"alert alert-info\">\n",
    "    <b>Unbiased Estimator</b>\n",
    "\n",
    "We call $\\hat{\\theta}$ **unbiased** if $E[\\hat{\\theta}] = \\theta$, for every possible value of $\\theta$.\n",
    "</div>\n",
    "\n",
    "<div class=\"alert alert-info\">\n",
    "    <b>Asymptotically Unbiased Estimator</b>\n",
    "\n",
    "We call $\\hat{\\theta}$ **asymptotically unbiased** if $\\lim_{N\\rightarrow\\infty} E[\\hat{\\theta}] = \\theta$, for every possible value of $\\theta$.\n",
    "</div>"
   ]
  },
  {
   "cell_type": "markdown",
   "metadata": {},
   "source": [
    "### The Bias-Variance Trade-Off\n",
    "\n",
    "Besides the bias $b_{\\theta}(\\hat{\\theta})$, we are usually interested in the size of the estimation error. This is captured by the **mean squared error**, $E\\left[(\\hat{\\theta}-\\theta)^2\\right]$, which is related to the bias and the variance of $\\hat{\\theta}$ according to the following formula:\n",
    "\n",
    "\\begin{align*}\n",
    "E\\left[(\\hat{\\theta}-\\theta)^2\\right] = b^2_{\\theta}\\left[\\hat{\\theta}\\right] + \\operatorname{Var}_{\\theta}[\\hat{\\theta}]\n",
    "\\end{align*}\n",
    "\n",
    "This formula is important because in many statistical problems there is a **trade-off** between the two terms on the right-hand-side. Often a reduction in the variance is accompanied by an increase in the bias. Of course, a good estimator\n",
    "is one that manages to keep both terms small. This is also known as **The Bias-Variance Trade-off**."
   ]
  },
  {
   "cell_type": "markdown",
   "metadata": {},
   "source": [
    "___"
   ]
  }
 ],
 "metadata": {
  "kernelspec": {
   "display_name": "Python 3",
   "language": "python",
   "name": "python3"
  },
  "language_info": {
   "codemirror_mode": {
    "name": "ipython",
    "version": 3
   },
   "file_extension": ".py",
   "mimetype": "text/x-python",
   "name": "python",
   "nbconvert_exporter": "python",
   "pygments_lexer": "ipython3",
   "version": "3.8.8"
  },
  "latex_envs": {
   "LaTeX_envs_menu_present": true,
   "autoclose": false,
   "autocomplete": true,
   "bibliofile": "biblio.bib",
   "cite_by": "apalike",
   "current_citInitial": 1,
   "eqLabelWithNumbers": true,
   "eqNumInitial": 1,
   "hotkeys": {
    "equation": "Ctrl-E",
    "itemize": "Ctrl-I"
   },
   "labels_anchors": false,
   "latex_user_defs": false,
   "report_style_numbering": false,
   "user_envs_cfg": false
  },
  "varInspector": {
   "cols": {
    "lenName": 16,
    "lenType": 16,
    "lenVar": 40
   },
   "kernels_config": {
    "python": {
     "delete_cmd_postfix": "",
     "delete_cmd_prefix": "del ",
     "library": "var_list.py",
     "varRefreshCmd": "print(var_dic_list())"
    },
    "r": {
     "delete_cmd_postfix": ") ",
     "delete_cmd_prefix": "rm(",
     "library": "var_list.r",
     "varRefreshCmd": "cat(var_dic_list()) "
    }
   },
   "types_to_exclude": [
    "module",
    "function",
    "builtin_function_or_method",
    "instance",
    "_Feature"
   ],
   "window_display": false
  }
 },
 "nbformat": 4,
 "nbformat_minor": 4
}
