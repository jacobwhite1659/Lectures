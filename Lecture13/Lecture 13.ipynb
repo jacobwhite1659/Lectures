{
 "cells": [
  {
   "cell_type": "markdown",
   "metadata": {},
   "source": [
    "# Lecture 13\n",
    "\n",
    "- Gaussian RVs continued\n",
    "- Q function continued \n",
    "- Expected Value\n",
    "- Moments"
   ]
  },
  {
   "cell_type": "markdown",
   "metadata": {},
   "source": [
    "## Feedback Evaluation Form\n",
    "\n",
    "[Fill this out!](https://forms.gle/ficQzQpWbfZzJVbb6)\n",
    "Note: you need to be signed into Chrome or web browser through your UF account. The form, however, is anonymous."
   ]
  },
  {
   "cell_type": "markdown",
   "metadata": {},
   "source": [
    "## Guest Lecture last Thursday: Clark Wood\n",
    "\n",
    "For more information, please email Clark Wood (clark.wood@protonmail.com)"
   ]
  },
  {
   "cell_type": "markdown",
   "metadata": {},
   "source": [
    "## Last class (watch the videos from Lecture 11!)"
   ]
  },
  {
   "cell_type": "markdown",
   "metadata": {},
   "source": [
    "We learned about different properties of PDFs:\n",
    "\n",
    "1. $F_X(x) = \\int_{-\\infty}^x f_X(t)~dt$\n",
    "\n",
    "2. $f_X(x) \\geq 0, -\\infty < x < \\infty$\n",
    "\n",
    "3. $\\int_{-\\infty}^{\\infty} f_X(t)dt = 1$\n",
    "\n",
    "4. $P(a < X \\leq b) = \\int_a^b f_X(x)~dx$ where $a\\leq b$\n",
    "\n",
    "5. If $g(x)$ is a nonnegative piecewise continuous function with finite integral $\\int_{-\\infty}^{\\infty} g(x)~dx = c$, then $f_X(x) = \\frac{g(x)}{c}$ is a valid pdf."
   ]
  },
  {
   "cell_type": "markdown",
   "metadata": {},
   "source": [
    "We also defined the CDF and survival function for the Normal RV $X$ (Gaussian with $\\mu=0$ and $\\sigma^2=1$), that is, $X\\sim G(0,1)$:\n",
    "\n",
    "* **CDF of $G(0,1)$:**\n",
    "\\begin{align*}\n",
    "\\Phi(x) = P(X\\leq x) = \\int_{-\\infty}^x \\frac{1}{\\sqrt{2\\pi}}\\exp{\\left\\{-\\frac{t^2}{2}\\right\\}} dt\n",
    "\\end{align*}\n",
    "\n",
    "* **SF of $G(0,1)$:**\n",
    "\\begin{align*}\n",
    "Q(x) = P(X>x) = \\int_x^{\\infty} \\frac{1}{\\sqrt{2\\pi}}\\exp{\\left\\{-\\frac{t^2}{2}\\right\\}} dt\n",
    "\\end{align*}\n",
    "\n",
    "We saw that:\n",
    "\n",
    "\\begin{align*}\n",
    "\\Phi(x) + Q(x) = 1, \\forall x\n",
    "\\end{align*}"
   ]
  },
  {
   "cell_type": "markdown",
   "metadata": {},
   "source": [
    "The CDF and survival function for any RV $Y\\sim G(\\mu,\\sigma^2)$ are:\n",
    "\n",
    "\\begin{align*}\n",
    "F_X(x) = \\Phi \\left(\\frac{x-\\mu}{\\sigma} \\right)\n",
    "\\end{align*}\n",
    "\n",
    "and\n",
    "\n",
    "\\begin{align*}\n",
    "S_X(x) = \\operatorname{Q} \\left(\\frac{x-\\mu}{\\sigma} \\right)\n",
    "\\end{align*}"
   ]
  },
  {
   "cell_type": "markdown",
   "metadata": {},
   "source": [
    "<div class=\"alert alert-danger\">\n",
    "    Note that the denominator above is $\\sigma$, not $\\sigma^2$. Many students use the wrong value when solving problems!\n",
    "</div>"
   ]
  },
  {
   "cell_type": "markdown",
   "metadata": {},
   "source": [
    "* To find the probability of some interval using the $Q$-function, it is easiest to rewrite the probability:\n",
    "\n",
    "\\begin{align*}\n",
    "P(a < X \\leq b) &= P(X > a) - P(X > b) \\\\\n",
    "&= Q\\left(\\frac{a-\\mu}{\\sigma}\\right) - Q\\left(\\frac{b-\\mu}{\\sigma}\\right)\n",
    "\\end{align*}\n",
    "\n",
    "* In general, Gaussian probabilities can always be expressed in terms of \"tail\" probabilities"
   ]
  },
  {
   "cell_type": "markdown",
   "metadata": {},
   "source": [
    "### More on Computing Gaussian Tail Probabilities\n",
    "\n",
    "Any Gaussian probabilities can be decomposed in terms of Gaussian tail probabilities. There are 2 cases of the tail probabilities:\n",
    "\n",
    "* **Case 1:** $P(X \\geq a)$, where $a>\\mu$\n",
    "\n",
    "\\begin{align*}\n",
    "P(X \\geq a) = Q\\left(\\frac{a-\\mu}{\\sigma}\\right)\n",
    "\\end{align*}"
   ]
  },
  {
   "cell_type": "code",
   "execution_count": 1,
   "metadata": {},
   "outputs": [
    {
     "data": {
      "image/png": "[encoded data removed]",
      "text/plain": [
       "<IPython.core.display.Image object>"
      ]
     },
     "execution_count": 1,
     "metadata": {
      "image/png": {
       "width": 400
      }
     },
     "output_type": "execute_result"
    }
   ],
   "source": [
    "from IPython.display import Image\n",
    "Image('figures/probXlargerA.png', width=400)"
   ]
  },
  {
   "cell_type": "markdown",
   "metadata": {},
   "source": [
    "* **Case 2:** $P(X \\leq b)$, where $b<\\mu$\n",
    "\n",
    "By symmetry:\n",
    "\n",
    "\\begin{align*}\n",
    "P(X \\geq \\mu + (\\mu - b)) = P(X \\geq 2\\mu - b) = Q\\left(\\frac{2\\mu - b - \\mu}{\\sigma}\\right) = Q\\left(\\frac{\\mu-b}{\\sigma}\\right)\n",
    "\\end{align*}"
   ]
  },
  {
   "cell_type": "code",
   "execution_count": 2,
   "metadata": {},
   "outputs": [
    {
     "data": {
      "image/png": "[encoded data removed]",
      "text/plain": [
       "<IPython.core.display.Image object>"
      ]
     },
     "execution_count": 2,
     "metadata": {
      "image/png": {
       "width": 400
      }
     },
     "output_type": "execute_result"
    }
   ],
   "source": [
    "Image('figures/probXsmallerB.png', width=400)"
   ]
  },
  {
   "cell_type": "markdown",
   "metadata": {},
   "source": [
    "___"
   ]
  },
  {
   "cell_type": "code",
   "execution_count": 6,
   "metadata": {},
   "outputs": [],
   "source": [
    "import scipy.stats as stats\n",
    "import numpy as np\n",
    "import numpy.random as npr\n",
    "import matplotlib.pyplot as plt\n",
    "import pandas as pd\n",
    "\n",
    "%matplotlib inline\n",
    "plt.style.use('bmh')"
   ]
  },
  {
   "cell_type": "code",
   "execution_count": null,
   "metadata": {},
   "outputs": [],
   "source": []
  },
  {
   "cell_type": "markdown",
   "metadata": {},
   "source": [
    "# Example: Grading on a curve\n",
    "\n",
    "A professor's classroom requests that she \"grades on a curve\". The professor sees that the class grades can be modeled using a Gaussian distribution with parameters $\\mu$ and $\\sigma^2$.\n",
    "\n",
    "Let $X$ represent a randomly chosen student's grade."
   ]
  },
  {
   "cell_type": "markdown",
   "metadata": {},
   "source": [
    "**(a) What is the probability that the student's grade is above $\\mu$?**\n",
    "\n",
    "$P(X > \\mu) = Q\\left(\\frac{\\mu - \\mu}{\\sigma}\\right) = Q\\left(\\frac{0}{\\sigma}\\right) = \\frac{1}{2}$"
   ]
  },
  {
   "cell_type": "markdown",
   "metadata": {},
   "source": [
    "**(b) The professor decides to use the following grading strategy:**\n",
    "\n",
    "* If the grades are more than $\\sigma$ above the mean, assign an A\n",
    "\n",
    "* If the grades are within $\\sigma$ of the mean ($\\mu$), assign a B\n",
    "\n",
    "* If the grades are more than $\\sigma$ below the mean, but less than $2\\sigma$ below the mean, assign C\n",
    "\n",
    "* If the grades are more than $2\\sigma$ below the mean, but less than $3\\sigma$ below the mean, assign D\n",
    "\n",
    "* If the grades are more than $3\\sigma$ below the mean, assign E\n",
    "\n",
    "Determine the probability that a randomly chosen student gets each grade."
   ]
  },
  {
   "cell_type": "markdown",
   "metadata": {},
   "source": [
    "\\begin{align*}\n",
    "P(A) &= P(X \\geq \\mu + \\sigma) = Q\\left(\\frac{\\mu + \\sigma - \\mu}{\\sigma}\\right) = Q(1)\\\\\n",
    "P(B) &= P(\\mu -\\sigma < X < \\mu + \\sigma) = 1 - 2P(X > \\mu + \\sigma) = 1 - 2 Q\\left(\\frac{\\mu+\\sigma-\\mu}{\\sigma}\\right) = 1 - \n",
    "2 Q(1)\\\\\n",
    "P(C) &= P(\\mu - 2\\sigma < X < \\mu - \\sigma) = P(X \\geq \\mu - 2\\sigma) - P(X \\geq \\mu - \\sigma) = Q(1) - Q(2)\\\\\n",
    "P(D) &= P(\\mu - 3\\sigma < X < \\mu - 2\\sigma) = P(X \\geq \\mu - 3\\sigma) - P(X \\geq \\mu - 2\\sigma) = Q(2) - Q(3)\\\\\n",
    "P(E) &= P(X < \\mu - 3\\sigma) = P(X > \\mu + 3\\sigma) = Q(3)\n",
    "\\end{align*}"
   ]
  },
  {
   "cell_type": "markdown",
   "metadata": {},
   "source": [
    "<!-- \\begin{align*}\n",
    "P(A) &= P(X \\geq \\mu + \\sigma) = Q\\left(\\frac{\\mu + \\sigma - \\mu}{\\sigma}\\right) = Q(1)\\\\\n",
    "P(B) &= P(\\mu -\\sigma < X < \\mu + \\sigma) = 1 - 2P(X > \\mu + \\sigma) = 1 - 2 Q\\left(\\frac{\\mu+\\sigma-\\mu}{\\sigma}\\right) = 1 - \n",
    "2 Q(1)\\\\\n",
    "P(C) &= P(\\mu - 2\\sigma < X < \\mu - \\sigma) = P(X \\geq \\mu - 2\\sigma) - P(X \\geq \\mu - \\sigma) = Q(1) - Q(2)\\\\\n",
    "P(D) &= P(\\mu - 3\\sigma < X < \\mu - 2\\sigma) = P(X \\geq \\mu - 3\\sigma) - P(X \\geq \\mu - 2\\sigma) = Q(2) - Q(3)\\\\\n",
    "P(E) &= P(X < \\mu - 3\\sigma) = P(X > \\mu + 3\\sigma) = Q(3)\n",
    "\\end{align*} -->"
   ]
  },
  {
   "cell_type": "code",
   "execution_count": null,
   "metadata": {},
   "outputs": [],
   "source": []
  },
  {
   "cell_type": "code",
   "execution_count": null,
   "metadata": {},
   "outputs": [],
   "source": []
  },
  {
   "cell_type": "code",
   "execution_count": null,
   "metadata": {},
   "outputs": [],
   "source": []
  },
  {
   "cell_type": "code",
   "execution_count": null,
   "metadata": {},
   "outputs": [],
   "source": []
  },
  {
   "cell_type": "code",
   "execution_count": null,
   "metadata": {},
   "outputs": [],
   "source": []
  },
  {
   "cell_type": "code",
   "execution_count": null,
   "metadata": {},
   "outputs": [],
   "source": []
  },
  {
   "cell_type": "code",
   "execution_count": null,
   "metadata": {},
   "outputs": [],
   "source": []
  },
  {
   "cell_type": "markdown",
   "metadata": {},
   "source": [
    "Checking work:"
   ]
  },
  {
   "cell_type": "code",
   "execution_count": null,
   "metadata": {},
   "outputs": [],
   "source": []
  },
  {
   "cell_type": "markdown",
   "metadata": {},
   "source": [
    "**(c) Suppose the threshold to get an A is $k\\sigma$ above the mean, what value of $k$ is needed for 40% of the class to get an A?**"
   ]
  },
  {
   "cell_type": "markdown",
   "metadata": {},
   "source": [
    "\\begin{align*}\n",
    "P(X \\geq \\mu + k\\sigma) &= 0.4 \\\\\n",
    "Q\\left(\\frac{\\mu + k\\sigma - \\mu}{\\sigma}\\right) &= 0.4 \\\\\n",
    "Q(k) &= 0.4 \\\\\n",
    "k &= Q^{-1}(0.4) \\\\\n",
    "k &\\approx 0.25 \\text{ (using Q-function table)} \n",
    "\\end{align*}"
   ]
  },
  {
   "cell_type": "markdown",
   "metadata": {},
   "source": [
    "<!-- \\begin{align*}\n",
    "P(X \\geq \\mu + k\\sigma) &= 0.4 \\\\\n",
    "Q\\left(\\frac{\\mu + k\\sigma - \\mu}{\\sigma}\\right) &= 0.4 \\\\\n",
    "Q(k) &= 0.4 \\\\\n",
    "k &= Q^{-1}(0.4) \\\\\n",
    "k &\\approx 0.25 \\text{ (using Q-function table)} \n",
    "\\end{align*} -->"
   ]
  },
  {
   "cell_type": "code",
   "execution_count": null,
   "metadata": {},
   "outputs": [],
   "source": []
  },
  {
   "cell_type": "code",
   "execution_count": null,
   "metadata": {},
   "outputs": [],
   "source": []
  },
  {
   "cell_type": "code",
   "execution_count": null,
   "metadata": {},
   "outputs": [],
   "source": []
  },
  {
   "cell_type": "markdown",
   "metadata": {},
   "source": [
    "___"
   ]
  },
  {
   "cell_type": "markdown",
   "metadata": {},
   "source": [
    "# Expected Value"
   ]
  },
  {
   "cell_type": "markdown",
   "metadata": {},
   "source": [
    "Consider again a set of observations $x_1, x_2, \\dots, x_N$.\n",
    "\n",
    "Then the **average** of the data is \n",
    "\n",
    "\\begin{align*}\n",
    "\\overline{x} = \\frac{1}{N} \\sum_{i=1}^N x_i\n",
    "\\end{align*}\n",
    "\n",
    "* We would like to define a similar notion for a random variable $X$, but take the average over the *ensemble* of potential values of $X$.\n",
    "\n",
    "* This value is the *expected value*, *ensemble mean*, or simply *mean* of $X$.\n",
    "\n",
    "* We can use *relative frequency* to connect the two."
   ]
  },
  {
   "cell_type": "markdown",
   "metadata": {},
   "source": [
    "Suppose that $X=\\{x_i\\}_{i=1}^n$ are random data that take values from $S_k=\\{a_1,a_2,\\dots,a_k\\}$, where $k<\\infty$.\n",
    "\n",
    "\\begin{align*}\n",
    "\\overline{X} = \\frac{1}{N} \\sum_{i=1}^N x_i\n",
    "\\end{align*}\n",
    "\n",
    "Let $n_j \\equiv$ \\# of times $a_i$ occurs, then \n",
    "\n",
    "\\begin{align*}\n",
    "\\overline{X} = \\frac{1}{N} \\sum_{j=1}^N a_j \\cdot n_j = \\sum_{j=1}^N a_j \\cdot \\frac{n_j}{N}\n",
    "\\end{align*}\n",
    "\n",
    "If our experiment possesses statistical regularity,\n",
    "\n",
    "\\begin{align*}\n",
    "\\lim_{n\\rightarrow\\infty} \\frac{n_j}{N} \\rightarrow p_j = P(a_j)\n",
    "\\end{align*}\n",
    "\n",
    "Therefore,\n",
    "\n",
    "\\begin{align*}\n",
    "\\lim_{n\\rightarrow\\infty} \\overline{X} = \\sum_{j=1}^N a_j \\cdot p_j \\triangleq E[X]\n",
    "\\end{align*}"
   ]
  },
  {
   "cell_type": "markdown",
   "metadata": {},
   "source": [
    "<div class=\"alert alert-info\">\n",
    "    <b>Expected Value</b>\n",
    "    \n",
    "The **expected value** or **mean** of a random variable $X$ is\n",
    "    \n",
    "\\begin{align*}\n",
    "\\mu_X= E[X] = \\sum_x x p_X(x),\n",
    "\\end{align*}\n",
    "    \n",
    "if $X$ is a **discrete random variable**, and is defined as\n",
    "    \n",
    "\\begin{align*}\n",
    "\\mu_X = E[X] = \\int_{-\\infty}^{\\infty} xf_X(x)~dx,\n",
    "\\end{align*}\n",
    "    \n",
    "if $X$ is a **continuous random variable**.\n",
    "\n",
    "**Note:** In some special cases, we would not define the expected value because it is of the form $-\\infty$, $+\\infty$. We won't cover those in this class.\n",
    "</div>"
   ]
  },
  {
   "cell_type": "markdown",
   "metadata": {},
   "source": [
    "## Why do we care about the mean?"
   ]
  },
  {
   "cell_type": "markdown",
   "metadata": {},
   "source": [
    "In a repeated experiment, the limit of the average value is the mean\n",
    "* In fact, we will show that we can determine a limit on the number of times the experiment must be repeated to ensure that the average is within a range around the mean with a specified probability (Chebyshev's inequality, covered later)\n",
    "    \n",
    "If we wish to use a constant value to estimate a random variable, then the mean is the value that minimizes the mean-square error.\n",
    "\n",
    "Note that $E[X]$ may be infinite."
   ]
  },
  {
   "cell_type": "markdown",
   "metadata": {},
   "source": [
    "**<font color=blue>Example 1:</font>** Rolling a fair 6-sided die."
   ]
  },
  {
   "cell_type": "markdown",
   "metadata": {},
   "source": [
    "Let $X$ be the number of top face of die.\n",
    "\n",
    "\\begin{align*}\n",
    "E[X] &= \\sum_{i=1}^6 i \\times P(X=i)\\\\\n",
    "&= \\sum_{i=1}^6 i \\times\\frac{1}{6}\\\\\n",
    "&= \\frac{21}{6}\\\\\n",
    "&= 3.5\n",
    "\\end{align*}"
   ]
  },
  {
   "cell_type": "markdown",
   "metadata": {},
   "source": [
    "<!-- Let $X$ be the number of top face of die.\n",
    "\n",
    "\\begin{align*}\n",
    "E[X] &= \\sum_{i=1}^6 i \\times P(X=i)\\\\\n",
    "&= \\sum_{i=1}^6 i \\times\\frac{1}{6}\\\\\n",
    "&= \\frac{21}{6}\\\\\n",
    "&= 3.5\n",
    "\\end{align*} -->"
   ]
  },
  {
   "cell_type": "markdown",
   "metadata": {},
   "source": [
    "**<font color=blue>Example 2:</font>** Bernoulli RV."
   ]
  },
  {
   "cell_type": "markdown",
   "metadata": {},
   "source": [
    "Let $X \\sim \\text{Bernoulli}(p)$, then $p_X(x) = \\begin{cases} p & x=1\\\\ 1-p & x=0 \\\\ 0 & \\text{o.w.}  \\end{cases}$\n",
    "\n",
    "\\begin{align*}\n",
    "E[X] = (0)(1-p) + (1)(p) = p\n",
    "\\end{align*}"
   ]
  },
  {
   "cell_type": "markdown",
   "metadata": {},
   "source": [
    "<!-- Let $X \\sim \\text{Bernoulli}(p)$, then $p_X(x) = \\begin{cases} p & x=1\\\\ 1-p & x=0 \\\\ 0 & \\text{o.w.}  \\end{cases}$\n",
    "\n",
    "\\begin{align*}\n",
    "E[X] = (0)(1-p) + (1)(p) = p\n",
    "\\end{align*} -->"
   ]
  },
  {
   "cell_type": "markdown",
   "metadata": {},
   "source": [
    "**<font color=blue>Example 3:</font>** What is the expected value of the random variable $X\\sim U(1,6)$?"
   ]
  },
  {
   "cell_type": "markdown",
   "metadata": {},
   "source": [
    "Let $X\\sim U(1,6)$, then $f_X(x) = \\begin{cases} \\frac{1}{6-1}, & x\\in [1,6]\\\\ 0, & \\text{o.w.} \\end{cases}= \\begin{cases} \\frac{1}{5}, & x\\in [1,6]\\\\ 0, & \\text{o.w.} \\end{cases}$\n",
    "\n",
    "\\begin{align*}\n",
    "E[X] &= \\int_{-\\infty}^{\\infty} xf_X(x)dx = \\int_1^6 x\\frac{1}{5}dx = \\frac{x^2}{10}\\Big|_1^6 = \\frac{6^2}{10} - \\frac{1^2}{10} = \\frac{35}{10} = 3.5\n",
    "\\end{align*}"
   ]
  },
  {
   "cell_type": "code",
   "execution_count": null,
   "metadata": {},
   "outputs": [],
   "source": []
  },
  {
   "cell_type": "code",
   "execution_count": null,
   "metadata": {},
   "outputs": [],
   "source": []
  },
  {
   "cell_type": "code",
   "execution_count": null,
   "metadata": {},
   "outputs": [],
   "source": []
  },
  {
   "cell_type": "code",
   "execution_count": null,
   "metadata": {},
   "outputs": [],
   "source": []
  },
  {
   "cell_type": "code",
   "execution_count": null,
   "metadata": {},
   "outputs": [],
   "source": []
  },
  {
   "cell_type": "code",
   "execution_count": null,
   "metadata": {},
   "outputs": [],
   "source": []
  },
  {
   "cell_type": "markdown",
   "metadata": {},
   "source": [
    "<!-- Analytically, we have:\n",
    "\n",
    "\\begin{align*}\n",
    "E[X] = \\int_{-\\infty}^{\\infty} uf_U(u)~du = \\int_1^7 u\\frac{1}{7-1}~du = \\frac{1}{12}u^2 \\Big|_1^7 = 4\n",
    "\\end{align*} -->"
   ]
  },
  {
   "cell_type": "markdown",
   "metadata": {},
   "source": [
    "**<font color=blue>Example 4:</font>** What is the expected value of the random variable $X\\sim \\text{Exp}(\\lambda)$?"
   ]
  },
  {
   "cell_type": "markdown",
   "metadata": {},
   "source": [
    "Analytically:\n",
    "\n",
    "\\begin{align*}\n",
    "E[X] = \\int_0^{\\infty} x \\lambda e^{-\\lambda x}~dx =\\lambda \\int_0^{\\infty} x e^{-\\lambda x}~dx\n",
    "\\end{align*}\n",
    "\n",
    "Need to apply integral by parts."
   ]
  },
  {
   "cell_type": "code",
   "execution_count": null,
   "metadata": {},
   "outputs": [],
   "source": []
  },
  {
   "cell_type": "markdown",
   "metadata": {},
   "source": [
    "<!-- Analytically:\n",
    "\n",
    "\\begin{align*}\n",
    "E[X] = \\int_0^{\\infty} x \\lambda \\exp^{-\\lambda x}~dx =\\lambda \\int_0^{\\infty} x \\exp^{-\\lambda x}~dx\n",
    "\\end{align*}\n",
    "\n",
    "Need to apply integral by parts. -->"
   ]
  },
  {
   "cell_type": "markdown",
   "metadata": {},
   "source": [
    "___"
   ]
  },
  {
   "cell_type": "markdown",
   "metadata": {},
   "source": [
    "# Important Properties of the Expected Value\n",
    "\n",
    "## Property 1 - Linearity\n",
    "\n",
    "Expected value is a **linear operator**. If $X$ and $Y$ are random variables, and $a$ and $b$ are arbitrary constants, then\n",
    "\n",
    "\\begin{align*}\n",
    "E[aX + bY] = aE[X] + bE[Y]\n",
    "\\end{align*}\n",
    "\n",
    "*Note that this does not required that $X$ and $Y$ be independent.*"
   ]
  },
  {
   "cell_type": "markdown",
   "metadata": {},
   "source": [
    "___"
   ]
  },
  {
   "cell_type": "markdown",
   "metadata": {},
   "source": [
    "**<font color=blue>Example 5:</font>** Expected Value of a Binomial RV."
   ]
  },
  {
   "cell_type": "markdown",
   "metadata": {},
   "source": [
    "Let $B_i$, $i=1,2,\\cdots, N$ be a sequence of independent Bernoulli random variables with common parameter $p$. Then\n",
    "\n",
    "\\begin{align*}\n",
    "X=\\sum_{i=1}^N B_i\n",
    "\\end{align*}\n",
    "\n",
    "is a $\\text{Binomial}(N,p)$ random variable."
   ]
  },
  {
   "cell_type": "markdown",
   "metadata": {},
   "source": [
    "Using the linearity property,\n",
    "\n",
    "\\begin{align*}\n",
    "E[X] &= E\\left[ \\sum_{i=1}^N B_i\\right]\\\\\n",
    "&= \\sum_{i=1}^N E[B_i]\\\\\n",
    "&= \\sum_{i=1}^N p\\\\\n",
    "&= Np\n",
    "\\end{align*}"
   ]
  },
  {
   "cell_type": "markdown",
   "metadata": {},
   "source": [
    "We can also derive the same result from the PMF of a Binomial RV, but it is *way* more complicated:\n",
    "\n",
    "\\begin{align*}\n",
    "E[X] = \\sum_{n=0}^N n\\binom{N}{n} p^n q^{N-n}\n",
    "\\end{align*}\n",
    "\n",
    "(Left as exercise.)"
   ]
  },
  {
   "cell_type": "markdown",
   "metadata": {},
   "source": [
    "___"
   ]
  },
  {
   "cell_type": "markdown",
   "metadata": {},
   "source": [
    "## Property 2 - Expected Value of a Function\n",
    "\n",
    "If $Y=g(X)$, it is not necessary to compute the PDF or CDF of $Y$ to find its expected value. We can find it using $X$:\n",
    "\n",
    "\\begin{align*}\n",
    "E[Y] = \\int_{-\\infty}^{\\infty} g(x) f_X(x)~dx\n",
    "\\end{align*}\n",
    "\n",
    "This is sometimes known as the **Law of the Unconscious Statistician (LOTUS)**."
   ]
  },
  {
   "cell_type": "markdown",
   "metadata": {},
   "source": [
    "## Property 3 - Expected Value of a Scalar\n",
    "\n",
    "The expected value of a scalar constant $c$ is $E[c] = c$.\n",
    "\n",
    "Let $g(x) = c$, then:\n",
    "\n",
    "\\begin{align*}\n",
    "E[c] &= \\int_{-\\infty}^{\\infty} c f_X(x)~dx\\\\\n",
    "&= c \\int_{-\\infty}^{\\infty} f_X(x)~dx\\\\\n",
    "&= c\n",
    "\\end{align*}"
   ]
  },
  {
   "cell_type": "markdown",
   "metadata": {},
   "source": [
    "* Note that $E[f(X)] \\neq f(E[X])$."
   ]
  },
  {
   "cell_type": "markdown",
   "metadata": {},
   "source": [
    "___"
   ]
  },
  {
   "cell_type": "markdown",
   "metadata": {},
   "source": [
    "**<font color=blue>Example 6:</font>** Recall that if $x_i$ are samples drawn from a random variable $X$, then\n",
    "\n",
    "\\begin{align*}\n",
    "\\lim_{N\\rightarrow\\infty} \\frac{1}{N} \\sum_{i=1}^N x_i = E[X]\n",
    "\\end{align*}\n",
    "\n",
    "This is the result from the **Central Limit Theorem (CLT)**.\n",
    "\n",
    "Let's create a Uniform random variable object using ```scipy.stats```. Draw 10,000 sample values from it, and use the sample values to estimate $(E[U])^2$ and $E[U^2]$."
   ]
  },
  {
   "cell_type": "code",
   "execution_count": null,
   "metadata": {},
   "outputs": [],
   "source": []
  },
  {
   "cell_type": "code",
   "execution_count": null,
   "metadata": {},
   "outputs": [],
   "source": []
  },
  {
   "cell_type": "code",
   "execution_count": null,
   "metadata": {},
   "outputs": [],
   "source": []
  },
  {
   "cell_type": "code",
   "execution_count": null,
   "metadata": {},
   "outputs": [],
   "source": []
  },
  {
   "cell_type": "code",
   "execution_count": null,
   "metadata": {},
   "outputs": [],
   "source": []
  },
  {
   "cell_type": "code",
   "execution_count": null,
   "metadata": {},
   "outputs": [],
   "source": []
  },
  {
   "cell_type": "markdown",
   "metadata": {},
   "source": [
    "___"
   ]
  },
  {
   "cell_type": "markdown",
   "metadata": {},
   "source": [
    "# Moments of a Random Variable\n",
    "\n",
    "<div class=\"alert alert-info\">\n",
    "    <b>Moments</b>\n",
    "    \n",
    "The **moments** of a random variable (or of its distribution) are *expected values of powers* or related functions of the random variable.\n",
    "\n",
    "The $n$-th moment of a **continuous** RV $X$ is \n",
    "\n",
    "\\begin{align*}\n",
    "E[X^n] = \\int_x t^n f_X(t)~dt\n",
    "\\end{align*}\n",
    "\n",
    "The $n$-th moment of a **discrete** RV $X$ is \n",
    "    \n",
    "\\begin{align*}\n",
    "E[X^n] = \\sum_x x^n p_X(x)\n",
    "\\end{align*}\n",
    "\n",
    "* In particular, the first moment is the *mean*, $\\mu_X = E[X]$.\n",
    "</div>"
   ]
  },
  {
   "cell_type": "markdown",
   "metadata": {},
   "source": [
    "<div class=\"alert alert-info\">\n",
    "    <b>Central Moments</b>\n",
    "    \n",
    "The **central moments** of a random variable (or of its distribution) are *expected values of mean-centered powers* or related functions of the random variable.\n",
    "\n",
    "The $n$-th central moment of RV $X$ is $E[(X - \\mu_X)^n]$, in general, $E[(X - E[X])^n]$.\n",
    "    \n",
    "If $X$ is a **continuous** RV, the $n$-th central moment is\n",
    "    \n",
    "\\begin{align*}\n",
    "E[(X - \\mu_X)^n] = \\int_x (t-\\mu_X)^n f_X(t)~dt\n",
    "\\end{align*}\n",
    "    \n",
    "If $X$ is a **discrete** RV, the $n$-th central moment is\n",
    "    \n",
    "\\begin{align*}\n",
    "E[(X - \\mu_X)^n] = \\sum_x (x-\\mu_X)^n p_X(x)\n",
    "\\end{align*}\n",
    "</div>"
   ]
  },
  {
   "cell_type": "markdown",
   "metadata": {},
   "source": [
    "* Moments of a random variable are expected values of the random variable raised to some power.\n",
    "\n",
    "* For a *central moment*, the mean is subtracted from the random variable before it is raised to a power."
   ]
  },
  {
   "cell_type": "markdown",
   "metadata": {},
   "source": [
    "Because different powers spread the values of the random variable in different ways, **moments can provide additional information about a random variable other than the mean value**:\n",
    "\n",
    "In mathematics, a moment is a specific quantitative measure of the shape of a function. The most important ones are: \n",
    "\n",
    "1. **Mean**, the 1st moment\n",
    "\n",
    "2. **Variance**, the 2nd central moment \n",
    "\n",
    "3. **Skewness**, the 3rd central moment \n",
    "\n",
    "4. **kurtosis**, the 4th central moment"
   ]
  },
  {
   "cell_type": "markdown",
   "metadata": {},
   "source": [
    "**Variance is the second central moment** and provides a measure of how much the probability density or mass of random variable is spread away from the mean. We define it as:\n",
    "\n",
    "\\begin{align*}\n",
    "Var[X] &= E[(X-\\mu_X)^2]\\\\\n",
    "&= E[X^2 - 2\\mu_X X + \\mu_X^2] \\\\\n",
    "&= E[X^2] - 2\\mu_XE[X] + \\mu_X^2 \\\\\n",
    "&= E[X^2] - 2E[X]E[X] + (E[X])^2 \\\\\n",
    "&= E[X^2] - (E[X])^2\n",
    "\\end{align*}\n",
    "\n",
    "So,\n",
    "\n",
    "\\begin{align*}\n",
    "Var[X] = E[X^2] - (E[X])^2\n",
    "\\end{align*}\n",
    "\n",
    "This latter formula is usually a more convenient way to find the variance.\n",
    "\n",
    "* The variance of a Gaussian random variable is the parameter $\\sigma^2$ (you can get it through integration by parts or some clever manipulation)."
   ]
  },
  {
   "cell_type": "markdown",
   "metadata": {},
   "source": [
    "___"
   ]
  },
  {
   "cell_type": "markdown",
   "metadata": {},
   "source": [
    "## Properties of Variance\n",
    "\n",
    "Let $X$ be a random variable and $b$ and $c$ constant values.\n",
    "\n",
    "1. $Var[X] = E[X^2] - (E[X])^2 \\geq 0$"
   ]
  },
  {
   "cell_type": "markdown",
   "metadata": {},
   "source": [
    "2. $Var[c] = 0$"
   ]
  },
  {
   "cell_type": "markdown",
   "metadata": {},
   "source": [
    "3. $Var[X - c] = E[X^2] - (E[X])^2$"
   ]
  },
  {
   "cell_type": "markdown",
   "metadata": {},
   "source": [
    "4. $Var[cX] = c^2 Var[X]$"
   ]
  },
  {
   "cell_type": "markdown",
   "metadata": {},
   "source": [
    "5. $Var[cX + b] = c^2 Var[X]$"
   ]
  },
  {
   "cell_type": "markdown",
   "metadata": {},
   "source": [
    "___"
   ]
  },
  {
   "cell_type": "markdown",
   "metadata": {},
   "source": [
    "We can compute the most common moments of a random variable using the ```stats``` module:"
   ]
  },
  {
   "cell_type": "code",
   "execution_count": null,
   "metadata": {},
   "outputs": [],
   "source": [
    "# Moments of G(mu=0,var=1)\n",
    "\n",
    "\n"
   ]
  },
  {
   "cell_type": "code",
   "execution_count": null,
   "metadata": {},
   "outputs": [],
   "source": [
    "x = np.linspace(-5,5,100)\n",
    "G = stats.norm(loc=0,scale=1) # G(0,1)\n",
    "\n",
    "plt.plot(x,G.pdf(x))\n",
    "plt.plot(G.stats('m'), G.pdf(G.stats('m')), '*r', markersize=10, label='Mean')\n",
    "plt.plot(G.median(), G.pdf(G.median()), '*g', markersize=10, label='Median')\n",
    "plt.legend(fontsize=15)\n",
    "plt.title('$X\\sim G(\\mu=0,\\sigma^2=1)$',size=15)\n",
    "plt.xlabel('x',size=15)\n",
    "plt.ylabel('$f_X(x)$',size=15);"
   ]
  },
  {
   "cell_type": "code",
   "execution_count": null,
   "metadata": {},
   "outputs": [],
   "source": [
    "# Moments of E(lambda=0.5)\n",
    "\n",
    "\n"
   ]
  },
  {
   "cell_type": "code",
   "execution_count": null,
   "metadata": {},
   "outputs": [],
   "source": [
    "x = np.linspace(-1,12,100)\n",
    "plt.plot(x,E.pdf(x))\n",
    "plt.plot(E.stats('m'), E.pdf(E.stats('m')), '*r', markersize=10, label='Mean')\n",
    "plt.plot(E.median(), E.pdf(E.median()), '*g', markersize=10, label='Median')\n",
    "plt.legend(fontsize=15)\n",
    "plt.title('$X\\sim Exponential(\\lambda=1/2)$',size=15)\n",
    "plt.xlabel('x',size=15)\n",
    "plt.ylabel('$f_X(x)$',size=15);"
   ]
  },
  {
   "cell_type": "code",
   "execution_count": null,
   "metadata": {},
   "outputs": [],
   "source": [
    "# Moments of Binomial(15,0.9)\n",
    "\n",
    "\n"
   ]
  },
  {
   "cell_type": "code",
   "execution_count": null,
   "metadata": {},
   "outputs": [],
   "source": [
    "x = range(19)\n",
    "plt.stem(x,Bn.pmf(x),'k',label='PMF')\n",
    "plt.plot(x, Bn.pmf(x))\n",
    "plt.plot(Bn.stats('m'), 0.3, '*r', markersize=10, label='Mean')\n",
    "plt.plot(Bn.median(), Bn.pmf(Bn.median()), '*g', markersize=10, label='Median')\n",
    "plt.legend(fontsize=15)\n",
    "plt.title('$X\\sim Binomial(N=15,p=0.9)$',size=15)\n",
    "plt.xlabel('x',size=15)\n",
    "plt.ylabel('$p_X(x)$',size=15);"
   ]
  },
  {
   "cell_type": "code",
   "execution_count": null,
   "metadata": {},
   "outputs": [],
   "source": []
  },
  {
   "cell_type": "markdown",
   "metadata": {},
   "source": [
    "___"
   ]
  },
  {
   "cell_type": "markdown",
   "metadata": {},
   "source": [
    "# Distribution of Binary Hypothesis"
   ]
  },
  {
   "cell_type": "markdown",
   "metadata": {},
   "source": [
    "In binary hypothesis testing, we built statistics that access a specific moment of the distribution (mean-difference, median-difference, etc.). We can also consider a full distribution for our hypotheses.\n",
    "\n",
    "That is, we will be conditioning random variables depending on which hypothesis is true: $f_X(x|H_0)$ or $f_X(x|H_1)$."
   ]
  },
  {
   "cell_type": "markdown",
   "metadata": {
    "slideshow": {
     "slide_type": "subslide"
    }
   },
   "source": [
    "In general, there are multiple ways in which random variables can depend on events or on other random variables.\n",
    "\n",
    "We consider the same type as above: there is dependence between a random variable and some event, such that the distribution of the random variable is known if the event is known."
   ]
  },
  {
   "cell_type": "markdown",
   "metadata": {
    "slideshow": {
     "slide_type": "slide"
    }
   },
   "source": [
    "### <font color=blue>Motivating Case Study: Binary Communications</font>\n",
    "\n",
    "In a binary communication system, the received signal is a noisy version of the transmitted signal. \n",
    "\n",
    "In the presence of thermal noise, the\n",
    "  received signal can be modeled as $X= s_i + N$, where: \n",
    "* $s_i \\in \\{-1, 1\\}$ depends on which signal is transmitted (1 or 0), and\n",
    "* $N$ is a Gaussian random variable with mean 0 and variance $\\sigma^2 $, which determines the signal-to-noise ratio"
   ]
  },
  {
   "cell_type": "markdown",
   "metadata": {
    "slideshow": {
     "slide_type": "subslide"
    }
   },
   "source": [
    "Thus, the received signal has a conditional distribution, depending on which signal\n",
    "  is transmitted:\n",
    "\\begin{align*}\n",
    "  \\begin{cases}\n",
    "  X  \\sim \\mbox{Gaussian}(+1,\\sigma^2), & 0 \\mbox{ transmitted}\\\\\n",
    "  X  \\sim \\mbox{Gaussian}(-1,\\sigma^2), & 1 \\mbox{ transmitted}\n",
    "  \\end{cases}\n",
    "\\end{align*}\n",
    "\n",
    "(Here only the mean changes and not the variance, but this is an accurate\n",
    "  model of what happens in most binary communication systems.)"
   ]
  },
  {
   "cell_type": "markdown",
   "metadata": {
    "slideshow": {
     "slide_type": "subslide"
    }
   },
   "source": [
    "We can write the conditional density and distribution functions given that $i$ was transmitted as $f_X(x|i\\sim \\mbox{Tx})$ and $F_X(x|i\\sim\\mbox{Tx})$."
   ]
  },
  {
   "cell_type": "markdown",
   "metadata": {
    "slideshow": {
     "slide_type": "slide"
    }
   },
   "source": [
    "**<font color=blue>Example 7</font>** Let $T_i$ denote the event that $i$ is transmitted. Calculate the probability that $X>2$ if $P(T_0)=0.25$, $P(T_1)=0.75$ and $\\sigma^2=4$."
   ]
  },
  {
   "cell_type": "markdown",
   "metadata": {
    "slideshow": {
     "slide_type": "fragment"
    }
   },
   "source": [
    "We can easily solve this problem using what we already know about conditional probability and Gaussian random variables:\n",
    "\n",
    "\\begin{align*}\n",
    "P(X>2) &= P(X>2|T_0)P(T_0) + P(X>2|T_1)P(T_1) ~\\mbox{, by Total Probability}\\\\\n",
    "&= Q\\left(\\frac{2-1}{\\sigma} \\right)(0.25) +\n",
    "Q\\left(\\frac{2-(-1)}{\\sigma} \\right)(0.75) \\\\\n",
    "&= Q\\left(\\frac{1}{2} \\right)(0.25) +\n",
    "Q\\left(\\frac{3}{2} \\right)(0.75) \\\\\n",
    "&\\approx 0.127\n",
    "\\end{align*}"
   ]
  },
  {
   "cell_type": "markdown",
   "metadata": {
    "slideshow": {
     "slide_type": "fragment"
    }
   },
   "source": [
    "<!-- We can easily solve this problem using what we already know about conditional probability and Gaussian random variables:\n",
    "\n",
    "\\begin{align*}\n",
    "P(X>2) &= P(X>2|T_0)P(T_0) + P(X>2|T_1)P(T_1) ~\\mbox{, by Total Probability}\\\\\n",
    "&= Q\\left(\\frac{2-1}{\\sigma} \\right)(0.25) +\n",
    "Q\\left(\\frac{2-(-1)}{\\sigma} \\right)(0.75) \\\\\n",
    "&= Q\\left(\\frac{1}{2} \\right)(0.25) +\n",
    "Q\\left(\\frac{3}{2} \\right)(0.75) \\\\\n",
    "&\\approx 0.127\n",
    "\\end{align*} -->"
   ]
  },
  {
   "cell_type": "code",
   "execution_count": null,
   "metadata": {
    "slideshow": {
     "slide_type": "fragment"
    }
   },
   "outputs": [],
   "source": []
  },
  {
   "cell_type": "markdown",
   "metadata": {
    "slideshow": {
     "slide_type": "slide"
    }
   },
   "source": [
    "**<font color=blue>Example 2</font>** Calculate the probability of error if the decision rule is:\n",
    "\n",
    "\\begin{align*}\n",
    "\\begin{cases} \\hat{T}_0, & X \\ge 0\\\\ \\hat{T}_1, & X<0, \\end{cases}\n",
    "\\end{align*}\n",
    "\n",
    "where $\\hat{T}_i$ denotes deciding that $i$ was transmitted. Provide a numerical answer when $\\sigma^2=0.1$ and $P(T_0)=P(T_1)=\\frac{1}{2}$."
   ]
  },
  {
   "cell_type": "markdown",
   "metadata": {
    "slideshow": {
     "slide_type": "subslide"
    }
   },
   "source": [
    "<!-- \\begin{align*}\n",
    "P(E) &= P(X\\ge 0 \\cap T_1) + P(X<0 \\cap T_0) \\\\\n",
    "&= P(X \\ge 0 \\vert T_1)P(T_1) + P(X<0 \\vert T_0) P(T_0)\\\\\n",
    "&= Q\\left(\\frac{0-(-1)}{\\sigma}\\right) P(T_1) + Q\\left(\\frac{1-0}{\\sigma} \\right) P(T_0) \\\\\n",
    "&= Q\\left(\\frac{1}{\\sigma}\\right)\\\\\n",
    "&\\approx 0.00078\n",
    "\\end{align*} -->"
   ]
  },
  {
   "cell_type": "markdown",
   "metadata": {
    "slideshow": {
     "slide_type": "subslide"
    }
   },
   "source": [
    "\\begin{align*}\n",
    "P(E) &= P(X\\ge 0 \\cap T_1) + P(X<0 \\cap T_0) \\\\\n",
    "&= P(X \\ge 0 \\vert T_1)P(T_1) + P(X<0 \\vert T_0) P(T_0)\\\\\n",
    "&= Q\\left(\\frac{0-(-1)}{\\sigma}\\right) P(T_1) + Q\\left(\\frac{1-0}{\\sigma} \\right) P(T_0) \\\\\n",
    "&= Q\\left(\\frac{1}{\\sigma}\\right)\\\\\n",
    "&\\approx 0.00078\n",
    "\\end{align*}"
   ]
  },
  {
   "cell_type": "markdown",
   "metadata": {
    "slideshow": {
     "slide_type": "fragment"
    }
   },
   "source": [
    "What if the variance of the Gaussian noise was larger?"
   ]
  },
  {
   "cell_type": "code",
   "execution_count": 5,
   "metadata": {},
   "outputs": [
    {
     "data": {
      "image/png": "[encoded data removed]",
      "text/plain": [
       "<Figure size 720x360 with 1 Axes>"
      ]
     },
     "metadata": {
      "needs_background": "light"
     },
     "output_type": "display_data"
    }
   ],
   "source": [
    "# Define sigma_sq\n",
    "\n",
    "\n",
    "# Define normal distributions with variance sigma_sq\n",
    "\n",
    "x = np.linspace(-5,5,1000)\n",
    "\n",
    "plt.figure(figsize=(10,5))\n",
    "plt.plot(x, G_T0.pdf(x), label='$f_X(x|T_0)\\sim G(1,'+str(sigma_sq)+')$')\n",
    "plt.plot(x, G_T1.pdf(x), label='$f_X(x|T_1)\\sim G(-1,'+str(sigma_sq)+')$')\n",
    "plt.legend(fontsize=15)\n",
    "plt.title('$\\sigma^2=$'+str(sigma_sq), size=15);"
   ]
  },
  {
   "cell_type": "markdown",
   "metadata": {},
   "source": [
    "___"
   ]
  },
  {
   "cell_type": "markdown",
   "metadata": {
    "slideshow": {
     "slide_type": "slide"
    }
   },
   "source": [
    "# Optimal Decisions"
   ]
  },
  {
   "cell_type": "markdown",
   "metadata": {
    "slideshow": {
     "slide_type": "slide"
    }
   },
   "source": [
    "Now suppose that we want to make an optimal decision $\\hat{T}_i$ based on observing the value of $X$ at the output of the receiver. I.e., given that we have $X=x$ for some value $x$."
   ]
  },
  {
   "cell_type": "markdown",
   "metadata": {
    "slideshow": {
     "slide_type": "fragment"
    }
   },
   "source": [
    "The MAP rule is to choose the most probable value that was transmitted given the observation. So, that corresponds to:\n",
    "\n",
    "* If $P(T_0 \\vert X=x) \\ge P(T_1 \\vert X=x)$, decide 0\n",
    "* If $P(T_1 \\vert X=x) > P(T_0 \\vert X=x)$, decide 1"
   ]
  },
  {
   "cell_type": "markdown",
   "metadata": {
    "slideshow": {
     "slide_type": "fragment"
    }
   },
   "source": [
    "and by the definition of conditional probability\n",
    "\n",
    "\\begin{align*}\n",
    "P(T_0|X=x) = \\frac{P(T_0 \\cap X=x)}{P(X=x)}\n",
    "\\end{align*}\n",
    "\n",
    "<div class=\"alert alert-danger\">\n",
    "    But both the numerator and denominator are 0, because $X$ is a continuous random variable!\n",
    "</div>"
   ]
  },
  {
   "cell_type": "markdown",
   "metadata": {
    "slideshow": {
     "slide_type": "slide"
    }
   },
   "source": [
    "# Point Conditioning"
   ]
  },
  {
   "cell_type": "markdown",
   "metadata": {
    "slideshow": {
     "slide_type": "subslide"
    }
   },
   "source": [
    "Suppose we want to evaluate the probability of an event $A$ given\n",
    "that $\\!X=\\!x$, where $X$ is a continuous random variable.  \n",
    "\n",
    "* Then, if we use the definition of conditional probability\n",
    "\\begin{align*}\n",
    "P(A|X = x) &=  \\frac{P(A \\cap X\\!=\\!x)}{P(X\\!=\\!x)}  = \\frac{0}{0}       ,\n",
    "\\end{align*}"
   ]
  },
  {
   "cell_type": "markdown",
   "metadata": {
    "slideshow": {
     "slide_type": "subslide"
    }
   },
   "source": [
    "This case is called ***point conditioning***, and we treat it as a special case:\n",
    "\n",
    "\\begin{align*}\n",
    "P(A|X = x) &= \\underset{ \\Delta x \\rightarrow 0}{\\lim} P(A| x < X \\le x+ \\Delta x ) \\\\\n",
    "&= \\underset{ \\Delta x \\rightarrow 0}{\\lim}\\frac{F_X(x + \\Delta x |A)- F_X(x|A)}{F_X(x+\\Delta x)-F_X(x)}P(A)\\\\\n",
    "&= \\underset{ \\Delta x \\rightarrow 0}{\\lim}\\frac{\\frac{ F_X(x + \\Delta x |A)- F_X(x|A)}{ \\Delta x}}{\\frac {F_X(x+\\Delta x)-F_X(x)}{ \\Delta x}} P(A)\\\\\n",
    "&= \\frac{f_X(x|A)}{f_X(x)} P(A),\n",
    "\\end{align*}"
   ]
  },
  {
   "cell_type": "markdown",
   "metadata": {
    "slideshow": {
     "slide_type": "fragment"
    }
   },
   "source": [
    "if $f_X(x|A)$ and $f_X(x)$ exist, and $f_X(x) \\ne 0$.\n",
    "\n",
    "(The result looks like what you would do if you didn't know any better -- treat the densities as if they were probabilities, and everything works out!)\n",
    "\n",
    "\n"
   ]
  },
  {
   "cell_type": "markdown",
   "metadata": {},
   "source": [
    "<div class=\"alert alert-info\">\n",
    "    <b>Point Conditioning Form of Conditional Probability</b>\n",
    "    \n",
    "\\begin{align*}\n",
    "P(A|X = x) = \\frac{f_X(x|A)P(A)}{f_X(x)}\n",
    "\\end{align*}\n",
    "</div>"
   ]
  },
  {
   "cell_type": "markdown",
   "metadata": {
    "slideshow": {
     "slide_type": "slide"
    }
   },
   "source": [
    "## Implications of Point Conditioning"
   ]
  },
  {
   "cell_type": "markdown",
   "metadata": {
    "slideshow": {
     "slide_type": "subslide"
    }
   },
   "source": [
    "Note that the form above is almost a Bayes' rule form: If $A$ is some input event and $f_X(x|A)$ is the likelihood of $X$ given $A$, then $P(A|X=x)$ is the *a posteriori* probability of $A$ given that the output of the system is $X=x$.\n",
    "\n",
    "However, we don't know how to calculate $f_X(x)$ yet."
   ]
  },
  {
   "cell_type": "markdown",
   "metadata": {},
   "source": [
    "### Total Probability for Conditional Density Functions\n",
    "\n",
    "If  $\\left\\{A_i\\right\\}$ form a partition of $S$, then from our previous work on the Law of Total Probability, we have\n",
    "\\begin{align*}\n",
    "F_X(x) &= P(X \\le x) \\\\\n",
    "&= \\sum_i P(X \\le x| A_i) P(A_i) \\\\\n",
    "&= \\sum_i F_X(x|A_i) P(A_i)\n",
    "\\end{align*}\n",
    "    \n",
    "Since $ f_X(x) = \\frac{d}{dx} F_X(x)$ and $f_X(x|A_i) = \\frac{d}{dx} F_X(x|A_i)$,\n",
    "\\begin{align*}\n",
    "f_X(x) &= \\frac{d}{dx} F_X(x) \\\\\n",
    "&= \\frac{d}{dx}\\sum_i F_X(x|A_i) P(A_i) \\\\\n",
    "&= \\sum_i \\left[\\frac{d}{dx} F_X(x|A_i) \\right]P(A_i)  \\\\\n",
    "&= \\sum_i f_X(x|A_i) P(A_i) \n",
    "\\end{align*}"
   ]
  },
  {
   "cell_type": "markdown",
   "metadata": {
    "slideshow": {
     "slide_type": "subslide"
    }
   },
   "source": [
    "### Continuous Version of Law of Total Probability\n",
    "\n",
    "\\begin{align*}\n",
    "&P(A|X = x) = \\frac{f_X(x|A)}{f_X(x)} P(A) \\\\\n",
    "\\mbox{ } \\\\\n",
    "\\Rightarrow& P(A|X=x)f_X(x) = f_X(x|A)P(A) \\\\\n",
    "\\mbox{ } \\\\\n",
    "\\Rightarrow& \\int_{-\\infty}^{\\infty} P(A|X=x)f_X(x) dx \n",
    "=  \\int_{-\\infty}^{\\infty} f_X(x|A) dx P(A) \\\\\n",
    "\\Rightarrow& P(A) =\\int_{-\\infty}^{\\infty} P(A|X=x)f_X(x) dx \n",
    "\\end{align*}"
   ]
  },
  {
   "cell_type": "markdown",
   "metadata": {},
   "source": [
    "<div class=\"alert alert-info\">\n",
    "    <b>Point Conditioning Form of the Law of Total Probability</b>\n",
    "    \n",
    "If $\\{A_i, ~i=1,2,\\ldots, n\\}$ form a partition of $S$, then\n",
    "\n",
    "\\begin{align*}\n",
    "F_X(x) = \\sum_{i=1}^n F_X(x|A_i) P(A_i)\n",
    "\\end{align*}\n",
    "\n",
    "Since $ f_X(x) = \\frac{d}{dx} F_X(x)$ and $f_X(x|A_i) = \\frac{d}{dx} F_X(x|A_i)$, we also have\n",
    "    \n",
    "\\begin{align*}\n",
    "f_X(x) = \\sum_{i=1}^n f_X(x|A_i) P(A_i) \n",
    "\\end{align*}\n",
    "</div>"
   ]
  },
  {
   "cell_type": "markdown",
   "metadata": {
    "slideshow": {
     "slide_type": "subslide"
    }
   },
   "source": [
    "### Point Conditioning Form of Bayes' Rule\n",
    "\n",
    "If $\\{A_i, ~i=1,2,\\ldots, n\\}$ form a partition of $S$, then\n",
    "\n",
    "\\begin{align*}\n",
    "P(A_i|X = x) = \\frac{f_X(x|A_i) P(A_i)}{\\sum_{i=1}^n{f_X(x|A_i) P(A_i)}}\n",
    "\\end{align*}"
   ]
  },
  {
   "cell_type": "markdown",
   "metadata": {},
   "source": [
    "<div class=\"alert alert-info\">\n",
    "    <b>Point Conditioning Form of Bayes' Rule</b>\n",
    "    \n",
    "If $\\{A_i, ~i=1,2,\\ldots, n\\}$ form a partition of $S$, then\n",
    "\n",
    "\\begin{align*}\n",
    "P(A_i|X = x) = \\frac{f_X(x|A_i) P(A_i)}{f_X(x)}=\\frac{f_X(x|A_i) P(A_i)}{\\sum_{i=1}^n{f_X(x|A_i) P(A_i)}}\n",
    "\\end{align*}"
   ]
  },
  {
   "cell_type": "markdown",
   "metadata": {
    "slideshow": {
     "slide_type": "slide"
    }
   },
   "source": [
    "**<font color=blue>Example 1</font>** Find the MAP decision rules for the binary communication system."
   ]
  },
  {
   "cell_type": "markdown",
   "metadata": {
    "slideshow": {
     "slide_type": "fragment"
    }
   },
   "source": [
    "The MAP rule is to choose $\\hat{T}_0$ if $T_0$ maximizes\n",
    "\\begin{align*}\n",
    "P(T_0 \\vert X=x) & \\ge P(T_1 \\vert X=x) \\\\\n",
    "\\frac{f_X(x=x|T_0)P(T_0)}{f_X(x)} & \\ge \\frac{f_X(x=x|T_1)P(T_1)}{f_X(x)} \\\\\n",
    "f_X(x=x|T_0)P(T_0) & \\ge f_X(x=x|T_1)P(T_1)\n",
    "\\end{align*}\n",
    "\n",
    "and choose $\\hat{T}_1$ otherwise."
   ]
  },
  {
   "cell_type": "markdown",
   "metadata": {
    "slideshow": {
     "slide_type": "fragment"
    }
   },
   "source": [
    "We could simplify this further by substituting in the conditional densities but plotting the weighted densities and the decision regions will give us much more insight:"
   ]
  },
  {
   "cell_type": "code",
   "execution_count": null,
   "metadata": {},
   "outputs": [],
   "source": [
    "def drawMAP(p0,sigma2=1):\n",
    "    ''' Draw the weighted densities for the binary communication system problem\n",
    "    and shade under them according to the MAP decision rule. \n",
    "    \n",
    "    Inputs:\n",
    "    p0= probability that 0 is transmitted \n",
    "    sigma2= variance of the Gaussian noise (default is 1)'''\n",
    "    \n",
    "    # Set up random variables \n",
    "    \n",
    "    \n",
    "    # Prior probabilities\n",
    "    # p0 is given\n",
    "    \n",
    "        \n",
    "    # plot the weighted densities:\n",
    "    # these are proportional to the APPs\n",
    "    plt.figure(figsize=(10,5))\n",
    "    \n",
    "    \n",
    "    \n",
    "    # Determine the regions where the APP for 0 is \n",
    "    # bigger and the APP for 1 is bigger\n",
    "    \n",
    "    \n",
    "\n",
    "    # Fill under the regions found above\n",
    "    \n",
    "    \n",
    "    plt.xlabel('$x$',size=15); plt.ylabel('Weigthed PDF\\n$f_X(x|T_i)P(T_i)$',size=15)\n",
    "    plt.legend(fontsize=15)\n",
    "    \n",
    "    # Print the MAP threshold\n",
    "    print('MAP decision threshold to decide T0 is >', ##)"
   ]
  },
  {
   "cell_type": "code",
   "execution_count": null,
   "metadata": {
    "slideshow": {
     "slide_type": "subslide"
    }
   },
   "outputs": [],
   "source": []
  },
  {
   "cell_type": "code",
   "execution_count": null,
   "metadata": {
    "slideshow": {
     "slide_type": "subslide"
    }
   },
   "outputs": [],
   "source": []
  },
  {
   "cell_type": "code",
   "execution_count": null,
   "metadata": {
    "slideshow": {
     "slide_type": "subslide"
    }
   },
   "outputs": [],
   "source": []
  },
  {
   "cell_type": "code",
   "execution_count": null,
   "metadata": {
    "slideshow": {
     "slide_type": "subslide"
    }
   },
   "outputs": [],
   "source": []
  },
  {
   "cell_type": "code",
   "execution_count": null,
   "metadata": {
    "slideshow": {
     "slide_type": "subslide"
    }
   },
   "outputs": [],
   "source": []
  },
  {
   "cell_type": "markdown",
   "metadata": {},
   "source": [
    "___"
   ]
  },
  {
   "cell_type": "markdown",
   "metadata": {},
   "source": [
    "# Kernel Density Estimation (KDE)\n",
    "\n",
    "**Kernel density estimation (KDE)** is a non-parametric estimator of the probability density function (PDF) of a random variable. It is a fundamental data smoothing problem where inferences about the population are made, based on a finite data sample. It uses a mixture consisting of a Kernel component centered at each data point.\n",
    "\n",
    "* A density estimator is an algorithm which seeks to model the probability distribution that generated a data set. For one dimensional data, you are already familiar with one simple density estimator: the histogram. A histogram divides the data into discrete bins, counts the number of points that fall in each bin, and then visualizes the results in an intuitive manner.\n",
    "\n",
    "* One of the issues with using a *histogram* as a density estimator is that the choice of bin size and location can lead to representations that have qualitatively different features. \n",
    "\n",
    "* In order to smooth them out, we might decide to replace the blocks at each location with a smooth function, like a Gaussian. \n",
    "\n",
    "* Look at Lecture13-supp.ipynb for more information on KDE!"
   ]
  },
  {
   "cell_type": "code",
   "execution_count": 8,
   "metadata": {},
   "outputs": [],
   "source": [
    "G=stats.norm()\n",
    "Gvals=G.rvs(size=100)\n",
    "G25=stats.norm.rvs(size=25)"
   ]
  },
  {
   "cell_type": "code",
   "execution_count": 9,
   "metadata": {},
   "outputs": [
    {
     "data": {
      "application/javascript": [
       "/* Put everything inside the global mpl namespace */\n",
       "/* global mpl */\n",
       "window.mpl = {};\n",
       "\n",
       "mpl.get_websocket_type = function () {\n",
       "    if (typeof WebSocket !== 'undefined') {\n",
       "        return WebSocket;\n",
       "    } else if (typeof MozWebSocket !== 'undefined') {\n",
       "        return MozWebSocket;\n",
       "    } else {\n",
       "        alert(\n",
       "            'Your browser does not have WebSocket support. ' +\n",
       "                'Please try Chrome, Safari or Firefox ≥ 6. ' +\n",
       "                'Firefox 4 and 5 are also supported but you ' +\n",
       "                'have to enable WebSockets in about:config.'\n",
       "        );\n",
       "    }\n",
       "};\n",
       "\n",
       "mpl.figure = function (figure_id, websocket, ondownload, parent_element) {\n",
       "    this.id = figure_id;\n",
       "\n",
       "    this.ws = websocket;\n",
       "\n",
       "    this.supports_binary = this.ws.binaryType !== undefined;\n",
       "\n",
       "    if (!this.supports_binary) {\n",
       "        var warnings = document.getElementById('mpl-warnings');\n",
       "        if (warnings) {\n",
       "            warnings.style.display = 'block';\n",
       "            warnings.textContent =\n",
       "                'This browser does not support binary websocket messages. ' +\n",
       "                'Performance may be slow.';\n",
       "        }\n",
       "    }\n",
       "\n",
       "    this.imageObj = new Image();\n",
       "\n",
       "    this.context = undefined;\n",
       "    this.message = undefined;\n",
       "    this.canvas = undefined;\n",
       "    this.rubberband_canvas = undefined;\n",
       "    this.rubberband_context = undefined;\n",
       "    this.format_dropdown = undefined;\n",
       "\n",
       "    this.image_mode = 'full';\n",
       "\n",
       "    this.root = document.createElement('div');\n",
       "    this.root.setAttribute('style', 'display: inline-block');\n",
       "    this._root_extra_style(this.root);\n",
       "\n",
       "    parent_element.appendChild(this.root);\n",
       "\n",
       "    this._init_header(this);\n",
       "    this._init_canvas(this);\n",
       "    this._init_toolbar(this);\n",
       "\n",
       "    var fig = this;\n",
       "\n",
       "    this.waiting = false;\n",
       "\n",
       "    this.ws.onopen = function () {\n",
       "        fig.send_message('supports_binary', { value: fig.supports_binary });\n",
       "        fig.send_message('send_image_mode', {});\n",
       "        if (fig.ratio !== 1) {\n",
       "            fig.send_message('set_dpi_ratio', { dpi_ratio: fig.ratio });\n",
       "        }\n",
       "        fig.send_message('refresh', {});\n",
       "    };\n",
       "\n",
       "    this.imageObj.onload = function () {\n",
       "        if (fig.image_mode === 'full') {\n",
       "            // Full images could contain transparency (where diff images\n",
       "            // almost always do), so we need to clear the canvas so that\n",
       "            // there is no ghosting.\n",
       "            fig.context.clearRect(0, 0, fig.canvas.width, fig.canvas.height);\n",
       "        }\n",
       "        fig.context.drawImage(fig.imageObj, 0, 0);\n",
       "    };\n",
       "\n",
       "    this.imageObj.onunload = function () {\n",
       "        fig.ws.close();\n",
       "    };\n",
       "\n",
       "    this.ws.onmessage = this._make_on_message_function(this);\n",
       "\n",
       "    this.ondownload = ondownload;\n",
       "};\n",
       "\n",
       "mpl.figure.prototype._init_header = function () {\n",
       "    var titlebar = document.createElement('div');\n",
       "    titlebar.classList =\n",
       "        'ui-dialog-titlebar ui-widget-header ui-corner-all ui-helper-clearfix';\n",
       "    var titletext = document.createElement('div');\n",
       "    titletext.classList = 'ui-dialog-title';\n",
       "    titletext.setAttribute(\n",
       "        'style',\n",
       "        'width: 100%; text-align: center; padding: 3px;'\n",
       "    );\n",
       "    titlebar.appendChild(titletext);\n",
       "    this.root.appendChild(titlebar);\n",
       "    this.header = titletext;\n",
       "};\n",
       "\n",
       "mpl.figure.prototype._canvas_extra_style = function (_canvas_div) {};\n",
       "\n",
       "mpl.figure.prototype._root_extra_style = function (_canvas_div) {};\n",
       "\n",
       "mpl.figure.prototype._init_canvas = function () {\n",
       "    var fig = this;\n",
       "\n",
       "    var canvas_div = (this.canvas_div = document.createElement('div'));\n",
       "    canvas_div.setAttribute(\n",
       "        'style',\n",
       "        'border: 1px solid #ddd;' +\n",
       "            'box-sizing: content-box;' +\n",
       "            'clear: both;' +\n",
       "            'min-height: 1px;' +\n",
       "            'min-width: 1px;' +\n",
       "            'outline: 0;' +\n",
       "            'overflow: hidden;' +\n",
       "            'position: relative;' +\n",
       "            'resize: both;'\n",
       "    );\n",
       "\n",
       "    function on_keyboard_event_closure(name) {\n",
       "        return function (event) {\n",
       "            return fig.key_event(event, name);\n",
       "        };\n",
       "    }\n",
       "\n",
       "    canvas_div.addEventListener(\n",
       "        'keydown',\n",
       "        on_keyboard_event_closure('key_press')\n",
       "    );\n",
       "    canvas_div.addEventListener(\n",
       "        'keyup',\n",
       "        on_keyboard_event_closure('key_release')\n",
       "    );\n",
       "\n",
       "    this._canvas_extra_style(canvas_div);\n",
       "    this.root.appendChild(canvas_div);\n",
       "\n",
       "    var canvas = (this.canvas = document.createElement('canvas'));\n",
       "    canvas.classList.add('mpl-canvas');\n",
       "    canvas.setAttribute('style', 'box-sizing: content-box;');\n",
       "\n",
       "    this.context = canvas.getContext('2d');\n",
       "\n",
       "    var backingStore =\n",
       "        this.context.backingStorePixelRatio ||\n",
       "        this.context.webkitBackingStorePixelRatio ||\n",
       "        this.context.mozBackingStorePixelRatio ||\n",
       "        this.context.msBackingStorePixelRatio ||\n",
       "        this.context.oBackingStorePixelRatio ||\n",
       "        this.context.backingStorePixelRatio ||\n",
       "        1;\n",
       "\n",
       "    this.ratio = (window.devicePixelRatio || 1) / backingStore;\n",
       "\n",
       "    var rubberband_canvas = (this.rubberband_canvas = document.createElement(\n",
       "        'canvas'\n",
       "    ));\n",
       "    rubberband_canvas.setAttribute(\n",
       "        'style',\n",
       "        'box-sizing: content-box; position: absolute; left: 0; top: 0; z-index: 1;'\n",
       "    );\n",
       "\n",
       "    // Apply a ponyfill if ResizeObserver is not implemented by browser.\n",
       "    if (this.ResizeObserver === undefined) {\n",
       "        if (window.ResizeObserver !== undefined) {\n",
       "            this.ResizeObserver = window.ResizeObserver;\n",
       "        } else {\n",
       "            var obs = _JSXTOOLS_RESIZE_OBSERVER({});\n",
       "            this.ResizeObserver = obs.ResizeObserver;\n",
       "        }\n",
       "    }\n",
       "\n",
       "    this.resizeObserverInstance = new this.ResizeObserver(function (entries) {\n",
       "        var nentries = entries.length;\n",
       "        for (var i = 0; i < nentries; i++) {\n",
       "            var entry = entries[i];\n",
       "            var width, height;\n",
       "            if (entry.contentBoxSize) {\n",
       "                if (entry.contentBoxSize instanceof Array) {\n",
       "                    // Chrome 84 implements new version of spec.\n",
       "                    width = entry.contentBoxSize[0].inlineSize;\n",
       "                    height = entry.contentBoxSize[0].blockSize;\n",
       "                } else {\n",
       "                    // Firefox implements old version of spec.\n",
       "                    width = entry.contentBoxSize.inlineSize;\n",
       "                    height = entry.contentBoxSize.blockSize;\n",
       "                }\n",
       "            } else {\n",
       "                // Chrome <84 implements even older version of spec.\n",
       "                width = entry.contentRect.width;\n",
       "                height = entry.contentRect.height;\n",
       "            }\n",
       "\n",
       "            // Keep the size of the canvas and rubber band canvas in sync with\n",
       "            // the canvas container.\n",
       "            if (entry.devicePixelContentBoxSize) {\n",
       "                // Chrome 84 implements new version of spec.\n",
       "                canvas.setAttribute(\n",
       "                    'width',\n",
       "                    entry.devicePixelContentBoxSize[0].inlineSize\n",
       "                );\n",
       "                canvas.setAttribute(\n",
       "                    'height',\n",
       "                    entry.devicePixelContentBoxSize[0].blockSize\n",
       "                );\n",
       "            } else {\n",
       "                canvas.setAttribute('width', width * fig.ratio);\n",
       "                canvas.setAttribute('height', height * fig.ratio);\n",
       "            }\n",
       "            canvas.setAttribute(\n",
       "                'style',\n",
       "                'width: ' + width + 'px; height: ' + height + 'px;'\n",
       "            );\n",
       "\n",
       "            rubberband_canvas.setAttribute('width', width);\n",
       "            rubberband_canvas.setAttribute('height', height);\n",
       "\n",
       "            // And update the size in Python. We ignore the initial 0/0 size\n",
       "            // that occurs as the element is placed into the DOM, which should\n",
       "            // otherwise not happen due to the minimum size styling.\n",
       "            if (fig.ws.readyState == 1 && width != 0 && height != 0) {\n",
       "                fig.request_resize(width, height);\n",
       "            }\n",
       "        }\n",
       "    });\n",
       "    this.resizeObserverInstance.observe(canvas_div);\n",
       "\n",
       "    function on_mouse_event_closure(name) {\n",
       "        return function (event) {\n",
       "            return fig.mouse_event(event, name);\n",
       "        };\n",
       "    }\n",
       "\n",
       "    rubberband_canvas.addEventListener(\n",
       "        'mousedown',\n",
       "        on_mouse_event_closure('button_press')\n",
       "    );\n",
       "    rubberband_canvas.addEventListener(\n",
       "        'mouseup',\n",
       "        on_mouse_event_closure('button_release')\n",
       "    );\n",
       "    // Throttle sequential mouse events to 1 every 20ms.\n",
       "    rubberband_canvas.addEventListener(\n",
       "        'mousemove',\n",
       "        on_mouse_event_closure('motion_notify')\n",
       "    );\n",
       "\n",
       "    rubberband_canvas.addEventListener(\n",
       "        'mouseenter',\n",
       "        on_mouse_event_closure('figure_enter')\n",
       "    );\n",
       "    rubberband_canvas.addEventListener(\n",
       "        'mouseleave',\n",
       "        on_mouse_event_closure('figure_leave')\n",
       "    );\n",
       "\n",
       "    canvas_div.addEventListener('wheel', function (event) {\n",
       "        if (event.deltaY < 0) {\n",
       "            event.step = 1;\n",
       "        } else {\n",
       "            event.step = -1;\n",
       "        }\n",
       "        on_mouse_event_closure('scroll')(event);\n",
       "    });\n",
       "\n",
       "    canvas_div.appendChild(canvas);\n",
       "    canvas_div.appendChild(rubberband_canvas);\n",
       "\n",
       "    this.rubberband_context = rubberband_canvas.getContext('2d');\n",
       "    this.rubberband_context.strokeStyle = '#000000';\n",
       "\n",
       "    this._resize_canvas = function (width, height, forward) {\n",
       "        if (forward) {\n",
       "            canvas_div.style.width = width + 'px';\n",
       "            canvas_div.style.height = height + 'px';\n",
       "        }\n",
       "    };\n",
       "\n",
       "    // Disable right mouse context menu.\n",
       "    this.rubberband_canvas.addEventListener('contextmenu', function (_e) {\n",
       "        event.preventDefault();\n",
       "        return false;\n",
       "    });\n",
       "\n",
       "    function set_focus() {\n",
       "        canvas.focus();\n",
       "        canvas_div.focus();\n",
       "    }\n",
       "\n",
       "    window.setTimeout(set_focus, 100);\n",
       "};\n",
       "\n",
       "mpl.figure.prototype._init_toolbar = function () {\n",
       "    var fig = this;\n",
       "\n",
       "    var toolbar = document.createElement('div');\n",
       "    toolbar.classList = 'mpl-toolbar';\n",
       "    this.root.appendChild(toolbar);\n",
       "\n",
       "    function on_click_closure(name) {\n",
       "        return function (_event) {\n",
       "            return fig.toolbar_button_onclick(name);\n",
       "        };\n",
       "    }\n",
       "\n",
       "    function on_mouseover_closure(tooltip) {\n",
       "        return function (event) {\n",
       "            if (!event.currentTarget.disabled) {\n",
       "                return fig.toolbar_button_onmouseover(tooltip);\n",
       "            }\n",
       "        };\n",
       "    }\n",
       "\n",
       "    fig.buttons = {};\n",
       "    var buttonGroup = document.createElement('div');\n",
       "    buttonGroup.classList = 'mpl-button-group';\n",
       "    for (var toolbar_ind in mpl.toolbar_items) {\n",
       "        var name = mpl.toolbar_items[toolbar_ind][0];\n",
       "        var tooltip = mpl.toolbar_items[toolbar_ind][1];\n",
       "        var image = mpl.toolbar_items[toolbar_ind][2];\n",
       "        var method_name = mpl.toolbar_items[toolbar_ind][3];\n",
       "\n",
       "        if (!name) {\n",
       "            /* Instead of a spacer, we start a new button group. */\n",
       "            if (buttonGroup.hasChildNodes()) {\n",
       "                toolbar.appendChild(buttonGroup);\n",
       "            }\n",
       "            buttonGroup = document.createElement('div');\n",
       "            buttonGroup.classList = 'mpl-button-group';\n",
       "            continue;\n",
       "        }\n",
       "\n",
       "        var button = (fig.buttons[name] = document.createElement('button'));\n",
       "        button.classList = 'mpl-widget';\n",
       "        button.setAttribute('role', 'button');\n",
       "        button.setAttribute('aria-disabled', 'false');\n",
       "        button.addEventListener('click', on_click_closure(method_name));\n",
       "        button.addEventListener('mouseover', on_mouseover_closure(tooltip));\n",
       "\n",
       "        var icon_img = document.createElement('img');\n",
       "        icon_img.src = '_images/' + image + '.png';\n",
       "        icon_img.srcset = '_images/' + image + '_large.png 2x';\n",
       "        icon_img.alt = tooltip;\n",
       "        button.appendChild(icon_img);\n",
       "\n",
       "        buttonGroup.appendChild(button);\n",
       "    }\n",
       "\n",
       "    if (buttonGroup.hasChildNodes()) {\n",
       "        toolbar.appendChild(buttonGroup);\n",
       "    }\n",
       "\n",
       "    var fmt_picker = document.createElement('select');\n",
       "    fmt_picker.classList = 'mpl-widget';\n",
       "    toolbar.appendChild(fmt_picker);\n",
       "    this.format_dropdown = fmt_picker;\n",
       "\n",
       "    for (var ind in mpl.extensions) {\n",
       "        var fmt = mpl.extensions[ind];\n",
       "        var option = document.createElement('option');\n",
       "        option.selected = fmt === mpl.default_extension;\n",
       "        option.innerHTML = fmt;\n",
       "        fmt_picker.appendChild(option);\n",
       "    }\n",
       "\n",
       "    var status_bar = document.createElement('span');\n",
       "    status_bar.classList = 'mpl-message';\n",
       "    toolbar.appendChild(status_bar);\n",
       "    this.message = status_bar;\n",
       "};\n",
       "\n",
       "mpl.figure.prototype.request_resize = function (x_pixels, y_pixels) {\n",
       "    // Request matplotlib to resize the figure. Matplotlib will then trigger a resize in the client,\n",
       "    // which will in turn request a refresh of the image.\n",
       "    this.send_message('resize', { width: x_pixels, height: y_pixels });\n",
       "};\n",
       "\n",
       "mpl.figure.prototype.send_message = function (type, properties) {\n",
       "    properties['type'] = type;\n",
       "    properties['figure_id'] = this.id;\n",
       "    this.ws.send(JSON.stringify(properties));\n",
       "};\n",
       "\n",
       "mpl.figure.prototype.send_draw_message = function () {\n",
       "    if (!this.waiting) {\n",
       "        this.waiting = true;\n",
       "        this.ws.send(JSON.stringify({ type: 'draw', figure_id: this.id }));\n",
       "    }\n",
       "};\n",
       "\n",
       "mpl.figure.prototype.handle_save = function (fig, _msg) {\n",
       "    var format_dropdown = fig.format_dropdown;\n",
       "    var format = format_dropdown.options[format_dropdown.selectedIndex].value;\n",
       "    fig.ondownload(fig, format);\n",
       "};\n",
       "\n",
       "mpl.figure.prototype.handle_resize = function (fig, msg) {\n",
       "    var size = msg['size'];\n",
       "    if (size[0] !== fig.canvas.width || size[1] !== fig.canvas.height) {\n",
       "        fig._resize_canvas(size[0], size[1], msg['forward']);\n",
       "        fig.send_message('refresh', {});\n",
       "    }\n",
       "};\n",
       "\n",
       "mpl.figure.prototype.handle_rubberband = function (fig, msg) {\n",
       "    var x0 = msg['x0'] / fig.ratio;\n",
       "    var y0 = (fig.canvas.height - msg['y0']) / fig.ratio;\n",
       "    var x1 = msg['x1'] / fig.ratio;\n",
       "    var y1 = (fig.canvas.height - msg['y1']) / fig.ratio;\n",
       "    x0 = Math.floor(x0) + 0.5;\n",
       "    y0 = Math.floor(y0) + 0.5;\n",
       "    x1 = Math.floor(x1) + 0.5;\n",
       "    y1 = Math.floor(y1) + 0.5;\n",
       "    var min_x = Math.min(x0, x1);\n",
       "    var min_y = Math.min(y0, y1);\n",
       "    var width = Math.abs(x1 - x0);\n",
       "    var height = Math.abs(y1 - y0);\n",
       "\n",
       "    fig.rubberband_context.clearRect(\n",
       "        0,\n",
       "        0,\n",
       "        fig.canvas.width / fig.ratio,\n",
       "        fig.canvas.height / fig.ratio\n",
       "    );\n",
       "\n",
       "    fig.rubberband_context.strokeRect(min_x, min_y, width, height);\n",
       "};\n",
       "\n",
       "mpl.figure.prototype.handle_figure_label = function (fig, msg) {\n",
       "    // Updates the figure title.\n",
       "    fig.header.textContent = msg['label'];\n",
       "};\n",
       "\n",
       "mpl.figure.prototype.handle_cursor = function (fig, msg) {\n",
       "    var cursor = msg['cursor'];\n",
       "    switch (cursor) {\n",
       "        case 0:\n",
       "            cursor = 'pointer';\n",
       "            break;\n",
       "        case 1:\n",
       "            cursor = 'default';\n",
       "            break;\n",
       "        case 2:\n",
       "            cursor = 'crosshair';\n",
       "            break;\n",
       "        case 3:\n",
       "            cursor = 'move';\n",
       "            break;\n",
       "    }\n",
       "    fig.rubberband_canvas.style.cursor = cursor;\n",
       "};\n",
       "\n",
       "mpl.figure.prototype.handle_message = function (fig, msg) {\n",
       "    fig.message.textContent = msg['message'];\n",
       "};\n",
       "\n",
       "mpl.figure.prototype.handle_draw = function (fig, _msg) {\n",
       "    // Request the server to send over a new figure.\n",
       "    fig.send_draw_message();\n",
       "};\n",
       "\n",
       "mpl.figure.prototype.handle_image_mode = function (fig, msg) {\n",
       "    fig.image_mode = msg['mode'];\n",
       "};\n",
       "\n",
       "mpl.figure.prototype.handle_history_buttons = function (fig, msg) {\n",
       "    for (var key in msg) {\n",
       "        if (!(key in fig.buttons)) {\n",
       "            continue;\n",
       "        }\n",
       "        fig.buttons[key].disabled = !msg[key];\n",
       "        fig.buttons[key].setAttribute('aria-disabled', !msg[key]);\n",
       "    }\n",
       "};\n",
       "\n",
       "mpl.figure.prototype.handle_navigate_mode = function (fig, msg) {\n",
       "    if (msg['mode'] === 'PAN') {\n",
       "        fig.buttons['Pan'].classList.add('active');\n",
       "        fig.buttons['Zoom'].classList.remove('active');\n",
       "    } else if (msg['mode'] === 'ZOOM') {\n",
       "        fig.buttons['Pan'].classList.remove('active');\n",
       "        fig.buttons['Zoom'].classList.add('active');\n",
       "    } else {\n",
       "        fig.buttons['Pan'].classList.remove('active');\n",
       "        fig.buttons['Zoom'].classList.remove('active');\n",
       "    }\n",
       "};\n",
       "\n",
       "mpl.figure.prototype.updated_canvas_event = function () {\n",
       "    // Called whenever the canvas gets updated.\n",
       "    this.send_message('ack', {});\n",
       "};\n",
       "\n",
       "// A function to construct a web socket function for onmessage handling.\n",
       "// Called in the figure constructor.\n",
       "mpl.figure.prototype._make_on_message_function = function (fig) {\n",
       "    return function socket_on_message(evt) {\n",
       "        if (evt.data instanceof Blob) {\n",
       "            /* FIXME: We get \"Resource interpreted as Image but\n",
       "             * transferred with MIME type text/plain:\" errors on\n",
       "             * Chrome.  But how to set the MIME type?  It doesn't seem\n",
       "             * to be part of the websocket stream */\n",
       "            evt.data.type = 'image/png';\n",
       "\n",
       "            /* Free the memory for the previous frames */\n",
       "            if (fig.imageObj.src) {\n",
       "                (window.URL || window.webkitURL).revokeObjectURL(\n",
       "                    fig.imageObj.src\n",
       "                );\n",
       "            }\n",
       "\n",
       "            fig.imageObj.src = (window.URL || window.webkitURL).createObjectURL(\n",
       "                evt.data\n",
       "            );\n",
       "            fig.updated_canvas_event();\n",
       "            fig.waiting = false;\n",
       "            return;\n",
       "        } else if (\n",
       "            typeof evt.data === 'string' &&\n",
       "            evt.data.slice(0, 21) === 'data:image/png;base64'\n",
       "        ) {\n",
       "            fig.imageObj.src = evt.data;\n",
       "            fig.updated_canvas_event();\n",
       "            fig.waiting = false;\n",
       "            return;\n",
       "        }\n",
       "\n",
       "        var msg = JSON.parse(evt.data);\n",
       "        var msg_type = msg['type'];\n",
       "\n",
       "        // Call the  \"handle_{type}\" callback, which takes\n",
       "        // the figure and JSON message as its only arguments.\n",
       "        try {\n",
       "            var callback = fig['handle_' + msg_type];\n",
       "        } catch (e) {\n",
       "            console.log(\n",
       "                \"No handler for the '\" + msg_type + \"' message type: \",\n",
       "                msg\n",
       "            );\n",
       "            return;\n",
       "        }\n",
       "\n",
       "        if (callback) {\n",
       "            try {\n",
       "                // console.log(\"Handling '\" + msg_type + \"' message: \", msg);\n",
       "                callback(fig, msg);\n",
       "            } catch (e) {\n",
       "                console.log(\n",
       "                    \"Exception inside the 'handler_\" + msg_type + \"' callback:\",\n",
       "                    e,\n",
       "                    e.stack,\n",
       "                    msg\n",
       "                );\n",
       "            }\n",
       "        }\n",
       "    };\n",
       "};\n",
       "\n",
       "// from http://stackoverflow.com/questions/1114465/getting-mouse-location-in-canvas\n",
       "mpl.findpos = function (e) {\n",
       "    //this section is from http://www.quirksmode.org/js/events_properties.html\n",
       "    var targ;\n",
       "    if (!e) {\n",
       "        e = window.event;\n",
       "    }\n",
       "    if (e.target) {\n",
       "        targ = e.target;\n",
       "    } else if (e.srcElement) {\n",
       "        targ = e.srcElement;\n",
       "    }\n",
       "    if (targ.nodeType === 3) {\n",
       "        // defeat Safari bug\n",
       "        targ = targ.parentNode;\n",
       "    }\n",
       "\n",
       "    // pageX,Y are the mouse positions relative to the document\n",
       "    var boundingRect = targ.getBoundingClientRect();\n",
       "    var x = e.pageX - (boundingRect.left + document.body.scrollLeft);\n",
       "    var y = e.pageY - (boundingRect.top + document.body.scrollTop);\n",
       "\n",
       "    return { x: x, y: y };\n",
       "};\n",
       "\n",
       "/*\n",
       " * return a copy of an object with only non-object keys\n",
       " * we need this to avoid circular references\n",
       " * http://stackoverflow.com/a/24161582/3208463\n",
       " */\n",
       "function simpleKeys(original) {\n",
       "    return Object.keys(original).reduce(function (obj, key) {\n",
       "        if (typeof original[key] !== 'object') {\n",
       "            obj[key] = original[key];\n",
       "        }\n",
       "        return obj;\n",
       "    }, {});\n",
       "}\n",
       "\n",
       "mpl.figure.prototype.mouse_event = function (event, name) {\n",
       "    var canvas_pos = mpl.findpos(event);\n",
       "\n",
       "    if (name === 'button_press') {\n",
       "        this.canvas.focus();\n",
       "        this.canvas_div.focus();\n",
       "    }\n",
       "\n",
       "    var x = canvas_pos.x * this.ratio;\n",
       "    var y = canvas_pos.y * this.ratio;\n",
       "\n",
       "    this.send_message(name, {\n",
       "        x: x,\n",
       "        y: y,\n",
       "        button: event.button,\n",
       "        step: event.step,\n",
       "        guiEvent: simpleKeys(event),\n",
       "    });\n",
       "\n",
       "    /* This prevents the web browser from automatically changing to\n",
       "     * the text insertion cursor when the button is pressed.  We want\n",
       "     * to control all of the cursor setting manually through the\n",
       "     * 'cursor' event from matplotlib */\n",
       "    event.preventDefault();\n",
       "    return false;\n",
       "};\n",
       "\n",
       "mpl.figure.prototype._key_event_extra = function (_event, _name) {\n",
       "    // Handle any extra behaviour associated with a key event\n",
       "};\n",
       "\n",
       "mpl.figure.prototype.key_event = function (event, name) {\n",
       "    // Prevent repeat events\n",
       "    if (name === 'key_press') {\n",
       "        if (event.which === this._key) {\n",
       "            return;\n",
       "        } else {\n",
       "            this._key = event.which;\n",
       "        }\n",
       "    }\n",
       "    if (name === 'key_release') {\n",
       "        this._key = null;\n",
       "    }\n",
       "\n",
       "    var value = '';\n",
       "    if (event.ctrlKey && event.which !== 17) {\n",
       "        value += 'ctrl+';\n",
       "    }\n",
       "    if (event.altKey && event.which !== 18) {\n",
       "        value += 'alt+';\n",
       "    }\n",
       "    if (event.shiftKey && event.which !== 16) {\n",
       "        value += 'shift+';\n",
       "    }\n",
       "\n",
       "    value += 'k';\n",
       "    value += event.which.toString();\n",
       "\n",
       "    this._key_event_extra(event, name);\n",
       "\n",
       "    this.send_message(name, { key: value, guiEvent: simpleKeys(event) });\n",
       "    return false;\n",
       "};\n",
       "\n",
       "mpl.figure.prototype.toolbar_button_onclick = function (name) {\n",
       "    if (name === 'download') {\n",
       "        this.handle_save(this, null);\n",
       "    } else {\n",
       "        this.send_message('toolbar_button', { name: name });\n",
       "    }\n",
       "};\n",
       "\n",
       "mpl.figure.prototype.toolbar_button_onmouseover = function (tooltip) {\n",
       "    this.message.textContent = tooltip;\n",
       "};\n",
       "\n",
       "///////////////// REMAINING CONTENT GENERATED BY embed_js.py /////////////////\n",
       "// prettier-ignore\n",
       "var _JSXTOOLS_RESIZE_OBSERVER=function(A){var t,i=new WeakMap,n=new WeakMap,a=new WeakMap,r=new WeakMap,o=new Set;function s(e){if(!(this instanceof s))throw new TypeError(\"Constructor requires 'new' operator\");i.set(this,e)}function h(){throw new TypeError(\"Function is not a constructor\")}function c(e,t,i,n){e=0 in arguments?Number(arguments[0]):0,t=1 in arguments?Number(arguments[1]):0,i=2 in arguments?Number(arguments[2]):0,n=3 in arguments?Number(arguments[3]):0,this.right=(this.x=this.left=e)+(this.width=i),this.bottom=(this.y=this.top=t)+(this.height=n),Object.freeze(this)}function d(){t=requestAnimationFrame(d);var s=new WeakMap,p=new Set;o.forEach((function(t){r.get(t).forEach((function(i){var r=t instanceof window.SVGElement,o=a.get(t),d=r?0:parseFloat(o.paddingTop),f=r?0:parseFloat(o.paddingRight),l=r?0:parseFloat(o.paddingBottom),u=r?0:parseFloat(o.paddingLeft),g=r?0:parseFloat(o.borderTopWidth),m=r?0:parseFloat(o.borderRightWidth),w=r?0:parseFloat(o.borderBottomWidth),b=u+f,F=d+l,v=(r?0:parseFloat(o.borderLeftWidth))+m,W=g+w,y=r?0:t.offsetHeight-W-t.clientHeight,E=r?0:t.offsetWidth-v-t.clientWidth,R=b+v,z=F+W,M=r?t.width:parseFloat(o.width)-R-E,O=r?t.height:parseFloat(o.height)-z-y;if(n.has(t)){var k=n.get(t);if(k[0]===M&&k[1]===O)return}n.set(t,[M,O]);var S=Object.create(h.prototype);S.target=t,S.contentRect=new c(u,d,M,O),s.has(i)||(s.set(i,[]),p.add(i)),s.get(i).push(S)}))})),p.forEach((function(e){i.get(e).call(e,s.get(e),e)}))}return s.prototype.observe=function(i){if(i instanceof window.Element){r.has(i)||(r.set(i,new Set),o.add(i),a.set(i,window.getComputedStyle(i)));var n=r.get(i);n.has(this)||n.add(this),cancelAnimationFrame(t),t=requestAnimationFrame(d)}},s.prototype.unobserve=function(i){if(i instanceof window.Element&&r.has(i)){var n=r.get(i);n.has(this)&&(n.delete(this),n.size||(r.delete(i),o.delete(i))),n.size||r.delete(i),o.size||cancelAnimationFrame(t)}},A.DOMRectReadOnly=c,A.ResizeObserver=s,A.ResizeObserverEntry=h,A}; // eslint-disable-line\n",
       "mpl.toolbar_items = [[\"Home\", \"Reset original view\", \"fa fa-home icon-home\", \"home\"], [\"Back\", \"Back to previous view\", \"fa fa-arrow-left icon-arrow-left\", \"back\"], [\"Forward\", \"Forward to next view\", \"fa fa-arrow-right icon-arrow-right\", \"forward\"], [\"\", \"\", \"\", \"\"], [\"Pan\", \"Left button pans, Right button zooms\\nx/y fixes axis, CTRL fixes aspect\", \"fa fa-arrows icon-move\", \"pan\"], [\"Zoom\", \"Zoom to rectangle\\nx/y fixes axis, CTRL fixes aspect\", \"fa fa-square-o icon-check-empty\", \"zoom\"], [\"\", \"\", \"\", \"\"], [\"Download\", \"Download plot\", \"fa fa-floppy-o icon-save\", \"download\"]];\n",
       "\n",
       "mpl.extensions = [\"eps\", \"jpeg\", \"pdf\", \"png\", \"ps\", \"raw\", \"svg\", \"tif\"];\n",
       "\n",
       "mpl.default_extension = \"png\";/* global mpl */\n",
       "\n",
       "var comm_websocket_adapter = function (comm) {\n",
       "    // Create a \"websocket\"-like object which calls the given IPython comm\n",
       "    // object with the appropriate methods. Currently this is a non binary\n",
       "    // socket, so there is still some room for performance tuning.\n",
       "    var ws = {};\n",
       "\n",
       "    ws.close = function () {\n",
       "        comm.close();\n",
       "    };\n",
       "    ws.send = function (m) {\n",
       "        //console.log('sending', m);\n",
       "        comm.send(m);\n",
       "    };\n",
       "    // Register the callback with on_msg.\n",
       "    comm.on_msg(function (msg) {\n",
       "        //console.log('receiving', msg['content']['data'], msg);\n",
       "        // Pass the mpl event to the overridden (by mpl) onmessage function.\n",
       "        ws.onmessage(msg['content']['data']);\n",
       "    });\n",
       "    return ws;\n",
       "};\n",
       "\n",
       "mpl.mpl_figure_comm = function (comm, msg) {\n",
       "    // This is the function which gets called when the mpl process\n",
       "    // starts-up an IPython Comm through the \"matplotlib\" channel.\n",
       "\n",
       "    var id = msg.content.data.id;\n",
       "    // Get hold of the div created by the display call when the Comm\n",
       "    // socket was opened in Python.\n",
       "    var element = document.getElementById(id);\n",
       "    var ws_proxy = comm_websocket_adapter(comm);\n",
       "\n",
       "    function ondownload(figure, _format) {\n",
       "        window.open(figure.canvas.toDataURL());\n",
       "    }\n",
       "\n",
       "    var fig = new mpl.figure(id, ws_proxy, ondownload, element);\n",
       "\n",
       "    // Call onopen now - mpl needs it, as it is assuming we've passed it a real\n",
       "    // web socket which is closed, not our websocket->open comm proxy.\n",
       "    ws_proxy.onopen();\n",
       "\n",
       "    fig.parent_element = element;\n",
       "    fig.cell_info = mpl.find_output_cell(\"<div id='\" + id + \"'></div>\");\n",
       "    if (!fig.cell_info) {\n",
       "        console.error('Failed to find cell for figure', id, fig);\n",
       "        return;\n",
       "    }\n",
       "    fig.cell_info[0].output_area.element.on(\n",
       "        'cleared',\n",
       "        { fig: fig },\n",
       "        fig._remove_fig_handler\n",
       "    );\n",
       "};\n",
       "\n",
       "mpl.figure.prototype.handle_close = function (fig, msg) {\n",
       "    var width = fig.canvas.width / fig.ratio;\n",
       "    fig.cell_info[0].output_area.element.off(\n",
       "        'cleared',\n",
       "        fig._remove_fig_handler\n",
       "    );\n",
       "    fig.resizeObserverInstance.unobserve(fig.canvas_div);\n",
       "\n",
       "    // Update the output cell to use the data from the current canvas.\n",
       "    fig.push_to_output();\n",
       "    var dataURL = fig.canvas.toDataURL();\n",
       "    // Re-enable the keyboard manager in IPython - without this line, in FF,\n",
       "    // the notebook keyboard shortcuts fail.\n",
       "    IPython.keyboard_manager.enable();\n",
       "    fig.parent_element.innerHTML =\n",
       "        '<img src=\"' + dataURL + '\" width=\"' + width + '\">';\n",
       "    fig.close_ws(fig, msg);\n",
       "};\n",
       "\n",
       "mpl.figure.prototype.close_ws = function (fig, msg) {\n",
       "    fig.send_message('closing', msg);\n",
       "    // fig.ws.close()\n",
       "};\n",
       "\n",
       "mpl.figure.prototype.push_to_output = function (_remove_interactive) {\n",
       "    // Turn the data on the canvas into data in the output cell.\n",
       "    var width = this.canvas.width / this.ratio;\n",
       "    var dataURL = this.canvas.toDataURL();\n",
       "    this.cell_info[1]['text/html'] =\n",
       "        '<img src=\"' + dataURL + '\" width=\"' + width + '\">';\n",
       "};\n",
       "\n",
       "mpl.figure.prototype.updated_canvas_event = function () {\n",
       "    // Tell IPython that the notebook contents must change.\n",
       "    IPython.notebook.set_dirty(true);\n",
       "    this.send_message('ack', {});\n",
       "    var fig = this;\n",
       "    // Wait a second, then push the new image to the DOM so\n",
       "    // that it is saved nicely (might be nice to debounce this).\n",
       "    setTimeout(function () {\n",
       "        fig.push_to_output();\n",
       "    }, 1000);\n",
       "};\n",
       "\n",
       "mpl.figure.prototype._init_toolbar = function () {\n",
       "    var fig = this;\n",
       "\n",
       "    var toolbar = document.createElement('div');\n",
       "    toolbar.classList = 'btn-toolbar';\n",
       "    this.root.appendChild(toolbar);\n",
       "\n",
       "    function on_click_closure(name) {\n",
       "        return function (_event) {\n",
       "            return fig.toolbar_button_onclick(name);\n",
       "        };\n",
       "    }\n",
       "\n",
       "    function on_mouseover_closure(tooltip) {\n",
       "        return function (event) {\n",
       "            if (!event.currentTarget.disabled) {\n",
       "                return fig.toolbar_button_onmouseover(tooltip);\n",
       "            }\n",
       "        };\n",
       "    }\n",
       "\n",
       "    fig.buttons = {};\n",
       "    var buttonGroup = document.createElement('div');\n",
       "    buttonGroup.classList = 'btn-group';\n",
       "    var button;\n",
       "    for (var toolbar_ind in mpl.toolbar_items) {\n",
       "        var name = mpl.toolbar_items[toolbar_ind][0];\n",
       "        var tooltip = mpl.toolbar_items[toolbar_ind][1];\n",
       "        var image = mpl.toolbar_items[toolbar_ind][2];\n",
       "        var method_name = mpl.toolbar_items[toolbar_ind][3];\n",
       "\n",
       "        if (!name) {\n",
       "            /* Instead of a spacer, we start a new button group. */\n",
       "            if (buttonGroup.hasChildNodes()) {\n",
       "                toolbar.appendChild(buttonGroup);\n",
       "            }\n",
       "            buttonGroup = document.createElement('div');\n",
       "            buttonGroup.classList = 'btn-group';\n",
       "            continue;\n",
       "        }\n",
       "\n",
       "        button = fig.buttons[name] = document.createElement('button');\n",
       "        button.classList = 'btn btn-default';\n",
       "        button.href = '#';\n",
       "        button.title = name;\n",
       "        button.innerHTML = '<i class=\"fa ' + image + ' fa-lg\"></i>';\n",
       "        button.addEventListener('click', on_click_closure(method_name));\n",
       "        button.addEventListener('mouseover', on_mouseover_closure(tooltip));\n",
       "        buttonGroup.appendChild(button);\n",
       "    }\n",
       "\n",
       "    if (buttonGroup.hasChildNodes()) {\n",
       "        toolbar.appendChild(buttonGroup);\n",
       "    }\n",
       "\n",
       "    // Add the status bar.\n",
       "    var status_bar = document.createElement('span');\n",
       "    status_bar.classList = 'mpl-message pull-right';\n",
       "    toolbar.appendChild(status_bar);\n",
       "    this.message = status_bar;\n",
       "\n",
       "    // Add the close button to the window.\n",
       "    var buttongrp = document.createElement('div');\n",
       "    buttongrp.classList = 'btn-group inline pull-right';\n",
       "    button = document.createElement('button');\n",
       "    button.classList = 'btn btn-mini btn-primary';\n",
       "    button.href = '#';\n",
       "    button.title = 'Stop Interaction';\n",
       "    button.innerHTML = '<i class=\"fa fa-power-off icon-remove icon-large\"></i>';\n",
       "    button.addEventListener('click', function (_evt) {\n",
       "        fig.handle_close(fig, {});\n",
       "    });\n",
       "    button.addEventListener(\n",
       "        'mouseover',\n",
       "        on_mouseover_closure('Stop Interaction')\n",
       "    );\n",
       "    buttongrp.appendChild(button);\n",
       "    var titlebar = this.root.querySelector('.ui-dialog-titlebar');\n",
       "    titlebar.insertBefore(buttongrp, titlebar.firstChild);\n",
       "};\n",
       "\n",
       "mpl.figure.prototype._remove_fig_handler = function (event) {\n",
       "    var fig = event.data.fig;\n",
       "    if (event.target !== this) {\n",
       "        // Ignore bubbled events from children.\n",
       "        return;\n",
       "    }\n",
       "    fig.close_ws(fig, {});\n",
       "};\n",
       "\n",
       "mpl.figure.prototype._root_extra_style = function (el) {\n",
       "    el.style.boxSizing = 'content-box'; // override notebook setting of border-box.\n",
       "};\n",
       "\n",
       "mpl.figure.prototype._canvas_extra_style = function (el) {\n",
       "    // this is important to make the div 'focusable\n",
       "    el.setAttribute('tabindex', 0);\n",
       "    // reach out to IPython and tell the keyboard manager to turn it's self\n",
       "    // off when our div gets focus\n",
       "\n",
       "    // location in version 3\n",
       "    if (IPython.notebook.keyboard_manager) {\n",
       "        IPython.notebook.keyboard_manager.register_events(el);\n",
       "    } else {\n",
       "        // location in version 2\n",
       "        IPython.keyboard_manager.register_events(el);\n",
       "    }\n",
       "};\n",
       "\n",
       "mpl.figure.prototype._key_event_extra = function (event, _name) {\n",
       "    var manager = IPython.notebook.keyboard_manager;\n",
       "    if (!manager) {\n",
       "        manager = IPython.keyboard_manager;\n",
       "    }\n",
       "\n",
       "    // Check for shift+enter\n",
       "    if (event.shiftKey && event.which === 13) {\n",
       "        this.canvas_div.blur();\n",
       "        // select the cell after this one\n",
       "        var index = IPython.notebook.find_cell_index(this.cell_info[0]);\n",
       "        IPython.notebook.select(index + 1);\n",
       "    }\n",
       "};\n",
       "\n",
       "mpl.figure.prototype.handle_save = function (fig, _msg) {\n",
       "    fig.ondownload(fig, null);\n",
       "};\n",
       "\n",
       "mpl.find_output_cell = function (html_output) {\n",
       "    // Return the cell and output element which can be found *uniquely* in the notebook.\n",
       "    // Note - this is a bit hacky, but it is done because the \"notebook_saving.Notebook\"\n",
       "    // IPython event is triggered only after the cells have been serialised, which for\n",
       "    // our purposes (turning an active figure into a static one), is too late.\n",
       "    var cells = IPython.notebook.get_cells();\n",
       "    var ncells = cells.length;\n",
       "    for (var i = 0; i < ncells; i++) {\n",
       "        var cell = cells[i];\n",
       "        if (cell.cell_type === 'code') {\n",
       "            for (var j = 0; j < cell.output_area.outputs.length; j++) {\n",
       "                var data = cell.output_area.outputs[j];\n",
       "                if (data.data) {\n",
       "                    // IPython >= 3 moved mimebundle to data attribute of output\n",
       "                    data = data.data;\n",
       "                }\n",
       "                if (data['text/html'] === html_output) {\n",
       "                    return [cell, data, j];\n",
       "                }\n",
       "            }\n",
       "        }\n",
       "    }\n",
       "};\n",
       "\n",
       "// Register the function which deals with the matplotlib target/channel.\n",
       "// The kernel may be null if the page has been refreshed.\n",
       "if (IPython.notebook.kernel !== null) {\n",
       "    IPython.notebook.kernel.comm_manager.register_target(\n",
       "        'matplotlib',\n",
       "        mpl.mpl_figure_comm\n",
       "    );\n",
       "}\n"
      ],
      "text/plain": [
       "<IPython.core.display.Javascript object>"
      ]
     },
     "metadata": {},
     "output_type": "display_data"
    },
    {
     "data": {
      "text/html": [
       "<img src=\"data:image/png;base64,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\" width=\"500\">"
      ],
      "text/plain": [
       "<IPython.core.display.HTML object>"
      ]
     },
     "metadata": {},
     "output_type": "display_data"
    }
   ],
   "source": [
    "from matplotlib import animation\n",
    "#This will do an animated histogram\n",
    "%matplotlib notebook\n",
    "\n",
    "fig = plt.figure()\n",
    "fig.set_dpi(100)\n",
    "fig.set_size_inches(5, 4)\n",
    "\n",
    "ax = plt.axes(xlim=(-5, 5), ylim=(0, 15))\n",
    "blocks={}\n",
    "floors={}\n",
    "patchesPerBlock=25\n",
    "\n",
    "def init():\n",
    "    blocks['activeBlock']=0\n",
    "    for num,var in enumerate(G25):\n",
    "        center=round(var,1)\n",
    "        blocks[num]=[]\n",
    "        for i in range(patchesPerBlock):\n",
    "            binedge=round(center+(i-patchesPerBlock//2)*0.1,1)\n",
    "            patch = plt.Rectangle((binedge, 16), 0.1,\n",
    "                                  stats.norm.pdf((i-patchesPerBlock//2)*0.1,scale=0.5)*1.5, fc='b')\n",
    "            ax.add_patch(patch)\n",
    "            blocks[num]+=[patch]\n",
    "            floors[binedge]=0.01\n",
    "        #print(num,var, patches)\n",
    "\n",
    "\n",
    "    return []\n",
    "\n",
    "def animatePatch(i, patch,update):\n",
    "    return patch,\n",
    "\n",
    "def animate(i, blocks):\n",
    "    activeBlock=blocks['activeBlock']\n",
    "    #print(activeBlock,blocks)\n",
    "    numFloored=0\n",
    "    for patch in blocks[activeBlock]:\n",
    "        x,y=patch.xy\n",
    "        if y<=floors[x]:\n",
    "            #floors[x]=floors[x]+0.6\n",
    "            #print(\"floors[\",x,\"]=\",floors[x])\n",
    "            patch.xy=(x,floors[x])\n",
    "            numFloored+=1\n",
    "        else:\n",
    "            patch.xy=(x,y-0.2)\n",
    "    if numFloored>=patchesPerBlock:\n",
    "        for patch in blocks[activeBlock]:\n",
    "            x,y=patch.xy\n",
    "            floors[x]=round(floors[x]+patch.get_height(),1)\n",
    "        blocks['activeBlock']=activeBlock+1\n",
    "        activeBlock+=1\n",
    "        if activeBlock not in blocks.keys():\n",
    "            return []\n",
    "        #print(patches[activePatch])\n",
    "    for i in blocks:\n",
    "        #print(patchnum)\n",
    "        if i!='activeBlock':\n",
    "            for patch in blocks[i]:\n",
    "                animatePatch(i, patch,activeBlock==i)\n",
    "\n",
    "    return[]\n",
    "\n",
    "anim = animation.FuncAnimation(fig, animate, \n",
    "                               init_func=init, \n",
    "                               frames=100*len(G25), \n",
    "                               fargs=(blocks,),\n",
    "                               interval=5,\n",
    "                               blit=True,repeat=False)\n",
    "anim\n",
    "plt.show()"
   ]
  },
  {
   "cell_type": "markdown",
   "metadata": {},
   "source": [
    "Here is the same type of graph created with a wider, more finely quantized Gaussian shape and 100 Gaussian random variables:"
   ]
  },
  {
   "cell_type": "code",
   "execution_count": 10,
   "metadata": {},
   "outputs": [
    {
     "data": {
      "image/png": "[encoded data removed]",
      "text/plain": [
       "<Figure size 432x288 with 1 Axes>"
      ]
     },
     "metadata": {
      "needs_background": "light"
     },
     "output_type": "display_data"
    }
   ],
   "source": [
    "%matplotlib inline\n",
    "x = np.linspace(-5,5, 1000)\n",
    "density=np.zeros(x.size)\n",
    "for xi in Gvals:\n",
    "    ## Create new Gaussian RVs centered on the observation\n",
    "    Gi=stats.norm(xi) \n",
    "    ## Use the density of the RV as the shape:\n",
    "    density+=Gi.pdf(x) \n",
    "    \n",
    "plt.fill_between(x, density);"
   ]
  },
  {
   "cell_type": "markdown",
   "metadata": {},
   "source": [
    "**Magic!** This looks a lot like our density, even though we only had 100 observations!\n",
    "\n",
    "The shape we use to build this new density estimate is called a **\"kernel\"**.\n",
    "\n",
    "This approach is called **kernel density estimation (KDE)**.\n",
    "\n"
   ]
  },
  {
   "cell_type": "markdown",
   "metadata": {},
   "source": [
    "* The free parameter of kernel density estimation is the **kernel** function, which specifies the shape of the distribution placed at each point, and the kernel **bandwidth**, which controls the size of the kernel at each point. In practice, there are many kernels you might use for a kernel density estimation: in particular, the Scikit-Learn KDE implementation supports six kernel functions, which you can read about in Scikit-Learn's [Density Estimation documentation](https://scikit-learn.org/stable/modules/density.html)."
   ]
  },
  {
   "cell_type": "markdown",
   "metadata": {},
   "source": [
    "## Applying KDE to a dataset"
   ]
  },
  {
   "cell_type": "code",
   "execution_count": 11,
   "metadata": {
    "scrolled": true
   },
   "outputs": [
    {
     "data": {
      "text/html": [
       "<div>\n",
       "<style scoped>\n",
       "    .dataframe tbody tr th:only-of-type {\n",
       "        vertical-align: middle;\n",
       "    }\n",
       "\n",
       "    .dataframe tbody tr th {\n",
       "        vertical-align: top;\n",
       "    }\n",
       "\n",
       "    .dataframe thead th {\n",
       "        text-align: right;\n",
       "    }\n",
       "</style>\n",
       "<table border=\"1\" class=\"dataframe\">\n",
       "  <thead>\n",
       "    <tr style=\"text-align: right;\">\n",
       "      <th></th>\n",
       "      <th>STATE</th>\n",
       "      <th>RATE-2014</th>\n",
       "      <th>Percent Urban</th>\n",
       "    </tr>\n",
       "  </thead>\n",
       "  <tbody>\n",
       "    <tr>\n",
       "      <th>0</th>\n",
       "      <td>AL</td>\n",
       "      <td>16.9</td>\n",
       "      <td>59.0</td>\n",
       "    </tr>\n",
       "    <tr>\n",
       "      <th>1</th>\n",
       "      <td>AK</td>\n",
       "      <td>19.2</td>\n",
       "      <td>66.0</td>\n",
       "    </tr>\n",
       "    <tr>\n",
       "      <th>2</th>\n",
       "      <td>AZ</td>\n",
       "      <td>13.5</td>\n",
       "      <td>89.8</td>\n",
       "    </tr>\n",
       "    <tr>\n",
       "      <th>3</th>\n",
       "      <td>AR</td>\n",
       "      <td>16.6</td>\n",
       "      <td>56.2</td>\n",
       "    </tr>\n",
       "    <tr>\n",
       "      <th>4</th>\n",
       "      <td>CA</td>\n",
       "      <td>7.4</td>\n",
       "      <td>95.0</td>\n",
       "    </tr>\n",
       "    <tr>\n",
       "      <th>5</th>\n",
       "      <td>CO</td>\n",
       "      <td>12.2</td>\n",
       "      <td>86.2</td>\n",
       "    </tr>\n",
       "    <tr>\n",
       "      <th>6</th>\n",
       "      <td>CT</td>\n",
       "      <td>5.0</td>\n",
       "      <td>88.0</td>\n",
       "    </tr>\n",
       "    <tr>\n",
       "      <th>7</th>\n",
       "      <td>DE</td>\n",
       "      <td>11.1</td>\n",
       "      <td>83.3</td>\n",
       "    </tr>\n",
       "    <tr>\n",
       "      <th>8</th>\n",
       "      <td>FL</td>\n",
       "      <td>11.5</td>\n",
       "      <td>91.2</td>\n",
       "    </tr>\n",
       "    <tr>\n",
       "      <th>9</th>\n",
       "      <td>GA</td>\n",
       "      <td>13.7</td>\n",
       "      <td>75.1</td>\n",
       "    </tr>\n",
       "    <tr>\n",
       "      <th>10</th>\n",
       "      <td>HI</td>\n",
       "      <td>2.6</td>\n",
       "      <td>91.9</td>\n",
       "    </tr>\n",
       "    <tr>\n",
       "      <th>11</th>\n",
       "      <td>ID</td>\n",
       "      <td>13.2</td>\n",
       "      <td>70.6</td>\n",
       "    </tr>\n",
       "    <tr>\n",
       "      <th>12</th>\n",
       "      <td>IL</td>\n",
       "      <td>9.0</td>\n",
       "      <td>88.5</td>\n",
       "    </tr>\n",
       "    <tr>\n",
       "      <th>13</th>\n",
       "      <td>IN</td>\n",
       "      <td>12.4</td>\n",
       "      <td>72.4</td>\n",
       "    </tr>\n",
       "    <tr>\n",
       "      <th>14</th>\n",
       "      <td>IA</td>\n",
       "      <td>7.5</td>\n",
       "      <td>64.0</td>\n",
       "    </tr>\n",
       "    <tr>\n",
       "      <th>15</th>\n",
       "      <td>KS</td>\n",
       "      <td>11.3</td>\n",
       "      <td>74.2</td>\n",
       "    </tr>\n",
       "    <tr>\n",
       "      <th>16</th>\n",
       "      <td>KY</td>\n",
       "      <td>13.9</td>\n",
       "      <td>58.4</td>\n",
       "    </tr>\n",
       "    <tr>\n",
       "      <th>17</th>\n",
       "      <td>LA</td>\n",
       "      <td>19.0</td>\n",
       "      <td>73.2</td>\n",
       "    </tr>\n",
       "    <tr>\n",
       "      <th>18</th>\n",
       "      <td>ME</td>\n",
       "      <td>9.4</td>\n",
       "      <td>38.7</td>\n",
       "    </tr>\n",
       "    <tr>\n",
       "      <th>19</th>\n",
       "      <td>MD</td>\n",
       "      <td>9.0</td>\n",
       "      <td>87.2</td>\n",
       "    </tr>\n",
       "    <tr>\n",
       "      <th>20</th>\n",
       "      <td>MA</td>\n",
       "      <td>3.2</td>\n",
       "      <td>92.0</td>\n",
       "    </tr>\n",
       "    <tr>\n",
       "      <th>21</th>\n",
       "      <td>MI</td>\n",
       "      <td>11.1</td>\n",
       "      <td>74.6</td>\n",
       "    </tr>\n",
       "    <tr>\n",
       "      <th>22</th>\n",
       "      <td>MN</td>\n",
       "      <td>6.6</td>\n",
       "      <td>73.3</td>\n",
       "    </tr>\n",
       "    <tr>\n",
       "      <th>23</th>\n",
       "      <td>MS</td>\n",
       "      <td>18.3</td>\n",
       "      <td>49.4</td>\n",
       "    </tr>\n",
       "    <tr>\n",
       "      <th>24</th>\n",
       "      <td>MO</td>\n",
       "      <td>15.3</td>\n",
       "      <td>70.4</td>\n",
       "    </tr>\n",
       "    <tr>\n",
       "      <th>25</th>\n",
       "      <td>MT</td>\n",
       "      <td>16.1</td>\n",
       "      <td>55.9</td>\n",
       "    </tr>\n",
       "    <tr>\n",
       "      <th>26</th>\n",
       "      <td>NE</td>\n",
       "      <td>9.5</td>\n",
       "      <td>73.1</td>\n",
       "    </tr>\n",
       "    <tr>\n",
       "      <th>27</th>\n",
       "      <td>NV</td>\n",
       "      <td>14.8</td>\n",
       "      <td>94.2</td>\n",
       "    </tr>\n",
       "    <tr>\n",
       "      <th>28</th>\n",
       "      <td>NH</td>\n",
       "      <td>8.7</td>\n",
       "      <td>60.3</td>\n",
       "    </tr>\n",
       "    <tr>\n",
       "      <th>29</th>\n",
       "      <td>NJ</td>\n",
       "      <td>5.3</td>\n",
       "      <td>94.7</td>\n",
       "    </tr>\n",
       "    <tr>\n",
       "      <th>30</th>\n",
       "      <td>NM</td>\n",
       "      <td>16.0</td>\n",
       "      <td>77.4</td>\n",
       "    </tr>\n",
       "    <tr>\n",
       "      <th>31</th>\n",
       "      <td>NY</td>\n",
       "      <td>4.2</td>\n",
       "      <td>87.9</td>\n",
       "    </tr>\n",
       "    <tr>\n",
       "      <th>32</th>\n",
       "      <td>NC</td>\n",
       "      <td>11.8</td>\n",
       "      <td>66.1</td>\n",
       "    </tr>\n",
       "    <tr>\n",
       "      <th>33</th>\n",
       "      <td>ND</td>\n",
       "      <td>12.3</td>\n",
       "      <td>59.9</td>\n",
       "    </tr>\n",
       "    <tr>\n",
       "      <th>34</th>\n",
       "      <td>OH</td>\n",
       "      <td>10.3</td>\n",
       "      <td>77.9</td>\n",
       "    </tr>\n",
       "    <tr>\n",
       "      <th>35</th>\n",
       "      <td>OK</td>\n",
       "      <td>15.7</td>\n",
       "      <td>66.2</td>\n",
       "    </tr>\n",
       "    <tr>\n",
       "      <th>36</th>\n",
       "      <td>OR</td>\n",
       "      <td>11.7</td>\n",
       "      <td>81.0</td>\n",
       "    </tr>\n",
       "    <tr>\n",
       "      <th>37</th>\n",
       "      <td>PA</td>\n",
       "      <td>10.5</td>\n",
       "      <td>78.7</td>\n",
       "    </tr>\n",
       "    <tr>\n",
       "      <th>38</th>\n",
       "      <td>RI</td>\n",
       "      <td>3.0</td>\n",
       "      <td>90.7</td>\n",
       "    </tr>\n",
       "    <tr>\n",
       "      <th>39</th>\n",
       "      <td>SC</td>\n",
       "      <td>15.5</td>\n",
       "      <td>66.3</td>\n",
       "    </tr>\n",
       "    <tr>\n",
       "      <th>40</th>\n",
       "      <td>SD</td>\n",
       "      <td>10.3</td>\n",
       "      <td>56.7</td>\n",
       "    </tr>\n",
       "    <tr>\n",
       "      <th>41</th>\n",
       "      <td>TN</td>\n",
       "      <td>15.1</td>\n",
       "      <td>66.4</td>\n",
       "    </tr>\n",
       "    <tr>\n",
       "      <th>42</th>\n",
       "      <td>TX</td>\n",
       "      <td>10.7</td>\n",
       "      <td>84.7</td>\n",
       "    </tr>\n",
       "    <tr>\n",
       "      <th>43</th>\n",
       "      <td>UT</td>\n",
       "      <td>12.3</td>\n",
       "      <td>90.6</td>\n",
       "    </tr>\n",
       "    <tr>\n",
       "      <th>44</th>\n",
       "      <td>VT</td>\n",
       "      <td>10.3</td>\n",
       "      <td>38.9</td>\n",
       "    </tr>\n",
       "    <tr>\n",
       "      <th>45</th>\n",
       "      <td>VA</td>\n",
       "      <td>10.3</td>\n",
       "      <td>75.5</td>\n",
       "    </tr>\n",
       "    <tr>\n",
       "      <th>46</th>\n",
       "      <td>WA</td>\n",
       "      <td>9.7</td>\n",
       "      <td>84.1</td>\n",
       "    </tr>\n",
       "    <tr>\n",
       "      <th>47</th>\n",
       "      <td>WV</td>\n",
       "      <td>14.6</td>\n",
       "      <td>48.7</td>\n",
       "    </tr>\n",
       "    <tr>\n",
       "      <th>48</th>\n",
       "      <td>WI</td>\n",
       "      <td>8.2</td>\n",
       "      <td>70.2</td>\n",
       "    </tr>\n",
       "    <tr>\n",
       "      <th>49</th>\n",
       "      <td>WY</td>\n",
       "      <td>16.2</td>\n",
       "      <td>64.8</td>\n",
       "    </tr>\n",
       "  </tbody>\n",
       "</table>\n",
       "</div>"
      ],
      "text/plain": [
       "   STATE  RATE-2014  Percent Urban\n",
       "0     AL       16.9           59.0\n",
       "1     AK       19.2           66.0\n",
       "2     AZ       13.5           89.8\n",
       "3     AR       16.6           56.2\n",
       "4     CA        7.4           95.0\n",
       "5     CO       12.2           86.2\n",
       "6     CT        5.0           88.0\n",
       "7     DE       11.1           83.3\n",
       "8     FL       11.5           91.2\n",
       "9     GA       13.7           75.1\n",
       "10    HI        2.6           91.9\n",
       "11    ID       13.2           70.6\n",
       "12    IL        9.0           88.5\n",
       "13    IN       12.4           72.4\n",
       "14    IA        7.5           64.0\n",
       "15    KS       11.3           74.2\n",
       "16    KY       13.9           58.4\n",
       "17    LA       19.0           73.2\n",
       "18    ME        9.4           38.7\n",
       "19    MD        9.0           87.2\n",
       "20    MA        3.2           92.0\n",
       "21    MI       11.1           74.6\n",
       "22    MN        6.6           73.3\n",
       "23    MS       18.3           49.4\n",
       "24    MO       15.3           70.4\n",
       "25    MT       16.1           55.9\n",
       "26    NE        9.5           73.1\n",
       "27    NV       14.8           94.2\n",
       "28    NH        8.7           60.3\n",
       "29    NJ        5.3           94.7\n",
       "30    NM       16.0           77.4\n",
       "31    NY        4.2           87.9\n",
       "32    NC       11.8           66.1\n",
       "33    ND       12.3           59.9\n",
       "34    OH       10.3           77.9\n",
       "35    OK       15.7           66.2\n",
       "36    OR       11.7           81.0\n",
       "37    PA       10.5           78.7\n",
       "38    RI        3.0           90.7\n",
       "39    SC       15.5           66.3\n",
       "40    SD       10.3           56.7\n",
       "41    TN       15.1           66.4\n",
       "42    TX       10.7           84.7\n",
       "43    UT       12.3           90.6\n",
       "44    VT       10.3           38.9\n",
       "45    VA       10.3           75.5\n",
       "46    WA        9.7           84.1\n",
       "47    WV       14.6           48.7\n",
       "48    WI        8.2           70.2\n",
       "49    WY       16.2           64.8"
      ]
     },
     "execution_count": 11,
     "metadata": {},
     "output_type": "execute_result"
    }
   ],
   "source": [
    "df = pd.read_csv('firearms-urban.csv')\n",
    "\n",
    "df"
   ]
  },
  {
   "cell_type": "code",
   "execution_count": null,
   "metadata": {},
   "outputs": [],
   "source": []
  },
  {
   "cell_type": "code",
   "execution_count": null,
   "metadata": {},
   "outputs": [],
   "source": []
  },
  {
   "cell_type": "code",
   "execution_count": null,
   "metadata": {},
   "outputs": [],
   "source": []
  },
  {
   "cell_type": "code",
   "execution_count": null,
   "metadata": {},
   "outputs": [],
   "source": []
  },
  {
   "cell_type": "code",
   "execution_count": null,
   "metadata": {},
   "outputs": [],
   "source": []
  },
  {
   "cell_type": "code",
   "execution_count": null,
   "metadata": {},
   "outputs": [],
   "source": []
  },
  {
   "cell_type": "code",
   "execution_count": null,
   "metadata": {},
   "outputs": [],
   "source": [
    "N=50\n",
    "\n",
    "\n",
    "#COMPLETE IN CLASS\n",
    "\n",
    "plt.legend()\n",
    "plt.title(str(N)+' Random Samples \\nGenerated from the Gaussian KDE PDF');"
   ]
  },
  {
   "cell_type": "markdown",
   "metadata": {},
   "source": [
    "___"
   ]
  },
  {
   "cell_type": "markdown",
   "metadata": {},
   "source": [
    "# Statistical Inference\n",
    "\n",
    "We have developed the Bayesian approach to inference, where unknown parameters are modeled as random variables. In all cases we worked within a single, fully-specified probabilistic model, and we based most of our derivations and calculation on judicious application of Bayes's rule.\n",
    "\n",
    "By contrast, we can adopt a fundamentally different philosophy: we can view the unknown probabilistic parameter $\\theta$ of the probability function as a *deterministic* quantity (not random) but, nevertheless, unknown quantity.\n",
    "\n",
    "* The observational data $X=\\{x_i\\}_{i=1}^N$ is random and its distribution $p_X(x;\\theta)$ (if $X$ is discrete) or $f_X(x;\\theta)$ (if $X$ is continuous) depends on the value of $\\theta$ (the parameters of the distribution). \n",
    "\n",
    "* Thus, instead of working with a single probabilistic model, we will be dealing simultaneously with *multiple candidate (probabilistic) models*, one model for each possible value of $\\theta$.\n",
    "\n",
    "* In this context, a *good* hypothesis testing or estimation procedure will be one that possesses certain desirable properties *under every candidate model*."
   ]
  },
  {
   "cell_type": "markdown",
   "metadata": {},
   "source": [
    "## Classical Parameter Estimation\n",
    "\n",
    "Given observations $X=\\{x_1,x_2,\\dots,x_N\\}$, an **estimator** is a random variable of the form $\\hat{\\theta} = g(X)$, for some function $g$. Note that since the distribution of $X$ depends on $\\theta$, the same is true for the distribution of $\\hat{\\theta}$.\n",
    "\n",
    "### Some Terminology\n",
    "\n",
    "Let $\\hat{\\theta}$ be an **estimator** of an unknown parameter $\\theta$, that is, a function of $N$ observations $X=\\{x_i\\}_{i=1}^N$ whose distribution depends on $\\theta$.\n",
    "\n",
    "<div class=\"alert alert-info\">\n",
    "    <b>Error of Estimator</b>\n",
    "\n",
    "The **estimated error** is denoted by $\\epsilon_{\\theta}(\\hat{\\theta})$, is defined as\n",
    "    \n",
    "\\begin{align*}\n",
    "\\epsilon_{\\theta} = \\hat{\\theta} - \\theta\n",
    "\\end{align*}\n",
    "</div>\n",
    "\n",
    "<div class=\"alert alert-info\">\n",
    "    <b>Bias of Estimator</b>\n",
    "\n",
    "The **bias** of an estimator, denoted by $b_{\\theta}(\\hat{\\theta})$ is defined as\n",
    "    \n",
    "\\begin{align*}\n",
    "b_{\\theta}(\\hat{\\theta}) = E[\\hat{\\theta}] - \\theta\n",
    "\\end{align*}\n",
    "</div>\n",
    "\n",
    "<div class=\"alert alert-info\">\n",
    "    <b>Variance of Estimator</b>\n",
    "\n",
    "The **variance** of an estimator, denoted by $\\operatorname{Var}_{\\theta}[\\hat{\\theta}]$ is defined as\n",
    "    \n",
    "\\begin{align*}\n",
    "\\operatorname{Var}_{\\theta}[\\hat{\\theta}] = E\\left[\\left(\\hat{\\theta} -E[\\hat{\\theta}]\\right)^2\\right]\n",
    "\\end{align*}\n",
    "</div>\n",
    "\n",
    "<div class=\"alert alert-info\">\n",
    "    <b>Mean-Square Error of Estimator</b>\n",
    "\n",
    "The **Mean-Square Error** of an estimator, denoted by $E\\left[(\\hat{\\theta}-\\theta)^2\\right]$ is defined as\n",
    "    \n",
    "\\begin{align*}\n",
    "E\\left[(\\hat{\\theta}-\\theta)^2\\right] = b^2_{\\theta}\\left[\\hat{\\theta}\\right] + \\operatorname{Var}_{\\theta}[\\hat{\\theta}]\n",
    "\\end{align*}\n",
    "</div>\n",
    "\n",
    "The expected value, the variance, and the bias of $\\hat{\\theta}$ depend on $\\theta$, while the estimation error depends in addition on the observations $x_1,\\cdots, x_N$."
   ]
  },
  {
   "cell_type": "markdown",
   "metadata": {},
   "source": [
    "<div class=\"alert alert-info\">\n",
    "    <b>Unbiased Estimator</b>\n",
    "\n",
    "We call $\\hat{\\theta}$ **unbiased** if $E[\\hat{\\theta}] = \\theta$, for every possible value of $\\theta$.\n",
    "</div>\n",
    "\n",
    "<div class=\"alert alert-info\">\n",
    "    <b>Asymptotically Unbiased Estimator</b>\n",
    "\n",
    "We call $\\hat{\\theta}$ **asymptotically unbiased** if $\\lim_{N\\rightarrow\\infty} E[\\hat{\\theta}] = \\theta$, for every possible value of $\\theta$.\n",
    "</div>"
   ]
  },
  {
   "cell_type": "markdown",
   "metadata": {},
   "source": [
    "### The Bias-Variance Trade-Off\n",
    "\n",
    "Besides the bias $b_{\\theta}(\\hat{\\theta})$, we are usually interested in the size of the estimation error. This is captured by the **mean squared error**, $E\\left[(\\hat{\\theta}-\\theta)^2\\right]$, which is related to the bias and the variance of $\\hat{\\theta}$ according to the following formula:\n",
    "\n",
    "\\begin{align*}\n",
    "E\\left[(\\hat{\\theta}-\\theta)^2\\right] = b^2_{\\theta}\\left[\\hat{\\theta}\\right] + \\operatorname{Var}_{\\theta}[\\hat{\\theta}]\n",
    "\\end{align*}\n",
    "\n",
    "This formula is important because in many statistical problems there is a **trade-off** between the two terms on the right-hand-side. Often a reduction in the variance is accompanied by an increase in the bias. Of course, a good estimator\n",
    "is one that manages to keep both terms small. This is also known as **The Bias-Variance Trade-off**."
   ]
  },
  {
   "cell_type": "markdown",
   "metadata": {},
   "source": [
    "___"
   ]
  }
 ],
 "metadata": {
  "kernelspec": {
   "display_name": "Python 3",
   "language": "python",
   "name": "python3"
  },
  "language_info": {
   "codemirror_mode": {
    "name": "ipython",
    "version": 3
   },
   "file_extension": ".py",
   "mimetype": "text/x-python",
   "name": "python",
   "nbconvert_exporter": "python",
   "pygments_lexer": "ipython3",
   "version": "3.8.8"
  },
  "latex_envs": {
   "LaTeX_envs_menu_present": true,
   "autoclose": false,
   "autocomplete": true,
   "bibliofile": "biblio.bib",
   "cite_by": "apalike",
   "current_citInitial": 1,
   "eqLabelWithNumbers": true,
   "eqNumInitial": 1,
   "hotkeys": {
    "equation": "Ctrl-E",
    "itemize": "Ctrl-I"
   },
   "labels_anchors": false,
   "latex_user_defs": false,
   "report_style_numbering": false,
   "user_envs_cfg": false
  },
  "varInspector": {
   "cols": {
    "lenName": 16,
    "lenType": 16,
    "lenVar": 40
   },
   "kernels_config": {
    "python": {
     "delete_cmd_postfix": "",
     "delete_cmd_prefix": "del ",
     "library": "var_list.py",
     "varRefreshCmd": "print(var_dic_list())"
    },
    "r": {
     "delete_cmd_postfix": ") ",
     "delete_cmd_prefix": "rm(",
     "library": "var_list.r",
     "varRefreshCmd": "cat(var_dic_list()) "
    }
   },
   "types_to_exclude": [
    "module",
    "function",
    "builtin_function_or_method",
    "instance",
    "_Feature"
   ],
   "window_display": false
  }
 },
 "nbformat": 4,
 "nbformat_minor": 4
}
