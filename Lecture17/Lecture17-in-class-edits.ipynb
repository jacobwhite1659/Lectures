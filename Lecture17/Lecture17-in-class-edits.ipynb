{
 "cells": [
  {
   "cell_type": "markdown",
   "metadata": {},
   "source": [
    "# Lecture 17\n",
    "\n",
    "- **Goodness-of-fit measures**\n",
    "- **Contingency tables**: test of independence"
   ]
  },
  {
   "cell_type": "markdown",
   "metadata": {},
   "source": [
    "# Exam 2\n",
    "\n",
    "## <font color=blue>Wednesday, November 2 @ 8:20PM - 10:20PM in FLG 0260 and FLG 0270</font>\n",
    "**Students whose last name begins with A-M should go to FLG 0260, and those whose last name begins N-Z should go to FLG 0270.**\n",
    "\n",
    "### Exam 2 Review Lecture: <font color=orange>Tuesday, November 1 (first half)</font>\n",
    "\n",
    "Two **practice exams** (from last semester) is available in the Assignment-Solutions repo.\n",
    "\n",
    "* Coverage: Lectures 8 to 17 (modules 6 and 7)."
   ]
  },
  {
   "cell_type": "markdown",
   "metadata": {},
   "source": [
    "### Exam Details\n",
    "\n",
    "All exams will have 2 parts:\n",
    "\n",
    "**<font color=blue>Part 1 - Analytical.</font>**\n",
    "* You are allowed 1-page letter-sized front and back of formulas (handwritten or typed).\n",
    "* You are allowed a scientific calculator.\n",
    "* **<font color=orange>TOTAL TIME:</font>** 1 hour\n",
    " \n",
    "\n",
    "**<font color=blue>Part 2 - Simulation.</font>**\n",
    "* Bring the computer you have been using with Anaconda installed.\n",
    "* This part is open-book. You are allowed access to the textbooks and lecture materials (including assignments).\n",
    "* You are allowed to use the internet, if needed.\n",
    "* *Recommended*: create a python \"cheat sheet\" where you will add useful functions, simulations and other Python implementations.\n",
    "* **<font color=orange>TOTAL TIME:</font>** 1 hour\n",
    "\n",
    "**<font color=red>Communications between students or anyone else during the exam is considered cheating. Turn off all Slack notifications and other communications channels!</font>**"
   ]
  },
  {
   "cell_type": "markdown",
   "metadata": {},
   "source": [
    "## Exam 2 Coverage\n",
    "\n",
    "Exam 2 will cover all materials from Lectures 8-17. These include:\n",
    "\n",
    "1. **Random Variables**\n",
    "    * What are random variables?\n",
    "    * Defining discrete and continuous RVs\n",
    "    * Important discrete RVs:\n",
    "        * Bernoulli, Binomial, Geometric, Poisson, Uniform\n",
    "    * Probability Mass Functions (PMFs)\n",
    "    * Important continuous RVs:\n",
    "        * Uniform, Exponential, Gaussian\n",
    "    * Probability Density Functions (PDFs)\n",
    "    * Cumulative Distribution Functions (CDFs)\n",
    "    * Expected Value\n",
    "    * Moments of RV\n",
    "        * Mean, Variance, Skewness, Kurtosis\n",
    "    * Central Limit Theorem (CLT)\n",
    "    * Kernel Density Estimation (KDE)\n",
    "        * types of kernels (Gaussian, exponential, etc.)\n",
    "        * bandwidth\n",
    "    * Point Conditioning\n",
    "        * Conditional Probability for continuous RVs\n",
    "        * Law of Total Probability for continuous RVs\n",
    "        * Bayes' Rule version for continuous RVs\n",
    "    * Optimal Decisions\n",
    "    \n",
    "2. **Experimental Design, Decision and Analysis**\n",
    "    * Sum of Independent Gaussian RVs\n",
    "    * Hypothesis test for the difference of the means -- Gaussian, from CLT\n",
    "    * Binary T-test\n",
    "    * Hypothesis test errors\n",
    "        * Type I error: False Positives\n",
    "        * Type II error: False Negatives\n",
    "    * Performance Trade-offs\n",
    "        * Finding threshold for probability of false rejection, false acceptance\n",
    "        * ROC curve\n",
    "        * AUC of the ROC curve\n",
    "    * Goodness-of-fit measures\n",
    "        * For discrete RVs: chi-squared test\n",
    "        * For continuous RVs: $r^2$ of the Q-Q plot\n",
    "        * Q-Q plot vs probability plot\n",
    "    * Contingency Tables\n",
    "        * ```pandas``` dataframe manipulation\n",
    "        * Expected contingency table\n",
    "        * Degrees of freedom\n",
    "        * Test of independence: Chi-Squared statistic"
   ]
  },
  {
   "cell_type": "markdown",
   "metadata": {},
   "source": [
    "## How to prepare for exam\n",
    "\n",
    "**This is a suggestion only.**\n",
    "\n",
    "1. Review/read all Notebooks.\n",
    "\n",
    "2. Create your formula sheet for part 1 and \"common functions\" Notebook for part 2.\n",
    "    * You will be given a Q-function table.\n",
    "\n",
    "3. Review/redo exercises from HW3.\n",
    "\n",
    "4. Review/redo exercises from SA2 and SA3.\n",
    "\n",
    "5. Review/redo exercises from Lecture 12 Recitation and Lecture 18 Recitation (upcoming). \n",
    "\n",
    "6. Solve practice exams 2."
   ]
  },
  {
   "cell_type": "code",
   "execution_count": null,
   "metadata": {},
   "outputs": [],
   "source": []
  },
  {
   "cell_type": "markdown",
   "metadata": {},
   "source": [
    "## Last class"
   ]
  },
  {
   "cell_type": "markdown",
   "metadata": {},
   "source": [
    "* We saw the **T-test** (unknown variance)\n",
    "* **Tradeoffs in hypothesis testing** : how do our results depend on the level of alpha (confidence)?"
   ]
  },
  {
   "cell_type": "markdown",
   "metadata": {},
   "source": [
    "## T-test\n",
    "\n",
    "Unknown variance: we have to approximate the variance.\n",
    "\n",
    "If we use our *unbiased* estimator for the variance, then the distribution of\n",
    "\n",
    "\\begin{align*}\n",
    "\\frac{\\hat{\\mu}-\\mu}{S_{N-1}/\\sqrt{N}}\n",
    "\\end{align*}\n",
    "\n",
    "has a **Student’s $t$-distribution with $N-1$ degrees of freedom (dof)**.\n",
    "\n",
    "* The density and distribution functions for the **Student's $t$-distribution** are shown on its [Wikipedia page](https://en.wikipedia.org/wiki/Student's_t-distribution).\n",
    "\n",
    "* Unlike the Gaussian distribution, the distribution function for Student’s t-distribution is in closed form for several values of $\\nu$ (degrees of freedom or dof)."
   ]
  },
  {
   "cell_type": "markdown",
   "metadata": {},
   "source": [
    "## Errors and Performance Tradeoffs in Hypothesis Testing\n",
    "\n",
    "* In binary hypothesis testing, there are two types of errors:\n",
    "\n",
    "    1. **False Alarm** (Type I Error, also called *False Positive*)\n",
    "        * occurs if we accept the alternate hypothesis ($H_1$) when it is not true; or reject the null hypothesis ($H_0$) when it is in fact true.\n",
    "        * we will use the notation\n",
    "        \\begin{align*}\n",
    "        P_{fa} = P(\\text{false alarm})\n",
    "        \\end{align*}\n",
    "        \n",
    "        * $P_{fa} = \\alpha$\n",
    "    \n",
    "    2. **Miss** (Type II Error, also called *False Negative*)\n",
    "        * occurs if we reject an alternative hypothesis ($H_1$) when it is actually true; or accept the null hypothesis ($H_0$) when it is in fact false.\n",
    "        * we will use the notation\n",
    "        \\begin{align*}\n",
    "        P_m = P(\\text{miss})\n",
    "        \\end{align*}\n",
    "\n",
    "* When performing a hypothesis test, there is always a tradeoff between these two types of errors\n",
    "\n",
    "* The tradeoff is controlled by choosing the significance level, $\\alpha$, to which the p-value is compared with\n",
    "    * the value $\\alpha$ is the probability that we will reject the null hypothesis, $H_0$ when it is in fact true\n",
    "    * equivalently, it is the probability of accepting the alternative hypothesis, $H_1$, when $H_1$ is false\n",
    "   "
   ]
  },
  {
   "cell_type": "markdown",
   "metadata": {},
   "source": [
    "## Visualizing Tradeoffs in Hypothesis Testing: ROC Curves\n",
    "\n",
    "* We can visualize the relation between these types of errors using a ROC curve\n",
    "    * ROC stands for *receiver operating characteristic*\n",
    "    * ROC curves were developed for RADAR systems but are widely used in fields of statistical tests, such as biomedicine\n",
    "\n",
    "* In ROC curves, we do not plot $P_{fa}$ vs $P_m$\n",
    "\n",
    "* Instead:\n",
    "    * the x-axis is **FPR (false positive rate)**\n",
    "    \\begin{align*}\n",
    "    \\text{FPR}=P_{fa}\n",
    "    \\end{align*}\n",
    "    \n",
    "    * the y-axis is **TPR (true positive rate)**\n",
    "    \\begin{align*}\n",
    "    \\text{TPR}=1-P_m\n",
    "    \\end{align*}"
   ]
  },
  {
   "cell_type": "code",
   "execution_count": 2,
   "metadata": {},
   "outputs": [],
   "source": [
    "import numpy as np\n",
    "import numpy.random as npr\n",
    "import scipy.stats as stats\n",
    "import pandas as pd\n",
    "import matplotlib.pyplot as plt\n",
    "%matplotlib inline\n",
    "plt.style.use('bmh')"
   ]
  },
  {
   "cell_type": "markdown",
   "metadata": {},
   "source": [
    "## Today\n",
    "* **Goodness-of-fit measures**\n",
    "* **Contingency tables**: test of independence"
   ]
  },
  {
   "cell_type": "markdown",
   "metadata": {},
   "source": [
    "___"
   ]
  },
  {
   "cell_type": "markdown",
   "metadata": {},
   "source": [
    "# Testing Goodness-of-Fit\n",
    "\n",
    "The goodness of fit of a statistical model describes how well it fits a set of observations. Measures of goodness of fit typically summarize the discrepancy between observed values and the values expected under the model in question."
   ]
  },
  {
   "cell_type": "markdown",
   "metadata": {},
   "source": [
    "## Testing Whether Data Comes from a Distribution: Discrete Distributions\n",
    "\n",
    "* Given a set of random data and a proposed model, how could we determine if the data could have reasonably come from that model?\n",
    "\n",
    "* For example, given values from a six-sided die, how could you tell if the die is fair? "
   ]
  },
  {
   "cell_type": "markdown",
   "metadata": {},
   "source": [
    "#### <font color=blue>Example 1</font>"
   ]
  },
  {
   "cell_type": "code",
   "execution_count": 51,
   "metadata": {},
   "outputs": [
    {
     "data": {
      "text/plain": [
       "array([3, 4, 5, 5, 1, 4, 2, 2, 2, 3, 4, 3, 2, 2, 3, 1, 6, 3, 1, 3, 3, 6,\n",
       "       5, 5, 3, 3, 1, 5, 5, 2, 2, 5, 1, 6, 4, 2, 6, 6, 2, 2, 2, 5, 2, 1,\n",
       "       2, 6, 4, 5, 1, 4, 5, 2, 2, 4, 4, 6, 5, 1, 3, 2])"
      ]
     },
     "execution_count": 51,
     "metadata": {},
     "output_type": "execute_result"
    }
   ],
   "source": [
    "# Draw 60 values from a fair 6-sided die:\n",
    "\n",
    "dice = npr.randint(1,7,size=60)\n",
    "dice"
   ]
  },
  {
   "cell_type": "code",
   "execution_count": 52,
   "metadata": {},
   "outputs": [],
   "source": [
    "vals, counts = np.unique(dice, return_counts=True)"
   ]
  },
  {
   "cell_type": "code",
   "execution_count": 53,
   "metadata": {},
   "outputs": [
    {
     "data": {
      "image/png": "[encoded data removed]",
      "text/plain": [
       "<Figure size 432x288 with 1 Axes>"
      ]
     },
     "metadata": {
      "needs_background": "light"
     },
     "output_type": "display_data"
    }
   ],
   "source": [
    "plt.bar(vals, counts/60);"
   ]
  },
  {
   "cell_type": "markdown",
   "metadata": {},
   "source": [
    "* Even after 60 rolls, the numbers still vary significantly\n",
    "\n",
    "* We could compare them to the expected values:"
   ]
  },
  {
   "cell_type": "code",
   "execution_count": 54,
   "metadata": {},
   "outputs": [
    {
     "data": {
      "image/png": "[encoded data removed]",
      "text/plain": [
       "<Figure size 432x288 with 1 Axes>"
      ]
     },
     "metadata": {
      "needs_background": "light"
     },
     "output_type": "display_data"
    }
   ],
   "source": [
    "plt.bar(vals-0.15, counts, width=0.2, label='Counts')\n",
    "plt.bar(vals+0.15, [60*1/6], width=0.2, label='Expected Value')\n",
    "plt.legend(fontsize=15);"
   ]
  },
  {
   "cell_type": "markdown",
   "metadata": {},
   "source": [
    "#### <font color=blue>Example 2</font>\n",
    "\n",
    "The file \"baseball.pickle\" contains the birth months of major league baseball players."
   ]
  },
  {
   "cell_type": "markdown",
   "metadata": {},
   "source": [
    "> [```pickle```](https://docs.python.org/3/library/pickle.html) is a Python object serialization library."
   ]
  },
  {
   "cell_type": "code",
   "execution_count": 3,
   "metadata": {},
   "outputs": [],
   "source": [
    "import pickle"
   ]
  },
  {
   "cell_type": "code",
   "execution_count": 4,
   "metadata": {},
   "outputs": [],
   "source": [
    "pf = open('baseball.pickle','rb')"
   ]
  },
  {
   "cell_type": "code",
   "execution_count": 5,
   "metadata": {},
   "outputs": [],
   "source": [
    "df = pickle.load(pf)\n",
    "pf.close()"
   ]
  },
  {
   "cell_type": "code",
   "execution_count": 6,
   "metadata": {},
   "outputs": [
    {
     "data": {
      "text/html": [
       "<div>\n",
       "<style scoped>\n",
       "    .dataframe tbody tr th:only-of-type {\n",
       "        vertical-align: middle;\n",
       "    }\n",
       "\n",
       "    .dataframe tbody tr th {\n",
       "        vertical-align: top;\n",
       "    }\n",
       "\n",
       "    .dataframe thead th {\n",
       "        text-align: right;\n",
       "    }\n",
       "</style>\n",
       "<table border=\"1\" class=\"dataframe\">\n",
       "  <thead>\n",
       "    <tr style=\"text-align: right;\">\n",
       "      <th></th>\n",
       "      <th>Jan</th>\n",
       "      <th>Feb</th>\n",
       "      <th>Mar</th>\n",
       "      <th>Apr</th>\n",
       "      <th>May</th>\n",
       "      <th>Jun</th>\n",
       "      <th>Jul</th>\n",
       "      <th>Aug</th>\n",
       "      <th>Sep</th>\n",
       "      <th>Oct</th>\n",
       "      <th>Nov</th>\n",
       "      <th>Dec</th>\n",
       "    </tr>\n",
       "  </thead>\n",
       "  <tbody>\n",
       "    <tr>\n",
       "      <th>num_players</th>\n",
       "      <td>1398.0</td>\n",
       "      <td>1213.0</td>\n",
       "      <td>1350.0</td>\n",
       "      <td>1221.0</td>\n",
       "      <td>1229.0</td>\n",
       "      <td>1157.0</td>\n",
       "      <td>1317.0</td>\n",
       "      <td>1558.0</td>\n",
       "      <td>1382.0</td>\n",
       "      <td>1526.0</td>\n",
       "      <td>1406.0</td>\n",
       "      <td>1350.0</td>\n",
       "    </tr>\n",
       "  </tbody>\n",
       "</table>\n",
       "</div>"
      ],
      "text/plain": [
       "                Jan     Feb     Mar     Apr     May     Jun     Jul     Aug  \\\n",
       "num_players  1398.0  1213.0  1350.0  1221.0  1229.0  1157.0  1317.0  1558.0   \n",
       "\n",
       "                Sep     Oct     Nov     Dec  \n",
       "num_players  1382.0  1526.0  1406.0  1350.0  "
      ]
     },
     "execution_count": 6,
     "metadata": {},
     "output_type": "execute_result"
    }
   ],
   "source": [
    "df"
   ]
  },
  {
   "cell_type": "code",
   "execution_count": 8,
   "metadata": {},
   "outputs": [
    {
     "data": {
      "text/plain": [
       "array([1398., 1213., 1350., 1221., 1229., 1157., 1317., 1558., 1382.,\n",
       "       1526., 1406., 1350.])"
      ]
     },
     "execution_count": 8,
     "metadata": {},
     "output_type": "execute_result"
    }
   ],
   "source": [
    "baseball = df.loc['num_players'].to_numpy()\n",
    "baseball"
   ]
  },
  {
   "cell_type": "code",
   "execution_count": 9,
   "metadata": {},
   "outputs": [
    {
     "name": "stdout",
     "output_type": "stream",
     "text": [
      "['Jan' 'Feb' 'Mar' 'Apr' 'May' 'Jun' 'Jul' 'Aug' 'Sep' 'Oct' 'Nov' 'Dec']\n"
     ]
    }
   ],
   "source": [
    "months = df.columns.to_numpy()\n",
    "print(months)"
   ]
  },
  {
   "cell_type": "code",
   "execution_count": 10,
   "metadata": {
    "scrolled": true
   },
   "outputs": [
    {
     "data": {
      "image/png": "[encoded data removed]",
      "text/plain": [
       "<Figure size 432x288 with 1 Axes>"
      ]
     },
     "metadata": {
      "needs_background": "light"
     },
     "output_type": "display_data"
    }
   ],
   "source": [
    "plt.bar(months, baseball);"
   ]
  },
  {
   "cell_type": "markdown",
   "metadata": {},
   "source": [
    "Observations and Comments:\n",
    "\n",
    "* Note that more MLB players are born in August than any other month\n",
    "\n",
    "* Some people claim that this is because in little league baseball through 2006, the cutoff for determing a player's age eligibility was July 31st\n",
    "\n",
    "* That is, a player who was turning 9 that year would not be eligible to play in the 8 & Under league if their birthday was before August 1st. \n",
    "\n",
    "* Thus, players with July birthdays were the youngest (and, on average, smallest) in their leagues, and player with August birthdays were the oldest (and, on average, largest)"
   ]
  },
  {
   "cell_type": "markdown",
   "metadata": {},
   "source": [
    "Let's start by comparing the data values in the cells to the expected values for those cells \n",
    "\n",
    "* **We assume a uniform distribution of birthdays over the year**"
   ]
  },
  {
   "cell_type": "code",
   "execution_count": 13,
   "metadata": {},
   "outputs": [
    {
     "data": {
      "text/plain": [
       "16107"
      ]
     },
     "execution_count": 13,
     "metadata": {},
     "output_type": "execute_result"
    }
   ],
   "source": [
    "total_players = int(sum(baseball))\n",
    "\n",
    "total_players"
   ]
  },
  {
   "cell_type": "markdown",
   "metadata": {},
   "source": [
    "Then we can get the expected number of birthdays in a month as the probability a player is born in a month (which is just the number of days in the month divided by 365) times the total number of players in the table:"
   ]
  },
  {
   "cell_type": "code",
   "execution_count": 14,
   "metadata": {},
   "outputs": [],
   "source": [
    "days_in_month=np.array([31,28,31,30,31,30,31,31,30,31,30,31])"
   ]
  },
  {
   "cell_type": "code",
   "execution_count": 16,
   "metadata": {},
   "outputs": [
    {
     "data": {
      "text/plain": [
       "array([1367.99178082, 1235.60547945, 1367.99178082, 1323.8630137 ,\n",
       "       1367.99178082, 1323.8630137 , 1367.99178082, 1367.99178082,\n",
       "       1323.8630137 , 1367.99178082, 1323.8630137 , 1367.99178082])"
      ]
     },
     "execution_count": 16,
     "metadata": {},
     "output_type": "execute_result"
    }
   ],
   "source": [
    "# Expected value (assuming a uniform distribution)\n",
    "\n",
    "ref = days_in_month/365 * total_players\n",
    "\n",
    "ref"
   ]
  },
  {
   "cell_type": "markdown",
   "metadata": {},
   "source": [
    "Now we can compare the data to the expected values:"
   ]
  },
  {
   "cell_type": "code",
   "execution_count": 17,
   "metadata": {},
   "outputs": [
    {
     "data": {
      "image/png": "[encoded data removed]",
      "text/plain": [
       "<Figure size 432x288 with 1 Axes>"
      ]
     },
     "metadata": {
      "needs_background": "light"
     },
     "output_type": "display_data"
    }
   ],
   "source": [
    "plt.bar(np.arange(12)-0.15, baseball, width=0.2, label='Counts')\n",
    "plt.bar(np.arange(12)+0.15, ref, width=0.2, label='E[]')\n",
    "plt.legend()\n",
    "plt.ylim(0,1800)\n",
    "plt.xticks(np.arange(12), months);"
   ]
  },
  {
   "cell_type": "markdown",
   "metadata": {},
   "source": [
    "Observations:\n",
    "\n",
    "* August through November seem to be overrepresented, but how can we test it, with 12 different values?\n",
    "\n",
    "* Let's start by computing the errors:"
   ]
  },
  {
   "cell_type": "code",
   "execution_count": 19,
   "metadata": {},
   "outputs": [
    {
     "data": {
      "image/png": "[encoded data removed]",
      "text/plain": [
       "<Figure size 432x288 with 1 Axes>"
      ]
     },
     "metadata": {
      "needs_background": "light"
     },
     "output_type": "display_data"
    }
   ],
   "source": [
    "# Errors = observed- reference\n",
    "\n",
    "errors = baseball - ref\n",
    "\n",
    "# Stem plot of errors\n",
    "plt.stem(errors);"
   ]
  },
  {
   "cell_type": "markdown",
   "metadata": {},
   "source": [
    "* Now we need to turn the errors into a single test statistic\n",
    "\n",
    "* Note that the errors are both positive and negative\n",
    "\n",
    "* We solve this in the same way we have before, let's start by looking at the total squared error (also called the total deviation):"
   ]
  },
  {
   "cell_type": "code",
   "execution_count": 20,
   "metadata": {},
   "outputs": [
    {
     "data": {
      "text/plain": [
       "133597.9654269094"
      ]
     },
     "execution_count": 20,
     "metadata": {},
     "output_type": "execute_result"
    }
   ],
   "source": [
    "E2_sum = sum(errors**2)\n",
    "E2_sum"
   ]
  },
  {
   "cell_type": "markdown",
   "metadata": {},
   "source": [
    "* Then we can carry out our statistical test in the usual way\n",
    "\n",
    "* We draw examples from the distribution under $H_0$ and then see how often we get such a large total deviation:"
   ]
  },
  {
   "cell_type": "code",
   "execution_count": 21,
   "metadata": {},
   "outputs": [],
   "source": [
    "# RV under the H0 - assuming data is Uniformly-distributed\n",
    "\n",
    "bballRV = stats.rv_discrete(values=(np.arange(12), days_in_month/365))\n",
    "\n",
    "# This RV models the number of baseball players born in each month of the year\n"
   ]
  },
  {
   "cell_type": "code",
   "execution_count": 29,
   "metadata": {},
   "outputs": [
    {
     "name": "stdout",
     "output_type": "stream",
     "text": [
      "5\n"
     ]
    }
   ],
   "source": [
    "players = bballRV.rvs()\n",
    "print(players)"
   ]
  },
  {
   "cell_type": "code",
   "execution_count": 31,
   "metadata": {},
   "outputs": [
    {
     "name": "stdout",
     "output_type": "stream",
     "text": [
      "[ 5  9  7  6  1  9 10  5  6  5  8  2  9 11  2 11  8  5  2  7]\n",
      "[ 1  2  5  6  7  8  9 10 11] [1 3 4 2 2 2 3 1 2]\n"
     ]
    }
   ],
   "source": [
    "players = bballRV.rvs(size=20)\n",
    "print(players)\n",
    "\n",
    "vals, counts = np.unique(players,return_counts=True)\n",
    "print(vals, counts)"
   ]
  },
  {
   "cell_type": "code",
   "execution_count": 32,
   "metadata": {},
   "outputs": [
    {
     "name": "stdout",
     "output_type": "stream",
     "text": [
      "Prob of seeing a result this extreme is 0.0\n"
     ]
    }
   ],
   "source": [
    "ref = days_in_month/365 * total_players\n",
    "\n",
    "num_sims=1000\n",
    "count=0\n",
    "for sim in range(num_sims):\n",
    "    players = bballRV.rvs(size=total_players) # sample size should be the same as the original sample\n",
    "    vals, counts = np.unique(players,return_counts=True)\n",
    "    \n",
    "    test_errors = counts - ref # computes elementwise errors\n",
    "    test_E2sum = sum(test_errors**2) # sum of the squared errors\n",
    "    if test_E2sum >= E2_sum:\n",
    "        count+=1\n",
    "        \n",
    "print('Prob of seeing a result this extreme is', count/num_sims)"
   ]
  },
  {
   "cell_type": "markdown",
   "metadata": {},
   "source": [
    "**Conclusion:** \n",
    "The result is statistically significant. MLB players' birthdays are not uniformly distributed throughout the year."
   ]
  },
  {
   "cell_type": "markdown",
   "metadata": {},
   "source": [
    "* Note that some months have more days than others. Those months will naturally have more variation than months with more days because the expected counts will be smaller\n",
    "\n",
    "* To compensate for this effect, it is instead common to normalize the cell deviations by dividing by the expected value of that cell:"
   ]
  },
  {
   "cell_type": "code",
   "execution_count": 33,
   "metadata": {},
   "outputs": [
    {
     "data": {
      "text/plain": [
       "array([ 0.65825923,  0.41356866,  0.23662728,  7.9923674 , 14.12195264,\n",
       "       21.03183264,  1.90071443, 26.39133061,  2.55306564, 18.2505463 ,\n",
       "        5.09605937,  0.23662728])"
      ]
     },
     "execution_count": 33,
     "metadata": {},
     "output_type": "execute_result"
    }
   ],
   "source": [
    "# squared errors divided by the expected values\n",
    "\n",
    "Cvals = errors**2/ref\n",
    "\n",
    "Cvals"
   ]
  },
  {
   "cell_type": "markdown",
   "metadata": {},
   "source": [
    "After normalizing, we can again calculate a statistic that is a sum of the normalized deviations:"
   ]
  },
  {
   "cell_type": "code",
   "execution_count": 34,
   "metadata": {},
   "outputs": [
    {
     "data": {
      "text/plain": [
       "98.88295146884933"
      ]
     },
     "execution_count": 34,
     "metadata": {},
     "output_type": "execute_result"
    }
   ],
   "source": [
    "Chisq = sum(Cvals)\n",
    "\n",
    "Chisq"
   ]
  },
  {
   "cell_type": "markdown",
   "metadata": {},
   "source": [
    "For reasons we will discuss later, this is called the **chi-squared statistic** with $N-1$ degrees of freedom (dof), i.e.\n",
    "\n",
    "\\begin{align*}\n",
    "\\sum_{i=1}^N \\frac{(O_i - E_i)^2}{E_i} \\sim \\chi^2(\\text{dof}= N-1)\n",
    "\\end{align*}\n",
    "\n",
    "where $O_i$ is the observed value, $E_i$ is the expected value and $N$ is the total number of random values."
   ]
  },
  {
   "cell_type": "code",
   "execution_count": 38,
   "metadata": {},
   "outputs": [
    {
     "name": "stdout",
     "output_type": "stream",
     "text": [
      "p-value =  2.9710916764507454e-16\n"
     ]
    },
    {
     "data": {
      "image/png": "[encoded data removed]",
      "text/plain": [
       "<Figure size 576x360 with 1 Axes>"
      ]
     },
     "metadata": {
      "needs_background": "light"
     },
     "output_type": "display_data"
    }
   ],
   "source": [
    "x = np.linspace(0,100,1000)\n",
    "\n",
    "plt.figure(figsize=(8,5))\n",
    "Chi2_RV = stats.chi2(12-1)\n",
    "plt.plot(x, Chi2_RV.pdf(x))\n",
    "print('p-value = ', Chi2_RV.sf(Chisq))"
   ]
  },
  {
   "cell_type": "code",
   "execution_count": 37,
   "metadata": {},
   "outputs": [
    {
     "name": "stdout",
     "output_type": "stream",
     "text": [
      "Chi-square with dof =  2 , Moments:  (array(2.), array(4.), array(2.), array(6.))\n",
      "Chi-square with dof =  3 , Moments:  (array(3.), array(6.), array(1.63299316), array(4.))\n",
      "Chi-square with dof =  4 , Moments:  (array(4.), array(8.), array(1.41421356), array(3.))\n",
      "Chi-square with dof =  5 , Moments:  (array(5.), array(10.), array(1.26491106), array(2.4))\n",
      "Chi-square with dof =  6 , Moments:  (array(6.), array(12.), array(1.15470054), array(2.))\n",
      "Chi-square with dof =  7 , Moments:  (array(7.), array(14.), array(1.06904497), array(1.71428571))\n",
      "Chi-square with dof =  8 , Moments:  (array(8.), array(16.), array(1.), array(1.5))\n",
      "Chi-square with dof =  9 , Moments:  (array(9.), array(18.), array(0.94280904), array(1.33333333))\n",
      "Chi-square with dof =  10 , Moments:  (array(10.), array(20.), array(0.89442719), array(1.2))\n"
     ]
    },
    {
     "data": {
      "image/png": "[encoded data removed]",
      "text/plain": [
       "<Figure size 576x360 with 1 Axes>"
      ]
     },
     "metadata": {
      "needs_background": "light"
     },
     "output_type": "display_data"
    }
   ],
   "source": [
    "x = np.linspace(0,50,1000)\n",
    "plt.figure(figsize=(8,5))\n",
    "for dof in range(2,11):\n",
    "    C = stats.chi2(dof)\n",
    "    plt.plot(x, C.pdf(x), label='dof='+str(dof))\n",
    "    print('Chi-square with dof = ',dof,', Moments: ', C.stats('mvsk'))\n",
    "plt.legend();\n"
   ]
  },
  {
   "cell_type": "code",
   "execution_count": null,
   "metadata": {},
   "outputs": [],
   "source": []
  },
  {
   "cell_type": "markdown",
   "metadata": {},
   "source": [
    "We can carry out a similar simulation test as above."
   ]
  },
  {
   "cell_type": "code",
   "execution_count": 40,
   "metadata": {},
   "outputs": [
    {
     "name": "stdout",
     "output_type": "stream",
     "text": [
      "Prob of seeing a result this extreme is 0.0\n"
     ]
    }
   ],
   "source": [
    "num_sims=1000\n",
    "count=0\n",
    "for sim in range(num_sims):\n",
    "    players = bballRV.rvs(size=total_players)\n",
    "    vals, counts = np.unique(players,return_counts=True)\n",
    "    test_E2= (counts-ref)**2\n",
    "    test_chi2 = sum(test_E2/ref)\n",
    "    if test_chi2 >= Chisq:\n",
    "        count+=1\n",
    "\n",
    "print('Prob of seeing a result this extreme is',count/num_sims)"
   ]
  },
  {
   "cell_type": "markdown",
   "metadata": {},
   "source": [
    "**Conclusion:** \n",
    "The result is statistically significant. MLB players' birthdays are not uniformly distributed throughout the year."
   ]
  },
  {
   "cell_type": "markdown",
   "metadata": {},
   "source": [
    "___"
   ]
  },
  {
   "cell_type": "markdown",
   "metadata": {},
   "source": [
    "#### <font color=blue>Example 3: try at home</font>\n",
    "\n",
    "Instead, let's try another baseball example:"
   ]
  },
  {
   "cell_type": "markdown",
   "metadata": {},
   "source": [
    "(From *Mathematical Statistics with Resampling and R* By Laura M. Chihara, Tim C. Hesterberg)\n",
    "\n",
    "The file \"homeruns.pickle\" contains the homerun data for the Philadelphia Phillies in 2009.\n",
    "\n",
    "Each entry is the number of games with the corresponding index number of homeruns:"
   ]
  },
  {
   "cell_type": "code",
   "execution_count": 84,
   "metadata": {},
   "outputs": [],
   "source": [
    "pf = open('homeruns.pickle','rb')"
   ]
  },
  {
   "cell_type": "code",
   "execution_count": 85,
   "metadata": {},
   "outputs": [],
   "source": [
    "homeruns = pickle.load(pf)\n",
    "\n",
    "pf.close()"
   ]
  },
  {
   "cell_type": "code",
   "execution_count": 86,
   "metadata": {},
   "outputs": [
    {
     "data": {
      "text/plain": [
       "array([43, 52, 40, 17,  9,  1])"
      ]
     },
     "execution_count": 86,
     "metadata": {},
     "output_type": "execute_result"
    }
   ],
   "source": [
    "homeruns"
   ]
  },
  {
   "cell_type": "code",
   "execution_count": 88,
   "metadata": {},
   "outputs": [
    {
     "data": {
      "image/png": "[encoded data removed]",
      "text/plain": [
       "<Figure size 432x288 with 1 Axes>"
      ]
     },
     "metadata": {
      "needs_background": "light"
     },
     "output_type": "display_data"
    }
   ],
   "source": [
    "plt.bar(range(len(homeruns)),homeruns);"
   ]
  },
  {
   "cell_type": "markdown",
   "metadata": {},
   "source": [
    "* What distribution might this come from??\n",
    "     * Poisson? \n",
    "\n",
    "* What do we need to specify that distribution?\n",
    "     * Need the average number of HRs/game (i.e., the mean of the distribution) "
   ]
  },
  {
   "cell_type": "code",
   "execution_count": 89,
   "metadata": {},
   "outputs": [
    {
     "data": {
      "text/plain": [
       "162"
      ]
     },
     "execution_count": 89,
     "metadata": {},
     "output_type": "execute_result"
    }
   ],
   "source": [
    "# Total number of games \n",
    "num_games = homeruns.sum()\n",
    "\n",
    "num_games"
   ]
  },
  {
   "cell_type": "code",
   "execution_count": 90,
   "metadata": {},
   "outputs": [
    {
     "data": {
      "text/plain": [
       "array([43, 52, 40, 17,  9,  1])"
      ]
     },
     "execution_count": 90,
     "metadata": {},
     "output_type": "execute_result"
    }
   ],
   "source": [
    "homeruns"
   ]
  },
  {
   "cell_type": "code",
   "execution_count": 92,
   "metadata": {},
   "outputs": [
    {
     "data": {
      "text/plain": [
       "224"
      ]
     },
     "execution_count": 92,
     "metadata": {},
     "output_type": "execute_result"
    }
   ],
   "source": [
    "total_hr = 0*43 + 1*52 + 2*40 + 3*17 + 4*9 + 5*1\n",
    "\n",
    "total_hr"
   ]
  },
  {
   "cell_type": "code",
   "execution_count": 94,
   "metadata": {},
   "outputs": [
    {
     "data": {
      "text/plain": [
       "1.382716049382716"
      ]
     },
     "execution_count": 94,
     "metadata": {},
     "output_type": "execute_result"
    }
   ],
   "source": [
    "alpha = total_hr/num_games\n",
    "\n",
    "alpha"
   ]
  },
  {
   "cell_type": "code",
   "execution_count": 95,
   "metadata": {},
   "outputs": [],
   "source": [
    "poiss = stats.poisson(alpha)"
   ]
  },
  {
   "cell_type": "code",
   "execution_count": 99,
   "metadata": {},
   "outputs": [
    {
     "data": {
      "text/plain": [
       "array([40.64518122, 56.20074441, 38.85483564, 17.90840161,  6.19055858,\n",
       "        1.71195694])"
      ]
     },
     "execution_count": 99,
     "metadata": {},
     "output_type": "execute_result"
    }
   ],
   "source": [
    "# Expected value for the number of HRs using this RV\n",
    "\n",
    "Ehr = poiss.pmf(range(0,6))*num_games\n",
    "\n",
    "Ehr"
   ]
  },
  {
   "cell_type": "markdown",
   "metadata": {},
   "source": [
    "It looks like a good fit. BUT we should test it:"
   ]
  },
  {
   "cell_type": "code",
   "execution_count": 102,
   "metadata": {},
   "outputs": [
    {
     "data": {
      "image/png": "[encoded data removed]",
      "text/plain": [
       "<Figure size 432x288 with 1 Axes>"
      ]
     },
     "metadata": {
      "needs_background": "light"
     },
     "output_type": "display_data"
    }
   ],
   "source": [
    "plt.bar(np.arange(len(homeruns))-0.2, homeruns, width = 0.3, label = 'Observed')\n",
    "plt.bar(np.arange(len(homeruns))+0.2, Ehr, width = 0.3, label = 'E[]')\n",
    "plt.legend();\n",
    "\n"
   ]
  },
  {
   "cell_type": "code",
   "execution_count": 105,
   "metadata": {
    "scrolled": true
   },
   "outputs": [
    {
     "data": {
      "image/png": "[encoded data removed]",
      "text/plain": [
       "<Figure size 432x288 with 1 Axes>"
      ]
     },
     "metadata": {
      "needs_background": "light"
     },
     "output_type": "display_data"
    }
   ],
   "source": [
    "errors = homeruns - Ehr\n",
    "\n",
    "plt.stem(errors);"
   ]
  },
  {
   "cell_type": "code",
   "execution_count": 107,
   "metadata": {},
   "outputs": [
    {
     "data": {
      "text/plain": [
       "2.101328348553322"
      ]
     },
     "execution_count": 107,
     "metadata": {},
     "output_type": "execute_result"
    }
   ],
   "source": [
    "C2 = sum(errors**2/Ehr)\n",
    "\n",
    "C2\n",
    "\n",
    "# Chi squared statistic with dof = num_games-1 = 5"
   ]
  },
  {
   "cell_type": "markdown",
   "metadata": {},
   "source": [
    "We think that this probably comes from this Poisson distribution. If so, the simulation should produce a p-value >> 0.055"
   ]
  },
  {
   "cell_type": "code",
   "execution_count": 108,
   "metadata": {},
   "outputs": [
    {
     "data": {
      "text/plain": [
       "0.8349541601119141"
      ]
     },
     "execution_count": 108,
     "metadata": {},
     "output_type": "execute_result"
    }
   ],
   "source": [
    "chi = stats.chi2(5)\n",
    "\n",
    "chi.sf(C2)"
   ]
  },
  {
   "cell_type": "code",
   "execution_count": 109,
   "metadata": {},
   "outputs": [
    {
     "name": "stdout",
     "output_type": "stream",
     "text": [
      "Prob of seeing a result this extreme is 0.843\n"
     ]
    }
   ],
   "source": [
    "num_sims=1000\n",
    "count=0\n",
    "for sim in range(num_sims):\n",
    "    simulated_hrs = poiss.rvs(size=num_games)\n",
    "    vals, counts = np.unique(simulated_hrs, return_counts = True)\n",
    "    Ehr = poiss.pmf(vals)*num_games\n",
    "    test_C2 = sum((counts-Ehr)**2/Ehr)\n",
    "    if test_C2 >= C2:\n",
    "        count+=1\n",
    "     \n",
    "print('Prob of seeing a result this extreme is',count/num_sims)"
   ]
  },
  {
   "cell_type": "markdown",
   "metadata": {},
   "source": [
    "**Conclusion:** \n",
    "\n",
    "It is likely that this data matches a Poisson distribution."
   ]
  },
  {
   "cell_type": "markdown",
   "metadata": {},
   "source": [
    "___"
   ]
  },
  {
   "cell_type": "markdown",
   "metadata": {},
   "source": [
    "## Testing Whether Data Comes from a Distribution: Continuous Distributions "
   ]
  },
  {
   "cell_type": "markdown",
   "metadata": {},
   "source": [
    "#### <font color=blue>Example 4</font> \n",
    "\n",
    "Consider the data in \"lightbulb.pickle\"."
   ]
  },
  {
   "cell_type": "code",
   "execution_count": 41,
   "metadata": {},
   "outputs": [],
   "source": [
    "file = open('lightbulb.pickle', 'rb')"
   ]
  },
  {
   "cell_type": "code",
   "execution_count": 42,
   "metadata": {
    "scrolled": false
   },
   "outputs": [],
   "source": [
    "lb = pickle.load(file)\n",
    "\n",
    "file.close()"
   ]
  },
  {
   "cell_type": "markdown",
   "metadata": {},
   "source": [
    "How should we determine what distribution this data comes from?\n",
    "\n",
    "* Let's look at what sorts of values we got:"
   ]
  },
  {
   "cell_type": "code",
   "execution_count": 43,
   "metadata": {},
   "outputs": [
    {
     "name": "stdout",
     "output_type": "stream",
     "text": [
      "[ 887.7415503   208.72771492  389.00714683  183.18045766  920.22754213\n",
      " 2461.6626774   607.78389789  414.15694351  263.98779539  176.9330967\n",
      "  299.93308142  443.2713806   573.42681808   46.23002197   74.8567485\n",
      "   47.26357526  895.60807601  294.04566125  388.85985157  129.06611905\n",
      "  448.9831565   191.58687295  388.62848586  819.18336506  382.7912885\n",
      " 1453.46975      39.43299978  199.0261991   261.29036441  378.52594954\n",
      "  720.35231601   18.90299026  960.07827717 1714.80328959   36.80597999\n",
      "  240.34430536 1315.28561533  214.39605876  144.81915044  706.99767947\n",
      "  192.29612863  206.80354989  177.36177955 1450.0942653   279.46545748\n",
      "  447.63800719  471.88379668   71.77093065  357.1771056   743.68617784]\n"
     ]
    }
   ],
   "source": [
    "print(lb[:50])"
   ]
  },
  {
   "cell_type": "markdown",
   "metadata": {},
   "source": [
    "The values seem to be coming from throughout the positive real line -- this data is from a continous distribution. \n"
   ]
  },
  {
   "cell_type": "markdown",
   "metadata": {},
   "source": [
    "Now we need to try to determine which continuous distribution is a good fit for the data.\n",
    "\n",
    "1. Start by plotting a histogram of the data. Adjust the number of bins to provide an appropriate amount of resolution to help infer what distribution this might be from."
   ]
  },
  {
   "cell_type": "code",
   "execution_count": 45,
   "metadata": {},
   "outputs": [
    {
     "data": {
      "image/png": "[encoded data removed]",
      "text/plain": [
       "<Figure size 432x288 with 1 Axes>"
      ]
     },
     "metadata": {
      "needs_background": "light"
     },
     "output_type": "display_data"
    }
   ],
   "source": [
    "plt.hist(lb, bins=20);"
   ]
  },
  {
   "cell_type": "markdown",
   "metadata": {},
   "source": [
    "Clearly the data is not Gaussian/Normal or Uniform. \n",
    "\n",
    "* Of the distributions we have considered, this seems to match the exponential random variable. \n",
    "\n",
    "Assuming that this is from an exponential distribution, we can compare the histogram of the data with that from the theoretical model. The exponential distribution is characterized by a single parameter, either $\\lambda$ or $\\mu=1/\\lambda$, which is the mean.\n",
    "\n",
    "2. Let's estimate the mean of the reference distribution. We know that the sample mean estimator is an unbiased estimate of the mean:"
   ]
  },
  {
   "cell_type": "code",
   "execution_count": 46,
   "metadata": {},
   "outputs": [
    {
     "data": {
      "text/plain": [
       "522.7296432789975"
      ]
     },
     "execution_count": 46,
     "metadata": {},
     "output_type": "execute_result"
    }
   ],
   "source": [
    "# Estimate for the sample mean\n",
    "\n",
    "mu_hat = lb.mean()\n",
    "\n",
    "mu_hat"
   ]
  },
  {
   "cell_type": "markdown",
   "metadata": {},
   "source": [
    "3. Now create an exponential random variable object and draw data from this reference distribution:"
   ]
  },
  {
   "cell_type": "code",
   "execution_count": 47,
   "metadata": {},
   "outputs": [],
   "source": [
    "E = stats.expon(scale = mu_hat)"
   ]
  },
  {
   "cell_type": "code",
   "execution_count": 48,
   "metadata": {},
   "outputs": [],
   "source": [
    "# randomly sampling values from this exponential RV\n",
    "\n",
    "ref = E.rvs(size=len(lb))"
   ]
  },
  {
   "cell_type": "code",
   "execution_count": 57,
   "metadata": {},
   "outputs": [
    {
     "data": {
      "image/png": "[encoded data removed]",
      "text/plain": [
       "<Figure size 432x288 with 1 Axes>"
      ]
     },
     "metadata": {
      "needs_background": "light"
     },
     "output_type": "display_data"
    }
   ],
   "source": [
    "\n",
    "_, mybins, _ = plt.hist(lb, bins=20, alpha=0.3, label='Training Data')\n",
    "plt.hist(ref, bins = mybins, alpha=0.3, label='Reference from the Exponential')\n",
    "plt.legend();"
   ]
  },
  {
   "cell_type": "code",
   "execution_count": 55,
   "metadata": {},
   "outputs": [],
   "source": []
  },
  {
   "cell_type": "markdown",
   "metadata": {},
   "source": [
    "The match is not perfect, but they are similar. \n",
    "\n",
    "* Since this data comes from a continuous distribution, kernel density estimation (KDE) may be better than a histogram!"
   ]
  },
  {
   "cell_type": "markdown",
   "metadata": {},
   "source": [
    "___"
   ]
  },
  {
   "cell_type": "markdown",
   "metadata": {},
   "source": [
    "## Quantile-Quantile (Q-Q) Plot"
   ]
  },
  {
   "cell_type": "markdown",
   "metadata": {},
   "source": [
    "Let's investigate other ways that we can visually compare these data. We will first generate a **quantile-quantile (Q-Q) plot** for the data.\n",
    "\n",
    "* The $k$th **quantile** from a data set of length $n$ is the data point that is $k/n$th of the way through the ordered set.  \n",
    "\n",
    "* In a Q-Q plot, we plot the data at a particular quantile in one data set vs the data at a particular quantile in another data set. \n",
    "\n",
    "Read the wikipedia page on Q-Q plots: https://en.wikipedia.org/wiki/Q–Q_plot"
   ]
  },
  {
   "cell_type": "markdown",
   "metadata": {},
   "source": [
    "We will only consider the easiest case, which is when the data sets are of the same size. In that case, we can just plot the sorted values with respect to each other:\n",
    "\n",
    "\n"
   ]
  },
  {
   "cell_type": "code",
   "execution_count": 58,
   "metadata": {},
   "outputs": [],
   "source": [
    "# random sample from the exponential \n",
    "\n",
    "ref = E.rvs(size=len(lb))"
   ]
  },
  {
   "cell_type": "code",
   "execution_count": 59,
   "metadata": {},
   "outputs": [
    {
     "data": {
      "image/png": "[encoded data removed]",
      "text/plain": [
       "<Figure size 432x288 with 1 Axes>"
      ]
     },
     "metadata": {
      "needs_background": "light"
     },
     "output_type": "display_data"
    }
   ],
   "source": [
    "# Plot against each other\n",
    "plt.scatter(np.sort(ref),np.sort(lb))\n",
    "plt.title('Q-Q Plot for data vs Exponential RV')\n",
    "plt.xlabel('Quantiles for the Exponential RV')\n",
    "plt.ylabel('Quantiles for the Observed Data');"
   ]
  },
  {
   "cell_type": "markdown",
   "metadata": {},
   "source": [
    "If the data is from the same distribution, the plot should be approximately linear!"
   ]
  },
  {
   "cell_type": "markdown",
   "metadata": {},
   "source": [
    "When we are comparing data to a known distribution, we can get the exact quantiles from the distribution of the random variable, rather than using samples from the random variable. \n",
    "\n",
    "Sometimes this type of plot is called a **probability plot**. More generally, the term probability plot is sometimes used to refer to a broader class of plots including the Q-Q plot. **We can get the quantiles from a distribution using the inverse CDF (in ```scipy.stats```, this is called the percent point function (ppf):**"
   ]
  },
  {
   "cell_type": "code",
   "execution_count": 62,
   "metadata": {},
   "outputs": [
    {
     "data": {
      "image/png": "[encoded data removed]",
      "text/plain": [
       "<Figure size 432x288 with 1 Axes>"
      ]
     },
     "metadata": {
      "needs_background": "light"
     },
     "output_type": "display_data"
    }
   ],
   "source": [
    "cumulative_prob = np.linspace(0,1,len(lb))\n",
    "\n",
    "## Scatter plot\n",
    "plt.scatter(E.ppf(cumulative_prob), np.sort(lb));\n"
   ]
  },
  {
   "cell_type": "markdown",
   "metadata": {},
   "source": [
    "We observe that the function is even more linear. It has a little less variation because we have eliminated one of the sources of randomness in the Q-Q plot."
   ]
  },
  {
   "cell_type": "markdown",
   "metadata": {},
   "source": [
    "Finally, we leverage the ```scipy.stats``` ```probplot``` method to generate the same plot directly:"
   ]
  },
  {
   "cell_type": "code",
   "execution_count": 64,
   "metadata": {},
   "outputs": [
    {
     "data": {
      "image/png": "[encoded data removed]",
      "text/plain": [
       "<Figure size 432x288 with 1 Axes>"
      ]
     },
     "metadata": {
      "needs_background": "light"
     },
     "output_type": "display_data"
    }
   ],
   "source": [
    "stats.probplot(lb, dist='expon', plot=plt, rvalue=True);"
   ]
  },
  {
   "cell_type": "markdown",
   "metadata": {},
   "source": [
    "Read the docstring for the ```stats.probplot``` method:"
   ]
  },
  {
   "cell_type": "code",
   "execution_count": 65,
   "metadata": {},
   "outputs": [],
   "source": [
    "?stats.probplot"
   ]
  },
  {
   "cell_type": "markdown",
   "metadata": {},
   "source": [
    "Note that we can only use ```stats.probplot``` for distributions that ```scipy.stats``` knows (but that is A LOT).\n",
    "\n",
    "After you have read the docstring and understand the outputs, let's store those and look at them: "
   ]
  },
  {
   "cell_type": "code",
   "execution_count": 66,
   "metadata": {},
   "outputs": [
    {
     "data": {
      "image/png": "[encoded data removed]",
      "text/plain": [
       "<Figure size 432x288 with 1 Axes>"
      ]
     },
     "metadata": {
      "needs_background": "light"
     },
     "output_type": "display_data"
    }
   ],
   "source": [
    "quantiles,regress_info = stats.probplot(lb, dist='expon', plot=plt, rvalue=True);"
   ]
  },
  {
   "cell_type": "markdown",
   "metadata": {},
   "source": [
    "We are not yet ready to talk in detail about linear regression, but basically it is finding the best line to fit a set of data (when the error is mean-squared error).\n",
    "\n",
    "The regression parameters are (from the docstring): (slope, intercept, r)\n",
    "\n",
    "You all should be familiar with the slope and intercept of a line. The parameter ```r``` (usually written $r$ in text) measures how close the data fits the line. We will work with $r^2$ instead. The closer $r^2$ is to 1, then the better the line fits the quantiles (and the better our reference distribution fits the data). We will consider the reference distribution to be a good match for the data if $r^2 \\ge 0.9$.\n",
    "\n",
    "Let's check how well the exponential distribution fits our data:"
   ]
  },
  {
   "cell_type": "code",
   "execution_count": 67,
   "metadata": {},
   "outputs": [
    {
     "data": {
      "text/plain": [
       "(522.2937228908745, 1.9203056142599735, 0.9989686323478805)"
      ]
     },
     "execution_count": 67,
     "metadata": {},
     "output_type": "execute_result"
    }
   ],
   "source": [
    "regress_info"
   ]
  },
  {
   "cell_type": "code",
   "execution_count": 68,
   "metadata": {},
   "outputs": [
    {
     "name": "stdout",
     "output_type": "stream",
     "text": [
      "R^2 or Coefficient of Determination:  0.9979383284149947\n"
     ]
    }
   ],
   "source": [
    "r = regress_info[2]\n",
    "\n",
    "print('R^2 or Coefficient of Determination: ', r**2)"
   ]
  },
  {
   "cell_type": "markdown",
   "metadata": {},
   "source": [
    "**Conclusion:** \n",
    "\n",
    "Since $r^2 \\approx 0.9979 > 0.9$, the exponential distribution is an excellent fit to this data set."
   ]
  },
  {
   "cell_type": "markdown",
   "metadata": {
    "slideshow": {
     "slide_type": "subslide"
    }
   },
   "source": [
    "# What is a Contingency Table?\n",
    "\n",
    "<div class=\"alert alert-info\">\n",
    "  <strong>Contingency Table</strong>\n",
    "\n",
    "A **contingency table**, sometimes called *cross-tabulation* or *two-way table*, is a type of table in a matrix format that displays (multivariate) categorical data in terms of frequency counts.\n",
    "\n",
    "More precisely, an $r\\times c$ contingency table shows the observed frequency of two variables, the observed frequencies of which are arranged into $r$ rows and $c$ columns. The intersection of a row and a column of a contingency table is called a cell.\n",
    "</div>"
   ]
  },
  {
   "cell_type": "markdown",
   "metadata": {
    "slideshow": {
     "slide_type": "subslide"
    }
   },
   "source": [
    "* Contingency tables are great to summarize (large) data sets\n",
    "\n",
    "* Contingency tables are used for organizing categorical variables and testing hypothesis with the chi-squared test for independence"
   ]
  },
  {
   "cell_type": "markdown",
   "metadata": {
    "slideshow": {
     "slide_type": "subslide"
    }
   },
   "source": [
    "For example, the contingency table below has two rows and five columns (not counting header rows/columns) and shows the results of a random sample of 2200 adults classified by two variables, namely gender and favorite way to eat ice cream.\n",
    "\n",
    "|  |   cup   |  cone   | sundae  | sandwich |  other  |\n",
    "|--------|---------|---------|---------|----------|---------|\n",
    "|  male  |   592   |   300   |   204   |    24    |    80   |\n",
    "| female |   410   |   335   |   180   |    20    |    55   |"
   ]
  },
  {
   "cell_type": "markdown",
   "metadata": {
    "slideshow": {
     "slide_type": "subslide"
    }
   },
   "source": [
    "One benefit of having data presented in a contingency table is that it allows one to more easily perform basic probability calculations, a feat made easier still by augmenting a summary row and column to the table.\n",
    "\n",
    "|  |   cup   |  cone   | sundae  | sandwich |  other  |  total  |\n",
    "|--------|---------|---------|---------|----------|---------|---------|\n",
    "|  male  |   592   |   300   |   204   |    24    |    80   |   1200  |\n",
    "| female |   410   |   335   |   180   |    20    |    55   |   1000  |\n",
    "|  total |   1002  |   635   |   384   |    44    |   135   |   2200  |\n",
    "\n",
    "The above table is an extended version of the first table obtained by adding a summary row and column. These summaries allow easier computation of several different probability-related quantities."
   ]
  },
  {
   "cell_type": "markdown",
   "metadata": {
    "slideshow": {
     "slide_type": "subslide"
    }
   },
   "source": [
    "## Marginal Total\n",
    "\n",
    "The numbers in every cell are called **marginal totals**. The grand total (the total number of individuals represented in the contingency table) is the number in the bottom right corner.\n",
    "\n",
    "The table allows users to see at a glance that the proportion of men who like to eat their ice cream in a cone is about the same as the proportion of women who like to eat their ice cream in a cone although the proportions are not identical."
   ]
  },
  {
   "cell_type": "markdown",
   "metadata": {
    "slideshow": {
     "slide_type": "subslide"
    }
   },
   "source": [
    "## Conditional Probability\n",
    "\n",
    "If the proportions of individuals in the different columns vary significantly between rows (or vice versa), it is said that there is a *contingency* between the two variables. In other words, the two variables are **not independent**. If there is no contingency, it is said that the two variables are independent."
   ]
  },
  {
   "cell_type": "markdown",
   "metadata": {
    "slideshow": {
     "slide_type": "subslide"
    }
   },
   "source": [
    "## Expected Frequency\n",
    "\n",
    "One useful value to know is the **expected frequency** $E_{r,c}$ of the cell at the intersection of column c and row r, the formula for which is given by\n",
    "\n",
    "$$E_{c,r} = \\frac{\\text{(sum of row }r\\text{)}\\times\\text{(sum of column }c\\text{)}}{\\text{sample size}}$$"
   ]
  },
  {
   "cell_type": "markdown",
   "metadata": {
    "slideshow": {
     "slide_type": "subslide"
    }
   },
   "source": [
    "#### <font color=blue>Example 5</font> \n",
    "\n",
    "From the contingency table below, compute:\n",
    "\n",
    "|  |   cup   |  cone   | sundae  | sandwich |  other  |  total  |\n",
    "|--------|---------|---------|---------|----------|---------|---------|\n",
    "|  male  |   592   |   300   |   204   |    24    |    80   |   1200  |\n",
    "| female |   410   |   335   |   180   |    20    |    55   |   1000  |\n",
    "|  total |   1002  |   635   |   384   |    44    |   135   |   2200  |\n",
    "\n",
    "1. Probability that a random participant prefers their ice cream in a cup? \n",
    "\n",
    "$$\\frac{1002}{2200}$$"
   ]
  },
  {
   "cell_type": "markdown",
   "metadata": {
    "slideshow": {
     "slide_type": "subslide"
    }
   },
   "source": [
    "2. Probability that a random participant prefers their ice cream in a sandwich? \n",
    "\n",
    "$$\\frac{44}{2200}$$"
   ]
  },
  {
   "cell_type": "markdown",
   "metadata": {
    "slideshow": {
     "slide_type": "subslide"
    }
   },
   "source": [
    "3. Probability that a random participant is female? \n",
    "\n",
    "$$\\frac{1000}{2200}$$"
   ]
  },
  {
   "cell_type": "markdown",
   "metadata": {
    "slideshow": {
     "slide_type": "subslide"
    }
   },
   "source": [
    "4. Probability that a person prefers ice cream sandwiches given that the person is male? \n",
    "\n",
    "$$P(\\text{sandwich}|\\text{male}) = \\frac{P(\\text{sandwich} \\cap \\text{male})}{P(\\text{male})} = \\frac{24}{1200}$$"
   ]
  },
  {
   "cell_type": "markdown",
   "metadata": {
    "slideshow": {
     "slide_type": "subslide"
    }
   },
   "source": [
    "5. Probability that a person is male given that ice cream sandwiches are preferred? \n",
    "\n",
    "$$P(\\text{male}|\\text{sandwich}) = \\frac{24}{44}$$"
   ]
  },
  {
   "cell_type": "markdown",
   "metadata": {
    "slideshow": {
     "slide_type": "subslide"
    }
   },
   "source": [
    "6. Expected value of men who prefer to eat ice cream from a cup? \n",
    "\n",
    "$$\\frac{1200 \\times 1002}{2200} \\approx 546.54$$"
   ]
  },
  {
   "cell_type": "markdown",
   "metadata": {
    "slideshow": {
     "slide_type": "subslide"
    }
   },
   "source": [
    "7. Expected value of women who prefer to eat ice cream from a sundae? \n",
    "\n",
    "$$\\frac{1000 \\times 384}{2200} \\approx 174.54$$"
   ]
  },
  {
   "cell_type": "markdown",
   "metadata": {},
   "source": [
    "8. What are the variables of study? \n",
    "\n",
    "Gender and preferred way to eat ice cream."
   ]
  },
  {
   "cell_type": "markdown",
   "metadata": {},
   "source": [
    "9. How many degrees of freedom does this contingency table have? \n",
    "\n",
    "$$(2-1) \\times (5-1) = 4$$"
   ]
  },
  {
   "cell_type": "markdown",
   "metadata": {
    "slideshow": {
     "slide_type": "subslide"
    }
   },
   "source": [
    "## Chi-Squared Test & Independence\n",
    "\n",
    "One of the major benefits of computing expected frequencies is the ability to test whether the two variables are actually *independent*. This is done by computing, for each cell (c,r), the expected frequency $E_{c,r}$, comparing it to the observed frequency $O_{c,r}$, and then performing the **chi-squared test**.\n",
    "\n",
    "$$\\chi^2 = \\sum_{\\text{all cells}} \\frac{(O_{c,r}-E_{c,r})^2}{E_{c,r}} = \\sum_c \\sum_r \\frac{(O_{c,r}-E_{c,r})^2}{E_{c,r}}$$"
   ]
  },
  {
   "cell_type": "markdown",
   "metadata": {
    "slideshow": {
     "slide_type": "subslide"
    }
   },
   "source": [
    "This statistic is called a $\\chi^2$ as it follows a [$\\chi^2$ distribution with $k$ degrees of freedom](https://en.wikipedia.org/wiki/Chi-squared_distribution).\n",
    "\n",
    "* The degrees of freedom can be computed as $(\\text{# rows}-1)\\times (\\text{# columns}-1)$\n",
    "\n",
    "* In the example above, there are 4 degrees of freedom"
   ]
  },
  {
   "cell_type": "code",
   "execution_count": 69,
   "metadata": {},
   "outputs": [
    {
     "data": {
      "image/png": "[encoded data removed]",
      "text/plain": [
       "<Figure size 576x360 with 1 Axes>"
      ]
     },
     "metadata": {
      "needs_background": "light"
     },
     "output_type": "display_data"
    }
   ],
   "source": [
    "x = np.linspace(0,20,1000)\n",
    "\n",
    "plt.figure(figsize=(8,5))\n",
    "for i in range(2,11):\n",
    "    C = stats.chi2(i)\n",
    "    plt.plot(x,C.pdf(x),label='k = '+str(i))\n",
    "\n",
    "plt.legend();"
   ]
  },
  {
   "cell_type": "markdown",
   "metadata": {
    "slideshow": {
     "slide_type": "subslide"
    }
   },
   "source": [
    "### Chi-Squared ($\\chi^2$) RV and Gaussian RV\n",
    "\n",
    "If $Y_1, \\dots, Y_k$ independent identically distributed (i.i.d.), standard normal random variables, that is, $Y_i \\sim G(0,1)$, then\n",
    "\n",
    "$$Z = \\sum_{i=1}^k Y_i^2$$\n",
    "\n",
    "$Z$ is distributed as $\\chi^2$ with $k$ degrees of freedom, $Z \\sim \\chi^2(k)$.\n",
    "\n",
    "In other words, the chi-square distribution with $k$ degrees of freedom is the distribution of a sum of the squares of $k$ independent Normal random variables."
   ]
  },
  {
   "cell_type": "code",
   "execution_count": null,
   "metadata": {
    "slideshow": {
     "slide_type": "subslide"
    }
   },
   "outputs": [],
   "source": [
    "N = 10_000\n",
    "x = np.linspace(0,20,N)\n",
    "\n",
    "dof = 5\n",
    "C = stats.chi2(dof)\n",
    "G = stats.norm()\n",
    "\n",
    "sum_kG = 0\n",
    "for i in range(dof):\n",
    "    #\n",
    "    #\n",
    "    \n",
    "plt.plot(x,C.pdf(x),label='$\\chi^2$(dof='+str(dof)+')')\n",
    "plt.plot(x, stats.gaussian_kde(sum_kG)(x), label='KDE estimate for $\\chi^2=(dof=$'+str(dof)+')')\n",
    "plt.hist(sum_kG,density='True', label='Sum of '+str(dof)+' Normal dist.')\n",
    "plt.legend();"
   ]
  },
  {
   "cell_type": "markdown",
   "metadata": {
    "slideshow": {
     "slide_type": "subslide"
    }
   },
   "source": [
    "#### <font color=blue>Example 6</font> \n",
    "\n",
    "Carry the independence test for the two variables in the following contingency tables:\n",
    "\n",
    "|  |   cup   |  cone   | sundae  | sandwich |  other  |  total  |\n",
    "|--------|---------|---------|---------|----------|---------|---------|\n",
    "|  male  |   592   |   300   |   204   |    24    |    80   |   1200  |\n",
    "| female |   410   |   335   |   180   |    20    |    55   |   1000  |\n",
    "|  total |   1002  |   635   |   384   |    44    |   135   |   2200  |"
   ]
  },
  {
   "cell_type": "code",
   "execution_count": 70,
   "metadata": {},
   "outputs": [],
   "source": [
    "# H0: the two variables are independent\n",
    "# H1: the two variables are not independent\n",
    "\n",
    "# Statistic: chi-squared statistic"
   ]
  },
  {
   "cell_type": "code",
   "execution_count": 73,
   "metadata": {},
   "outputs": [
    {
     "data": {
      "text/plain": [
       "array([[592, 300, 204,  24,  80],\n",
       "       [410, 335, 180,  20,  55]])"
      ]
     },
     "execution_count": 73,
     "metadata": {},
     "output_type": "execute_result"
    }
   ],
   "source": [
    "observed = np.array([[592, 300, 204, 24, 80],\n",
    "                    [410, 335, 180, 20, 55]])\n",
    "\n",
    "observed"
   ]
  },
  {
   "cell_type": "code",
   "execution_count": 75,
   "metadata": {},
   "outputs": [
    {
     "name": "stdout",
     "output_type": "stream",
     "text": [
      "[[546.54545455 346.36363636 209.45454545  24.          73.63636364]\n",
      " [455.45454545 288.63636364 174.54545455  20.          61.36363636]]\n"
     ]
    }
   ],
   "source": [
    "E = stats.contingency.expected_freq(observed)\n",
    "print(E)"
   ]
  },
  {
   "cell_type": "code",
   "execution_count": 76,
   "metadata": {},
   "outputs": [
    {
     "name": "stdout",
     "output_type": "stream",
     "text": [
      "[[ 45.45454545 -46.36363636  -5.45454545   0.           6.36363636]\n",
      " [-45.45454545  46.36363636   5.45454545   0.          -6.36363636]]\n"
     ]
    }
   ],
   "source": [
    "print(observed-E)"
   ]
  },
  {
   "cell_type": "markdown",
   "metadata": {},
   "source": [
    "Observations: \n",
    "* The columns and rows sum to 0\n",
    "* Cannot use the sum of the error (defined as the different between observed and expected) as it always sums to 0. Instead let's consider the squared of the error"
   ]
  },
  {
   "cell_type": "code",
   "execution_count": 77,
   "metadata": {},
   "outputs": [
    {
     "name": "stdout",
     "output_type": "stream",
     "text": [
      "[[2066.11570248 2149.58677686   29.75206612    0.           40.49586777]\n",
      " [2066.11570248 2149.58677686   29.75206612    0.           40.49586777]]\n"
     ]
    }
   ],
   "source": [
    "print((observed-E)**2)"
   ]
  },
  {
   "cell_type": "markdown",
   "metadata": {},
   "source": [
    "Observations:\n",
    "\n",
    "* Some cells have larger expected values and more observations than others\n",
    "\n",
    "* A difference of 10 in a cell of expected value of 5 is more significant than a difference of 10 in a cell of expected value of 100\n",
    "\n",
    "* We can take into account the expected cell size"
   ]
  },
  {
   "cell_type": "code",
   "execution_count": 78,
   "metadata": {},
   "outputs": [
    {
     "name": "stdout",
     "output_type": "stream",
     "text": [
      "[[3.78031815 6.20615605 0.14204545 0.         0.54994388]\n",
      " [4.53638178 7.44738726 0.17045455 0.         0.65993266]]\n"
     ]
    }
   ],
   "source": [
    "print((observed-E)**2/E)"
   ]
  },
  {
   "cell_type": "code",
   "execution_count": 79,
   "metadata": {},
   "outputs": [
    {
     "data": {
      "text/plain": [
       "23.4926197837629"
      ]
     },
     "execution_count": 79,
     "metadata": {},
     "output_type": "execute_result"
    }
   ],
   "source": [
    "C = np.sum((observed-E)**2/E)\n",
    "C"
   ]
  },
  {
   "cell_type": "markdown",
   "metadata": {},
   "source": [
    "Given this statistic, how can we determine if this result is statistically significant with $\\alpha=0.01$? We need to find the $p$-value under the null Hypothesis $$H_0:\\text{variables gender and favorite way to eat ice cream are independent}$$\n",
    "\n",
    "There are two approaches: \n",
    "1. Resampling (permutation)\n",
    "2. Analytical Solution (Chi-Squared test): let's focus on this one."
   ]
  },
  {
   "cell_type": "code",
   "execution_count": 81,
   "metadata": {},
   "outputs": [
    {
     "name": "stdout",
     "output_type": "stream",
     "text": [
      " The probability of observing a table this extreme is equal to  0.00010093154104146287\n"
     ]
    },
    {
     "data": {
      "image/png": "[encoded data removed]",
      "text/plain": [
       "<Figure size 432x288 with 1 Axes>"
      ]
     },
     "metadata": {
      "needs_background": "light"
     },
     "output_type": "display_data"
    }
   ],
   "source": [
    "# Analytical Solution\n",
    "\n",
    "x = np.linspace(0,30,100)\n",
    "chi = stats.chi2(4)\n",
    "\n",
    "plt.plot(x, chi.pdf(x))\n",
    "plt.scatter(C, chi.pdf(C), s=50, c='r')\n",
    "\n",
    "print(' The probability of observing an error this extreme is equal to ',\n",
    "     chi.sf(C))\n",
    "      \n",
    "      "
   ]
  },
  {
   "cell_type": "markdown",
   "metadata": {
    "slideshow": {
     "slide_type": "subslide"
    }
   },
   "source": [
    "**Conclusion:** \n",
    "\n",
    "We reject the null hypothesis. The two variables are **not** independent."
   ]
  },
  {
   "cell_type": "code",
   "execution_count": null,
   "metadata": {},
   "outputs": [],
   "source": []
  }
 ],
 "metadata": {
  "kernelspec": {
   "display_name": "Python 3",
   "language": "python",
   "name": "python3"
  },
  "language_info": {
   "codemirror_mode": {
    "name": "ipython",
    "version": 3
   },
   "file_extension": ".py",
   "mimetype": "text/x-python",
   "name": "python",
   "nbconvert_exporter": "python",
   "pygments_lexer": "ipython3",
   "version": "3.8.8"
  },
  "latex_envs": {
   "LaTeX_envs_menu_present": true,
   "autoclose": false,
   "autocomplete": true,
   "bibliofile": "biblio.bib",
   "cite_by": "apalike",
   "current_citInitial": 1,
   "eqLabelWithNumbers": true,
   "eqNumInitial": 1,
   "hotkeys": {
    "equation": "Ctrl-E",
    "itemize": "Ctrl-I"
   },
   "labels_anchors": false,
   "latex_user_defs": false,
   "report_style_numbering": false,
   "user_envs_cfg": false
  },
  "varInspector": {
   "cols": {
    "lenName": 16,
    "lenType": 16,
    "lenVar": 40
   },
   "kernels_config": {
    "python": {
     "delete_cmd_postfix": "",
     "delete_cmd_prefix": "del ",
     "library": "var_list.py",
     "varRefreshCmd": "print(var_dic_list())"
    },
    "r": {
     "delete_cmd_postfix": ") ",
     "delete_cmd_prefix": "rm(",
     "library": "var_list.r",
     "varRefreshCmd": "cat(var_dic_list()) "
    }
   },
   "types_to_exclude": [
    "module",
    "function",
    "builtin_function_or_method",
    "instance",
    "_Feature"
   ],
   "window_display": false
  }
 },
 "nbformat": 4,
 "nbformat_minor": 4
}
