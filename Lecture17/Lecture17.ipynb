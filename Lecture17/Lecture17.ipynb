{
 "cells": [
  {
   "cell_type": "markdown",
   "metadata": {},
   "source": [
    "# Lecture 17\n",
    "\n",
    "- Goodness-of-fit measures"
   ]
  },
  {
   "cell_type": "markdown",
   "metadata": {},
   "source": [
    "# Exam 2\n",
    "\n",
    "## <font color=blue>Wednesday, November 2 @ 8:20PM - 10:20PM in FLG 0260 and FLG 0270</font>\n",
    "**Students whose last name begins with A-M should go to FLG 0260, and those whose last name begins N-Z should go to FLG 0270.**\n",
    "\n",
    "### Exam 2 Review Lecture: <font color=orange>Tuesday, November 1 (first half)</font>\n",
    "\n",
    "Two **practice exams** (from last semester) is available in the Assignment-Solutions repo.\n",
    "\n",
    "* Coverage: Lectures 8 to 17 (modules 6 and 7)."
   ]
  },
  {
   "cell_type": "markdown",
   "metadata": {},
   "source": [
    "### Exam Details\n",
    "\n",
    "All exams will have 2 parts:\n",
    "\n",
    "**<font color=blue>Part 1 - Analytical.</font>**\n",
    "* You are allowed 1-page letter-sized front and back of formulas (handwritten or typed).\n",
    "* You are allowed a scientific calculator.\n",
    "* **<font color=orange>TOTAL TIME:</font>** 1 hour\n",
    " \n",
    "\n",
    "**<font color=blue>Part 2 - Simulation.</font>**\n",
    "* Bring the computer you have been using with Anaconda installed.\n",
    "* This part is open-book. You are allowed access to the textbooks and lecture materials (including assignments).\n",
    "* You are allowed to use the internet, if needed.\n",
    "* *Recommended*: create a python \"cheat sheet\" where you will add useful functions, simulations and other Python implementations.\n",
    "* **<font color=orange>TOTAL TIME:</font>** 1 hour\n",
    "\n",
    "**<font color=red>Communications between students or anyone else during the exam is considered cheating. Turn off all Slack notifications and other communications channels!</font>**"
   ]
  },
  {
   "cell_type": "markdown",
   "metadata": {},
   "source": [
    "## Exam 2 Coverage\n",
    "\n",
    "Exam 2 will cover all materials from Lectures 8-17. These include:\n",
    "\n",
    "1. **Random Variables**\n",
    "    * What are random variables?\n",
    "    * Defining discrete and continuous RVs\n",
    "    * Important discrete RVs:\n",
    "        * Bernoulli, Binomial, Geometric, Poisson, Uniform\n",
    "    * Probability Mass Functions (PMFs)\n",
    "    * Important continuous RVs:\n",
    "        * Uniform, Exponential, Gaussian\n",
    "    * Probability Density Functions (PDFs)\n",
    "    * Cumulative Distribution Functions (CDFs)\n",
    "    * Expected Value\n",
    "    * Moments of RV\n",
    "        * Mean, Variance, Skewness, Kurtosis\n",
    "    * Central Limit Theorem (CLT)\n",
    "    * Kernel Density Estimation (KDE)\n",
    "        * types of kernels (Gaussian, exponential, etc.)\n",
    "        * bandwidth\n",
    "    * Point Conditioning\n",
    "        * Conditional Probability for continuous RVs\n",
    "        * Law of Total Probability for continuous RVs\n",
    "        * Bayes' Rule version for continuous RVs\n",
    "    * Optimal Decisions\n",
    "    \n",
    "2. **Experimental Design, Decision and Analysis**\n",
    "    * Sum of Independent Gaussian RVs\n",
    "    * Hypothesis test for the difference of the means -- Gaussian, from CLT\n",
    "    * Binary T-test\n",
    "    * Hypothesis test errors\n",
    "        * Type I error: False Positives\n",
    "        * Type II error: False Negatives\n",
    "    * Performance Trade-offs\n",
    "        * Finding threshold for probability of false rejection, false acceptance\n",
    "        * ROC curve\n",
    "        * AUC of the ROC curve\n",
    "    * Goodness-of-fit measures\n",
    "        * For discrete RVs: chi-squared test\n",
    "        * For continuous RVs: $r^2$ of the Q-Q plot\n",
    "        * Q-Q plot vs probability plot\n",
    "    * Contingency Tables\n",
    "        * ```pandas``` dataframe manipulation\n",
    "        * Expected contingency table\n",
    "        * Degrees of freedom\n",
    "        * Test of independence: Chi-Squared statistic"
   ]
  },
  {
   "cell_type": "markdown",
   "metadata": {},
   "source": [
    "## How to prepare for exam\n",
    "\n",
    "**This is a suggestion only.**\n",
    "\n",
    "1. Review/read all Notebooks.\n",
    "\n",
    "2. Create your formula sheet for part 1 and \"common functions\" Notebook for part 2.\n",
    "    * You will be given a Q-function table.\n",
    "\n",
    "3. Review/redo exercises from HW3.\n",
    "\n",
    "4. Review/redo exercises from SA2 and SA3.\n",
    "\n",
    "5. Review/redo exercises from Lecture 12 Recitation and Lecture 18 Recitation (upcoming). \n",
    "\n",
    "6. Solve practice exams 2."
   ]
  },
  {
   "cell_type": "code",
   "execution_count": null,
   "metadata": {},
   "outputs": [],
   "source": []
  },
  {
   "cell_type": "markdown",
   "metadata": {},
   "source": [
    "## Last class"
   ]
  },
  {
   "cell_type": "markdown",
   "metadata": {},
   "source": [
    "* We saw the **T-test** (unknown variance)\n",
    "* **Tradeoffs in hypothesis testing** : how do our results depend on the level of alpha (confidence)?"
   ]
  },
  {
   "cell_type": "markdown",
   "metadata": {},
   "source": [
    "## T-test\n",
    "\n",
    "Unknown variance: we have to approximate the variance.\n",
    "\n",
    "If we use our *unbiased* estimator for the variance, then the distribution of\n",
    "\n",
    "\\begin{align*}\n",
    "\\frac{\\hat{\\mu}-\\mu}{S_{N-1}/\\sqrt{N}}\n",
    "\\end{align*}\n",
    "\n",
    "has a **Student’s $t$-distribution with $N-1$ degrees of freedom (dof)**.\n",
    "\n",
    "* The density and distribution functions for the **Student's $t$-distribution** are shown on its [Wikipedia page](https://en.wikipedia.org/wiki/Student's_t-distribution).\n",
    "\n",
    "* Unlike the Gaussian distribution, the distribution function for Student’s t-distribution is in closed form for several values of $\\nu$ (degrees of freedom or dof)."
   ]
  },
  {
   "cell_type": "markdown",
   "metadata": {},
   "source": [
    "## Errors and Performance Tradeoffs in Hypothesis Testing\n",
    "\n",
    "* In binary hypothesis testing, there are two types of errors:\n",
    "\n",
    "    1. **False Alarm** (Type I Error, also called *False Positive*)\n",
    "        * occurs if we accept the alternate hypothesis ($H_1$) when it is not true; or reject the null hypothesis ($H_0$) when it is in fact true.\n",
    "        * we will use the notation\n",
    "        \\begin{align*}\n",
    "        P_{fa} = P(\\text{false alarm})\n",
    "        \\end{align*}\n",
    "        \n",
    "        * $P_{fa} = \\alpha$\n",
    "    \n",
    "    2. **Miss** (Type II Error, also called *False Negative*)\n",
    "        * occurs if we reject an alternative hypothesis ($H_1$) when it is actually true; or accept the null hypothesis ($H_0$) when it is in fact false.\n",
    "        * we will use the notation\n",
    "        \\begin{align*}\n",
    "        P_m = P(\\text{miss})\n",
    "        \\end{align*}\n",
    "\n",
    "* When performing a hypothesis test, there is always a tradeoff between these two types of errors\n",
    "\n",
    "* The tradeoff is controlled by choosing the significance level, $\\alpha$, to which the p-value is compared with\n",
    "    * the value $\\alpha$ is the probability that we will reject the null hypothesis, $H_0$ when it is in fact true\n",
    "    * equivalently, it is the probability of accepting the alternative hypothesis, $H_1$, when $H_1$ is false\n",
    "   "
   ]
  },
  {
   "cell_type": "markdown",
   "metadata": {},
   "source": [
    "## Visualizing Tradeoffs in Hypothesis Testing: ROC Curves\n",
    "\n",
    "* We can visualize the relation between these types of errors using a ROC curve\n",
    "    * ROC stands for *receiver operating characteristic*\n",
    "    * ROC curves were developed for RADAR systems but are widely used in fields of statistical tests, such as biomedicine\n",
    "\n",
    "* In ROC curves, we do not plot $P_{fa}$ vs $P_m$\n",
    "\n",
    "* Instead:\n",
    "    * the x-axis is **FPR (false positive rate)**\n",
    "    \\begin{align*}\n",
    "    \\text{FPR}=P_{fa}\n",
    "    \\end{align*}\n",
    "    \n",
    "    * the y-axis is **TPR (true positive rate)**\n",
    "    \\begin{align*}\n",
    "    \\text{TPR}=1-P_m\n",
    "    \\end{align*}"
   ]
  },
  {
   "cell_type": "code",
   "execution_count": 2,
   "metadata": {},
   "outputs": [],
   "source": [
    "import numpy as np\n",
    "import numpy.random as npr\n",
    "import scipy.stats as stats\n",
    "import pandas as pd\n",
    "import matplotlib.pyplot as plt\n",
    "%matplotlib inline\n",
    "plt.style.use('bmh')"
   ]
  },
  {
   "cell_type": "markdown",
   "metadata": {},
   "source": [
    "## Today\n",
    "* **Goodness-of-fit measures**\n",
    "* **Contingency tables**: test of independence"
   ]
  },
  {
   "cell_type": "markdown",
   "metadata": {},
   "source": [
    "___"
   ]
  },
  {
   "cell_type": "markdown",
   "metadata": {},
   "source": [
    "# Testing Goodness-of-Fit\n",
    "\n",
    "The goodness of fit of a statistical model describes how well it fits a set of observations. Measures of goodness of fit typically summarize the discrepancy between observed values and the values expected under the model in question."
   ]
  },
  {
   "cell_type": "markdown",
   "metadata": {},
   "source": [
    "## Testing Whether Data Comes from a Distribution: Discrete Distributions\n",
    "\n",
    "* Given a set of random data and a proposed model, how could we determine if the data could have reasonably come from that model?\n",
    "\n",
    "* For example, given values from a six-sided die, how could you tell if the die is fair? "
   ]
  },
  {
   "cell_type": "markdown",
   "metadata": {},
   "source": [
    "#### <font color=blue>Example 1</font>"
   ]
  },
  {
   "cell_type": "code",
   "execution_count": 51,
   "metadata": {},
   "outputs": [
    {
     "data": {
      "text/plain": [
       "array([3, 4, 5, 5, 1, 4, 2, 2, 2, 3, 4, 3, 2, 2, 3, 1, 6, 3, 1, 3, 3, 6,\n",
       "       5, 5, 3, 3, 1, 5, 5, 2, 2, 5, 1, 6, 4, 2, 6, 6, 2, 2, 2, 5, 2, 1,\n",
       "       2, 6, 4, 5, 1, 4, 5, 2, 2, 4, 4, 6, 5, 1, 3, 2])"
      ]
     },
     "execution_count": 51,
     "metadata": {},
     "output_type": "execute_result"
    }
   ],
   "source": [
    "# Draw 60 values from a fair 6-sided die:\n",
    "\n",
    "dice = npr.randint(1,7,size=60)\n",
    "dice"
   ]
  },
  {
   "cell_type": "code",
   "execution_count": 52,
   "metadata": {},
   "outputs": [],
   "source": [
    "vals, counts = np.unique(dice, return_counts=True)"
   ]
  },
  {
   "cell_type": "code",
   "execution_count": 53,
   "metadata": {},
   "outputs": [
    {
     "data": {
      "image/png": "[encoded data removed]",
      "text/plain": [
       "<Figure size 432x288 with 1 Axes>"
      ]
     },
     "metadata": {
      "needs_background": "light"
     },
     "output_type": "display_data"
    }
   ],
   "source": [
    "plt.bar(vals, counts/60);"
   ]
  },
  {
   "cell_type": "markdown",
   "metadata": {},
   "source": [
    "* Even after 60 rolls, the numbers still vary significantly\n",
    "\n",
    "* We could compare them to the expected values:"
   ]
  },
  {
   "cell_type": "code",
   "execution_count": 54,
   "metadata": {},
   "outputs": [
    {
     "data": {
      "image/png": "[encoded data removed]",
      "text/plain": [
       "<Figure size 432x288 with 1 Axes>"
      ]
     },
     "metadata": {
      "needs_background": "light"
     },
     "output_type": "display_data"
    }
   ],
   "source": [
    "plt.bar(vals-0.15, counts, width=0.2, label='Counts')\n",
    "plt.bar(vals+0.15, [60*1/6], width=0.2, label='Expected Value')\n",
    "plt.legend(fontsize=15);"
   ]
  },
  {
   "cell_type": "markdown",
   "metadata": {},
   "source": [
    "#### <font color=blue>Example 2</font>\n",
    "\n",
    "The file \"baseball.pickle\" contains the birth months of major league baseball players."
   ]
  },
  {
   "cell_type": "markdown",
   "metadata": {},
   "source": [
    "> [```pickle```](https://docs.python.org/3/library/pickle.html) is a Python object serialization library."
   ]
  },
  {
   "cell_type": "code",
   "execution_count": 55,
   "metadata": {},
   "outputs": [],
   "source": [
    "import pickle"
   ]
  },
  {
   "cell_type": "code",
   "execution_count": 56,
   "metadata": {},
   "outputs": [],
   "source": [
    "pf = open('baseball.pickle','rb')"
   ]
  },
  {
   "cell_type": "code",
   "execution_count": 57,
   "metadata": {},
   "outputs": [],
   "source": [
    "df = pickle.load(pf)\n",
    "pf.close()"
   ]
  },
  {
   "cell_type": "code",
   "execution_count": 58,
   "metadata": {},
   "outputs": [
    {
     "data": {
      "text/html": [
       "<div>\n",
       "<style scoped>\n",
       "    .dataframe tbody tr th:only-of-type {\n",
       "        vertical-align: middle;\n",
       "    }\n",
       "\n",
       "    .dataframe tbody tr th {\n",
       "        vertical-align: top;\n",
       "    }\n",
       "\n",
       "    .dataframe thead th {\n",
       "        text-align: right;\n",
       "    }\n",
       "</style>\n",
       "<table border=\"1\" class=\"dataframe\">\n",
       "  <thead>\n",
       "    <tr style=\"text-align: right;\">\n",
       "      <th></th>\n",
       "      <th>Jan</th>\n",
       "      <th>Feb</th>\n",
       "      <th>Mar</th>\n",
       "      <th>Apr</th>\n",
       "      <th>May</th>\n",
       "      <th>Jun</th>\n",
       "      <th>Jul</th>\n",
       "      <th>Aug</th>\n",
       "      <th>Sep</th>\n",
       "      <th>Oct</th>\n",
       "      <th>Nov</th>\n",
       "      <th>Dec</th>\n",
       "    </tr>\n",
       "  </thead>\n",
       "  <tbody>\n",
       "    <tr>\n",
       "      <th>num_players</th>\n",
       "      <td>1398.0</td>\n",
       "      <td>1213.0</td>\n",
       "      <td>1350.0</td>\n",
       "      <td>1221.0</td>\n",
       "      <td>1229.0</td>\n",
       "      <td>1157.0</td>\n",
       "      <td>1317.0</td>\n",
       "      <td>1558.0</td>\n",
       "      <td>1382.0</td>\n",
       "      <td>1526.0</td>\n",
       "      <td>1406.0</td>\n",
       "      <td>1350.0</td>\n",
       "    </tr>\n",
       "  </tbody>\n",
       "</table>\n",
       "</div>"
      ],
      "text/plain": [
       "                Jan     Feb     Mar     Apr     May     Jun     Jul     Aug  \\\n",
       "num_players  1398.0  1213.0  1350.0  1221.0  1229.0  1157.0  1317.0  1558.0   \n",
       "\n",
       "                Sep     Oct     Nov     Dec  \n",
       "num_players  1382.0  1526.0  1406.0  1350.0  "
      ]
     },
     "execution_count": 58,
     "metadata": {},
     "output_type": "execute_result"
    }
   ],
   "source": [
    "df"
   ]
  },
  {
   "cell_type": "code",
   "execution_count": 59,
   "metadata": {},
   "outputs": [
    {
     "data": {
      "text/plain": [
       "array([1398., 1213., 1350., 1221., 1229., 1157., 1317., 1558., 1382.,\n",
       "       1526., 1406., 1350.])"
      ]
     },
     "execution_count": 59,
     "metadata": {},
     "output_type": "execute_result"
    }
   ],
   "source": [
    "baseball = df.loc['num_players'].to_numpy()\n",
    "baseball"
   ]
  },
  {
   "cell_type": "code",
   "execution_count": 60,
   "metadata": {},
   "outputs": [
    {
     "name": "stdout",
     "output_type": "stream",
     "text": [
      "['Jan' 'Feb' 'Mar' 'Apr' 'May' 'Jun' 'Jul' 'Aug' 'Sep' 'Oct' 'Nov' 'Dec']\n"
     ]
    }
   ],
   "source": [
    "months = df.columns.to_numpy()\n",
    "print(months)"
   ]
  },
  {
   "cell_type": "code",
   "execution_count": 61,
   "metadata": {
    "scrolled": true
   },
   "outputs": [
    {
     "data": {
      "image/png": "[encoded data removed]",
      "text/plain": [
       "<Figure size 432x288 with 1 Axes>"
      ]
     },
     "metadata": {
      "needs_background": "light"
     },
     "output_type": "display_data"
    }
   ],
   "source": [
    "plt.bar(months, baseball);"
   ]
  },
  {
   "cell_type": "markdown",
   "metadata": {},
   "source": [
    "Observations and Comments:\n",
    "\n",
    "* Note that more MLB players are born in August than any other month\n",
    "\n",
    "* Some people claim that this is because in little league baseball through 2006, the cutoff for determing a player's age eligibility was July 31st\n",
    "\n",
    "* That is, a player who was turning 9 that year would not be eligible to play in the 8 & Under league if their birthday was before August 1st. \n",
    "\n",
    "* Thus, players with July birthdays were the youngest (and, on average, smallest) in their leagues, and player with August birthdays were the oldest (and, on average, largest)"
   ]
  },
  {
   "cell_type": "markdown",
   "metadata": {},
   "source": [
    "Let's start by comparing the data values in the cells to the expected values for those cells \n",
    "\n",
    "* **We assume a uniform distribution of birthdays over the year**"
   ]
  },
  {
   "cell_type": "code",
   "execution_count": null,
   "metadata": {},
   "outputs": [],
   "source": [
    "total_players = ##\n",
    "\n",
    "total_players"
   ]
  },
  {
   "cell_type": "markdown",
   "metadata": {},
   "source": [
    "Then we can get the expected number of birthdays in a month as the probability a player is born in a month (which is just the number of days in the month divided by 365) times the total number of players in the table:"
   ]
  },
  {
   "cell_type": "code",
   "execution_count": null,
   "metadata": {},
   "outputs": [],
   "source": [
    "days_in_month=np.array([31,28,31,30,31,30,31,31,30,31,30,31])"
   ]
  },
  {
   "cell_type": "code",
   "execution_count": null,
   "metadata": {},
   "outputs": [],
   "source": [
    "# Expected value (assuming a uniform distribution)\n",
    "\n",
    "ref = "
   ]
  },
  {
   "cell_type": "markdown",
   "metadata": {},
   "source": [
    "Now we can compare the data to the expected values:"
   ]
  },
  {
   "cell_type": "code",
   "execution_count": null,
   "metadata": {},
   "outputs": [],
   "source": [
    "plt.bar(np.arange(12)-0.15, ##, width=0.2, label='Counts')\n",
    "plt.bar(np.arange(12)+0.15, ##, width=0.2, label='E[]')\n",
    "plt.legend()\n",
    "plt.ylim(0,1800)\n",
    "plt.xticks(np.arange(12), months);"
   ]
  },
  {
   "cell_type": "markdown",
   "metadata": {},
   "source": [
    "Observations:\n",
    "\n",
    "* August through November seem to be overrepresented, but how can we test it, with 12 different values?\n",
    "\n",
    "* Let's start by computing the errors:"
   ]
  },
  {
   "cell_type": "code",
   "execution_count": null,
   "metadata": {},
   "outputs": [],
   "source": [
    "# Errors = observed- reference\n",
    "\n",
    "errors = ##\n",
    "\n",
    "# Stem plot of errors\n",
    "#"
   ]
  },
  {
   "cell_type": "markdown",
   "metadata": {},
   "source": [
    "* Now we need to turn the errors into a single test statistic\n",
    "\n",
    "* Note that the errors are both positive and negative\n",
    "\n",
    "* We solve this in the same way we have before, let's start by looking at the total squared error (also called the total deviation):"
   ]
  },
  {
   "cell_type": "code",
   "execution_count": null,
   "metadata": {},
   "outputs": [],
   "source": [
    "E2_sum = ##\n",
    "E2_sum"
   ]
  },
  {
   "cell_type": "markdown",
   "metadata": {},
   "source": [
    "* Then we can carry out our statistical test in the usual way\n",
    "\n",
    "* We draw examples from the distribution under $H_0$ and then see how often we get such a large total deviation:"
   ]
  },
  {
   "cell_type": "code",
   "execution_count": null,
   "metadata": {},
   "outputs": [],
   "source": [
    "# RV under the H0 - assuming data is Uniformly-distributed\n",
    "\n",
    "bballRV = ##\n",
    "\n",
    "# This RV models the number of baseball players born in each month of the year"
   ]
  },
  {
   "cell_type": "code",
   "execution_count": null,
   "metadata": {},
   "outputs": [],
   "source": [
    "players = ##\n",
    "print(players)\n",
    "\n",
    "vals, counts = ##\n",
    "print(vals, counts)"
   ]
  },
  {
   "cell_type": "code",
   "execution_count": null,
   "metadata": {},
   "outputs": [],
   "source": [
    "ref = ##\n",
    "\n",
    "num_sims=1000\n",
    "count=0\n",
    "for sim in range(num_sims):\n",
    "    players = ## # sample size should be the same as the original sample\n",
    "    vals, counts = ##\n",
    "    \n",
    "    test_errors = ## # computes elementwise errors\n",
    "    test_E2sum = ## # sum of the squared errors\n",
    "    if ##:\n",
    "        count+=1\n",
    "        \n",
    "print('Prob of seeing a result this extreme is', count/num_sims)"
   ]
  },
  {
   "cell_type": "markdown",
   "metadata": {},
   "source": [
    "**Conclusion:** \n",
    "<!-- The result is statistically significant. MLB players' birthdays are not uniformly distributed throughout the year. -->"
   ]
  },
  {
   "cell_type": "markdown",
   "metadata": {},
   "source": [
    "* Note that some months have more days than others. Those months will naturally have more variation than months with more days because the expected counts will be smaller\n",
    "\n",
    "* To compensate for this effect, it is instead common to normalize the cell deviations by dividing by the expected value of that cell:"
   ]
  },
  {
   "cell_type": "code",
   "execution_count": null,
   "metadata": {},
   "outputs": [],
   "source": [
    "# squared errors divided by the expected values\n",
    "\n",
    "Cvals = ## \n",
    "\n",
    "Cvals"
   ]
  },
  {
   "cell_type": "markdown",
   "metadata": {},
   "source": [
    "After normalizing, we can again calculate a statistic that is a sum of the normalized deviations:"
   ]
  },
  {
   "cell_type": "code",
   "execution_count": null,
   "metadata": {},
   "outputs": [],
   "source": [
    "Chisq = ##\n",
    "\n",
    "Chisq"
   ]
  },
  {
   "cell_type": "markdown",
   "metadata": {},
   "source": [
    "For reasons we will discuss later, this is called the **chi-squared statistic** with $N-1$ degrees of freedom (dof), i.e.\n",
    "\n",
    "\\begin{align*}\n",
    "\\sum_{i=1}^N \\frac{(O_i - E_i)^2}{E_i} \\sim \\chi^2(\\text{dof}= N-1)\n",
    "\\end{align*}\n",
    "\n",
    "where $O_i$ is the observed value, $E_i$ is the expected value and $N$ is the total number of random values."
   ]
  },
  {
   "cell_type": "code",
   "execution_count": null,
   "metadata": {},
   "outputs": [],
   "source": [
    "x = np.linspace(0,20,1000)\n",
    "\n",
    "plt.figure(figsize=(8,5))\n",
    "Chi2_RV = ##\n",
    "plt.plot(x, ##)\n",
    "print('p-value = ', ##)"
   ]
  },
  {
   "cell_type": "code",
   "execution_count": null,
   "metadata": {},
   "outputs": [],
   "source": [
    "x = np.linspace(0,50,1000)\n",
    "plt.figure(figsize=(8,5))\n",
    "for dof in range(2,11):\n",
    "    C = ## \n",
    "    plt.plot(x, ##, label='dof='+str(dof))\n",
    "    print('Chi-square with dof = ',dof,', Moments: ', C.stats('mvsk'))\n",
    "plt.legend();\n"
   ]
  },
  {
   "cell_type": "code",
   "execution_count": null,
   "metadata": {},
   "outputs": [],
   "source": [
    "print('p-value = ', )"
   ]
  },
  {
   "cell_type": "markdown",
   "metadata": {},
   "source": [
    "We can carry out a similar simulation test as above."
   ]
  },
  {
   "cell_type": "code",
   "execution_count": null,
   "metadata": {},
   "outputs": [],
   "source": [
    "num_sims=1000\n",
    "count=0\n",
    "for sim in range(num_sims):\n",
    "    players = ##\n",
    "    vals, counts = ##\n",
    "    test_E2= ##\n",
    "    test_chi2 = ##\n",
    "    if test_chi2 >= Chisq:\n",
    "        count+=1\n",
    "\n",
    "print('Prob of seeing a result this extreme is',count/num_sims)"
   ]
  },
  {
   "cell_type": "markdown",
   "metadata": {},
   "source": [
    "**Conclusion:** \n",
    "<!-- The result is statistically significant. MLB players' birthdays are not uniformly distributed throughout the year. -->"
   ]
  },
  {
   "cell_type": "markdown",
   "metadata": {},
   "source": [
    "___"
   ]
  },
  {
   "cell_type": "markdown",
   "metadata": {},
   "source": [
    "#### <font color=blue>Example 3: try at home</font>\n",
    "\n",
    "Instead, let's try another baseball example:"
   ]
  },
  {
   "cell_type": "markdown",
   "metadata": {},
   "source": [
    "(From *Mathematical Statistics with Resampling and R* By Laura M. Chihara, Tim C. Hesterberg)\n",
    "\n",
    "The file \"homeruns.pickle\" contains the homerun data for the Philadelphia Phillies in 2009.\n",
    "\n",
    "Each entry is the number of games with the corresponding index number of homeruns:"
   ]
  },
  {
   "cell_type": "code",
   "execution_count": null,
   "metadata": {},
   "outputs": [],
   "source": []
  },
  {
   "cell_type": "code",
   "execution_count": null,
   "metadata": {},
   "outputs": [],
   "source": []
  },
  {
   "cell_type": "code",
   "execution_count": null,
   "metadata": {},
   "outputs": [],
   "source": []
  },
  {
   "cell_type": "code",
   "execution_count": null,
   "metadata": {},
   "outputs": [],
   "source": []
  },
  {
   "cell_type": "markdown",
   "metadata": {},
   "source": [
    "* What distribution might this come from??\n",
    "<!--     * Poisson? -->\n",
    "\n",
    "* What do we need to specify that distribution?\n",
    "<!--     * Need the average number of HRs/game (i.e., the mean of the distribution) -->"
   ]
  },
  {
   "cell_type": "code",
   "execution_count": null,
   "metadata": {},
   "outputs": [],
   "source": []
  },
  {
   "cell_type": "code",
   "execution_count": null,
   "metadata": {},
   "outputs": [],
   "source": []
  },
  {
   "cell_type": "code",
   "execution_count": null,
   "metadata": {},
   "outputs": [],
   "source": []
  },
  {
   "cell_type": "code",
   "execution_count": null,
   "metadata": {},
   "outputs": [],
   "source": []
  },
  {
   "cell_type": "code",
   "execution_count": null,
   "metadata": {},
   "outputs": [],
   "source": []
  },
  {
   "cell_type": "code",
   "execution_count": null,
   "metadata": {},
   "outputs": [],
   "source": []
  },
  {
   "cell_type": "markdown",
   "metadata": {},
   "source": [
    "It looks like a good fit. BUT we should test it:"
   ]
  },
  {
   "cell_type": "code",
   "execution_count": null,
   "metadata": {},
   "outputs": [],
   "source": []
  },
  {
   "cell_type": "code",
   "execution_count": null,
   "metadata": {},
   "outputs": [],
   "source": []
  },
  {
   "cell_type": "markdown",
   "metadata": {},
   "source": [
    "We think that this probably comes from this Poisson distribution. If so, the simulation should produce a p-value >> 0.055"
   ]
  },
  {
   "cell_type": "code",
   "execution_count": null,
   "metadata": {},
   "outputs": [],
   "source": [
    "num_sims=1000\n",
    "count=0\n",
    "for sim in range(num_sims):\n",
    "    \n",
    "    \n",
    "    \n",
    "    \n",
    "        \n",
    "print('Prob of seeing a result this extreme is',count/num_sims)"
   ]
  },
  {
   "cell_type": "markdown",
   "metadata": {},
   "source": [
    "**Conclusion:** \n",
    "\n",
    "<!-- It is likely that this data matches a Poisson distribution. -->"
   ]
  },
  {
   "cell_type": "markdown",
   "metadata": {},
   "source": [
    "___"
   ]
  },
  {
   "cell_type": "markdown",
   "metadata": {},
   "source": [
    "## Testing Whether Data Comes from a Distribution: Continuous Distributions "
   ]
  },
  {
   "cell_type": "markdown",
   "metadata": {},
   "source": [
    "#### <font color=blue>Example 4</font> \n",
    "\n",
    "Consider the data in \"lightbulb.pickle\"."
   ]
  },
  {
   "cell_type": "code",
   "execution_count": null,
   "metadata": {},
   "outputs": [],
   "source": [
    "file = ##"
   ]
  },
  {
   "cell_type": "code",
   "execution_count": null,
   "metadata": {
    "scrolled": false
   },
   "outputs": [],
   "source": [
    "lb = ## \n",
    "\n",
    "file.##"
   ]
  },
  {
   "cell_type": "markdown",
   "metadata": {},
   "source": [
    "How should we determine what distribution this data comes from?\n",
    "\n",
    "* Let's look at what sorts of values we got:"
   ]
  },
  {
   "cell_type": "code",
   "execution_count": null,
   "metadata": {},
   "outputs": [],
   "source": [
    "print(lb[:50])"
   ]
  },
  {
   "cell_type": "markdown",
   "metadata": {},
   "source": [
    "The values seem to be coming from throughout the positive real line -- this data is from a continous distribution. \n"
   ]
  },
  {
   "cell_type": "markdown",
   "metadata": {},
   "source": [
    "Now we need to try to determine which continuous distribution is a good fit for the data.\n",
    "\n",
    "1. Start by plotting a histogram of the data. Adjust the number of bins to provide an appropriate amount of resolution to help infer what distribution this might be from."
   ]
  },
  {
   "cell_type": "code",
   "execution_count": null,
   "metadata": {},
   "outputs": [],
   "source": []
  },
  {
   "cell_type": "markdown",
   "metadata": {},
   "source": [
    "Clearly the data is not Gaussian/Normal or Uniform. \n",
    "\n",
    "* Of the distributions we have considered, this seems to match the exponential random variable. \n",
    "\n",
    "Assuming that this is from an exponential distribution, we can compare the histogram of the data with that from the theoretical model. The exponential distribution is characterized by a single parameter, either $\\lambda$ or $\\mu=1/\\lambda$, which is the mean.\n",
    "\n",
    "2. Let's estimate the mean of the reference distribution. We know that the sample mean estimator is an unbiased estimate of the mean:"
   ]
  },
  {
   "cell_type": "code",
   "execution_count": null,
   "metadata": {},
   "outputs": [],
   "source": [
    "# Estimate for the sample mean\n",
    "\n",
    "mu_hat = ##\n",
    "mu_hat"
   ]
  },
  {
   "cell_type": "markdown",
   "metadata": {},
   "source": [
    "3. Now create an exponential random variable object and draw data from this reference distribution:"
   ]
  },
  {
   "cell_type": "code",
   "execution_count": null,
   "metadata": {},
   "outputs": [],
   "source": [
    "E = ## "
   ]
  },
  {
   "cell_type": "code",
   "execution_count": null,
   "metadata": {},
   "outputs": [],
   "source": [
    "# randomly sampling values from this exponential RV\n",
    "\n",
    "ref = ##"
   ]
  },
  {
   "cell_type": "code",
   "execution_count": null,
   "metadata": {},
   "outputs": [],
   "source": [
    "\n",
    "_, mybins, _ = plt.hist(lb, bins=20, alpha=0.3, label='Training Data')\n",
    "plt.hist(ref, bins = ## #, alpha=0.3, label='Reference from the Exponential')\n",
    "plt.legend();"
   ]
  },
  {
   "cell_type": "markdown",
   "metadata": {},
   "source": [
    "The match is not perfect, but they are similar. \n",
    "\n",
    "* Since this data comes from a continuous distribution, kernel density estimation (KDE) may be better than a histogram!"
   ]
  },
  {
   "cell_type": "markdown",
   "metadata": {},
   "source": [
    "___"
   ]
  },
  {
   "cell_type": "markdown",
   "metadata": {},
   "source": [
    "## Quantile-Quantile (Q-Q) Plot"
   ]
  },
  {
   "cell_type": "markdown",
   "metadata": {},
   "source": [
    "Let's investigate other ways that we can visually compare these data. We will first generate a **quantile-quantile (Q-Q) plot** for the data.\n",
    "\n",
    "* The $k$th **quantile** from a data set of length $n$ is the data point that is $k/n$th of the way through the ordered set.  \n",
    "\n",
    "* In a Q-Q plot, we plot the data at a particular quantile in one data set vs the data at a particular quantile in another data set. \n",
    "\n",
    "Read the wikipedia page on Q-Q plots: https://en.wikipedia.org/wiki/Q–Q_plot"
   ]
  },
  {
   "cell_type": "markdown",
   "metadata": {},
   "source": [
    "We will only consider the easiest case, which is when the data sets are of the same size. In that case, we can just plot the sorted values with respect to each other:\n",
    "\n",
    "\n"
   ]
  },
  {
   "cell_type": "code",
   "execution_count": null,
   "metadata": {},
   "outputs": [],
   "source": [
    "# random sample from the exponential \n",
    "\n",
    "ref = ##"
   ]
  },
  {
   "cell_type": "code",
   "execution_count": null,
   "metadata": {},
   "outputs": [],
   "source": [
    "# Plot against each other\n",
    "##\n",
    "plt.title('Q-Q Plot for data vs Exponential RV')\n",
    "plt.xlabel('Quantiles for the Exponential RV')\n",
    "plt.ylabel('Quantiles for the Observed Data');"
   ]
  },
  {
   "cell_type": "markdown",
   "metadata": {},
   "source": [
    "If the data is from the same distribution, the plot should be approximately linear!"
   ]
  },
  {
   "cell_type": "markdown",
   "metadata": {},
   "source": [
    "When we are comparing data to a known distribution, we can get the exact quantiles from the distribution of the random variable, rather than using samples from the random variable. \n",
    "\n",
    "Sometimes this type of plot is called a **probability plot**. More generally, the term probability plot is sometimes used to refer to a broader class of plots including the Q-Q plot. **We can get the quantiles from a distribution using the inverse CDF (in ```scipy.stats```, this is called the percent point function (ppf):**"
   ]
  },
  {
   "cell_type": "code",
   "execution_count": null,
   "metadata": {},
   "outputs": [],
   "source": [
    "cumulative_prob = ## \n",
    "\n",
    "## Scatter plot\n"
   ]
  },
  {
   "cell_type": "markdown",
   "metadata": {},
   "source": [
    "We observe that the function is even more linear. It has a little less variation because we have eliminated one of the sources of randomness in the Q-Q plot."
   ]
  },
  {
   "cell_type": "markdown",
   "metadata": {},
   "source": [
    "Finally, we leverage the ```scipy.stats``` ```probplot``` method to generate the same plot directly:"
   ]
  },
  {
   "cell_type": "code",
   "execution_count": null,
   "metadata": {},
   "outputs": [],
   "source": []
  },
  {
   "cell_type": "markdown",
   "metadata": {},
   "source": [
    "Read the docstring for the ```stats.probplot``` method:"
   ]
  },
  {
   "cell_type": "code",
   "execution_count": null,
   "metadata": {},
   "outputs": [],
   "source": []
  },
  {
   "cell_type": "markdown",
   "metadata": {},
   "source": [
    "Note that we can only use ```stats.probplot``` for distributions that ```scipy.stats``` knows (but that is A LOT).\n",
    "\n",
    "After you have read the docstring and understand the outputs, let's store those and look at them: "
   ]
  },
  {
   "cell_type": "code",
   "execution_count": null,
   "metadata": {},
   "outputs": [],
   "source": []
  },
  {
   "cell_type": "markdown",
   "metadata": {},
   "source": [
    "We are not yet ready to talk in detail about linear regression, but basically it is finding the best line to fit a set of data (when the error is mean-squared error).\n",
    "\n",
    "The regression parameters are (from the docstring): (slope, intercept, r)\n",
    "\n",
    "You all should be familiar with the slope and intercept of a line. The parameter ```r``` (usually written $r$ in text) measures how close the data fits the line. We will work with $r^2$ instead. The closer $r^2$ is to 1, then the better the line fits the quantiles (and the better our reference distribution fits the data). We will consider the reference distribution to be a good match for the data if $r^2 \\ge 0.9$.\n",
    "\n",
    "Let's check how well the exponential distribution fits our data:"
   ]
  },
  {
   "cell_type": "code",
   "execution_count": null,
   "metadata": {},
   "outputs": [],
   "source": []
  },
  {
   "cell_type": "code",
   "execution_count": null,
   "metadata": {},
   "outputs": [],
   "source": [
    "r = ##\n",
    "\n",
    "print('R^2 or Coefficient of Determination: ', ##)"
   ]
  },
  {
   "cell_type": "markdown",
   "metadata": {},
   "source": [
    "**Conclusion:** \n",
    "\n",
    "<!-- Since $r^2 \\approx 0.9979 > 0.9$, the exponential distribution is an excellent fit to this data set. -->"
   ]
  },
  {
   "cell_type": "markdown",
   "metadata": {
    "slideshow": {
     "slide_type": "subslide"
    }
   },
   "source": [
    "# What is a Contingency Table?\n",
    "\n",
    "<div class=\"alert alert-info\">\n",
    "  <strong>Contingency Table</strong>\n",
    "\n",
    "A **contingency table**, sometimes called *cross-tabulation* or *two-way table*, is a type of table in a matrix format that displays (multivariate) categorical data in terms of frequency counts.\n",
    "\n",
    "More precisely, an $r\\times c$ contingency table shows the observed frequency of two variables, the observed frequencies of which are arranged into $r$ rows and $c$ columns. The intersection of a row and a column of a contingency table is called a cell.\n",
    "</div>"
   ]
  },
  {
   "cell_type": "markdown",
   "metadata": {
    "slideshow": {
     "slide_type": "subslide"
    }
   },
   "source": [
    "* Contingency tables are great to summarize (large) data sets\n",
    "\n",
    "* Contingency tables are used for organizing categorical variables and testing hypothesis with the chi-squared test for independence"
   ]
  },
  {
   "cell_type": "markdown",
   "metadata": {
    "slideshow": {
     "slide_type": "subslide"
    }
   },
   "source": [
    "For example, the contingency table below has two rows and five columns (not counting header rows/columns) and shows the results of a random sample of 2200 adults classified by two variables, namely gender and favorite way to eat ice cream.\n",
    "\n",
    "|  |   cup   |  cone   | sundae  | sandwich |  other  |\n",
    "|--------|---------|---------|---------|----------|---------|\n",
    "|  male  |   592   |   300   |   204   |    24    |    80   |\n",
    "| female |   410   |   335   |   180   |    20    |    55   |"
   ]
  },
  {
   "cell_type": "markdown",
   "metadata": {
    "slideshow": {
     "slide_type": "subslide"
    }
   },
   "source": [
    "One benefit of having data presented in a contingency table is that it allows one to more easily perform basic probability calculations, a feat made easier still by augmenting a summary row and column to the table.\n",
    "\n",
    "|  |   cup   |  cone   | sundae  | sandwich |  other  |  total  |\n",
    "|--------|---------|---------|---------|----------|---------|---------|\n",
    "|  male  |   592   |   300   |   204   |    24    |    80   |   1200  |\n",
    "| female |   410   |   335   |   180   |    20    |    55   |   1000  |\n",
    "|  total |   1002  |   635   |   384   |    44    |   135   |   2200  |\n",
    "\n",
    "The above table is an extended version of the first table obtained by adding a summary row and column. These summaries allow easier computation of several different probability-related quantities."
   ]
  },
  {
   "cell_type": "markdown",
   "metadata": {
    "slideshow": {
     "slide_type": "subslide"
    }
   },
   "source": [
    "## Marginal Total\n",
    "\n",
    "The numbers in every cell are called **marginal totals**. The grand total (the total number of individuals represented in the contingency table) is the number in the bottom right corner.\n",
    "\n",
    "The table allows users to see at a glance that the proportion of men who like to eat their ice cream in a cone is about the same as the proportion of women who like to eat their ice cream in a cone although the proportions are not identical."
   ]
  },
  {
   "cell_type": "markdown",
   "metadata": {
    "slideshow": {
     "slide_type": "subslide"
    }
   },
   "source": [
    "## Conditional Probability\n",
    "\n",
    "If the proportions of individuals in the different columns vary significantly between rows (or vice versa), it is said that there is a *contingency* between the two variables. In other words, the two variables are **not independent**. If there is no contingency, it is said that the two variables are independent."
   ]
  },
  {
   "cell_type": "markdown",
   "metadata": {
    "slideshow": {
     "slide_type": "subslide"
    }
   },
   "source": [
    "## Expected Frequency\n",
    "\n",
    "One useful value to know is the **expected frequency** $E_{r,c}$ of the cell at the intersection of column c and row r, the formula for which is given by\n",
    "\n",
    "$$E_{c,r} = \\frac{\\text{(sum of row }r\\text{)}\\times\\text{(sum of column }c\\text{)}}{\\text{sample size}}$$"
   ]
  },
  {
   "cell_type": "markdown",
   "metadata": {
    "slideshow": {
     "slide_type": "subslide"
    }
   },
   "source": [
    "#### <font color=blue>Example 5</font> \n",
    "\n",
    "From the contingency table below, compute:\n",
    "\n",
    "|  |   cup   |  cone   | sundae  | sandwich |  other  |  total  |\n",
    "|--------|---------|---------|---------|----------|---------|---------|\n",
    "|  male  |   592   |   300   |   204   |    24    |    80   |   1200  |\n",
    "| female |   410   |   335   |   180   |    20    |    55   |   1000  |\n",
    "|  total |   1002  |   635   |   384   |    44    |   135   |   2200  |\n",
    "\n",
    "1. Probability that a random participant prefers their ice cream in a cup? \n",
    "\n",
    "<!-- $$\\frac{1002}{2200}$$ -->"
   ]
  },
  {
   "cell_type": "markdown",
   "metadata": {
    "slideshow": {
     "slide_type": "subslide"
    }
   },
   "source": [
    "2. Probability that a random participant prefers their ice cream in a sandwich? \n",
    "\n",
    "<!-- $$\\frac{44}{2200}$$ -->"
   ]
  },
  {
   "cell_type": "markdown",
   "metadata": {
    "slideshow": {
     "slide_type": "subslide"
    }
   },
   "source": [
    "3. Probability that a random participant is female? \n",
    "\n",
    "<!-- $$\\frac{1000}{2200}$$ -->"
   ]
  },
  {
   "cell_type": "markdown",
   "metadata": {
    "slideshow": {
     "slide_type": "subslide"
    }
   },
   "source": [
    "4. Probability that a person prefers ice cream sandwiches given that the person is male? \n",
    "\n",
    "<!-- $$P(\\text{sandwich}|\\text{male}) = \\frac{P(\\text{sandwich} \\cap \\text{male})}{P(\\text{male})} = \\frac{24}{1200}$$ -->"
   ]
  },
  {
   "cell_type": "markdown",
   "metadata": {
    "slideshow": {
     "slide_type": "subslide"
    }
   },
   "source": [
    "5. Probability that a person is male given that ice cream sandwiches are preferred? \n",
    "\n",
    "<!-- $$P(\\text{male}|\\text{sandwich}) = \\frac{24}{44}$$ -->"
   ]
  },
  {
   "cell_type": "markdown",
   "metadata": {
    "slideshow": {
     "slide_type": "subslide"
    }
   },
   "source": [
    "6. Expected value of men who prefer to eat ice cream from a cup? \n",
    "\n",
    "<!-- $$\\frac{1200 \\times 1002}{2200} \\approx 546.54$$ -->"
   ]
  },
  {
   "cell_type": "markdown",
   "metadata": {
    "slideshow": {
     "slide_type": "subslide"
    }
   },
   "source": [
    "7. Expected value of women who prefer to eat ice cream from a sundae? \n",
    "\n",
    "<!-- $$\\frac{1000 \\times 384}{2200} \\approx 174.54$$ -->"
   ]
  },
  {
   "cell_type": "markdown",
   "metadata": {},
   "source": [
    "8. What are the variables of study? \n",
    "\n",
    "<!-- Gender and preferred way to eat ice cream. -->"
   ]
  },
  {
   "cell_type": "markdown",
   "metadata": {},
   "source": [
    "9. How many degrees of freedom does this contingency table have? \n",
    "\n",
    "<!-- $$(2-1) \\times (5-1) = 4$$ -->"
   ]
  },
  {
   "cell_type": "markdown",
   "metadata": {
    "slideshow": {
     "slide_type": "subslide"
    }
   },
   "source": [
    "## Chi-Squared Test & Independence\n",
    "\n",
    "One of the major benefits of computing expected frequencies is the ability to test whether the two variables are actually *independent*. This is done by computing, for each cell (c,r), the expected frequency $E_{c,r}$, comparing it to the observed frequency $O_{c,r}$, and then performing the **chi-squared test**.\n",
    "\n",
    "$$\\chi^2 = \\sum_{\\text{all cells}} \\frac{(O_{c,r}-E_{c,r})^2}{E_{c,r}} = \\sum_c \\sum_r \\frac{(O_{c,r}-E_{c,r})^2}{E_{c,r}}$$"
   ]
  },
  {
   "cell_type": "markdown",
   "metadata": {
    "slideshow": {
     "slide_type": "subslide"
    }
   },
   "source": [
    "This statistic is called a $\\chi^2$ as it follows a [$\\chi^2$ distribution with $k$ degrees of freedom](https://en.wikipedia.org/wiki/Chi-squared_distribution).\n",
    "\n",
    "* The degrees of freedom can be computed as $(\\text{# rows}-1)\\times (\\text{# columns}-1)$\n",
    "\n",
    "* In the example above, there are 4 degrees of freedom"
   ]
  },
  {
   "cell_type": "code",
   "execution_count": null,
   "metadata": {},
   "outputs": [],
   "source": [
    "x = np.linspace(0,20,1000)\n",
    "\n",
    "plt.figure(figsize=(8,5))\n",
    "for i in range(2,11):\n",
    "    C = stats.chi2(i)\n",
    "    plt.plot(x,C.pdf(x),label='k = '+str(i))\n",
    "\n",
    "plt.legend();"
   ]
  },
  {
   "cell_type": "markdown",
   "metadata": {
    "slideshow": {
     "slide_type": "subslide"
    }
   },
   "source": [
    "### Chi-Squared ($\\chi^2$) RV and Gaussian RV\n",
    "\n",
    "If $Y_1, \\dots, Y_k$ independent identically distributed (i.i.d.), standard normal random variables, that is, $Y_i \\sim G(0,1)$, then\n",
    "\n",
    "$$Z = \\sum_{i=1}^k Y_i^2$$\n",
    "\n",
    "$Z$ is distributed as $\\chi^2$ with $k$ degrees of freedom, $Z \\sim \\chi^2(k)$.\n",
    "\n",
    "In other words, the chi-square distribution with $k$ degrees of freedom is the distribution of a sum of the squares of $k$ independent Normal random variables."
   ]
  },
  {
   "cell_type": "code",
   "execution_count": null,
   "metadata": {
    "slideshow": {
     "slide_type": "subslide"
    }
   },
   "outputs": [],
   "source": [
    "N = 10_000\n",
    "x = np.linspace(0,20,N)\n",
    "\n",
    "dof = 5\n",
    "C = stats.chi2(dof)\n",
    "G = stats.norm()\n",
    "\n",
    "sum_kG = 0\n",
    "for i in range(dof):\n",
    "    #\n",
    "    #\n",
    "    \n",
    "plt.plot(x,C.pdf(x),label='$\\chi^2$(dof='+str(dof)+')')\n",
    "plt.plot(x, stats.gaussian_kde(sum_kG)(x), label='KDE estimate for $\\chi^2=(dof=$'+str(dof)+')')\n",
    "plt.hist(sum_kG,density='True', label='Sum of '+str(dof)+' Normal dist.')\n",
    "plt.legend();"
   ]
  },
  {
   "cell_type": "markdown",
   "metadata": {
    "slideshow": {
     "slide_type": "subslide"
    }
   },
   "source": [
    "#### <font color=blue>Example 6</font> \n",
    "\n",
    "Carry the independence test for the two variables in the following contingency tables:\n",
    "\n",
    "|  |   cup   |  cone   | sundae  | sandwich |  other  |  total  |\n",
    "|--------|---------|---------|---------|----------|---------|---------|\n",
    "|  male  |   592   |   300   |   204   |    24    |    80   |   1200  |\n",
    "| female |   410   |   335   |   180   |    20    |    55   |   1000  |\n",
    "|  total |   1002  |   635   |   384   |    44    |   135   |   2200  |"
   ]
  },
  {
   "cell_type": "code",
   "execution_count": null,
   "metadata": {},
   "outputs": [],
   "source": [
    "# H0: \n",
    "# H1: \n",
    "\n",
    "# Statistic: "
   ]
  },
  {
   "cell_type": "code",
   "execution_count": null,
   "metadata": {},
   "outputs": [],
   "source": [
    "observed = ##\n",
    "\n",
    "observed"
   ]
  },
  {
   "cell_type": "code",
   "execution_count": null,
   "metadata": {},
   "outputs": [],
   "source": [
    "E = ##\n",
    "print(E)"
   ]
  },
  {
   "cell_type": "code",
   "execution_count": null,
   "metadata": {},
   "outputs": [],
   "source": [
    "print(##)"
   ]
  },
  {
   "cell_type": "markdown",
   "metadata": {},
   "source": [
    "Observations: \n",
    "* The columns and rows sum to 0\n",
    "* Cannot use the sum of the error (defined as the different between observed and expected) as it always sums to 0. Instead let's consider the squared of the error"
   ]
  },
  {
   "cell_type": "code",
   "execution_count": null,
   "metadata": {},
   "outputs": [],
   "source": [
    "print(##)"
   ]
  },
  {
   "cell_type": "markdown",
   "metadata": {},
   "source": [
    "Observations:\n",
    "\n",
    "* Some cells have larger expected values and more observations than others\n",
    "\n",
    "* A difference of 10 in a cell of expected value of 5 is more significant than a difference of 10 in a cell of expected value of 100\n",
    "\n",
    "* We can take into account the expected cell size"
   ]
  },
  {
   "cell_type": "code",
   "execution_count": null,
   "metadata": {},
   "outputs": [],
   "source": [
    "print(##)"
   ]
  },
  {
   "cell_type": "code",
   "execution_count": null,
   "metadata": {},
   "outputs": [],
   "source": [
    "C = ##\n",
    "C"
   ]
  },
  {
   "cell_type": "markdown",
   "metadata": {},
   "source": [
    "Given this statistic, how can we determine if this result is statistically significant with $\\alpha=0.01$? We need to find the $p$-value under the null Hypothesis $$H_0:\\text{variables gender and favorite way to eat ice cream are independent}$$\n",
    "\n",
    "There are two approaches: \n",
    "1. Resampling (permutation)\n",
    "2. Analytical Solution (Chi-Squared test)"
   ]
  },
  {
   "cell_type": "code",
   "execution_count": null,
   "metadata": {},
   "outputs": [],
   "source": [
    "# Analytical Solution\n",
    "\n",
    "x = np.linspace(0,30,100)\n",
    "chi = ##\n",
    "\n",
    "plt.plot(x, ##)\n",
    "plt.scatter(C, ##, s=##, c=##)\n",
    "\n",
    "print(' The probability of observing a table this extreme is equal to ',##)"
   ]
  },
  {
   "cell_type": "code",
   "execution_count": null,
   "metadata": {},
   "outputs": [],
   "source": [
    "# Resampling solution\n",
    "# 0 - cup, 1 - cone, 2 - sundae, 3 - sandwich, 4 - other\n",
    "\n",
    "sample = ##\n",
    "\n",
    "perm_sample = ##\n",
    "male = ##\n",
    "female = ##\n"
   ]
  },
  {
   "cell_type": "code",
   "execution_count": null,
   "metadata": {},
   "outputs": [],
   "source": []
  },
  {
   "cell_type": "code",
   "execution_count": null,
   "metadata": {},
   "outputs": [],
   "source": []
  },
  {
   "cell_type": "code",
   "execution_count": null,
   "metadata": {},
   "outputs": [],
   "source": []
  },
  {
   "cell_type": "code",
   "execution_count": null,
   "metadata": {},
   "outputs": [],
   "source": [
    "num_sims=10_000\n",
    "count=0\n",
    "\n",
    "for i in range(num_sims):\n",
    "    perm_sample = ##\n",
    "    male = ##\n",
    "    female = ##\n",
    "    CT = ##\n",
    "    \n",
    "    sampleC = ##\n",
    "    \n",
    "    if ##:\n",
    "        count+=1\n",
    "\n",
    "    \n",
    "    \n",
    "    \n",
    "print(\"Probability of observing a table this extreme under H0 is ~\",count/num_sims)"
   ]
  },
  {
   "cell_type": "markdown",
   "metadata": {
    "slideshow": {
     "slide_type": "subslide"
    }
   },
   "source": [
    "**Conclusion:** \n",
    "\n",
    "<!-- We reject the null hypothesis. The two variables are **not** independent. -->"
   ]
  }
 ],
 "metadata": {
  "kernelspec": {
   "display_name": "Python 3",
   "language": "python",
   "name": "python3"
  },
  "language_info": {
   "codemirror_mode": {
    "name": "ipython",
    "version": 3
   },
   "file_extension": ".py",
   "mimetype": "text/x-python",
   "name": "python",
   "nbconvert_exporter": "python",
   "pygments_lexer": "ipython3",
   "version": "3.8.8"
  },
  "latex_envs": {
   "LaTeX_envs_menu_present": true,
   "autoclose": false,
   "autocomplete": true,
   "bibliofile": "biblio.bib",
   "cite_by": "apalike",
   "current_citInitial": 1,
   "eqLabelWithNumbers": true,
   "eqNumInitial": 1,
   "hotkeys": {
    "equation": "Ctrl-E",
    "itemize": "Ctrl-I"
   },
   "labels_anchors": false,
   "latex_user_defs": false,
   "report_style_numbering": false,
   "user_envs_cfg": false
  },
  "varInspector": {
   "cols": {
    "lenName": 16,
    "lenType": 16,
    "lenVar": 40
   },
   "kernels_config": {
    "python": {
     "delete_cmd_postfix": "",
     "delete_cmd_prefix": "del ",
     "library": "var_list.py",
     "varRefreshCmd": "print(var_dic_list())"
    },
    "r": {
     "delete_cmd_postfix": ") ",
     "delete_cmd_prefix": "rm(",
     "library": "var_list.r",
     "varRefreshCmd": "cat(var_dic_list()) "
    }
   },
   "types_to_exclude": [
    "module",
    "function",
    "builtin_function_or_method",
    "instance",
    "_Feature"
   ],
   "window_display": false
  }
 },
 "nbformat": 4,
 "nbformat_minor": 4
}
