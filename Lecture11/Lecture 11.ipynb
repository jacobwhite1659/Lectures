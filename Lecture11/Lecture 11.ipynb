{
 "cells": [
  {
   "cell_type": "markdown",
   "metadata": {},
   "source": [
    "# Lecture 11\n",
    "- Continuous Random Variables\n",
    "- Important Continuous RVs\n",
    "- Central Limit Theorem\n",
    "- Moments of RVs"
   ]
  },
  {
   "cell_type": "markdown",
   "metadata": {},
   "source": [
    "___"
   ]
  },
  {
   "cell_type": "markdown",
   "metadata": {},
   "source": [
    "# Exam 1 rescheduled to <font color=blue> **Tuesday, October 4th** </font> @ 8.20pm\n",
    "\n",
    "### The location for Exam 1 is **LIT 0113** and **LIT 0121**. Students whose last name begins with **A-M** should go to **LIT 0113**, and those whose last name begins **N-Z** should go to **LIT 0121**. \n",
    "\n",
    "\n"
   ]
  },
  {
   "cell_type": "markdown",
   "metadata": {},
   "source": [
    "# Continuous RVs"
   ]
  },
  {
   "cell_type": "markdown",
   "metadata": {},
   "source": [
    "<div class=\"alert alert-info\">\n",
    "    <b>Continuous Random Variable</b>\n",
    "    \n",
    "A random variable $X$ is called **continuous** if its there is a nonnegative continuous function $f_X$, called the **probability density function of $X$**, or PDF for short, such that\n",
    "    \n",
    "$$P(X\\in B) = \\int_B f_X(x) dx$$\n",
    "\n",
    "</div>"
   ]
  },
  {
   "cell_type": "markdown",
   "metadata": {},
   "source": [
    "<div class=\"alert alert-warning\">\n",
    "    \n",
    "Continuous random variables **do not** have probability at any discrete points, i.e., \n",
    "    \n",
    "$$P(X = x)=0~~ \\forall x \\in \\mathbb{R}$$\n",
    "\n",
    "The probability is distributed over ranges of real numbers.\n",
    "</div>"
   ]
  },
  {
   "cell_type": "markdown",
   "metadata": {},
   "source": [
    "<div class=\"alert alert-success\">\n",
    "    \n",
    "It is possible to have a random variable for which some of the probability is concentrated at individual points and some of the\n",
    "probability is distributed over continous ranges.\n",
    "\n",
    "These are called **mixed** random variables and will not be covered in this class\n",
    "\n",
    "</div>"
   ]
  },
  {
   "cell_type": "markdown",
   "metadata": {},
   "source": [
    "Continuous random variables do not have probability at any discrete values. However, they do have **density** of probability at values:"
   ]
  },
  {
   "cell_type": "markdown",
   "metadata": {},
   "source": [
    "<div class=\"alert alert-info\">\n",
    "    <b>Probability Density Function</b>\n",
    "    \n",
    "The **probability density function (pdf)** of a random variable $X:\\Omega \\rightarrow \\mathbb{R}$ is denoted by $f_X(x)$ and is the derivative (which may not exist at some places) of the CDF function $F_X(x)$:\n",
    "\n",
    "$$f_X(x)= \\frac{d F_X(x)}{dx}$$\n",
    "</div>"
   ]
  },
  {
   "cell_type": "markdown",
   "metadata": {},
   "source": [
    "<div class=\"alert-success\">\n",
    "\n",
    "Then, by the *Fundamental Theorem of Calculus*,\n",
    "    \n",
    "\\begin{align}\n",
    "F_X(x) &= \\int_{-\\infty}^{x} f_X(x)~dx +F_X(-\\infty)\\\\\n",
    "&= \\int_{-\\infty}^{x} f_X(u)~du\n",
    "\\end{align}\n",
    "</div>"
   ]
  },
  {
   "cell_type": "markdown",
   "metadata": {},
   "source": [
    "Reminder of the Fundamental Theorem of Calculus in a gif:"
   ]
  },
  {
   "cell_type": "markdown",
   "metadata": {},
   "source": [
    "![Fundamental Theorem of Calculus](https://upload.wikimedia.org/wikipedia/commons/3/31/Fundamental_theorem_of_calculus_%28animation_%29.gif)\n",
    "                                   "
   ]
  },
  {
   "cell_type": "markdown",
   "metadata": {},
   "source": [
    "Let's plot the CDF of a uniform random variable:"
   ]
  },
  {
   "cell_type": "code",
   "execution_count": 73,
   "metadata": {},
   "outputs": [
    {
     "data": {
      "image/png": "[encoded data removed]",
      "text/plain": [
       "<Figure size 432x288 with 1 Axes>"
      ]
     },
     "metadata": {
      "needs_background": "light"
     },
     "output_type": "display_data"
    }
   ],
   "source": [
    "u = np.linspace(-0.1,1.1,100)\n",
    "\n",
    "plt.plot(u,U.cdf(u));"
   ]
  },
  {
   "cell_type": "markdown",
   "metadata": {},
   "source": [
    "The CDF of the Uniform random variable is given by:\n",
    "\n",
    "$$F_X(x) = \\begin{cases} 0 & x<a \\\\ \\frac{x-a}{b-a} & x\\in [a,b]\\\\ 1 & x>b \\end{cases}$$"
   ]
  },
  {
   "cell_type": "code",
   "execution_count": 74,
   "metadata": {},
   "outputs": [
    {
     "data": {
      "image/png": "[encoded data removed]",
      "text/plain": [
       "<Figure size 432x288 with 1 Axes>"
      ]
     },
     "metadata": {
      "needs_background": "light"
     },
     "output_type": "display_data"
    }
   ],
   "source": [
    "plt.step(u, U.pdf(u));"
   ]
  },
  {
   "cell_type": "markdown",
   "metadata": {},
   "source": [
    "* A Uniform RV models continuous-valued instances that are equally likely to occur in a given interval $[a,b]$.\n",
    "\n",
    "$$X \\sim \\text{Uniform}(a,b) \\text{ or }$$\n",
    "\n",
    "For short, \n",
    "\n",
    "$$X \\sim U(a,b) $$\n",
    "\n",
    "* The **probability density function (PDF)** of the Uniform random variable is:\n",
    "\n",
    "$$f_X(x) = \\begin{cases}\\frac{1}{b-a} & x\\in [a,b]\\\\ 0 & \\text{o.w.}\\end{cases}$$\n",
    "\n",
    "* The **cumulative distribution function (CDF)** of this Uniform random variable is:\n",
    "\n",
    "$$F_X(x) = \\begin{cases} 0 & x<a \\\\ \\frac{x-a}{b-a} & x\\in [a,b]\\\\ 1 & x>b \\end{cases}$$"
   ]
  },
  {
   "cell_type": "code",
   "execution_count": null,
   "metadata": {},
   "outputs": [],
   "source": []
  },
  {
   "cell_type": "markdown",
   "metadata": {},
   "source": [
    "## Exponential RV"
   ]
  },
  {
   "cell_type": "markdown",
   "metadata": {},
   "source": [
    "**Used to model:** Lifetime of an electrical device, service time or time between arrivals in a queue, distance between mutations on a DNA strand, monthly and annual maximum values of daily rainfall."
   ]
  },
  {
   "cell_type": "markdown",
   "metadata": {},
   "source": [
    "* Obtainable as a limit of Geometric random variables."
   ]
  },
  {
   "cell_type": "markdown",
   "metadata": {},
   "source": [
    "* This RV has a single parameter. Typically use $\\lambda$, but some books use $\\mu=1/\\lambda$."
   ]
  },
  {
   "cell_type": "markdown",
   "metadata": {},
   "source": [
    "* We say that $X$ is an exponential RV and write as: $X\\sim \\text{Exponential}(\\lambda )$."
   ]
  },
  {
   "cell_type": "markdown",
   "metadata": {},
   "source": [
    "* The **probability density function (pdf)** is given as:\n",
    "\n",
    "$$ f_X(x) = \\begin{cases} \\lambda e^{-\\lambda x}, & x \\ge 0 \\\\ 0, & x < 0  \\end{cases} $$\n",
    "\n",
    "(or)\n",
    "\n",
    "$$ f_X(x) = \\begin{cases} \\frac{1}{\\mu} e^{-x/\\mu}, & x \\ge 0 \\\\ 0, & x < 0  \\end{cases} $$\n",
    "\n",
    "We will use the first form because it is more common and simpler."
   ]
  },
  {
   "cell_type": "code",
   "execution_count": null,
   "metadata": {},
   "outputs": [],
   "source": []
  },
  {
   "cell_type": "code",
   "execution_count": null,
   "metadata": {},
   "outputs": [],
   "source": []
  },
  {
   "cell_type": "markdown",
   "metadata": {},
   "source": [
    "* The CDF is given as:\n",
    "\n",
    "\\begin{align*}\n",
    "F_X(x) &= \\int_{-\\infty}^{\\infty} f_X(x) dx\\\\ \n",
    "&= \\begin{cases}\\int_0^{\\infty} \\lambda e^{-\\lambda x}dx & x\\geq 0 \\\\ 0 & x<0 \\end{cases}\\\\\n",
    "&= \\begin{cases} 1-e^{-\\lambda x} & x\\geq 0 \\\\ 0 & x<0 \\end{cases}\\\\\n",
    "\\end{align*}"
   ]
  },
  {
   "cell_type": "code",
   "execution_count": null,
   "metadata": {
    "scrolled": true
   },
   "outputs": [],
   "source": []
  },
  {
   "cell_type": "markdown",
   "metadata": {},
   "source": [
    "# Limits of RVs"
   ]
  },
  {
   "cell_type": "markdown",
   "metadata": {},
   "source": [
    "## Limit of Geometric Random Variables"
   ]
  },
  {
   "cell_type": "markdown",
   "metadata": {},
   "source": [
    "Let $G\\sim \\text{Geometric}(p)$ and $E\\sim\\text{Exponential}(\\lambda)$, their CDFs look like:"
   ]
  },
  {
   "cell_type": "code",
   "execution_count": 75,
   "metadata": {},
   "outputs": [
    {
     "data": {
      "image/png": "[encoded data removed]",
      "text/plain": [
       "<Figure size 576x360 with 1 Axes>"
      ]
     },
     "metadata": {
      "needs_background": "light"
     },
     "output_type": "display_data"
    }
   ],
   "source": [
    "p=0.2\n",
    "lam = 0.2\n",
    "G = stats.geom(p)\n",
    "E = stats.expon(scale=1/lam)\n",
    "x = np.linspace(-1,20,100)\n",
    "\n",
    "plt.figure(figsize=(8,5))\n",
    "plt.step(x, G.cdf(x), label='Geometric(p=0.2)')\n",
    "plt.step(x, E.cdf(x), label='Exponential($\\lambda$=0.2)')\n",
    "plt.legend(fontsize=15);"
   ]
  },
  {
   "cell_type": "markdown",
   "metadata": {},
   "source": [
    "We can write \n",
    "\n",
    "$$F_G(x) = F_E(x\\delta)$$ \n",
    "\n",
    "for all $x=1,2,\\dots$, where $\\delta$ is chosen so that $e^{-\\lambda\\delta}=1-p$.\n",
    "\n",
    "As $\\delta$ approaches zero, the exponential RV can be interpreted as the \"limit\" of the geometric RV."
   ]
  },
  {
   "cell_type": "code",
   "execution_count": 76,
   "metadata": {},
   "outputs": [
    {
     "data": {
      "text/plain": [
       "1.1157177565710485"
      ]
     },
     "execution_count": 76,
     "metadata": {},
     "output_type": "execute_result"
    }
   ],
   "source": [
    "delta = -np.log(1-p)/lam\n",
    "delta"
   ]
  },
  {
   "cell_type": "code",
   "execution_count": 77,
   "metadata": {},
   "outputs": [
    {
     "data": {
      "image/png": "[encoded data removed]",
      "text/plain": [
       "<Figure size 576x360 with 1 Axes>"
      ]
     },
     "metadata": {
      "needs_background": "light"
     },
     "output_type": "display_data"
    }
   ],
   "source": [
    "plt.figure(figsize=(8,5))\n",
    "plt.plot(x, G.cdf(x), label='$F_{Geom}(x)$')\n",
    "plt.plot(x, E.cdf(x*delta),'--', label='$F_{Exp}(x\\delta)$')\n",
    "plt.legend(fontsize=15); plt.xlabel('$x'); plt.ylabel('CDF');"
   ]
  },
  {
   "cell_type": "markdown",
   "metadata": {},
   "source": [
    "Suppose now that you toss a coin very quickly (every $\\delta$ seconds, $\\delta<<1$), a biased coin with a very small probability of Heads (equal to $p = 1 - e^{-\\lambda\\delta}$). Then, the first time to obtain a Heads (a geometric RV with parameter $p$) is a close approximation to an exponential RV with parameter $\\lambda$, in the sense that the corresponding CDFs are very close to each other, as illustrated above.\n",
    "\n",
    "* This relationship between the Geometric and Exponential RVs will play an important role in Bernoulli and Poisson Point processes (we will not cover these in this course).\n",
    "\n",
    "* A Poisson point process can model events that appear to happen at a certain rate, but completely at random (without a certain structure).\n",
    "    * Application example: Poisson processes to model lattice cellular networks."
   ]
  },
  {
   "cell_type": "markdown",
   "metadata": {},
   "source": [
    "## Limit of Binomial Random Variables"
   ]
  },
  {
   "cell_type": "markdown",
   "metadata": {},
   "source": [
    "If the limit of properly chosen Geometric RVs is an Exponential RV, what is the limit of Binomial RVs?"
   ]
  },
  {
   "cell_type": "markdown",
   "metadata": {},
   "source": [
    "Let's consider a sequence of binomial random variables with 4, 20, 40, and 200 trials. Then divide the values by 1, 5, 10 and 50, so that the values stay centered around the same range:"
   ]
  },
  {
   "cell_type": "code",
   "execution_count": null,
   "metadata": {},
   "outputs": [],
   "source": []
  },
  {
   "cell_type": "code",
   "execution_count": 78,
   "metadata": {},
   "outputs": [],
   "source": [
    "from ipywidgets import interactive"
   ]
  },
  {
   "cell_type": "code",
   "execution_count": null,
   "metadata": {},
   "outputs": [],
   "source": []
  },
  {
   "cell_type": "code",
   "execution_count": null,
   "metadata": {},
   "outputs": [],
   "source": []
  },
  {
   "cell_type": "markdown",
   "metadata": {},
   "source": [
    "What do you observe?\n",
    "\n",
    "<!-- 1. The curves become smooth and bell-shaped.\n",
    "\n",
    "2. The width of the \"bell\" gets smaller as we increase the number of Bernoulli trials. -->"
   ]
  },
  {
   "cell_type": "markdown",
   "metadata": {},
   "source": [
    "**Why?** "
   ]
  },
  {
   "cell_type": "markdown",
   "metadata": {},
   "source": [
    "Recall that the Binomial RV is the sum of independent Bernoulli RVs. Maybe we have a similar phenomena with other RVs?"
   ]
  },
  {
   "cell_type": "markdown",
   "metadata": {},
   "source": [
    "## Limit of the Sum of Uniform RVs"
   ]
  },
  {
   "cell_type": "code",
   "execution_count": null,
   "metadata": {
    "scrolled": false
   },
   "outputs": [],
   "source": []
  },
  {
   "cell_type": "code",
   "execution_count": null,
   "metadata": {},
   "outputs": [],
   "source": []
  },
  {
   "cell_type": "code",
   "execution_count": null,
   "metadata": {},
   "outputs": [],
   "source": []
  },
  {
   "cell_type": "code",
   "execution_count": null,
   "metadata": {},
   "outputs": [],
   "source": []
  },
  {
   "cell_type": "markdown",
   "metadata": {},
   "source": [
    "## Limit of the Sum of Exponential RVs"
   ]
  },
  {
   "cell_type": "code",
   "execution_count": null,
   "metadata": {},
   "outputs": [],
   "source": []
  },
  {
   "cell_type": "markdown",
   "metadata": {},
   "source": [
    "Fascinating! The average of RVs (themselves without a bell-shaped distribution) will approach a bell-shaped distribution as the number of RVs increases!\n",
    "\n",
    "This bell-shaped distribution is known as the **Gaussian random variable** and it has very important properties such as the **Central Limit Theorem (CLT)**."
   ]
  },
  {
   "cell_type": "markdown",
   "metadata": {},
   "source": [
    "___"
   ]
  },
  {
   "cell_type": "markdown",
   "metadata": {},
   "source": [
    "# Central Limit Theorem"
   ]
  },
  {
   "cell_type": "markdown",
   "metadata": {},
   "source": [
    "<div class=\"alert alert-info\">\n",
    "    <b>Central Limit Theorem</b>\n",
    "    \n",
    "The **Central Limit Theorem (CLT)** says (very roughly) that the **average** of a large number of almost *any* type of random variables will have the same type of distribution, called the **Gaussian** distribution.\n",
    "    \n",
    "</div>"
   ]
  },
  {
   "cell_type": "markdown",
   "metadata": {},
   "source": [
    "More formally, if $X_i, i=1,2,\\dots, N$, is a sequence of independent random variables with finite variance (to be defined later), then the distribution function of\n",
    "\n",
    "$$\\overline{X} = \\lim_{n\\longrightarrow\\infty} \\frac{1}{n} \\sum_{i=1}^n X_i$$"
   ]
  },
  {
   "cell_type": "markdown",
   "metadata": {},
   "source": [
    "The distribution for $\\overline{X}$ is called **Gaussian**."
   ]
  },
  {
   "cell_type": "markdown",
   "metadata": {},
   "source": [
    "The density function for a Gaussian random variable has a somewhat complicated form:\n",
    "\n",
    "$$f_X(x) = \\frac{1}{\\sqrt{2 \\pi \\sigma^2}}\\exp \\left\\{ - \\frac{(x-\\mu)^2}{2\\sigma^2} \\right\\},$$\n",
    "\n",
    "with parameters $\\mu$ and $\\sigma^2 \\ge 0$. \n",
    "\n",
    "* The parameter $\\mu$ is called the **mean** of the Gaussian distribution.\n",
    "* The parameter $\\sigma^2$ is called the **variance** of the Gaussian distribution.\n",
    "* The parameter $\\sigma$ is called the **standard deviation** of the Gaussian distribution."
   ]
  },
  {
   "cell_type": "markdown",
   "metadata": {},
   "source": [
    "* Sometimes the term **Normal** distribution is used to refer to the Gaussian random variable that has parameters $\\mu=0$ and $\\sigma^2=1$, so we will use the term Gaussian to refer to any random variable with this density function. \n",
    "\n",
    "(Also, \"Gaussian\" is more common in ECE. \"Normal\" is more common in Statistics and Math.)"
   ]
  },
  {
   "cell_type": "code",
   "execution_count": null,
   "metadata": {},
   "outputs": [],
   "source": []
  },
  {
   "cell_type": "code",
   "execution_count": 4,
   "metadata": {},
   "outputs": [],
   "source": [
    "# Normal aka G(0,1)\n",
    "\n",
    "\n",
    "# Gaussian(10,3)\n",
    "\n",
    "\n",
    "\n",
    "# Gaussian(-5,0.3)\n",
    "\n",
    "\n"
   ]
  },
  {
   "cell_type": "code",
   "execution_count": null,
   "metadata": {},
   "outputs": [],
   "source": []
  },
  {
   "cell_type": "code",
   "execution_count": null,
   "metadata": {
    "scrolled": true
   },
   "outputs": [],
   "source": []
  },
  {
   "cell_type": "markdown",
   "metadata": {},
   "source": [
    "___"
   ]
  },
  {
   "cell_type": "markdown",
   "metadata": {},
   "source": [
    "# Properties of Probability Density Functions (PDFs)"
   ]
  },
  {
   "cell_type": "markdown",
   "metadata": {},
   "source": [
    "### Property 1\n",
    "\n",
    "$$F_X(x) = \\int_{-\\infty}^x f_X(t)~dt$$\n",
    "\n",
    "**Proof:** From the Fundamental Theorem of Calculus."
   ]
  },
  {
   "cell_type": "markdown",
   "metadata": {},
   "source": [
    "### Property 2\n",
    "\n",
    "$$f_X(x) \\geq 0, -\\infty < x < \\infty$$\n",
    "\n",
    "**Proof:** $F_X(x)$ is nondecreasing."
   ]
  },
  {
   "cell_type": "markdown",
   "metadata": {},
   "source": [
    "### Property 3\n",
    "\n",
    "$$\\int_{-\\infty}^{\\infty} f_X(t)dt = 1$$\n",
    "\n",
    "**Proof:** $\\int_{-\\infty}^{\\infty} f_X(t)dt = F_X(\\infty) = 1$ (from above)"
   ]
  },
  {
   "cell_type": "markdown",
   "metadata": {},
   "source": [
    "### Property 4\n",
    "\n",
    "$$P(a < X \\leq b) = \\int_a^b f_X(x)~dx$ where $a\\leq b$$\n",
    "\n",
    "**Proof:** \n",
    "\n",
    "\\begin{align*}\n",
    "P(a < X \\leq b) &= F_X(b) - F_X(a) \\\\\n",
    "&= \\int_{-\\infty}^b f_X(x)~dx - \\int_{-\\infty}^a f_X(x)~dx \\\\\n",
    "&= \\int_a^b f_X(x)~dx\n",
    "\\end{align*}"
   ]
  },
  {
   "cell_type": "markdown",
   "metadata": {},
   "source": [
    "### Property 5\n",
    "\n",
    "If $g(x)$ is a nonnegative piecewise continuous function with finite integral\n",
    "\n",
    "$$\\int_{-\\infty}^{\\infty} g(x)~dx = c, -\\infty<x<\\infty$$\n",
    "\n",
    "then $f_X(x) = \\frac{g(x)}{c}$ is a valid pdf.\n",
    "\n",
    "**Proof:** omitted."
   ]
  },
  {
   "cell_type": "markdown",
   "metadata": {},
   "source": [
    "* Note that if $f_X(x)$ exists at $x$, then $F_X(x)$ is continuous at $x$ and thus\n",
    "\n",
    "\\begin{align*}\n",
    "P(X = x) = F_X(x) - F_X(x^-) = 0\n",
    "\\end{align*}\n",
    "\n",
    "* Recall that this does not mean that $x$ never occurs, but that the occurrence is extremely unlikely."
   ]
  },
  {
   "cell_type": "markdown",
   "metadata": {},
   "source": [
    "___"
   ]
  },
  {
   "cell_type": "markdown",
   "metadata": {},
   "source": [
    "# Gaussian Random Variable\n",
    "\n",
    "The CDF of a Gaussian RV is given by\n",
    "\n",
    "\\begin{align*}\n",
    "F_X(x) &= P(X \\leq x) \\\\\n",
    "&= \\int_{-\\infty}^x \\frac{1}{\\sqrt{2\\pi\\sigma^2}}\\exp{\\left\\{-\\frac{(t-\\mu)^2}{2\\sigma^2}\\right\\}} dt\n",
    "\\end{align*}\n",
    "\n",
    "which cannot be evaluated in closed form.\n",
    "\n",
    "Instead, we tabulate distribution functions for a normalized Gaussian variable with $\\mu=0$ and $\\sigma^2=1$.\n",
    "\n",
    "* This is called the **Normal distribution**, and its CDF is\n",
    "\n",
    "\\begin{align*}\n",
    "\\Phi(x) = \\int_{-\\infty}^x \\frac{1}{\\sqrt{2\\pi}}\\exp{\\left\\{-\\frac{t^2}{2}\\right\\}} dt\n",
    "\\end{align*}"
   ]
  },
  {
   "cell_type": "markdown",
   "metadata": {},
   "source": [
    "## $\\operatorname{Q}$-Function\n",
    "\n",
    "When working with Gaussian probabilities analytically, we express these probabilities in terms of standard functions:\n",
    "* $\\Phi (x)$ is the CDF of a Gaussian(0,1) random variable\n",
    "* $\\operatorname{Q}(x)=1- \\Phi(x)$ is the survival function of a Gaussian(0,1) random variable\n",
    "\n",
    "Because $\\Phi(x) + \\operatorname{Q}(x) = 1$, it is sufficient to tabulate one of these. **See the Q-Function** table pushed to today's lecture materials."
   ]
  },
  {
   "cell_type": "markdown",
   "metadata": {},
   "source": [
    "From above,\n",
    "\\begin{align*}\n",
    "\\Phi(x)= \\int_{-\\infty}^{x} \\frac{1}{\\sqrt{2 \\pi}} \\exp \\left\\{ - \\frac{t^2}{2} \\right\\}dt\n",
    "\\end{align*}\n",
    "    \n",
    "and \n",
    "\n",
    "\\begin{align*}\n",
    "\\operatorname{Q}(x)= \\int_{x}^{\\infty} \\frac{1}{\\sqrt{2 \\pi}} \\exp \\left\\{ - \\frac{~t^2}{~2~} \\right\\}dt\n",
    "\\end{align*}"
   ]
  },
  {
   "cell_type": "markdown",
   "metadata": {},
   "source": [
    "The CDF and survival function for a Gaussian$(\\mu,\\sigma^2)$ random variable are\n",
    "\\begin{align*}\n",
    "F_X(x) = \\Phi \\left(\\frac{x-\\mu}{\\sigma} \\right)\n",
    "\\end{align*}\n",
    "\n",
    "and\n",
    "\n",
    "\\begin{align*}\n",
    "S_X(x) = \\operatorname{Q} \\left(\\frac{x-\\mu}{\\sigma} \\right)\n",
    "\\end{align*}"
   ]
  },
  {
   "cell_type": "markdown",
   "metadata": {},
   "source": [
    "<div class=\"alert alert-danger\">\n",
    "    Note that the denominator above is $\\sigma$, not $\\sigma^2$. Many students use the wrong value when solving problems!\n",
    "</div>"
   ]
  },
  {
   "cell_type": "markdown",
   "metadata": {},
   "source": [
    "* To find the probability of some interval using the $Q$-function, it is easiest to rewrite the probability:\n",
    "\n",
    "\\begin{align*}\n",
    "P(a < X \\leq b) &= P(X > a) - P(X > b) \\\\\n",
    "&= Q\\left(\\frac{a-\\mu}{\\sigma}\\right) - Q\\left(\\frac{b-\\mu}{\\sigma}\\right)\n",
    "\\end{align*}\n",
    "\n",
    "* In general, Gaussian probabilities can always be expressed in terms of \"tail\" probabilities"
   ]
  },
  {
   "cell_type": "markdown",
   "metadata": {},
   "source": [
    "## More on Computing Gaussian Tail Probabilities\n",
    "\n",
    "Any Gaussian probabilities can be decomposed in terms of Gaussian tail probabilities. There are 2 cases of the tail probabilities:\n",
    "\n",
    "* **Case 1:** $P(X \\geq a)$, where $a>\\mu$\n",
    "\n",
    "\\begin{align*}\n",
    "P(X \\geq a) = Q\\left(\\frac{a-\\mu}{\\sigma}\\right)\n",
    "\\end{align*}"
   ]
  },
  {
   "cell_type": "code",
   "execution_count": 5,
   "metadata": {},
   "outputs": [
    {
     "data": {
      "image/png": "[encoded data removed]",
      "text/plain": [
       "<IPython.core.display.Image object>"
      ]
     },
     "execution_count": 5,
     "metadata": {
      "image/png": {
       "width": 400
      }
     },
     "output_type": "execute_result"
    }
   ],
   "source": [
    "from IPython.display import Image\n",
    "Image('figures/probXlargerA.png', width=400)"
   ]
  },
  {
   "cell_type": "markdown",
   "metadata": {},
   "source": [
    "* **Case 2:** $P(X \\leq b)$, where $b<\\mu$\n",
    "\n",
    "By symmetry:\n",
    "\n",
    "\\begin{align*}\n",
    "P(X \\geq \\mu + (\\mu - b)) = P(X \\geq 2\\mu - b) = Q\\left(\\frac{2\\mu - b - \\mu}{\\sigma}\\right) = Q\\left(\\frac{\\mu-b}{\\sigma}\\right)\n",
    "\\end{align*}"
   ]
  },
  {
   "cell_type": "code",
   "execution_count": 6,
   "metadata": {},
   "outputs": [
    {
     "data": {
      "image/png": "[encoded data removed]",
      "text/plain": [
       "<IPython.core.display.Image object>"
      ]
     },
     "execution_count": 6,
     "metadata": {
      "image/png": {
       "width": 400
      }
     },
     "output_type": "execute_result"
    }
   ],
   "source": [
    "Image('figures/probXsmallerB.png', width=400)"
   ]
  },
  {
   "cell_type": "markdown",
   "metadata": {},
   "source": [
    "___"
   ]
  },
  {
   "cell_type": "markdown",
   "metadata": {},
   "source": [
    "___"
   ]
  },
  {
   "cell_type": "markdown",
   "metadata": {},
   "source": [
    "# Example: Grading on a curve\n",
    "\n",
    "A professor's classroom requests that she \"grades on a curve\". The professor sees that the class grades can be modeled using a Gaussian distribution with parameters $\\mu$ and $\\sigma^2$.\n",
    "\n",
    "Let $X$ represent a randomly chosen student's grade."
   ]
  },
  {
   "cell_type": "markdown",
   "metadata": {},
   "source": [
    "**(a) What is the probability that the student's grade is above $\\mu$?**"
   ]
  },
  {
   "cell_type": "markdown",
   "metadata": {},
   "source": [
    "<!-- \\begin{align*}\n",
    "P(X > \\mu) = Q\\left(\\frac{\\mu - \\mu}{\\sigma}\\right) = Q\\left(\\frac{0}{\\sigma}\\right) = \\frac{1}{2}\n",
    "\\end{align*} -->"
   ]
  },
  {
   "cell_type": "markdown",
   "metadata": {},
   "source": [
    "**(b) The professor decides to use the following grading strategy:**\n",
    "\n",
    "* If the grades are more than $\\sigma$ above the mean, assign an A\n",
    "\n",
    "* If the grades are within $\\sigma$ of the mean ($\\mu$), assign a B\n",
    "\n",
    "* If the grades are more than $\\sigma$ below the mean, but less than $2\\sigma$ below the mean, assign C\n",
    "\n",
    "* If the grades are more than $2\\sigma$ below the mean, but less than $3\\sigma$ below the mean, assign D\n",
    "\n",
    "* If the grades are more than $3\\sigma$ below the mean, assign E\n",
    "\n",
    "Determine the probability that a randomly chosen student gets each grade."
   ]
  },
  {
   "cell_type": "code",
   "execution_count": null,
   "metadata": {},
   "outputs": [],
   "source": []
  },
  {
   "cell_type": "markdown",
   "metadata": {},
   "source": [
    "**(c) Suppose the threshold to get an A is $k\\sigma$ above the mean, what value of $k$ is needed for 40% of the class to get an A?**"
   ]
  },
  {
   "cell_type": "markdown",
   "metadata": {},
   "source": [
    "# Expected Value"
   ]
  },
  {
   "cell_type": "markdown",
   "metadata": {},
   "source": [
    "Consider again a set of observations $x_1, x_2, \\dots, x_N$.\n",
    "\n",
    "Then the **average** of the data is \n",
    "\n",
    "\\begin{align*}\n",
    "\\overline{x} = \\frac{1}{N} \\sum_{i=1}^N x_i\n",
    "\\end{align*}\n",
    "\n",
    "* We would like to define a similar notion for a random variable $X$, but take the average over the *ensemble* of potential values of $X$.\n",
    "\n",
    "* This value is the *expected value*, *ensemble mean*, or simply *mean* of $X$.\n",
    "\n",
    "* We can use *relative frequency* to connect the two."
   ]
  },
  {
   "cell_type": "markdown",
   "metadata": {},
   "source": [
    "Suppose that $X=\\{x_i\\}_{i=1}^n$ are random data that take values from $S_k=\\{a_1,a_2,\\dots,a_k\\}$, where $k<\\infty$.\n",
    "\n",
    "\\begin{align*}\n",
    "\\overline{X} = \\frac{1}{N} \\sum_{i=1}^N x_i\n",
    "\\end{align*}\n",
    "\n",
    "Let $n_j \\equiv$ \\# of times $a_i$ occurs, then \n",
    "\n",
    "\\begin{align*}\n",
    "\\overline{X} = \\frac{1}{N} \\sum_{j=1}^N a_j \\cdot n_j = \\sum_{j=1}^N a_j \\cdot \\frac{n_j}{N}\n",
    "\\end{align*}\n",
    "\n",
    "If our experiment possesses statistical regularity,\n",
    "\n",
    "\\begin{align*}\n",
    "\\lim_{n\\rightarrow\\infty} \\frac{n_j}{N} \\rightarrow p_j = P(a_j)\n",
    "\\end{align*}\n",
    "\n",
    "Therefore,\n",
    "\n",
    "\\begin{align*}\n",
    "\\lim_{n\\rightarrow\\infty} \\overline{X} = \\sum_{j=1}^N a_j \\cdot p_j \\triangleq E[X]\n",
    "\\end{align*}"
   ]
  },
  {
   "cell_type": "markdown",
   "metadata": {},
   "source": [
    "<div class=\"alert alert-info\">\n",
    "    <b>Expected Value</b>\n",
    "    \n",
    "The **expected value** or **mean** of a random variable $X$ is\n",
    "    \n",
    "\\begin{align*}\n",
    "\\mu_X= E[X] = \\sum_x x p_X(x),\n",
    "\\end{align*}\n",
    "    \n",
    "if $X$ is a **discrete random variable**, and is defined as\n",
    "    \n",
    "\\begin{align*}\n",
    "\\mu_X = E[X] = \\int_{-\\infty}^{\\infty} xf_X(x)~dx,\n",
    "\\end{align*}\n",
    "    \n",
    "if $X$ is a **continuous random variable**.\n",
    "\n",
    "**Note:** In some special cases, we would not define the expected value because it is of the form $-\\infty$, $+\\infty$. We won't cover those in this class.\n",
    "</div>"
   ]
  },
  {
   "cell_type": "markdown",
   "metadata": {},
   "source": [
    "## Why do we care about the mean?"
   ]
  },
  {
   "cell_type": "markdown",
   "metadata": {},
   "source": [
    "In a repeated experiment, the limit of the average value is the mean\n",
    "* In fact, we will show that we can determine a limit on the number of times the experiment must be repeated to ensure that the average is within a range around the mean with a specified probability (Chebyshev's inequality, covered later)\n",
    "    \n",
    "If we wish to use a constant value to estimate a random variable, then the mean is the value that minimizes the mean-square error.\n",
    "\n",
    "Note that $E[X]$ may be infinite."
   ]
  },
  {
   "cell_type": "markdown",
   "metadata": {},
   "source": [
    "**<font color=blue>Example 1:</font>** Rolling a fair 6-sided die."
   ]
  },
  {
   "cell_type": "markdown",
   "metadata": {},
   "source": [
    "<!-- Let $X$ be the number of top face of die.\n",
    "\n",
    "\\begin{align*}\n",
    "E[X] &= \\sum_{i=1}^6 i \\times P(X=i)\\\\\n",
    "&= \\sum_{i=1}^6 i \\times\\frac{1}{6}\\\\\n",
    "&= \\frac{21}{6}\\\\\n",
    "&= 3.5\n",
    "\\end{align*} -->"
   ]
  },
  {
   "cell_type": "markdown",
   "metadata": {},
   "source": [
    "**<font color=blue>Example 2:</font>** Bernoulli RV."
   ]
  },
  {
   "cell_type": "markdown",
   "metadata": {},
   "source": [
    "<!-- Let $X \\sim \\text{Bernoulli}(p)$, then $p_X(x) = \\begin{cases} p & x=1\\\\ 1-p & x=0 \\\\ 0 & \\text{o.w.}  \\end{cases}$\n",
    "\n",
    "\\begin{align*}\n",
    "E[X] = (0)(1-p) + (1)(p) = p\n",
    "\\end{align*} -->"
   ]
  },
  {
   "cell_type": "markdown",
   "metadata": {},
   "source": [
    "**<font color=blue>Example 3:</font>** What is the expected value of the random variable $X\\sim U(1,6)$?"
   ]
  },
  {
   "cell_type": "code",
   "execution_count": null,
   "metadata": {},
   "outputs": [],
   "source": []
  },
  {
   "cell_type": "markdown",
   "metadata": {},
   "source": [
    "Analytically, we have:\n",
    "\n",
    "\\begin{align*}\n",
    "E[X] = \\int_{-\\infty}^{\\infty} uf_U(u)~du = \\int_1^6 u\\frac{1}{6-1}~du = \\frac{1}{10}u^2 \\Big|_1^6 = 3.5\n",
    "\\end{align*}"
   ]
  },
  {
   "cell_type": "markdown",
   "metadata": {},
   "source": [
    "**<font color=blue>Example 2:</font>** What is the expected value of the random variable $X\\sim \\text{Exp}(\\lambda)$?"
   ]
  },
  {
   "cell_type": "code",
   "execution_count": null,
   "metadata": {},
   "outputs": [],
   "source": []
  },
  {
   "cell_type": "code",
   "execution_count": null,
   "metadata": {},
   "outputs": [],
   "source": []
  },
  {
   "cell_type": "markdown",
   "metadata": {},
   "source": [
    "Analytically:\n",
    "\n",
    "\\begin{align*}\n",
    "E[X] = \\int_0^{\\infty} x \\lambda e^{-\\lambda x}~dx =\\lambda \\int_0^{\\infty} x e^{-\\lambda x}~dx\n",
    "\\end{align*}\n",
    "\n",
    "Need to apply integral by parts."
   ]
  },
  {
   "cell_type": "code",
   "execution_count": null,
   "metadata": {},
   "outputs": [],
   "source": []
  },
  {
   "cell_type": "markdown",
   "metadata": {},
   "source": [
    "# Important Properties of the Expected Value\n",
    "\n",
    "## Property 1 - Linearity\n",
    "\n",
    "Expected value is a **linear operator**. If $X$ and $Y$ are random variables, and $a$ and $b$ are arbitrary constants, then\n",
    "\n",
    "\\begin{align*}\n",
    "E[aX + bY] = aE[X] + bE[Y]\n",
    "\\end{align*}\n",
    "\n",
    "*Note that this does not required that $X$ and $Y$ be independent.*"
   ]
  },
  {
   "cell_type": "markdown",
   "metadata": {},
   "source": [
    "___"
   ]
  },
  {
   "cell_type": "markdown",
   "metadata": {},
   "source": [
    "**<font color=blue>Example 4:</font>** Expected Value of a Binomial RV."
   ]
  },
  {
   "cell_type": "markdown",
   "metadata": {},
   "source": [
    "Let $B_i$, $i=1,2,\\cdots, N$ be a sequence of independent Bernoulli random variables with common parameter $p$. Then\n",
    "\n",
    "\\begin{align*}\n",
    "X=\\sum_{i=1}^N B_i\n",
    "\\end{align*}\n",
    "\n",
    "is a $\\text{Binomial}(N,p)$ random variable."
   ]
  },
  {
   "cell_type": "markdown",
   "metadata": {},
   "source": [
    "Using the linearity property,\n",
    "\n",
    "\\begin{align*}\n",
    "E[X] &= E\\left[ \\sum_{i=1}^N B_i\\right]\\\\\n",
    "&= \\sum_{i=1}^N E[B_i]\\\\\n",
    "&= \\sum_{i=1}^N p\\\\\n",
    "&= Np\n",
    "\\end{align*}"
   ]
  },
  {
   "cell_type": "markdown",
   "metadata": {},
   "source": [
    "We can also derive the same result from the PMF of a Binomial RV, but it is *way* more complicated:\n",
    "\n",
    "\\begin{align*}\n",
    "E[X] = \\sum_{n=0}^N n\\binom{N}{n} p^n q^{N-n}\n",
    "\\end{align*}\n",
    "\n",
    "(Left as exercise.)"
   ]
  },
  {
   "cell_type": "markdown",
   "metadata": {},
   "source": [
    "**<font color=blue>Example 5:</font>** What is the expected of the following continuous and nonuniform density\n",
    "\n",
    "\\begin{align*}\n",
    "f_X(x) = \\begin{cases} \\frac{2}{a^2}x & 0\\leq x\\leq a\\\\0 &\\text{otherwise}\\end{cases}\n",
    "\\end{align*}"
   ]
  },
  {
   "cell_type": "code",
   "execution_count": null,
   "metadata": {},
   "outputs": [],
   "source": []
  },
  {
   "cell_type": "code",
   "execution_count": null,
   "metadata": {},
   "outputs": [],
   "source": []
  },
  {
   "cell_type": "code",
   "execution_count": null,
   "metadata": {},
   "outputs": [],
   "source": [
    "# PDF over its range should integrate to 1\n",
    "\n"
   ]
  },
  {
   "cell_type": "code",
   "execution_count": null,
   "metadata": {},
   "outputs": [],
   "source": [
    "# Expected Value\n",
    "\n"
   ]
  },
  {
   "cell_type": "code",
   "execution_count": null,
   "metadata": {},
   "outputs": [],
   "source": []
  },
  {
   "cell_type": "code",
   "execution_count": null,
   "metadata": {},
   "outputs": [],
   "source": [
    "# CDF\n",
    "\n"
   ]
  },
  {
   "cell_type": "code",
   "execution_count": null,
   "metadata": {},
   "outputs": [],
   "source": [
    "# Find the point x such that FX(x)=1/2 <=> FX(x)-1/2=0\n",
    "\n"
   ]
  },
  {
   "cell_type": "code",
   "execution_count": null,
   "metadata": {},
   "outputs": [],
   "source": [
    "# Because x can only take positive values, then median value is:\n",
    "\n"
   ]
  },
  {
   "cell_type": "markdown",
   "metadata": {},
   "source": [
    "___"
   ]
  },
  {
   "cell_type": "markdown",
   "metadata": {},
   "source": [
    "## Property 2 - Expected Value of a Function\n",
    "\n",
    "If $Y=g(X)$, it is not necessary to compute the PDF or CDF of $Y$ to find its expected value. We can find it using $X$:\n",
    "\n",
    "\\begin{align*}\n",
    "E[Y] = \\int_{-\\infty}^{\\infty} g(x) f_X(x)~dx\n",
    "\\end{align*}\n",
    "\n",
    "This is sometimes known as the **Law of the Unconscious Statistician (LOTUS)**."
   ]
  },
  {
   "cell_type": "markdown",
   "metadata": {},
   "source": [
    "## Property 3 - Expected Value of a Scalar\n",
    "\n",
    "The expected value of a scalar constant $c$ is $E[c] = c$.\n",
    "\n",
    "Let $g(x) = c$, then:\n",
    "\n",
    "\\begin{align*}\n",
    "E[c] &= \\int_{-\\infty}^{\\infty} c f_X(x)~dx\\\\\n",
    "&= c \\int_{-\\infty}^{\\infty} f_X(x)~dx\\\\\n",
    "&= c\n",
    "\\end{align*}"
   ]
  },
  {
   "cell_type": "markdown",
   "metadata": {},
   "source": [
    "* Note that $E[f(X)] \\neq f(E[X])$."
   ]
  },
  {
   "cell_type": "markdown",
   "metadata": {},
   "source": [
    "___"
   ]
  },
  {
   "cell_type": "markdown",
   "metadata": {},
   "source": [
    "**<font color=blue>Example 6:</font>** Recall that if $x_i$ are samples drawn from a random variable $X$, then\n",
    "\n",
    "\\begin{align*}\n",
    "\\lim_{N\\rightarrow\\infty} \\frac{1}{N} \\sum_{i=1}^N x_i = E[X]\n",
    "\\end{align*}\n",
    "\n",
    "This is the result from the **Central Limit Theorem (CLT)**.\n",
    "\n",
    "Let's create a Uniform random variable object using ```scipy.stats```. Draw 10,000 sample values from it, and use the sample values to estimate $(E[U])^2$ and $E[U^2]$."
   ]
  },
  {
   "cell_type": "code",
   "execution_count": null,
   "metadata": {},
   "outputs": [],
   "source": []
  },
  {
   "cell_type": "code",
   "execution_count": null,
   "metadata": {},
   "outputs": [],
   "source": []
  },
  {
   "cell_type": "code",
   "execution_count": null,
   "metadata": {},
   "outputs": [],
   "source": []
  },
  {
   "cell_type": "code",
   "execution_count": null,
   "metadata": {},
   "outputs": [],
   "source": []
  },
  {
   "cell_type": "code",
   "execution_count": null,
   "metadata": {},
   "outputs": [],
   "source": []
  },
  {
   "cell_type": "code",
   "execution_count": null,
   "metadata": {},
   "outputs": [],
   "source": []
  },
  {
   "cell_type": "markdown",
   "metadata": {},
   "source": [
    "___"
   ]
  },
  {
   "cell_type": "markdown",
   "metadata": {},
   "source": [
    "# Moments of a Random Variable\n",
    "\n",
    "<div class=\"alert alert-info\">\n",
    "    <b>Moments</b>\n",
    "    \n",
    "The **moments** of a random variable (or of its distribution) are *expected values of powers* or related functions of the random variable.\n",
    "\n",
    "The $n$-th moment of a **continuous** RV $X$ is \n",
    "\n",
    "\\begin{align*}\n",
    "E[X^n] = \\int_x t^n f_X(t)~dt\n",
    "\\end{align*}\n",
    "\n",
    "The $n$-th moment of a **discrete** RV $X$ is \n",
    "    \n",
    "\\begin{align*}\n",
    "E[X^n] = \\sum_x x^n p_X(x)\n",
    "\\end{align*}\n",
    "\n",
    "* In particular, the first moment is the *mean*, $\\mu_X = E[X]$.\n",
    "</div>"
   ]
  },
  {
   "cell_type": "markdown",
   "metadata": {},
   "source": [
    "<div class=\"alert alert-info\">\n",
    "    <b>Central Moments</b>\n",
    "    \n",
    "The **central moments** of a random variable (or of its distribution) are *expected values of mean-centered powers* or related functions of the random variable.\n",
    "\n",
    "The $n$-th central moment of RV $X$ is $E[(X - \\mu_X)^n]$, in general, $E[(X - E[X])^n]$.\n",
    "    \n",
    "If $X$ is a **continuous** RV, the $n$-th central moment is\n",
    "    \n",
    "\\begin{align*}\n",
    "E[(X - \\mu_X)^n] = \\int_x (t-\\mu_X)^n f_X(t)~dt\n",
    "\\end{align*}\n",
    "    \n",
    "If $X$ is a **discrete** RV, the $n$-th central moment is\n",
    "    \n",
    "\\begin{align*}\n",
    "E[(X - \\mu_X)^n] = \\sum_x (x-\\mu_X)^n p_X(x)\n",
    "\\end{align*}\n",
    "</div>"
   ]
  },
  {
   "cell_type": "markdown",
   "metadata": {},
   "source": [
    "* Moments of a random variable are expected values of the random variable raised to some power.\n",
    "\n",
    "* For a *central moment*, the mean is subtracted from the random variable before it is raised to a power."
   ]
  },
  {
   "cell_type": "markdown",
   "metadata": {},
   "source": [
    "Because different powers spread the values of the random variable in different ways, **moments can provide additional information about a random variable other than the mean value**:\n",
    "\n",
    "In mathematics, a moment is a specific quantitative measure of the shape of a function. The most important ones are: \n",
    "\n",
    "1. **Mean**, the 1st moment\n",
    "\n",
    "2. **Variance**, the 2nd central moment \n",
    "\n",
    "3. **Skewness**, the 3rd central moment \n",
    "\n",
    "4. **kurtosis**, the 4th central moment"
   ]
  },
  {
   "cell_type": "markdown",
   "metadata": {},
   "source": [
    "**Variance is the second central moment** and provides a measure of how much the probability density or mass of random variable is spread away from the mean. We define it as:\n",
    "\n",
    "\\begin{align*}\n",
    "Var[X] &= E[(X-\\mu_X)^2]\\\\\n",
    "&= E[X^2 - 2\\mu_X X + \\mu_X^2] \\\\\n",
    "&= E[X^2] - 2\\mu_XE[X] + \\mu_X^2 \\\\\n",
    "&= E[X^2] - 2E[X]E[X] + (E[X])^2 \\\\\n",
    "&= E[X^2] - (E[X])^2\n",
    "\\end{align*}\n",
    "\n",
    "So,\n",
    "\n",
    "\\begin{align*}\n",
    "Var[X] = E[X^2] - (E[X])^2\n",
    "\\end{align*}\n",
    "\n",
    "This latter formula is usually a more convenient way to find the variance.\n",
    "\n",
    "* The variance of a Gaussian random variable is the parameter $\\sigma^2$ (you can get it through integration by parts or some clever manipulation)."
   ]
  },
  {
   "cell_type": "markdown",
   "metadata": {},
   "source": [
    "___"
   ]
  },
  {
   "cell_type": "markdown",
   "metadata": {},
   "source": [
    "## Properties of Variance\n",
    "\n",
    "Let $X$ be a random variable and $b$ and $c$ constant values.\n",
    "\n",
    "1. $Var[X] = E[X^2] - (E[X])^2 \\geq 0$"
   ]
  },
  {
   "cell_type": "markdown",
   "metadata": {},
   "source": [
    "2. $Var[c] = 0$"
   ]
  },
  {
   "cell_type": "markdown",
   "metadata": {},
   "source": [
    "3. $Var[X - c] = E[X^2] - (E[X])^2$"
   ]
  },
  {
   "cell_type": "markdown",
   "metadata": {},
   "source": [
    "4. $Var[cX] = c^2 Var[X]$"
   ]
  },
  {
   "cell_type": "markdown",
   "metadata": {},
   "source": [
    "5. $Var[cX + b] = c^2 Var[X]$"
   ]
  },
  {
   "cell_type": "markdown",
   "metadata": {},
   "source": [
    "___"
   ]
  },
  {
   "cell_type": "markdown",
   "metadata": {},
   "source": [
    "We can compute the most common moments of a random variable using the ```stats``` module:"
   ]
  },
  {
   "cell_type": "code",
   "execution_count": null,
   "metadata": {},
   "outputs": [],
   "source": [
    "# Moments of G(mu=0,var=1)\n",
    "\n",
    "\n"
   ]
  },
  {
   "cell_type": "code",
   "execution_count": null,
   "metadata": {},
   "outputs": [],
   "source": [
    "x = np.linspace(-5,5,100)\n",
    "G = stats.norm(loc=0,scale=1) # G(0,1)\n",
    "\n",
    "plt.plot(x,G.pdf(x))\n",
    "plt.plot(G.stats('m'), G.pdf(G.stats('m')), '*r', markersize=10, label='Mean')\n",
    "plt.plot(G.median(), G.pdf(G.median()), '*g', markersize=10, label='Median')\n",
    "plt.legend(fontsize=15)\n",
    "plt.title('$X\\sim G(\\mu=0,\\sigma^2=1)$',size=15)\n",
    "plt.xlabel('x',size=15)\n",
    "plt.ylabel('$f_X(x)$',size=15);"
   ]
  },
  {
   "cell_type": "code",
   "execution_count": null,
   "metadata": {},
   "outputs": [],
   "source": [
    "# Moments of E(lambda=0.5)\n",
    "\n",
    "\n"
   ]
  },
  {
   "cell_type": "code",
   "execution_count": null,
   "metadata": {},
   "outputs": [],
   "source": [
    "x = np.linspace(-1,12,100)\n",
    "plt.plot(x,E.pdf(x))\n",
    "plt.plot(E.stats('m'), E.pdf(E.stats('m')), '*r', markersize=10, label='Mean')\n",
    "plt.plot(E.median(), E.pdf(E.median()), '*g', markersize=10, label='Median')\n",
    "plt.legend(fontsize=15)\n",
    "plt.title('$X\\sim Exponential(\\lambda=1/2)$',size=15)\n",
    "plt.xlabel('x',size=15)\n",
    "plt.ylabel('$f_X(x)$',size=15);"
   ]
  },
  {
   "cell_type": "code",
   "execution_count": null,
   "metadata": {},
   "outputs": [],
   "source": [
    "# Moments of Binomial(15,0.9)\n",
    "\n",
    "\n"
   ]
  },
  {
   "cell_type": "code",
   "execution_count": null,
   "metadata": {},
   "outputs": [],
   "source": [
    "x = range(19)\n",
    "plt.stem(x,Bn.pmf(x),'k',label='PMF')\n",
    "plt.plot(x, Bn.pmf(x))\n",
    "plt.plot(Bn.stats('m'), 0.3, '*r', markersize=10, label='Mean')\n",
    "plt.plot(Bn.median(), Bn.pmf(Bn.median()), '*g', markersize=10, label='Median')\n",
    "plt.legend(fontsize=15)\n",
    "plt.title('$X\\sim Binomial(N=15,p=0.9)$',size=15)\n",
    "plt.xlabel('x',size=15)\n",
    "plt.ylabel('$p_X(x)$',size=15);"
   ]
  },
  {
   "cell_type": "code",
   "execution_count": null,
   "metadata": {},
   "outputs": [],
   "source": []
  },
  {
   "cell_type": "markdown",
   "metadata": {},
   "source": [
    "We can compute the most common moments of a random variable using the ```stats``` module:"
   ]
  },
  {
   "cell_type": "code",
   "execution_count": null,
   "metadata": {},
   "outputs": [],
   "source": []
  },
  {
   "cell_type": "code",
   "execution_count": null,
   "metadata": {},
   "outputs": [],
   "source": [
    "G = stats.norm(loc=0,scale=1)\n",
    "x = np.linspace(-5,5,100)\n",
    "plt.plot(x,G.pdf(x))\n",
    "\n",
    "####\n",
    "\n",
    "plt.legend(fontsize=15)\n",
    "plt.title('$X\\sim G(\\mu=0,\\sigma^2=1)$',size=15)\n",
    "plt.xlabel('x',size=15)\n",
    "plt.ylabel('$f_X(x)$',size=15);"
   ]
  },
  {
   "cell_type": "code",
   "execution_count": null,
   "metadata": {},
   "outputs": [],
   "source": []
  },
  {
   "cell_type": "code",
   "execution_count": null,
   "metadata": {},
   "outputs": [],
   "source": [
    "x = np.linspace(-1,12,100)\n",
    "plt.plot(x,E.pdf(x))\n",
    "plt.plot(E.stats('m'), E.pdf(E.stats('m')), '*r', markersize=10, label='Mean')\n",
    "plt.plot(E.median(), E.pdf(E.median()), '*g', markersize=10, label='Median')\n",
    "plt.legend(fontsize=15)\n",
    "plt.title('$X\\sim Exponential(\\lambda=1/2)$',size=15)\n",
    "plt.xlabel('x',size=15)\n",
    "plt.ylabel('$f_X(x)$',size=15);"
   ]
  },
  {
   "cell_type": "code",
   "execution_count": null,
   "metadata": {},
   "outputs": [],
   "source": []
  },
  {
   "cell_type": "code",
   "execution_count": null,
   "metadata": {},
   "outputs": [],
   "source": [
    "x = range(19)\n",
    "plt.stem(x,Bn.pmf(x),'k',label='PMF')\n",
    "plt.plot(x, Bn.pmf(x))\n",
    "plt.plot(Bn.stats('m'), 0.3, '*r', markersize=10, label='Mean')\n",
    "plt.plot(Bn.median(), Bn.pmf(Bn.median()), '*g', markersize=10, label='Median')\n",
    "plt.legend(fontsize=15)\n",
    "plt.title('$X\\sim Binomial(N=15,p=0.9)$',size=15)\n",
    "plt.xlabel('x',size=15)\n",
    "plt.ylabel('$p_X(x)$',size=15);"
   ]
  },
  {
   "cell_type": "markdown",
   "metadata": {},
   "source": [
    "___"
   ]
  },
  {
   "cell_type": "markdown",
   "metadata": {},
   "source": [
    "# Distribution of Binary Hypothesis"
   ]
  },
  {
   "cell_type": "markdown",
   "metadata": {},
   "source": [
    "In binary hypothesis testing, we built statistics that access a specific moment of the distribution (mean-difference, median-difference, etc.). We can also consider a full distribution for our hypotheses.\n",
    "\n",
    "That is, we will be conditioning random variables depending on which hypothesis is true: $f_X(x|H_0)$ or $f_X(x|H_1)$."
   ]
  },
  {
   "cell_type": "markdown",
   "metadata": {
    "slideshow": {
     "slide_type": "subslide"
    }
   },
   "source": [
    "In general, there are multiple ways in which random variables can depend on events or on other random variables.\n",
    "\n",
    "We consider the same type as above: there is dependence between a random variable and some event, such that the distribution of the random variable is known if the event is known."
   ]
  },
  {
   "cell_type": "markdown",
   "metadata": {
    "slideshow": {
     "slide_type": "slide"
    }
   },
   "source": [
    "### <font color=blue>Motivating Case Study: Binary Communications</font>\n",
    "\n",
    "In a binary communication system, the received signal is a noisy version of the transmitted signal. \n",
    "\n",
    "In the presence of thermal noise, the\n",
    "  received signal can be modeled as $X= s_i + N$, where: \n",
    "* $s_i \\in \\{-1, 1\\}$ depends on which signal is transmitted (1 or 0), and\n",
    "* $N$ is a Gaussian random variable with mean 0 and variance $\\sigma^2 $, which determines the signal-to-noise ratio"
   ]
  },
  {
   "cell_type": "markdown",
   "metadata": {
    "slideshow": {
     "slide_type": "subslide"
    }
   },
   "source": [
    "Thus, the received signal has a conditional distribution, depending on which signal\n",
    "  is transmitted:\n",
    "\\begin{align*}\n",
    "  \\begin{cases}\n",
    "  X  \\sim \\mbox{Gaussian}(+1,\\sigma^2), & 0 \\mbox{ transmitted}\\\\\n",
    "  X  \\sim \\mbox{Gaussian}(-1,\\sigma^2), & 1 \\mbox{ transmitted}\n",
    "  \\end{cases}\n",
    "\\end{align*}\n",
    "\n",
    "(Here only the mean changes and not the variance, but this is an accurate\n",
    "  model of what happens in most binary communication systems.)"
   ]
  },
  {
   "cell_type": "markdown",
   "metadata": {
    "slideshow": {
     "slide_type": "subslide"
    }
   },
   "source": [
    "We can write the conditional density and distribution functions given that $i$ was transmitted as $f_X(x|i~\\mbox{Tx})$ and $F_X(x|i~\\mbox{Tx})$."
   ]
  },
  {
   "cell_type": "markdown",
   "metadata": {
    "slideshow": {
     "slide_type": "slide"
    }
   },
   "source": [
    "**<font color=blue>Example 1</font>** Let $T_i$ denote the event that $i$ is transmitted. Calculate the probability that $X>2$ if $P(T_0)=0.25$, $P(T_1)=0.75$ and $\\sigma^2=4$."
   ]
  },
  {
   "cell_type": "markdown",
   "metadata": {
    "slideshow": {
     "slide_type": "fragment"
    }
   },
   "source": [
    "<!-- We can easily solve this problem using what we already know about conditional probability and Gaussian random variables:\n",
    "\n",
    "\\begin{align*}\n",
    "P(X>2) &= P(X>2|T_0)P(T_0) + P(X>2|T_1)P(T_1) ~\\mbox{, by Total Probability}\\\\\n",
    "&= Q\\left(\\frac{2-1}{\\sigma} \\right)(0.25) +\n",
    "Q\\left(\\frac{2-(-1)}{\\sigma} \\right)(0.75) \\\\\n",
    "&= Q\\left(\\frac{1}{2} \\right)(0.25) +\n",
    "Q\\left(\\frac{3}{2} \\right)(0.75) \\\\\n",
    "&\\approx 0.127\n",
    "\\end{align*} -->"
   ]
  },
  {
   "cell_type": "code",
   "execution_count": null,
   "metadata": {
    "slideshow": {
     "slide_type": "fragment"
    }
   },
   "outputs": [],
   "source": []
  },
  {
   "cell_type": "markdown",
   "metadata": {
    "slideshow": {
     "slide_type": "slide"
    }
   },
   "source": [
    "**<font color=blue>Example 2</font>** Calculate the probability of error if the decision rule is:\n",
    "\n",
    "\\begin{align*}\n",
    "\\begin{cases} \\hat{T}_0, & X \\ge 0\\\\ \\hat{T}_1, & X<0, \\end{cases}\n",
    "\\end{align*}\n",
    "\n",
    "where $\\hat{T}_i$ denotes deciding that $i$ was transmitted. Provide a numerical answer when $\\sigma^2=0.1$ and $P(T_0)=P(T_1)=\\frac{1}{2}$."
   ]
  },
  {
   "cell_type": "markdown",
   "metadata": {
    "slideshow": {
     "slide_type": "subslide"
    }
   },
   "source": [
    "<!-- \\begin{align*}\n",
    "P(E) &= P(X\\ge 0 \\cap T_1) + P(X<0 \\cap T_0) \\\\\n",
    "&= P(X \\ge 0 \\vert T_1)P(T_1) + P(X<0 \\vert T_0) P(T_0)\\\\\n",
    "&= Q\\left(\\frac{0-(-1)}{\\sigma}\\right) P(T_1) + Q\\left(\\frac{1-0}{\\sigma} \\right) P(T_0) \\\\\n",
    "&= Q\\left(\\frac{1}{\\sigma}\\right)\\\\\n",
    "&\\approx 0.00078\n",
    "\\end{align*} -->"
   ]
  },
  {
   "cell_type": "code",
   "execution_count": null,
   "metadata": {
    "slideshow": {
     "slide_type": "fragment"
    }
   },
   "outputs": [],
   "source": []
  },
  {
   "cell_type": "markdown",
   "metadata": {},
   "source": [
    "___"
   ]
  },
  {
   "cell_type": "markdown",
   "metadata": {
    "slideshow": {
     "slide_type": "slide"
    }
   },
   "source": [
    "# Optimal Decisions"
   ]
  },
  {
   "cell_type": "markdown",
   "metadata": {
    "slideshow": {
     "slide_type": "slide"
    }
   },
   "source": [
    "Now suppose that we want to make an optimal decision $\\hat{T}_i$ based on observing the value of $X$ at the output of the receiver. I.e., given that we have $X=x$ for some value $x$."
   ]
  },
  {
   "cell_type": "markdown",
   "metadata": {
    "slideshow": {
     "slide_type": "fragment"
    }
   },
   "source": [
    "The MAP rule is to choose the most probable value that was transmitted given the observation. So, that corresponds to:\n",
    "\n",
    "* If $P(T_0 \\vert X=x) \\ge P(T_1 \\vert X=x)$, decide 0\n",
    "* If $P(T_1 \\vert X=x) > P(T_0 \\vert X=x)$, decide 1"
   ]
  },
  {
   "cell_type": "markdown",
   "metadata": {
    "slideshow": {
     "slide_type": "fragment"
    }
   },
   "source": [
    "and by the definition of conditional probability\n",
    "\n",
    "\\begin{align*}\n",
    "P(T_0|X=x) = \\frac{P(T_0 \\cap X=x)}{P(X=x)}\n",
    "\\end{align*}\n",
    "\n",
    "<div class=\"alert alert-danger\">\n",
    "    But both the numerator and denominator are 0, because $X$ is a continuous random variable!\n",
    "</div>"
   ]
  }
 ],
 "metadata": {
  "kernelspec": {
   "display_name": "Python 3",
   "language": "python",
   "name": "python3"
  },
  "language_info": {
   "codemirror_mode": {
    "name": "ipython",
    "version": 3
   },
   "file_extension": ".py",
   "mimetype": "text/x-python",
   "name": "python",
   "nbconvert_exporter": "python",
   "pygments_lexer": "ipython3",
   "version": "3.8.8"
  },
  "latex_envs": {
   "LaTeX_envs_menu_present": true,
   "autoclose": false,
   "autocomplete": true,
   "bibliofile": "biblio.bib",
   "cite_by": "apalike",
   "current_citInitial": 1,
   "eqLabelWithNumbers": true,
   "eqNumInitial": 1,
   "hotkeys": {
    "equation": "Ctrl-E",
    "itemize": "Ctrl-I"
   },
   "labels_anchors": false,
   "latex_user_defs": false,
   "report_style_numbering": false,
   "user_envs_cfg": false
  },
  "varInspector": {
   "cols": {
    "lenName": 16,
    "lenType": 16,
    "lenVar": 40
   },
   "kernels_config": {
    "python": {
     "delete_cmd_postfix": "",
     "delete_cmd_prefix": "del ",
     "library": "var_list.py",
     "varRefreshCmd": "print(var_dic_list())"
    },
    "r": {
     "delete_cmd_postfix": ") ",
     "delete_cmd_prefix": "rm(",
     "library": "var_list.r",
     "varRefreshCmd": "cat(var_dic_list()) "
    }
   },
   "types_to_exclude": [
    "module",
    "function",
    "builtin_function_or_method",
    "instance",
    "_Feature"
   ],
   "window_display": false
  }
 },
 "nbformat": 4,
 "nbformat_minor": 4
}
