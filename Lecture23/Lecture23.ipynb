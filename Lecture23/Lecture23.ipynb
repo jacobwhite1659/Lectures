{
 "cells": [
  {
   "cell_type": "markdown",
   "metadata": {
    "slideshow": {
     "slide_type": "slide"
    }
   },
   "source": [
    "# Lecture 23\n",
    "- Clustering\n",
    "- Matrix Operations"
   ]
  },
  {
   "cell_type": "code",
   "execution_count": 1,
   "metadata": {
    "slideshow": {
     "slide_type": "subslide"
    }
   },
   "outputs": [],
   "source": [
    "import numpy as np\n",
    "import numpy.linalg as la\n",
    "import numpy.random as npr\n",
    "import matplotlib.pyplot as plt\n",
    "import pandas as pd\n",
    "import scipy.stats as stats\n",
    "%matplotlib inline\n",
    "plt.style.use('bmh')\n",
    "\n",
    "def plotvec(*argv):\n",
    "    colors=['k','b','r','g','c','m']\n",
    "    xmin=0\n",
    "    xmax=-1000000\n",
    "    ymin=0\n",
    "    ymax=-1000000\n",
    "    origin=[0,0]\n",
    "    plt.figure()\n",
    "    for e in enumerate(argv):\n",
    "        i=e[0]\n",
    "        arg=e[1]\n",
    "        plt.quiver(*origin,*arg,angles='xy',scale_units='xy',scale=1,\n",
    "                   color=colors[i%len(colors)])\n",
    "        xmin=min(xmin,arg[0])\n",
    "        xmax=max(xmax,arg[0])\n",
    "        ymin=min(ymin,arg[1])\n",
    "        ymax=max(ymax,arg[1])\n",
    "    plt.xlim(min(-1, xmin-1), max(1,xmax+1))\n",
    "    plt.ylim(min(-1,ymin-1),max(1,ymax+1))"
   ]
  },
  {
   "cell_type": "markdown",
   "metadata": {},
   "source": [
    "# Last Class"
   ]
  },
  {
   "cell_type": "markdown",
   "metadata": {},
   "source": [
    "### Lecture 21\n",
    "- Linear Regression\n",
    "- Coefficient of Determination $R^2$"
   ]
  },
  {
   "cell_type": "markdown",
   "metadata": {},
   "source": [
    "<div class=\"alert alert-info\">\n",
    "  <strong>Coefficient of Determination</strong>\n",
    "    \n",
    "The **coefficient of determination**, denoted $R^2$ or $r^2$ and pronounced \"R squared\", is the proportion of the variance in the dependent variable that is predictable from the independent variable(s).\n",
    "\n",
    "$$r^2 = 1 - \\frac{\\text{Unexplained Variation}}{\\text{Total Variation}}$$\n",
    "\n",
    "and $ 0 \\leq r^2 \\leq 1$.\n",
    "\n",
    "* $r^2$ is the square of the correlation coefficient $r$.\n",
    "    \n",
    "</div>"
   ]
  },
  {
   "cell_type": "markdown",
   "metadata": {},
   "source": [
    "### Norms, Angles, Distances"
   ]
  },
  {
   "cell_type": "markdown",
   "metadata": {},
   "source": [
    "Take a look at supplementary notebook and video Lecture21-supp"
   ]
  },
  {
   "cell_type": "markdown",
   "metadata": {
    "slideshow": {
     "slide_type": "subslide"
    }
   },
   "source": [
    "<div class=\"alert alert-info\">\n",
    "  <strong>Euclidean Norm</strong>\n",
    "\n",
    "The **Euclidean norm** of an $n$-vector $\\mathbf{x}$, denoted $\\Vert \\mathbf{x}\\Vert$, is the square-root of the inner product of the vector with itself, i.e. \n",
    "\n",
    "\\begin{align*}\n",
    "\\Vert\\mathbf{x}\\Vert = \\sqrt{\\mathbf{x}^T\\mathbf{x}} = \\sqrt{x_1^2+x_2^2+\\cdots+x_n^2}=\\left(x_1^2+x_2^2+\\cdots+x_n^2\\right)^{1/2}\n",
    "\\end{align*}\n",
    "</div>"
   ]
  },
  {
   "cell_type": "markdown",
   "metadata": {
    "slideshow": {
     "slide_type": "slide"
    }
   },
   "source": [
    "<div class=\"alert alert-info\">\n",
    "  <strong>Euclidean Distance</strong>\n",
    "\n",
    "We already know how to compute **Euclidean distance** between vectors, $\\mathbf{x}$ and $\\mathbf{y}$, in an Euclidean geometry:\n",
    "\n",
    "$$d(\\mathbf{x},\\mathbf{y}) = \\Vert\\mathbf{x}-\\mathbf{y}\\Vert$$\n",
    "\n",
    "The Euclidean distance corresponds to the shortest line that connects the two vectors $\\mathbf{x}$ and $\\mathbf{y}$.\n",
    "</div>"
   ]
  },
  {
   "cell_type": "markdown",
   "metadata": {},
   "source": [
    "### Lecture 22"
   ]
  },
  {
   "cell_type": "markdown",
   "metadata": {},
   "source": [
    "Please watch Lecture 22 videos - in the Lecture repo."
   ]
  },
  {
   "cell_type": "markdown",
   "metadata": {},
   "source": [
    "<div class=\"alert alert-info\">\n",
    "    <b>Vector Projection</b>\n",
    "\n",
    "The **vector projection** of $\\mathbf{y}$ onto $\\mathbf{x}$ is defined as\n",
    "\n",
    "\\begin{align*}\n",
    "\\text{proj}_{\\mathbf{x}}\\mathbf{y} &= (\\mathbf{y}^T\\tilde{\\mathbf{x}})\\tilde{\\mathbf{x}}\n",
    "\\end{align*}\n",
    "    \n",
    "where $\\tilde{\\mathbf{x}} = \\frac{\\mathbf{x}}{\\Vert\\mathbf{x}\\Vert}$. We can then write,\n",
    "    \n",
    "\\begin{align*}\n",
    "\\text{proj}_{\\mathbf{x}}\\mathbf{y} &= \\frac{\\mathbf{y}^T\\mathbf{x}}{\\Vert\\mathbf{x}\\Vert} \\frac{\\mathbf{x}}{\\Vert\\mathbf{x}\\Vert} = \\frac{\\mathbf{y}^T\\mathbf{x}}{\\Vert\\mathbf{x}\\Vert^2} \\mathbf{x}\n",
    "\\end{align*}\n",
    "    \n",
    "</div>"
   ]
  },
  {
   "cell_type": "markdown",
   "metadata": {},
   "source": [
    "Note that any vector in $\\mathbb{R}^2$ can be represented using new axes. \n",
    "\n",
    "<div class=\"alert alert-info\">\n",
    "    <b>Span</b>\n",
    "    \n",
    "We say that $\\mathcal{S}=\\{\\mathbf{x}', \\mathbf{y}'\\}$ is a **spanning set** for $\\mathbb{R}^2$ (or say that $\\mathcal{S}$ **spans**  $\\mathbb{R}^2$).\n",
    "</div>"
   ]
  },
  {
   "cell_type": "markdown",
   "metadata": {},
   "source": [
    "A minimum of 2 spanning vectors are required to represent everything in $\\mathbb{R}^2$. (We say that the **dimension** of $\\mathbb{R}^2$ is 2.)\n",
    "\n",
    "Since the cardinality of $\\mathcal{S}$ is $\\left| \\mathcal{S} \\right|=2$, $\\mathcal{S}$ is **minimal**."
   ]
  },
  {
   "cell_type": "markdown",
   "metadata": {},
   "source": [
    "We say that $\\mathcal{S}$ is a **minimal spanning set** or a **basis** for $\\mathbb{R}^2$.\n",
    "\n",
    "<div class=\"alert alert-info\">\n",
    "    <b>Basis Set</b>\n",
    "    \n",
    "If $\\mathcal{S}$ is a **minimal spanning set**, if the vectors $\\mathcal{S}$ are orthonormal, we say that $\\mathcal{S}$ is an orthonormal basis for $\\mathbf{R}^D$, where $D=|\\mathcal{S}|$.\n",
    "</div>"
   ]
  },
  {
   "cell_type": "markdown",
   "metadata": {
    "slideshow": {
     "slide_type": "subslide"
    }
   },
   "source": [
    "<div class=\"alert alert-info\">\n",
    "    <b>Linearly Independent</b>\n",
    "\n",
    "We say that a collection of vectors $\\mathbf{a}_0, \\mathbf{a}_1, \\ldots, \\mathbf{a}_{k-1}$ is **linearly independent** if they are not linearly dependent. In other words, the equation \n",
    "\n",
    "$$ \\beta_0 \\mathbf{a}_0 + \\beta_1 \\mathbf{a}_1 + \\cdots \\beta_{k-1} \\mathbf{a}_{k-1} =0 $$\n",
    "\n",
    "only holds if $\\beta_0 =\\beta_1= \\cdots= \\beta_{k-1}=\\mathbf{0}$.\n",
    "</div>"
   ]
  },
  {
   "cell_type": "markdown",
   "metadata": {},
   "source": [
    "___"
   ]
  },
  {
   "cell_type": "markdown",
   "metadata": {
    "slideshow": {
     "slide_type": "slide"
    }
   },
   "source": [
    "# K-Means Clustering\n",
    "\n",
    "Clustering algorithms seek to learn, from the properties of the data, an optimal division or discrete labeling of groups of points.\n",
    "\n",
    "We can consider the task of clustering a collection of vectors into groups or clusters of vectors that are close to each other, as measured by the distance between pairs of them."
   ]
  },
  {
   "cell_type": "markdown",
   "metadata": {
    "slideshow": {
     "slide_type": "subslide"
    }
   },
   "source": [
    "How many groups would you partition the following data into?"
   ]
  },
  {
   "cell_type": "code",
   "execution_count": null,
   "metadata": {},
   "outputs": [],
   "source": [
    "from IPython.display import Image\n",
    "Image('figures/ClusteringExample.png', width=500)"
   ]
  },
  {
   "cell_type": "markdown",
   "metadata": {
    "slideshow": {
     "slide_type": "subslide"
    }
   },
   "source": [
    "We can describe each image in a $d$ numerical features, and so each figure (called sample) will be a $d$-vector.\n",
    "\n",
    "And now, we want to cluster all $N$ images into sets of groups.\n",
    "\n",
    "Clustering is an **unsupervised** learning algorithm. It's unsupervised because we do not have *ground truth* cluster labels."
   ]
  },
  {
   "cell_type": "markdown",
   "metadata": {
    "slideshow": {
     "slide_type": "subslide"
    }
   },
   "source": [
    "## Clustering Applications\n",
    "\n",
    "* Topic discovery\n",
    "* Patient clustering\n",
    "* Customer market segmentation\n",
    "* Daily energy user patterns\n",
    "* Image Compression\n",
    "* Word clustering\n",
    "* Document clustering \n",
    "* etc."
   ]
  },
  {
   "cell_type": "markdown",
   "metadata": {
    "slideshow": {
     "slide_type": "subslide"
    }
   },
   "source": [
    "![scikit-learn logo](https://scikit-learn.org/stable/_static/scikit-learn-logo-small.png)\n",
    "\n",
    "The ```scikit-learn``` library has many useful methods for machine learning, including clustering."
   ]
  },
  {
   "cell_type": "code",
   "execution_count": null,
   "metadata": {
    "cell_style": "center",
    "slideshow": {
     "slide_type": "subslide"
    }
   },
   "outputs": [],
   "source": [
    "X, y = make_blobs(n_samples = 1500, centers = 5)\n",
    "plt.scatter(X[:,0],X[:,1]);"
   ]
  },
  {
   "cell_type": "markdown",
   "metadata": {
    "slideshow": {
     "slide_type": "subslide"
    }
   },
   "source": [
    "There are many ways to perform clustering. For the data set above, for example, we may pose the problem as: the data distribution is a sum of Gaussian distributions - called a *Gaussian Mixture Model*.\n",
    "\n",
    "With this assumption, we can then develop *optimization* strategies to model our measure for similarity between groups."
   ]
  },
  {
   "cell_type": "markdown",
   "metadata": {
    "slideshow": {
     "slide_type": "subslide"
    }
   },
   "source": [
    "## $k$-Means Clustering Algorithm\n",
    "\n",
    "$k$-Means Clustering is a centroid-based clustering and, instead of a probabilistic model, it uses distance between vectors and centroids in order to group or cluster vectors together.\n",
    "\n",
    "$k$-Means can be modified to use any distance metric. In here, we will introduce/review it with Euclidean distance."
   ]
  },
  {
   "cell_type": "markdown",
   "metadata": {
    "slideshow": {
     "slide_type": "subslide"
    }
   },
   "source": [
    "The value $k$ refers to the number of clusters the user wants to partition the data into. So $k$ is a parameter of the algorithm.\n",
    "\n",
    "The **first step** of the algorithm is to initialize the $k$ cluster centroids, $\\mathbf{c_k}$. The goal is then to assign membership to each vector $\\mathbf{x_i}$, $i=1,2,\\dots, N$, as belonging to one of $k$ clusters."
   ]
  },
  {
   "cell_type": "markdown",
   "metadata": {
    "slideshow": {
     "slide_type": "subslide"
    }
   },
   "source": [
    "We can design a cost function:\n",
    "\n",
    "\\begin{align*}\n",
    "J &= \\sum_{i=1}^N\\sum_{k=1}^K u_{ik} d\\left(\\mathbf{x_i},\\mathbf{c_k}\\right)^2\\\\\n",
    "&= \\sum_{i=1}^N\\sum_{k=1}^K u_{ik} \\left\\Vert\\mathbf{x_i}-\\mathbf{c_k}\\right\\Vert^2\n",
    "\\end{align*}\n",
    "\n",
    "where $u_{ik}$ is a membership weight for vector $\\mathbf{x_i}$ in cluster centroid $\\mathbf{c_k}$, and so, $u_{ik}\\in\\{0,1\\}$ and $\\sum_{k=1}^K u_{ik}=1$."
   ]
  },
  {
   "cell_type": "markdown",
   "metadata": {
    "slideshow": {
     "slide_type": "subslide"
    }
   },
   "source": [
    "The steps to implement $k$-Means algorithm are:\n",
    "\n",
    "1. Initialize $k$ cluster centroids\n",
    "2. Compute distance of every sample to each cluster centroid. For every sample, assign membership corresponding to cluster with smallest distance. \n",
    "3. Update cluster centroid as the mean of all the data samples assigned to it\n",
    "4. Go back to step 2 and continue until some convergence criteria is met"
   ]
  },
  {
   "cell_type": "markdown",
   "metadata": {},
   "source": [
    "The pseudo-code can be defined as:"
   ]
  },
  {
   "cell_type": "code",
   "execution_count": null,
   "metadata": {},
   "outputs": [],
   "source": [
    "Image('figures/KMeans.png',width=800)"
   ]
  },
  {
   "cell_type": "code",
   "execution_count": null,
   "metadata": {},
   "outputs": [],
   "source": [
    "plt.scatter(X[:,0],X[:,1])\n",
    "plt.xlabel('Feature 1',size=15)\n",
    "plt.ylabel('Feature 2', size=15);"
   ]
  },
  {
   "cell_type": "markdown",
   "metadata": {},
   "source": [
    "## Scaling the Data\n",
    "\n",
    "* **Z-score Standardization**\n",
    "\n",
    "\\begin{align*}\n",
    "\\hat{f}_i = \\frac{f_i-\\mu_{f_i}}{\\sigma_{f_i}}\n",
    "\\end{align*}\n",
    "\n",
    "* **Min-Max Scaling**\n",
    "\n",
    "\\begin{align*}\n",
    "\\hat{f}_i = \\frac{f_i-\\min(f_i)}{\\max(f_i) - \\min(f_i)}\n",
    "\\end{align*}"
   ]
  },
  {
   "cell_type": "code",
   "execution_count": null,
   "metadata": {},
   "outputs": [],
   "source": []
  },
  {
   "cell_type": "code",
   "execution_count": null,
   "metadata": {},
   "outputs": [],
   "source": []
  },
  {
   "cell_type": "code",
   "execution_count": null,
   "metadata": {},
   "outputs": [],
   "source": [
    "plt.figure(figsize=(20,5))\n",
    "plt.subplot(1,3,1); plt.scatter(X[:,0],X[:,1]); plt.title('Original')\n",
    "plt.subplot(1,3,2); plt.scatter(Xst[:,0],Xst[:,1]); plt.title('Z-Score Standardization')\n",
    "plt.subplot(1,3,3); plt.scatter(Xmm[:,0],Xmm[:,1]); plt.title('Min-Max Scaling');"
   ]
  },
  {
   "cell_type": "markdown",
   "metadata": {},
   "source": [
    "Let $k=4$. Initialize the cluster centroids:"
   ]
  },
  {
   "cell_type": "code",
   "execution_count": null,
   "metadata": {},
   "outputs": [],
   "source": []
  },
  {
   "cell_type": "code",
   "execution_count": null,
   "metadata": {},
   "outputs": [],
   "source": []
  },
  {
   "cell_type": "markdown",
   "metadata": {},
   "source": [
    "Compute the Euclidean distance of every point to every cluster centroid:"
   ]
  },
  {
   "cell_type": "code",
   "execution_count": null,
   "metadata": {},
   "outputs": [],
   "source": []
  },
  {
   "cell_type": "markdown",
   "metadata": {},
   "source": [
    "Row $i$ contains 4 columns. Column $j$ of row $i$ corresponds to the distance of the 2-vector data point $x_i$ to the cluster centroid $c_j$."
   ]
  },
  {
   "cell_type": "code",
   "execution_count": null,
   "metadata": {},
   "outputs": [],
   "source": []
  },
  {
   "cell_type": "markdown",
   "metadata": {},
   "source": [
    "Now, to point $x_1$ we want to assign the label that corresponds to the cluster centroid with the smallest distance:"
   ]
  },
  {
   "cell_type": "code",
   "execution_count": null,
   "metadata": {},
   "outputs": [],
   "source": []
  },
  {
   "cell_type": "code",
   "execution_count": null,
   "metadata": {},
   "outputs": [],
   "source": []
  },
  {
   "cell_type": "code",
   "execution_count": null,
   "metadata": {},
   "outputs": [],
   "source": []
  },
  {
   "cell_type": "markdown",
   "metadata": {},
   "source": [
    "Now, we need to update the cluster centroids using these memberships:"
   ]
  },
  {
   "cell_type": "code",
   "execution_count": null,
   "metadata": {},
   "outputs": [],
   "source": []
  },
  {
   "cell_type": "code",
   "execution_count": null,
   "metadata": {},
   "outputs": [],
   "source": []
  },
  {
   "cell_type": "code",
   "execution_count": null,
   "metadata": {},
   "outputs": [],
   "source": []
  },
  {
   "cell_type": "code",
   "execution_count": null,
   "metadata": {},
   "outputs": [],
   "source": [
    "plt.figure(figsize=(15,5))\n",
    "plt.subplot(1,2,1)\n",
    "\n",
    "    \n",
    "\n",
    "plt.subplot(1,2,2)\n",
    "\n"
   ]
  },
  {
   "cell_type": "code",
   "execution_count": null,
   "metadata": {},
   "outputs": [],
   "source": []
  },
  {
   "cell_type": "markdown",
   "metadata": {},
   "source": [
    "We will continue this process until convergence...\n",
    "\n",
    "Let's use ```scikit-learn``` instead to train this clustering algorithm."
   ]
  },
  {
   "cell_type": "markdown",
   "metadata": {},
   "source": [
    "### Using ```scikit-learn```"
   ]
  },
  {
   "cell_type": "code",
   "execution_count": null,
   "metadata": {},
   "outputs": [],
   "source": []
  },
  {
   "cell_type": "code",
   "execution_count": null,
   "metadata": {},
   "outputs": [],
   "source": []
  },
  {
   "cell_type": "code",
   "execution_count": null,
   "metadata": {},
   "outputs": [],
   "source": []
  },
  {
   "cell_type": "code",
   "execution_count": null,
   "metadata": {},
   "outputs": [],
   "source": []
  },
  {
   "cell_type": "code",
   "execution_count": null,
   "metadata": {},
   "outputs": [],
   "source": []
  },
  {
   "cell_type": "code",
   "execution_count": null,
   "metadata": {},
   "outputs": [],
   "source": [
    "# another way of creating subplots\n",
    "fig = plt.figure(figsize=(15,5))\n",
    "fig.add_subplot(1,2,1)\n",
    "\n",
    "\n",
    "\n",
    "fig.add_subplot(1,2,2)\n",
    "\n"
   ]
  },
  {
   "cell_type": "markdown",
   "metadata": {
    "slideshow": {
     "slide_type": "subslide"
    }
   },
   "source": [
    "## Issues with $k$-Means\n",
    "\n",
    "* Final solution will depend on the initialization\n",
    "* Does not perform well in data with non-linear structure\n",
    "* Sensitive to data scaling - need to standardize or normalize the data\n",
    "* Using Euclidean distance, the cluster will be circular/spherical only\n",
    "* Tend to misrepresent small sample groups"
   ]
  },
  {
   "cell_type": "markdown",
   "metadata": {},
   "source": [
    "___"
   ]
  },
  {
   "cell_type": "markdown",
   "metadata": {},
   "source": [
    "## Clustering Validity Criteria\n",
    "\n",
    "Cluster validity measures can often be paired with domain-knowledge. When we do not know anything about the data, we can use automatic measures to assess the *goodness* of the clustering results.\n",
    "\n",
    "There are several metrics we can use to validate our clustering results. They can be categorized in three types of criteria:\n",
    "\n",
    "1. **Internal Criteria:** evaluates the results of a clustering algorithm in terms of quantities that involve the vectors of the data set themselves. The optimal clustering scheme under the internal criteria index includes: **compactness** between samples assigned to the same cluster and **separation** between samples assigned to different clusters\n",
    "\n",
    "    * Example: **Silhouette index**, range of values is $[-1,1]$ where a silhouette index closer to 1 has better separation and compactness."
   ]
  },
  {
   "cell_type": "markdown",
   "metadata": {},
   "source": [
    "2. **External Criteria:**  used to measure how well a clustering result matches a set of *given* labels. External cluster validity indices can be used to: (1) compare the clustering results with the *ground truth* (true labels); (2) compare clustering results between different clustering algorithms to measure how different they are and how stable a particular clustering is on a data set across parameter settings and/or algorithms.\n",
    "\n",
    "    * Example: **Rand index**, range of values is $[0,1]$ where a rand index closer to 1 corresponds to a better match with the ground truth labels."
   ]
  },
  {
   "cell_type": "markdown",
   "metadata": {},
   "source": [
    "3. **Relative Criteria:** measures the results of a clustering structure by comparing it to other clustering schemes, resulting by the same algorithm but with different parameter values. In practice, relative criteria are a combination on internal and external criteria."
   ]
  },
  {
   "cell_type": "code",
   "execution_count": null,
   "metadata": {},
   "outputs": [],
   "source": [
    "\n",
    "\n",
    "\n",
    "plt.figure(figsize=(15,5))\n",
    "plt.subplot(1,2,1); \n",
    "#\n",
    "plt.title('Original Data Labeled')\n",
    "\n",
    "\n",
    "plt.subplot(1,2,2); \n",
    "#\n",
    "plt.title('Clustering Result');"
   ]
  },
  {
   "cell_type": "code",
   "execution_count": null,
   "metadata": {},
   "outputs": [],
   "source": []
  },
  {
   "cell_type": "markdown",
   "metadata": {},
   "source": [
    "## Example: K-Means for Color Compression"
   ]
  },
  {
   "cell_type": "code",
   "execution_count": null,
   "metadata": {},
   "outputs": [],
   "source": [
    "from sklearn.datasets import load_sample_image\n",
    "\n",
    "image = load_sample_image('china.jpg')\n",
    "ax = plt.axes(xticks=[], yticks=[])\n",
    "ax.imshow(image);"
   ]
  },
  {
   "cell_type": "code",
   "execution_count": null,
   "metadata": {},
   "outputs": [],
   "source": []
  },
  {
   "cell_type": "code",
   "execution_count": null,
   "metadata": {},
   "outputs": [],
   "source": [
    "\n",
    "\n"
   ]
  },
  {
   "cell_type": "code",
   "execution_count": null,
   "metadata": {},
   "outputs": [],
   "source": [
    "def plot_pixels(data, title, colors=None, N=10000):\n",
    "    '''Function to plot pixels in color space, using a subset of 10,000 pixels for efficiency'''\n",
    "    if colors is None:\n",
    "        colors = data\n",
    "    \n",
    "    # choose a random subset\n",
    "    rng = np.random.RandomState(0)\n",
    "    i = rng.permutation(data.shape[0])[:N]\n",
    "    colors = colors[i]\n",
    "    R, G, B = data[i].T\n",
    "    \n",
    "    fig, ax = plt.subplots(1, 2, figsize=(16, 6))\n",
    "    ax[0].scatter(R, G, color=colors, marker='.')\n",
    "    ax[0].set(xlabel='Red', ylabel='Green', xlim=(0, 1), ylim=(0, 1))\n",
    "\n",
    "    ax[1].scatter(R, B, color=colors, marker='.')\n",
    "    ax[1].set(xlabel='Red', ylabel='Blue', xlim=(0, 1), ylim=(0, 1))\n",
    "    \n",
    "    fig.suptitle(title, size=20);\n"
   ]
  },
  {
   "cell_type": "code",
   "execution_count": null,
   "metadata": {},
   "outputs": [],
   "source": [
    "plot_pixels(data, title='Input color space: 16 million possible colors')"
   ]
  },
  {
   "cell_type": "markdown",
   "metadata": {},
   "source": [
    "How many possible colors?"
   ]
  },
  {
   "cell_type": "code",
   "execution_count": null,
   "metadata": {},
   "outputs": [],
   "source": []
  },
  {
   "cell_type": "markdown",
   "metadata": {},
   "source": [
    "Now let's reduce these (approximately) 16 million colors to just 16 colors, using a k-means clustering across the pixel space."
   ]
  },
  {
   "cell_type": "code",
   "execution_count": null,
   "metadata": {},
   "outputs": [],
   "source": [
    "from sklearn.cluster import KMeans\n",
    "\n",
    "kmeans = KMeans(16)\n",
    "kmeans.fit(data)\n",
    "new_colors = kmeans.cluster_centers_[kmeans.predict(data)]\n",
    "\n",
    "plot_pixels(data, colors=new_colors, title=\"Reduced color space: 16 colors\")"
   ]
  },
  {
   "cell_type": "code",
   "execution_count": null,
   "metadata": {},
   "outputs": [],
   "source": [
    "recolored_image = new_colors.reshape(image.shape)\n",
    "\n",
    "fig, ax = plt.subplots(1, 2, figsize=(16, 6),\n",
    "                       subplot_kw=dict(xticks=[], yticks=[]))\n",
    "fig.subplots_adjust(wspace=0.05)\n",
    "ax[0].imshow(image)\n",
    "ax[0].set_title('Original Image', size=16)\n",
    "ax[1].imshow(recolored_image)\n",
    "ax[1].set_title('16-color Image', size=16);"
   ]
  },
  {
   "cell_type": "code",
   "execution_count": null,
   "metadata": {},
   "outputs": [],
   "source": []
  },
  {
   "cell_type": "markdown",
   "metadata": {},
   "source": [
    "# Recap"
   ]
  },
  {
   "cell_type": "markdown",
   "metadata": {},
   "source": [
    "<div class=\"alert alert-info\">\n",
    "    <b>Linearly Dependent</b>\n",
    "\n",
    "We say that a collection of vectors $\\mathbf{a}_0, \\mathbf{a}_1, \\ldots, \\mathbf{a}_{k-1}$ is **linearly dependent** if \n",
    "there exist nonzero constants $\\beta_0, \\beta_1, \\ldots, \\beta_{k-1}$ such that\n",
    "\n",
    "$$ \\beta_0 \\mathbf{a}_0 + \\beta_1 \\mathbf{a}_1 + \\cdots \\beta_{k-1} \\mathbf{a}_{k-1} =\\mathbf{0}$$\n",
    "\n",
    "</div>\n",
    "\n",
    "<div class=\"alert alert-info\">\n",
    "    <b>Linearly Independent</b>\n",
    "\n",
    "We say that a collection of vectors $\\mathbf{a}_0, \\mathbf{a}_1, \\ldots, \\mathbf{a}_{k-1}$ is **linearly independent** if they are not linearly dependent. In other words, the equation \n",
    "\n",
    "$$ \\beta_0 \\mathbf{a}_0 + \\beta_1 \\mathbf{a}_1 + \\cdots \\beta_{k-1} \\mathbf{a}_{k-1} =0 $$\n",
    "\n",
    "only holds if $\\beta_0 =\\beta_1= \\cdots= \\beta_{k-1}=0$.\n",
    "</div>"
   ]
  },
  {
   "cell_type": "markdown",
   "metadata": {},
   "source": [
    "<div class=\"alert alert-info\">\n",
    "    <b>Dimensionality</b>\n",
    "\n",
    "The *dimensionality* of a set of vectors is the **cardinality** of the **largest linearly independent set** of those vectors\n",
    "\n",
    "* This means that for a set of vectors of cardinality $k$, the dimension is $\\le k$\n",
    "\n",
    "</div>"
   ]
  },
  {
   "cell_type": "markdown",
   "metadata": {},
   "source": [
    "<div class=\"alert-success\">\n",
    "\n",
    "**Orthogonal vectors are linearly independent!**\n",
    "    \n",
    "* Because they cannot be written as a linear combination of the other.\n",
    "</div>\n",
    "\n",
    "**BUT**\n",
    "\n",
    "<div class=\"alert-danger\">\n",
    "    \n",
    "**Linearly independent vectors are not always orthogonal**\n",
    "</div>"
   ]
  },
  {
   "cell_type": "markdown",
   "metadata": {
    "slideshow": {
     "slide_type": "subslide"
    }
   },
   "source": [
    "<div class=\"alert-info\">\n",
    "\n",
    "**Gram-Schmidt gives us a way to determine the dimensionality of a set of vectors and to determine an orthonormal basis for those vectors**\n",
    "</div>"
   ]
  },
  {
   "cell_type": "markdown",
   "metadata": {},
   "source": [
    "<div class=\"alert-success\">\n",
    "    \n",
    "**The dimensionality of a set of vectors is the cardinality of the basis found  by Gram-Schmidt**    \n",
    "</div>"
   ]
  },
  {
   "cell_type": "markdown",
   "metadata": {},
   "source": [
    "<div class=\"alert alert-info\">\n",
    "    <b>Rotation Matrix</b>\n",
    "\n",
    "The vectors for 2-D axes rotated **counterclockwise** by $\\theta$ degrees are $\\mathbf{x}'=[\\cos \\theta, \\sin\\theta]^T$ and $\\mathbf{y}'=[\\cos (\\theta + 90^\\circ), \\sin(\\theta+90^\\circ)]^T$. Applying standard trignometry identities, we have $\\mathbf{y}'=[-\\sin (\\theta ), \\cos(\\theta)]^T$. Thus, the vertically stacked vectors form the following rotation array:\n",
    "\n",
    "\\begin{align*}\n",
    "R = \\left[\\mathbf{x} | \\mathbf{y}\\right] = \\left[\\begin{array}{cc} \\cos\\theta & -\\sin\\theta \\\\ \\sin\\theta & \\cos\\theta \\end{array}\\right]\n",
    "\\end{align*}\n",
    "\n",
    "</div>"
   ]
  },
  {
   "cell_type": "markdown",
   "metadata": {},
   "source": [
    "Let's load the **Iris Dataset**."
   ]
  },
  {
   "cell_type": "code",
   "execution_count": 2,
   "metadata": {},
   "outputs": [
    {
     "data": {
      "image/png": "[encoded data removed]",
      "text/plain": [
       "<Figure size 576x432 with 1 Axes>"
      ]
     },
     "metadata": {
      "needs_background": "light"
     },
     "output_type": "display_data"
    }
   ],
   "source": [
    "from sklearn import datasets\n",
    "iris=datasets.load_iris() # loading the iris dataset\n",
    "\n",
    "#Let's just look at the first 2 classes and the first 2 features:\n",
    "class01 = np.where(iris.target!=2)[0]\n",
    "\n",
    "X = iris.data[class01,:2].T # data matrix of size 2-by-100\n",
    "y = iris.target[class01] # vector of labels of size 100-by-1\n",
    "\n",
    "plt.figure(figsize=(8, 6))\n",
    "plt.scatter(X[0,:], X[1,:], c=y, cmap=plt.cm.Set1,edgecolor='k')\n",
    "plt.xlabel('Sepal length',size=15); plt.ylabel('Sepal width', size=15);"
   ]
  },
  {
   "cell_type": "code",
   "execution_count": 3,
   "metadata": {},
   "outputs": [],
   "source": [
    "def makerot(theta):\n",
    "    '''This function creates a 2x2 rotation \n",
    "    matrix for a given angle (theta) in degrees'''\n",
    "    \n",
    "    theta=np.radians(theta)\n",
    "    \n",
    "    R = np.array([[np.cos(theta), -np.sin(theta)],\n",
    "                  [np.sin(theta), np.cos(theta)]])\n",
    "    \n",
    "    return R"
   ]
  },
  {
   "cell_type": "code",
   "execution_count": 4,
   "metadata": {},
   "outputs": [
    {
     "data": {
      "text/plain": [
       "array([[ 0.5      , -0.8660254],\n",
       "       [ 0.8660254,  0.5      ]])"
      ]
     },
     "execution_count": 4,
     "metadata": {},
     "output_type": "execute_result"
    }
   ],
   "source": [
    "R = makerot(60)  # Compare with lecture 40\n",
    "R"
   ]
  },
  {
   "cell_type": "markdown",
   "metadata": {},
   "source": [
    "We know how to perform the dot product of these axes vectors with a single vector:"
   ]
  },
  {
   "cell_type": "code",
   "execution_count": 5,
   "metadata": {},
   "outputs": [
    {
     "data": {
      "text/plain": [
       "(2, 100)"
      ]
     },
     "execution_count": 5,
     "metadata": {},
     "output_type": "execute_result"
    }
   ],
   "source": [
    "X.shape # 2 features and 100 points"
   ]
  },
  {
   "cell_type": "code",
   "execution_count": 6,
   "metadata": {},
   "outputs": [
    {
     "data": {
      "text/plain": [
       "array([5.1, 3.5])"
      ]
     },
     "execution_count": 6,
     "metadata": {},
     "output_type": "execute_result"
    }
   ],
   "source": [
    "X[:,0]"
   ]
  },
  {
   "cell_type": "code",
   "execution_count": 7,
   "metadata": {},
   "outputs": [
    {
     "data": {
      "text/plain": [
       "array([-0.48108891,  6.16672956])"
      ]
     },
     "execution_count": 7,
     "metadata": {},
     "output_type": "execute_result"
    }
   ],
   "source": [
    "r1 = R@X[:,0] # rotating this sample by 60 degrees\n",
    "r1"
   ]
  },
  {
   "cell_type": "markdown",
   "metadata": {},
   "source": [
    "We can rotate all the vectors in the iris data set by taking the inner product of the basis vectors (in columns of an array) with data in columns of an array:"
   ]
  },
  {
   "cell_type": "code",
   "execution_count": 18,
   "metadata": {},
   "outputs": [
    {
     "data": {
      "text/plain": [
       "((2, 100), (2, 100))"
      ]
     },
     "execution_count": 18,
     "metadata": {},
     "output_type": "execute_result"
    }
   ],
   "source": [
    "rotated = R@X\n",
    "\n",
    "X.shape, rotated.shape"
   ]
  },
  {
   "cell_type": "markdown",
   "metadata": {},
   "source": [
    "Using this, plot the rotated data, and find a rotation that makes the two clusters separable using only the x-axis value:"
   ]
  },
  {
   "cell_type": "code",
   "execution_count": 29,
   "metadata": {
    "scrolled": true
   },
   "outputs": [
    {
     "data": {
      "image/png": "[encoded data removed]",
      "text/plain": [
       "<Figure size 1080x360 with 2 Axes>"
      ]
     },
     "metadata": {
      "needs_background": "light"
     },
     "output_type": "display_data"
    }
   ],
   "source": [
    "axes = makerot(-40)\n",
    "# Find a good value that allows data to be \n",
    "# separated using only x-axis info\n",
    "\n",
    "rotated=axes@X\n",
    "\n",
    "plt.figure(figsize=(15,5))\n",
    "plt.subplot(121)\n",
    "plt.scatter(X[0,:], X[1,:], c=y, cmap=plt.cm.Set1,edgecolor='k')\n",
    "plt.xlabel('Sepal length',size=15); plt.ylabel('Sepal width', size=15)\n",
    "plt.title('Original',size=20)\n",
    "\n",
    "plt.subplot(122)\n",
    "plt.scatter(rotated[0, :], rotated[1,:], c=y, cmap=plt.cm.Set1, edgecolor='k')\n",
    "plt.xlabel('New $x$',size=15); plt.ylabel('New $y$', size=15)\n",
    "plt.title('Rotated by $-40^{\\circ}$',size=20);"
   ]
  },
  {
   "cell_type": "markdown",
   "metadata": {},
   "source": [
    "With our perspective of arrays as horizontally stacked vectors, we can do inner products with any numbers of vectors and get out the corresponding inner products.\n",
    "\n",
    "For example:"
   ]
  },
  {
   "cell_type": "code",
   "execution_count": 30,
   "metadata": {},
   "outputs": [
    {
     "data": {
      "text/plain": [
       "array([[ 3,  7],\n",
       "       [ 1,  1],\n",
       "       [ 0, -2]])"
      ]
     },
     "execution_count": 30,
     "metadata": {},
     "output_type": "execute_result"
    }
   ],
   "source": [
    "G = np.array([[3,7], # two 3-vectors\n",
    "            [1,1],\n",
    "            [0,-2]])\n",
    "\n",
    "G"
   ]
  },
  {
   "cell_type": "code",
   "execution_count": 31,
   "metadata": {},
   "outputs": [
    {
     "data": {
      "text/plain": [
       "(3, 2)"
      ]
     },
     "execution_count": 31,
     "metadata": {},
     "output_type": "execute_result"
    }
   ],
   "source": [
    "G.shape"
   ]
  },
  {
   "cell_type": "code",
   "execution_count": 32,
   "metadata": {},
   "outputs": [
    {
     "data": {
      "text/plain": [
       "array([[ 2,  2,  2,  2],\n",
       "       [-1,  2, -1,  2],\n",
       "       [ 5,  3,  2,  4]])"
      ]
     },
     "execution_count": 32,
     "metadata": {},
     "output_type": "execute_result"
    }
   ],
   "source": [
    "H = np.array([[2,2,2,2], # four 3-vectors\n",
    "            [-1,2,-1,2],\n",
    "            [5,3,2,4]])\n",
    "H"
   ]
  },
  {
   "cell_type": "code",
   "execution_count": 33,
   "metadata": {},
   "outputs": [
    {
     "data": {
      "text/plain": [
       "(3, 4)"
      ]
     },
     "execution_count": 33,
     "metadata": {},
     "output_type": "execute_result"
    }
   ],
   "source": [
    "H.shape"
   ]
  },
  {
   "cell_type": "code",
   "execution_count": 34,
   "metadata": {},
   "outputs": [
    {
     "data": {
      "text/plain": [
       "array([[ 5,  8,  5,  8],\n",
       "       [ 3, 10,  9,  8]])"
      ]
     },
     "execution_count": 34,
     "metadata": {},
     "output_type": "execute_result"
    }
   ],
   "source": [
    "G.T@H"
   ]
  },
  {
   "cell_type": "markdown",
   "metadata": {},
   "source": [
    "The $i$th row represents all the inner product associated with the $i$th vector in G:"
   ]
  },
  {
   "cell_type": "code",
   "execution_count": 35,
   "metadata": {},
   "outputs": [
    {
     "data": {
      "text/plain": [
       "array([5, 8, 5, 8])"
      ]
     },
     "execution_count": 35,
     "metadata": {},
     "output_type": "execute_result"
    }
   ],
   "source": [
    "G[:,0]@H"
   ]
  },
  {
   "cell_type": "markdown",
   "metadata": {},
   "source": [
    "The $j$th column represents all the inner products associated with the $j$th vector in H:"
   ]
  },
  {
   "cell_type": "code",
   "execution_count": 36,
   "metadata": {},
   "outputs": [
    {
     "data": {
      "text/plain": [
       "array([5, 3])"
      ]
     },
     "execution_count": 36,
     "metadata": {},
     "output_type": "execute_result"
    }
   ],
   "source": [
    "G.T@H[:,0]"
   ]
  },
  {
   "cell_type": "markdown",
   "metadata": {},
   "source": [
    "Thus the $(i,j)$-th entry in the output matrix is the dot product from the $i$th left vector and the $j$th right vector."
   ]
  },
  {
   "cell_type": "markdown",
   "metadata": {},
   "source": [
    "# Matrix Multiplication"
   ]
  },
  {
   "cell_type": "markdown",
   "metadata": {},
   "source": [
    "This is **matrix multiplication**.\n",
    "\n",
    "However, usually matrix multiplication is not carried out in exactly this way. \n",
    "\n",
    "The usual form for matrix multiplication is to take the dot products of the **rows** of the left-hand matrix with the **columns** of the right-hand matrix.\n",
    "\n",
    "The ```@```symbol in Python is doing the usual matrix multiplication, which is why we need to transpose ($^T$) the left-hand matrix to conduct inner products on the columns.\n",
    "\n",
    "For standard matrix multiplication the $(i,j)th$ entry is the dot product of the $i$th **row** of the left-hand matrix with the $j$th **column** of the right-hand matrix."
   ]
  },
  {
   "cell_type": "markdown",
   "metadata": {},
   "source": [
    "Let's do an example by hand. I will use the following matrices:\n",
    "$$ A= \\begin{bmatrix} 1& 3\\\\ 2 & -2 \\\\ \\end{bmatrix} ~~~~~~~ B= \\begin{bmatrix} 2 & -1 & 1\\\\ 3 & 1 & -3\\\\ \\end{bmatrix}$$\n",
    "\n",
    "* *on electronic whiteboard*"
   ]
  },
  {
   "cell_type": "code",
   "execution_count": null,
   "metadata": {},
   "outputs": [],
   "source": [
    "A=np.array([[1,3], [2, -2]])\n",
    "\n",
    "B=np.array([[2,-1,1], [3,1,-3]])"
   ]
  },
  {
   "cell_type": "code",
   "execution_count": null,
   "metadata": {},
   "outputs": [],
   "source": []
  },
  {
   "cell_type": "markdown",
   "metadata": {},
   "source": [
    "If the left array has shape $(r_L, c_L)$ and the right array has shape $(r_R, c_R)$, then two things are true:\n",
    "1. We must have $c_L = r_R$. **The inner dimensions must be the same!**\n",
    "2. The dimensions of the output array will be $(r_R, c_L)$. **The shape of the output array is determined by the outer dimensions.**"
   ]
  },
  {
   "cell_type": "code",
   "execution_count": null,
   "metadata": {},
   "outputs": [],
   "source": []
  },
  {
   "cell_type": "code",
   "execution_count": null,
   "metadata": {},
   "outputs": [],
   "source": []
  },
  {
   "cell_type": "markdown",
   "metadata": {},
   "source": [
    "Let's look at identity matrices in matrix multiplication."
   ]
  },
  {
   "cell_type": "code",
   "execution_count": null,
   "metadata": {},
   "outputs": [],
   "source": []
  },
  {
   "cell_type": "code",
   "execution_count": null,
   "metadata": {},
   "outputs": [],
   "source": []
  },
  {
   "cell_type": "code",
   "execution_count": null,
   "metadata": {},
   "outputs": [],
   "source": []
  },
  {
   "cell_type": "code",
   "execution_count": null,
   "metadata": {},
   "outputs": [],
   "source": []
  },
  {
   "cell_type": "code",
   "execution_count": null,
   "metadata": {},
   "outputs": [],
   "source": []
  },
  {
   "cell_type": "code",
   "execution_count": null,
   "metadata": {},
   "outputs": [],
   "source": []
  },
  {
   "cell_type": "code",
   "execution_count": null,
   "metadata": {},
   "outputs": [],
   "source": []
  },
  {
   "cell_type": "code",
   "execution_count": null,
   "metadata": {},
   "outputs": [],
   "source": []
  },
  {
   "cell_type": "code",
   "execution_count": null,
   "metadata": {},
   "outputs": [],
   "source": []
  },
  {
   "cell_type": "markdown",
   "metadata": {
    "slideshow": {
     "slide_type": "slide"
    }
   },
   "source": [
    "# Matrices vs Arrays"
   ]
  },
  {
   "cell_type": "markdown",
   "metadata": {
    "slideshow": {
     "slide_type": "slide"
    }
   },
   "source": [
    "<div class=\"alert alert-info\">\n",
    "    <b>Matrix</b>\n",
    " \n",
    "A **matrix** is a rectangular array of numbers; that is, it is a 2-dimensional ordered set of values, with equal numbers of elements in each row and equal number of elements in each column.\n",
    "\n",
    "An **array** is the extension of a matrix that can have more than 2 dimensions.\n",
    "</div>"
   ]
  },
  {
   "cell_type": "markdown",
   "metadata": {},
   "source": [
    "* In this class, I will generally use the terms interchangeably\n",
    "* In ```numpy```, there is a ```np.array()``` class and a ```np.matrix()``` class.\n",
    "* The ```np.matrix()``` class has **very few advantages** over the ```np.array()``` class. Therefore, we will just use ```np.array()```.\n",
    "\n",
    "    * Numpy matrices are strictly 2-dimensional, while numpy arrays (ndarrays) are N-dimensional. Matrix objects are a subclass of ndarray, so they inherit all the attributes and methods of ndarrays.\n",
    "    \n",
    "    * The main advantage of numpy matrices is that they provide a convenient notation for matrix multiplication: if ```a``` and ```b``` are matrices, then ```a*b``` is their matrix product."
   ]
  },
  {
   "cell_type": "code",
   "execution_count": null,
   "metadata": {},
   "outputs": [],
   "source": []
  },
  {
   "cell_type": "code",
   "execution_count": null,
   "metadata": {},
   "outputs": [],
   "source": []
  },
  {
   "cell_type": "code",
   "execution_count": null,
   "metadata": {},
   "outputs": [],
   "source": []
  },
  {
   "cell_type": "markdown",
   "metadata": {
    "slideshow": {
     "slide_type": "slide"
    }
   },
   "source": [
    "## Special Types of Matrices"
   ]
  },
  {
   "cell_type": "markdown",
   "metadata": {},
   "source": [
    "We have already been introduced to one type of special matrix: the **identity matrix**"
   ]
  },
  {
   "cell_type": "code",
   "execution_count": null,
   "metadata": {},
   "outputs": [],
   "source": []
  },
  {
   "cell_type": "markdown",
   "metadata": {},
   "source": [
    "Two other simple types are the **all-zeros matrix**, denoted by $\\mathbf{0}$ or $\\mathbf{0}_n$, and the **all-ones matrix**, denoted by $\\mathbf{1}$ or $\\mathbf{1}_n$:"
   ]
  },
  {
   "cell_type": "code",
   "execution_count": null,
   "metadata": {},
   "outputs": [],
   "source": []
  },
  {
   "cell_type": "code",
   "execution_count": null,
   "metadata": {},
   "outputs": [],
   "source": []
  },
  {
   "cell_type": "markdown",
   "metadata": {},
   "source": [
    "**Unlike the identity matrix, zeros and ones matrices are not necessarily square.**"
   ]
  },
  {
   "cell_type": "markdown",
   "metadata": {},
   "source": [
    "<div class=\"alert alert-info\">\n",
    "    <b>Diagonal Matrix</b>\n",
    " \n",
    "A **diagonal matrix** $\\mathbf{M}$ has non-zero entries only in the diagonal elements $\\mathbf{M}_{ii}$ and zeros everywhere else.\n",
    "</div>\n",
    "\n",
    "```numpy``` provides methods to go from a list or vector of elements on the diagonal to a diagonal matrix:"
   ]
  },
  {
   "cell_type": "code",
   "execution_count": null,
   "metadata": {},
   "outputs": [],
   "source": []
  },
  {
   "cell_type": "markdown",
   "metadata": {},
   "source": [
    "Given a diagonal matrix, the same function will return a vector of the elements on the diagonal:"
   ]
  },
  {
   "cell_type": "code",
   "execution_count": null,
   "metadata": {},
   "outputs": [],
   "source": []
  },
  {
   "cell_type": "markdown",
   "metadata": {},
   "source": [
    "The identity matrix is a diagonal matrix with all 1s on the diagonal:"
   ]
  },
  {
   "cell_type": "code",
   "execution_count": null,
   "metadata": {},
   "outputs": [],
   "source": []
  },
  {
   "cell_type": "code",
   "execution_count": null,
   "metadata": {},
   "outputs": [],
   "source": []
  },
  {
   "cell_type": "markdown",
   "metadata": {},
   "source": [
    "<div class=\"alert alert-info\">\n",
    "    <b>Upper-diagonal Matrix</b>\n",
    "    \n",
    "An **upper-diagonal matrix** $\\mathbf{U}$ has $U_{ij}=0$ for all $i>j$.\n",
    "\n",
    "</div>\n",
    "\n",
    "Example:"
   ]
  },
  {
   "cell_type": "code",
   "execution_count": null,
   "metadata": {},
   "outputs": [],
   "source": [
    "U=np.array([\n",
    "    [1,3,7],\n",
    "    [0,4,2],\n",
    "    [0,0,5]])\n",
    "U"
   ]
  },
  {
   "cell_type": "markdown",
   "metadata": {},
   "source": [
    "<!-- <div class=\"alert alert-info\"> -->\n",
    "<!--     <b>Lower-diagonal Matrix</b> -->\n",
    "\n",
    "**Lower-diagonal Matrix**\n",
    "\n",
    "An **lower-diagonal matrix** $\\mathbf{L}$ has $L_{ij}=0$ for all $i<j$.\n",
    "\n",
    "<!-- </div> -->\n",
    "\n",
    "Example:"
   ]
  },
  {
   "cell_type": "code",
   "execution_count": null,
   "metadata": {},
   "outputs": [],
   "source": [
    "L=np.array([\n",
    "    [1,0,0],\n",
    "    [2,4,0],\n",
    "    [5,3,7]])\n",
    "L"
   ]
  },
  {
   "cell_type": "markdown",
   "metadata": {},
   "source": [
    "## Matrix Transpose"
   ]
  },
  {
   "cell_type": "markdown",
   "metadata": {},
   "source": [
    "<div class=\"alert alert-info\">\n",
    "    <b>Matrix Transpose</b>\n",
    "\n",
    "The **transpose of a matrix** $\\mathbf{M}$ is denoted by $\\mathbf{M}^T$ and satisfies $(\\mathbf{M}^T)_{ij} = \\mathbf{M}_{ji}$.\n",
    "\n",
    "* The rows of $\\mathbf{M}$ become the columns of $\\mathbf{M}^T$, and vice versa.\n",
    "</div>"
   ]
  },
  {
   "cell_type": "code",
   "execution_count": null,
   "metadata": {},
   "outputs": [],
   "source": [
    "npr.seed(12)\n",
    "\n",
    "M=npr.randint(4, size=(3,3))\n",
    "\n",
    "print(M,'\\n\\n', M.T)"
   ]
  },
  {
   "cell_type": "markdown",
   "metadata": {},
   "source": [
    "**Transpose does not require a square matrix:**"
   ]
  },
  {
   "cell_type": "code",
   "execution_count": null,
   "metadata": {},
   "outputs": [],
   "source": [
    "M=np.array([\n",
    "    [1,2,3,4],\n",
    "    [5,6,7,8]])\n",
    "\n",
    "M.T"
   ]
  },
  {
   "cell_type": "markdown",
   "metadata": {},
   "source": [
    "## Matrix Addition and Subtraction"
   ]
  },
  {
   "cell_type": "markdown",
   "metadata": {},
   "source": [
    "**Matrices of the same sizes can be added or subtracted.** Addition/subtraction is performed elementwise; i.e. \n",
    "\n",
    "\\begin{align*}\n",
    "(\\mathbf{A}+\\mathbf{B})_{ij}= \\mathbf{A}_{ij} + \\mathbf{B}_{ij}\n",
    "\\end{align*}\n",
    "\n",
    "and\n",
    "\n",
    "\\begin{align*}\n",
    "(\\mathbf{A}-\\mathbf{B})_{ij}= \\mathbf{A}_{ij} -\\mathbf{B}_{ij}\n",
    "\\end{align*}"
   ]
  },
  {
   "cell_type": "code",
   "execution_count": null,
   "metadata": {},
   "outputs": [],
   "source": [
    "npr.seed(10)\n",
    "\n",
    "A=npr.randint(4,size=(3,2))\n",
    "B=npr.randint(4,size=(3,2))"
   ]
  },
  {
   "cell_type": "code",
   "execution_count": null,
   "metadata": {},
   "outputs": [],
   "source": [
    "print('A=',A,'\\n\\n B=', B, '\\n\\n A+B=', A+B)"
   ]
  },
  {
   "cell_type": "code",
   "execution_count": null,
   "metadata": {},
   "outputs": [],
   "source": [
    "print('A=',A,'\\n\\n B=', B, '\\n\\n A-B = ',A-B)"
   ]
  },
  {
   "cell_type": "markdown",
   "metadata": {},
   "source": [
    "Because matrix addition and subtraction are elementwise, matrix addition inherits the following properties from scalar addition:\n",
    "\n",
    "* **Commutativity** $\\mathbf{A} + \\mathbf{B} = \\mathbf{B} + \\mathbf{A}$\n",
    "* **Associativity** $( \\mathbf{A} + \\mathbf{B}) + \\mathbf{C} =  \\mathbf{A} + (\\mathbf{B} + \\mathbf{C})$\n",
    "* **Additive Identity** The additive identity is the zero matrix. That means $\\mathbf{A} + \\mathbf{0} = \\mathbf{0}+ \\mathbf{A}= \\mathbf{A}$\n",
    "* **Transpose distributes over addition** $(\\mathbf{A} + \\mathbf{B})^T = \\mathbf{A}^T + \\mathbf{B}^T$"
   ]
  },
  {
   "cell_type": "markdown",
   "metadata": {
    "slideshow": {
     "slide_type": "slide"
    }
   },
   "source": [
    "## Scalar-Matrix Multiplication\n",
    "\n",
    "Multiplication of a matrix by a scalar results in multiplication of each element with that scalar:\n",
    "\n",
    "\\begin{align*}\n",
    "\\alpha \\begin{bmatrix} m_{00} & m_{01} & \\ldots & m_{0j}\\\\ m_{10} & m_{11} & \\ldots & m_{1j}\\\\ \\vdots & \\vdots & \\vdots & \\vdots \\\\ m_{k0} & m_{k1} & \\ldots & m_{kj}\\\\ \\end{bmatrix} = \\begin{bmatrix} \\alpha m_{00} & \\alpha m_{01} & \\ldots & \\alpha m_{0j}\\\\ \\alpha m_{10} & \\alpha m_{11} & \\ldots & \\alpha m_{1j}\\\\ \\vdots & \\vdots & \\vdots & \\vdots \\\\ \\alpha m_{k0} & \\alpha m_{k1} & \\ldots & \\alpha m_{kj}\\\\ \\end{bmatrix}\n",
    "\\end{align*}"
   ]
  },
  {
   "cell_type": "markdown",
   "metadata": {
    "slideshow": {
     "slide_type": "subslide"
    }
   },
   "source": [
    "Scalar-matrix multiplication satisfies several properties:\n",
    "\n",
    "\\begin{align*}\n",
    "(\\beta + \\gamma) \\mathbf{A} = \\beta \\mathbf{A} + \\gamma \\mathbf{A}\n",
    "\\end{align*}\n",
    "\n",
    "and\n",
    "\n",
    "\\begin{align*}\n",
    "(\\beta \\gamma) \\mathbf{A} = \\beta (\\gamma \\mathbf{A})\n",
    "\\end{align*}"
   ]
  },
  {
   "cell_type": "markdown",
   "metadata": {
    "slideshow": {
     "slide_type": "subslide"
    }
   },
   "source": [
    "As with usual multiplication and addition, scalar-matrix multiplication takes priority over matrix addition, so \n",
    "\n",
    "\\begin{align*}\n",
    "\\beta \\mathbf{A} + \\gamma \\mathbf{A} =  (\\beta \\mathbf{A}) + (\\gamma \\mathbf{A})\n",
    "\\end{align*}"
   ]
  },
  {
   "cell_type": "markdown",
   "metadata": {
    "slideshow": {
     "slide_type": "slide"
    }
   },
   "source": [
    "## Matrix Norm\n",
    "\n",
    "<div class=\"alert alert-info\">\n",
    "    <b>Matrix Norm</b>\n",
    "    \n",
    "The norm of an $m \\times n$ matrix $\\mathbf{A}$ is \n",
    "\\begin{align*}    \n",
    "\\left\\| \\mathbf{A} \\right\\| = \\sqrt{\\sum_{i=0}^{m-1}\\sum_{j=0}^{n-1} A_{ij}^{2}}\n",
    "\\end{align*}\n",
    "</div>"
   ]
  },
  {
   "cell_type": "markdown",
   "metadata": {
    "slideshow": {
     "slide_type": "subslide"
    }
   },
   "source": [
    "Matrix norm satisifies several properties:\n",
    "* **Triangle Inequality** $\\left\\| \\mathbf{A} + \\mathbf{B} \\right\\| \\le \\left\\| \\mathbf{A} \\right\\| + \\left\\| \\mathbf{B} \\right\\| $\n",
    "* **Norm of Transposed Matrix** $\\left\\| \\mathbf{A}^T \\right\\| = \\left\\| \\mathbf{A} \\right\\|$\n",
    "* **Relation to Vector Norms** If $\\mathbf{a}_0, \\mathbf{a}_1, \\ldots, \\mathbf{a}_{n-1}$ are the columns of a matrix $\\mathbf{A}$, then $\\left\\| \\mathbf{A} \\right\\|^2 = \\left\\| \\mathbf{a}_0 \\right\\|^2 + \\left\\| \\mathbf{a}_1 \\right\\| ^2+ \\ldots + \\left\\| \\mathbf{a}_{n-1}  \\right\\|^2$"
   ]
  },
  {
   "cell_type": "markdown",
   "metadata": {
    "slideshow": {
     "slide_type": "subslide"
    }
   },
   "source": [
    "We can use the matrix norm to define distance between two matrices $\\mathbf{A}$ and $\\mathbf{B}$ as $\\left\\| \\mathbf{A} - \\mathbf{B} \\right\\|$. Small distances imply the two matrices are similar"
   ]
  },
  {
   "cell_type": "markdown",
   "metadata": {
    "slideshow": {
     "slide_type": "subslide"
    }
   },
   "source": [
    "___\n",
    "## Reading\n",
    "\n",
    "Be sure to **study**  Chapter 6 in the Boyd and Vanderberghe *Introduction to Applied Linear Algebra* book.\n",
    "\n",
    "___"
   ]
  }
 ],
 "metadata": {
  "kernelspec": {
   "display_name": "Python 3",
   "language": "python",
   "name": "python3"
  },
  "language_info": {
   "codemirror_mode": {
    "name": "ipython",
    "version": 3
   },
   "file_extension": ".py",
   "mimetype": "text/x-python",
   "name": "python",
   "nbconvert_exporter": "python",
   "pygments_lexer": "ipython3",
   "version": "3.8.8"
  },
  "latex_envs": {
   "LaTeX_envs_menu_present": true,
   "autoclose": true,
   "autocomplete": true,
   "bibliofile": "biblio.bib",
   "cite_by": "apalike",
   "current_citInitial": 1,
   "eqLabelWithNumbers": true,
   "eqNumInitial": 1,
   "hotkeys": {
    "equation": "Ctrl-E",
    "itemize": "Ctrl-I"
   },
   "labels_anchors": false,
   "latex_user_defs": false,
   "report_style_numbering": false,
   "user_envs_cfg": false
  },
  "varInspector": {
   "cols": {
    "lenName": 16,
    "lenType": 16,
    "lenVar": 40
   },
   "kernels_config": {
    "python": {
     "delete_cmd_postfix": "",
     "delete_cmd_prefix": "del ",
     "library": "var_list.py",
     "varRefreshCmd": "print(var_dic_list())"
    },
    "r": {
     "delete_cmd_postfix": ") ",
     "delete_cmd_prefix": "rm(",
     "library": "var_list.r",
     "varRefreshCmd": "cat(var_dic_list()) "
    }
   },
   "position": {
    "height": "511px",
    "left": "1555px",
    "right": "20px",
    "top": "117px",
    "width": "334px"
   },
   "types_to_exclude": [
    "module",
    "function",
    "builtin_function_or_method",
    "instance",
    "_Feature"
   ],
   "window_display": false
  }
 },
 "nbformat": 4,
 "nbformat_minor": 2
}
