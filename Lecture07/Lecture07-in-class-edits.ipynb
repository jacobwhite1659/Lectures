{
 "cells": [
  {
   "cell_type": "markdown",
   "metadata": {},
   "source": [
    "# Lecture 07"
   ]
  },
  {
   "cell_type": "code",
   "execution_count": 1,
   "metadata": {},
   "outputs": [],
   "source": [
    "import numpy as np\n",
    "import numpy.random as npr\n",
    "import random\n",
    "import itertools\n",
    "\n",
    "import pandas as pd\n",
    "\n",
    "import matplotlib.pyplot as plt\n",
    "%matplotlib inline\n",
    "plt.style.use('ggplot')"
   ]
  },
  {
   "cell_type": "markdown",
   "metadata": {},
   "source": [
    "## Binary Hypothesis Testing"
   ]
  },
  {
   "cell_type": "markdown",
   "metadata": {},
   "source": [
    "* The *null hypothesis* is that there is no real difference between the two data sets, and any differences are just based on random sampling from the underlying population.\n",
    "\n",
    "So, let's **assume that the two samples are from the same population**. \n",
    "\n",
    "* By combining the samples (called **pooling**), we get a new subset of the original population, if the null hypothesis is true. Moreover, any sample from this better represents the original population than either of the samples.\n",
    "\n",
    "* We can check whether the null hypothesis is true by checking how often samples from the pooled data set have a difference in means as large as the one observed."
   ]
  },
  {
   "cell_type": "markdown",
   "metadata": {},
   "source": [
    "<div class=\"alert alert-info\">\n",
    "    <b>Pooling</b>\n",
    "    \n",
    "**Pooling** describes the practice of gathering together small sets of data that are assumed to have been *drawn* from the same underlying population and using the combined larger set (the *pool*) to obtain a more precise estimate of that population.\n",
    "</div>"
   ]
  },
  {
   "cell_type": "markdown",
   "metadata": {},
   "source": [
    "## Sampling"
   ]
  },
  {
   "cell_type": "markdown",
   "metadata": {},
   "source": [
    "**The big question:** to sample **with replacement** or **without replacement**?"
   ]
  },
  {
   "cell_type": "markdown",
   "metadata": {},
   "source": [
    "<div class=\"alert alert-info\">\n",
    "    <b>Bootstrapping</b>\n",
    "    \n",
    "**Sampling with replacement** from a pooling set is called **bootstrapping** and is the most popular resampling technique. It is meant to better emulate independent sampling from the original population.\n",
    "</div>"
   ]
  },
  {
   "cell_type": "markdown",
   "metadata": {},
   "source": [
    "<div class=\"alert alert-info\">\n",
    "    <b>Permutations</b>\n",
    "    \n",
    "**Sampling without replacement** from a pooling set better emulates **permutation** tests, where we check every possible reordering of the data into samples. This will be discussed more later.\n",
    "</div>"
   ]
  },
  {
   "cell_type": "markdown",
   "metadata": {},
   "source": [
    "* Generally, *sampling without replacement* is more conservative (produces a higher $p$-value) than bootstrapping. \n",
    "* Bootstraping is **easy** and **most popular**, and we apply it here."
   ]
  },
  {
   "cell_type": "markdown",
   "metadata": {},
   "source": [
    "**The Bootstrap Idea:** The original sample approximates the population from which it was drawn. So *resamples* from this sample approximate what we would get if we took many samples from the population. The bootstrap distribution of a statistic, based on many resamples, approximates the sampling distribution of the statistic, based on many samples."
   ]
  },
  {
   "cell_type": "code",
   "execution_count": 2,
   "metadata": {},
   "outputs": [
    {
     "data": {
      "text/html": [
       "<div>\n",
       "<style scoped>\n",
       "    .dataframe tbody tr th:only-of-type {\n",
       "        vertical-align: middle;\n",
       "    }\n",
       "\n",
       "    .dataframe tbody tr th {\n",
       "        vertical-align: top;\n",
       "    }\n",
       "\n",
       "    .dataframe thead th {\n",
       "        text-align: right;\n",
       "    }\n",
       "</style>\n",
       "<table border=\"1\" class=\"dataframe\">\n",
       "  <thead>\n",
       "    <tr style=\"text-align: right;\">\n",
       "      <th></th>\n",
       "      <th>STATE</th>\n",
       "      <th>RATE-2005</th>\n",
       "      <th>RATE-2014</th>\n",
       "      <th>Total Laws 2014</th>\n",
       "    </tr>\n",
       "  </thead>\n",
       "  <tbody>\n",
       "    <tr>\n",
       "      <th>0</th>\n",
       "      <td>AL</td>\n",
       "      <td>16.0</td>\n",
       "      <td>16.9</td>\n",
       "      <td>10</td>\n",
       "    </tr>\n",
       "    <tr>\n",
       "      <th>1</th>\n",
       "      <td>AK</td>\n",
       "      <td>17.5</td>\n",
       "      <td>19.2</td>\n",
       "      <td>3</td>\n",
       "    </tr>\n",
       "    <tr>\n",
       "      <th>2</th>\n",
       "      <td>AZ</td>\n",
       "      <td>16.1</td>\n",
       "      <td>13.5</td>\n",
       "      <td>8</td>\n",
       "    </tr>\n",
       "    <tr>\n",
       "      <th>3</th>\n",
       "      <td>AR</td>\n",
       "      <td>15.7</td>\n",
       "      <td>16.6</td>\n",
       "      <td>11</td>\n",
       "    </tr>\n",
       "    <tr>\n",
       "      <th>4</th>\n",
       "      <td>CA</td>\n",
       "      <td>9.5</td>\n",
       "      <td>7.4</td>\n",
       "      <td>100</td>\n",
       "    </tr>\n",
       "    <tr>\n",
       "      <th>5</th>\n",
       "      <td>CO</td>\n",
       "      <td>11.6</td>\n",
       "      <td>12.2</td>\n",
       "      <td>30</td>\n",
       "    </tr>\n",
       "    <tr>\n",
       "      <th>6</th>\n",
       "      <td>CT</td>\n",
       "      <td>5.3</td>\n",
       "      <td>5.0</td>\n",
       "      <td>85</td>\n",
       "    </tr>\n",
       "    <tr>\n",
       "      <th>7</th>\n",
       "      <td>DE</td>\n",
       "      <td>8.8</td>\n",
       "      <td>11.1</td>\n",
       "      <td>38</td>\n",
       "    </tr>\n",
       "    <tr>\n",
       "      <th>8</th>\n",
       "      <td>FL</td>\n",
       "      <td>10.0</td>\n",
       "      <td>11.5</td>\n",
       "      <td>21</td>\n",
       "    </tr>\n",
       "    <tr>\n",
       "      <th>9</th>\n",
       "      <td>GA</td>\n",
       "      <td>12.1</td>\n",
       "      <td>13.7</td>\n",
       "      <td>6</td>\n",
       "    </tr>\n",
       "    <tr>\n",
       "      <th>10</th>\n",
       "      <td>HI</td>\n",
       "      <td>2.1</td>\n",
       "      <td>2.6</td>\n",
       "      <td>78</td>\n",
       "    </tr>\n",
       "    <tr>\n",
       "      <th>11</th>\n",
       "      <td>ID</td>\n",
       "      <td>14.1</td>\n",
       "      <td>13.2</td>\n",
       "      <td>5</td>\n",
       "    </tr>\n",
       "    <tr>\n",
       "      <th>12</th>\n",
       "      <td>IL</td>\n",
       "      <td>8.0</td>\n",
       "      <td>9.0</td>\n",
       "      <td>65</td>\n",
       "    </tr>\n",
       "    <tr>\n",
       "      <th>13</th>\n",
       "      <td>IN</td>\n",
       "      <td>11.2</td>\n",
       "      <td>12.4</td>\n",
       "      <td>11</td>\n",
       "    </tr>\n",
       "    <tr>\n",
       "      <th>14</th>\n",
       "      <td>IA</td>\n",
       "      <td>6.7</td>\n",
       "      <td>7.5</td>\n",
       "      <td>25</td>\n",
       "    </tr>\n",
       "    <tr>\n",
       "      <th>15</th>\n",
       "      <td>KS</td>\n",
       "      <td>9.3</td>\n",
       "      <td>11.3</td>\n",
       "      <td>8</td>\n",
       "    </tr>\n",
       "    <tr>\n",
       "      <th>16</th>\n",
       "      <td>KY</td>\n",
       "      <td>13.0</td>\n",
       "      <td>13.9</td>\n",
       "      <td>7</td>\n",
       "    </tr>\n",
       "    <tr>\n",
       "      <th>17</th>\n",
       "      <td>LA</td>\n",
       "      <td>18.5</td>\n",
       "      <td>19.0</td>\n",
       "      <td>12</td>\n",
       "    </tr>\n",
       "    <tr>\n",
       "      <th>18</th>\n",
       "      <td>ME</td>\n",
       "      <td>7.8</td>\n",
       "      <td>9.4</td>\n",
       "      <td>11</td>\n",
       "    </tr>\n",
       "    <tr>\n",
       "      <th>19</th>\n",
       "      <td>MD</td>\n",
       "      <td>11.9</td>\n",
       "      <td>9.0</td>\n",
       "      <td>63</td>\n",
       "    </tr>\n",
       "    <tr>\n",
       "      <th>20</th>\n",
       "      <td>MA</td>\n",
       "      <td>3.4</td>\n",
       "      <td>3.2</td>\n",
       "      <td>101</td>\n",
       "    </tr>\n",
       "    <tr>\n",
       "      <th>21</th>\n",
       "      <td>MI</td>\n",
       "      <td>10.8</td>\n",
       "      <td>11.1</td>\n",
       "      <td>20</td>\n",
       "    </tr>\n",
       "    <tr>\n",
       "      <th>22</th>\n",
       "      <td>MN</td>\n",
       "      <td>7.0</td>\n",
       "      <td>6.6</td>\n",
       "      <td>39</td>\n",
       "    </tr>\n",
       "    <tr>\n",
       "      <th>23</th>\n",
       "      <td>MS</td>\n",
       "      <td>16.0</td>\n",
       "      <td>18.3</td>\n",
       "      <td>5</td>\n",
       "    </tr>\n",
       "    <tr>\n",
       "      <th>24</th>\n",
       "      <td>MO</td>\n",
       "      <td>12.9</td>\n",
       "      <td>15.3</td>\n",
       "      <td>8</td>\n",
       "    </tr>\n",
       "    <tr>\n",
       "      <th>25</th>\n",
       "      <td>MT</td>\n",
       "      <td>16.9</td>\n",
       "      <td>16.1</td>\n",
       "      <td>4</td>\n",
       "    </tr>\n",
       "    <tr>\n",
       "      <th>26</th>\n",
       "      <td>NE</td>\n",
       "      <td>7.7</td>\n",
       "      <td>9.5</td>\n",
       "      <td>22</td>\n",
       "    </tr>\n",
       "    <tr>\n",
       "      <th>27</th>\n",
       "      <td>NV</td>\n",
       "      <td>16.1</td>\n",
       "      <td>14.8</td>\n",
       "      <td>11</td>\n",
       "    </tr>\n",
       "    <tr>\n",
       "      <th>28</th>\n",
       "      <td>NH</td>\n",
       "      <td>6.6</td>\n",
       "      <td>8.7</td>\n",
       "      <td>10</td>\n",
       "    </tr>\n",
       "    <tr>\n",
       "      <th>29</th>\n",
       "      <td>NJ</td>\n",
       "      <td>5.2</td>\n",
       "      <td>5.3</td>\n",
       "      <td>67</td>\n",
       "    </tr>\n",
       "    <tr>\n",
       "      <th>30</th>\n",
       "      <td>NM</td>\n",
       "      <td>13.9</td>\n",
       "      <td>16.0</td>\n",
       "      <td>10</td>\n",
       "    </tr>\n",
       "    <tr>\n",
       "      <th>31</th>\n",
       "      <td>NY</td>\n",
       "      <td>5.3</td>\n",
       "      <td>4.2</td>\n",
       "      <td>76</td>\n",
       "    </tr>\n",
       "    <tr>\n",
       "      <th>32</th>\n",
       "      <td>NC</td>\n",
       "      <td>12.8</td>\n",
       "      <td>11.8</td>\n",
       "      <td>30</td>\n",
       "    </tr>\n",
       "    <tr>\n",
       "      <th>33</th>\n",
       "      <td>ND</td>\n",
       "      <td>8.8</td>\n",
       "      <td>12.3</td>\n",
       "      <td>14</td>\n",
       "    </tr>\n",
       "    <tr>\n",
       "      <th>34</th>\n",
       "      <td>OH</td>\n",
       "      <td>9.6</td>\n",
       "      <td>10.3</td>\n",
       "      <td>15</td>\n",
       "    </tr>\n",
       "    <tr>\n",
       "      <th>35</th>\n",
       "      <td>OK</td>\n",
       "      <td>13.2</td>\n",
       "      <td>15.7</td>\n",
       "      <td>9</td>\n",
       "    </tr>\n",
       "    <tr>\n",
       "      <th>36</th>\n",
       "      <td>OR</td>\n",
       "      <td>10.7</td>\n",
       "      <td>11.7</td>\n",
       "      <td>24</td>\n",
       "    </tr>\n",
       "    <tr>\n",
       "      <th>37</th>\n",
       "      <td>PA</td>\n",
       "      <td>10.8</td>\n",
       "      <td>10.5</td>\n",
       "      <td>37</td>\n",
       "    </tr>\n",
       "    <tr>\n",
       "      <th>38</th>\n",
       "      <td>RI</td>\n",
       "      <td>3.6</td>\n",
       "      <td>3.0</td>\n",
       "      <td>43</td>\n",
       "    </tr>\n",
       "    <tr>\n",
       "      <th>39</th>\n",
       "      <td>SC</td>\n",
       "      <td>13.8</td>\n",
       "      <td>15.5</td>\n",
       "      <td>12</td>\n",
       "    </tr>\n",
       "    <tr>\n",
       "      <th>40</th>\n",
       "      <td>SD</td>\n",
       "      <td>10.2</td>\n",
       "      <td>10.3</td>\n",
       "      <td>5</td>\n",
       "    </tr>\n",
       "    <tr>\n",
       "      <th>41</th>\n",
       "      <td>TN</td>\n",
       "      <td>16.0</td>\n",
       "      <td>15.1</td>\n",
       "      <td>24</td>\n",
       "    </tr>\n",
       "    <tr>\n",
       "      <th>42</th>\n",
       "      <td>TX</td>\n",
       "      <td>11.1</td>\n",
       "      <td>10.7</td>\n",
       "      <td>20</td>\n",
       "    </tr>\n",
       "    <tr>\n",
       "      <th>43</th>\n",
       "      <td>UT</td>\n",
       "      <td>10.1</td>\n",
       "      <td>12.3</td>\n",
       "      <td>11</td>\n",
       "    </tr>\n",
       "    <tr>\n",
       "      <th>44</th>\n",
       "      <td>VT</td>\n",
       "      <td>6.8</td>\n",
       "      <td>10.3</td>\n",
       "      <td>3</td>\n",
       "    </tr>\n",
       "    <tr>\n",
       "      <th>45</th>\n",
       "      <td>VA</td>\n",
       "      <td>11.5</td>\n",
       "      <td>10.3</td>\n",
       "      <td>12</td>\n",
       "    </tr>\n",
       "    <tr>\n",
       "      <th>46</th>\n",
       "      <td>WA</td>\n",
       "      <td>8.8</td>\n",
       "      <td>9.7</td>\n",
       "      <td>41</td>\n",
       "    </tr>\n",
       "    <tr>\n",
       "      <th>47</th>\n",
       "      <td>WV</td>\n",
       "      <td>13.8</td>\n",
       "      <td>14.6</td>\n",
       "      <td>24</td>\n",
       "    </tr>\n",
       "    <tr>\n",
       "      <th>48</th>\n",
       "      <td>WI</td>\n",
       "      <td>8.5</td>\n",
       "      <td>8.2</td>\n",
       "      <td>24</td>\n",
       "    </tr>\n",
       "    <tr>\n",
       "      <th>49</th>\n",
       "      <td>WY</td>\n",
       "      <td>13.4</td>\n",
       "      <td>16.2</td>\n",
       "      <td>6</td>\n",
       "    </tr>\n",
       "  </tbody>\n",
       "</table>\n",
       "</div>"
      ],
      "text/plain": [
       "   STATE  RATE-2005  RATE-2014  Total Laws 2014\n",
       "0     AL       16.0       16.9               10\n",
       "1     AK       17.5       19.2                3\n",
       "2     AZ       16.1       13.5                8\n",
       "3     AR       15.7       16.6               11\n",
       "4     CA        9.5        7.4              100\n",
       "5     CO       11.6       12.2               30\n",
       "6     CT        5.3        5.0               85\n",
       "7     DE        8.8       11.1               38\n",
       "8     FL       10.0       11.5               21\n",
       "9     GA       12.1       13.7                6\n",
       "10    HI        2.1        2.6               78\n",
       "11    ID       14.1       13.2                5\n",
       "12    IL        8.0        9.0               65\n",
       "13    IN       11.2       12.4               11\n",
       "14    IA        6.7        7.5               25\n",
       "15    KS        9.3       11.3                8\n",
       "16    KY       13.0       13.9                7\n",
       "17    LA       18.5       19.0               12\n",
       "18    ME        7.8        9.4               11\n",
       "19    MD       11.9        9.0               63\n",
       "20    MA        3.4        3.2              101\n",
       "21    MI       10.8       11.1               20\n",
       "22    MN        7.0        6.6               39\n",
       "23    MS       16.0       18.3                5\n",
       "24    MO       12.9       15.3                8\n",
       "25    MT       16.9       16.1                4\n",
       "26    NE        7.7        9.5               22\n",
       "27    NV       16.1       14.8               11\n",
       "28    NH        6.6        8.7               10\n",
       "29    NJ        5.2        5.3               67\n",
       "30    NM       13.9       16.0               10\n",
       "31    NY        5.3        4.2               76\n",
       "32    NC       12.8       11.8               30\n",
       "33    ND        8.8       12.3               14\n",
       "34    OH        9.6       10.3               15\n",
       "35    OK       13.2       15.7                9\n",
       "36    OR       10.7       11.7               24\n",
       "37    PA       10.8       10.5               37\n",
       "38    RI        3.6        3.0               43\n",
       "39    SC       13.8       15.5               12\n",
       "40    SD       10.2       10.3                5\n",
       "41    TN       16.0       15.1               24\n",
       "42    TX       11.1       10.7               20\n",
       "43    UT       10.1       12.3               11\n",
       "44    VT        6.8       10.3                3\n",
       "45    VA       11.5       10.3               12\n",
       "46    WA        8.8        9.7               41\n",
       "47    WV       13.8       14.6               24\n",
       "48    WI        8.5        8.2               24\n",
       "49    WY       13.4       16.2                6"
      ]
     },
     "execution_count": 2,
     "metadata": {},
     "output_type": "execute_result"
    }
   ],
   "source": [
    "df = pd.read_csv('firearms-combined.csv')\n",
    "\n",
    "df"
   ]
  },
  {
   "cell_type": "code",
   "execution_count": 3,
   "metadata": {},
   "outputs": [
    {
     "data": {
      "image/png": "[encoded data removed]",
      "text/plain": [
       "<Figure size 720x360 with 1 Axes>"
      ]
     },
     "metadata": {},
     "output_type": "display_data"
    }
   ],
   "source": [
    "rate2005 = df['RATE-2005'].to_numpy()\n",
    "rate2014 = df['RATE-2014'].to_numpy()\n",
    "\n",
    "plt.figure(figsize=(10,5))\n",
    "plt.hist(rate2005,alpha=0.6,bins=15,label='2005')\n",
    "plt.hist(rate2014,alpha=0.6,bins=15,label='2014');\n",
    "plt.legend(fontsize=15)\n",
    "plt.xlabel('Mortality rate (deaths per 100k people)', size=15)\n",
    "plt.ylabel('Counts', size=15);"
   ]
  },
  {
   "cell_type": "code",
   "execution_count": 4,
   "metadata": {},
   "outputs": [
    {
     "data": {
      "text/plain": [
       "0.6300000000000026"
      ]
     },
     "execution_count": 4,
     "metadata": {},
     "output_type": "execute_result"
    }
   ],
   "source": [
    "# Statistic - difference of the sample averages\n",
    "\n",
    "diff = rate2014.mean()-rate2005.mean()\n",
    "diff"
   ]
  },
  {
   "cell_type": "markdown",
   "metadata": {},
   "source": [
    "### Bootstrap Model 1"
   ]
  },
  {
   "cell_type": "code",
   "execution_count": 5,
   "metadata": {},
   "outputs": [
    {
     "data": {
      "text/plain": [
       "array([16. , 17.5, 16.1, 15.7,  9.5, 11.6,  5.3,  8.8, 10. , 12.1,  2.1,\n",
       "       14.1,  8. , 11.2,  6.7,  9.3, 13. , 18.5,  7.8, 11.9,  3.4, 10.8,\n",
       "        7. , 16. , 12.9, 16.9,  7.7, 16.1,  6.6,  5.2, 13.9,  5.3, 12.8,\n",
       "        8.8,  9.6, 13.2, 10.7, 10.8,  3.6, 13.8, 10.2, 16. , 11.1, 10.1,\n",
       "        6.8, 11.5,  8.8, 13.8,  8.5, 13.4, 16.9, 19.2, 13.5, 16.6,  7.4,\n",
       "       12.2,  5. , 11.1, 11.5, 13.7,  2.6, 13.2,  9. , 12.4,  7.5, 11.3,\n",
       "       13.9, 19. ,  9.4,  9. ,  3.2, 11.1,  6.6, 18.3, 15.3, 16.1,  9.5,\n",
       "       14.8,  8.7,  5.3, 16. ,  4.2, 11.8, 12.3, 10.3, 15.7, 11.7, 10.5,\n",
       "        3. , 15.5, 10.3, 15.1, 10.7, 12.3, 10.3, 10.3,  9.7, 14.6,  8.2,\n",
       "       16.2])"
      ]
     },
     "execution_count": 5,
     "metadata": {},
     "output_type": "execute_result"
    }
   ],
   "source": [
    "pooled = np.concatenate((rate2005, rate2014))\n",
    "pooled"
   ]
  },
  {
   "cell_type": "code",
   "execution_count": 6,
   "metadata": {},
   "outputs": [
    {
     "name": "stdout",
     "output_type": "stream",
     "text": [
      "100 100 (100,)\n"
     ]
    }
   ],
   "source": [
    "print(pooled.size, len(pooled), pooled.shape)"
   ]
  },
  {
   "cell_type": "markdown",
   "metadata": {},
   "source": [
    "* How would we randomly choose from this data **with replacement**?\n",
    "\n",
    "* And, if each resample is a new sample, which size should the resample have?"
   ]
  },
  {
   "cell_type": "code",
   "execution_count": 7,
   "metadata": {},
   "outputs": [
    {
     "name": "stdout",
     "output_type": "stream",
     "text": [
      "[15.7, 15.3, 6.6, 15.7, 18.5, 6.6, 16.9, 10.3, 16.0, 13.7, 3.0, 18.5, 13.8, 10.5, 11.8, 12.2, 15.1, 15.7, 18.5, 5.0, 16.2, 11.2, 10.8, 9.0, 11.6, 18.5, 11.7, 5.3, 8.2, 10.3, 17.5, 13.0, 13.9, 17.5, 13.9, 5.3, 11.1, 10.7, 18.5, 5.3, 7.4, 8.7, 10.2, 6.6, 16.0, 16.0, 8.5, 16.2, 16.0, 6.6]\n"
     ]
    }
   ],
   "source": [
    "# resample for, for example, rate-2005\n",
    "print(random.choices(pooled, k=50))"
   ]
  },
  {
   "cell_type": "markdown",
   "metadata": {
    "slideshow": {
     "slide_type": "slide"
    }
   },
   "source": [
    "Recall that ```numpy.random``` has a similar method:"
   ]
  },
  {
   "cell_type": "code",
   "execution_count": 8,
   "metadata": {},
   "outputs": [
    {
     "data": {
      "text/plain": [
       "array([19.2, 10.1, 16.1, 18.5, 14.6, 12.8, 16.1,  2.1,  5.3, 16. , 14.1,\n",
       "        6.7,  7.4,  9. , 13.8,  8. ,  9.3,  9. , 13.8, 19. , 12.2, 10.3,\n",
       "        3. , 10. , 16.1,  4.2, 11.5,  5. , 10.7, 13.4, 12.2, 13. , 10.3,\n",
       "       11.6,  5.3, 19.2,  8.5,  9.6, 11.1,  3. , 15.7, 18.3,  8.7,  2.6,\n",
       "       16. , 10.3, 11.9,  8.2, 11.5,  5.2])"
      ]
     },
     "execution_count": 8,
     "metadata": {},
     "output_type": "execute_result"
    }
   ],
   "source": [
    "npr.choice(pooled, size=50)"
   ]
  },
  {
   "cell_type": "markdown",
   "metadata": {},
   "source": [
    "For a significance level of $\\alpha = 0.05$, let's build a Bootstrap simulation to compute the probability of observing a mean difference of 0.63 or larger:"
   ]
  },
  {
   "cell_type": "code",
   "execution_count": 9,
   "metadata": {},
   "outputs": [
    {
     "name": "stdout",
     "output_type": "stream",
     "text": [
      "Under null hypothesis, observe effect this large with prob.  0.435\n",
      "p-value =  0.435\n"
     ]
    }
   ],
   "source": [
    "num_sims=10_000\n",
    "event_count=0\n",
    "\n",
    "for sim in range(num_sims):\n",
    "    resample05 = npr.choice(pooled, size=50) # Bootstrap, sampling from pooling with replacement\n",
    "    resample14 = npr.choice(pooled, size=50) \n",
    "    \n",
    "    # Computes resample averages\n",
    "    mean05 = resample05.mean()\n",
    "    mean14 = resample14.mean()\n",
    "    \n",
    "    # statistic - difference of the sample averages\n",
    "    resample_diff = mean14 - mean05\n",
    "    \n",
    "    # Compare the resampled statistic with the observed statistic value (diff)\n",
    "    # We want to count extreme events, i.e., observing a resampled \n",
    "    #statistic larger or equal then the original one\n",
    "    if abs(resample_diff) >= diff: # 2-sided hypothesis test \n",
    "        event_count+=1\n",
    "    \n",
    "    \n",
    "print(\"Under null hypothesis, observe effect this large with prob. \", event_count/num_sims)\n",
    "print('p-value = ',event_count/num_sims)"
   ]
  },
  {
   "cell_type": "markdown",
   "metadata": {},
   "source": [
    "* **What is the conclusion?**\n",
    "\n",
    "    * **Is the result statistically significant?** No, because the p-value is larger than $\\alpha=0.05$.\n",
    "    * **Can we reject the null hypothesis?** No, \"we cannot reject the null hypothesis\".\n",
    "    * **Conclusion:** The data suggests that the ban did not have an effect of firearm mortality rate."
   ]
  },
  {
   "cell_type": "markdown",
   "metadata": {},
   "source": [
    "### Bootstrap Model 2"
   ]
  },
  {
   "cell_type": "markdown",
   "metadata": {},
   "source": [
    "A more reasonable bootstrap approach would be to randomly assign values from 2005 or 2014 **for each state** and then assess the difference:"
   ]
  },
  {
   "cell_type": "code",
   "execution_count": 10,
   "metadata": {},
   "outputs": [
    {
     "data": {
      "text/plain": [
       "(50, 2)"
      ]
     },
     "execution_count": 10,
     "metadata": {},
     "output_type": "execute_result"
    }
   ],
   "source": [
    "stacked_data = np.vstack((rate2005, rate2014)).T\n",
    "\n",
    "stacked_data.shape"
   ]
  },
  {
   "cell_type": "code",
   "execution_count": 11,
   "metadata": {},
   "outputs": [
    {
     "data": {
      "text/plain": [
       "(50, 2)"
      ]
     },
     "execution_count": 11,
     "metadata": {},
     "output_type": "execute_result"
    }
   ],
   "source": [
    "# Alternative: Use the Pandas library\n",
    "\n",
    "stacked_data = df[['RATE-2005', 'RATE-2014']].to_numpy()\n",
    "\n",
    "stacked_data.shape"
   ]
  },
  {
   "cell_type": "code",
   "execution_count": 12,
   "metadata": {},
   "outputs": [
    {
     "data": {
      "text/plain": [
       "array([[16. , 16.9],\n",
       "       [17.5, 19.2],\n",
       "       [16.1, 13.5],\n",
       "       [15.7, 16.6],\n",
       "       [ 9.5,  7.4],\n",
       "       [11.6, 12.2],\n",
       "       [ 5.3,  5. ],\n",
       "       [ 8.8, 11.1],\n",
       "       [10. , 11.5],\n",
       "       [12.1, 13.7],\n",
       "       [ 2.1,  2.6],\n",
       "       [14.1, 13.2],\n",
       "       [ 8. ,  9. ],\n",
       "       [11.2, 12.4],\n",
       "       [ 6.7,  7.5],\n",
       "       [ 9.3, 11.3],\n",
       "       [13. , 13.9],\n",
       "       [18.5, 19. ],\n",
       "       [ 7.8,  9.4],\n",
       "       [11.9,  9. ],\n",
       "       [ 3.4,  3.2],\n",
       "       [10.8, 11.1],\n",
       "       [ 7. ,  6.6],\n",
       "       [16. , 18.3],\n",
       "       [12.9, 15.3],\n",
       "       [16.9, 16.1],\n",
       "       [ 7.7,  9.5],\n",
       "       [16.1, 14.8],\n",
       "       [ 6.6,  8.7],\n",
       "       [ 5.2,  5.3],\n",
       "       [13.9, 16. ],\n",
       "       [ 5.3,  4.2],\n",
       "       [12.8, 11.8],\n",
       "       [ 8.8, 12.3],\n",
       "       [ 9.6, 10.3],\n",
       "       [13.2, 15.7],\n",
       "       [10.7, 11.7],\n",
       "       [10.8, 10.5],\n",
       "       [ 3.6,  3. ],\n",
       "       [13.8, 15.5],\n",
       "       [10.2, 10.3],\n",
       "       [16. , 15.1],\n",
       "       [11.1, 10.7],\n",
       "       [10.1, 12.3],\n",
       "       [ 6.8, 10.3],\n",
       "       [11.5, 10.3],\n",
       "       [ 8.8,  9.7],\n",
       "       [13.8, 14.6],\n",
       "       [ 8.5,  8.2],\n",
       "       [13.4, 16.2]])"
      ]
     },
     "execution_count": 12,
     "metadata": {},
     "output_type": "execute_result"
    }
   ],
   "source": [
    "stacked_data"
   ]
  },
  {
   "cell_type": "markdown",
   "metadata": {},
   "source": [
    "Now, we want to a special kind of array indexing: **fancy indexing**."
   ]
  },
  {
   "cell_type": "code",
   "execution_count": 13,
   "metadata": {},
   "outputs": [
    {
     "data": {
      "text/plain": [
       "array([1, 0, 1, 0, 0, 1, 1, 0, 0, 0, 0, 1, 0, 0, 1, 0, 0, 0, 0, 1, 1, 1,\n",
       "       0, 1, 1, 0, 1, 0, 1, 1, 1, 0, 0, 1, 0, 0, 0, 0, 0, 1, 1, 0, 1, 1,\n",
       "       0, 0, 0, 0, 1, 1])"
      ]
     },
     "execution_count": 13,
     "metadata": {},
     "output_type": "execute_result"
    }
   ],
   "source": [
    "a = npr.randint(2, size=50)\n",
    "a"
   ]
  },
  {
   "cell_type": "code",
   "execution_count": 14,
   "metadata": {},
   "outputs": [
    {
     "data": {
      "text/plain": [
       "array([16.9, 17.5, 13.5, 15.7,  9.5, 12.2,  5. ,  8.8, 10. , 12.1,  2.1,\n",
       "       13.2,  8. , 11.2,  7.5,  9.3, 13. , 18.5,  7.8,  9. ,  3.2, 11.1,\n",
       "        7. , 18.3, 15.3, 16.9,  9.5, 16.1,  8.7,  5.3, 16. ,  5.3, 12.8,\n",
       "       12.3,  9.6, 13.2, 10.7, 10.8,  3.6, 15.5, 10.3, 16. , 10.7, 12.3,\n",
       "        6.8, 11.5,  8.8, 13.8,  8.2, 16.2])"
      ]
     },
     "execution_count": 14,
     "metadata": {},
     "output_type": "execute_result"
    }
   ],
   "source": [
    "stacked_data[range(50),a] # 2-D Fancy indexing"
   ]
  },
  {
   "cell_type": "markdown",
   "metadata": {},
   "source": [
    "For a significance level of $\\alpha = 0.05$, let's build a Bootstrap simulation to compute the probability of observing a mean difference of 0.63 or larger:"
   ]
  },
  {
   "cell_type": "code",
   "execution_count": 15,
   "metadata": {},
   "outputs": [
    {
     "name": "stdout",
     "output_type": "stream",
     "text": [
      "Under null hypothesis, observe effect this large with prob.  0.0001\n"
     ]
    }
   ],
   "source": [
    "num_sims=10_000\n",
    "event_count=0\n",
    "\n",
    "for sim in range(num_sims):\n",
    "    resample05 = stacked_data[range(50), npr.randint(2, size=50)] # 2-D Fancy indexing\n",
    "    resample14 = stacked_data[range(50), npr.randint(2, size=50)]\n",
    "    \n",
    "    mean05 = resample05.mean()\n",
    "    mean14 = resample14.mean()\n",
    "    \n",
    "    sample_diff = mean14-mean05\n",
    "    \n",
    "    if abs(sample_diff)>= diff: # \n",
    "        event_count+=1\n",
    "    \n",
    "\n",
    "print(\"Under null hypothesis, observe effect this large with prob. \",event_count/num_sims)"
   ]
  },
  {
   "cell_type": "markdown",
   "metadata": {},
   "source": [
    "* **What is the conclusion?**\n",
    "\n",
    "    * **Is the result statistically significant?** Yes, because the p-value is smaller than $\\alpha=0.05$.\n",
    "    * **Can we reject the null hypothesis?** Yes, we reject the null hypothesis.\n",
    "    * **Conclusion:** Under this interpretation, the restriction on assault weapons is associated with an increase in mean firearms morality.\n",
    "\n",
    "It depends on how you interpret the data!"
   ]
  },
  {
   "cell_type": "markdown",
   "metadata": {},
   "source": [
    "### Distribution of the bootstrap mean-difference"
   ]
  },
  {
   "cell_type": "markdown",
   "metadata": {},
   "source": [
    "Every time we create a bootstrap value for the difference of means, we create a new random value. Let's see how the bootstrap means are distributed by looking at a histogram of those values:"
   ]
  },
  {
   "cell_type": "code",
   "execution_count": 16,
   "metadata": {},
   "outputs": [
    {
     "data": {
      "image/png": "[encoded data removed]",
      "text/plain": [
       "<Figure size 432x288 with 1 Axes>"
      ]
     },
     "metadata": {},
     "output_type": "display_data"
    }
   ],
   "source": [
    "num_sims=10_000\n",
    "bs_stats=[]\n",
    "\n",
    "for sim in range(num_sims):\n",
    "    resample05 = stacked_data[range(50), npr.randint(2, size=50)] # 2-D Fancy indexing\n",
    "    resample14 = stacked_data[range(50), npr.randint(2, size=50)]\n",
    "    \n",
    "    mean05 = resample05.mean()\n",
    "    mean14 = resample14.mean()\n",
    "    \n",
    "    sample_diff = mean14-mean05\n",
    "    bs_stats += [sample_diff]\n",
    "\n",
    "    \n",
    "plt.hist(bs_stats)\n",
    "plt.xlabel('Resampled Statistic (difference of means)')\n",
    "plt.ylabel('Counts')\n",
    "plt.title('Bootstrap sampling');"
   ]
  },
  {
   "cell_type": "markdown",
   "metadata": {},
   "source": [
    "A few obervations:\n",
    "    \n",
    "1. The difference of means has a bell shape -- we saw that before. Why do you think that is?\n",
    "2. Almost all of the values fall between -0.5 and +0.5. Thus, it is not surprising that getting a mean-difference as large as 0.6 is very rare."
   ]
  },
  {
   "cell_type": "markdown",
   "metadata": {},
   "source": [
    "**Topic for later:** The **Central Limit Theorem** (CLT) for sums says that if you keep drawing larger and larger samples and taking their sums, the sums form their own normal distribution (the sampling distribution), which approaches a normal distribution as the sample size increases. "
   ]
  },
  {
   "cell_type": "markdown",
   "metadata": {},
   "source": [
    "___"
   ]
  },
  {
   "cell_type": "markdown",
   "metadata": {},
   "source": [
    "We can now consider the question: **what values of the mean-difference will make it such that we have 95\\% confidence that we should ACCEPT the null hypothesis?**"
   ]
  },
  {
   "cell_type": "code",
   "execution_count": 17,
   "metadata": {},
   "outputs": [],
   "source": [
    "bs_stats.sort() # sorts (in ascendent order) in place\n",
    "# bs_stats"
   ]
  },
  {
   "cell_type": "code",
   "execution_count": 18,
   "metadata": {},
   "outputs": [
    {
     "data": {
      "text/plain": [
       "8"
      ]
     },
     "execution_count": 18,
     "metadata": {},
     "output_type": "execute_result"
    }
   ],
   "source": [
    "np.sum(np.array(bs_stats)<-0.5)"
   ]
  },
  {
   "cell_type": "code",
   "execution_count": 19,
   "metadata": {},
   "outputs": [
    {
     "data": {
      "text/plain": [
       "10000"
      ]
     },
     "execution_count": 19,
     "metadata": {},
     "output_type": "execute_result"
    }
   ],
   "source": [
    "len(bs_stats)"
   ]
  },
  {
   "cell_type": "markdown",
   "metadata": {},
   "source": [
    "So, the percentage of data lying below -0.5 is:"
   ]
  },
  {
   "cell_type": "code",
   "execution_count": 20,
   "metadata": {},
   "outputs": [
    {
     "data": {
      "text/plain": [
       "0.08"
      ]
     },
     "execution_count": 20,
     "metadata": {},
     "output_type": "execute_result"
    }
   ],
   "source": [
    "np.sum(np.array(bs_stats)<-0.5)/len(bs_stats)*100"
   ]
  },
  {
   "cell_type": "markdown",
   "metadata": {},
   "source": [
    "Similarly, the percentage lying above 0.5 is:"
   ]
  },
  {
   "cell_type": "code",
   "execution_count": 21,
   "metadata": {},
   "outputs": [
    {
     "data": {
      "text/plain": [
       "0.08"
      ]
     },
     "execution_count": 21,
     "metadata": {},
     "output_type": "execute_result"
    }
   ],
   "source": [
    "np.sum(np.array(bs_stats)>0.5)/len(bs_stats)*100"
   ]
  },
  {
   "cell_type": "code",
   "execution_count": 22,
   "metadata": {},
   "outputs": [
    {
     "data": {
      "text/plain": [
       "99.81"
      ]
     },
     "execution_count": 22,
     "metadata": {},
     "output_type": "execute_result"
    }
   ],
   "source": [
    "100 - 0.14 - 0.05"
   ]
  },
  {
   "cell_type": "markdown",
   "metadata": {},
   "source": [
    "Another way to express this is that 99.80% of the data is between $[-0.5, 0.5]$."
   ]
  },
  {
   "cell_type": "markdown",
   "metadata": {},
   "source": [
    "This is an example of a **confidence interval**. \n",
    "\n",
    "* Confidence intervals offer an alternative to $p$-values that provide more information. \n",
    "\n",
    "* When we say a $x$% confidence interval, we usually mean the region such that $(100-x)/2$% of samples will fall below the confidence interval, and $(100-x)/2$% of samples will fall above the confidence interval. "
   ]
  },
  {
   "cell_type": "markdown",
   "metadata": {},
   "source": [
    "The confidence interval for a bootstrap statistic cannot be known exactly, but it can be estimated accurately given enough samples of the bootstrap statistic."
   ]
  },
  {
   "cell_type": "markdown",
   "metadata": {},
   "source": [
    "# Confidence Intervals"
   ]
  },
  {
   "cell_type": "markdown",
   "metadata": {},
   "source": [
    "**Procedure for Estimating Confidence Interval for a Bootstrap Statistic**\n",
    "\n",
    "1. Draw $N$ samples from the pooled data using replacement\n",
    "2. For each sample(s), compute the desired statistic and store it\n",
    "3. Sort all of the stored statistics\n",
    "4. For confidence interval $x$%:\n",
    "    * the lower bound of the confidence interval is the element in position $N(1-x)/2$\n",
    "    * the upper bound of the confidence interval is the element in position $N-N(1-x)/2= N \\cdot x/2$"
   ]
  },
  {
   "cell_type": "markdown",
   "metadata": {},
   "source": [
    "**<font color=blue>Example 1:</font> Compute the 95% confidence interval for the example above.**"
   ]
  },
  {
   "cell_type": "code",
   "execution_count": 23,
   "metadata": {},
   "outputs": [],
   "source": [
    "bs_stats.sort()\n",
    "# bs_stats"
   ]
  },
  {
   "cell_type": "markdown",
   "metadata": {},
   "source": [
    "Find the **position** in the sorted sequence of the lower bound of the confidence interval:"
   ]
  },
  {
   "cell_type": "code",
   "execution_count": 24,
   "metadata": {},
   "outputs": [
    {
     "data": {
      "text/plain": [
       "250.00000000000023"
      ]
     },
     "execution_count": 24,
     "metadata": {},
     "output_type": "execute_result"
    }
   ],
   "source": [
    "lower = len(bs_stats)*(1-0.95)/2\n",
    "lower"
   ]
  },
  {
   "cell_type": "markdown",
   "metadata": {},
   "source": [
    "Now find the **value** of the sorted data at that position. That is the lower end of our confidence region:"
   ]
  },
  {
   "cell_type": "code",
   "execution_count": 25,
   "metadata": {},
   "outputs": [
    {
     "data": {
      "text/plain": [
       "-0.31200000000000117"
      ]
     },
     "execution_count": 25,
     "metadata": {},
     "output_type": "execute_result"
    }
   ],
   "source": [
    "bs_stats[int(lower)]"
   ]
  },
  {
   "cell_type": "markdown",
   "metadata": {},
   "source": [
    "Finding the position of the upper bound of the confidence interval is most easily done using the position of the lower bound:"
   ]
  },
  {
   "cell_type": "code",
   "execution_count": 26,
   "metadata": {},
   "outputs": [
    {
     "data": {
      "text/plain": [
       "9749.0"
      ]
     },
     "execution_count": 26,
     "metadata": {},
     "output_type": "execute_result"
    }
   ],
   "source": [
    "upper = len(bs_stats) -lower -1\n",
    "upper"
   ]
  },
  {
   "cell_type": "code",
   "execution_count": 27,
   "metadata": {},
   "outputs": [
    {
     "data": {
      "text/plain": [
       "0.3119999999999994"
      ]
     },
     "execution_count": 27,
     "metadata": {},
     "output_type": "execute_result"
    }
   ],
   "source": [
    "bs_stats[int(upper)]"
   ]
  },
  {
   "cell_type": "markdown",
   "metadata": {},
   "source": [
    "Thus, the 95% confidence interval is $[-0.31, 0.31]$."
   ]
  },
  {
   "cell_type": "markdown",
   "metadata": {},
   "source": [
    "**How can confidence intervals be used in place of $p$-values?** \n",
    "* Instead of conducting a binary hypothesis test with $\\alpha=0.05$, we can compute the 95% confidence interval for the mean difference. Then we observe if the result lies within the 95% confidence interval."
   ]
  },
  {
   "cell_type": "markdown",
   "metadata": {},
   "source": [
    "The observed mean-difference value was 0.63. This falls outside the 95% confidence interval $[-0.31,0.31]$. The fact that the observed value is far outside the 95% confidence interval makes it likely that we could have used a stronger criteria (like 99% confidence intervals)."
   ]
  },
  {
   "cell_type": "markdown",
   "metadata": {},
   "source": [
    "___"
   ]
  },
  {
   "cell_type": "markdown",
   "metadata": {},
   "source": [
    "___"
   ]
  },
  {
   "cell_type": "markdown",
   "metadata": {},
   "source": [
    "# Exact Permutation Tests"
   ]
  },
  {
   "cell_type": "markdown",
   "metadata": {},
   "source": [
    "<div class=\"alert alert-info\">\n",
    "    <b>Permutations</b>\n",
    "    \n",
    "**Sampling without replacement** from a pooling set better emulates **permutation** tests, where we check every possible reordering of the data into samples.\n",
    "</div>"
   ]
  },
  {
   "cell_type": "markdown",
   "metadata": {},
   "source": [
    "## Monte Carlo Permutation Test"
   ]
  },
  {
   "cell_type": "markdown",
   "metadata": {},
   "source": [
    "**<font color=blue>Example 2:</font> Let's consider the following question that should be of interest to engineers: *Do males score higher on standardized high school math and science tests than females?***"
   ]
  },
  {
   "cell_type": "markdown",
   "metadata": {},
   "source": [
    "* We will use data from the [\"High School & Beyond (HS&B)\" survey](https://nces.ed.gov/surveys/hsb/index.asp) conducted by the National Center for Education Statistics.\n",
    "\n",
    "* We are using a CSV file with 200 **randomly selected** observations from that data set. The CSV file is available [here](https://github.com/rpruim/OpenIntro/blob/master/data/hsb2.csv).\n",
    "\n",
    "* A brief discussion of the different fields is available [here](http://www.philender.com/courses/762/notes1/about_hsb2.html)."
   ]
  },
  {
   "cell_type": "code",
   "execution_count": 28,
   "metadata": {},
   "outputs": [
    {
     "data": {
      "text/html": [
       "<div>\n",
       "<style scoped>\n",
       "    .dataframe tbody tr th:only-of-type {\n",
       "        vertical-align: middle;\n",
       "    }\n",
       "\n",
       "    .dataframe tbody tr th {\n",
       "        vertical-align: top;\n",
       "    }\n",
       "\n",
       "    .dataframe thead th {\n",
       "        text-align: right;\n",
       "    }\n",
       "</style>\n",
       "<table border=\"1\" class=\"dataframe\">\n",
       "  <thead>\n",
       "    <tr style=\"text-align: right;\">\n",
       "      <th></th>\n",
       "      <th>id</th>\n",
       "      <th>gender</th>\n",
       "      <th>race</th>\n",
       "      <th>ses</th>\n",
       "      <th>schtyp</th>\n",
       "      <th>prog</th>\n",
       "      <th>read</th>\n",
       "      <th>write</th>\n",
       "      <th>math</th>\n",
       "      <th>science</th>\n",
       "      <th>socst</th>\n",
       "    </tr>\n",
       "  </thead>\n",
       "  <tbody>\n",
       "    <tr>\n",
       "      <th>0</th>\n",
       "      <td>70</td>\n",
       "      <td>male</td>\n",
       "      <td>white</td>\n",
       "      <td>low</td>\n",
       "      <td>public</td>\n",
       "      <td>general</td>\n",
       "      <td>57</td>\n",
       "      <td>52</td>\n",
       "      <td>41</td>\n",
       "      <td>47</td>\n",
       "      <td>57</td>\n",
       "    </tr>\n",
       "    <tr>\n",
       "      <th>1</th>\n",
       "      <td>121</td>\n",
       "      <td>female</td>\n",
       "      <td>white</td>\n",
       "      <td>middle</td>\n",
       "      <td>public</td>\n",
       "      <td>vocational</td>\n",
       "      <td>68</td>\n",
       "      <td>59</td>\n",
       "      <td>53</td>\n",
       "      <td>63</td>\n",
       "      <td>61</td>\n",
       "    </tr>\n",
       "    <tr>\n",
       "      <th>2</th>\n",
       "      <td>86</td>\n",
       "      <td>male</td>\n",
       "      <td>white</td>\n",
       "      <td>high</td>\n",
       "      <td>public</td>\n",
       "      <td>general</td>\n",
       "      <td>44</td>\n",
       "      <td>33</td>\n",
       "      <td>54</td>\n",
       "      <td>58</td>\n",
       "      <td>31</td>\n",
       "    </tr>\n",
       "    <tr>\n",
       "      <th>3</th>\n",
       "      <td>141</td>\n",
       "      <td>male</td>\n",
       "      <td>white</td>\n",
       "      <td>high</td>\n",
       "      <td>public</td>\n",
       "      <td>vocational</td>\n",
       "      <td>63</td>\n",
       "      <td>44</td>\n",
       "      <td>47</td>\n",
       "      <td>53</td>\n",
       "      <td>56</td>\n",
       "    </tr>\n",
       "    <tr>\n",
       "      <th>4</th>\n",
       "      <td>172</td>\n",
       "      <td>male</td>\n",
       "      <td>white</td>\n",
       "      <td>middle</td>\n",
       "      <td>public</td>\n",
       "      <td>academic</td>\n",
       "      <td>47</td>\n",
       "      <td>52</td>\n",
       "      <td>57</td>\n",
       "      <td>53</td>\n",
       "      <td>61</td>\n",
       "    </tr>\n",
       "    <tr>\n",
       "      <th>...</th>\n",
       "      <td>...</td>\n",
       "      <td>...</td>\n",
       "      <td>...</td>\n",
       "      <td>...</td>\n",
       "      <td>...</td>\n",
       "      <td>...</td>\n",
       "      <td>...</td>\n",
       "      <td>...</td>\n",
       "      <td>...</td>\n",
       "      <td>...</td>\n",
       "      <td>...</td>\n",
       "    </tr>\n",
       "    <tr>\n",
       "      <th>195</th>\n",
       "      <td>31</td>\n",
       "      <td>female</td>\n",
       "      <td>asian</td>\n",
       "      <td>middle</td>\n",
       "      <td>private</td>\n",
       "      <td>general</td>\n",
       "      <td>55</td>\n",
       "      <td>59</td>\n",
       "      <td>52</td>\n",
       "      <td>42</td>\n",
       "      <td>56</td>\n",
       "    </tr>\n",
       "    <tr>\n",
       "      <th>196</th>\n",
       "      <td>145</td>\n",
       "      <td>female</td>\n",
       "      <td>white</td>\n",
       "      <td>middle</td>\n",
       "      <td>public</td>\n",
       "      <td>vocational</td>\n",
       "      <td>42</td>\n",
       "      <td>46</td>\n",
       "      <td>38</td>\n",
       "      <td>36</td>\n",
       "      <td>46</td>\n",
       "    </tr>\n",
       "    <tr>\n",
       "      <th>197</th>\n",
       "      <td>187</td>\n",
       "      <td>female</td>\n",
       "      <td>white</td>\n",
       "      <td>middle</td>\n",
       "      <td>private</td>\n",
       "      <td>general</td>\n",
       "      <td>57</td>\n",
       "      <td>41</td>\n",
       "      <td>57</td>\n",
       "      <td>55</td>\n",
       "      <td>52</td>\n",
       "    </tr>\n",
       "    <tr>\n",
       "      <th>198</th>\n",
       "      <td>118</td>\n",
       "      <td>female</td>\n",
       "      <td>white</td>\n",
       "      <td>middle</td>\n",
       "      <td>public</td>\n",
       "      <td>general</td>\n",
       "      <td>55</td>\n",
       "      <td>62</td>\n",
       "      <td>58</td>\n",
       "      <td>58</td>\n",
       "      <td>61</td>\n",
       "    </tr>\n",
       "    <tr>\n",
       "      <th>199</th>\n",
       "      <td>137</td>\n",
       "      <td>female</td>\n",
       "      <td>white</td>\n",
       "      <td>high</td>\n",
       "      <td>public</td>\n",
       "      <td>academic</td>\n",
       "      <td>63</td>\n",
       "      <td>65</td>\n",
       "      <td>65</td>\n",
       "      <td>53</td>\n",
       "      <td>61</td>\n",
       "    </tr>\n",
       "  </tbody>\n",
       "</table>\n",
       "<p>200 rows × 11 columns</p>\n",
       "</div>"
      ],
      "text/plain": [
       "      id  gender   race     ses   schtyp        prog  read  write  math  \\\n",
       "0     70    male  white     low   public     general    57     52    41   \n",
       "1    121  female  white  middle   public  vocational    68     59    53   \n",
       "2     86    male  white    high   public     general    44     33    54   \n",
       "3    141    male  white    high   public  vocational    63     44    47   \n",
       "4    172    male  white  middle   public    academic    47     52    57   \n",
       "..   ...     ...    ...     ...      ...         ...   ...    ...   ...   \n",
       "195   31  female  asian  middle  private     general    55     59    52   \n",
       "196  145  female  white  middle   public  vocational    42     46    38   \n",
       "197  187  female  white  middle  private     general    57     41    57   \n",
       "198  118  female  white  middle   public     general    55     62    58   \n",
       "199  137  female  white    high   public    academic    63     65    65   \n",
       "\n",
       "     science  socst  \n",
       "0         47     57  \n",
       "1         63     61  \n",
       "2         58     31  \n",
       "3         53     56  \n",
       "4         53     61  \n",
       "..       ...    ...  \n",
       "195       42     56  \n",
       "196       36     46  \n",
       "197       55     52  \n",
       "198       58     61  \n",
       "199       53     61  \n",
       "\n",
       "[200 rows x 11 columns]"
      ]
     },
     "execution_count": 28,
     "metadata": {},
     "output_type": "execute_result"
    }
   ],
   "source": [
    "df = pd.read_csv('hsb2.csv')\n",
    "df"
   ]
  },
  {
   "cell_type": "code",
   "execution_count": 29,
   "metadata": {},
   "outputs": [
    {
     "data": {
      "text/html": [
       "<div>\n",
       "<style scoped>\n",
       "    .dataframe tbody tr th:only-of-type {\n",
       "        vertical-align: middle;\n",
       "    }\n",
       "\n",
       "    .dataframe tbody tr th {\n",
       "        vertical-align: top;\n",
       "    }\n",
       "\n",
       "    .dataframe thead th {\n",
       "        text-align: right;\n",
       "    }\n",
       "</style>\n",
       "<table border=\"1\" class=\"dataframe\">\n",
       "  <thead>\n",
       "    <tr style=\"text-align: right;\">\n",
       "      <th></th>\n",
       "      <th>id</th>\n",
       "      <th>gender</th>\n",
       "      <th>race</th>\n",
       "      <th>ses</th>\n",
       "      <th>schtyp</th>\n",
       "      <th>prog</th>\n",
       "      <th>read</th>\n",
       "      <th>write</th>\n",
       "      <th>math</th>\n",
       "      <th>science</th>\n",
       "      <th>socst</th>\n",
       "    </tr>\n",
       "  </thead>\n",
       "  <tbody>\n",
       "    <tr>\n",
       "      <th>0</th>\n",
       "      <td>70</td>\n",
       "      <td>male</td>\n",
       "      <td>white</td>\n",
       "      <td>low</td>\n",
       "      <td>public</td>\n",
       "      <td>general</td>\n",
       "      <td>57</td>\n",
       "      <td>52</td>\n",
       "      <td>41</td>\n",
       "      <td>47</td>\n",
       "      <td>57</td>\n",
       "    </tr>\n",
       "    <tr>\n",
       "      <th>1</th>\n",
       "      <td>121</td>\n",
       "      <td>female</td>\n",
       "      <td>white</td>\n",
       "      <td>middle</td>\n",
       "      <td>public</td>\n",
       "      <td>vocational</td>\n",
       "      <td>68</td>\n",
       "      <td>59</td>\n",
       "      <td>53</td>\n",
       "      <td>63</td>\n",
       "      <td>61</td>\n",
       "    </tr>\n",
       "    <tr>\n",
       "      <th>2</th>\n",
       "      <td>86</td>\n",
       "      <td>male</td>\n",
       "      <td>white</td>\n",
       "      <td>high</td>\n",
       "      <td>public</td>\n",
       "      <td>general</td>\n",
       "      <td>44</td>\n",
       "      <td>33</td>\n",
       "      <td>54</td>\n",
       "      <td>58</td>\n",
       "      <td>31</td>\n",
       "    </tr>\n",
       "    <tr>\n",
       "      <th>3</th>\n",
       "      <td>141</td>\n",
       "      <td>male</td>\n",
       "      <td>white</td>\n",
       "      <td>high</td>\n",
       "      <td>public</td>\n",
       "      <td>vocational</td>\n",
       "      <td>63</td>\n",
       "      <td>44</td>\n",
       "      <td>47</td>\n",
       "      <td>53</td>\n",
       "      <td>56</td>\n",
       "    </tr>\n",
       "    <tr>\n",
       "      <th>4</th>\n",
       "      <td>172</td>\n",
       "      <td>male</td>\n",
       "      <td>white</td>\n",
       "      <td>middle</td>\n",
       "      <td>public</td>\n",
       "      <td>academic</td>\n",
       "      <td>47</td>\n",
       "      <td>52</td>\n",
       "      <td>57</td>\n",
       "      <td>53</td>\n",
       "      <td>61</td>\n",
       "    </tr>\n",
       "    <tr>\n",
       "      <th>5</th>\n",
       "      <td>113</td>\n",
       "      <td>male</td>\n",
       "      <td>white</td>\n",
       "      <td>middle</td>\n",
       "      <td>public</td>\n",
       "      <td>academic</td>\n",
       "      <td>44</td>\n",
       "      <td>52</td>\n",
       "      <td>51</td>\n",
       "      <td>63</td>\n",
       "      <td>61</td>\n",
       "    </tr>\n",
       "    <tr>\n",
       "      <th>6</th>\n",
       "      <td>50</td>\n",
       "      <td>male</td>\n",
       "      <td>african american</td>\n",
       "      <td>middle</td>\n",
       "      <td>public</td>\n",
       "      <td>general</td>\n",
       "      <td>50</td>\n",
       "      <td>59</td>\n",
       "      <td>42</td>\n",
       "      <td>53</td>\n",
       "      <td>61</td>\n",
       "    </tr>\n",
       "    <tr>\n",
       "      <th>7</th>\n",
       "      <td>11</td>\n",
       "      <td>male</td>\n",
       "      <td>hispanic</td>\n",
       "      <td>middle</td>\n",
       "      <td>public</td>\n",
       "      <td>academic</td>\n",
       "      <td>34</td>\n",
       "      <td>46</td>\n",
       "      <td>45</td>\n",
       "      <td>39</td>\n",
       "      <td>36</td>\n",
       "    </tr>\n",
       "    <tr>\n",
       "      <th>8</th>\n",
       "      <td>84</td>\n",
       "      <td>male</td>\n",
       "      <td>white</td>\n",
       "      <td>middle</td>\n",
       "      <td>public</td>\n",
       "      <td>general</td>\n",
       "      <td>63</td>\n",
       "      <td>57</td>\n",
       "      <td>54</td>\n",
       "      <td>58</td>\n",
       "      <td>51</td>\n",
       "    </tr>\n",
       "    <tr>\n",
       "      <th>9</th>\n",
       "      <td>48</td>\n",
       "      <td>male</td>\n",
       "      <td>african american</td>\n",
       "      <td>middle</td>\n",
       "      <td>public</td>\n",
       "      <td>academic</td>\n",
       "      <td>57</td>\n",
       "      <td>55</td>\n",
       "      <td>52</td>\n",
       "      <td>50</td>\n",
       "      <td>51</td>\n",
       "    </tr>\n",
       "  </tbody>\n",
       "</table>\n",
       "</div>"
      ],
      "text/plain": [
       "    id  gender              race     ses  schtyp        prog  read  write  \\\n",
       "0   70    male             white     low  public     general    57     52   \n",
       "1  121  female             white  middle  public  vocational    68     59   \n",
       "2   86    male             white    high  public     general    44     33   \n",
       "3  141    male             white    high  public  vocational    63     44   \n",
       "4  172    male             white  middle  public    academic    47     52   \n",
       "5  113    male             white  middle  public    academic    44     52   \n",
       "6   50    male  african american  middle  public     general    50     59   \n",
       "7   11    male          hispanic  middle  public    academic    34     46   \n",
       "8   84    male             white  middle  public     general    63     57   \n",
       "9   48    male  african american  middle  public    academic    57     55   \n",
       "\n",
       "   math  science  socst  \n",
       "0    41       47     57  \n",
       "1    53       63     61  \n",
       "2    54       58     31  \n",
       "3    47       53     56  \n",
       "4    57       53     61  \n",
       "5    51       63     61  \n",
       "6    42       53     61  \n",
       "7    45       39     36  \n",
       "8    54       58     51  \n",
       "9    52       50     51  "
      ]
     },
     "execution_count": 29,
     "metadata": {},
     "output_type": "execute_result"
    }
   ],
   "source": [
    "df.head(10)"
   ]
  },
  {
   "cell_type": "code",
   "execution_count": 30,
   "metadata": {},
   "outputs": [
    {
     "data": {
      "text/plain": [
       "Index(['id', 'gender', 'race', 'ses', 'schtyp', 'prog', 'read', 'write',\n",
       "       'math', 'science', 'socst'],\n",
       "      dtype='object')"
      ]
     },
     "execution_count": 30,
     "metadata": {},
     "output_type": "execute_result"
    }
   ],
   "source": [
    "df.columns"
   ]
  },
  {
   "cell_type": "markdown",
   "metadata": {},
   "source": [
    "* We want to partition this dataframes into two separate dataframes according to gender.\n",
    "\n",
    "This is easy to do in pandas, but it looks a little strange. First we get a boolean Series the contains True for whichever rows we want to keep:"
   ]
  },
  {
   "cell_type": "code",
   "execution_count": 31,
   "metadata": {},
   "outputs": [
    {
     "data": {
      "text/plain": [
       "0      False\n",
       "1       True\n",
       "2      False\n",
       "3      False\n",
       "4      False\n",
       "       ...  \n",
       "195     True\n",
       "196     True\n",
       "197     True\n",
       "198     True\n",
       "199     True\n",
       "Name: gender, Length: 200, dtype: bool"
      ]
     },
     "execution_count": 31,
     "metadata": {},
     "output_type": "execute_result"
    }
   ],
   "source": [
    "df['gender']=='female'"
   ]
  },
  {
   "cell_type": "code",
   "execution_count": 32,
   "metadata": {},
   "outputs": [
    {
     "data": {
      "text/html": [
       "<div>\n",
       "<style scoped>\n",
       "    .dataframe tbody tr th:only-of-type {\n",
       "        vertical-align: middle;\n",
       "    }\n",
       "\n",
       "    .dataframe tbody tr th {\n",
       "        vertical-align: top;\n",
       "    }\n",
       "\n",
       "    .dataframe thead th {\n",
       "        text-align: right;\n",
       "    }\n",
       "</style>\n",
       "<table border=\"1\" class=\"dataframe\">\n",
       "  <thead>\n",
       "    <tr style=\"text-align: right;\">\n",
       "      <th></th>\n",
       "      <th>id</th>\n",
       "      <th>gender</th>\n",
       "      <th>race</th>\n",
       "      <th>ses</th>\n",
       "      <th>schtyp</th>\n",
       "      <th>prog</th>\n",
       "      <th>read</th>\n",
       "      <th>write</th>\n",
       "      <th>math</th>\n",
       "      <th>science</th>\n",
       "      <th>socst</th>\n",
       "    </tr>\n",
       "  </thead>\n",
       "  <tbody>\n",
       "    <tr>\n",
       "      <th>1</th>\n",
       "      <td>121</td>\n",
       "      <td>female</td>\n",
       "      <td>white</td>\n",
       "      <td>middle</td>\n",
       "      <td>public</td>\n",
       "      <td>vocational</td>\n",
       "      <td>68</td>\n",
       "      <td>59</td>\n",
       "      <td>53</td>\n",
       "      <td>63</td>\n",
       "      <td>61</td>\n",
       "    </tr>\n",
       "    <tr>\n",
       "      <th>92</th>\n",
       "      <td>82</td>\n",
       "      <td>female</td>\n",
       "      <td>white</td>\n",
       "      <td>high</td>\n",
       "      <td>public</td>\n",
       "      <td>academic</td>\n",
       "      <td>68</td>\n",
       "      <td>62</td>\n",
       "      <td>65</td>\n",
       "      <td>69</td>\n",
       "      <td>61</td>\n",
       "    </tr>\n",
       "    <tr>\n",
       "      <th>93</th>\n",
       "      <td>8</td>\n",
       "      <td>female</td>\n",
       "      <td>hispanic</td>\n",
       "      <td>low</td>\n",
       "      <td>public</td>\n",
       "      <td>academic</td>\n",
       "      <td>39</td>\n",
       "      <td>44</td>\n",
       "      <td>52</td>\n",
       "      <td>44</td>\n",
       "      <td>48</td>\n",
       "    </tr>\n",
       "    <tr>\n",
       "      <th>94</th>\n",
       "      <td>129</td>\n",
       "      <td>female</td>\n",
       "      <td>white</td>\n",
       "      <td>low</td>\n",
       "      <td>public</td>\n",
       "      <td>general</td>\n",
       "      <td>44</td>\n",
       "      <td>44</td>\n",
       "      <td>46</td>\n",
       "      <td>47</td>\n",
       "      <td>51</td>\n",
       "    </tr>\n",
       "    <tr>\n",
       "      <th>95</th>\n",
       "      <td>173</td>\n",
       "      <td>female</td>\n",
       "      <td>white</td>\n",
       "      <td>low</td>\n",
       "      <td>public</td>\n",
       "      <td>general</td>\n",
       "      <td>50</td>\n",
       "      <td>62</td>\n",
       "      <td>61</td>\n",
       "      <td>63</td>\n",
       "      <td>51</td>\n",
       "    </tr>\n",
       "    <tr>\n",
       "      <th>...</th>\n",
       "      <td>...</td>\n",
       "      <td>...</td>\n",
       "      <td>...</td>\n",
       "      <td>...</td>\n",
       "      <td>...</td>\n",
       "      <td>...</td>\n",
       "      <td>...</td>\n",
       "      <td>...</td>\n",
       "      <td>...</td>\n",
       "      <td>...</td>\n",
       "      <td>...</td>\n",
       "    </tr>\n",
       "    <tr>\n",
       "      <th>195</th>\n",
       "      <td>31</td>\n",
       "      <td>female</td>\n",
       "      <td>asian</td>\n",
       "      <td>middle</td>\n",
       "      <td>private</td>\n",
       "      <td>general</td>\n",
       "      <td>55</td>\n",
       "      <td>59</td>\n",
       "      <td>52</td>\n",
       "      <td>42</td>\n",
       "      <td>56</td>\n",
       "    </tr>\n",
       "    <tr>\n",
       "      <th>196</th>\n",
       "      <td>145</td>\n",
       "      <td>female</td>\n",
       "      <td>white</td>\n",
       "      <td>middle</td>\n",
       "      <td>public</td>\n",
       "      <td>vocational</td>\n",
       "      <td>42</td>\n",
       "      <td>46</td>\n",
       "      <td>38</td>\n",
       "      <td>36</td>\n",
       "      <td>46</td>\n",
       "    </tr>\n",
       "    <tr>\n",
       "      <th>197</th>\n",
       "      <td>187</td>\n",
       "      <td>female</td>\n",
       "      <td>white</td>\n",
       "      <td>middle</td>\n",
       "      <td>private</td>\n",
       "      <td>general</td>\n",
       "      <td>57</td>\n",
       "      <td>41</td>\n",
       "      <td>57</td>\n",
       "      <td>55</td>\n",
       "      <td>52</td>\n",
       "    </tr>\n",
       "    <tr>\n",
       "      <th>198</th>\n",
       "      <td>118</td>\n",
       "      <td>female</td>\n",
       "      <td>white</td>\n",
       "      <td>middle</td>\n",
       "      <td>public</td>\n",
       "      <td>general</td>\n",
       "      <td>55</td>\n",
       "      <td>62</td>\n",
       "      <td>58</td>\n",
       "      <td>58</td>\n",
       "      <td>61</td>\n",
       "    </tr>\n",
       "    <tr>\n",
       "      <th>199</th>\n",
       "      <td>137</td>\n",
       "      <td>female</td>\n",
       "      <td>white</td>\n",
       "      <td>high</td>\n",
       "      <td>public</td>\n",
       "      <td>academic</td>\n",
       "      <td>63</td>\n",
       "      <td>65</td>\n",
       "      <td>65</td>\n",
       "      <td>53</td>\n",
       "      <td>61</td>\n",
       "    </tr>\n",
       "  </tbody>\n",
       "</table>\n",
       "<p>109 rows × 11 columns</p>\n",
       "</div>"
      ],
      "text/plain": [
       "      id  gender      race     ses   schtyp        prog  read  write  math  \\\n",
       "1    121  female     white  middle   public  vocational    68     59    53   \n",
       "92    82  female     white    high   public    academic    68     62    65   \n",
       "93     8  female  hispanic     low   public    academic    39     44    52   \n",
       "94   129  female     white     low   public     general    44     44    46   \n",
       "95   173  female     white     low   public     general    50     62    61   \n",
       "..   ...     ...       ...     ...      ...         ...   ...    ...   ...   \n",
       "195   31  female     asian  middle  private     general    55     59    52   \n",
       "196  145  female     white  middle   public  vocational    42     46    38   \n",
       "197  187  female     white  middle  private     general    57     41    57   \n",
       "198  118  female     white  middle   public     general    55     62    58   \n",
       "199  137  female     white    high   public    academic    63     65    65   \n",
       "\n",
       "     science  socst  \n",
       "1         63     61  \n",
       "92        69     61  \n",
       "93        44     48  \n",
       "94        47     51  \n",
       "95        63     51  \n",
       "..       ...    ...  \n",
       "195       42     56  \n",
       "196       36     46  \n",
       "197       55     52  \n",
       "198       58     61  \n",
       "199       53     61  \n",
       "\n",
       "[109 rows x 11 columns]"
      ]
     },
     "execution_count": 32,
     "metadata": {},
     "output_type": "execute_result"
    }
   ],
   "source": [
    "females = df[df['gender']=='female']\n",
    "females"
   ]
  },
  {
   "cell_type": "code",
   "execution_count": 33,
   "metadata": {},
   "outputs": [
    {
     "data": {
      "text/html": [
       "<div>\n",
       "<style scoped>\n",
       "    .dataframe tbody tr th:only-of-type {\n",
       "        vertical-align: middle;\n",
       "    }\n",
       "\n",
       "    .dataframe tbody tr th {\n",
       "        vertical-align: top;\n",
       "    }\n",
       "\n",
       "    .dataframe thead th {\n",
       "        text-align: right;\n",
       "    }\n",
       "</style>\n",
       "<table border=\"1\" class=\"dataframe\">\n",
       "  <thead>\n",
       "    <tr style=\"text-align: right;\">\n",
       "      <th></th>\n",
       "      <th>id</th>\n",
       "      <th>gender</th>\n",
       "      <th>race</th>\n",
       "      <th>ses</th>\n",
       "      <th>schtyp</th>\n",
       "      <th>prog</th>\n",
       "      <th>read</th>\n",
       "      <th>write</th>\n",
       "      <th>math</th>\n",
       "      <th>science</th>\n",
       "      <th>socst</th>\n",
       "    </tr>\n",
       "  </thead>\n",
       "  <tbody>\n",
       "    <tr>\n",
       "      <th>0</th>\n",
       "      <td>70</td>\n",
       "      <td>male</td>\n",
       "      <td>white</td>\n",
       "      <td>low</td>\n",
       "      <td>public</td>\n",
       "      <td>general</td>\n",
       "      <td>57</td>\n",
       "      <td>52</td>\n",
       "      <td>41</td>\n",
       "      <td>47</td>\n",
       "      <td>57</td>\n",
       "    </tr>\n",
       "    <tr>\n",
       "      <th>2</th>\n",
       "      <td>86</td>\n",
       "      <td>male</td>\n",
       "      <td>white</td>\n",
       "      <td>high</td>\n",
       "      <td>public</td>\n",
       "      <td>general</td>\n",
       "      <td>44</td>\n",
       "      <td>33</td>\n",
       "      <td>54</td>\n",
       "      <td>58</td>\n",
       "      <td>31</td>\n",
       "    </tr>\n",
       "    <tr>\n",
       "      <th>3</th>\n",
       "      <td>141</td>\n",
       "      <td>male</td>\n",
       "      <td>white</td>\n",
       "      <td>high</td>\n",
       "      <td>public</td>\n",
       "      <td>vocational</td>\n",
       "      <td>63</td>\n",
       "      <td>44</td>\n",
       "      <td>47</td>\n",
       "      <td>53</td>\n",
       "      <td>56</td>\n",
       "    </tr>\n",
       "    <tr>\n",
       "      <th>4</th>\n",
       "      <td>172</td>\n",
       "      <td>male</td>\n",
       "      <td>white</td>\n",
       "      <td>middle</td>\n",
       "      <td>public</td>\n",
       "      <td>academic</td>\n",
       "      <td>47</td>\n",
       "      <td>52</td>\n",
       "      <td>57</td>\n",
       "      <td>53</td>\n",
       "      <td>61</td>\n",
       "    </tr>\n",
       "    <tr>\n",
       "      <th>5</th>\n",
       "      <td>113</td>\n",
       "      <td>male</td>\n",
       "      <td>white</td>\n",
       "      <td>middle</td>\n",
       "      <td>public</td>\n",
       "      <td>academic</td>\n",
       "      <td>44</td>\n",
       "      <td>52</td>\n",
       "      <td>51</td>\n",
       "      <td>63</td>\n",
       "      <td>61</td>\n",
       "    </tr>\n",
       "    <tr>\n",
       "      <th>...</th>\n",
       "      <td>...</td>\n",
       "      <td>...</td>\n",
       "      <td>...</td>\n",
       "      <td>...</td>\n",
       "      <td>...</td>\n",
       "      <td>...</td>\n",
       "      <td>...</td>\n",
       "      <td>...</td>\n",
       "      <td>...</td>\n",
       "      <td>...</td>\n",
       "      <td>...</td>\n",
       "    </tr>\n",
       "    <tr>\n",
       "      <th>87</th>\n",
       "      <td>117</td>\n",
       "      <td>male</td>\n",
       "      <td>white</td>\n",
       "      <td>high</td>\n",
       "      <td>public</td>\n",
       "      <td>vocational</td>\n",
       "      <td>34</td>\n",
       "      <td>49</td>\n",
       "      <td>39</td>\n",
       "      <td>42</td>\n",
       "      <td>56</td>\n",
       "    </tr>\n",
       "    <tr>\n",
       "      <th>88</th>\n",
       "      <td>133</td>\n",
       "      <td>male</td>\n",
       "      <td>white</td>\n",
       "      <td>middle</td>\n",
       "      <td>public</td>\n",
       "      <td>vocational</td>\n",
       "      <td>50</td>\n",
       "      <td>31</td>\n",
       "      <td>40</td>\n",
       "      <td>34</td>\n",
       "      <td>31</td>\n",
       "    </tr>\n",
       "    <tr>\n",
       "      <th>89</th>\n",
       "      <td>94</td>\n",
       "      <td>male</td>\n",
       "      <td>white</td>\n",
       "      <td>high</td>\n",
       "      <td>public</td>\n",
       "      <td>academic</td>\n",
       "      <td>55</td>\n",
       "      <td>49</td>\n",
       "      <td>61</td>\n",
       "      <td>61</td>\n",
       "      <td>56</td>\n",
       "    </tr>\n",
       "    <tr>\n",
       "      <th>90</th>\n",
       "      <td>24</td>\n",
       "      <td>male</td>\n",
       "      <td>asian</td>\n",
       "      <td>middle</td>\n",
       "      <td>public</td>\n",
       "      <td>academic</td>\n",
       "      <td>52</td>\n",
       "      <td>62</td>\n",
       "      <td>66</td>\n",
       "      <td>47</td>\n",
       "      <td>46</td>\n",
       "    </tr>\n",
       "    <tr>\n",
       "      <th>91</th>\n",
       "      <td>149</td>\n",
       "      <td>male</td>\n",
       "      <td>white</td>\n",
       "      <td>low</td>\n",
       "      <td>public</td>\n",
       "      <td>general</td>\n",
       "      <td>63</td>\n",
       "      <td>49</td>\n",
       "      <td>49</td>\n",
       "      <td>66</td>\n",
       "      <td>46</td>\n",
       "    </tr>\n",
       "  </tbody>\n",
       "</table>\n",
       "<p>91 rows × 11 columns</p>\n",
       "</div>"
      ],
      "text/plain": [
       "     id gender   race     ses  schtyp        prog  read  write  math  science  \\\n",
       "0    70   male  white     low  public     general    57     52    41       47   \n",
       "2    86   male  white    high  public     general    44     33    54       58   \n",
       "3   141   male  white    high  public  vocational    63     44    47       53   \n",
       "4   172   male  white  middle  public    academic    47     52    57       53   \n",
       "5   113   male  white  middle  public    academic    44     52    51       63   \n",
       "..  ...    ...    ...     ...     ...         ...   ...    ...   ...      ...   \n",
       "87  117   male  white    high  public  vocational    34     49    39       42   \n",
       "88  133   male  white  middle  public  vocational    50     31    40       34   \n",
       "89   94   male  white    high  public    academic    55     49    61       61   \n",
       "90   24   male  asian  middle  public    academic    52     62    66       47   \n",
       "91  149   male  white     low  public     general    63     49    49       66   \n",
       "\n",
       "    socst  \n",
       "0      57  \n",
       "2      31  \n",
       "3      56  \n",
       "4      61  \n",
       "5      61  \n",
       "..    ...  \n",
       "87     56  \n",
       "88     31  \n",
       "89     56  \n",
       "90     46  \n",
       "91     46  \n",
       "\n",
       "[91 rows x 11 columns]"
      ]
     },
     "execution_count": 33,
     "metadata": {},
     "output_type": "execute_result"
    }
   ],
   "source": [
    "males = df[df['gender']=='male']\n",
    "males"
   ]
  },
  {
   "cell_type": "markdown",
   "metadata": {},
   "source": [
    "Now, if we pass that Series as indices to the original dataframe, it will return a new dataframe with only those rows:"
   ]
  },
  {
   "cell_type": "markdown",
   "metadata": {},
   "source": [
    "Let's start with math scores:"
   ]
  },
  {
   "cell_type": "code",
   "execution_count": 34,
   "metadata": {},
   "outputs": [
    {
     "data": {
      "text/plain": [
       "0     41\n",
       "2     54\n",
       "3     47\n",
       "4     57\n",
       "5     51\n",
       "      ..\n",
       "87    39\n",
       "88    40\n",
       "89    61\n",
       "90    66\n",
       "91    49\n",
       "Name: math, Length: 91, dtype: int64"
      ]
     },
     "execution_count": 34,
     "metadata": {},
     "output_type": "execute_result"
    }
   ],
   "source": [
    "males['math']"
   ]
  },
  {
   "cell_type": "code",
   "execution_count": 35,
   "metadata": {},
   "outputs": [
    {
     "data": {
      "text/plain": [
       "array([41, 54, 47, 57, 51, 42, 45, 54, 52, 51, 51, 71, 57, 50, 43, 51, 60,\n",
       "       62, 57, 35, 75, 45, 57, 45, 46, 66, 57, 49, 49, 57, 64, 63, 57, 50,\n",
       "       58, 75, 68, 44, 40, 41, 62, 57, 43, 48, 63, 39, 70, 63, 59, 61, 38,\n",
       "       61, 49, 73, 44, 42, 39, 55, 52, 45, 61, 39, 41, 50, 40, 60, 47, 59,\n",
       "       49, 46, 58, 71, 58, 46, 43, 54, 56, 46, 54, 57, 54, 71, 48, 40, 64,\n",
       "       51, 39, 40, 61, 66, 49])"
      ]
     },
     "execution_count": 35,
     "metadata": {},
     "output_type": "execute_result"
    }
   ],
   "source": [
    "males['math'].to_numpy()"
   ]
  },
  {
   "cell_type": "code",
   "execution_count": null,
   "metadata": {},
   "outputs": [],
   "source": []
  },
  {
   "cell_type": "markdown",
   "metadata": {},
   "source": [
    "* What can you infer from this plot?"
   ]
  },
  {
   "cell_type": "code",
   "execution_count": 36,
   "metadata": {},
   "outputs": [
    {
     "data": {
      "image/png": "[encoded data removed]",
      "text/plain": [
       "<Figure size 432x288 with 1 Axes>"
      ]
     },
     "metadata": {},
     "output_type": "display_data"
    }
   ],
   "source": [
    "plt.hist(males['math'], alpha=0.5, label='males')\n",
    "plt.hist(females['math'], alpha=0.5, label='females')\n",
    "plt.legend();"
   ]
  },
  {
   "cell_type": "code",
   "execution_count": 37,
   "metadata": {},
   "outputs": [
    {
     "data": {
      "image/png": "[encoded data removed]",
      "text/plain": [
       "<Figure size 432x288 with 1 Axes>"
      ]
     },
     "metadata": {},
     "output_type": "display_data"
    }
   ],
   "source": [
    "counts, mybins, _ = plt.hist(males['math'], alpha=0.5, label='males')\n",
    "plt.hist(females['math'], bins=mybins, alpha=0.5, label='females')\n",
    "plt.legend();"
   ]
  },
  {
   "cell_type": "markdown",
   "metadata": {},
   "source": [
    "There is very little difference for mean math scores between gender -- I'm not even going to conduct a statistical test on those values."
   ]
  },
  {
   "cell_type": "markdown",
   "metadata": {},
   "source": [
    "Let's consider science scores:"
   ]
  },
  {
   "cell_type": "code",
   "execution_count": 38,
   "metadata": {},
   "outputs": [
    {
     "data": {
      "image/png": "[encoded data removed]",
      "text/plain": [
       "<Figure size 432x288 with 1 Axes>"
      ]
     },
     "metadata": {},
     "output_type": "display_data"
    }
   ],
   "source": [
    "counts, mybins, _ = plt.hist(males['science'], alpha=0.5, label='males')\n",
    "plt.hist(females['science'], bins=mybins, alpha=0.5, label='females')\n",
    "plt.legend();"
   ]
  },
  {
   "cell_type": "code",
   "execution_count": 39,
   "metadata": {},
   "outputs": [
    {
     "data": {
      "text/plain": [
       "2.533521524347215"
      ]
     },
     "execution_count": 39,
     "metadata": {},
     "output_type": "execute_result"
    }
   ],
   "source": [
    "# statistic (difference of means)\n",
    "\n",
    "diff = males['science'].mean() - females['science'].mean()\n",
    "diff"
   ]
  },
  {
   "cell_type": "markdown",
   "metadata": {},
   "source": [
    "If you had to perform an exact permutation test, i.e., try *all* the ways to resample the data into samples of size 91 and 109, how many different sample combinations are there?"
   ]
  },
  {
   "cell_type": "code",
   "execution_count": 48,
   "metadata": {},
   "outputs": [
    {
     "data": {
      "text/plain": [
       "4.040047748665152e+58"
      ]
     },
     "execution_count": 48,
     "metadata": {},
     "output_type": "execute_result"
    }
   ],
   "source": [
    "from scipy.special import binom\n",
    "binom(200,109)"
   ]
  },
  {
   "cell_type": "markdown",
   "metadata": {},
   "source": [
    "Instead, let's sample 10,000 of the permutations. Since there are so many, we will randomly select permutations, so there is some small probability of repeat.\n",
    "\n",
    "To choose the samples, we will permute the pooled data and then subdivide into the appropriate sizes:"
   ]
  },
  {
   "cell_type": "code",
   "execution_count": 49,
   "metadata": {},
   "outputs": [
    {
     "data": {
      "text/plain": [
       "(200,)"
      ]
     },
     "execution_count": 49,
     "metadata": {},
     "output_type": "execute_result"
    }
   ],
   "source": [
    "pooled = df['science'].to_numpy()\n",
    "\n",
    "pooled.shape"
   ]
  },
  {
   "cell_type": "code",
   "execution_count": 51,
   "metadata": {},
   "outputs": [
    {
     "name": "stdout",
     "output_type": "stream",
     "text": [
      "Prob of seeing average difference of  2.533521524347215  under H0 is ~ 0.0744\n"
     ]
    }
   ],
   "source": [
    "num_sims=10_000\n",
    "event_count=0\n",
    "\n",
    "for sim in range(num_sims):\n",
    "    perm = npr.permutation(pooled) # This will shuffle the points in the pooling set\n",
    "    \n",
    "#     male_sample = perm[0:len(males)] # extracts the first 91 samples\n",
    "    # Alternative \n",
    "    male_sample = perm[:len(males)]\n",
    "    \n",
    "#     female_sample = perm[len(males):(len(males)+len(females))] # extracts the last 109 samples\n",
    "    # Alternative\n",
    "    female_sample = perm[len(males):]\n",
    "    \n",
    "    # Resample Statistic\n",
    "    sample_diff = male_sample.mean() - female_sample.mean()\n",
    "    \n",
    "    # 2-sided hypothesis test\n",
    "    if abs(sample_diff) >= diff:\n",
    "        event_count+=1\n",
    "\n",
    "print('Prob of seeing average difference of ',diff,' under H0 is ~', event_count/num_sims)"
   ]
  },
  {
   "cell_type": "markdown",
   "metadata": {},
   "source": [
    "* **What are the set of hypothesis that we are working with?**\n",
    "\n",
    "    * $H_0$: gender does not affect standardized science tests\n",
    "    * $H_1$: gender affects standardized science tests"
   ]
  },
  {
   "cell_type": "markdown",
   "metadata": {},
   "source": [
    "* **What is the conclusion?**\n",
    "    * For a significance level of $\\alpha=0.01$ (or $\\alpha=0.05$), the result is not statistically significant.\n",
    "    * We cannot reject the null hypothesis. \n",
    "    * In other words, there is no evidence that males score higher than females on standardized science tests."
   ]
  },
  {
   "cell_type": "markdown",
   "metadata": {},
   "source": [
    "___"
   ]
  },
  {
   "cell_type": "markdown",
   "metadata": {},
   "source": [
    "# Gearing towards Bayesian reasoning..."
   ]
  },
  {
   "cell_type": "markdown",
   "metadata": {},
   "source": [
    "* From the example above, what if we had *known* that any one of the genders' scores reported in the HS&B survey were from a subset of elite students? \n",
    "\n",
    "* Could we use this *prior information* in the computation of the p-value?"
   ]
  },
  {
   "cell_type": "markdown",
   "metadata": {},
   "source": [
    "## Finding *A Posteriori* Probability"
   ]
  },
  {
   "cell_type": "markdown",
   "metadata": {},
   "source": [
    "Suppose you flip a (unknown) coin 8 times and it comes up heads every time. If this were a fair coin, the probability of this occurring is:"
   ]
  },
  {
   "cell_type": "code",
   "execution_count": 52,
   "metadata": {},
   "outputs": [
    {
     "data": {
      "text/plain": [
       "0.00390625"
      ]
     },
     "execution_count": 52,
     "metadata": {},
     "output_type": "execute_result"
    }
   ],
   "source": [
    "0.5**8"
   ]
  },
  {
   "cell_type": "markdown",
   "metadata": {},
   "source": [
    "**Without checking the coin, should you believe that the coin is two-headed?**"
   ]
  },
  {
   "cell_type": "markdown",
   "metadata": {},
   "source": [
    "Let $F$ be the event that the coin is fair, and $E$ be the event that the coin comes up heads 8 times out of 8."
   ]
  },
  {
   "cell_type": "markdown",
   "metadata": {},
   "source": [
    "1. What is the probability that we are asked to find? $P(F|E)$\n",
    "\n",
    "2. What type of probability is this? Posterior probability\n",
    "\n",
    "3. Do we know this probability? What do we know? We do not know the posterior probability, but we know the likelihood $P(E|F)$\n",
    "\n",
    "4. How can we determine $P(F|E)$? 1. Bayes rule analysis,  2. Using simulations"
   ]
  },
  {
   "cell_type": "markdown",
   "metadata": {},
   "source": [
    "In order to estimated the *a posteriori* probability, we need the *a priori* or *prior* probability, but there is no way for us to know the true *prior*. So what to do?\n",
    "\n",
    "We will have to choose the *prior*. How? There are 2 typical approaches:\n",
    "\n",
    "1. <font color=blue>**Uninformative prior**</font>: We choose a prior that basically assumes as little information about the inputs as possible. For discrete inputs, this will often be equally likely probabilities\n",
    "\n",
    "2. <font color=blue>**Informative prior**</font>: We choose a prior based on other knowledge of the problem"
   ]
  },
  {
   "cell_type": "markdown",
   "metadata": {},
   "source": [
    "<font color=blue> **Go through the following at home!** </font>"
   ]
  },
  {
   "cell_type": "markdown",
   "metadata": {},
   "source": [
    "## Uninformative Prior\n",
    "\n",
    "Let's assume that the probabilities that coin is fair or two-tailed are equally likely:"
   ]
  },
  {
   "cell_type": "code",
   "execution_count": null,
   "metadata": {},
   "outputs": [],
   "source": [
    "num_sims = 100_000\n",
    "flips = 8\n",
    "event_count = 0\n",
    "fair_count = 0\n",
    "\n",
    "cointypes = ['fair','2-headed']\n",
    "\n",
    "for sim in range(num_sims):\n",
    "    cointype = random.choice(cointypes)\n",
    "    if cointype == 'fair':\n",
    "        faces=['H','T']\n",
    "    else:\n",
    "        faces=['H','H']\n",
    "    coins = random.choices(faces, k=flips)\n",
    "    num_heads = coins.count('H')\n",
    "    if num_heads ==flips:\n",
    "        event_count+=1\n",
    "        if cointype=='fair':\n",
    "            fair_count+=1\n",
    "\n",
    "\n",
    "            \n",
    "print('Prob. of fair coin given that',flips,'heads in 8 flips observed is', fair_count/event_count)"
   ]
  },
  {
   "cell_type": "markdown",
   "metadata": {},
   "source": [
    "It is very unlikely that the coin was fair, under this uninformative prior."
   ]
  },
  {
   "cell_type": "markdown",
   "metadata": {},
   "source": [
    "Let's modify the code above to store the type of coin used for each simulation and create some graphical EDA."
   ]
  },
  {
   "cell_type": "code",
   "execution_count": null,
   "metadata": {},
   "outputs": [],
   "source": [
    "num_sims = 100_000\n",
    "flips = 8\n",
    "selected_coin=[]\n",
    "\n",
    "# Each coin is equally likely -- uninformative prior.\n",
    "cointypes = ['fair','2-headed']\n",
    "\n",
    "for sim in range(num_sims):\n",
    "    cointype = random.choice(cointypes)\n",
    "    if cointype=='fair':\n",
    "        S = ['H','T']\n",
    "    else:\n",
    "        S=['H','H']\n",
    "    coins = random.choices(S, k=flips)\n",
    "    num_heads = coins.count('H')\n",
    "    if num_heads == flips:\n",
    "        selected_coin+=[cointype]"
   ]
  },
  {
   "cell_type": "code",
   "execution_count": null,
   "metadata": {
    "scrolled": true
   },
   "outputs": [],
   "source": [
    "selected_coin.count('fair')/len(selected_coin)"
   ]
  },
  {
   "cell_type": "code",
   "execution_count": null,
   "metadata": {},
   "outputs": [],
   "source": [
    "selected_coin.count('2-headed')/len(selected_coin)"
   ]
  },
  {
   "cell_type": "code",
   "execution_count": null,
   "metadata": {},
   "outputs": [],
   "source": [
    "rel_freq = [selected_coin.count('fair')/len(selected_coin),\n",
    "            selected_coin.count('2-headed')/len(selected_coin)]"
   ]
  },
  {
   "cell_type": "code",
   "execution_count": null,
   "metadata": {},
   "outputs": [],
   "source": [
    "plt.bar(cointypes, rel_freq);"
   ]
  },
  {
   "cell_type": "code",
   "execution_count": null,
   "metadata": {},
   "outputs": [],
   "source": [
    "plt.bar(cointypes, rel_freq)\n",
    "plt.yscale('log');"
   ]
  },
  {
   "cell_type": "markdown",
   "metadata": {},
   "source": [
    "## Informative Prior\n",
    "\n",
    "What if you believe that **before** you observed the outcome, you thought the **probability that the coin was fair was at least 99/100**?"
   ]
  },
  {
   "cell_type": "code",
   "execution_count": null,
   "metadata": {},
   "outputs": [],
   "source": [
    "num_sims = 100_000\n",
    "flips = 8\n",
    "selected_coin=[]\n",
    "\n",
    "# Each coin will have its own probability\n",
    "# P(fair) = 99/100 and P(2-headed)=1/100\n",
    "cointypes = ['fair']*99 + ['2-headed']\n",
    "\n",
    "for sim in range(num_sims):\n",
    "    cointype = random.choice(cointypes)\n",
    "    if cointype=='fair':\n",
    "        S = ['H','T']\n",
    "    else:\n",
    "        S=['H','H']\n",
    "    coins = random.choices(S, k=flips)\n",
    "    num_heads = coins.count('H')\n",
    "    if num_heads == flips:\n",
    "        selected_coin+=[cointype]"
   ]
  },
  {
   "cell_type": "code",
   "execution_count": null,
   "metadata": {},
   "outputs": [],
   "source": [
    "rel_freq = [selected_coin.count('fair')/len(selected_coin),\n",
    "            selected_coin.count('2-headed')/len(selected_coin)]\n",
    "\n",
    "cointypes = ['fair','2-headed']\n",
    "\n",
    "plt.bar(cointypes, rel_freq);"
   ]
  },
  {
   "cell_type": "markdown",
   "metadata": {},
   "source": [
    "What if you believe that before you observed the outcome, you thought the **probability that the coin was fair was at least 999/1000**?"
   ]
  },
  {
   "cell_type": "code",
   "execution_count": null,
   "metadata": {},
   "outputs": [],
   "source": [
    "num_sims = 100_000\n",
    "flips = 8\n",
    "selected_coin=[]\n",
    "\n",
    "# Each coin will have its own probability\n",
    "# P(fair) = 999/1000 and P(2-headed)=1/1000\n",
    "cointypes = ['fair']*999 + ['2-headed']\n",
    "\n",
    "for sim in range(num_sims):\n",
    "    cointype = random.choice(cointypes)\n",
    "    if cointype=='fair':\n",
    "        S = ['H','T']\n",
    "    else:\n",
    "        S=['H','H']\n",
    "    coins = random.choices(S, k=flips)\n",
    "    num_heads = coins.count('H')\n",
    "    if num_heads == flips:\n",
    "        selected_coin+=[cointype]\n",
    "\n",
    "rel_freq = [selected_coin.count('fair')/len(selected_coin),\n",
    "            selected_coin.count('2-headed')/len(selected_coin)]\n",
    "plt.bar(['fair','2-headed'],rel_freq)\n",
    "plt.ylabel('P(coin|8 heads in 8 flips)\\n Posterior Probability')\n",
    "plt.xlabel('type of coin');"
   ]
  },
  {
   "cell_type": "markdown",
   "metadata": {},
   "source": [
    "### Discussion\n",
    "\n",
    "* The evidence that the coin is not fair is pretty strong because the probability of getting 8 heads on 8 flips is very small (1/2)^8. \n",
    "\n",
    "* However, under this prior belief, the probability of having a two-headed coin is also very, very small."
   ]
  },
  {
   "cell_type": "markdown",
   "metadata": {},
   "source": [
    "### What prior makes it equally likely for the coin to be fair or two-headed?\n",
    "\n",
    "**How many fair coins do we need to have in the box (and how many 2-headed coins) that will make it such that if we draw one coin at random, observing $N$ heads in $N$ flips of (the same) coin, is an equally likely event to occur with either a fair or a 2-headed coin?**"
   ]
  },
  {
   "cell_type": "code",
   "execution_count": null,
   "metadata": {},
   "outputs": [],
   "source": [
    "num_sims = 100_000\n",
    "flips = 8\n",
    "selected_coin=[]\n",
    "\n",
    "# Each coin will have its own probability\n",
    "# P(fair) = 256/257 and P(2-headed)=1/257\n",
    "cointypes = ['fair']*256 + ['2-headed']\n",
    "\n",
    "for sim in range(num_sims):\n",
    "    cointype = random.choice(cointypes)\n",
    "    if cointype=='fair':\n",
    "        S = ['H','T']\n",
    "    else:\n",
    "        S=['H','H']\n",
    "    coins = random.choices(S, k=flips)\n",
    "    num_heads = coins.count('H')\n",
    "    if num_heads == flips:\n",
    "        selected_coin+=[cointype]\n",
    "\n",
    "rel_freq = [selected_coin.count('fair')/len(selected_coin),\n",
    "            selected_coin.count('2-headed')/len(selected_coin)]\n",
    "plt.bar(['fair','2-headed'],rel_freq)\n",
    "plt.ylabel('P(coin|8 heads in 8 flips)\\n Posterior Probability')\n",
    "plt.xlabel('type of coin');"
   ]
  },
  {
   "cell_type": "markdown",
   "metadata": {},
   "source": [
    "### How can we find this analytically?\n",
    "\n",
    "**<font color=blue>Example 1:</font>** Suppose we have a box where we will place a certain amount of fair coins and a certain amount of 2-headed coins.\n",
    "\n",
    "**How many fair coins do we need to have in the box (and how many 2-headed coins) that will make it such that if we draw one coin at random, observing $N$ heads in $N$ flips of (the same) coin, is an equally likely event to occur with either a fair or a 2-headed coin?**\n",
    "\n",
    "<!-- * Let $F$ be the event that a fair coin was selected, $\\overline{F}$ the event that a 2-headed coin was selected, and $E_i$ be the event that $i$ heads occur in $i$ flips of a coin.\n",
    "\n",
    "We want to find $p = P(F)$ such that:\n",
    "\n",
    "\\begin{align*}\n",
    "P(F|E_{8}) = P(\\overline{F}|E_{8}) = \\frac{1}{2}\n",
    "\\end{align*}\n",
    "\n",
    "Check: $P(F|E_{8}) + P(\\overline{F}|E_{8}) = 1$.\n",
    "\n",
    "Applying the Bayes' rule:\n",
    "\n",
    "\\begin{align*}\n",
    "P(F|E_8) &= \\frac{1}{2}\\\\\n",
    "\\frac{P(E_8|F)P(F)}{P(E_8)} &= \\frac{1}{2}\\\\\n",
    "\\frac{P(E_8|F)P(F)}{P(E_8|F)P(F) + P(E_8|\\overline{F})P(\\overline{F})} &= \\frac{1}{2}\\\\\n",
    "\\frac{(1/2)^8 p}{(1/2)^8 p + (1)^8 (1-p)} &= \\frac{1}{2}\\\\\n",
    "p &= \\frac{2^8}{2^8 + 1} = \\frac{256}{257}\n",
    "\\end{align*}\n",
    "\n",
    "For a streak of $N$ heads:\n",
    "\\begin{align*}\n",
    "\\frac{(1/2)^N p}{(1/2)^N p + (1)^N (1-p)} &= \\frac{1}{2}\\\\\n",
    "p &= \\frac{2^N}{2^N + 1}\n",
    "\\end{align*}\n",
    "\n",
    "Therefore, when $N=8$, $p = P(F) = \\frac{2^8}{2^8 +1}$, that is, we need 255 fair coins and only 1 2-headed coin in the box such that when we select one coin at random and flip 8 times, it is equally for either a fair or a 2-headed coin to produce the outcome all heads. -->"
   ]
  },
  {
   "cell_type": "markdown",
   "metadata": {},
   "source": [
    "___"
   ]
  },
  {
   "cell_type": "markdown",
   "metadata": {},
   "source": [
    "<font color=blue> **We resumed in class here!** </font>"
   ]
  },
  {
   "cell_type": "markdown",
   "metadata": {},
   "source": [
    "# Bayesian Binary Hypothesis Testing\n",
    "\n",
    "## Extending the set of priors\n",
    "\n",
    "Consider again the example of flipping a coin 8 times and observing 8 heads. We wish to generalize our experimental test to deal with other cases beyond just either fair or two-sided.\n",
    "\n",
    "Coins can be biased to land on one side more than the other. We can extend our previous experiment to allow any probability of heads from 0 to 1. Let's take a sample every 0.01:"
   ]
  },
  {
   "cell_type": "code",
   "execution_count": 53,
   "metadata": {},
   "outputs": [
    {
     "data": {
      "text/plain": [
       "array([0.  , 0.01, 0.02, 0.03, 0.04, 0.05, 0.06, 0.07, 0.08, 0.09, 0.1 ,\n",
       "       0.11, 0.12, 0.13, 0.14, 0.15, 0.16, 0.17, 0.18, 0.19, 0.2 , 0.21,\n",
       "       0.22, 0.23, 0.24, 0.25, 0.26, 0.27, 0.28, 0.29, 0.3 , 0.31, 0.32,\n",
       "       0.33, 0.34, 0.35, 0.36, 0.37, 0.38, 0.39, 0.4 , 0.41, 0.42, 0.43,\n",
       "       0.44, 0.45, 0.46, 0.47, 0.48, 0.49, 0.5 , 0.51, 0.52, 0.53, 0.54,\n",
       "       0.55, 0.56, 0.57, 0.58, 0.59, 0.6 , 0.61, 0.62, 0.63, 0.64, 0.65,\n",
       "       0.66, 0.67, 0.68, 0.69, 0.7 , 0.71, 0.72, 0.73, 0.74, 0.75, 0.76,\n",
       "       0.77, 0.78, 0.79, 0.8 , 0.81, 0.82, 0.83, 0.84, 0.85, 0.86, 0.87,\n",
       "       0.88, 0.89, 0.9 , 0.91, 0.92, 0.93, 0.94, 0.95, 0.96, 0.97, 0.98,\n",
       "       0.99, 1.  ])"
      ]
     },
     "execution_count": 53,
     "metadata": {},
     "output_type": "execute_result"
    }
   ],
   "source": [
    "# probability of flipping Heads\n",
    "\n",
    "np.linspace(0,1,101)"
   ]
  },
  {
   "cell_type": "markdown",
   "metadata": {},
   "source": [
    "### Prep-Work: Randomly Sample From a Probabilistic Model\n",
    "\n",
    "To simulate an event with arbitary probability $P_E$:\n",
    "\n",
    "1. Generate a random number R that is equally likely to be between 0 and 1.\n",
    "\n",
    "2. If $R \\le P_E$, then in the simulation, the event occurs. Otherwise it does not occur."
   ]
  },
  {
   "cell_type": "markdown",
   "metadata": {},
   "source": [
    "We can generate the required random number using different libraries. "
   ]
  },
  {
   "cell_type": "code",
   "execution_count": 54,
   "metadata": {},
   "outputs": [],
   "source": [
    "?npr.random_sample"
   ]
  },
  {
   "cell_type": "code",
   "execution_count": 55,
   "metadata": {},
   "outputs": [],
   "source": [
    "?npr.uniform"
   ]
  },
  {
   "cell_type": "code",
   "execution_count": 56,
   "metadata": {},
   "outputs": [
    {
     "name": "stdout",
     "output_type": "stream",
     "text": [
      "According to the simulation Pe ~= 0.129892\n"
     ]
    }
   ],
   "source": [
    "# Example simulation\n",
    "Pe=0.13 #selected coin\n",
    "num_sims=1_000_000\n",
    "\n",
    "event_count=0\n",
    "for sim in range(num_sims):\n",
    "    if npr.uniform()<=Pe:\n",
    "        event_count+=1\n",
    "\n",
    "print('According to the simulation Pe ~=', event_count/num_sims)"
   ]
  },
  {
   "cell_type": "code",
   "execution_count": 83,
   "metadata": {},
   "outputs": [
    {
     "name": "stdout",
     "output_type": "stream",
     "text": [
      "According to the simulation Pe ~= 0.129947\n"
     ]
    }
   ],
   "source": [
    "# Faster simulation\n",
    "Pe=0.13\n",
    "num_sims=1_000_000\n",
    "\n",
    "R = npr.uniform(size=num_sims)\n",
    "event_count = np.sum(R<=Pe)\n",
    "\n",
    "print('According to the simulation Pe ~=', event_count/num_sims)"
   ]
  },
  {
   "cell_type": "markdown",
   "metadata": {},
   "source": [
    "Coming back to our coin example:"
   ]
  },
  {
   "cell_type": "code",
   "execution_count": 88,
   "metadata": {},
   "outputs": [],
   "source": [
    "def exactcoins(flips=8, target=-1, num_sims=100_000):\n",
    "    \n",
    "    if target==-1:\n",
    "        target = flips # if default value, we will count # Heads in flips = # flips.\n",
    "        \n",
    "    # Set of coins\n",
    "    allcoins = np.linspace(0,1,101)\n",
    "    \n",
    "    events = []\n",
    "    for sim in range(num_sims):\n",
    "        prob_heads = npr.choice(allcoins) # selects the coin \n",
    "        R = npr.uniform(size=flips) # generate \"flips\" random values in the interval [0,1]\n",
    "        num_heads = np.sum(R <= prob_heads) # count how many random values are less than the selected coin prob.\n",
    "        if num_heads == target:\n",
    "            events += [prob_heads]\n",
    "#             print(events)\n",
    "            \n",
    "    vals, counts = np.unique(events, return_counts=True) # counts unique elements in \"events\"\n",
    "    plt.bar(vals, counts/len(events), width=0.01) \n",
    "    plt.xlabel('Prior Probability, p', size=15)\n",
    "    plt.ylabel('Posterior Probability for \\n '+str(target)+' heads in '+str(flips)+' flips',size=15);\n",
    "    \n",
    "    return events"
   ]
  },
  {
   "cell_type": "code",
   "execution_count": 89,
   "metadata": {},
   "outputs": [
    {
     "data": {
      "image/png": "[encoded data removed]",
      "text/plain": [
       "<Figure size 432x288 with 1 Axes>"
      ]
     },
     "metadata": {},
     "output_type": "display_data"
    }
   ],
   "source": [
    "events = exactcoins();"
   ]
  },
  {
   "cell_type": "markdown",
   "metadata": {},
   "source": [
    "The posterior is not 1 even when the prior is 1, because it is divided by the \"evidence\", or $P(B)$."
   ]
  },
  {
   "cell_type": "markdown",
   "metadata": {},
   "source": [
    "* How can we use this to conduct a statistical test? \n",
    "\n",
    "* The output is a full set of *a posterior* probabilities for all of the possible prior probability, $p$, values considered.\n",
    "\n",
    "A typical approach is to check if a 95% or 99% confidence interval contains the fair coin ($p=0.5$)."
   ]
  },
  {
   "cell_type": "markdown",
   "metadata": {},
   "source": [
    "Here are two basic approaches to finding the 95% confidence interval (without assuming anything about the distribution of the data):"
   ]
  },
  {
   "cell_type": "markdown",
   "metadata": {},
   "source": [
    "## Confidence Interval Calculation Way 1\n",
    "\n",
    "Sort the data and find the points that are 2.5% and 97.5% of the way through the sorted data."
   ]
  },
  {
   "cell_type": "code",
   "execution_count": null,
   "metadata": {},
   "outputs": [],
   "source": []
  },
  {
   "cell_type": "code",
   "execution_count": 62,
   "metadata": {},
   "outputs": [],
   "source": [
    "def confidence_interval(data, C):\n",
    "    '''Finds the C% confidence interval given data.\n",
    "    C is a number between 0 and 100.'''\n",
    "    \n",
    "    alpha = 1-C/100 # if C=95%, alpha=0.05\n",
    "    N = len(data) # number of samples in data\n",
    "    \n",
    "    # Formulas from above for the upper and lower bound CI values\n",
    "    # correspond to the index locations in variable data\n",
    "    lower_bound = int(N*alpha/2)\n",
    "    upper_bound = N - lower_bound -1 \n",
    "    \n",
    "    print('bounds: ',lower_bound, upper_bound)\n",
    "    \n",
    "    sorted_data = np.sort(data) # sorts in ascendent order\n",
    "    \n",
    "    print(C,'% CI [',sorted_data[lower_bound],',',\n",
    "         sorted_data[upper_bound],']')"
   ]
  },
  {
   "cell_type": "code",
   "execution_count": 63,
   "metadata": {},
   "outputs": [],
   "source": [
    "confidence_interval?"
   ]
  },
  {
   "cell_type": "code",
   "execution_count": 64,
   "metadata": {},
   "outputs": [
    {
     "name": "stdout",
     "output_type": "stream",
     "text": [
      "bounds:  288 11252\n",
      "95 % CI [ 0.67 , 1.0 ]\n"
     ]
    }
   ],
   "source": [
    "confidence_interval(events, 95)"
   ]
  },
  {
   "cell_type": "code",
   "execution_count": 65,
   "metadata": {},
   "outputs": [
    {
     "name": "stdout",
     "output_type": "stream",
     "text": [
      "bounds:  57 11483\n",
      "99 % CI [ 0.5700000000000001 , 1.0 ]\n"
     ]
    }
   ],
   "source": [
    "confidence_interval(events, 99)"
   ]
  },
  {
   "cell_type": "markdown",
   "metadata": {},
   "source": [
    "* **What is your conclusion?**\n",
    "\n",
    "<!-- Under this set of prior probabilities, we would reject the possibility that a fair coin generated the outcome 8 heads in 8 flips, because $p=0.5$ does not lie in neither the 95% or 99% confidence intervals. -->"
   ]
  },
  {
   "cell_type": "markdown",
   "metadata": {},
   "source": [
    "## Confidence Interval Calculation Way 2\n",
    "\n",
    "* The thing that makes it hard to find the confidence intervals from the graph is that we are really asking about the sums of the probabilities of the tails of the plot.\n",
    "\n",
    "* If we sum up the data as we move from left to right and plot the **running sums** (or **cumulative sum**), then we can see where we hit probabilities of 0.025 and 0.975.\n",
    "\n",
    "* ```numpy``` has a cumulative sum function ```np.cumsum``` to do just this:"
   ]
  },
  {
   "cell_type": "markdown",
   "metadata": {},
   "source": [
    "<font color=blue> **Go through the following at home!** "
   ]
  },
  {
   "cell_type": "code",
   "execution_count": 66,
   "metadata": {},
   "outputs": [],
   "source": [
    "vals, counts = np.unique(events, return_counts=True)\n",
    "\n",
    "# Take the running sum or cumulative sum of these posterior probabilities\n",
    "sum_counts = np.cumsum(counts/len(events))"
   ]
  },
  {
   "cell_type": "code",
   "execution_count": 67,
   "metadata": {},
   "outputs": [
    {
     "data": {
      "text/plain": [
       "(array([27, 28, 29, 30, 31, 32, 33, 34, 35, 36, 37, 38, 39, 40, 41, 42, 43,\n",
       "        44, 45, 46, 47, 48, 49, 50, 51, 52, 53, 54, 55, 56, 57, 58, 59, 60]),)"
      ]
     },
     "execution_count": 67,
     "metadata": {},
     "output_type": "execute_result"
    }
   ],
   "source": [
    "# What point, do I have accumulated 2.5% probability\n",
    "\n",
    "np.nonzero(sum_counts>=0.025)"
   ]
  },
  {
   "cell_type": "code",
   "execution_count": 68,
   "metadata": {},
   "outputs": [
    {
     "data": {
      "text/plain": [
       "array([27, 28, 29, 30, 31, 32, 33, 34, 35, 36, 37, 38, 39, 40, 41, 42, 43,\n",
       "       44, 45, 46, 47, 48, 49, 50, 51, 52, 53, 54, 55, 56, 57, 58, 59, 60])"
      ]
     },
     "execution_count": 68,
     "metadata": {},
     "output_type": "execute_result"
    }
   ],
   "source": [
    "np.nonzero(sum_counts>=0.025)[0]"
   ]
  },
  {
   "cell_type": "code",
   "execution_count": 69,
   "metadata": {},
   "outputs": [
    {
     "data": {
      "text/plain": [
       "27"
      ]
     },
     "execution_count": 69,
     "metadata": {},
     "output_type": "execute_result"
    }
   ],
   "source": [
    "np.nonzero(sum_counts>=0.025)[0][0]"
   ]
  },
  {
   "cell_type": "code",
   "execution_count": 70,
   "metadata": {},
   "outputs": [
    {
     "data": {
      "text/plain": [
       "0.64"
      ]
     },
     "execution_count": 70,
     "metadata": {},
     "output_type": "execute_result"
    }
   ],
   "source": [
    "vals[24]"
   ]
  },
  {
   "cell_type": "code",
   "execution_count": 71,
   "metadata": {},
   "outputs": [],
   "source": [
    "def confidence_interval2(data, C):\n",
    "    \n",
    "    alpha = 1-C/100 # if C=95%, alpha=0.05\n",
    "    N = len(data)\n",
    "    \n",
    "    vals, counts = np.unique(data, return_counts=True)\n",
    "    \n",
    "    sum_counts = np.cumsum(counts/N)\n",
    "    \n",
    "    lower_bound = np.nonzero(sum_counts>=alpha/2)[0][0]\n",
    "    upper_bound = np.nonzero(sum_counts>=(1-alpha/2))[0][0]\n",
    "    \n",
    "    plt.bar(vals, sum_counts, width=0.01)\n",
    "    plt.plot(vals, [alpha/2]*len(vals), 'r')\n",
    "    plt.plot(vals, [1-alpha/2]*len(vals), 'g')\n",
    "    plt.xlabel('Prior Probability, p',size=15)\n",
    "    plt.ylabel('Cumulative/Runnin Sum', size=15)\n",
    "    \n",
    "    print(C,'% confidence interval : [',vals[lower_bound],',',\n",
    "         vals[upper_bound],']')"
   ]
  },
  {
   "cell_type": "code",
   "execution_count": 72,
   "metadata": {},
   "outputs": [
    {
     "name": "stdout",
     "output_type": "stream",
     "text": [
      "95 % confidence interval : [ 0.67 , 1.0 ]\n"
     ]
    },
    {
     "data": {
      "image/png": "[encoded data removed]",
      "text/plain": [
       "<Figure size 432x288 with 1 Axes>"
      ]
     },
     "metadata": {},
     "output_type": "display_data"
    }
   ],
   "source": [
    "confidence_interval2(events, 95)"
   ]
  },
  {
   "cell_type": "markdown",
   "metadata": {},
   "source": [
    "### What is the set of *a posteriori* probabilities look like if we observe 4 heads on 8 flips of a coin?"
   ]
  },
  {
   "cell_type": "code",
   "execution_count": 73,
   "metadata": {},
   "outputs": [
    {
     "data": {
      "image/png": "[encoded data removed]",
      "text/plain": [
       "<Figure size 432x288 with 1 Axes>"
      ]
     },
     "metadata": {},
     "output_type": "display_data"
    }
   ],
   "source": [
    "events2 = exactcoins(8,4)"
   ]
  },
  {
   "cell_type": "code",
   "execution_count": 74,
   "metadata": {},
   "outputs": [
    {
     "name": "stdout",
     "output_type": "stream",
     "text": [
      "bounds:  275 10736\n",
      "95 % CI [ 0.21 , 0.79 ]\n"
     ]
    }
   ],
   "source": [
    "confidence_interval(events2, 95)"
   ]
  },
  {
   "cell_type": "code",
   "execution_count": 75,
   "metadata": {},
   "outputs": [
    {
     "name": "stdout",
     "output_type": "stream",
     "text": [
      "95 % confidence interval : [ 0.21 , 0.79 ]\n"
     ]
    },
    {
     "data": {
      "image/png": "[encoded data removed]",
      "text/plain": [
       "<Figure size 432x288 with 1 Axes>"
      ]
     },
     "metadata": {},
     "output_type": "display_data"
    }
   ],
   "source": [
    "confidence_interval2(events2, 95)"
   ]
  },
  {
   "cell_type": "code",
   "execution_count": 76,
   "metadata": {},
   "outputs": [
    {
     "name": "stdout",
     "output_type": "stream",
     "text": [
      "bounds:  55 10956\n",
      "99 % CI [ 0.14 , 0.85 ]\n"
     ]
    }
   ],
   "source": [
    "confidence_interval(events2,99)"
   ]
  },
  {
   "cell_type": "code",
   "execution_count": 77,
   "metadata": {},
   "outputs": [
    {
     "name": "stdout",
     "output_type": "stream",
     "text": [
      "99 % confidence interval : [ 0.14 , 0.85 ]\n"
     ]
    },
    {
     "data": {
      "image/png": "[encoded data removed]",
      "text/plain": [
       "<Figure size 432x288 with 1 Axes>"
      ]
     },
     "metadata": {},
     "output_type": "display_data"
    }
   ],
   "source": [
    "confidence_interval2(events2,99)"
   ]
  },
  {
   "cell_type": "markdown",
   "metadata": {},
   "source": [
    "* What can you observed from this plot?\n",
    "\n",
    "The cumulative histogram is smooth, while the regular histogram is not."
   ]
  },
  {
   "cell_type": "markdown",
   "metadata": {},
   "source": [
    "To explore this any further, we'll need to extend our tools for modeling random phenomena."
   ]
  },
  {
   "cell_type": "markdown",
   "metadata": {},
   "source": [
    "<font color=blue> **We resumed here in class!**"
   ]
  },
  {
   "cell_type": "markdown",
   "metadata": {},
   "source": [
    "# Decision Rules"
   ]
  },
  {
   "cell_type": "markdown",
   "metadata": {},
   "source": [
    "We have studied two forms of statistically inferencing: classifical (or frequentist) and Bayesian."
   ]
  },
  {
   "cell_type": "markdown",
   "metadata": {
    "cell_style": "split"
   },
   "source": [
    "* **Frequentist statistician:**  draws conclusions from data by computing relative frequency of events in the data.\n",
    "\n",
    "    * It computes the probability of future events using past observations only.\n",
    "    * It computes the probability of *hypothesis*."
   ]
  },
  {
   "cell_type": "markdown",
   "metadata": {
    "cell_style": "split"
   },
   "source": [
    "* **Bayesian statistician:** draws conclusions from data by testing out the hypothesis and computing their observed probability from data.\n",
    "\n",
    "    * It computes the uncertainty of hypothesis by inducing prior beliefs.\n",
    "    * It tests hypothesis."
   ]
  },
  {
   "cell_type": "markdown",
   "metadata": {},
   "source": [
    "This gives rise to two general **decision rules** forms."
   ]
  },
  {
   "cell_type": "markdown",
   "metadata": {},
   "source": [
    "<div class=\"alert alert-info\" role=\"alert\">\n",
    "  <strong>Maximum Likelihood Estimation (MLE) Decision Rule</strong>\n",
    "\n",
    "If the set of events $\\{A_0, A_1\\}$ partitions $\\Omega$, and assuming $P(A_i)>0$, for all $i$. Then the Maximum Likelihood decision rule is given by:\n",
    "    \n",
    "\\begin{align*}\n",
    "P(B|A_0) \\underset{A_1}{\\overset{A_0}{\\gtrless}} P(B|A_1)\n",
    "\\end{align*}\n",
    "\n",
    "</div>"
   ]
  },
  {
   "cell_type": "markdown",
   "metadata": {},
   "source": [
    "<div class=\"alert alert-info\" role=\"alert\">\n",
    "  <strong>Maximum A Posteriori (MAP) Decision Rule</strong>\n",
    "\n",
    "If the set of events $\\{A_0, A_1\\}$ partitions $\\Omega$, and assuming $P(A_i)>0$, for all $i$. Then the Maximum A Posteriori decision rule is given by:\n",
    "    \n",
    "\\begin{align*}\n",
    "P(A_0|B) &\\underset{A_1}{\\overset{A_0}{\\gtrless}} P(A_1|B) \\\\\n",
    "\\iff \\frac{P(B|A_0)P(A_0)}{P(B)} &\\underset{A_1}{\\overset{A_0}{\\gtrless}} \\frac{P(B|A_1)P(A_1)}{P(B)}\n",
    "\\end{align*}\n",
    "    \n",
    "</div>"
   ]
  },
  {
   "cell_type": "markdown",
   "metadata": {},
   "source": [
    "**<font color=blue>Example:</font> Binary Communication System**\n",
    "\n",
    "* **A transmitter Tx sends $A_0$ and $A_1$.**\n",
    "* **A receiver Rx processes the output of the channel into one of two values $B_0$ and $B_1$.**\n",
    "* **The channel is a noisy channel that determines the probabilities between $A_0$, $A_1$ and $B_0$, $B_1$.**\n",
    "\n",
    "**The transitions are conditional probabilities $P(B_j|A_i)$ that can be specified on a channel transition diagram:**"
   ]
  },
  {
   "cell_type": "code",
   "execution_count": 81,
   "metadata": {},
   "outputs": [
    {
     "data": {
      "image/png": "[encoded data removed]",
      "text/plain": [
       "<IPython.core.display.Image object>"
      ]
     },
     "execution_count": 81,
     "metadata": {
      "image/png": {
       "width": 400
      }
     },
     "output_type": "execute_result"
    }
   ],
   "source": [
    "from IPython.display import Image\n",
    "Image('figures/transition.png',width=400)"
   ]
  },
  {
   "cell_type": "markdown",
   "metadata": {},
   "source": [
    "**The receiver must use a decision rule to determine from the output $B_0$ or $B_1$ whether the symbol that was sent was most likely $A_0$ or $A_1$.**\n",
    "\n",
    "**Decision rule: Always decide $A_1$. How often will we be in error?**"
   ]
  },
  {
   "cell_type": "markdown",
   "metadata": {},
   "source": [
    "1. **Determine the probability of error for these two scenarios.**\n",
    "    1. $P(A_0) = \\frac{2}{5}$, $P(A_1)=\\frac{3}{5}$\n",
    "    2. $P(A_0) = \\frac{1}{10}$, $P(A_1)=\\frac{9}{10}$"
   ]
  },
  {
   "cell_type": "markdown",
   "metadata": {},
   "source": [
    "The goal is to choose the transmitter Tx $A_i$ that maximize some probability. What is that probability? \"Probability of transmitter $A_j$ given that we received $B_i$\", that is,\n",
    "\n",
    "$$P(A_j|B_i), \\forall i,j=0,1$$\n",
    "\n",
    "So, for example, if we receive $B_0$ and observe the following \n",
    "$$P(A_0|B_0) > P(A_1|B_0)$$\n",
    "\n",
    "then we will decide $A_0$."
   ]
  },
  {
   "cell_type": "markdown",
   "metadata": {},
   "source": [
    "* What is the problem? We were not given $P(A_j|B_i)$! These are the posterior probabilities.\n",
    "\n",
    "* We were given:\n",
    "\n",
    "$$P(B_0|A_0) = \\frac{7}{8}, P(B_0|A_1) = \\frac{1}{6}, P(B_1|A_0) = \\frac{1}{8}, P(B_1|A_1) = \\frac{5}{6}$$\n",
    "\n",
    "* We can easily compute the posterior probabilities using the Bayes' rule:\n",
    "\n",
    "\\begin{align*}\n",
    "P(A_j|B_i) &= \\frac{P(A_j\\cap B_i)}{P(B_i)} \\\\ \n",
    "&=\\frac{P(B_i|A_j)P(A_j)}{P(B_i)} \\\\\n",
    "&=\\frac{P(B_i|A_j)P(A_j)}{\\sum_j P(B_i|A_j)P(A_j)}\n",
    "\\end{align*}"
   ]
  },
  {
   "cell_type": "markdown",
   "metadata": {},
   "source": [
    "Now we are ready to solve **problem 1**:\n",
    "\n",
    "**<font color=orange>Scenario A:</font>** Suppose that we always decide $A_1$. For $P(A_0) = \\frac{2}{5}$, $P(A_1)=\\frac{3}{5}$, we have:\n",
    "\n",
    "\\begin{align*}\n",
    "P(A_0|B_0) &\\underset{A_1}{\\overset{A_0}{\\gtrless}} P(A_1|B_0)\\\\\n",
    "\\frac{P(B_0|A_0)P(A_0)}{P(B_0)} &\\underset{A_1}{\\overset{A_0}{\\gtrless}} \\frac{P(B_0|A_1)P(A_1)}{P(B_0)} \\\\\n",
    "\\frac{\\frac{7}{8}\\times\\frac{2}{5}}{\\frac{9}{20}} &\\underset{A_1}{\\overset{A_0}{\\gtrless}} \\frac{\\frac{1}{6}\\times\\frac{3}{5}}{\\frac{9}{20}}\\\\\n",
    "\\frac{7}{9} &\\underset{A_1}{\\overset{A_0}{\\gtrless}} \\frac{2}{9} \\Rightarrow \\text{ Decide }A_0 \n",
    "\\end{align*}\n",
    "\n",
    "So, when $B_0$ is received, MAP decision rule is to decide $A_0$.\n",
    "\n",
    "Similarly, when $B_1$ is received, MAP decision rule is to decide $A_1$.\n",
    "\n",
    "If the decision rule is to always decide $A_1$, then we will have some errors. We can use the Law of Total probability to compute the overall probability of error $P(E)$:\n",
    "\n",
    "$$P(E) = P(E|B_0)P(B_0) + P(E|B_1)P(B_1)$$\n",
    "\n",
    "where\n",
    "\n",
    "$$P(B_0) = P(B_0|A_0)P(A_0) + P(B_0|A_1)P(A_1) = \\frac{7}{8}\\times\\frac{2}{5} + \\frac{1}{6}\\times\\frac{3}{5} = \\frac{9}{20}$$\n",
    "and\n",
    "$$P(B_1) = P(B_1|A_0)P(A_0) + P(B_1|A_1)P(A_1) = \\frac{1}{8}\\times\\frac{2}{5} + \\frac{5}{6}\\times\\frac{3}{5} = 1- P(B_0) = \\frac{11}{20}$$\n",
    "\n",
    "For this decision rule, we have that: \n",
    "\n",
    "$$P(E) = \\frac{7}{9}\\times\\frac{9}{20} + \\left(1-\\frac{10}{11}\\right)\\times\\frac{11}{20} = 0.4$$"
   ]
  },
  {
   "cell_type": "markdown",
   "metadata": {},
   "source": [
    "**<font color=orange>Scenario B:</font>** Suppose that we always decide $A_1$. For $P(A_0) = \\frac{1}{10}$, $P(A_1)=\\frac{9}{10}$, we have:\n",
    "\n",
    "\\begin{align*}\n",
    "P(A_0|B_0) &\\underset{A_1}{\\overset{A_0}{\\gtrless}} P(A_1|B_0)\\\\\n",
    "\\frac{P(B_0|A_0)P(A_0)}{P(B_0)} &\\underset{A_1}{\\overset{A_0}{\\gtrless}} \\frac{P(B_0|A_1)P(A_1)}{P(B_0)} \\\\\n",
    "\\frac{\\frac{7}{8}\\times\\frac{1}{10}}{\\frac{19}{80}} &\\underset{A_1}{\\overset{A_0}{\\gtrless}} \\frac{\\frac{1}{6}\\times\\frac{9}{10}}{\\frac{19}{80}}\\\\\n",
    "\\frac{7}{19} &\\underset{A_1}{\\overset{A_0}{\\gtrless}} \\frac{12}{19} \\Rightarrow \\text{ Decide }A_1\n",
    "\\end{align*}\n",
    "\n",
    "So, when $B_0$ is received, MAP decision rule is to decide $A_1$.\n",
    "\n",
    "Similarly, when $B_1$ is received, MAP decision rule is to decide $A_1$.\n",
    "\n",
    "When using the MAP decision rule, we will always decide $A_1$. This does not mean we will not make an error. We will make the correct decision for when receiving $B_0$ with $\\frac{12}{19}$ probability. But we will be in error with $1-\\frac{12}{19}$ probability for when we receive $B_0$. We apply the same reasoning for $B_1$.\n",
    "\n",
    "$$P(E) = P(E|B_0)P(B_0) + P(E|B_1)P(B_1)$$\n",
    "\n",
    "where\n",
    "\n",
    "$$P(B_0) = P(B_0|A_0)P(A_0) + P(B_0|A_1)P(A_1) = \\frac{7}{8}\\times\\frac{1}{10} + \\frac{1}{6}\\times\\frac{9}{10} = \\frac{19}{80}$$\n",
    "and\n",
    "$$P(B_1) = P(B_1|A_0)P(A_0) + P(B_1|A_1)P(A_1) = \\frac{1}{8}\\times\\frac{1}{10} + \\frac{5}{6}\\times\\frac{9}{10} = 1- P(B_0) = \\frac{61}{80}$$\n",
    "\n",
    "For this decision rule, we have that: \n",
    "\n",
    "$$P(E) = P(E|B_0)P(B_0) + P(E|B_1)P(B_1) = \\left(1-\\frac{12}{19}\\right)\\times\\frac{19}{80} + \\left(1-\\frac{60}{61}\\right)\\times\\frac{61}{80} = 0.1$$"
   ]
  },
  {
   "cell_type": "markdown",
   "metadata": {},
   "source": [
    "We changed the prior probability for both transmitters. In scenario B we are assuming that the probability that the Tx $A_0$ was used at 10\\% chance. Whereas in scenario A, we are assuming that the probability that Tx $A_0$ was used at 40\\%. "
   ]
  },
  {
   "cell_type": "markdown",
   "metadata": {},
   "source": [
    "<h2 align=\"center\"><font color=blue>This concludes all the material that will be covered in Exam 1</font></h2>"
   ]
  },
  {
   "cell_type": "code",
   "execution_count": null,
   "metadata": {},
   "outputs": [],
   "source": []
  }
 ],
 "metadata": {
  "kernelspec": {
   "display_name": "Python 3",
   "language": "python",
   "name": "python3"
  },
  "language_info": {
   "codemirror_mode": {
    "name": "ipython",
    "version": 3
   },
   "file_extension": ".py",
   "mimetype": "text/x-python",
   "name": "python",
   "nbconvert_exporter": "python",
   "pygments_lexer": "ipython3",
   "version": "3.8.8"
  },
  "latex_envs": {
   "LaTeX_envs_menu_present": true,
   "autoclose": false,
   "autocomplete": true,
   "bibliofile": "biblio.bib",
   "cite_by": "apalike",
   "current_citInitial": 1,
   "eqLabelWithNumbers": true,
   "eqNumInitial": 1,
   "hotkeys": {
    "equation": "Ctrl-E",
    "itemize": "Ctrl-I"
   },
   "labels_anchors": false,
   "latex_user_defs": false,
   "report_style_numbering": false,
   "user_envs_cfg": false
  },
  "varInspector": {
   "cols": {
    "lenName": 16,
    "lenType": 16,
    "lenVar": 40
   },
   "kernels_config": {
    "python": {
     "delete_cmd_postfix": "",
     "delete_cmd_prefix": "del ",
     "library": "var_list.py",
     "varRefreshCmd": "print(var_dic_list())"
    },
    "r": {
     "delete_cmd_postfix": ") ",
     "delete_cmd_prefix": "rm(",
     "library": "var_list.r",
     "varRefreshCmd": "cat(var_dic_list()) "
    }
   },
   "types_to_exclude": [
    "module",
    "function",
    "builtin_function_or_method",
    "instance",
    "_Feature"
   ],
   "window_display": false
  }
 },
 "nbformat": 4,
 "nbformat_minor": 4
}
