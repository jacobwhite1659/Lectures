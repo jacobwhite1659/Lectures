{
 "cells": [
  {
   "cell_type": "markdown",
   "metadata": {},
   "source": [
    "# Lecture 10 \n",
    "- Important Discrete Random Variables (Bernoulli, Binomial, Geometric, Poisson)\n",
    "- Properties of CDFs\n",
    "- Continuous Random Variables\n",
    "- Probability Density Functions"
   ]
  },
  {
   "cell_type": "markdown",
   "metadata": {},
   "source": [
    "___"
   ]
  },
  {
   "cell_type": "markdown",
   "metadata": {},
   "source": [
    "# Exam 1 rescheduled to <font color=blue> **Tuesday, October 4th** </font> @ 8.20pm\n",
    "\n",
    "### The location for Exam 1 is **LIT 0113** and **LIT 0121**. Students whose last name begins with **A-M** should go to **LIT 0113**, and those whose last name begins **N-Z** should go to **LIT 0121**. \n",
    "\n",
    "\n"
   ]
  },
  {
   "cell_type": "markdown",
   "metadata": {},
   "source": [
    "The exam has 2 parts:\n",
    "\n",
    "**<font color=blue>Part 1 - Analytical.</font>**\n",
    "* You are allowed 1-page letter-sized front and back of formulas (handwritten or typed).\n",
    "* You are allowed a scientific calculator.\n",
    "* **<font color=orange>TOTAL TIME:</font>** 1 hour\n",
    " \n",
    "\n",
    "**<font color=blue>Part 2 - Simulation.</font>**\n",
    "* Bring the computer you have been using with Anaconda installed.\n",
    "* This part is open-book. You are allowed access to the textbooks and lecture materials (including assignments).\n",
    "* You are allowed to use the internet, if needed.\n",
    "* *Recommended*: create a python \"cheat sheet\" where you will add useful functions, simulations and other Python implementations.\n",
    "* **<font color=orange>TOTAL TIME:</font>** 1 hour\n",
    "\n",
    "**<font color=red>Communications between students or anyone else is considered cheating. Turn off all Slack notifications and other communications channels!</font>**"
   ]
  },
  {
   "cell_type": "markdown",
   "metadata": {},
   "source": [
    "## Exam 1 Coverage\n",
    "\n",
    "Exam 1 will cover all materials from Lecture 1-7. These include:\n",
    "\n",
    "1. **Introduction to Data Science and Python**\n",
    "    * Building functions with Python (positional vs keyword argument parameters)\n",
    "    * Operate with ```numpy```, ```matplotlib``` and ```random``` libraries\n",
    "    \n",
    "2. **Introduction to Probability**\n",
    "    * Fair experiments\n",
    "    * Relative frequency\n",
    "    * Simulations\n",
    "    * Sample space\n",
    "    * Set operations\n",
    "    * Probabilistic models (axioms of probability and corollaries)\n",
    "    * Conditional Probability\n",
    "    * Statistical independence\n",
    "    * Law of Total Probability\n",
    "    * Bayes' Rule\n",
    "    * Frequentist vs Bayesian probability\n",
    "    * Combinatorics (sampling with and without replacement, with and without ordering)\n",
    "    * Histogram plots, bar plots\n",
    "    \n",
    "3. **Exploratory Data Analysis**\n",
    "    * Operate with the ```pandas``` library\n",
    "    * Summary statistics\n",
    "    * Boxplot (or whisker plot)\n",
    "    * Population, sample, statistics\n",
    "    \n",
    "4. **Hypothesis Testing and Confidence Intervals**\n",
    "    * Binary hypothesis testing (null hypothesis $H_0$ and alternative hypothesis $H_1$)\n",
    "    * One-sided and two-sided\n",
    "    * Resampling with Bootstrap\n",
    "    * Resampling with Permutation tests or Monte Carlo simulations\n",
    "    * p-value\n",
    "    * Significance value, $\\alpha$\n",
    "    * Confidence interval\n",
    "    * Bayesian Hypothesis Testing\n",
    "    \n",
    "5. **Introduction to Statistics**\n",
    "    * Statistical inference\n",
    "    * Decision rules\n",
    "    * Maximum Likelihood Estimation (MLE) decision rule\n",
    "    * Maximum A Posteriori (MAP) decision rule"
   ]
  },
  {
   "cell_type": "markdown",
   "metadata": {},
   "source": [
    "___"
   ]
  },
  {
   "cell_type": "markdown",
   "metadata": {},
   "source": [
    "# Cheating and Plagiarism\n",
    "You are expected to submit your own work. If you are suspected of dishonest academic activity, I will invite you to discuss it further in private. Academic dishonesty will likely result in grade reduction, with severity depending on the nature of the dishonest activity. I am obligated to report on academic misconduct with a letter to the department, college and/or university leadership. Repeat offenses will be treated with significantly greater severity."
   ]
  },
  {
   "cell_type": "markdown",
   "metadata": {},
   "source": [
    "___"
   ]
  },
  {
   "cell_type": "markdown",
   "metadata": {},
   "source": [
    "# Discrete Random Variables\n",
    "\n",
    "In Lecture 08, we introduced *random variables* (RVs), in particular *discrete RVs*."
   ]
  },
  {
   "cell_type": "markdown",
   "metadata": {},
   "source": [
    "<div class=\"alert alert-info\">\n",
    "    <b>Random Variable (RV)</b>\n",
    "    \n",
    "Given an experiment and the corresponding set of possible outcomes (the sample space), a **random variable** associates a particular *number* with each outcome. We refer to this number as the **numerical value** or simply the **value** of the RV. Mathematically, a **random variable is a real-valued function of the experimental outcome**.\n",
    "</div>"
   ]
  },
  {
   "cell_type": "markdown",
   "metadata": {},
   "source": [
    "<div class=\"alert alert-info\">\n",
    "    <b>Probability Mass Function (PMF)</b>\n",
    "\n",
    "If $(\\Omega,\\mathcal{F},P)$ is a probability space with $X$ a real discrete RV on $\\Omega$, if $x$ is any real number, the **probability mass** of $x$, denoted $p_X(x)$, is the probability of the event $\\{X=x\\}$ consisting of all outcomes that give rise to a value $X$ equal to $x$:\n",
    "\n",
    "$$p_X(x) = P(X=x)$$\n",
    "</div>"
   ]
  },
  {
   "cell_type": "markdown",
   "metadata": {},
   "source": [
    "<div class=\"alert alert-info\">\n",
    "    <b>Cumulative Distribution Function (CDF)</b>\n",
    "    \n",
    "If $(\\Omega,\\mathcal{F},P)$ is a probability space with $X$ a real discrete RV on $\\Omega$, the **Cumulative Distribution Function (CDF)** is denoted as $F_X(x)$ and provides the probability $P(X\\leq x)$. In particular, for every $x$ we have\n",
    "\n",
    "$$F_X(x) = P(X\\leq x) = \\sum_{k\\leq x} p_X(k)$$\n",
    "</div>"
   ]
  },
  {
   "cell_type": "markdown",
   "metadata": {},
   "source": [
    "# Important Discrete RVs"
   ]
  },
  {
   "cell_type": "code",
   "execution_count": null,
   "metadata": {},
   "outputs": [],
   "source": [
    "import numpy as np\n",
    "import numpy.random as npr\n",
    "\n",
    "import scipy.stats as stats\n",
    "\n",
    "import matplotlib.pyplot as plt\n",
    "%matplotlib inline\n",
    "plt.style.use('bmh')"
   ]
  },
  {
   "cell_type": "markdown",
   "metadata": {},
   "source": [
    "# The Bernoulli Random Variable\n",
    "\n",
    "An event $A\\in\\mathcal{F}$ is considered a \"success\".\n",
    "\n",
    "* A **Bernoulli RV** $X$ is defined by\n",
    "\n",
    "$$X(x) = \\begin{cases}1, & x\\in A \\\\ 0,& x\\notin A \\end{cases}$$\n",
    "\n",
    "* The PMF for a Bernoulli RV $X$ is defined by\n",
    "\n",
    "$$p_X(x) = P(X=x) = \\begin{cases}p,&x=1\\\\1-p,&x=0\\\\0,& \\text{o.w.}  \\end{cases}$$\n",
    "\n",
    "* We have seen this PMF before when we considered *data likelihood* for a coin flip. Remember for the toss of a coin, which comes up heads with probability $p$, and a tail with probability $1-p$.\n",
    "\n",
    "* We say that the \"R.V. $X$ follows a Bernoulli distribution with parameter $p$\" and we write this as:\n",
    "\n",
    "$$X \\sim \\text{Bernoulli}(p) $$\n",
    "\n",
    "* **Engineering examples/applications:** whether a bit is 0 or 1, whether a bit is in error, whether a component has failed, whether something has been detected."
   ]
  },
  {
   "cell_type": "code",
   "execution_count": null,
   "metadata": {},
   "outputs": [],
   "source": []
  },
  {
   "cell_type": "code",
   "execution_count": null,
   "metadata": {},
   "outputs": [],
   "source": []
  },
  {
   "cell_type": "code",
   "execution_count": null,
   "metadata": {},
   "outputs": [],
   "source": []
  },
  {
   "cell_type": "code",
   "execution_count": null,
   "metadata": {},
   "outputs": [],
   "source": []
  },
  {
   "cell_type": "code",
   "execution_count": null,
   "metadata": {},
   "outputs": [],
   "source": []
  },
  {
   "cell_type": "code",
   "execution_count": null,
   "metadata": {},
   "outputs": [],
   "source": []
  },
  {
   "cell_type": "code",
   "execution_count": null,
   "metadata": {},
   "outputs": [],
   "source": []
  },
  {
   "cell_type": "markdown",
   "metadata": {},
   "source": [
    "Let's now plot the histogram of this sample. Let's start by defining the bins of the histogram:"
   ]
  },
  {
   "cell_type": "code",
   "execution_count": null,
   "metadata": {},
   "outputs": [],
   "source": []
  },
  {
   "cell_type": "code",
   "execution_count": null,
   "metadata": {},
   "outputs": [],
   "source": []
  },
  {
   "cell_type": "markdown",
   "metadata": {},
   "source": [
    "We can plot the relative frequency of all the values in each bin, by changing the parameter ```density``` in the histogram function:"
   ]
  },
  {
   "cell_type": "code",
   "execution_count": null,
   "metadata": {},
   "outputs": [],
   "source": []
  },
  {
   "cell_type": "code",
   "execution_count": null,
   "metadata": {},
   "outputs": [],
   "source": []
  },
  {
   "cell_type": "markdown",
   "metadata": {},
   "source": [
    "We can overlay the histogram and stem plots:"
   ]
  },
  {
   "cell_type": "code",
   "execution_count": null,
   "metadata": {},
   "outputs": [],
   "source": []
  },
  {
   "cell_type": "code",
   "execution_count": null,
   "metadata": {},
   "outputs": [],
   "source": []
  },
  {
   "cell_type": "code",
   "execution_count": null,
   "metadata": {},
   "outputs": [],
   "source": []
  },
  {
   "cell_type": "markdown",
   "metadata": {},
   "source": [
    "# The Binomial Random Variable\n",
    "\n",
    "* A Binomial RV represents the number of successes on $n$ independent Bernoulli trials.\n",
    "    * Example: a coin is tossed $n$ times.\n",
    "\n",
    "* Thus, a Binomial RV can also be defined as the sum of $n$ independent Bernoulli RVs.\n",
    "    * Example: At each toss, the coin comes up heads with probability $p$ and a tail with probability $1-p$, independently of prior tosses.\n",
    "    \n",
    "* Let $X$ be the # of successes.\n",
    "    * Example: X is the number of heads in the $n$-toss sequence.\n",
    "    \n",
    "* We refer to $X$ as the **Binomial** RV **with parameters $n$ and $p$**:\n",
    "\n",
    "$$X \\sim \\text{Binomial}(n,p)$$\n",
    "\n",
    "* The PMF of $X$ is given by\n",
    "\n",
    "$$p_X(x) = P(X=x) = \\begin{cases} \\binom{n}{x} p^x (1-p)^{n-x}, & x=0,1,\\dots,n \\\\ 0, & \\text{o.w.} \\end{cases} $$\n",
    "\n",
    "* **Engineering examples/applications:** The number of bits in error in a packet, the number of defective items in a manufacturing run."
   ]
  },
  {
   "cell_type": "code",
   "execution_count": null,
   "metadata": {},
   "outputs": [],
   "source": []
  },
  {
   "cell_type": "code",
   "execution_count": null,
   "metadata": {},
   "outputs": [],
   "source": []
  },
  {
   "cell_type": "markdown",
   "metadata": {},
   "source": [
    "Let's compute $P_X(2)$ where $X \\sim \\text{Binomial}(12,0.2)$:"
   ]
  },
  {
   "cell_type": "code",
   "execution_count": null,
   "metadata": {},
   "outputs": [],
   "source": []
  },
  {
   "cell_type": "code",
   "execution_count": null,
   "metadata": {},
   "outputs": [],
   "source": []
  },
  {
   "cell_type": "markdown",
   "metadata": {},
   "source": [
    "Let's build a simulation, using NumPy arrays, to verify this result:"
   ]
  },
  {
   "cell_type": "code",
   "execution_count": null,
   "metadata": {},
   "outputs": [],
   "source": []
  },
  {
   "cell_type": "code",
   "execution_count": null,
   "metadata": {},
   "outputs": [],
   "source": []
  },
  {
   "cell_type": "code",
   "execution_count": null,
   "metadata": {},
   "outputs": [],
   "source": []
  },
  {
   "cell_type": "markdown",
   "metadata": {},
   "source": [
    "The complete PMF of this Binomial RV is:"
   ]
  },
  {
   "cell_type": "code",
   "execution_count": null,
   "metadata": {},
   "outputs": [],
   "source": []
  },
  {
   "cell_type": "markdown",
   "metadata": {},
   "source": [
    "What happens if we change the probability of 'success'?"
   ]
  },
  {
   "cell_type": "code",
   "execution_count": null,
   "metadata": {},
   "outputs": [],
   "source": []
  },
  {
   "cell_type": "markdown",
   "metadata": {},
   "source": [
    "Let's plot its CDF:"
   ]
  },
  {
   "cell_type": "code",
   "execution_count": null,
   "metadata": {},
   "outputs": [],
   "source": []
  },
  {
   "cell_type": "markdown",
   "metadata": {},
   "source": [
    "Let's generate some samples (random variables) from this distribution and plot their PMF:"
   ]
  },
  {
   "cell_type": "code",
   "execution_count": null,
   "metadata": {},
   "outputs": [],
   "source": []
  },
  {
   "cell_type": "code",
   "execution_count": null,
   "metadata": {},
   "outputs": [],
   "source": []
  },
  {
   "cell_type": "markdown",
   "metadata": {},
   "source": [
    "The plotting function ```hist``` can also plot the CDF of an RV:"
   ]
  },
  {
   "cell_type": "code",
   "execution_count": null,
   "metadata": {},
   "outputs": [],
   "source": []
  },
  {
   "cell_type": "markdown",
   "metadata": {},
   "source": [
    "The histogram \"fills\" the area under the (CDF) curve. We can overlay the CDF curve on top:"
   ]
  },
  {
   "cell_type": "code",
   "execution_count": null,
   "metadata": {},
   "outputs": [],
   "source": []
  },
  {
   "cell_type": "markdown",
   "metadata": {},
   "source": [
    "But this plotting function does not look good. The probability seems to increase in between discrete values, which is not valid. Instead, we use the ```step``` plotting function:"
   ]
  },
  {
   "cell_type": "code",
   "execution_count": null,
   "metadata": {},
   "outputs": [],
   "source": []
  },
  {
   "cell_type": "markdown",
   "metadata": {},
   "source": [
    "## Binomial as the Sum of Bernoulli RVs"
   ]
  },
  {
   "cell_type": "markdown",
   "metadata": {},
   "source": [
    "The Binomial RV can also be defined as the sum of $n$ independent Bernoulli RVs."
   ]
  },
  {
   "cell_type": "code",
   "execution_count": null,
   "metadata": {},
   "outputs": [],
   "source": []
  },
  {
   "cell_type": "code",
   "execution_count": null,
   "metadata": {},
   "outputs": [],
   "source": []
  },
  {
   "cell_type": "code",
   "execution_count": null,
   "metadata": {},
   "outputs": [],
   "source": []
  },
  {
   "cell_type": "code",
   "execution_count": null,
   "metadata": {},
   "outputs": [],
   "source": []
  },
  {
   "cell_type": "markdown",
   "metadata": {},
   "source": [
    "Let's overlay the true PMF function of a Binomial RV with parameters $n=12$ and $p=0.2$:"
   ]
  },
  {
   "cell_type": "code",
   "execution_count": null,
   "metadata": {},
   "outputs": [],
   "source": []
  },
  {
   "cell_type": "markdown",
   "metadata": {},
   "source": [
    "* **Conclusion:** Adding together independent Bernoulli RVs (with the same probability $p$) produces a Binomial RV."
   ]
  },
  {
   "cell_type": "markdown",
   "metadata": {},
   "source": [
    "# The Geometric Random Variable\n",
    "\n",
    "* A Geometric RV occurs when independent Bernoulli trials are conducted until the first success\n",
    "    * Example: repeatedly and independently toss a coin with probability of a heads equal to $p$, where $0<p<1$. \n",
    "    \n",
    "* $X$ is the number of trials required.\n",
    "    * Example: The Geometric RV is the number $X$ of tosses needed for a head to come up for the first time.\n",
    "\n",
    "$$X \\sim \\text{Geometric}(p)$$\n",
    "\n",
    "* The PMF of $X$ is given by\n",
    "\n",
    "$$p_X(x) = P(X=x) = \\begin{cases}p(1-p)^{x-1}, & x=1,2,\\dots \\\\ 0, & \\text{o.w.}\\end{cases}$$\n",
    "\n",
    "* **Engineering examples/applications:** The number of retransmissions required for a packet, number of white dots between black dots in the scan of a black and white document."
   ]
  },
  {
   "cell_type": "code",
   "execution_count": null,
   "metadata": {},
   "outputs": [],
   "source": []
  },
  {
   "cell_type": "code",
   "execution_count": null,
   "metadata": {},
   "outputs": [],
   "source": []
  },
  {
   "cell_type": "code",
   "execution_count": null,
   "metadata": {},
   "outputs": [],
   "source": []
  },
  {
   "cell_type": "code",
   "execution_count": null,
   "metadata": {},
   "outputs": [],
   "source": []
  },
  {
   "cell_type": "code",
   "execution_count": null,
   "metadata": {},
   "outputs": [],
   "source": []
  },
  {
   "cell_type": "markdown",
   "metadata": {},
   "source": [
    "* What is the probability that the first success occurs in the 1st trial (coin flip)?\n",
    "\n",
    "$$p_X(1) = p(1-p)^{1-1} = p = 0.2$$"
   ]
  },
  {
   "cell_type": "markdown",
   "metadata": {},
   "source": [
    "* 6th trial?\n",
    "\n",
    "$$p_X(6) = p(1-p)^{6-1} = 0.2 \\times 0.8^5 \\approx 0.0655$$"
   ]
  },
  {
   "cell_type": "code",
   "execution_count": null,
   "metadata": {},
   "outputs": [],
   "source": []
  },
  {
   "cell_type": "markdown",
   "metadata": {},
   "source": [
    "* Let's visualize the PMF for the Geometric with parameter $p=0.5$?"
   ]
  },
  {
   "cell_type": "code",
   "execution_count": null,
   "metadata": {},
   "outputs": [],
   "source": []
  },
  {
   "cell_type": "markdown",
   "metadata": {},
   "source": [
    "* Let's visualize the PMF for the Geometric with parameter $p=0.8$?"
   ]
  },
  {
   "cell_type": "code",
   "execution_count": null,
   "metadata": {},
   "outputs": [],
   "source": []
  },
  {
   "cell_type": "code",
   "execution_count": null,
   "metadata": {},
   "outputs": [],
   "source": []
  },
  {
   "cell_type": "markdown",
   "metadata": {},
   "source": [
    "* If you flip a fair coin until you see heads, what is the probability that it takes more than 6 flips?"
   ]
  },
  {
   "cell_type": "code",
   "execution_count": null,
   "metadata": {},
   "outputs": [],
   "source": []
  },
  {
   "cell_type": "markdown",
   "metadata": {},
   "source": [
    "$$P(G>6) = 1- P(G \\leq 6) = 1 - F_X(6)$$"
   ]
  },
  {
   "cell_type": "markdown",
   "metadata": {},
   "source": [
    "<div class=\"alert alert-info\">\n",
    "    <b>Survival Function</b>\n",
    "    \n",
    "If $(\\Omega,\\mathcal{F},P)$ is a probability space with $X$ a real discrete RV on $\\Omega$, the **Survival Function (SF)** is denoted as $S_X(x)$ and provides the probability $P(X > x)$. In particular, for every $x$ we have\n",
    "\n",
    "$$S_X(x) = P(X > x) = 1 - P(X \\leq x) = 1 - F_X(x)$$\n",
    "</div>"
   ]
  },
  {
   "cell_type": "code",
   "execution_count": null,
   "metadata": {},
   "outputs": [],
   "source": []
  },
  {
   "cell_type": "code",
   "execution_count": null,
   "metadata": {},
   "outputs": [],
   "source": []
  },
  {
   "cell_type": "code",
   "execution_count": null,
   "metadata": {},
   "outputs": [],
   "source": []
  },
  {
   "cell_type": "markdown",
   "metadata": {},
   "source": [
    "* Let's write a simulation to verify this:"
   ]
  },
  {
   "cell_type": "code",
   "execution_count": null,
   "metadata": {},
   "outputs": [],
   "source": []
  },
  {
   "cell_type": "markdown",
   "metadata": {},
   "source": [
    "## The Poisson Random Variable"
   ]
  },
  {
   "cell_type": "markdown",
   "metadata": {},
   "source": [
    "* A Poisson RV models events that occur randomly in space or time\n",
    "    * Example: number of produced items in a factory line\n",
    "\n",
    "* Let $\\lambda$ = the # of events/(unit of space or time)\n",
    "\n",
    "* Consider observing some period of time or space of length $t$ and let $\\alpha= \\lambda t$ \n",
    "\n",
    "* Let the RV $X =$ the \\# events in time (or space) $t$\n",
    "\n",
    "$$X \\sim \\text{Poisson}(\\alpha)$$\n",
    "\n",
    "* The PMF of the Poisson random variable is:\n",
    "\n",
    "$$ P_X(x) = \\begin{cases} \\frac{\\alpha^x}{x!} e^{-\\alpha}, & x=0,1,\\ldots \\\\ 0, & \\mbox{o.w.} \\end{cases}\n",
    "$$\n",
    "\n",
    "* For large $\\alpha$, the Poisson PMF has a bell shape. For examples, see below.\n",
    "\n",
    "* **Engineering examples/applications:**\n",
    "    * calls coming in to a switching center\n",
    "    * packets arriving at a queue in a network\n",
    "    * processes being submitted to a scheduler\n",
    "    \n",
    "* Other examples:\n",
    "    * \\# of misprints on a group of pages in a book\n",
    "    * \\# of people in a community that live to be 100 years old\n",
    "    * \\# of wrong telephone numbers that are dialed in a day\n",
    "    * \\# of $\\alpha$-particles discharged in a fixed period of time from some radioactive material\n",
    "    * \\# of earthquakes per year\n",
    "    * \\# of computer crashes in a lab in a week"
   ]
  },
  {
   "cell_type": "code",
   "execution_count": null,
   "metadata": {},
   "outputs": [],
   "source": []
  },
  {
   "cell_type": "code",
   "execution_count": null,
   "metadata": {},
   "outputs": [],
   "source": []
  },
  {
   "cell_type": "code",
   "execution_count": null,
   "metadata": {
    "scrolled": false
   },
   "outputs": [],
   "source": []
  },
  {
   "cell_type": "code",
   "execution_count": null,
   "metadata": {},
   "outputs": [],
   "source": []
  },
  {
   "cell_type": "code",
   "execution_count": null,
   "metadata": {},
   "outputs": [],
   "source": []
  },
  {
   "cell_type": "code",
   "execution_count": null,
   "metadata": {},
   "outputs": [],
   "source": []
  },
  {
   "cell_type": "code",
   "execution_count": null,
   "metadata": {},
   "outputs": [],
   "source": []
  },
  {
   "cell_type": "code",
   "execution_count": null,
   "metadata": {
    "scrolled": true
   },
   "outputs": [],
   "source": []
  },
  {
   "cell_type": "markdown",
   "metadata": {},
   "source": [
    "___"
   ]
  },
  {
   "cell_type": "markdown",
   "metadata": {},
   "source": [
    "## Example"
   ]
  },
  {
   "cell_type": "markdown",
   "metadata": {},
   "source": [
    "**An engineering professor makes an average of 60 mistakes during lectures over the course of a typical semester. A semester consists of 40 lectures, each of which is 50 minutes long.**"
   ]
  },
  {
   "cell_type": "markdown",
   "metadata": {},
   "source": [
    "**<font color=blue>Question 1</font> In a new semester, what is the probability that the professor makes at least one mistake during some 20 minute period?**"
   ]
  },
  {
   "cell_type": "code",
   "execution_count": null,
   "metadata": {},
   "outputs": [],
   "source": []
  },
  {
   "cell_type": "code",
   "execution_count": null,
   "metadata": {},
   "outputs": [],
   "source": []
  },
  {
   "cell_type": "code",
   "execution_count": null,
   "metadata": {},
   "outputs": [],
   "source": []
  },
  {
   "cell_type": "markdown",
   "metadata": {},
   "source": [
    "We want to compute:\n",
    "\n",
    "<!-- $$P(X>0) = 1 - P(X\\leq 0) = 1 - F_X(0) = S_X(0)$$ -->"
   ]
  },
  {
   "cell_type": "code",
   "execution_count": null,
   "metadata": {},
   "outputs": [],
   "source": []
  },
  {
   "cell_type": "code",
   "execution_count": null,
   "metadata": {},
   "outputs": [],
   "source": []
  },
  {
   "cell_type": "markdown",
   "metadata": {},
   "source": [
    "**<font color=blue>Question 2</font> What is the probability that the professor makes 4 mistakes in a lecture?**"
   ]
  },
  {
   "cell_type": "code",
   "execution_count": null,
   "metadata": {},
   "outputs": [],
   "source": []
  },
  {
   "cell_type": "code",
   "execution_count": null,
   "metadata": {},
   "outputs": [],
   "source": []
  },
  {
   "cell_type": "markdown",
   "metadata": {},
   "source": [
    "We want to compute:\n",
    "\n",
    "<!-- $$P(X=4)$$ -->"
   ]
  },
  {
   "cell_type": "code",
   "execution_count": null,
   "metadata": {},
   "outputs": [],
   "source": []
  },
  {
   "cell_type": "markdown",
   "metadata": {},
   "source": [
    "**<font color=blue>Question 3</font> What is the probability that the professor makes less or equal than 4 mistakes in a lecture?**"
   ]
  },
  {
   "cell_type": "code",
   "execution_count": null,
   "metadata": {},
   "outputs": [],
   "source": []
  },
  {
   "cell_type": "markdown",
   "metadata": {},
   "source": [
    "**<font color=blue>Question 4</font> What is the probability that the professor has at least one lecture with 4 or more mistakes in a semester?**"
   ]
  },
  {
   "cell_type": "markdown",
   "metadata": {},
   "source": [
    "<!-- Let $p$= prob. of 4 or more mistakes in a lecture.\n",
    "\n",
    "Let $Z$= number of lectures with 4 or more mistakes in a 40-lecture semester.\n",
    "\n",
    "Then $Z$ is Binomial(40,$p$).\n",
    "\n",
    "Need to find $p$ first: -->"
   ]
  },
  {
   "cell_type": "code",
   "execution_count": null,
   "metadata": {},
   "outputs": [],
   "source": []
  },
  {
   "cell_type": "code",
   "execution_count": null,
   "metadata": {},
   "outputs": [],
   "source": []
  },
  {
   "cell_type": "markdown",
   "metadata": {},
   "source": [
    "# Properties of Cumulative Distribution Functions (CDFs)"
   ]
  },
  {
   "cell_type": "markdown",
   "metadata": {},
   "source": [
    "Recall:\n",
    "<div class=\"alert alert-info\">\n",
    "    <b>Cumulative Distribution Function (CDF)</b>\n",
    "    \n",
    "If $(\\Omega,\\mathcal{F},P)$ is a probability space with $X$ a real discrete RV on $\\Omega$, the **Cumulative Distribution Function (CDF)** is denoted as $F_X(x)$ and provides the probability $P(X\\leq x)$. In particular, for every $x$ we have\n",
    "\n",
    "$$F_X(x) = P(X\\leq x) = \\sum_{k\\leq x} p_X(k)$$\n",
    "</div>\n",
    "\n",
    "For shorthand, we write \n",
    "$$\n",
    "F_X(x) = P(X \\le x)\n",
    "$$"
   ]
  },
  {
   "cell_type": "markdown",
   "metadata": {},
   "source": [
    "Let's create some random variables useful for us to study the properties of the CDF:"
   ]
  },
  {
   "cell_type": "code",
   "execution_count": null,
   "metadata": {},
   "outputs": [],
   "source": [
    "Bn = stats.binom(20,0.2)\n",
    "G = stats.geom(0.3)\n",
    "\n",
    "x = range(-10,20)\n",
    "y = range(-10,20)"
   ]
  },
  {
   "cell_type": "markdown",
   "metadata": {},
   "source": [
    "## Property 1\n",
    "\n",
    "$$0 \\le F_X(x) \\le 1$$\n",
    "\n",
    "**Proof:** $F_X(x)$ is a prob. measure "
   ]
  },
  {
   "cell_type": "code",
   "execution_count": null,
   "metadata": {},
   "outputs": [],
   "source": []
  },
  {
   "cell_type": "code",
   "execution_count": null,
   "metadata": {},
   "outputs": [],
   "source": []
  },
  {
   "cell_type": "markdown",
   "metadata": {},
   "source": [
    "## Property 2\n",
    "\n",
    "$$F_X(-\\infty)=0 \\text{ and }F_X(\\infty)=1$$\n",
    "\n",
    "**Proof:** The proof is rather technical.\n",
    "\n",
    "Basically, $F_X(-\\infty)$ and $F_X(\\infty)$ are defined as limits, and the corresponding subsets of the samples space $\\{x \\in \\Omega: X \\le x\\}$ are either shrinking to $\\emptyset$ or $\\Omega$.\n",
    "\n",
    "\n",
    "\n",
    "\n",
    "\n"
   ]
  },
  {
   "cell_type": "code",
   "execution_count": null,
   "metadata": {},
   "outputs": [],
   "source": []
  },
  {
   "cell_type": "code",
   "execution_count": null,
   "metadata": {},
   "outputs": [],
   "source": []
  },
  {
   "cell_type": "markdown",
   "metadata": {},
   "source": [
    "## Property 3\n",
    "\n",
    "**$F_X(x)$ is monotonically nondecreasing, i.e.,**\n",
    "\n",
    "$$F_X(a) \\le F_X(b)\\text{ iff } a \\le b$$\n",
    "\n",
    "**Proof:**\n",
    "\\begin{align*}\n",
    "P\\left\\{X \\in (- \\infty,b]\\right\\} &= P(X \\in (-\\infty, a]) + P( X \\in (a,b]) \\\\\n",
    "\\Rightarrow F_X(b) &= F_X(a) + P(a <  X \\le b)\n",
    "\\end{align*}"
   ]
  },
  {
   "cell_type": "markdown",
   "metadata": {},
   "source": [
    "## Property 4\n",
    "\n",
    "$$P(a < X \\le b) = F_X(b)  -F_X(a)$$\n",
    "\n",
    "**Proof:** rewriting the result in the proof of property 3."
   ]
  },
  {
   "cell_type": "markdown",
   "metadata": {},
   "source": [
    "## Property 5\n",
    "\n",
    "**$F_X(x)$ is continuous on the right, i.e.,** \n",
    "\n",
    "$$F_X(b) =\\lim_{h \\rightarrow 0} F_X(b+h) =F_X(b)$$\n",
    "\n",
    "*(The value at a jump discontinuity is the value __after__ the jump.)*\n",
    "\n",
    "\n",
    "**Proof:** Rather technical. Will be omitted. Let's instead build a simulation to observe this property:"
   ]
  },
  {
   "cell_type": "code",
   "execution_count": null,
   "metadata": {},
   "outputs": [],
   "source": [
    "h = 1e-10\n",
    "x = range(-10,20)\n",
    "\n"
   ]
  },
  {
   "cell_type": "code",
   "execution_count": null,
   "metadata": {},
   "outputs": [],
   "source": []
  },
  {
   "cell_type": "code",
   "execution_count": null,
   "metadata": {},
   "outputs": [],
   "source": []
  },
  {
   "cell_type": "markdown",
   "metadata": {},
   "source": [
    "## Property 6\n",
    "\n",
    "$$P(X>x) =1 - F_X(x)$$\n",
    "\n",
    "**Proof:**\n",
    "\n",
    "\\begin{align*}\n",
    "\\{X>x\\} &= \\{X\\le x\\}^c \\\\\n",
    "\\Rightarrow P(X>x) &= 1 - P(X \\le x)  = 1 - F_X(x)\n",
    "\\end{align*}"
   ]
  },
  {
   "cell_type": "code",
   "execution_count": null,
   "metadata": {},
   "outputs": [],
   "source": []
  },
  {
   "cell_type": "code",
   "execution_count": null,
   "metadata": {
    "scrolled": true
   },
   "outputs": [],
   "source": []
  },
  {
   "cell_type": "markdown",
   "metadata": {},
   "source": [
    "___"
   ]
  },
  {
   "cell_type": "markdown",
   "metadata": {},
   "source": [
    "# Introduction to Continuous RVs"
   ]
  },
  {
   "cell_type": "markdown",
   "metadata": {},
   "source": [
    "## Uniform Continuous RVs"
   ]
  },
  {
   "cell_type": "markdown",
   "metadata": {},
   "source": [
    "Previously, we introduced a way to choose random values from the interval $[0,1)$:"
   ]
  },
  {
   "cell_type": "code",
   "execution_count": null,
   "metadata": {},
   "outputs": [],
   "source": []
  },
  {
   "cell_type": "markdown",
   "metadata": {},
   "source": [
    "We could also use scipy.stats for this:"
   ]
  },
  {
   "cell_type": "code",
   "execution_count": null,
   "metadata": {},
   "outputs": [],
   "source": []
  },
  {
   "cell_type": "code",
   "execution_count": null,
   "metadata": {},
   "outputs": [],
   "source": []
  },
  {
   "cell_type": "markdown",
   "metadata": {},
   "source": [
    "* Let's find $F_U(0.2)=P(U \\le u)$ for $u=0.2$:"
   ]
  },
  {
   "cell_type": "code",
   "execution_count": null,
   "metadata": {},
   "outputs": [],
   "source": []
  },
  {
   "cell_type": "code",
   "execution_count": null,
   "metadata": {},
   "outputs": [],
   "source": []
  },
  {
   "cell_type": "markdown",
   "metadata": {},
   "source": [
    "So, what is the CDF for $U$?"
   ]
  },
  {
   "cell_type": "markdown",
   "metadata": {},
   "source": [
    "Check:"
   ]
  },
  {
   "cell_type": "code",
   "execution_count": null,
   "metadata": {},
   "outputs": [],
   "source": []
  },
  {
   "cell_type": "markdown",
   "metadata": {},
   "source": [
    "* Let's find $P(0.25 < U \\le 0.75)$:"
   ]
  },
  {
   "cell_type": "code",
   "execution_count": null,
   "metadata": {},
   "outputs": [],
   "source": []
  },
  {
   "cell_type": "markdown",
   "metadata": {
    "slideshow": {
     "slide_type": "subslide"
    }
   },
   "source": [
    "* Let's find $P(0.45 < U \\le 0.55)$:"
   ]
  },
  {
   "cell_type": "code",
   "execution_count": null,
   "metadata": {},
   "outputs": [],
   "source": []
  },
  {
   "cell_type": "markdown",
   "metadata": {},
   "source": [
    "Note that since $F_U(u)=u$, then $F_U(b)-F_U(a)=b-a$."
   ]
  },
  {
   "cell_type": "markdown",
   "metadata": {},
   "source": [
    "* So what is  $P(0.4995 < U \\le 0.5005)$?"
   ]
  },
  {
   "cell_type": "code",
   "execution_count": null,
   "metadata": {},
   "outputs": [],
   "source": []
  },
  {
   "cell_type": "markdown",
   "metadata": {},
   "source": [
    "* Then what is $P(U=0.5)$?"
   ]
  },
  {
   "cell_type": "code",
   "execution_count": null,
   "metadata": {},
   "outputs": [],
   "source": []
  },
  {
   "cell_type": "markdown",
   "metadata": {},
   "source": [
    "In general, what is $P(U=u)$?"
   ]
  },
  {
   "cell_type": "code",
   "execution_count": null,
   "metadata": {},
   "outputs": [],
   "source": []
  },
  {
   "cell_type": "markdown",
   "metadata": {},
   "source": [
    "**This random variable has no probability at any of the values it takes on! So, the PMF is *meaningless* for continuous RVs. How can we deal with this?**\n",
    "\n",
    "* This video from 3Blue1Brown provides another view of this: [\"Why *probability of 0* does not mean *impossible*\"](https://www.youtube.com/watch?v=ZA4JkHKZM50)"
   ]
  },
  {
   "cell_type": "markdown",
   "metadata": {},
   "source": [
    "# Continuous RVs"
   ]
  },
  {
   "cell_type": "markdown",
   "metadata": {},
   "source": [
    "<div class=\"alert alert-info\">\n",
    "    <b>Continuous Random Variable</b>\n",
    "    \n",
    "A random variable $X$ is called **continuous** if its there is a nonnegative continuous function $f_X$, called the **probability density function of $X$**, or PDF for short, such that\n",
    "    \n",
    "$$P(X\\in B) = \\int_B f_X(x) dx$$\n",
    "\n",
    "</div>"
   ]
  },
  {
   "cell_type": "markdown",
   "metadata": {},
   "source": [
    "<div class=\"alert alert-warning\">\n",
    "    \n",
    "Continuous random variables **do not** have probability at any discrete points, i.e., \n",
    "    \n",
    "$$P(X = x)=0~~ \\forall x \\in \\mathbb{R}$$\n",
    "\n",
    "The probability is distributed over ranges of real numbers.\n",
    "</div>"
   ]
  },
  {
   "cell_type": "markdown",
   "metadata": {},
   "source": [
    "<div class=\"alert alert-success\">\n",
    "    \n",
    "It is possible to have a random variable for which some of the probability is concentrated at individual points and some of the\n",
    "probability is distributed over continous ranges.\n",
    "\n",
    "These are called **mixed** random variables and will not be covered in this class\n",
    "\n",
    "</div>"
   ]
  },
  {
   "cell_type": "markdown",
   "metadata": {},
   "source": [
    "Continuous random variables do not have probability at any discrete values. However, they do have **density** of probability at values:"
   ]
  },
  {
   "cell_type": "markdown",
   "metadata": {},
   "source": [
    "<div class=\"alert alert-info\">\n",
    "    <b>Probability Density Function</b>\n",
    "    \n",
    "The **probability density function (pdf)** of a random variable $X:\\Omega \\rightarrow \\mathbb{R}$ is denoted by $f_X(x)$ and is the derivative (which may not exist at some places) of the CDF function $F_X(x)$:\n",
    "\n",
    "$$f_X(x)= \\frac{d F_X(x)}{dx}$$\n",
    "</div>"
   ]
  },
  {
   "cell_type": "markdown",
   "metadata": {},
   "source": [
    "<div class=\"alert-success\">\n",
    "\n",
    "Then, by the *Fundamental Theorem of Calculus*,\n",
    "    \n",
    "\\begin{align}\n",
    "F_X(x) &= \\int_{-\\infty}^{x} f_X(x)~dx +F_X(-\\infty)\\\\\n",
    "&= \\int_{-\\infty}^{x} f_X(u)~du\n",
    "\\end{align}\n",
    "</div>"
   ]
  },
  {
   "cell_type": "markdown",
   "metadata": {},
   "source": [
    "Reminder of the Fundamental Theorem of Calculus in a gif:"
   ]
  },
  {
   "cell_type": "markdown",
   "metadata": {},
   "source": [
    "![Fundamental Theorem of Calculus](https://upload.wikimedia.org/wikipedia/commons/3/31/Fundamental_theorem_of_calculus_%28animation_%29.gif)\n",
    "                                   "
   ]
  },
  {
   "cell_type": "markdown",
   "metadata": {},
   "source": [
    "Let's plot the CDF of a uniform random variable:"
   ]
  },
  {
   "cell_type": "code",
   "execution_count": null,
   "metadata": {},
   "outputs": [],
   "source": [
    "u = np.linspace(-0.1,1.1,100)\n",
    "\n",
    "plt.plot(u,U.cdf(u));"
   ]
  },
  {
   "cell_type": "markdown",
   "metadata": {},
   "source": [
    "The CDF of the Uniform random variable is given by:\n",
    "\n",
    "$$F_X(x) = \\begin{cases} 0 & x<a \\\\ \\frac{x-a}{b-a} & x\\in [a,b]\\\\ 1 & x>b \\end{cases}$$"
   ]
  },
  {
   "cell_type": "code",
   "execution_count": null,
   "metadata": {},
   "outputs": [],
   "source": [
    "plt.step(u, U.pdf(u));"
   ]
  },
  {
   "cell_type": "markdown",
   "metadata": {},
   "source": [
    "* A Uniform RV models continuous-valued instances that are equally likely to occur in a given interval $[a,b]$.\n",
    "\n",
    "$$X \\sim \\text{Uniform}(a,b) \\text{ or }$$\n",
    "\n",
    "For short, \n",
    "\n",
    "$$X \\sim U(a,b) $$\n",
    "\n",
    "* The **probability density function (PDF)** of the Uniform random variable is:\n",
    "\n",
    "$$f_X(x) = \\begin{cases}\\frac{1}{b-a} & x\\in [a,b]\\\\ 0 & \\text{o.w.}\\end{cases}$$\n",
    "\n",
    "* The **cumulative distribution function (CDF)** of this Uniform random variable is:\n",
    "\n",
    "$$F_X(x) = \\begin{cases} 0 & x<a \\\\ \\frac{x-a}{b-a} & x\\in [a,b]\\\\ 1 & x>b \\end{cases}$$"
   ]
  },
  {
   "cell_type": "code",
   "execution_count": null,
   "metadata": {},
   "outputs": [],
   "source": []
  },
  {
   "cell_type": "markdown",
   "metadata": {},
   "source": [
    "## Exponential RV"
   ]
  },
  {
   "cell_type": "markdown",
   "metadata": {},
   "source": [
    "**Used to model:** Lifetime of an electrical device, service time or time between arrivals in a queue, distance between mutations on a DNA strand, monthly and annual maximum values of daily rainfall."
   ]
  },
  {
   "cell_type": "markdown",
   "metadata": {},
   "source": [
    "* Obtainable as a limit of Geometric random variables."
   ]
  },
  {
   "cell_type": "markdown",
   "metadata": {},
   "source": [
    "* This RV has a single parameter. Typically use $\\lambda$, but some books use $\\mu=1/\\lambda$."
   ]
  },
  {
   "cell_type": "markdown",
   "metadata": {},
   "source": [
    "* We say that $X$ is an exponential RV and write as: $X\\sim \\text{Exponential}(\\lambda )$."
   ]
  },
  {
   "cell_type": "markdown",
   "metadata": {},
   "source": [
    "* The **probability density function (pdf)** is given as:\n",
    "\n",
    "$$ f_X(x) = \\begin{cases} \\lambda e^{-\\lambda x}, & x \\ge 0 \\\\ 0, & x < 0  \\end{cases} $$\n",
    "\n",
    "(or)\n",
    "\n",
    "$$ f_X(x) = \\begin{cases} \\frac{1}{\\mu} e^{-x/\\mu}, & x \\ge 0 \\\\ 0, & x < 0  \\end{cases} $$\n",
    "\n",
    "We will use the first form because it is more common and simpler."
   ]
  },
  {
   "cell_type": "code",
   "execution_count": null,
   "metadata": {},
   "outputs": [],
   "source": []
  },
  {
   "cell_type": "code",
   "execution_count": null,
   "metadata": {},
   "outputs": [],
   "source": []
  },
  {
   "cell_type": "markdown",
   "metadata": {},
   "source": [
    "* The CDF is given as:\n",
    "\n",
    "\\begin{align*}\n",
    "F_X(x) &= \\int_{-\\infty}^{\\infty} f_X(x) dx\\\\ \n",
    "&= \\begin{cases}\\int_0^{\\infty} \\lambda e^{-\\lambda x}dx & x\\geq 0 \\\\ 0 & x<0 \\end{cases}\\\\\n",
    "&= \\begin{cases} 1-e^{-\\lambda x} & x\\geq 0 \\\\ 0 & x<0 \\end{cases}\\\\\n",
    "\\end{align*}"
   ]
  },
  {
   "cell_type": "code",
   "execution_count": null,
   "metadata": {
    "scrolled": true
   },
   "outputs": [],
   "source": []
  },
  {
   "cell_type": "markdown",
   "metadata": {},
   "source": [
    "# Limits of RVs"
   ]
  },
  {
   "cell_type": "markdown",
   "metadata": {},
   "source": [
    "## Limit of Geometric Random Variables"
   ]
  },
  {
   "cell_type": "markdown",
   "metadata": {},
   "source": [
    "Let $G\\sim \\text{Geometric}(p)$ and $E\\sim\\text{Exponential}(\\lambda)$, their CDFs look like:"
   ]
  },
  {
   "cell_type": "code",
   "execution_count": null,
   "metadata": {},
   "outputs": [],
   "source": [
    "p=0.2\n",
    "lam = 0.2\n",
    "G = stats.geom(p)\n",
    "E = stats.expon(scale=1/lam)\n",
    "x = np.linspace(-1,20,100)\n",
    "\n",
    "plt.figure(figsize=(8,5))\n",
    "plt.step(x, G.cdf(x), label='Geometric(p=0.2)')\n",
    "plt.step(x, E.cdf(x), label='Exponential($\\lambda$=0.2)')\n",
    "plt.legend(fontsize=15);"
   ]
  },
  {
   "cell_type": "markdown",
   "metadata": {},
   "source": [
    "We can write \n",
    "\n",
    "$$F_G(x) = F_E(x\\delta)$$ \n",
    "\n",
    "for all $x=1,2,\\dots$, where $\\delta$ is chosen so that $e^{-\\lambda\\delta}=1-p$.\n",
    "\n",
    "As $\\delta$ approaches zero, the exponential RV can be interpreted as the \"limit\" of the geometric RV."
   ]
  },
  {
   "cell_type": "code",
   "execution_count": null,
   "metadata": {},
   "outputs": [],
   "source": [
    "delta = -np.log(1-p)/lam\n",
    "delta"
   ]
  },
  {
   "cell_type": "code",
   "execution_count": null,
   "metadata": {},
   "outputs": [],
   "source": [
    "plt.figure(figsize=(8,5))\n",
    "plt.plot(x, G.cdf(x), label='$F_{Geom}(x)$')\n",
    "plt.plot(x, E.cdf(x*delta),'--', label='$F_{Exp}(x\\delta)$')\n",
    "plt.legend(fontsize=15); plt.xlabel('$x'); plt.ylabel('CDF');"
   ]
  },
  {
   "cell_type": "markdown",
   "metadata": {},
   "source": [
    "Suppose now that you toss a coin very quickly (every $\\delta$ seconds, $\\delta<<1$), a biased coin with a very small probability of Heads (equal to $p = 1 - e^{-\\lambda\\delta}$). Then, the first time to obtain a Heads (a geometric RV with parameter $p$) is a close approximation to an exponential RV with parameter $\\lambda$, in the sense that the corresponding CDFs are very close to each other, as illustrated above.\n",
    "\n",
    "* This relationship between the Geometric and Exponential RVs will play an important role in Bernoulli and Poisson Point processes (we will not cover these in this course).\n",
    "\n",
    "* A Poisson point process can model events that appear to happen at a certain rate, but completely at random (without a certain structure).\n",
    "    * Application example: Poisson processes to model lattice cellular networks."
   ]
  },
  {
   "cell_type": "markdown",
   "metadata": {},
   "source": [
    "## Limit of Binomial Random Variables"
   ]
  },
  {
   "cell_type": "markdown",
   "metadata": {},
   "source": [
    "If the limit of properly chosen Geometric RVs is an Exponential RV, what is the limit of Binomial RVs?"
   ]
  },
  {
   "cell_type": "markdown",
   "metadata": {},
   "source": [
    "Let's consider a sequence of binomial random variables with 4, 20, 40, and 200 trials. Then divide the values by 1, 5, 10 and 50, so that the values stay centered around the same range:"
   ]
  },
  {
   "cell_type": "code",
   "execution_count": null,
   "metadata": {},
   "outputs": [],
   "source": []
  },
  {
   "cell_type": "code",
   "execution_count": null,
   "metadata": {},
   "outputs": [],
   "source": [
    "from ipywidgets import interactive"
   ]
  },
  {
   "cell_type": "code",
   "execution_count": null,
   "metadata": {},
   "outputs": [],
   "source": []
  },
  {
   "cell_type": "code",
   "execution_count": null,
   "metadata": {},
   "outputs": [],
   "source": []
  },
  {
   "cell_type": "markdown",
   "metadata": {},
   "source": [
    "What do you observe?\n",
    "\n",
    "<!-- 1. The curves become smooth and bell-shaped.\n",
    "\n",
    "2. The width of the \"bell\" gets smaller as we increase the number of Bernoulli trials. -->"
   ]
  },
  {
   "cell_type": "markdown",
   "metadata": {},
   "source": [
    "**Why?** To start, let's focus on the 1st observation."
   ]
  },
  {
   "cell_type": "markdown",
   "metadata": {},
   "source": [
    "Recall that the Binomial RV is the sum of independent Bernoulli RVs. Maybe we have a similar phenomena with other RVs?"
   ]
  },
  {
   "cell_type": "markdown",
   "metadata": {},
   "source": [
    "## Limit of the Sum of Uniform RVs"
   ]
  },
  {
   "cell_type": "code",
   "execution_count": null,
   "metadata": {
    "scrolled": false
   },
   "outputs": [],
   "source": []
  },
  {
   "cell_type": "code",
   "execution_count": null,
   "metadata": {},
   "outputs": [],
   "source": []
  },
  {
   "cell_type": "code",
   "execution_count": null,
   "metadata": {},
   "outputs": [],
   "source": []
  },
  {
   "cell_type": "code",
   "execution_count": null,
   "metadata": {},
   "outputs": [],
   "source": []
  },
  {
   "cell_type": "markdown",
   "metadata": {},
   "source": [
    "## Limit of the Sum of Exponential RVs"
   ]
  },
  {
   "cell_type": "code",
   "execution_count": null,
   "metadata": {},
   "outputs": [],
   "source": []
  },
  {
   "cell_type": "markdown",
   "metadata": {},
   "source": [
    "Fascinating! The average of RVs (themselves without a bell-shaped distribution) will approach a bell-shaped distribution as the number of RVs increases!\n",
    "\n",
    "This bell-shaped distribution is known as the **Gaussian random variable** and it has very important properties such as the **Central Limit Theorem (CLT)**."
   ]
  },
  {
   "cell_type": "markdown",
   "metadata": {},
   "source": [
    "___"
   ]
  },
  {
   "cell_type": "markdown",
   "metadata": {},
   "source": [
    "# Central Limit Theorem"
   ]
  },
  {
   "cell_type": "markdown",
   "metadata": {},
   "source": [
    "<div class=\"alert alert-info\">\n",
    "    <b>Central Limit Theorem</b>\n",
    "    \n",
    "The **Central Limit Theorem (CLT)** says (very roughly) that the **average** of a large number of almost *any* type of random variables will have the same type of distribution, called the **Gaussian** distribution.\n",
    "    \n",
    "</div>"
   ]
  },
  {
   "cell_type": "markdown",
   "metadata": {},
   "source": [
    "More formally, if $X_i, i=1,2,\\dots, N$, is a sequence of independent random variables with finite variance (to be defined later), then the distribution function of\n",
    "\n",
    "$$\\overline{X} = \\lim_{n\\longrightarrow\\infty} \\frac{1}{n} \\sum_{i=1}^n X_i$$"
   ]
  },
  {
   "cell_type": "markdown",
   "metadata": {},
   "source": [
    "The distribution for $\\overline{X}$ is called **Gaussian**."
   ]
  },
  {
   "cell_type": "markdown",
   "metadata": {},
   "source": [
    "The density function for a Gaussian random variable has a somewhat complicated form:\n",
    "\n",
    "$$f_X(x) = \\frac{1}{\\sqrt{2 \\pi \\sigma^2}}\\exp \\left\\{ - \\frac{(x-\\mu)^2}{2\\sigma^2} \\right\\},$$\n",
    "\n",
    "with parameters $\\mu$ and $\\sigma^2 \\ge 0$. \n",
    "\n",
    "* The parameter $\\mu$ is called the **mean** of the Gaussian distribution.\n",
    "* The parameter $\\sigma^2$ is called the **variance** of the Gaussian distribution.\n",
    "* The parameter $\\sigma$ is called the **standard deviation** of the Gaussian distribution."
   ]
  },
  {
   "cell_type": "markdown",
   "metadata": {},
   "source": [
    "* Sometimes the term **Normal** distribution is used to refer to the Gaussian random variable that has parameters $\\mu=0$ and $\\sigma^2=1$, so we will use the term Gaussian to refer to any random variable with this density function. \n",
    "\n",
    "(Also, \"Gaussian\" is more common in ECE. \"Normal\" is more common in Statistics and Math.)"
   ]
  },
  {
   "cell_type": "code",
   "execution_count": null,
   "metadata": {},
   "outputs": [],
   "source": []
  },
  {
   "cell_type": "code",
   "execution_count": null,
   "metadata": {},
   "outputs": [],
   "source": []
  },
  {
   "cell_type": "code",
   "execution_count": null,
   "metadata": {},
   "outputs": [],
   "source": []
  },
  {
   "cell_type": "code",
   "execution_count": null,
   "metadata": {
    "scrolled": true
   },
   "outputs": [],
   "source": []
  },
  {
   "cell_type": "code",
   "execution_count": null,
   "metadata": {},
   "outputs": [],
   "source": []
  },
  {
   "cell_type": "code",
   "execution_count": null,
   "metadata": {},
   "outputs": [],
   "source": []
  },
  {
   "cell_type": "code",
   "execution_count": null,
   "metadata": {},
   "outputs": [],
   "source": []
  }
 ],
 "metadata": {
  "kernelspec": {
   "display_name": "Python 3",
   "language": "python",
   "name": "python3"
  },
  "language_info": {
   "codemirror_mode": {
    "name": "ipython",
    "version": 3
   },
   "file_extension": ".py",
   "mimetype": "text/x-python",
   "name": "python",
   "nbconvert_exporter": "python",
   "pygments_lexer": "ipython3",
   "version": "3.8.8"
  },
  "latex_envs": {
   "LaTeX_envs_menu_present": true,
   "autoclose": false,
   "autocomplete": true,
   "bibliofile": "biblio.bib",
   "cite_by": "apalike",
   "current_citInitial": 1,
   "eqLabelWithNumbers": true,
   "eqNumInitial": 1,
   "hotkeys": {
    "equation": "Ctrl-E",
    "itemize": "Ctrl-I"
   },
   "labels_anchors": false,
   "latex_user_defs": false,
   "report_style_numbering": false,
   "user_envs_cfg": false
  },
  "varInspector": {
   "cols": {
    "lenName": 16,
    "lenType": 16,
    "lenVar": 40
   },
   "kernels_config": {
    "python": {
     "delete_cmd_postfix": "",
     "delete_cmd_prefix": "del ",
     "library": "var_list.py",
     "varRefreshCmd": "print(var_dic_list())"
    },
    "r": {
     "delete_cmd_postfix": ") ",
     "delete_cmd_prefix": "rm(",
     "library": "var_list.r",
     "varRefreshCmd": "cat(var_dic_list()) "
    }
   },
   "types_to_exclude": [
    "module",
    "function",
    "builtin_function_or_method",
    "instance",
    "_Feature"
   ],
   "window_display": false
  }
 },
 "nbformat": 4,
 "nbformat_minor": 4
}
